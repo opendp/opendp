{
 "cells": [
  {
   "cell_type": "markdown",
   "metadata": {},
   "source": [
    "### Privatizing Histograms\n",
    "\n",
    "Sometimes we want to release the counts of individual outcomes in a dataset.\n",
    "When plotted, this makes a histogram.\n",
    "\n",
    "The library currently has two approaches:\n",
    "1. Known category set `make_count_by_categories`\n",
    "2. Unknown category set `make_count_by`\n",
    "\n",
    "The next code block imports just handles boilerplate: imports, data loading, plotting."
   ]
  },
  {
   "cell_type": "code",
   "execution_count": 1,
   "metadata": {
    "pycharm": {
     "name": "#%%\n"
    }
   },
   "outputs": [],
   "source": [
    "import os\n",
    "\n",
    "from opendp.trans import *\n",
    "from opendp.meas import *\n",
    "from opendp.typing import *\n",
    "\n",
    "# public information\n",
    "col_names = [\"age\", \"sex\", \"educ\", \"race\", \"income\", \"married\"]\n",
    "\n",
    "data_path = os.path.join('.', 'data', 'PUMS_california_demographics_1000', 'data.csv')\n",
    "\n",
    "with open(data_path) as input_data:\n",
    "    data = input_data.read()\n",
    "\n",
    "def plot_histogram(sensitive_counts, released_counts):\n",
    "    \"\"\"Plot a histogram that compares true data against released data\"\"\"\n",
    "    import matplotlib.pyplot as plt\n",
    "    import matplotlib.ticker as ticker\n",
    "\n",
    "    fig = plt.figure()\n",
    "    ax = fig.add_axes([1,1,1,1])\n",
    "    plt.ylim([0,225])\n",
    "    tick_spacing = 1.\n",
    "    ax.xaxis.set_major_locator(ticker.MultipleLocator(tick_spacing))\n",
    "    plt.xlim(0,15)\n",
    "    width = .4\n",
    "\n",
    "    ax.bar(list([x+width for x in range(0, len(sensitive_counts))]), sensitive_counts, width=width, label='True Value')\n",
    "    ax.bar(list([x+2*width for x in range(0, len(released_counts))]), released_counts, width=width, label='DP Value')\n",
    "    ax.legend()\n",
    "    plt.title('Histogram of Income')\n",
    "    plt.xlabel('Income, in thousands')\n",
    "    plt.ylabel('Count')\n",
    "    plt.show()"
   ]
  },
  {
   "cell_type": "markdown",
   "metadata": {
    "pycharm": {
     "name": "#%% md\n"
    }
   },
   "source": [
    "### Private histogram via `make_count_by_categories`\n",
    "\n",
    "This approach is only applicable if the set of potential values that the data may take on is public information.\n",
    "If this information is not available, then use `make_count_by` instead.\n",
    "In this data, we know that the categories set is public information:\n",
    "strings consisting of the numbers between 1 and 20.\n",
    "\n",
    "The counting aggregator computes a vector of counts in the same order as the input categories.\n",
    "It also includes one extra count at the end of the vector,\n",
    "consisting of the number of elements that were not in the category set.\n",
    "\n",
    "You'll notice that `make_base_geometric` has an additional argument that explicitly sets the type of the domain, `D`.\n",
    "It defaults to `AllDomain[int]` which works in situations where the mechanism is noising a scalar.\n",
    "However, in this situation, we are noising a vector of scalars,\n",
    "and thus the appropriate domain is `VectorDomain[AllDomain[int]]`."
   ]
  },
  {
   "cell_type": "code",
   "execution_count": 2,
   "metadata": {
    "pycharm": {
     "name": "#%%\n"
    }
   },
   "outputs": [
    {
     "name": "stdout",
     "output_type": "stream",
     "text": [
      "Educational level counts:\n",
      " [33, 14, 38, 17, 24, 21, 31, 51, 201, 60, 165, 76, 178, 54, 24, 13, 0, 0, 0]\n",
      "DP Educational level counts:\n",
      " [32, 14, 38, 15, 24, 20, 29, 51, 198, 59, 166, 76, 178, 53, 22, 12, 5, 0, -1]\n",
      "DP estimate for the number of records that were not a member of the category set: -3\n"
     ]
    },
    {
     "data": {
      "text/plain": "<Figure size 432x288 with 1 Axes>",
      "image/png": "[encoded data removed]"
     },
     "metadata": {
      "needs_background": "light"
     },
     "output_type": "display_data"
    }
   ],
   "source": [
    "# public information\n",
    "categories = list(map(str, range(1, 20)))\n",
    "\n",
    "histogram = (\n",
    "    make_split_dataframe(separator=\",\", col_names=col_names) >>\n",
    "    make_select_column(key=\"educ\", TOA=str) >>\n",
    "    # Compute counts for each of the categories and null\n",
    "    make_count_by_categories(categories=categories)\n",
    ")\n",
    "\n",
    "noisy_histogram = histogram >> make_base_geometric(scale=1., D=VectorDomain[AllDomain[int]])\n",
    "\n",
    "sensitive_counts = histogram(data)\n",
    "released_counts = noisy_histogram(data)\n",
    "\n",
    "print(\"Educational level counts:\\n\", sensitive_counts[:-1])\n",
    "print(\"DP Educational level counts:\\n\", released_counts[:-1])\n",
    "\n",
    "print(\"DP estimate for the number of records that were not a member of the category set:\", released_counts[-1])\n",
    "\n",
    "plot_histogram(sensitive_counts, released_counts)"
   ]
  },
  {
   "cell_type": "markdown",
   "metadata": {
    "pycharm": {
     "name": "#%% md\n"
    }
   },
   "source": [
    "### Private histogram via `make_count_by`\n",
    "This approach is applicable when the set of categories is unknown.\n",
    "\n",
    "The stability mechanism, as currently written, samples from a continuous noise distribution,\n",
    "If you haven't already, please read about [floating-point behavior in the docs](https://docs.opendp.org/en/latest/user/measurement-constructors.html#floating-point).\n"
   ]
  },
  {
   "cell_type": "code",
   "execution_count": 3,
   "metadata": {
    "pycharm": {
     "name": "#%%\n"
    }
   },
   "outputs": [
    {
     "name": "stdout",
     "output_type": "stream",
     "text": [
      "Educational level counts:\n",
      " {'11': 165, '1': 33, '4': 17, '9': 201, '3': 38, '7': 31, '14': 54, '10': 60, '2': 14, '15': 24, '6': 21, '16': 13, '8': 51, '13': 178, '5': 24, '12': 76}\n",
      "DP Educational level counts:\n",
      " {'6': 21, '14': 52, '11': 166, '3': 39, '8': 53, '13': 178, '12': 77, '9': 202, '7': 31, '1': 32, '15': 24, '5': 25, '10': 60}\n"
     ]
    },
    {
     "data": {
      "text/plain": "<Figure size 432x288 with 1 Axes>",
      "image/png": "[encoded data removed]"
     },
     "metadata": {
      "needs_background": "light"
     },
     "output_type": "display_data"
    }
   ],
   "source": [
    "from opendp.mod import enable_features\n",
    "enable_features(\"floating-point\")\n",
    "\n",
    "histogram = (\n",
    "    make_split_dataframe(separator=\",\", col_names=col_names) >>\n",
    "    make_select_column(key=\"educ\", TOA=str) >>\n",
    "    make_resize(size=1000, constant=\"-1\") >>\n",
    "    # Compute counts for all unique values in the data\n",
    "    make_count_by(size=1000, TIA=str, MO=L1Distance[float])\n",
    ")\n",
    "\n",
    "noisy_histogram = histogram >> make_base_stability(size=1000, scale=1., threshold=20., MI=L1Distance[float], TIK=str)\n",
    "\n",
    "sensitive_counts = histogram(data)\n",
    "released_counts = noisy_histogram(data)\n",
    "# postprocess to make the results easier to compare\n",
    "postprocessed_counts = {k: round(v) for k, v in released_counts.items()}\n",
    "\n",
    "print(\"Educational level counts:\\n\", sensitive_counts)\n",
    "print(\"DP Educational level counts:\\n\", postprocessed_counts)\n",
    "\n",
    "def as_array(data):\n",
    "    return [data.get(k, 0) for k in categories]\n",
    "\n",
    "plot_histogram(as_array(sensitive_counts), as_array(released_counts))"
   ]
  }
 ],
 "metadata": {
  "kernelspec": {
   "display_name": "Python 3",
   "language": "python",
   "name": "python3"
  },
  "language_info": {
   "codemirror_mode": {
    "name": "ipython",
    "version": 3
   },
   "file_extension": ".py",
   "mimetype": "text/x-python",
   "name": "python",
   "nbconvert_exporter": "python",
   "pygments_lexer": "ipython3",
   "version": "3.8.12"
  }
 },
 "nbformat": 4,
 "nbformat_minor": 1
}