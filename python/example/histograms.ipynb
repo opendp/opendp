{
 "cells": [
  {
   "cell_type": "markdown",
   "metadata": {},
   "source": [
    "### Privatizing Histograms\n",
    "\n",
    "Sometimes we want to release the counts of individual outcomes in a dataset.\n",
    "When plotted, this makes a histogram.\n",
    "\n",
    "The library currently has two approaches:\n",
    "1. Known category set `make_count_by_categories`\n",
    "2. Unknown category set `make_count_by`\n",
    "\n",
    "The next code block imports just handles boilerplate: imports, data loading, plotting."
   ]
  },
  {
   "cell_type": "code",
   "execution_count": 1,
   "metadata": {
    "pycharm": {
     "name": "#%%\n"
    }
   },
   "outputs": [],
   "source": [
    "import os\n",
    "\n",
    "from opendp.measurements import *\n",
    "from opendp.mod import enable_features, binary_search_chain, Measurement, Transformation\n",
    "from opendp.transformations import *\n",
    "from opendp.typing import *\n",
    "enable_features(\"contrib\")\n",
    "max_influence = 1\n",
    "budget = (1., 1e-8)\n",
    "\n",
    "# public information\n",
    "col_names = [\"age\", \"sex\", \"educ\", \"race\", \"income\", \"married\"]\n",
    "data_path = os.path.join('.', 'data', 'PUMS_california_demographics_1000', 'data.csv')\n",
    "size = 1000\n",
    "\n",
    "with open(data_path) as input_data:\n",
    "    data = input_data.read()\n",
    "\n",
    "def plot_histogram(sensitive_counts, released_counts):\n",
    "    \"\"\"Plot a histogram that compares true data against released data\"\"\"\n",
    "    import matplotlib.pyplot as plt\n",
    "    import matplotlib.ticker as ticker\n",
    "\n",
    "    fig = plt.figure()\n",
    "    ax = fig.add_axes([1,1,1,1])\n",
    "    plt.ylim([0,225])\n",
    "    tick_spacing = 1.\n",
    "    ax.xaxis.set_major_locator(ticker.MultipleLocator(tick_spacing))\n",
    "    plt.xlim(0,15)\n",
    "    width = .4\n",
    "\n",
    "    ax.bar(list([x+width for x in range(0, len(sensitive_counts))]), sensitive_counts, width=width, label='True Value')\n",
    "    ax.bar(list([x+2*width for x in range(0, len(released_counts))]), released_counts, width=width, label='DP Value')\n",
    "    ax.legend()\n",
    "    plt.title('Histogram of Education Level')\n",
    "    plt.xlabel('Years of Education')\n",
    "    plt.ylabel('Count')\n",
    "    plt.show()"
   ]
  },
  {
   "cell_type": "markdown",
   "metadata": {
    "pycharm": {
     "name": "#%% md\n"
    }
   },
   "source": [
    "### Private histogram via `make_count_by_categories`\n",
    "\n",
    "This approach is only applicable if the set of potential values that the data may take on is public information.\n",
    "If this information is not available, then use `make_count_by` instead.\n",
    "It typically has greater utility than `make_count_by` until the size of the category set is greater than dataset size.\n",
    "In this data, we know that the category set is public information:\n",
    "strings consisting of the numbers between 1 and 20.\n",
    "\n",
    "The counting aggregator computes a vector of counts in the same order as the input categories.\n",
    "It also includes one extra count at the end of the vector,\n",
    "consisting of the number of elements that were not members of the category set.\n",
    "\n",
    "You'll notice that `make_base_discrete_laplace` has an additional argument that explicitly sets the type of the domain, `D`.\n",
    "It defaults to `AllDomain[int]` which works in situations where the mechanism is noising a scalar.\n",
    "However, in this situation, we are noising a vector of scalars,\n",
    "and thus the appropriate domain is `VectorDomain[AllDomain[int]]`."
   ]
  },
  {
   "cell_type": "code",
   "execution_count": 2,
   "metadata": {
    "pycharm": {
     "name": "#%%\n"
    }
   },
   "outputs": [
    {
     "name": "stdout",
     "output_type": "stream",
     "text": [
      "Educational level counts:\n",
      " [33, 14, 38, 17, 24, 21, 31, 51, 201, 60, 165, 76, 178, 54, 24, 13, 0, 0, 0]\n",
      "DP Educational level counts:\n",
      " [32, 13, 38, 17, 26, 21, 32, 51, 204, 62, 163, 77, 178, 55, 25, 14, 0, 0, 0]\n",
      "DP estimate for the number of records that were not a member of the category set: 0\n"
     ]
    },
    {
     "data": {
      "image/png": "[encoded data removed]",
      "text/plain": [
       "<Figure size 432x288 with 1 Axes>"
      ]
     },
     "metadata": {
      "needs_background": "light"
     },
     "output_type": "display_data"
    }
   ],
   "source": [
    "# public information\n",
    "categories = list(map(str, range(1, 20)))\n",
    "\n",
    "histogram = (\n",
    "    make_split_dataframe(separator=\",\", col_names=col_names) >>\n",
    "    make_select_column(key=\"educ\", TOA=str) >>\n",
    "    # Compute counts for each of the categories and null\n",
    "    make_count_by_categories(categories=categories)\n",
    ")\n",
    "\n",
    "noisy_histogram = binary_search_chain(\n",
    "    lambda s: histogram >> make_base_discrete_laplace(scale=s, D=VectorDomain[AllDomain[int]]),\n",
    "    d_in=max_influence, d_out=budget[0])\n",
    "\n",
    "sensitive_counts = histogram(data)\n",
    "released_counts = noisy_histogram(data)\n",
    "\n",
    "print(\"Educational level counts:\\n\", sensitive_counts[:-1])\n",
    "print(\"DP Educational level counts:\\n\", released_counts[:-1])\n",
    "\n",
    "print(\"DP estimate for the number of records that were not a member of the category set:\", released_counts[-1])\n",
    "\n",
    "plot_histogram(sensitive_counts, released_counts)"
   ]
  },
  {
   "cell_type": "markdown",
   "metadata": {
    "pycharm": {
     "name": "#%% md\n"
    }
   },
   "source": [
    "### Private histogram via `make_count_by`\n",
    "This approach is applicable when the set of categories is unknown or very large.\n",
    "Any categories with a noisy count less than a given threshold will be censored from the final release.\n",
    "The noise scale influences the epsilon parameter of the budget, and the threshold influences the delta parameter in the budget.\n",
    "\n",
    "`ptr` stands for Propose-Test-Release, a framework for censoring queries for which the local sensitivity is greater than some threshold.\n",
    "Any category with a count sufficiently small is censored from the release.\n",
    "\n",
    "It is sometimes referred to as a \"stability histogram\" because it only releases counts for \"stable\" categories that exist in all datasets that are considered \"neighboring\" to your private dataset.\n",
    "\n",
    "I start out by defining a function that finds the tightest noise scale and threshold for which the stability histogram is (d_in, d_out)-close.\n",
    "You may find this useful for your application."
   ]
  },
  {
   "cell_type": "code",
   "execution_count": 3,
   "metadata": {
    "pycharm": {
     "name": "#%%\n"
    }
   },
   "outputs": [],
   "source": [
    "def make_base_ptr_budget(\n",
    "        preprocess: Transformation,\n",
    "        d_in, d_out,\n",
    "        TK: RuntimeTypeDescriptor) -> Measurement:\n",
    "    \"\"\"Make a stability histogram that respects a given d_in, d_out.\n",
    "\n",
    "    :param preprocess: Transformation\n",
    "    :param d_in: Input distance to satisfy\n",
    "    :param d_out: Output distance to satisfy\n",
    "    :param TK: Type of Key (hashable)\n",
    "    \"\"\"\n",
    "    from opendp.mod import binary_search_param\n",
    "    from opendp.combinators import make_fix_delta\n",
    "    def privatize(s, t=1e8):\n",
    "        return make_fix_delta(preprocess >> make_base_ptr(scale=s, threshold=t, TK=TK), d_out[1])\n",
    "    \n",
    "    s = binary_search_param(lambda s: privatize(s=s), d_in, d_out)\n",
    "    t = binary_search_param(lambda t: privatize(s=s, t=t), d_in, d_out)\n",
    "\n",
    "    return privatize(s=s, t=t)\n"
   ]
  },
  {
   "cell_type": "markdown",
   "metadata": {},
   "source": [
    "I now use the `make_count_by_ptr_budget` constructor to release a private histogram on the education data.\n",
    "\n",
    "The stability mechanism, as currently written, samples from a continuous noise distribution.\n",
    "If you haven't already, please read about [floating-point behavior in the docs](https://docs.opendp.org/en/latest/user/measurement-constructors.html#floating-point).\n"
   ]
  },
  {
   "cell_type": "code",
   "execution_count": 4,
   "metadata": {
    "pycharm": {
     "name": "#%%\n"
    }
   },
   "outputs": [
    {
     "name": "stdout",
     "output_type": "stream",
     "text": [
      "Educational level counts:\n",
      " [33, 14, 38, 17, 24, 21, 31, 51, 201, 60, 165, 76, 178, 54, 24, 13, 0, 0, 0, 0]\n",
      "DP Educational level counts:\n",
      " {'8': 49, '14': 54, '10': 60, '9': 201, '11': 166, '7': 31, '15': 24, '1': 34, '5': 26, '13': 178, '12': 76, '3': 36, '6': 21}\n"
     ]
    },
    {
     "data": {
      "image/png": "[encoded data removed]",
      "text/plain": [
       "<Figure size 432x288 with 1 Axes>"
      ]
     },
     "metadata": {
      "needs_background": "light"
     },
     "output_type": "display_data"
    }
   ],
   "source": [
    "\n",
    "from opendp.mod import enable_features\n",
    "enable_features(\"floating-point\")\n",
    "\n",
    "preprocess = (\n",
    "    make_split_dataframe(separator=\",\", col_names=col_names) >>\n",
    "    make_select_column(key=\"educ\", TOA=str) >>\n",
    "    make_count_by(MO=L1Distance[float], TK=str, TV=float)\n",
    ")\n",
    "\n",
    "noisy_histogram = make_base_ptr_budget(\n",
    "    preprocess,\n",
    "    d_in=max_influence, d_out=budget,\n",
    "    TK=str)\n",
    "\n",
    "sensitive_counts = histogram(data)\n",
    "released_counts = noisy_histogram(data)\n",
    "# postprocess to make the results easier to compare\n",
    "postprocessed_counts = {k: round(v) for k, v in released_counts.items()}\n",
    "\n",
    "print(\"Educational level counts:\\n\", sensitive_counts)\n",
    "print(\"DP Educational level counts:\\n\", postprocessed_counts)\n",
    "\n",
    "def as_array(data):\n",
    "    return [data.get(k, 0) for k in categories]\n",
    "\n",
    "plot_histogram(sensitive_counts, as_array(released_counts))"
   ]
  }
 ],
 "metadata": {
  "interpreter": {
   "hash": "3220da548452ac41acb293d0d6efded0f046fab635503eb911c05f743e930f34"
  },
  "kernelspec": {
   "display_name": "Python 3.8.13 ('psi')",
   "language": "python",
   "name": "python3"
  },
  "language_info": {
   "codemirror_mode": {
    "name": "ipython",
    "version": 3
   },
   "file_extension": ".py",
   "mimetype": "text/x-python",
   "name": "python",
   "nbconvert_exporter": "python",
   "pygments_lexer": "ipython3",
   "version": "3.8.13"
  }
 },
 "nbformat": 4,
 "nbformat_minor": 1
}
