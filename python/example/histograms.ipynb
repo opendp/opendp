{
 "cells": [
  {
   "cell_type": "code",
   "execution_count": 1,
   "metadata": {
    "collapsed": true
   },
   "outputs": [],
   "source": [
    "from opendp.trans import *\n",
    "from opendp.meas import *\n",
    "from opendp.core import *\n",
    "from opendp.typing import *\n",
    "\n",
    "# establish data information\n",
    "data_path = os.path.join('.', 'data', 'PUMS_california_demographics_1000', 'data.csv')\n",
    "var_names = [\"age\", \"sex\", \"educ\", \"race\", \"income\", \"married\"]\n",
    "\n",
    "# TODO: Remove column headers\n",
    "with open(data_path) as input_data:\n",
    "    data = input_data.read()\n"
   ]
  },
  {
   "cell_type": "markdown",
   "source": [
    "### Privatizing Histograms\n",
    "\n",
    "Sometimes we will want to release the counts of individual outcomes in a dataset. When plotted, this\n",
    "makes a histogram. How can we do this in a differentially private way?"
   ],
   "metadata": {
    "collapsed": false
   }
  },
  {
   "cell_type": "code",
   "execution_count": 2,
   "outputs": [
    {
     "name": "stdout",
     "output_type": "stream",
     "text": [
      "Educational level counts:\n",
      " [33, 14, 38, 17, 24, 21, 31, 51, 201, 60, 165, 76, 178, 54, 24, 13, 0, 0, 0, 0]\n",
      "DP educational level counts:\n",
      " [30, 14, 40, 18, 24, 20, 31, 50, 197, 60, 164, 76, 181, 55, 24, 13, 0, -2, 0, 0]\n"
     ]
    }
   ],
   "source": [
    "preprocessor = (\n",
    "    # Convert data into Vec<Vec<String>>\n",
    "    make_split_dataframe(separator=\",\", col_names=var_names) >>\n",
    "    # Selects a column of df, Vec<str>\n",
    "    make_select_column(key=\"educ\", TOA=str) >>\n",
    "    # Cast the column as Vec<Int>\n",
    "    make_cast(TIA=str, TOA=int) >>\n",
    "    # Impute missing values to 0\n",
    "    make_impute_constant(0) >>\n",
    "    make_count_by_categories(categories=list(range(1,20)), MO=L1Distance[float]) # >>\n",
    "    # make_base_geometric(scale=1., bounds=(0,201), D=\"VectorDomain<AllDomain<i32>>\")\n",
    ")\n",
    "\n",
    "# TODO: include this in preprocessor once PR is merged that makes histogram return VectorDomain instead of SizedDomain\n",
    "res = preprocessor(data)\n",
    "print(\"Educational level counts:\\n\", res)\n",
    "\n",
    "dp_res = make_base_geometric(scale=1., D=VectorDomain[AllDomain[int]])(res)\n",
    "print(\"DP educational level counts:\\n\", dp_res)\n"
   ],
   "metadata": {
    "collapsed": false,
    "pycharm": {
     "name": "#%%\n"
    }
   }
  },
  {
   "cell_type": "code",
   "execution_count": 3,
   "outputs": [
    {
     "data": {
      "text/plain": "<Figure size 432x288 with 1 Axes>",
      "image/png": "[encoded data removed]"
     },
     "metadata": {
      "needs_background": "light"
     },
     "output_type": "display_data"
    }
   ],
   "source": [
    "import matplotlib.pyplot as plt\n",
    "import matplotlib.ticker as ticker\n",
    "\n",
    "fig = plt.figure()\n",
    "ax = fig.add_axes([1,1,1,1])\n",
    "plt.ylim([0,225])\n",
    "tick_spacing = 1.\n",
    "ax.xaxis.set_major_locator(ticker.MultipleLocator(tick_spacing))\n",
    "plt.xlim(0,15)\n",
    "width = .4\n",
    "\n",
    "ax.bar(list([x+width for x in range(0, len(res))]), res, width=width, label='True Value')\n",
    "ax.bar(list([x+2*width for x in range(0, len(dp_res))]), dp_res, width=width, label='DP Value')\n",
    "ax.legend()\n",
    "plt.title('Histogram of Income')\n",
    "plt.xlabel('Income, in thousands')\n",
    "plt.ylabel('Count')\n",
    "plt.show()\n"
   ],
   "metadata": {
    "collapsed": false,
    "pycharm": {
     "name": "#%%\n"
    }
   }
  }
 ],
 "metadata": {
  "kernelspec": {
   "display_name": "Python 3",
   "language": "python",
   "name": "python3"
  },
  "language_info": {
   "codemirror_mode": {
    "name": "ipython",
    "version": 2
   },
   "file_extension": ".py",
   "mimetype": "text/x-python",
   "name": "python",
   "nbconvert_exporter": "python",
   "pygments_lexer": "ipython2",
   "version": "2.7.6"
  }
 },
 "nbformat": 4,
 "nbformat_minor": 0
}