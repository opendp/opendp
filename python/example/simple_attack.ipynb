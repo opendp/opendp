{
 "cells": [
  {
   "cell_type": "markdown",
   "metadata": {},
   "source": [
    "# Simple Attack\n",
    "\n",
    "In this notebook, we will examine perhaps the simplest possible attack on an individual's private data and what the OpenDP library can do to mitigate it.\n",
    "\n",
    "## Loading the data\n",
    "\n",
    "The vetting process is currently underway for the code in the OpenDP Library.\n",
    "Any constructors that have not been vetted may still be accessed if you opt-in to \"contrib\"."
   ]
  },
  {
   "cell_type": "code",
   "execution_count": 13,
   "outputs": [],
   "source": [
    "from opendp.mod import enable_features\n",
    "enable_features('contrib')"
   ],
   "metadata": {
    "collapsed": false,
    "pycharm": {
     "name": "#%%\n"
    }
   }
  },
  {
   "cell_type": "markdown",
   "source": [
    "We begin with loading up the data."
   ],
   "metadata": {
    "collapsed": false
   }
  },
  {
   "cell_type": "code",
   "execution_count": 11,
   "outputs": [
    {
     "name": "stdout",
     "output_type": "stream",
     "text": [
      "['sex', 'age', 'educ', 'income', 'married', 'race']\n",
      "0,45,6,6000,1,1\n",
      "1,41,8,13000,1,2\n",
      "0,63,14,17810,1,1\n",
      "1,71,15,3600,1,4\n",
      "0,44,5,10000,0,1\n",
      "1,49,1,0,0,4\n"
     ]
    }
   ],
   "source": [
    "import os\n",
    "data_path = os.path.join('.', 'data', 'pums_10000.csv')\n",
    "\n",
    "with open(data_path) as input_file:\n",
    "    col_names = input_file.readline().strip().split(',')\n",
    "    data = input_file.read()\n",
    "\n",
    "print(col_names)\n",
    "print('\\n'.join(data.split('\\n')[:6]))"
   ],
   "metadata": {
    "collapsed": false,
    "pycharm": {
     "name": "#%%\n"
    }
   }
  },
  {
   "cell_type": "markdown",
   "source": [
    "The following code parse the data to get just a one vector of all the incomes.\n",
    "More details on it can be found at XXXX."
   ],
   "metadata": {
    "collapsed": false
   }
  },
  {
   "cell_type": "code",
   "execution_count": 19,
   "outputs": [
    {
     "name": "stdout",
     "output_type": "stream",
     "text": [
      "[6000, 13000, 17810, 3600, 10000, 0, 30530]\n",
      "<class 'list'>\n"
     ]
    }
   ],
   "source": [
    "from opendp.trans import make_split_dataframe, make_select_column, make_cast, make_impute_constant\n",
    "\n",
    "income_preprocessor = (\n",
    "    # Convert data into a dataframe where columns are of type Vec<str>\n",
    "    make_split_dataframe(separator=\",\", col_names=col_names) >>\n",
    "    # Selects a column of df, Vec<str>\n",
    "    make_select_column(key=\"income\", TOA=str)\n",
    ")\n",
    "\n",
    "# make a transformation that casts from a vector of strings to a vector of ints\n",
    "cast_str_int = (\n",
    "    # Cast Vec<str> to Vec<Option<int>>\n",
    "    make_cast(TIA=str, TOA=int) >>\n",
    "    # Replace any elements that failed to parse with 0, emitting a Vec<int>\n",
    "    make_impute_constant(0)\n",
    ")\n",
    "\n",
    "# replace the previous preprocessor: extend it with the caster\n",
    "income_preprocessor = income_preprocessor >> cast_str_int\n",
    "incomes = income_preprocessor(data)\n",
    "\n",
    "print(incomes[:7])"
   ],
   "metadata": {
    "collapsed": false,
    "pycharm": {
     "name": "#%%\n"
    }
   }
  },
  {
   "cell_type": "markdown",
   "source": [
    "## A simple attack\n",
    "\n",
    "Say there's an attacker who's target is the first person in our data (i.e. the first in the csv),\n",
    "and so he intends to learn his income."
   ],
   "metadata": {
    "collapsed": false
   }
  },
  {
   "cell_type": "code",
   "execution_count": null,
   "outputs": [],
   "source": [
    "person_of_interest = incomes[0]\n",
    "print('person of interest:\\n\\n{0}'.format(person_of_interest))"
   ],
   "metadata": {
    "collapsed": false,
    "pycharm": {
     "name": "#%%\n"
    }
   }
  },
  {
   "cell_type": "markdown",
   "source": [
    "Now consider the case that the attacker knows everything about the data, except for the person of interest's (POI) income, which is considered private.\n",
    "They can back out the individual's income very easily, just from asking for the mean overall income."
   ],
   "metadata": {
    "collapsed": false
   }
  },
  {
   "cell_type": "code",
   "execution_count": 20,
   "outputs": [
    {
     "name": "stdout",
     "output_type": "stream",
     "text": [
      "poi_income: 6000.0\n"
     ]
    }
   ],
   "source": [
    "# attacker information: he already knows everyone else's income, so he certainly compute the follwoing\n",
    "known_mean = np.mean(incomes[1:])\n",
    "known_obs = n_obs - 1\n",
    "\n",
    "# assume the attackers know legitimately the overall mean and number of people in the data...\n",
    "overall_mean = np.mean(incomes)\n",
    "n_obs = len(incomes)\n",
    "\n",
    "# back out POI's income\n",
    "poi_income = overall_mean * n_obs - known_obs * known_mean\n",
    "print('poi_income: {0}'.format(poi_income))"
   ],
   "metadata": {
    "collapsed": false,
    "pycharm": {
     "name": "#%%\n"
    }
   }
  },
  {
   "cell_type": "markdown",
   "source": [
    "The attacker now knows with certainty that the POI has an income of 6,000.\n",
    "\n",
    "\n",
    "## Using OpenDP\n",
    "Let's see what happens if the attacker were made to interact with the data through OpenDP and was given a privacy budget of $\\epsilon = 1$.\n",
    "We will assume that the attacker is reasonably familiar with differential privacy and believes that they should use tighter data bounds than they know are actually in the data in order to get a less noisy estimate.\n",
    "They will need to update their `known_mean` accordingly.\n",
    "\n",
    "We will also assume that the attacker will spend all of their privacy budget on a single query.\n",
    "This assumption can be changed by changing the `n_queries` variable below.\n",
    "\n",
    "We will be using `n_sims` to simulate the process a number of times to get a sense for various possible outcomes for the attacker.\n",
    "In practice, they would see the result of only one simulation.\n",
    "\n",
    "In this example, instead of just passing a scale into `make_base_geometric`,\n",
    "lets say I want whatever scale will make my measurement 1-epsilon DP.\n",
    "Again, I can use a search utility to find such a scale."
   ],
   "metadata": {
    "collapsed": false
   }
  },
  {
   "cell_type": "code",
   "execution_count": 41,
   "outputs": [
    {
     "ename": "OpenDPException",
     "evalue": "FFI(\"No match for concrete type i32 (TypeId { t: 13431306602944299956 })\")\n\t   0: backtrace::backtrace::trace\n\t   1: backtrace::capture::Backtrace::new_unresolved\n\t   2: _opendp_trans__make_sized_bounded_mean\n\t   3: _ffi_call_unix64\n\t   4: _ffi_call\n\t   5: __ctypes_callproc\n\t   6: _PyCFuncPtr_call\n\t   7: __PyObject_MakeTpCall\n\t   8: _call_function\n\t   9: __PyEval_EvalFrameDefault\n\t  10: __PyEval_EvalCodeWithName\n\t  11: __PyFunction_Vectorcall\n\t  12: _call_function\n\t  13: __PyEval_EvalFrameDefault\n\t  14: __PyEval_EvalCodeWithName\n\t  15: _PyEval_EvalCode\n\t  16: _builtin_exec\n\t  17: _cfunction_vectorcall_FASTCALL\n\t  18: _call_function\n\t  19: __PyEval_EvalFrameDefault\n\t  20: _gen_send_ex\n\t  21: __PyEval_EvalFrameDefault\n\t  22: _gen_send_ex\n\t  23: __PyEval_EvalFrameDefault\n\t  24: _gen_send_ex\n\t  25: _method_vectorcall_O\n\t  26: _call_function\n\t  27: __PyEval_EvalFrameDefault\n\t  28: _function_code_fastcall\n\t  29: _call_function\n\t  30: __PyEval_EvalFrameDefault\n\t  31: _function_code_fastcall\n\t  32: _call_function\n\t  33: __PyEval_EvalFrameDefault\n\t  34: __PyEval_EvalCodeWithName\n\t  35: __PyFunction_Vectorcall\n\t  36: _method_vectorcall\n\t  37: _PyVectorcall_Call\n\t  38: __PyEval_EvalFrameDefault\n\t  39: __PyEval_EvalCodeWithName\n\t  40: __PyFunction_Vectorcall\n\t  41: _method_vectorcall\n\t  42: _call_function\n\t  43: __PyEval_EvalFrameDefault\n\t  44: _gen_send_ex\n\t  45: _builtin_next\n\t  46: _cfunction_vectorcall_FASTCALL\n\t  47: _context_run\n\t  48: _cfunction_vectorcall_FASTCALL_KEYWORDS\n\t  49: _call_function\n\t  50: __PyEval_EvalFrameDefault\n\t  51: __PyEval_EvalCodeWithName\n\t  52: __PyFunction_Vectorcall\n\t  53: _call_function\n\t  54: __PyEval_EvalFrameDefault\n\t  55: _gen_send_ex\n\t  56: _builtin_next\n\t  57: _cfunction_vectorcall_FASTCALL\n\t  58: _context_run\n\t  59: _cfunction_vectorcall_FASTCALL_KEYWORDS\n\t  60: _call_function\n\t  61: __PyEval_EvalFrameDefault\n\t  62: __PyEval_EvalCodeWithName\n\t  63: __PyFunction_Vectorcall\n\t  64: _method_vectorcall\n\t  65: _call_function\n\t  66: __PyEval_EvalFrameDefault\n\t  67: _gen_send_ex\n\t  68: _builtin_next\n\t  69: _cfunction_vectorcall_FASTCALL\n\t  70: _context_run\n\t  71: _cfunction_vectorcall_FASTCALL_KEYWORDS\n\t  72: _call_function\n\t  73: __PyEval_EvalFrameDefault\n\t  74: __PyEval_EvalCodeWithName\n\t  75: __PyFunction_Vectorcall\n\t  76: _method_vectorcall\n\t  77: _PyVectorcall_Call\n\t  78: __PyEval_EvalFrameDefault\n\t  79: _gen_send_ex\n\t  80: _method_vectorcall_O\n\t  81: _call_function\n\t  82: __PyEval_EvalFrameDefault\n\t  83: _function_code_fastcall\n\t  84: _method_vectorcall\n\t  85: _context_run\n\t  86: _cfunction_vectorcall_FASTCALL_KEYWORDS\n\t  87: _call_function\n\t  88: __PyEval_EvalFrameDefault\n\t  89: __PyEval_EvalCodeWithName\n\t  90: __PyFunction_Vectorcall\n\t  91: __PyObject_FastCallDict\n\t  92: _partial_call\n\t  93: __PyObject_MakeTpCall\n\t  94: _call_function\n\t  95: __PyEval_EvalFrameDefault\n\t  96: _function_code_fastcall\n\t  97: _call_function\n\t  98: __PyEval_EvalFrameDefault\n\t  99: __PyEval_EvalCodeWithName\n\t 100: __PyFunction_Vectorcall\n\t 101: _context_run\n\t 102: _cfunction_vectorcall_FASTCALL_KEYWORDS\n\t 103: _PyVectorcall_Call\n\t 104: __PyEval_EvalFrameDefault\n\t 105: _function_code_fastcall\n\t 106: _call_function\n\t 107: __PyEval_EvalFrameDefault\n\t 108: _function_code_fastcall\n\t 109: _call_function\n\t 110: __PyEval_EvalFrameDefault\n\t 111: _function_code_fastcall\n\t 112: _call_function\n\t 113: __PyEval_EvalFrameDefault\n\t 114: _function_code_fastcall\n\t 115: _call_function\n\t 116: __PyEval_EvalFrameDefault\n\t 117: _function_code_fastcall\n\t 118: _call_function\n\t 119: __PyEval_EvalFrameDefault\n\t 120: __PyEval_EvalCodeWithName\n\t 121: __PyFunction_Vectorcall\n\t 122: _method_vectorcall\n\t 123: _call_function\n\t 124: __PyEval_EvalFrameDefault\n\t 125: __PyEval_EvalCodeWithName\n\t 126: _PyEval_EvalCode\n\t 127: _builtin_exec\n\t 128: _cfunction_vectorcall_FASTCALL\n\t 129: _call_function\n\t 130: __PyEval_EvalFrameDefault\n\t 131: __PyEval_EvalCodeWithName\n\t 132: __PyFunction_Vectorcall\n\t 133: _call_function\n\t 134: __PyEval_EvalFrameDefault\n\t 135: __PyEval_EvalCodeWithName\n\t 136: __PyFunction_Vectorcall\n\t 137: _PyVectorcall_Call\n\t 138: _pymain_run_module\n\t 139: _Py_RunMain\n\t 140: _pymain_main\n\t 141: _Py_BytesMain\n\t",
     "output_type": "error",
     "traceback": [
      "\u001B[0;31m---------------------------------------------------------------------------\u001B[0m",
      "\u001B[0;31mOpenDPException\u001B[0m                           Traceback (most recent call last)",
      "\u001B[0;32m<ipython-input-41-2737d801be18>\u001B[0m in \u001B[0;36m<module>\u001B[0;34m\u001B[0m\n\u001B[1;32m     33\u001B[0m     \u001B[0mmake_bounded_resize\u001B[0m\u001B[0;34m(\u001B[0m\u001B[0msize\u001B[0m\u001B[0;34m=\u001B[0m\u001B[0mcount_release\u001B[0m\u001B[0;34m,\u001B[0m \u001B[0mbounds\u001B[0m\u001B[0;34m=\u001B[0m\u001B[0mincome_bounds\u001B[0m\u001B[0;34m,\u001B[0m \u001B[0mconstant\u001B[0m\u001B[0;34m=\u001B[0m\u001B[0;36m10_000\u001B[0m\u001B[0;34m)\u001B[0m \u001B[0;34m>>\u001B[0m\u001B[0;34m\u001B[0m\u001B[0;34m\u001B[0m\u001B[0m\n\u001B[1;32m     34\u001B[0m     \u001B[0;31m# Compute the mean\u001B[0m\u001B[0;34m\u001B[0m\u001B[0;34m\u001B[0m\u001B[0;34m\u001B[0m\u001B[0m\n\u001B[0;32m---> 35\u001B[0;31m     \u001B[0mmake_sized_bounded_mean\u001B[0m\u001B[0;34m(\u001B[0m\u001B[0msize\u001B[0m\u001B[0;34m=\u001B[0m\u001B[0mcount_release\u001B[0m\u001B[0;34m,\u001B[0m \u001B[0mbounds\u001B[0m\u001B[0;34m=\u001B[0m\u001B[0mincome_bounds\u001B[0m\u001B[0;34m)\u001B[0m\u001B[0;34m\u001B[0m\u001B[0;34m\u001B[0m\u001B[0m\n\u001B[0m\u001B[1;32m     36\u001B[0m )\n\u001B[1;32m     37\u001B[0m \u001B[0;34m\u001B[0m\u001B[0m\n",
      "\u001B[0;32m/usr/local/lib/python3.8/site-packages/opendp/trans.py\u001B[0m in \u001B[0;36mmake_sized_bounded_mean\u001B[0;34m(size, bounds, T)\u001B[0m\n\u001B[1;32m    767\u001B[0m     \u001B[0mfunction\u001B[0m\u001B[0;34m.\u001B[0m\u001B[0mrestype\u001B[0m \u001B[0;34m=\u001B[0m \u001B[0mFfiResult\u001B[0m\u001B[0;34m\u001B[0m\u001B[0;34m\u001B[0m\u001B[0m\n\u001B[1;32m    768\u001B[0m \u001B[0;34m\u001B[0m\u001B[0m\n\u001B[0;32m--> 769\u001B[0;31m     \u001B[0;32mreturn\u001B[0m \u001B[0mc_to_py\u001B[0m\u001B[0;34m(\u001B[0m\u001B[0munwrap\u001B[0m\u001B[0;34m(\u001B[0m\u001B[0mfunction\u001B[0m\u001B[0;34m(\u001B[0m\u001B[0msize\u001B[0m\u001B[0;34m,\u001B[0m \u001B[0mbounds\u001B[0m\u001B[0;34m,\u001B[0m \u001B[0mT\u001B[0m\u001B[0;34m)\u001B[0m\u001B[0;34m,\u001B[0m \u001B[0mTransformation\u001B[0m\u001B[0;34m)\u001B[0m\u001B[0;34m)\u001B[0m\u001B[0;34m\u001B[0m\u001B[0;34m\u001B[0m\u001B[0m\n\u001B[0m\u001B[1;32m    770\u001B[0m \u001B[0;34m\u001B[0m\u001B[0m\n\u001B[1;32m    771\u001B[0m \u001B[0;34m\u001B[0m\u001B[0m\n",
      "\u001B[0;32m/usr/local/lib/python3.8/site-packages/opendp/_lib.py\u001B[0m in \u001B[0;36munwrap\u001B[0;34m(result, type_)\u001B[0m\n\u001B[1;32m    127\u001B[0m         \u001B[0;32mraise\u001B[0m \u001B[0mOpenDPException\u001B[0m\u001B[0;34m(\u001B[0m\u001B[0;34m\"Failed to free error.\"\u001B[0m\u001B[0;34m)\u001B[0m\u001B[0;34m\u001B[0m\u001B[0;34m\u001B[0m\u001B[0m\n\u001B[1;32m    128\u001B[0m \u001B[0;34m\u001B[0m\u001B[0m\n\u001B[0;32m--> 129\u001B[0;31m     \u001B[0;32mraise\u001B[0m \u001B[0mOpenDPException\u001B[0m\u001B[0;34m(\u001B[0m\u001B[0mvariant\u001B[0m\u001B[0;34m,\u001B[0m \u001B[0mmessage\u001B[0m\u001B[0;34m,\u001B[0m \u001B[0mbacktrace\u001B[0m\u001B[0;34m)\u001B[0m\u001B[0;34m\u001B[0m\u001B[0;34m\u001B[0m\u001B[0m\n\u001B[0m",
      "\u001B[0;31mOpenDPException\u001B[0m: FFI(\"No match for concrete type i32 (TypeId { t: 13431306602944299956 })\")\n\t   0: backtrace::backtrace::trace\n\t   1: backtrace::capture::Backtrace::new_unresolved\n\t   2: _opendp_trans__make_sized_bounded_mean\n\t   3: _ffi_call_unix64\n\t   4: _ffi_call\n\t   5: __ctypes_callproc\n\t   6: _PyCFuncPtr_call\n\t   7: __PyObject_MakeTpCall\n\t   8: _call_function\n\t   9: __PyEval_EvalFrameDefault\n\t  10: __PyEval_EvalCodeWithName\n\t  11: __PyFunction_Vectorcall\n\t  12: _call_function\n\t  13: __PyEval_EvalFrameDefault\n\t  14: __PyEval_EvalCodeWithName\n\t  15: _PyEval_EvalCode\n\t  16: _builtin_exec\n\t  17: _cfunction_vectorcall_FASTCALL\n\t  18: _call_function\n\t  19: __PyEval_EvalFrameDefault\n\t  20: _gen_send_ex\n\t  21: __PyEval_EvalFrameDefault\n\t  22: _gen_send_ex\n\t  23: __PyEval_EvalFrameDefault\n\t  24: _gen_send_ex\n\t  25: _method_vectorcall_O\n\t  26: _call_function\n\t  27: __PyEval_EvalFrameDefault\n\t  28: _function_code_fastcall\n\t  29: _call_function\n\t  30: __PyEval_EvalFrameDefault\n\t  31: _function_code_fastcall\n\t  32: _call_function\n\t  33: __PyEval_EvalFrameDefault\n\t  34: __PyEval_EvalCodeWithName\n\t  35: __PyFunction_Vectorcall\n\t  36: _method_vectorcall\n\t  37: _PyVectorcall_Call\n\t  38: __PyEval_EvalFrameDefault\n\t  39: __PyEval_EvalCodeWithName\n\t  40: __PyFunction_Vectorcall\n\t  41: _method_vectorcall\n\t  42: _call_function\n\t  43: __PyEval_EvalFrameDefault\n\t  44: _gen_send_ex\n\t  45: _builtin_next\n\t  46: _cfunction_vectorcall_FASTCALL\n\t  47: _context_run\n\t  48: _cfunction_vectorcall_FASTCALL_KEYWORDS\n\t  49: _call_function\n\t  50: __PyEval_EvalFrameDefault\n\t  51: __PyEval_EvalCodeWithName\n\t  52: __PyFunction_Vectorcall\n\t  53: _call_function\n\t  54: __PyEval_EvalFrameDefault\n\t  55: _gen_send_ex\n\t  56: _builtin_next\n\t  57: _cfunction_vectorcall_FASTCALL\n\t  58: _context_run\n\t  59: _cfunction_vectorcall_FASTCALL_KEYWORDS\n\t  60: _call_function\n\t  61: __PyEval_EvalFrameDefault\n\t  62: __PyEval_EvalCodeWithName\n\t  63: __PyFunction_Vectorcall\n\t  64: _method_vectorcall\n\t  65: _call_function\n\t  66: __PyEval_EvalFrameDefault\n\t  67: _gen_send_ex\n\t  68: _builtin_next\n\t  69: _cfunction_vectorcall_FASTCALL\n\t  70: _context_run\n\t  71: _cfunction_vectorcall_FASTCALL_KEYWORDS\n\t  72: _call_function\n\t  73: __PyEval_EvalFrameDefault\n\t  74: __PyEval_EvalCodeWithName\n\t  75: __PyFunction_Vectorcall\n\t  76: _method_vectorcall\n\t  77: _PyVectorcall_Call\n\t  78: __PyEval_EvalFrameDefault\n\t  79: _gen_send_ex\n\t  80: _method_vectorcall_O\n\t  81: _call_function\n\t  82: __PyEval_EvalFrameDefault\n\t  83: _function_code_fastcall\n\t  84: _method_vectorcall\n\t  85: _context_run\n\t  86: _cfunction_vectorcall_FASTCALL_KEYWORDS\n\t  87: _call_function\n\t  88: __PyEval_EvalFrameDefault\n\t  89: __PyEval_EvalCodeWithName\n\t  90: __PyFunction_Vectorcall\n\t  91: __PyObject_FastCallDict\n\t  92: _partial_call\n\t  93: __PyObject_MakeTpCall\n\t  94: _call_function\n\t  95: __PyEval_EvalFrameDefault\n\t  96: _function_code_fastcall\n\t  97: _call_function\n\t  98: __PyEval_EvalFrameDefault\n\t  99: __PyEval_EvalCodeWithName\n\t 100: __PyFunction_Vectorcall\n\t 101: _context_run\n\t 102: _cfunction_vectorcall_FASTCALL_KEYWORDS\n\t 103: _PyVectorcall_Call\n\t 104: __PyEval_EvalFrameDefault\n\t 105: _function_code_fastcall\n\t 106: _call_function\n\t 107: __PyEval_EvalFrameDefault\n\t 108: _function_code_fastcall\n\t 109: _call_function\n\t 110: __PyEval_EvalFrameDefault\n\t 111: _function_code_fastcall\n\t 112: _call_function\n\t 113: __PyEval_EvalFrameDefault\n\t 114: _function_code_fastcall\n\t 115: _call_function\n\t 116: __PyEval_EvalFrameDefault\n\t 117: _function_code_fastcall\n\t 118: _call_function\n\t 119: __PyEval_EvalFrameDefault\n\t 120: __PyEval_EvalCodeWithName\n\t 121: __PyFunction_Vectorcall\n\t 122: _method_vectorcall\n\t 123: _call_function\n\t 124: __PyEval_EvalFrameDefault\n\t 125: __PyEval_EvalCodeWithName\n\t 126: _PyEval_EvalCode\n\t 127: _builtin_exec\n\t 128: _cfunction_vectorcall_FASTCALL\n\t 129: _call_function\n\t 130: __PyEval_EvalFrameDefault\n\t 131: __PyEval_EvalCodeWithName\n\t 132: __PyFunction_Vectorcall\n\t 133: _call_function\n\t 134: __PyEval_EvalFrameDefault\n\t 135: __PyEval_EvalCodeWithName\n\t 136: __PyFunction_Vectorcall\n\t 137: _PyVectorcall_Call\n\t 138: _pymain_run_module\n\t 139: _Py_RunMain\n\t 140: _pymain_main\n\t 141: _Py_BytesMain\n\t"
     ]
    }
   ],
   "source": [
    "from opendp.mod import binary_search_chain\n",
    "from opendp.trans import make_clamp, make_bounded_sum, make_sized_bounded_mean, make_bounded_resize\n",
    "from opendp.meas import make_base_geometric\n",
    "\n",
    "\n",
    "max_influence = 1\n",
    "income_bounds = (0, 1000000)\n",
    "count_release = 100\n",
    "\n",
    "# bounded_income_sum = (\n",
    "#     income_preprocessor >>\n",
    "#     # Clamp income values\n",
    "#     make_clamp(bounds=income_bounds) >>\n",
    "#     # These bounds must be identical to the clamp bounds, otherwise chaining will fail\n",
    "#     make_bounded_sum(bounds=income_bounds)\n",
    "# )\n",
    "#\n",
    "#\n",
    "# dp_sum = binary_search_chain(\n",
    "#     lambda s: bounded_income_sum >> make_base_geometric(scale=s),\n",
    "#     d_in=max_influence,\n",
    "#     d_out=1.)\n",
    "#\n",
    "# # ...and make our 1-epsilon DP release\n",
    "# print(\"DP sum:\", dp_sum(data))\n",
    "\n",
    "mean_preprocessor = (\n",
    "    # Clamp age values\n",
    "    make_clamp(bounds=income_bounds) >>\n",
    "    # Resize the dataset to length `count_release`.\n",
    "    #     If there are fewer than `count_release` rows in the data, fill with a constant of 10_000.\n",
    "    #     If there are more than `count_release` rows in the data, only keep `count_release` rows\n",
    "    make_bounded_resize(size=count_release, bounds=income_bounds, constant=10_000) >>\n",
    "    # Compute the mean\n",
    "    make_sized_bounded_mean(size=count_release, bounds=income_bounds)\n",
    ")\n",
    "\n",
    "\n",
    "print(mean_preprocessor(incomes))"
   ],
   "metadata": {
    "collapsed": false,
    "pycharm": {
     "name": "#%%\n"
    }
   }
  },
  {
   "cell_type": "markdown",
   "source": [
    "\n",
    "Now here's the loop"
   ],
   "metadata": {
    "collapsed": false,
    "pycharm": {
     "name": "#%% md\n"
    }
   }
  },
  {
   "cell_type": "code",
   "execution_count": null,
   "outputs": [],
   "source": [
    "# update known_mean\n",
    "#known_mean = np.mean(np.clip(data.iloc[1:]['income'], 0, 100_000))\n",
    "\n",
    "# initialize vector to store estimated overall means\n",
    "n_sims = 10_000\n",
    "n_queries = 1\n",
    "poi_income_ests = []\n",
    "estimated_means = []\n",
    "\n",
    "# get estimates of overall means\n",
    "for i in range(n_sims):\n",
    "    query_means = []\n",
    "    for j in range(n_queries):\n",
    "        query_means.append(dp_mean(incomes))\n",
    "        # query_means.append(sn.dp_mean(\n",
    "        #     data = income,\n",
    "        #     privacy_usage = {'epsilon': 1/n_queries}))\n",
    "\n",
    "    # get estimates of POI income\n",
    "    estimated_means.append(np.mean(query_means))\n",
    "    poi_income_ests.append(estimated_means[i] * n_obs - known_obs * known_mean)"
   ],
   "metadata": {
    "collapsed": false,
    "pycharm": {
     "name": "#%%\n"
    }
   }
  },
  {
   "cell_type": "code",
   "execution_count": null,
   "outputs": [],
   "source": [
    "# get mean of estimates\n",
    "print('Known Mean Income (after truncation): {0}'.format(known_mean))\n",
    "print('Observed Mean Income: {0}'.format(np.mean(estimated_means)))\n",
    "print('Estimated POI Income: {0}'.format(np.mean(poi_income_ests)))\n",
    "print('True POI Income: {0}'.format(person_of_interest['income']))"
   ],
   "metadata": {
    "collapsed": false,
    "pycharm": {
     "name": "#%%\n"
    }
   }
  },
  {
   "cell_type": "markdown",
   "source": [
    "We see empirically that, in expectation, the attacker can get a reasonably good estimate of POI's income. However, they will rarely (if ever) get it exactly and would have no way of knowing if they did.\n",
    "\n",
    "Below is a plot showing an empirical distribution of estimates of POI income."
   ],
   "metadata": {
    "collapsed": false
   }
  },
  {
   "cell_type": "code",
   "execution_count": null,
   "outputs": [],
   "source": [
    "import warnings\n",
    "# import seaborn as sns\n",
    "sns = None\n",
    "\n",
    "# hide warning created by outstanding scipy.stats issue\n",
    "warnings.simplefilter(action='ignore', category=FutureWarning)\n",
    "\n",
    "# distribution of POI income\n",
    "ax = sns.distplot(poi_income_ests, kde = False, hist_kws = dict(edgecolor = 'black', linewidth = 1))\n",
    "ax.set(xlabel = 'Estimated POI income')"
   ],
   "metadata": {
    "collapsed": false,
    "pycharm": {
     "name": "#%%\n"
    }
   }
  },
  {
   "cell_type": "code",
   "execution_count": null,
   "outputs": [],
   "source": [],
   "metadata": {
    "collapsed": false,
    "pycharm": {
     "name": "#%%\n"
    }
   }
  }
 ],
 "metadata": {
  "file_extension": ".py",
  "kernelspec": {
   "display_name": "Python 3",
   "language": "python",
   "name": "python3"
  },
  "language_info": {
   "codemirror_mode": {
    "name": "ipython",
    "version": 3
   },
   "file_extension": ".py",
   "mimetype": "text/x-python",
   "name": "python",
   "nbconvert_exporter": "python",
   "pygments_lexer": "ipython3",
   "version": "3.8.2"
  },
  "mimetype": "text/x-python",
  "name": "python",
  "npconvert_exporter": "python",
  "pygments_lexer": "ipython3",
  "version": 3
 },
 "nbformat": 4,
 "nbformat_minor": 2
}