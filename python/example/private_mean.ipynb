{
 "cells": [
  {
   "cell_type": "code",
   "execution_count": 1,
   "metadata": {
    "collapsed": true
   },
   "outputs": [],
   "source": [
    "from opendp.trans import *\n",
    "from opendp.meas import *\n",
    "from opendp.core import *\n",
    "\n",
    "enable_features(\"floating-point\")\n",
    "\n",
    "# establish data information\n",
    "data_path = os.path.join('.', 'data', 'PUMS_california_demographics_1000', 'data.csv')\n",
    "var_names = [\"age\", \"sex\", \"educ\", \"race\", \"income\", \"married\", \"pid\"]\n",
    "\n",
    "# TODO: Remove column headers\n",
    "with open(data_path) as input_data:\n",
    "    data = input_data.read()"
   ]
  },
  {
   "cell_type": "code",
   "execution_count": 2,
   "outputs": [],
   "source": [
    "def _binary_search(predicate, start, end):\n",
    "    if start > end:\n",
    "        raise ValueError\n",
    "\n",
    "    if not predicate(end):\n",
    "        raise ValueError(\"no possible value in range\")\n",
    "\n",
    "    while True:\n",
    "        mid = (start + end) / 2\n",
    "        passes = predicate(mid)\n",
    "\n",
    "        if passes and end - start < .00001:\n",
    "            return mid\n",
    "\n",
    "        if passes:\n",
    "            end = mid\n",
    "        else:\n",
    "            start = mid\n",
    "\n",
    "def check_scale(scale, preprocessor, dataset_distance, epsilon):\n",
    "    \"\"\"\n",
    "    Return T/F\n",
    "    :param scale:\n",
    "    :param preprocessor:\n",
    "    :param dataset_distance:\n",
    "    :param epsilon:\n",
    "    :return:\n",
    "    \"\"\"\n",
    "    return (preprocessor >> make_base_laplace(scale)).check(dataset_distance, epsilon)\n"
   ],
   "metadata": {
    "collapsed": false,
    "pycharm": {
     "name": "#%%\n"
    }
   }
  },
  {
   "cell_type": "code",
   "execution_count": 5,
   "outputs": [],
   "source": [
    "def make_dp_mean(col_names, index, lower, upper, n, epsilon):\n",
    "    \"\"\"\n",
    "    Draft of a function to be used on the backend for DPCreator\n",
    "    :param index: Column index to select data from\n",
    "    :param data_type: Type to cast data to\n",
    "    :param lower: Lower bound for clamp\n",
    "    :param upper: Upper bound for clamp\n",
    "    :param n: Estimated number of values in data\n",
    "    :param epsilon: Privacy budget\n",
    "    :return:\n",
    "    \"\"\"\n",
    "    preprocessor = (\n",
    "        # Convert data into Vec<Vec<String>>\n",
    "        make_split_dataframe(separator=\",\", col_names=col_names) # >>\n",
    "        # Selects a column of df, Vec<str>\n",
    "        # make_select_column(key=index, T=str) # >>\n",
    "        # Cast the column as Vec<Optional<Float>>\n",
    "        # make_cast(TI=str, TO=float) # >>\n",
    "        # Impute missing values to 0 Vec<Float>\n",
    "        # make_impute_constant(0.) >>\n",
    "        # Clamp age values\n",
    "        # make_clamp(lower, upper) >>\n",
    "        # make_resize_bounded(0., n, lower, upper) >>\n",
    "        # make_bounded_mean(lower, upper, n=n, T=float)\n",
    "    )\n",
    "    scale = _binary_search(lambda s: check_scale(s, preprocessor, 1, epsilon), 0., 100.)\n",
    "    preprocessor = preprocessor >> make_base_laplace(scale)\n",
    "    return preprocessor(data)\n",
    "\n"
   ],
   "metadata": {
    "collapsed": false,
    "pycharm": {
     "name": "#%%\n"
    }
   }
  },
  {
   "cell_type": "code",
   "execution_count": 6,
   "outputs": [
    {
     "ename": "OpenDPException",
     "evalue": "DomainMismatch(\"Intermediate domain mismatch\")\n\t   0: backtrace::backtrace::libunwind::trace\n\t             at /Users/ethancowan/.cargo/registry/src/github.com-1ecc6299db9ec823/backtrace-0.3.61/src/backtrace/libunwind.rs:90:5\n\t      backtrace::backtrace::trace_unsynchronized\n\t             at /Users/ethancowan/.cargo/registry/src/github.com-1ecc6299db9ec823/backtrace-0.3.61/src/backtrace/mod.rs:66:5\n\t   1: backtrace::backtrace::trace\n\t             at /Users/ethancowan/.cargo/registry/src/github.com-1ecc6299db9ec823/backtrace-0.3.61/src/backtrace/mod.rs:53:14\n\t   2: backtrace::capture::Backtrace::create\n\t             at /Users/ethancowan/.cargo/registry/src/github.com-1ecc6299db9ec823/backtrace-0.3.61/src/capture.rs:176:9\n\t   3: backtrace::capture::Backtrace::new_unresolved\n\t             at /Users/ethancowan/.cargo/registry/src/github.com-1ecc6299db9ec823/backtrace-0.3.61/src/capture.rs:170:9\n\t   4: opendp::comb::chain::make_chain_mt\n\t             at /Users/ethancowan/IdeaProjects/opendp/rust/opendp/src/comb/chain/mod.rs:19:16\n\t   5: opendp_comb__make_chain_mt\n\t             at /Users/ethancowan/IdeaProjects/opendp/rust/opendp-ffi/src/comb/mod.rs:10:5\n\t   6: _ffi_call_unix64\n\t   7: _ffi_call\n\t   8: __ctypes_callproc\n\t   9: _PyCFuncPtr_call\n\t  10: __PyObject_MakeTpCall\n\t  11: _call_function\n\t  12: __PyEval_EvalFrameDefault\n\t  13: _function_code_fastcall\n\t  14: _call_function\n\t  15: __PyEval_EvalFrameDefault\n\t  16: _function_code_fastcall\n\t  17: __PyObject_FastCall_Prepend\n\t  18: _call_maybe\n\t  19: _slot_nb_rshift\n\t  20: _binary_op1\n\t  21: _binary_op\n\t  22: __PyEval_EvalFrameDefault\n\t  23: _function_code_fastcall\n\t  24: _call_function\n\t  25: __PyEval_EvalFrameDefault\n\t  26: __PyEval_EvalCodeWithName\n\t  27: __PyFunction_Vectorcall\n\t  28: _call_function\n\t  29: __PyEval_EvalFrameDefault\n\t  30: _function_code_fastcall\n\t  31: _call_function\n\t  32: __PyEval_EvalFrameDefault\n\t  33: __PyEval_EvalCodeWithName\n\t  34: __PyFunction_Vectorcall\n\t  35: _call_function\n\t  36: __PyEval_EvalFrameDefault\n\t  37: __PyEval_EvalCodeWithName\n\t  38: _PyEval_EvalCode\n\t  39: _builtin_exec\n\t  40: _cfunction_vectorcall_FASTCALL\n\t  41: _call_function\n\t  42: __PyEval_EvalFrameDefault\n\t  43: _gen_send_ex\n\t  44: __PyEval_EvalFrameDefault\n\t  45: _gen_send_ex\n\t  46: __PyEval_EvalFrameDefault\n\t  47: _gen_send_ex\n\t  48: _method_vectorcall_O\n\t  49: _call_function\n\t  50: __PyEval_EvalFrameDefault\n\t  51: _function_code_fastcall\n\t  52: _call_function\n\t  53: __PyEval_EvalFrameDefault\n\t  54: _function_code_fastcall\n\t  55: _call_function\n\t  56: __PyEval_EvalFrameDefault\n\t  57: __PyEval_EvalCodeWithName\n\t  58: __PyFunction_Vectorcall\n\t  59: _method_vectorcall\n\t  60: _PyVectorcall_Call\n\t  61: __PyEval_EvalFrameDefault\n\t  62: __PyEval_EvalCodeWithName\n\t  63: __PyFunction_Vectorcall\n\t  64: _method_vectorcall\n\t  65: _call_function\n\t  66: __PyEval_EvalFrameDefault\n\t  67: _gen_send_ex\n\t  68: __PyEval_EvalFrameDefault\n\t  69: _gen_send_ex\n\t  70: __PyEval_EvalFrameDefault\n\t  71: _gen_send_ex\n\t  72: __PyEval_EvalFrameDefault\n\t  73: _gen_send_ex\n\t  74: __PyEval_EvalFrameDefault\n\t  75: _gen_send_ex\n\t  76: _task_step\n\t  77: _TaskWakeupMethWrapper_call\n\t  78: __PyObject_MakeTpCall\n\t  79: _context_run\n\t  80: _cfunction_vectorcall_FASTCALL_KEYWORDS\n\t  81: _PyVectorcall_Call\n\t  82: __PyEval_EvalFrameDefault\n\t  83: _function_code_fastcall\n\t  84: _call_function\n\t  85: __PyEval_EvalFrameDefault\n\t  86: _function_code_fastcall\n\t  87: _call_function\n\t  88: __PyEval_EvalFrameDefault\n\t  89: _function_code_fastcall\n\t  90: _call_function\n\t  91: __PyEval_EvalFrameDefault\n\t  92: _function_code_fastcall\n\t  93: _call_function\n\t  94: __PyEval_EvalFrameDefault\n\t  95: _function_code_fastcall\n\t  96: _call_function\n\t  97: __PyEval_EvalFrameDefault\n\t  98: __PyEval_EvalCodeWithName\n\t  99: __PyFunction_Vectorcall\n\t 100: _method_vectorcall\n\t 101: _call_function\n\t 102: __PyEval_EvalFrameDefault\n\t 103: __PyEval_EvalCodeWithName\n\t 104: _PyEval_EvalCode\n\t 105: _builtin_exec\n\t 106: _cfunction_vectorcall_FASTCALL\n\t 107: _call_function\n\t 108: __PyEval_EvalFrameDefault\n\t 109: __PyEval_EvalCodeWithName\n\t 110: __PyFunction_Vectorcall\n\t 111: _call_function\n\t 112: __PyEval_EvalFrameDefault\n\t 113: __PyEval_EvalCodeWithName\n\t 114: __PyFunction_Vectorcall\n\t 115: _PyVectorcall_Call\n\t 116: _pymain_run_module\n\t 117: _Py_RunMain\n\t 118: _pymain_main\n\t 119: _Py_BytesMain\n\t",
     "output_type": "error",
     "traceback": [
      "\u001B[0;31m---------------------------------------------------------------------------\u001B[0m",
      "\u001B[0;31mOpenDPException\u001B[0m                           Traceback (most recent call last)",
      "\u001B[0;32m/var/folders/4s/j9k238qs6wbcv8s2psqnyzh40000gp/T/ipykernel_57491/2746611660.py\u001B[0m in \u001B[0;36m<module>\u001B[0;34m\u001B[0m\n\u001B[1;32m      1\u001B[0m \u001B[0mepsilon\u001B[0m \u001B[0;34m=\u001B[0m \u001B[0;36m1.\u001B[0m\u001B[0;34m\u001B[0m\u001B[0;34m\u001B[0m\u001B[0m\n\u001B[1;32m      2\u001B[0m \u001B[0mcol_names\u001B[0m \u001B[0;34m=\u001B[0m \u001B[0;34m[\u001B[0m\u001B[0;34m\"A\"\u001B[0m\u001B[0;34m,\u001B[0m\u001B[0;34m\"B\"\u001B[0m\u001B[0;34m,\u001B[0m\u001B[0;34m\"C\"\u001B[0m\u001B[0;34m,\u001B[0m\u001B[0;34m\"D\"\u001B[0m\u001B[0;34m,\u001B[0m\u001B[0;34m\"E\"\u001B[0m\u001B[0;34m]\u001B[0m\u001B[0;34m\u001B[0m\u001B[0;34m\u001B[0m\u001B[0m\n\u001B[0;32m----> 3\u001B[0;31m \u001B[0mp\u001B[0m \u001B[0;34m=\u001B[0m \u001B[0mmake_dp_mean\u001B[0m\u001B[0;34m(\u001B[0m\u001B[0mcol_names\u001B[0m\u001B[0;34m,\u001B[0m \u001B[0;34m\"A\"\u001B[0m\u001B[0;34m,\u001B[0m \u001B[0;36m0.\u001B[0m\u001B[0;34m,\u001B[0m \u001B[0;36m1000000.\u001B[0m\u001B[0;34m,\u001B[0m \u001B[0;36m1000\u001B[0m\u001B[0;34m,\u001B[0m \u001B[0mepsilon\u001B[0m\u001B[0;34m)\u001B[0m\u001B[0;34m\u001B[0m\u001B[0;34m\u001B[0m\u001B[0m\n\u001B[0m\u001B[1;32m      4\u001B[0m \u001B[0mres\u001B[0m \u001B[0;34m=\u001B[0m \u001B[0mp\u001B[0m\u001B[0;34m(\u001B[0m\u001B[0mdata\u001B[0m\u001B[0;34m)\u001B[0m\u001B[0;34m\u001B[0m\u001B[0;34m\u001B[0m\u001B[0m\n\u001B[1;32m      5\u001B[0m \u001B[0mprint\u001B[0m\u001B[0;34m(\u001B[0m\u001B[0;34mf\"Epsilon: {epsilon}\\nDP Mean: {res}\"\u001B[0m\u001B[0;34m)\u001B[0m\u001B[0;34m\u001B[0m\u001B[0;34m\u001B[0m\u001B[0m\n",
      "\u001B[0;32m/var/folders/4s/j9k238qs6wbcv8s2psqnyzh40000gp/T/ipykernel_57491/4187606108.py\u001B[0m in \u001B[0;36mmake_dp_mean\u001B[0;34m(col_names, index, lower, upper, n, epsilon)\u001B[0m\n\u001B[1;32m     24\u001B[0m         \u001B[0;31m# make_bounded_mean(lower, upper, n=n, T=float)\u001B[0m\u001B[0;34m\u001B[0m\u001B[0;34m\u001B[0m\u001B[0;34m\u001B[0m\u001B[0m\n\u001B[1;32m     25\u001B[0m     )\n\u001B[0;32m---> 26\u001B[0;31m     \u001B[0mscale\u001B[0m \u001B[0;34m=\u001B[0m \u001B[0m_binary_search\u001B[0m\u001B[0;34m(\u001B[0m\u001B[0;32mlambda\u001B[0m \u001B[0ms\u001B[0m\u001B[0;34m:\u001B[0m \u001B[0mcheck_scale\u001B[0m\u001B[0;34m(\u001B[0m\u001B[0ms\u001B[0m\u001B[0;34m,\u001B[0m \u001B[0mpreprocessor\u001B[0m\u001B[0;34m,\u001B[0m \u001B[0;36m1.\u001B[0m\u001B[0;34m,\u001B[0m \u001B[0mepsilon\u001B[0m\u001B[0;34m)\u001B[0m\u001B[0;34m,\u001B[0m \u001B[0;36m0.\u001B[0m\u001B[0;34m,\u001B[0m \u001B[0;36m100.\u001B[0m\u001B[0;34m)\u001B[0m\u001B[0;34m\u001B[0m\u001B[0;34m\u001B[0m\u001B[0m\n\u001B[0m\u001B[1;32m     27\u001B[0m     \u001B[0mpreprocessor\u001B[0m \u001B[0;34m=\u001B[0m \u001B[0mpreprocessor\u001B[0m \u001B[0;34m>>\u001B[0m \u001B[0mmake_base_laplace\u001B[0m\u001B[0;34m(\u001B[0m\u001B[0mscale\u001B[0m\u001B[0;34m)\u001B[0m\u001B[0;34m\u001B[0m\u001B[0;34m\u001B[0m\u001B[0m\n\u001B[1;32m     28\u001B[0m     \u001B[0;32mreturn\u001B[0m \u001B[0mpreprocessor\u001B[0m\u001B[0;34m(\u001B[0m\u001B[0mdata\u001B[0m\u001B[0;34m)\u001B[0m\u001B[0;34m\u001B[0m\u001B[0;34m\u001B[0m\u001B[0m\n",
      "\u001B[0;32m/var/folders/4s/j9k238qs6wbcv8s2psqnyzh40000gp/T/ipykernel_57491/1624027099.py\u001B[0m in \u001B[0;36m_binary_search\u001B[0;34m(predicate, start, end)\u001B[0m\n\u001B[1;32m      3\u001B[0m         \u001B[0;32mraise\u001B[0m \u001B[0mValueError\u001B[0m\u001B[0;34m\u001B[0m\u001B[0;34m\u001B[0m\u001B[0m\n\u001B[1;32m      4\u001B[0m \u001B[0;34m\u001B[0m\u001B[0m\n\u001B[0;32m----> 5\u001B[0;31m     \u001B[0;32mif\u001B[0m \u001B[0;32mnot\u001B[0m \u001B[0mpredicate\u001B[0m\u001B[0;34m(\u001B[0m\u001B[0mend\u001B[0m\u001B[0;34m)\u001B[0m\u001B[0;34m:\u001B[0m\u001B[0;34m\u001B[0m\u001B[0;34m\u001B[0m\u001B[0m\n\u001B[0m\u001B[1;32m      6\u001B[0m         \u001B[0;32mraise\u001B[0m \u001B[0mValueError\u001B[0m\u001B[0;34m(\u001B[0m\u001B[0;34m\"no possible value in range\"\u001B[0m\u001B[0;34m)\u001B[0m\u001B[0;34m\u001B[0m\u001B[0;34m\u001B[0m\u001B[0m\n\u001B[1;32m      7\u001B[0m \u001B[0;34m\u001B[0m\u001B[0m\n",
      "\u001B[0;32m/var/folders/4s/j9k238qs6wbcv8s2psqnyzh40000gp/T/ipykernel_57491/4187606108.py\u001B[0m in \u001B[0;36m<lambda>\u001B[0;34m(s)\u001B[0m\n\u001B[1;32m     24\u001B[0m         \u001B[0;31m# make_bounded_mean(lower, upper, n=n, T=float)\u001B[0m\u001B[0;34m\u001B[0m\u001B[0;34m\u001B[0m\u001B[0;34m\u001B[0m\u001B[0m\n\u001B[1;32m     25\u001B[0m     )\n\u001B[0;32m---> 26\u001B[0;31m     \u001B[0mscale\u001B[0m \u001B[0;34m=\u001B[0m \u001B[0m_binary_search\u001B[0m\u001B[0;34m(\u001B[0m\u001B[0;32mlambda\u001B[0m \u001B[0ms\u001B[0m\u001B[0;34m:\u001B[0m \u001B[0mcheck_scale\u001B[0m\u001B[0;34m(\u001B[0m\u001B[0ms\u001B[0m\u001B[0;34m,\u001B[0m \u001B[0mpreprocessor\u001B[0m\u001B[0;34m,\u001B[0m \u001B[0;36m1.\u001B[0m\u001B[0;34m,\u001B[0m \u001B[0mepsilon\u001B[0m\u001B[0;34m)\u001B[0m\u001B[0;34m,\u001B[0m \u001B[0;36m0.\u001B[0m\u001B[0;34m,\u001B[0m \u001B[0;36m100.\u001B[0m\u001B[0;34m)\u001B[0m\u001B[0;34m\u001B[0m\u001B[0;34m\u001B[0m\u001B[0m\n\u001B[0m\u001B[1;32m     27\u001B[0m     \u001B[0mpreprocessor\u001B[0m \u001B[0;34m=\u001B[0m \u001B[0mpreprocessor\u001B[0m \u001B[0;34m>>\u001B[0m \u001B[0mmake_base_laplace\u001B[0m\u001B[0;34m(\u001B[0m\u001B[0mscale\u001B[0m\u001B[0;34m)\u001B[0m\u001B[0;34m\u001B[0m\u001B[0;34m\u001B[0m\u001B[0m\n\u001B[1;32m     28\u001B[0m     \u001B[0;32mreturn\u001B[0m \u001B[0mpreprocessor\u001B[0m\u001B[0;34m(\u001B[0m\u001B[0mdata\u001B[0m\u001B[0;34m)\u001B[0m\u001B[0;34m\u001B[0m\u001B[0;34m\u001B[0m\u001B[0m\n",
      "\u001B[0;32m/var/folders/4s/j9k238qs6wbcv8s2psqnyzh40000gp/T/ipykernel_57491/1624027099.py\u001B[0m in \u001B[0;36mcheck_scale\u001B[0;34m(scale, preprocessor, dataset_distance, epsilon)\u001B[0m\n\u001B[1;32m     27\u001B[0m     \u001B[0;34m:\u001B[0m\u001B[0;32mreturn\u001B[0m\u001B[0;34m:\u001B[0m\u001B[0;34m\u001B[0m\u001B[0;34m\u001B[0m\u001B[0m\n\u001B[1;32m     28\u001B[0m     \"\"\"\n\u001B[0;32m---> 29\u001B[0;31m     \u001B[0;32mreturn\u001B[0m \u001B[0;34m(\u001B[0m\u001B[0mpreprocessor\u001B[0m \u001B[0;34m>>\u001B[0m \u001B[0mmake_base_laplace\u001B[0m\u001B[0;34m(\u001B[0m\u001B[0mscale\u001B[0m\u001B[0;34m)\u001B[0m\u001B[0;34m)\u001B[0m\u001B[0;34m.\u001B[0m\u001B[0mcheck\u001B[0m\u001B[0;34m(\u001B[0m\u001B[0mdataset_distance\u001B[0m\u001B[0;34m,\u001B[0m \u001B[0mepsilon\u001B[0m\u001B[0;34m)\u001B[0m\u001B[0;34m\u001B[0m\u001B[0;34m\u001B[0m\u001B[0m\n\u001B[0m\u001B[1;32m     30\u001B[0m \u001B[0;34m\u001B[0m\u001B[0m\n\u001B[1;32m     31\u001B[0m \u001B[0;34m\u001B[0m\u001B[0m\n",
      "\u001B[0;32m~/IdeaProjects/opendp/python/src/opendp/mod.py\u001B[0m in \u001B[0;36m__rshift__\u001B[0;34m(self, other)\u001B[0m\n\u001B[1;32m    192\u001B[0m         \u001B[0;32mif\u001B[0m \u001B[0misinstance\u001B[0m\u001B[0;34m(\u001B[0m\u001B[0mother\u001B[0m\u001B[0;34m,\u001B[0m \u001B[0mMeasurement\u001B[0m\u001B[0;34m)\u001B[0m\u001B[0;34m:\u001B[0m\u001B[0;34m\u001B[0m\u001B[0;34m\u001B[0m\u001B[0m\n\u001B[1;32m    193\u001B[0m             \u001B[0;32mfrom\u001B[0m \u001B[0mopendp\u001B[0m\u001B[0;34m.\u001B[0m\u001B[0mcomb\u001B[0m \u001B[0;32mimport\u001B[0m \u001B[0mmake_chain_mt\u001B[0m\u001B[0;34m\u001B[0m\u001B[0;34m\u001B[0m\u001B[0m\n\u001B[0;32m--> 194\u001B[0;31m             \u001B[0;32mreturn\u001B[0m \u001B[0mmake_chain_mt\u001B[0m\u001B[0;34m(\u001B[0m\u001B[0mother\u001B[0m\u001B[0;34m,\u001B[0m \u001B[0mself\u001B[0m\u001B[0;34m)\u001B[0m\u001B[0;34m\u001B[0m\u001B[0;34m\u001B[0m\u001B[0m\n\u001B[0m\u001B[1;32m    195\u001B[0m \u001B[0;34m\u001B[0m\u001B[0m\n\u001B[1;32m    196\u001B[0m         \u001B[0;32mif\u001B[0m \u001B[0misinstance\u001B[0m\u001B[0;34m(\u001B[0m\u001B[0mother\u001B[0m\u001B[0;34m,\u001B[0m \u001B[0mTransformation\u001B[0m\u001B[0;34m)\u001B[0m\u001B[0;34m:\u001B[0m\u001B[0;34m\u001B[0m\u001B[0;34m\u001B[0m\u001B[0m\n",
      "\u001B[0;32m~/IdeaProjects/opendp/python/src/opendp/comb.py\u001B[0m in \u001B[0;36mmake_chain_mt\u001B[0;34m(measurement, transformation)\u001B[0m\n\u001B[1;32m     32\u001B[0m     \u001B[0mfunction\u001B[0m\u001B[0;34m.\u001B[0m\u001B[0mrestype\u001B[0m \u001B[0;34m=\u001B[0m \u001B[0mFfiResult\u001B[0m\u001B[0;34m\u001B[0m\u001B[0;34m\u001B[0m\u001B[0m\n\u001B[1;32m     33\u001B[0m \u001B[0;34m\u001B[0m\u001B[0m\n\u001B[0;32m---> 34\u001B[0;31m     \u001B[0;32mreturn\u001B[0m \u001B[0mc_to_py\u001B[0m\u001B[0;34m(\u001B[0m\u001B[0munwrap\u001B[0m\u001B[0;34m(\u001B[0m\u001B[0mfunction\u001B[0m\u001B[0;34m(\u001B[0m\u001B[0mmeasurement\u001B[0m\u001B[0;34m,\u001B[0m \u001B[0mtransformation\u001B[0m\u001B[0;34m)\u001B[0m\u001B[0;34m,\u001B[0m \u001B[0mMeasurement\u001B[0m\u001B[0;34m)\u001B[0m\u001B[0;34m)\u001B[0m\u001B[0;34m\u001B[0m\u001B[0;34m\u001B[0m\u001B[0m\n\u001B[0m\u001B[1;32m     35\u001B[0m \u001B[0;34m\u001B[0m\u001B[0m\n\u001B[1;32m     36\u001B[0m \u001B[0;34m\u001B[0m\u001B[0m\n",
      "\u001B[0;32m~/IdeaProjects/opendp/python/src/opendp/_lib.py\u001B[0m in \u001B[0;36munwrap\u001B[0;34m(result, type_)\u001B[0m\n\u001B[1;32m    127\u001B[0m         \u001B[0;32mraise\u001B[0m \u001B[0mOpenDPException\u001B[0m\u001B[0;34m(\u001B[0m\u001B[0;34m\"Failed to free error.\"\u001B[0m\u001B[0;34m)\u001B[0m\u001B[0;34m\u001B[0m\u001B[0;34m\u001B[0m\u001B[0m\n\u001B[1;32m    128\u001B[0m \u001B[0;34m\u001B[0m\u001B[0m\n\u001B[0;32m--> 129\u001B[0;31m     \u001B[0;32mraise\u001B[0m \u001B[0mOpenDPException\u001B[0m\u001B[0;34m(\u001B[0m\u001B[0mvariant\u001B[0m\u001B[0;34m,\u001B[0m \u001B[0mmessage\u001B[0m\u001B[0;34m,\u001B[0m \u001B[0mbacktrace\u001B[0m\u001B[0;34m)\u001B[0m\u001B[0;34m\u001B[0m\u001B[0;34m\u001B[0m\u001B[0m\n\u001B[0m",
      "\u001B[0;31mOpenDPException\u001B[0m: DomainMismatch(\"Intermediate domain mismatch\")\n\t   0: backtrace::backtrace::libunwind::trace\n\t             at /Users/ethancowan/.cargo/registry/src/github.com-1ecc6299db9ec823/backtrace-0.3.61/src/backtrace/libunwind.rs:90:5\n\t      backtrace::backtrace::trace_unsynchronized\n\t             at /Users/ethancowan/.cargo/registry/src/github.com-1ecc6299db9ec823/backtrace-0.3.61/src/backtrace/mod.rs:66:5\n\t   1: backtrace::backtrace::trace\n\t             at /Users/ethancowan/.cargo/registry/src/github.com-1ecc6299db9ec823/backtrace-0.3.61/src/backtrace/mod.rs:53:14\n\t   2: backtrace::capture::Backtrace::create\n\t             at /Users/ethancowan/.cargo/registry/src/github.com-1ecc6299db9ec823/backtrace-0.3.61/src/capture.rs:176:9\n\t   3: backtrace::capture::Backtrace::new_unresolved\n\t             at /Users/ethancowan/.cargo/registry/src/github.com-1ecc6299db9ec823/backtrace-0.3.61/src/capture.rs:170:9\n\t   4: opendp::comb::chain::make_chain_mt\n\t             at /Users/ethancowan/IdeaProjects/opendp/rust/opendp/src/comb/chain/mod.rs:19:16\n\t   5: opendp_comb__make_chain_mt\n\t             at /Users/ethancowan/IdeaProjects/opendp/rust/opendp-ffi/src/comb/mod.rs:10:5\n\t   6: _ffi_call_unix64\n\t   7: _ffi_call\n\t   8: __ctypes_callproc\n\t   9: _PyCFuncPtr_call\n\t  10: __PyObject_MakeTpCall\n\t  11: _call_function\n\t  12: __PyEval_EvalFrameDefault\n\t  13: _function_code_fastcall\n\t  14: _call_function\n\t  15: __PyEval_EvalFrameDefault\n\t  16: _function_code_fastcall\n\t  17: __PyObject_FastCall_Prepend\n\t  18: _call_maybe\n\t  19: _slot_nb_rshift\n\t  20: _binary_op1\n\t  21: _binary_op\n\t  22: __PyEval_EvalFrameDefault\n\t  23: _function_code_fastcall\n\t  24: _call_function\n\t  25: __PyEval_EvalFrameDefault\n\t  26: __PyEval_EvalCodeWithName\n\t  27: __PyFunction_Vectorcall\n\t  28: _call_function\n\t  29: __PyEval_EvalFrameDefault\n\t  30: _function_code_fastcall\n\t  31: _call_function\n\t  32: __PyEval_EvalFrameDefault\n\t  33: __PyEval_EvalCodeWithName\n\t  34: __PyFunction_Vectorcall\n\t  35: _call_function\n\t  36: __PyEval_EvalFrameDefault\n\t  37: __PyEval_EvalCodeWithName\n\t  38: _PyEval_EvalCode\n\t  39: _builtin_exec\n\t  40: _cfunction_vectorcall_FASTCALL\n\t  41: _call_function\n\t  42: __PyEval_EvalFrameDefault\n\t  43: _gen_send_ex\n\t  44: __PyEval_EvalFrameDefault\n\t  45: _gen_send_ex\n\t  46: __PyEval_EvalFrameDefault\n\t  47: _gen_send_ex\n\t  48: _method_vectorcall_O\n\t  49: _call_function\n\t  50: __PyEval_EvalFrameDefault\n\t  51: _function_code_fastcall\n\t  52: _call_function\n\t  53: __PyEval_EvalFrameDefault\n\t  54: _function_code_fastcall\n\t  55: _call_function\n\t  56: __PyEval_EvalFrameDefault\n\t  57: __PyEval_EvalCodeWithName\n\t  58: __PyFunction_Vectorcall\n\t  59: _method_vectorcall\n\t  60: _PyVectorcall_Call\n\t  61: __PyEval_EvalFrameDefault\n\t  62: __PyEval_EvalCodeWithName\n\t  63: __PyFunction_Vectorcall\n\t  64: _method_vectorcall\n\t  65: _call_function\n\t  66: __PyEval_EvalFrameDefault\n\t  67: _gen_send_ex\n\t  68: __PyEval_EvalFrameDefault\n\t  69: _gen_send_ex\n\t  70: __PyEval_EvalFrameDefault\n\t  71: _gen_send_ex\n\t  72: __PyEval_EvalFrameDefault\n\t  73: _gen_send_ex\n\t  74: __PyEval_EvalFrameDefault\n\t  75: _gen_send_ex\n\t  76: _task_step\n\t  77: _TaskWakeupMethWrapper_call\n\t  78: __PyObject_MakeTpCall\n\t  79: _context_run\n\t  80: _cfunction_vectorcall_FASTCALL_KEYWORDS\n\t  81: _PyVectorcall_Call\n\t  82: __PyEval_EvalFrameDefault\n\t  83: _function_code_fastcall\n\t  84: _call_function\n\t  85: __PyEval_EvalFrameDefault\n\t  86: _function_code_fastcall\n\t  87: _call_function\n\t  88: __PyEval_EvalFrameDefault\n\t  89: _function_code_fastcall\n\t  90: _call_function\n\t  91: __PyEval_EvalFrameDefault\n\t  92: _function_code_fastcall\n\t  93: _call_function\n\t  94: __PyEval_EvalFrameDefault\n\t  95: _function_code_fastcall\n\t  96: _call_function\n\t  97: __PyEval_EvalFrameDefault\n\t  98: __PyEval_EvalCodeWithName\n\t  99: __PyFunction_Vectorcall\n\t 100: _method_vectorcall\n\t 101: _call_function\n\t 102: __PyEval_EvalFrameDefault\n\t 103: __PyEval_EvalCodeWithName\n\t 104: _PyEval_EvalCode\n\t 105: _builtin_exec\n\t 106: _cfunction_vectorcall_FASTCALL\n\t 107: _call_function\n\t 108: __PyEval_EvalFrameDefault\n\t 109: __PyEval_EvalCodeWithName\n\t 110: __PyFunction_Vectorcall\n\t 111: _call_function\n\t 112: __PyEval_EvalFrameDefault\n\t 113: __PyEval_EvalCodeWithName\n\t 114: __PyFunction_Vectorcall\n\t 115: _PyVectorcall_Call\n\t 116: _pymain_run_module\n\t 117: _Py_RunMain\n\t 118: _pymain_main\n\t 119: _Py_BytesMain\n\t"
     ]
    }
   ],
   "source": [
    "epsilon = 1.\n",
    "col_names = [\"A\",\"B\",\"C\",\"D\",\"E\"]\n",
    "p = make_dp_mean(col_names, \"A\", 0., 1000000., 1000, epsilon)\n",
    "res = p(data)\n",
    "print(f\"Epsilon: {epsilon}\\nDP Mean: {res}\")\n"
   ],
   "metadata": {
    "collapsed": false,
    "pycharm": {
     "name": "#%%\n"
    }
   }
  },
  {
   "cell_type": "code",
   "execution_count": null,
   "outputs": [],
   "source": [
    "import opendp"
   ],
   "metadata": {
    "collapsed": false,
    "pycharm": {
     "name": "#%%\n"
    }
   }
  }
 ],
 "metadata": {
  "kernelspec": {
   "display_name": "Python 3",
   "language": "python",
   "name": "python3"
  },
  "language_info": {
   "codemirror_mode": {
    "name": "ipython",
    "version": 2
   },
   "file_extension": ".py",
   "mimetype": "text/x-python",
   "name": "python",
   "nbconvert_exporter": "python",
   "pygments_lexer": "ipython2",
   "version": "2.7.6"
  }
 },
 "nbformat": 4,
 "nbformat_minor": 0
}