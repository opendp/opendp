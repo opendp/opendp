{
 "cells": [
  {
   "cell_type": "code",
   "execution_count": 4,
   "metadata": {
    "collapsed": true
   },
   "outputs": [],
   "source": [
    "from opendp.trans import *\n",
    "from opendp.meas import *\n",
    "from opendp.core import *\n",
    "\n",
    "enable_features(\"floating-point\")\n",
    "\n",
    "data_path = os.path.join('.', 'data', 'PUMS_california_demographics_1000', 'data.csv')\n",
    "var_names = [\"age\", \"sex\", \"educ\", \"race\", \"income\", \"married\"]\n",
    "\n",
    "with open(data_path) as input_data:\n",
    "    data = input_data.read()"
   ]
  },
  {
   "cell_type": "code",
   "execution_count": 5,
   "outputs": [],
   "source": [
    "def make_dp_mean(col_names, index, size, bounds, dataset_distance, epsilon):\n",
    "    \"\"\"\n",
    "    Draft of a function to be used on the backend for DPCreator\n",
    "    :param index: Column index to select data from\n",
    "    :param bounds: Bounds for clamp\n",
    "    :param size: Estimated number of values in data\n",
    "    :param dataset_distance: Max distance between neighboring datasets\n",
    "    :param epsilon: Privacy budget\n",
    "    :return:\n",
    "    \"\"\"\n",
    "    preprocessor = (\n",
    "        # Convert data into Vec<Vec<String>>\n",
    "        make_split_dataframe(separator=\",\", col_names=col_names) >>\n",
    "        # Selects a column of df, Vec<str>\n",
    "        make_select_column(key=index, TOA=str) >>\n",
    "        # Cast the column as Vec<Optional<Float>>\n",
    "        make_cast(TIA=str, TOA=float) >>\n",
    "        # Impute missing values to 0 Vec<Float>\n",
    "        make_impute_constant(0.) >>\n",
    "        # Clamp age values\n",
    "        make_clamp(bounds) >>\n",
    "        make_bounded_resize(size, bounds, 0.) >>\n",
    "        make_sized_bounded_mean(size, bounds)\n",
    "    )\n",
    "    return binary_search_chain(\n",
    "        lambda s: preprocessor >> make_base_laplace(s),\n",
    "        dataset_distance, epsilon)\n",
    "\n"
   ],
   "metadata": {
    "collapsed": false,
    "pycharm": {
     "name": "#%%\n"
    }
   }
  },
  {
   "cell_type": "code",
   "execution_count": 6,
   "outputs": [
    {
     "name": "stdout",
     "output_type": "stream",
     "text": [
      "Epsilon: 1.0\n",
      "Column: age\n",
      "DP Mean: 44.6411189291801\n"
     ]
    }
   ],
   "source": [
    "epsilon = 1.\n",
    "column = \"age\"\n",
    "dp_mean_meas = make_dp_mean(var_names, column, 1000, (0., 200.), 1, epsilon)\n",
    "res = dp_mean_meas(data)\n",
    "\n",
    "print(f\"Epsilon: {epsilon}\\nColumn: {column}\\nDP Mean: {res}\")\n"
   ],
   "metadata": {
    "collapsed": false,
    "pycharm": {
     "name": "#%%\n"
    }
   }
  }
 ],
 "metadata": {
  "kernelspec": {
   "display_name": "Python 3",
   "language": "python",
   "name": "python3"
  },
  "language_info": {
   "codemirror_mode": {
    "name": "ipython",
    "version": 2
   },
   "file_extension": ".py",
   "mimetype": "text/x-python",
   "name": "python",
   "nbconvert_exporter": "python",
   "pygments_lexer": "ipython2",
   "version": "2.7.6"
  }
 },
 "nbformat": 4,
 "nbformat_minor": 0
}