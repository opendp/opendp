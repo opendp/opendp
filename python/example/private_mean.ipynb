{
 "cells": [
  {
   "cell_type": "code",
   "execution_count": 30,
   "metadata": {
    "collapsed": true
   },
   "outputs": [],
   "source": [
    "# import os\n",
    "# os.environ['OPENDP_LIB_DIR'] = '/Users/ethancowan/IdeaProjects/openDP/rust/target/release'\n",
    "\n",
    "from opendp.trans import *\n",
    "from opendp.meas import *\n",
    "from opendp.core import *\n",
    "\n",
    "enable_features(\"floating-point\")\n",
    "\n",
    "# establish data information\n",
    "data_path = os.path.join('.', 'data', 'PUMS_california_demographics_1000', 'data.csv')\n",
    "var_names = [\"age\", \"sex\", \"educ\", \"race\", \"income\", \"married\"]\n",
    "\n",
    "# TODO: Remove column headers\n",
    "with open(data_path) as input_data:\n",
    "    data = input_data.read()"
   ]
  },
  {
   "cell_type": "code",
   "execution_count": 31,
   "outputs": [],
   "source": [
    "def _binary_search(predicate, start, end):\n",
    "    if start > end:\n",
    "        raise ValueError\n",
    "\n",
    "    if not predicate(end):\n",
    "        raise ValueError(\"no possible value in range\")\n",
    "\n",
    "    while True:\n",
    "        mid = (start + end) / 2\n",
    "        passes = predicate(mid)\n",
    "\n",
    "        if passes and end - start < .00001:\n",
    "            return mid\n",
    "\n",
    "        if passes:\n",
    "            end = mid\n",
    "        else:\n",
    "            start = mid\n",
    "\n",
    "def check_scale(scale, preprocessor, dataset_distance, epsilon):\n",
    "    \"\"\"\n",
    "    Return T/F\n",
    "    :param scale:\n",
    "    :param preprocessor:\n",
    "    :param dataset_distance:\n",
    "    :param epsilon:\n",
    "    :return:\n",
    "    \"\"\"\n",
    "    return (preprocessor >> make_base_laplace(scale)).check(dataset_distance, epsilon)\n"
   ],
   "metadata": {
    "collapsed": false,
    "pycharm": {
     "name": "#%%\n"
    }
   }
  },
  {
   "cell_type": "code",
   "execution_count": 32,
   "outputs": [],
   "source": [
    "def make_dp_mean(col_names, index, lower, upper, n, epsilon):\n",
    "    \"\"\"\n",
    "    Draft of a function to be used on the backend for DPCreator\n",
    "    :param index: Column index to select data from\n",
    "    :param data_type: Type to cast data to\n",
    "    :param lower: Lower bound for clamp\n",
    "    :param upper: Upper bound for clamp\n",
    "    :param n: Estimated number of values in data\n",
    "    :param epsilon: Privacy budget\n",
    "    :return:\n",
    "    \"\"\"\n",
    "    preprocessor = (\n",
    "        # Convert data into Vec<Vec<String>>\n",
    "        make_split_dataframe(separator=\",\", col_names=col_names) >>\n",
    "        # Selects a column of df, Vec<str>\n",
    "        make_select_column(key=index, T=str) >>\n",
    "        # Cast the column as Vec<Optional<Float>>\n",
    "        make_cast(TI=str, TO=float) >>\n",
    "        # Impute missing values to 0 Vec<Float>\n",
    "        make_impute_constant(0.) >>\n",
    "        # Clamp age values\n",
    "        make_clamp(lower, upper) >>\n",
    "        make_resize_bounded(0., n, lower, upper) >>\n",
    "        make_bounded_mean(lower, upper, n=n, T=float)\n",
    "    )\n",
    "    scale = _binary_search(lambda s: check_scale(s, preprocessor, 1, epsilon), 0., 10.)\n",
    "    preprocessor = preprocessor >> make_base_laplace(scale)\n",
    "    return preprocessor(data)\n",
    "\n"
   ],
   "metadata": {
    "collapsed": false,
    "pycharm": {
     "name": "#%%\n"
    }
   }
  },
  {
   "cell_type": "code",
   "execution_count": 33,
   "outputs": [
    {
     "name": "stdout",
     "output_type": "stream",
     "text": [
      "Epsilon: 1.0\n",
      "Column: E\n",
      "DP Mean: 7827.314003837994\n"
     ]
    }
   ],
   "source": [
    "epsilon = 1.\n",
    "col_names = [\"A\",\"B\",\"C\",\"D\",\"E\"]\n",
    "column = \"E\"\n",
    "res = make_dp_mean(col_names, column, 0., 10000., 1000, epsilon)\n",
    "\n",
    "print(f\"Epsilon: {epsilon}\\nColumn: {column}\\nDP Mean: {res}\")\n"
   ],
   "metadata": {
    "collapsed": false,
    "pycharm": {
     "name": "#%%\n"
    }
   }
  },
  {
   "cell_type": "code",
   "execution_count": 33,
   "outputs": [],
   "source": [],
   "metadata": {
    "collapsed": false,
    "pycharm": {
     "name": "#%%\n"
    }
   }
  }
 ],
 "metadata": {
  "kernelspec": {
   "display_name": "Python 3",
   "language": "python",
   "name": "python3"
  },
  "language_info": {
   "codemirror_mode": {
    "name": "ipython",
    "version": 2
   },
   "file_extension": ".py",
   "mimetype": "text/x-python",
   "name": "python",
   "nbconvert_exporter": "python",
   "pygments_lexer": "ipython2",
   "version": "2.7.6"
  }
 },
 "nbformat": 4,
 "nbformat_minor": 0
}