{
 "cells": [
  {
   "cell_type": "code",
   "execution_count": 28,
   "metadata": {
    "collapsed": true
   },
   "outputs": [],
   "source": [
    "from opendp.trans import *\n",
    "from opendp.meas import *\n",
    "from opendp.core import *\n",
    "\n",
    "# establish data information\n",
    "data_path = os.path.join('.', 'data', 'PUMS_california_demographics_1000', 'data.csv')\n",
    "var_names = [\"age\", \"sex\", \"educ\", \"race\", \"income\", \"married\", \"pid\"]\n",
    "\n",
    "# TODO: Remove column headers\n",
    "with open(data_path) as input_data:\n",
    "    data = input_data.read()"
   ]
  },
  {
   "cell_type": "code",
   "execution_count": 29,
   "outputs": [],
   "source": [
    "def make_dp_mean(index, lower, upper, n, epsilon):\n",
    "    \"\"\"\n",
    "    Draft of a function to be used on the backend for DPCreator\n",
    "    :param index: Column index to select data from\n",
    "    :param data_type: Type to cast data to\n",
    "    :param lower: Lower bound for clamp\n",
    "    :param upper: Upper bound for clamp\n",
    "    :param n: Estimated number of values in data\n",
    "    :param epsilon: Privacy budget\n",
    "    :return:\n",
    "    \"\"\"\n",
    "    preprocessor = (\n",
    "        # Convert data into Vec<Vec<String>>\n",
    "        make_split_dataframe(separator=\",\", col_names=[0, 1, 2, 3, 4]) >>\n",
    "        # Selects a column of df, Vec<str>\n",
    "        make_select_column(key=index, T=str) >>\n",
    "        # Cast the column as Vec<Int>\n",
    "        make_cast(TI=str, TO=float) >>\n",
    "        # Impute missing values to 0\n",
    "        make_impute_constant(0.) >>\n",
    "        # Clamp age values\n",
    "        make_clamp(lower, upper)\n",
    "    )\n",
    "\n",
    "    # TOOO: chain these into one process. Currently getting domain mismatch error\n",
    "    res = preprocessor(data)\n",
    "    sigma = (upper - lower) / (n * epsilon)\n",
    "    mean_process = make_bounded_mean(lower, upper, n=n, T=float) >> make_base_laplace(sigma)\n",
    "    return mean_process(res)"
   ],
   "metadata": {
    "collapsed": false,
    "pycharm": {
     "name": "#%%\n"
    }
   }
  },
  {
   "cell_type": "code",
   "execution_count": 35,
   "outputs": [
    {
     "name": "stdout",
     "output_type": "stream",
     "text": [
      "Epsilon: 1.0\n",
      "DP Mean: 39.71689548355615\n"
     ]
    }
   ],
   "source": [
    "epsilon = 1.\n",
    "res = make_dp_mean(0, 20., 50., 1000, epsilon)\n",
    "print(f\"Epsilon: {epsilon}\\nDP Mean: {res}\")"
   ],
   "metadata": {
    "collapsed": false,
    "pycharm": {
     "name": "#%%\n"
    }
   }
  },
  {
   "cell_type": "code",
   "execution_count": 27,
   "outputs": [],
   "source": [],
   "metadata": {
    "collapsed": false,
    "pycharm": {
     "name": "#%%\n"
    }
   }
  },
  {
   "cell_type": "code",
   "execution_count": null,
   "outputs": [],
   "source": [],
   "metadata": {
    "collapsed": false,
    "pycharm": {
     "name": "#%%\n"
    }
   }
  }
 ],
 "metadata": {
  "kernelspec": {
   "display_name": "Python 3",
   "language": "python",
   "name": "python3"
  },
  "language_info": {
   "codemirror_mode": {
    "name": "ipython",
    "version": 2
   },
   "file_extension": ".py",
   "mimetype": "text/x-python",
   "name": "python",
   "nbconvert_exporter": "python",
   "pygments_lexer": "ipython2",
   "version": "2.7.6"
  }
 },
 "nbformat": 4,
 "nbformat_minor": 0
}