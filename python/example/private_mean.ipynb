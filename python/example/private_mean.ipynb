{
 "cells": [
  {
   "cell_type": "code",
   "execution_count": 7,
   "metadata": {
    "collapsed": true
   },
   "outputs": [],
   "source": [
    "from opendp.trans import *\n",
    "from opendp.meas import *\n",
    "from opendp.core import *\n",
    "\n",
    "# establish data information\n",
    "data_path = os.path.join('.', 'data', 'PUMS_california_demographics_1000', 'data.csv')\n",
    "var_names = [\"age\", \"sex\", \"educ\", \"race\", \"income\", \"married\", \"pid\"]\n",
    "\n",
    "# TODO: Remove column headers\n",
    "with open(data_path) as input_data:\n",
    "    data = input_data.read()"
   ]
  },
  {
   "cell_type": "code",
   "execution_count": 8,
   "outputs": [],
   "source": [
    "def _binary_search(predicate, start, end):\n",
    "    if start > end:\n",
    "        raise ValueError\n",
    "\n",
    "    if not predicate(end):\n",
    "        raise ValueError(\"no possible value in range\")\n",
    "\n",
    "    while True:\n",
    "        mid = (start + end) / 2\n",
    "        passes = predicate(mid)\n",
    "\n",
    "        if passes and end - start < .00001:\n",
    "            return mid\n",
    "\n",
    "        if passes:\n",
    "            end = mid\n",
    "        else:\n",
    "            start = mid\n",
    "\n",
    "def check_scale(scale, preprocessor, dataset_distance, epsilon):\n",
    "    \"\"\"\n",
    "    Return T/F\n",
    "    :param scale:\n",
    "    :param preprocessor:\n",
    "    :param dataset_distance:\n",
    "    :param epsilon:\n",
    "    :return:\n",
    "    \"\"\"\n",
    "    return (preprocessor >> make_base_laplace(scale)).check(dataset_distance, epsilon)\n"
   ],
   "metadata": {
    "collapsed": false,
    "pycharm": {
     "name": "#%%\n"
    }
   }
  },
  {
   "cell_type": "code",
   "execution_count": 9,
   "outputs": [],
   "source": [
    "def make_dp_mean(index, lower, upper, n, epsilon):\n",
    "    \"\"\"\n",
    "    Draft of a function to be used on the backend for DPCreator\n",
    "    :param index: Column index to select data from\n",
    "    :param data_type: Type to cast data to\n",
    "    :param lower: Lower bound for clamp\n",
    "    :param upper: Upper bound for clamp\n",
    "    :param n: Estimated number of values in data\n",
    "    :param epsilon: Privacy budget\n",
    "    :return:\n",
    "    \"\"\"\n",
    "    preprocessor = (\n",
    "        # Convert data into Vec<Vec<String>>\n",
    "        make_split_dataframe(separator=\",\", col_names=[0, 1, 2, 3, 4]) >>\n",
    "        # Selects a column of df, Vec<str>\n",
    "        make_select_column(key=index, T=str) >>\n",
    "        # Cast the column as Vec<Optional<Float>>\n",
    "        make_cast(TI=str, TO=float) >>\n",
    "        # Impute missing values to 0 Vec<Float>\n",
    "        make_impute_constant(0.) >>\n",
    "        make_resize_(0., n) >>\n",
    "        # Clamp age values\n",
    "        make_clamp(lower, upper) >>\n",
    "        make_bounded_mean(lower, upper, n=n, T=float)\n",
    "    )\n",
    "    scale = _binary_search(lambda s: check_scale(s, preprocessor, 1, epsilon), 0., 100.)\n",
    "    preprocessor = preprocessor >> make_base_laplace(scale)\n",
    "    return preprocessor(data)\n"
   ],
   "metadata": {
    "collapsed": false,
    "pycharm": {
     "name": "#%%\n"
    }
   }
  },
  {
   "cell_type": "code",
   "execution_count": 10,
   "outputs": [
    {
     "ename": "NameError",
     "evalue": "name 'make_resize' is not defined",
     "output_type": "error",
     "traceback": [
      "\u001B[0;31m---------------------------------------------------------------------------\u001B[0m",
      "\u001B[0;31mNameError\u001B[0m                                 Traceback (most recent call last)",
      "\u001B[0;32m/var/folders/4s/j9k238qs6wbcv8s2psqnyzh40000gp/T/ipykernel_43735/2609183113.py\u001B[0m in \u001B[0;36m<module>\u001B[0;34m\u001B[0m\n\u001B[1;32m      1\u001B[0m \u001B[0mepsilon\u001B[0m \u001B[0;34m=\u001B[0m \u001B[0;36m1.\u001B[0m\u001B[0;34m\u001B[0m\u001B[0;34m\u001B[0m\u001B[0m\n\u001B[0;32m----> 2\u001B[0;31m \u001B[0mres\u001B[0m \u001B[0;34m=\u001B[0m \u001B[0mmake_dp_mean\u001B[0m\u001B[0;34m(\u001B[0m\u001B[0;36m0\u001B[0m\u001B[0;34m,\u001B[0m \u001B[0;36m20.\u001B[0m\u001B[0;34m,\u001B[0m \u001B[0;36m50.\u001B[0m\u001B[0;34m,\u001B[0m \u001B[0;36m1000\u001B[0m\u001B[0;34m,\u001B[0m \u001B[0mepsilon\u001B[0m\u001B[0;34m)\u001B[0m\u001B[0;34m\u001B[0m\u001B[0;34m\u001B[0m\u001B[0m\n\u001B[0m\u001B[1;32m      3\u001B[0m \u001B[0mprint\u001B[0m\u001B[0;34m(\u001B[0m\u001B[0;34mf\"Epsilon: {epsilon}\\nDP Mean: {res}\"\u001B[0m\u001B[0;34m)\u001B[0m\u001B[0;34m\u001B[0m\u001B[0;34m\u001B[0m\u001B[0m\n\u001B[1;32m      4\u001B[0m \u001B[0;34m\u001B[0m\u001B[0m\n",
      "\u001B[0;32m/var/folders/4s/j9k238qs6wbcv8s2psqnyzh40000gp/T/ipykernel_43735/1194128317.py\u001B[0m in \u001B[0;36mmake_dp_mean\u001B[0;34m(index, lower, upper, n, epsilon)\u001B[0m\n\u001B[1;32m     19\u001B[0m         \u001B[0;31m# Impute missing values to 0 Vec<Float>\u001B[0m\u001B[0;34m\u001B[0m\u001B[0;34m\u001B[0m\u001B[0;34m\u001B[0m\u001B[0m\n\u001B[1;32m     20\u001B[0m         \u001B[0mmake_impute_constant\u001B[0m\u001B[0;34m(\u001B[0m\u001B[0;36m0.\u001B[0m\u001B[0;34m)\u001B[0m \u001B[0;34m>>\u001B[0m\u001B[0;34m\u001B[0m\u001B[0;34m\u001B[0m\u001B[0m\n\u001B[0;32m---> 21\u001B[0;31m         \u001B[0mmake_resize\u001B[0m\u001B[0;34m(\u001B[0m\u001B[0;36m0.\u001B[0m\u001B[0;34m,\u001B[0m \u001B[0mn\u001B[0m\u001B[0;34m)\u001B[0m \u001B[0;34m>>\u001B[0m\u001B[0;34m\u001B[0m\u001B[0;34m\u001B[0m\u001B[0m\n\u001B[0m\u001B[1;32m     22\u001B[0m         \u001B[0;31m# Clamp age values\u001B[0m\u001B[0;34m\u001B[0m\u001B[0;34m\u001B[0m\u001B[0;34m\u001B[0m\u001B[0m\n\u001B[1;32m     23\u001B[0m         \u001B[0mmake_clamp\u001B[0m\u001B[0;34m(\u001B[0m\u001B[0mlower\u001B[0m\u001B[0;34m,\u001B[0m \u001B[0mupper\u001B[0m\u001B[0;34m)\u001B[0m \u001B[0;34m>>\u001B[0m\u001B[0;34m\u001B[0m\u001B[0;34m\u001B[0m\u001B[0m\n",
      "\u001B[0;31mNameError\u001B[0m: name 'make_resize' is not defined"
     ]
    }
   ],
   "source": [
    "epsilon = 1.\n",
    "res = make_dp_mean(0, 20., 50., 1000, epsilon)\n",
    "print(f\"Epsilon: {epsilon}\\nDP Mean: {res}\")"
   ],
   "metadata": {
    "collapsed": false,
    "pycharm": {
     "name": "#%%\n"
    }
   }
  },
  {
   "cell_type": "code",
   "execution_count": 6,
   "outputs": [
    {
     "ename": "NameError",
     "evalue": "name 'make_resize' is not defined",
     "output_type": "error",
     "traceback": [
      "\u001B[0;31m---------------------------------------------------------------------------\u001B[0m",
      "\u001B[0;31mNameError\u001B[0m                                 Traceback (most recent call last)",
      "\u001B[0;32m/var/folders/4s/j9k238qs6wbcv8s2psqnyzh40000gp/T/ipykernel_43735/2609183113.py\u001B[0m in \u001B[0;36m<module>\u001B[0;34m\u001B[0m\n\u001B[1;32m      1\u001B[0m \u001B[0mepsilon\u001B[0m \u001B[0;34m=\u001B[0m \u001B[0;36m1.\u001B[0m\u001B[0;34m\u001B[0m\u001B[0;34m\u001B[0m\u001B[0m\n\u001B[0;32m----> 2\u001B[0;31m \u001B[0mres\u001B[0m \u001B[0;34m=\u001B[0m \u001B[0mmake_dp_mean\u001B[0m\u001B[0;34m(\u001B[0m\u001B[0;36m0\u001B[0m\u001B[0;34m,\u001B[0m \u001B[0;36m20.\u001B[0m\u001B[0;34m,\u001B[0m \u001B[0;36m50.\u001B[0m\u001B[0;34m,\u001B[0m \u001B[0;36m1000\u001B[0m\u001B[0;34m,\u001B[0m \u001B[0mepsilon\u001B[0m\u001B[0;34m)\u001B[0m\u001B[0;34m\u001B[0m\u001B[0;34m\u001B[0m\u001B[0m\n\u001B[0m\u001B[1;32m      3\u001B[0m \u001B[0mprint\u001B[0m\u001B[0;34m(\u001B[0m\u001B[0;34mf\"Epsilon: {epsilon}\\nDP Mean: {res}\"\u001B[0m\u001B[0;34m)\u001B[0m\u001B[0;34m\u001B[0m\u001B[0;34m\u001B[0m\u001B[0m\n\u001B[1;32m      4\u001B[0m \u001B[0;34m\u001B[0m\u001B[0m\n",
      "\u001B[0;32m/var/folders/4s/j9k238qs6wbcv8s2psqnyzh40000gp/T/ipykernel_43735/1194128317.py\u001B[0m in \u001B[0;36mmake_dp_mean\u001B[0;34m(index, lower, upper, n, epsilon)\u001B[0m\n\u001B[1;32m     19\u001B[0m         \u001B[0;31m# Impute missing values to 0 Vec<Float>\u001B[0m\u001B[0;34m\u001B[0m\u001B[0;34m\u001B[0m\u001B[0;34m\u001B[0m\u001B[0m\n\u001B[1;32m     20\u001B[0m         \u001B[0mmake_impute_constant\u001B[0m\u001B[0;34m(\u001B[0m\u001B[0;36m0.\u001B[0m\u001B[0;34m)\u001B[0m \u001B[0;34m>>\u001B[0m\u001B[0;34m\u001B[0m\u001B[0;34m\u001B[0m\u001B[0m\n\u001B[0;32m---> 21\u001B[0;31m         \u001B[0mmake_resize\u001B[0m\u001B[0;34m(\u001B[0m\u001B[0;36m0.\u001B[0m\u001B[0;34m,\u001B[0m \u001B[0mn\u001B[0m\u001B[0;34m)\u001B[0m \u001B[0;34m>>\u001B[0m\u001B[0;34m\u001B[0m\u001B[0;34m\u001B[0m\u001B[0m\n\u001B[0m\u001B[1;32m     22\u001B[0m         \u001B[0;31m# Clamp age values\u001B[0m\u001B[0;34m\u001B[0m\u001B[0;34m\u001B[0m\u001B[0;34m\u001B[0m\u001B[0m\n\u001B[1;32m     23\u001B[0m         \u001B[0mmake_clamp\u001B[0m\u001B[0;34m(\u001B[0m\u001B[0mlower\u001B[0m\u001B[0;34m,\u001B[0m \u001B[0mupper\u001B[0m\u001B[0;34m)\u001B[0m \u001B[0;34m>>\u001B[0m\u001B[0;34m\u001B[0m\u001B[0;34m\u001B[0m\u001B[0m\n",
      "\u001B[0;31mNameError\u001B[0m: name 'make_resize' is not defined"
     ]
    }
   ],
   "source": [
    "epsilon = 1.\n",
    "res = make_dp_mean(0, 20., 50., 1000, epsilon)\n",
    "print(f\"Epsilon: {epsilon}\\nDP Mean: {res}\")"
   ],
   "metadata": {
    "collapsed": false,
    "pycharm": {
     "name": "#%%\n"
    }
   }
  },
  {
   "cell_type": "code",
   "execution_count": null,
   "outputs": [],
   "source": [],
   "metadata": {
    "collapsed": false,
    "pycharm": {
     "name": "#%%\n"
    }
   }
  },
  {
   "cell_type": "code",
   "execution_count": null,
   "outputs": [],
   "source": [],
   "metadata": {
    "collapsed": false,
    "pycharm": {
     "name": "#%%\n"
    }
   }
  }
 ],
 "metadata": {
  "kernelspec": {
   "display_name": "Python 3",
   "language": "python",
   "name": "python3"
  },
  "language_info": {
   "codemirror_mode": {
    "name": "ipython",
    "version": 2
   },
   "file_extension": ".py",
   "mimetype": "text/x-python",
   "name": "python",
   "nbconvert_exporter": "python",
   "pygments_lexer": "ipython2",
   "version": "2.7.6"
  }
 },
 "nbformat": 4,
 "nbformat_minor": 0
}