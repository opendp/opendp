{
 "cells": [
  {
   "cell_type": "markdown",
   "metadata": {},
   "source": [
    "# Basic PUMS Analysis with OpenDP\n",
    "\n",
    "This notebook will be a brief tutorial on doing data analysis within the OpenDP system.\n",
    "\n",
    "We will start out by setting up our environment -- loading the necessary libraries and establishing the very basic\n",
    "things we need to know before loading our data (the file path and variable names)."
   ]
  },
  {
   "cell_type": "code",
   "execution_count": 390,
   "metadata": {},
   "outputs": [],
   "source": [
    "# load libraries\n",
    "from opendp.trans import *\n",
    "from opendp.meas import *\n",
    "from opendp.core import *\n",
    "from opendp.typing import *\n",
    "\n",
    "# establish data information\n",
    "data_path = os.path.join('.', 'data', 'PUMS_california_demographics_1000', 'data.csv')\n",
    "var_names = [\"age\", \"sex\", \"educ\", \"race\", \"income\", \"married\", \"pid\"]\n",
    "\n",
    "# TODO: Remove column headers\n",
    "with open(data_path) as input_data:\n",
    "    data = input_data.read()"
   ]
  },
  {
   "cell_type": "markdown",
   "metadata": {},
   "source": [
    "### Properties\n",
    "\n",
    "*TODO* OpenDP architeture description here"
   ]
  },
  {
   "cell_type": "markdown",
   "metadata": {
    "pycharm": {
     "name": "#%% md\n"
    }
   },
   "source": [
    "Let's examine how we can read and process data within a computation chain. We already have data as a string, read in\n",
    "from a file.\n",
    "Here are the first 5 lines of the data:"
   ]
  },
  {
   "cell_type": "code",
   "execution_count": 391,
   "outputs": [
    {
     "name": "stdout",
     "output_type": "stream",
     "text": [
      "59,1,9,1,0,1\n",
      "31,0,1,3,17000,0\n",
      "36,1,11,1,0,1\n",
      "54,1,11,1,9100,1\n",
      "39,0,5,3,37000,0\n",
      "34,0,9,1,0,1\n"
     ]
    }
   ],
   "source": [
    "print('\\n'.join(data.split('\\n')[:6]))"
   ],
   "metadata": {
    "collapsed": false,
    "pycharm": {
     "name": "#%%\n"
    }
   }
  },
  {
   "cell_type": "markdown",
   "source": [
    "Now let's read this data into a computation chain and select the age column. Notice we will need to specify the columns\n",
    "as integer indices. make_select_column will then give us the nth column as a particular type. In this case, giving\n",
    "us the first column cast as a string:"
   ],
   "metadata": {
    "collapsed": false,
    "pycharm": {
     "name": "#%% md\n"
    }
   }
  },
  {
   "cell_type": "code",
   "execution_count": 392,
   "outputs": [
    {
     "name": "stdout",
     "output_type": "stream",
     "text": [
      "<class 'str'>\n",
      "[\"59\", \"31\", \"36\", \"54\", \"39\", \"34\", \"93\", \"69\", \"40\", \"27\", \"59\", \"31\", \"73\", \"89\", \"39\", \"51\", \"32\", \"52\", \"24\", \"48\", \"51\", \"43\", \"29\", \"44\", \"87\", \"27\", \"58\", \"32\", \"74\", \"28\", \"70\", \"35\", \"36\", \"63\", \"21\", \"29\", \"44\", \"35\", \"43\", \"59\", \"53\", \"42\", \"32\", \"50\", \"18\", \"40\", \"42\", \"52\", \"56\", \"45\", \"39\", \"28\", \"46\", \"45\", \"32\", \"22\", \"52\", \"21\", \"60\", \"77\", \"38\", \"40\", \"34\", \"48\", \"69\", \"46\", \"40\", \"26\", \"37\", \"30\", \"70\", \"42\", \"24\", \"31\", \"20\", \"33\", \"47\", \"19\", \"33\", \"66\", \"23\", \"51\", \"23\", \"47\", \"48\", \"43\", \"31\", \"47\", \"74\", \"93\", \"55\", \"29\", \"33\", \"50\", \"28\", \"29\", \"38\", \"42\", \"50\", \"77\", \"37\", \"40\", \"30\", \"19\", \"50\", \"82\", \"22\", \"63\", \"48\", \"46\", \"45\", \"37\", \"76\", \"25\", \"40\", \"34\", \"56\", \"43\", \"42\", \"22\", \"45\", \"32\", \"23\", \"19\", \"52\", \"44\", \"43\", \"34\", \"32\", \"38\", \"40\", \"82\", \"31\", \"42\", \"47\", \"66\", \"30\", \"42\", \"50\", \"26\", \"53\", \"22\", \"28\", \"25\", \"30\", \"86\", \"33\", \"62\", \"23\", \"36\", \"84\", \"29\", \"29\", \"18\", \"44\", \"61\", \"72\", \"59\", \"33\", \"51\", \"35\", \"47\", \"50\", \"30\", \"31\", \"30\", \"77\", \"59\", \"22\", \"66\", \"49\", \"44\", \"18\", \"35\", \"38\", \"55\", \"32\", \"29\", \"36\", \"21\", \"43\", \"81\", \"45\", \"37\", \"41\", \"46\", \"29\", \"40\", \"24\", \"63\", \"61\", \"43\", \"86\", \"38\", \"75\", \"32\", \"63\", \"27\", \"64\", \"71\", \"54\", \"57\", \"56\", \"31\", \"53\", \"29\", \"18\", \"27\", \"67\", \"75\", \"27\", \"37\", \"77\", \"38\", \"51\", \"23\", \"34\", \"39\", \"53\", \"30\", \"39\", \"40\", \"43\", \"34\", \"72\", \"73\", \"77\", \"43\", \"31\", \"36\", \"61\", \"74\", \"38\", \"45\", \"32\", \"55\", \"51\", \"47\", \"42\", \"30\", \"36\", \"42\", \"65\", \"51\", \"70\", \"57\", \"48\", \"69\", \"76\", \"46\", \"35\", \"72\", \"18\", \"40\", \"33\", \"46\", \"51\", \"48\", \"30\", \"28\", \"40\", \"18\", \"37\", \"41\", \"93\", \"52\", \"43\", \"35\", \"34\", \"66\", \"86\", \"42\", \"73\", \"19\", \"37\", \"85\", \"40\", \"73\", \"78\", \"62\", \"48\", \"75\", \"71\", \"29\", \"30\", \"74\", \"53\", \"19\", \"31\", \"41\", \"49\", \"38\", \"35\", \"45\", \"42\", \"28\", \"32\", \"48\", \"27\", \"44\", \"75\", \"52\", \"39\", \"60\", \"34\", \"50\", \"47\", \"48\", \"68\", \"30\", \"67\", \"29\", \"40\", \"84\", \"67\", \"74\", \"72\", \"72\", \"82\", \"24\", \"54\", \"67\", \"18\", \"40\", \"70\", \"73\", \"41\", \"68\", \"82\", \"20\", \"31\", \"27\", \"70\", \"49\", \"62\", \"53\", \"40\", \"80\", \"36\", \"29\", \"38\", \"65\", \"20\", \"40\", \"42\", \"36\", \"37\", \"25\", \"74\", \"40\", \"48\", \"44\", \"40\", \"23\", \"66\", \"47\", \"58\", \"42\", \"26\", \"32\", \"36\", \"22\", \"23\", \"46\", \"23\", \"71\", \"55\", \"34\", \"49\", \"42\", \"71\", \"28\", \"23\", \"18\", \"48\", \"65\", \"44\", \"52\", \"65\", \"20\", \"27\", \"36\", \"88\", \"84\", \"41\", \"35\", \"30\", \"23\", \"23\", \"51\", \"27\", \"47\", \"71\", \"78\", \"44\", \"50\", \"38\", \"25\", \"43\", \"20\", \"66\", \"26\", \"62\", \"45\", \"38\", \"51\", \"21\", \"42\", \"20\", \"51\", \"22\", \"65\", \"38\", \"33\", \"27\", \"58\", \"73\", \"19\", \"24\", \"30\", \"37\", \"51\", \"45\", \"81\", \"61\", \"30\", \"58\", \"58\", \"46\", \"47\", \"23\", \"36\", \"82\", \"20\", \"22\", \"67\", \"22\", \"79\", \"18\", \"48\", \"32\", \"35\", \"49\", \"46\", \"28\", \"50\", \"28\", \"87\", \"49\", \"23\", \"40\", \"26\", \"48\", \"82\", \"78\", \"34\", \"36\", \"19\", \"31\", \"34\", \"19\", \"33\", \"93\", \"30\", \"42\", \"31\", \"23\", \"62\", \"59\", \"88\", \"37\", \"32\", \"42\", \"40\", \"64\", \"31\", \"30\", \"69\", \"53\", \"51\", \"27\", \"29\", \"28\", \"42\", \"34\", \"37\", \"31\", \"36\", \"44\", \"53\", \"23\", \"37\", \"29\", \"38\", \"57\", \"27\", \"86\", \"75\", \"37\", \"23\", \"63\", \"26\", \"51\", \"42\", \"43\", \"51\", \"69\", \"52\", \"74\", \"22\", \"43\", \"56\", \"31\", \"38\", \"89\", \"62\", \"75\", \"34\", \"35\", \"35\", \"45\", \"19\", \"32\", \"47\", \"72\", \"49\", \"48\", \"32\", \"28\", \"20\", \"57\", \"18\", \"35\", \"45\", \"72\", \"54\", \"39\", \"40\", \"63\", \"19\", \"40\", \"59\", \"42\", \"42\", \"38\", \"61\", \"55\", \"54\", \"80\", \"46\", \"79\", \"46\", \"28\", \"38\", \"34\", \"22\", \"48\", \"42\", \"23\", \"29\", \"65\", \"54\", \"34\", \"61\", \"70\", \"82\", \"48\", \"66\", \"27\", \"42\", \"47\", \"70\", \"47\", \"47\", \"39\", \"33\", \"84\", \"39\", \"55\", \"26\", \"65\", \"78\", \"57\", \"35\", \"28\", \"74\", \"54\", \"80\", \"32\", \"21\", \"43\", \"24\", \"60\", \"22\", \"30\", \"30\", \"35\", \"23\", \"29\", \"66\", \"18\", \"69\", \"40\", \"57\", \"51\", \"82\", \"57\", \"34\", \"20\", \"28\", \"20\", \"23\", \"80\", \"34\", \"46\", \"50\", \"32\", \"56\", \"18\", \"48\", \"45\", \"60\", \"83\", \"41\", \"33\", \"33\", \"52\", \"42\", \"69\", \"25\", \"68\", \"25\", \"55\", \"41\", \"75\", \"39\", \"40\", \"39\", \"48\", \"81\", \"70\", \"82\", \"45\", \"83\", \"37\", \"31\", \"18\", \"29\", \"40\", \"43\", \"45\", \"45\", \"60\", \"76\", \"24\", \"38\", \"62\", \"35\", \"30\", \"23\", \"40\", \"52\", \"40\", \"46\", \"23\", \"29\", \"25\", \"56\", \"27\", \"41\", \"43\", \"27\", \"53\", \"53\", \"43\", \"38\", \"46\", \"23\", \"27\", \"60\", \"76\", \"51\", \"54\", \"26\", \"19\", \"40\", \"24\", \"53\", \"19\", \"19\", \"55\", \"25\", \"53\", \"72\", \"66\", \"36\", \"35\", \"37\", \"34\", \"45\", \"73\", \"59\", \"21\", \"22\", \"38\", \"22\", \"21\", \"76\", \"46\", \"42\", \"82\", \"33\", \"37\", \"32\", \"44\", \"35\", \"83\", \"39\", \"77\", \"60\", \"53\", \"33\", \"50\", \"63\", \"74\", \"37\", \"31\", \"39\", \"40\", \"83\", \"45\", \"53\", \"22\", \"78\", \"34\", \"37\", \"43\", \"35\", \"85\", \"58\", \"31\", \"22\", \"65\", \"79\", \"26\", \"40\", \"47\", \"19\", \"47\", \"35\", \"22\", \"42\", \"28\", \"51\", \"40\", \"38\", \"52\", \"24\", \"44\", \"23\", \"47\", \"44\", \"51\", \"79\", \"23\", \"68\", \"34\", \"52\", \"45\", \"39\", \"50\", \"52\", \"51\", \"28\", \"39\", \"46\", \"25\", \"27\", \"70\", \"27\", \"41\", \"44\", \"29\", \"48\", \"19\", \"79\", \"33\", \"20\", \"42\", \"31\", \"46\", \"29\", \"57\", \"22\", \"53\", \"24\", \"82\", \"37\", \"48\", \"54\", \"49\", \"19\", \"50\", \"37\", \"75\", \"43\", \"41\", \"62\", \"45\", \"71\", \"40\", \"18\", \"60\", \"34\", \"50\", \"52\", \"22\", \"43\", \"42\", \"85\", \"35\", \"61\", \"30\", \"20\", \"48\", \"44\", \"36\", \"41\", \"72\", \"42\", \"42\", \"82\", \"70\", \"24\", \"19\", \"50\", \"56\", \"36\", \"44\", \"42\", \"74\", \"64\", \"72\", \"39\", \"67\", \"28\", \"41\", \"32\", \"42\", \"47\", \"75\", \"27\", \"40\", \"49\", \"34\", \"39\", \"62\", \"70\", \"36\", \"45\", \"43\", \"24\", \"47\", \"57\", \"44\", \"23\", \"48\", \"26\", \"32\", \"21\", \"54\", \"25\", \"47\", \"40\", \"45\", \"29\", \"69\", \"67\", \"69\", \"65\", \"27\", \"26\", \"46\", \"43\", \"72\", \"41\", \"45\", \"34\", \"48\", \"71\", \"48\", \"40\", \"23\", \"21\", \"36\", \"20\", \"20\", \"39\", \"53\", \"20\", \"40\", \"19\", \"52\", \"46\", \"48\", \"39\", \"29\", \"22\", \"39\", \"25\", \"51\", \"38\", \"34\", \"24\", \"28\", \"21\", \"38\", \"49\", \"22\", \"45\", \"64\", \"51\", \"40\", \"18\", \"43\", \"49\", \"31\", \"42\", \"56\", \"73\", \"29\", \"18\", \"19\", \"22\", \"30\", \"53\", \"67\", \"69\", \"19\", \"47\", \"18\", \"57\", \"47\", \"27\", \"21\", \"93\", \"43\", \"47\", \"29\", \"47\", \"27\", \"42\", \"41\", \"22\", \"55\", \"18\", \"40\", \"64\", \"64\", \"88\", \"24\", \"57\", \"76\", \"43\", \"64\", \"21\", \"22\", \"40\", \"30\", \"29\", \"43\", \"50\", \"63\", \"55\", \"25\", \"70\", \"33\", \"39\", \"30\", \"23\", \"65\", \"37\", \"37\", \"76\", \"57\", \"49\", \"84\", \"32\", \"71\", \"58\", \"56\", \"51\", \"51\", \"53\", \"20\", \"73\", \"38\", \"50\", \"44\", \"29\"]\n"
     ]
    }
   ],
   "source": [
    "preprocessor = (\n",
    "    # Convert data into Vec<Vec<String>>\n",
    "    make_split_dataframe(separator=\",\", col_names=[0, 1, 2, 3, 4, 5]) >>\n",
    "    # Selects a column of df, Vec<str>\n",
    "    make_select_column(key=0, T=str)\n",
    ")\n",
    "res = preprocessor(data)\n",
    "print(type(res))\n",
    "print(res)"
   ],
   "metadata": {
    "collapsed": false,
    "pycharm": {
     "name": "#%%\n"
    }
   }
  },
  {
   "cell_type": "markdown",
   "source": [
    "Age doesn't make sense as a string for our purposes, so let's cast it to an integer:"
   ],
   "metadata": {
    "collapsed": false,
    "pycharm": {
     "name": "#%% md\n"
    }
   }
  },
  {
   "cell_type": "code",
   "execution_count": 393,
   "outputs": [
    {
     "name": "stdout",
     "output_type": "stream",
     "text": [
      "[59, 31, 36, 54, 39, 34, 93, 69, 40, 27]\n"
     ]
    }
   ],
   "source": [
    "# Create a chained computation\n",
    "preprocessor = (\n",
    "    # Convert data into Vec<Vec<String>>\n",
    "    make_split_dataframe(separator=\",\", col_names=[0, 1, 2]) >>\n",
    "    # Selects a column of df, Vec<str>\n",
    "    make_select_column(key=0, T=str)\n",
    "    # Cast the column as Vec<Int>\n",
    ")\n",
    "chain = preprocessor >> make_cast(TI=str, TO=int) >> make_impute_constant(0)\n",
    "print(chain(data)[:10])"
   ],
   "metadata": {
    "collapsed": false,
    "pycharm": {
     "name": "#%%\n"
    }
   }
  },
  {
   "cell_type": "markdown",
   "source": [
    "Now that we have an age column as integers and we've imputed any missing values, let's clamp the values to a defined\n",
    "range so that we can quantify our sensitivity for future computations:"
   ],
   "metadata": {
    "collapsed": false,
    "pycharm": {
     "name": "#%% md\n"
    }
   }
  },
  {
   "cell_type": "code",
   "execution_count": 394,
   "outputs": [
    {
     "name": "stdout",
     "output_type": "stream",
     "text": [
      "[50, 31, 36, 50, 39, 34, 50, 50, 40, 27]\n"
     ]
    }
   ],
   "source": [
    "# Create a chained computation\n",
    "preprocessor = (\n",
    "    # Convert data into Vec<Vec<String>>\n",
    "    make_split_dataframe(separator=\",\", col_names=[0, 1, 2]) >>\n",
    "    # Selects a column of df, Vec<str>\n",
    "    make_select_column(key=0, T=str) >>\n",
    "    # Cast the column as Vec<Int>\n",
    "    make_cast(TI=str, TO=int) >>\n",
    "    # Impute missing values to 0\n",
    "    make_impute_constant(0) >>\n",
    "    make_clamp(20, 50)\n",
    ")\n",
    "res = preprocessor(data)\n",
    "print(res[:10])"
   ],
   "metadata": {
    "collapsed": false,
    "pycharm": {
     "name": "#%%\n"
    }
   }
  },
  {
   "cell_type": "markdown",
   "source": [
    "Notice the first element was 0, but the clamp changed it to 20. Similarly, the second element has changed from 59 to 50."
   ],
   "metadata": {
    "collapsed": false,
    "pycharm": {
     "name": "#%% md\n"
    }
   }
  },
  {
   "cell_type": "markdown",
   "source": [
    "Time to compute our first aggregate statistic. Suppose we want to know the sum of the ages in our dataset.\n",
    "We can add one more step to our previous computation chain: make_bounded_sum. This will take the result of make_clamp,\n",
    "and calculate the sum over the domain [20, 50]."
   ],
   "metadata": {
    "collapsed": false,
    "pycharm": {
     "name": "#%% md\n"
    }
   }
  },
  {
   "cell_type": "code",
   "execution_count": 395,
   "outputs": [
    {
     "name": "stdout",
     "output_type": "stream",
     "text": [
      "39650\n"
     ]
    }
   ],
   "source": [
    "preprocessor = (\n",
    "    # Convert data into Vec<Vec<String>>\n",
    "    make_split_dataframe(separator=\",\", col_names=[0, 1, 2, 3, 4]) >>\n",
    "    # Selects a column of df, Vec<str>\n",
    "    make_select_column(key=0, T=str) >>\n",
    "    # Cast the column as Vec<Int>\n",
    "    make_cast(TI=str, TO=int) >>\n",
    "    # Impute missing values to 0\n",
    "    make_impute_constant(0) >>\n",
    "    # Clamp age values\n",
    "    make_clamp(20, 50) >>\n",
    "    make_bounded_sum(lower=20, upper=50)\n",
    ")\n",
    "\n",
    "res = preprocessor(data)\n",
    "print(res)\n"
   ],
   "metadata": {
    "collapsed": false,
    "pycharm": {
     "name": "#%%\n"
    }
   }
  },
  {
   "cell_type": "markdown",
   "source": [
    "We may be more interested in the mean age of the data. Then we can take the result of clamp and call\n",
    "make_bounded_mean over the same domain.\n",
    "\n",
    "Our bounded mean age is:"
   ],
   "metadata": {
    "collapsed": false,
    "pycharm": {
     "name": "#%% md\n"
    }
   }
  },
  {
   "cell_type": "code",
   "execution_count": 396,
   "outputs": [
    {
     "name": "stdout",
     "output_type": "stream",
     "text": [
      "39.65\n"
     ]
    }
   ],
   "source": [
    "preprocessor = (\n",
    "    # Convert data into Vec<Vec<String>>\n",
    "    # TODO: how to remove column headers?\n",
    "    make_split_dataframe(separator=\",\", col_names=[0, 1, 2, 3, 4]) >>\n",
    "    # Selects a column of df, Vec<str>\n",
    "    make_select_column(key=0, T=str) >>\n",
    "    # Cast the column as Vec<Int>\n",
    "    make_cast(TI=str, TO=float) >>\n",
    "    # Impute missing values to 0\n",
    "    make_impute_constant(0.) >>\n",
    "    # Clamp age values\n",
    "    make_clamp(20., 50.)\n",
    "    # make_bounded_mean(lower=1000., upper=1_000_000., n=100, T=float)\n",
    "    # make_base_laplace(scale=1.0)\n",
    "\n",
    ")\n",
    "\n",
    "# TOOO: chain these into one process. Currently getting domain mismatch error\n",
    "# Mike: Once you do the count, you could pull the count before the mean, and then use the count as an input to resize.\n",
    "res = preprocessor(data)\n",
    "mean_process = make_bounded_mean(20., 50., n=1000, T=float)\n",
    "res = mean_process(res)\n",
    "print(res)"
   ],
   "metadata": {
    "collapsed": false,
    "pycharm": {
     "name": "#%%\n"
    }
   }
  },
  {
   "cell_type": "code",
   "execution_count": 397,
   "outputs": [
    {
     "name": "stdout",
     "output_type": "stream",
     "text": [
      "Bounded mean:  5.0\n"
     ]
    }
   ],
   "source": [
    "query = make_bounded_mean(lower=0., upper=10., n=9)\n",
    "print(\"Bounded mean: \", query([float(x) for x in range(0,10)]))\n"
   ],
   "metadata": {
    "collapsed": false,
    "pycharm": {
     "name": "#%%\n"
    }
   }
  },
  {
   "cell_type": "markdown",
   "source": [
    "Privatizing sums\n",
    "(TODO: Explain geometric mechanism and how it privatizes the sum)"
   ],
   "metadata": {
    "collapsed": false,
    "pycharm": {
     "name": "#%% md\n"
    }
   }
  },
  {
   "cell_type": "markdown",
   "source": [
    "preprocessor = (\n",
    "    # Convert data into Vec<Vec<String>>\n",
    "    make_split_dataframe(separator=\",\", col_names=[0, 1, 2, 3, 4]) >>\n",
    "    # Selects a column of df, Vec<str>\n",
    "    make_select_column(key=0, T=str) >>\n",
    "    # Cast the column as Vec<Int>\n",
    "    make_cast(TI=str, TO=int) >>\n",
    "    # Impute missing values to 0\n",
    "    make_impute_constant(0) >>\n",
    "    # Clamp age values\n",
    "    make_clamp(20, 50) >>\n",
    "    make_bounded_sum(lower=20, upper=50) >>\n",
    "    make_base_geometric(scale=1.0)\n",
    "\n",
    ")\n",
    "\n",
    "res = preprocessor(data)\n",
    "print(res)\n",
    "\n"
   ],
   "metadata": {
    "collapsed": false,
    "pycharm": {
     "name": "#%% md\n"
    }
   }
  },
  {
   "cell_type": "markdown",
   "source": [
    "Privatizing histograms\n",
    "\n",
    "Let's take a look at the third column, which contains education level."
   ],
   "metadata": {
    "collapsed": false,
    "pycharm": {
     "name": "#%% md\n"
    }
   }
  },
  {
   "cell_type": "code",
   "execution_count": 405,
   "outputs": [
    {
     "name": "stdout",
     "output_type": "stream",
     "text": [
      "Educational level counts:\n",
      " [33, 14, 38, 17, 24, 21, 31, 51, 201, 60, 165, 76, 178, 54, 24, 13, 0, 0, 0, 0]\n"
     ]
    }
   ],
   "source": [
    "preprocessor = (\n",
    "    # Convert data into Vec<Vec<String>>\n",
    "    make_split_dataframe(separator=\",\", col_names=[0, 1, 2, 3, 4]) >>\n",
    "    # Selects a column of df, Vec<str>\n",
    "    make_select_column(key=2, T=str) >>\n",
    "    # Cast the column as Vec<Int>\n",
    "    make_cast(TI=str, TO=int) >>\n",
    "    # Impute missing values to 0\n",
    "    make_impute_constant(0) >>\n",
    "    make_count_by_categories(categories=list(range(1,20)), MO=L1Distance[float])\n",
    ")\n",
    "\n",
    "res = preprocessor(data)\n",
    "print(\"Educational level counts:\\n\", res)"
   ],
   "metadata": {
    "collapsed": false,
    "pycharm": {
     "name": "#%%\n"
    }
   }
  },
  {
   "cell_type": "code",
   "execution_count": 428,
   "outputs": [
    {
     "data": {
      "text/plain": "<BarContainer object of 20 artists>"
     },
     "execution_count": 428,
     "metadata": {},
     "output_type": "execute_result"
    },
    {
     "data": {
      "text/plain": "<Figure size 432x288 with 1 Axes>",
      "image/png": "[encoded data removed]"
     },
     "metadata": {
      "needs_background": "light"
     },
     "output_type": "display_data"
    }
   ],
   "source": [
    "import matplotlib.pyplot as plt\n",
    "import matplotlib.ticker as ticker\n",
    "\n",
    "fig = plt.figure()\n",
    "ax = fig.add_axes([1,1,1,1])\n",
    "plt.ylim([0,250])\n",
    "tick_spacing = 1.\n",
    "ax.xaxis.set_major_locator(ticker.MultipleLocator(tick_spacing))\n",
    "plt.xlim(0,15)\n",
    "ax.bar(list(range(0, len(res))), res, width=.95, label='True Value')"
   ],
   "metadata": {
    "collapsed": false,
    "pycharm": {
     "name": "#%%\n"
    }
   }
  },
  {
   "cell_type": "code",
   "execution_count": null,
   "outputs": [],
   "source": [
    "What about a private histogram?"
   ],
   "metadata": {
    "collapsed": false,
    "pycharm": {
     "name": "#%%\n"
    }
   }
  },
  {
   "cell_type": "markdown",
   "source": [
    "What about a private histogram?"
   ],
   "metadata": {
    "collapsed": false,
    "pycharm": {
     "name": "#%% md\n"
    }
   }
  },
  {
   "cell_type": "code",
   "execution_count": 399,
   "outputs": [
    {
     "name": "stdout",
     "output_type": "stream",
     "text": [
      "Private educational level counts:\n",
      " [30, 14, 38, 17, 23, 20, 31, 49, 201, 62, 165, 77, 177, 56, 24, 15, -1, 1, 0, -1]\n"
     ]
    }
   ],
   "source": [
    "preprocessor = (\n",
    "    # Convert data into Vec<Vec<String>>\n",
    "    make_split_dataframe(separator=\",\", col_names=[0, 1, 2, 3, 4]) >>\n",
    "    # Selects a column of df, Vec<str>\n",
    "    make_select_column(key=2, T=str) >>\n",
    "    # Cast the column as Vec<Int>\n",
    "    make_cast(TI=str, TO=int) >>\n",
    "    # Impute missing values to 0\n",
    "    make_impute_constant(0) >>\n",
    "    make_count_by_categories(categories=list(range(1,20)), MO=L1Distance[float]) # >>\n",
    "    # make_base_geometric(scale=1., bounds=(0,201), D=\"VectorDomain<AllDomain<i32>>\")\n",
    ")\n",
    "\n",
    "# TODO: include this in preprocessor once PR is merged that makes histogram return VectorDomain instead of SizedDomain\n",
    "res = preprocessor(data)\n",
    "res = make_base_geometric(scale=1., D=VectorDomain[AllDomain[int]])(res)\n",
    "\n",
    "print(\"Private educational level counts:\\n\", res)\n",
    "\n"
   ],
   "metadata": {
    "collapsed": false,
    "pycharm": {
     "name": "#%%\n"
    }
   }
  },
  {
   "cell_type": "markdown",
   "source": [
    "Privatizing counts:\n",
    "\n",
    "Sometimes you will want to make a DP release of the total number of elements in a data set. For example: How many rows\n",
    "does our data set have? Below, we will use `make_count` to calculate this number, and `make_base_geometric` to\n",
    "privatize the value."
   ],
   "metadata": {
    "collapsed": false,
    "pycharm": {
     "name": "#%% md\n"
    }
   }
  },
  {
   "cell_type": "code",
   "execution_count": 401,
   "outputs": [
    {
     "name": "stdout",
     "output_type": "stream",
     "text": [
      "Private count:\t 1000\n"
     ]
    }
   ],
   "source": [
    "preprocessor = (\n",
    "    # Convert data into Vec<Vec<String>>\n",
    "    make_split_dataframe(separator=\",\", col_names=[0, 1, 2, 3, 4]) >>\n",
    "    # Selects a column of df, Vec<str>\n",
    "    make_select_column(key=2, T=str) >>\n",
    "    # Cast the column as Vec<Int>\n",
    "    make_cast(TI=str, TO=int) >>\n",
    "    # Impute missing values to 0\n",
    "    make_impute_constant(0) >>\n",
    "    make_count(TIA=int, TO=int) >>\n",
    "    make_base_geometric(scale=1., D=AllDomain[int])\n",
    ")\n",
    "\n",
    "res = preprocessor(data)\n",
    "\n",
    "print(\"Private count:\\t\", res)"
   ],
   "metadata": {
    "collapsed": false,
    "pycharm": {
     "name": "#%%\n"
    }
   }
  },
  {
   "cell_type": "code",
   "execution_count": null,
   "outputs": [],
   "source": [],
   "metadata": {
    "collapsed": false,
    "pycharm": {
     "name": "#%%\n"
    }
   }
  },
  {
   "cell_type": "code",
   "execution_count": null,
   "outputs": [],
   "source": [],
   "metadata": {
    "collapsed": false,
    "pycharm": {
     "name": "#%%\n"
    }
   }
  },
  {
   "cell_type": "code",
   "execution_count": null,
   "outputs": [],
   "source": [],
   "metadata": {
    "collapsed": false,
    "pycharm": {
     "name": "#%%# make_count\n"
    }
   }
  },
  {
   "cell_type": "markdown",
   "source": [],
   "metadata": {
    "collapsed": false,
    "pycharm": {
     "name": "#%% md\n"
    }
   }
  },
  {
   "cell_type": "code",
   "execution_count": null,
   "outputs": [],
   "source": [],
   "metadata": {
    "collapsed": false,
    "pycharm": {
     "name": "#%%"
    }
   }
  },
  {
   "cell_type": "code",
   "execution_count": null,
   "outputs": [],
   "source": [],
   "metadata": {
    "collapsed": false,
    "pycharm": {
     "name": "#%%"
    }
   }
  },
  {
   "cell_type": "code",
   "execution_count": null,
   "outputs": [],
   "source": [],
   "metadata": {
    "collapsed": false,
    "pycharm": {
     "name": "#%%"
    }
   }
  },
  {
   "cell_type": "code",
   "execution_count": null,
   "outputs": [],
   "source": [],
   "metadata": {
    "collapsed": false,
    "pycharm": {
     "name": "#%%\n"
    }
   }
  },
  {
   "cell_type": "code",
   "execution_count": null,
   "outputs": [],
   "source": [],
   "metadata": {
    "collapsed": false,
    "pycharm": {
     "name": "#%%\n"
    }
   }
  },
  {
   "cell_type": "code",
   "execution_count": 235,
   "outputs": [],
   "source": [
    "with open(data_path) as input_data:\n",
    "    data = input_data.read()"
   ],
   "metadata": {
    "collapsed": false,
    "pycharm": {
     "name": "#%%\n"
    }
   }
  },
  {
   "cell_type": "code",
   "execution_count": 236,
   "outputs": [
    {
     "name": "stdout",
     "output_type": "stream",
     "text": [
      "Income column sum:  33912224\n"
     ]
    }
   ],
   "source": [
    "preprocessor = (\n",
    "    # Convert data into Vec<Vec<String>>\n",
    "    make_split_dataframe(separator=\",\", col_names=[0, 1, 2, 3, 4]) >>\n",
    "    # Selects a column of df, Vec<str>\n",
    "    make_select_column(key=4, T=str) >>\n",
    "    # Cast the column as Vec<Int>\n",
    "    make_cast(TI=str, TO=int) >>\n",
    "    # Impute missing values to 0\n",
    "    make_impute_constant(0) >>\n",
    "    # Clamp age values\n",
    "    make_clamp(1000, 1_000_000) >>\n",
    "    make_bounded_sum(lower=1000, upper=1_000_000)\n",
    "    # make_base_laplace(scale=1.0)\n",
    "\n",
    ")\n",
    "\n",
    "\n",
    "res = preprocessor(data)\n",
    "print(\"Income column sum: \", res)\n"
   ],
   "metadata": {
    "collapsed": false,
    "pycharm": {
     "name": "#%%\n"
    }
   }
  },
  {
   "cell_type": "code",
   "execution_count": 243,
   "outputs": [
    {
     "name": "stdout",
     "output_type": "stream",
     "text": [
      "Income bounded mean:  3450622.4\n"
     ]
    }
   ],
   "source": [
    "preprocessor = (\n",
    "    # Convert data into Vec<Vec<String>>\n",
    "    # TODO: how to remove column headers?\n",
    "    make_split_dataframe(separator=\",\", col_names=[0, 1, 2, 3, 4]) >>\n",
    "    # Selects a column of df, Vec<str>\n",
    "    make_select_column(key=4, T=str) >>\n",
    "    # Cast the column as Vec<Int>\n",
    "    make_cast(TI=str, TO=float) >>\n",
    "    # Impute missing values to 0\n",
    "    make_impute_constant(0.) >>\n",
    "    # Clamp age values\n",
    "    make_clamp(1000., 1_000_000.)\n",
    "    # make_bounded_mean(lower=1000., upper=1_000_000., n=100, T=float)\n",
    "    # make_base_laplace(scale=1.0)\n",
    "\n",
    ")\n",
    "\n",
    "# TOOO: chain these into one process. Currently getting domain mismatch error\n",
    "res = preprocessor(data)\n",
    "mean_process = make_bounded_mean(1000., 1_000_000., n=10, T=float)\n",
    "res = mean_process(res)\n",
    "print(\"Income bounded mean: \", res)"
   ],
   "metadata": {
    "collapsed": false,
    "pycharm": {
     "name": "#%%\n"
    }
   }
  },
  {
   "cell_type": "code",
   "execution_count": null,
   "outputs": [],
   "source": [
    "query = make_bounded_mean(lower=0., upper=10., n=9)\n",
    "print(\"Bounded mean: \", query([float(x) for x in range(0,10)]))"
   ],
   "metadata": {
    "collapsed": false,
    "pycharm": {
     "name": "#%%\n"
    }
   }
  },
  {
   "cell_type": "code",
   "execution_count": null,
   "outputs": [],
   "source": [
    "query = make_bounded_mean(lower=0., upper=10., n=9)\n",
    "print(\"Bounded mean: \", query([float(x) for x in range(0,10)]))"
   ],
   "metadata": {
    "collapsed": false,
    "pycharm": {
     "name": "#%%\n"
    }
   }
  },
  {
   "cell_type": "code",
   "execution_count": null,
   "outputs": [],
   "source": [],
   "metadata": {
    "collapsed": false,
    "pycharm": {
     "name": "#%%\n"
    }
   }
  },
  {
   "cell_type": "code",
   "execution_count": null,
   "outputs": [],
   "source": [],
   "metadata": {
    "collapsed": false,
    "pycharm": {
     "name": "#%%\n"
    }
   }
  },
  {
   "cell_type": "code",
   "execution_count": null,
   "outputs": [],
   "source": [],
   "metadata": {
    "collapsed": false,
    "pycharm": {
     "name": "#%%\n"
    }
   }
  }
 ],
 "metadata": {
  "kernelspec": {
   "display_name": "Python 3",
   "language": "python",
   "name": "python3"
  },
  "language_info": {
   "codemirror_mode": {
    "name": "ipython",
    "version": 3
   },
   "file_extension": ".py",
   "mimetype": "text/x-python",
   "name": "python",
   "nbconvert_exporter": "python",
   "pygments_lexer": "ipython3",
   "version": "3.6.11"
  }
 },
 "nbformat": 4,
 "nbformat_minor": 2
}