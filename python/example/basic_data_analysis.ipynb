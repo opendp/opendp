{
 "cells": [
  {
   "cell_type": "markdown",
   "metadata": {},
   "source": [
    "# Basic PUMS Analysis with OpenDP\n",
    "\n",
    "This notebook will be a brief tutorial on doing data analysis within the OpenDP system.\n",
    "\n",
    "We will start out by setting up our environment -- loading the necessary libraries and establishing the very basic\n",
    "things we need to know before loading our data (the file path and variable names)."
   ]
  },
  {
   "cell_type": "code",
   "execution_count": 151,
   "metadata": {},
   "outputs": [],
   "source": [
    "# load libraries\n",
    "from opendp.trans import *\n",
    "from opendp.meas import *\n",
    "from opendp.core import *\n",
    "\n",
    "# establish data information\n",
    "data_path = os.path.join('.', 'data', 'PUMS_california_demographics_1000', 'data.csv')\n",
    "var_names = [\"age\", \"sex\", \"educ\", \"race\", \"income\", \"married\", \"pid\"]\n",
    "\n",
    "with open(data_path) as input_data:\n",
    "    data = input_data.read()"
   ]
  },
  {
   "cell_type": "markdown",
   "metadata": {},
   "source": [
    "### Properties\n",
    "\n",
    "*TODO* OpenDP architeture description here"
   ]
  },
  {
   "cell_type": "code",
   "metadata": {
    "pycharm": {
     "name": "#%%\n"
    }
   },
   "source": [
    "# Create a chained computation\n",
    "preprocessor = (\n",
    "    # Convert data into Vec<Vec<String>>\n",
    "    make_split_dataframe(separator=\",\", col_names=[0, 1, 2]) >>\n",
    "    # Selects a column of df, Vec<str>\n",
    "    make_select_column(key=0, T=str) >>\n",
    "    # Cast the column as Vec<Int>\n",
    "    make_cast(TI=str, TO=int) >>\n",
    "    # Impute missing values to 0\n",
    "    make_impute_constant(0) >>\n",
    "    # Clamp age values\n",
    "    make_clamp(20, 50)\n",
    ")\n",
    "res = preprocessor(data)\n",
    "print(\"Age column: \", res)"
   ],
   "execution_count": 152,
   "outputs": [
    {
     "name": "stdout",
     "output_type": "stream",
     "text": [
      "Age column:  [20, 50, 31, 36, 50, 39, 34, 50, 50, 40, 27, 50, 31, 50, 50, 39, 50, 32, 50, 24, 48, 50, 43, 29, 44, 50, 27, 50, 32, 50, 28, 50, 35, 36, 50, 21, 29, 44, 35, 43, 50, 50, 42, 32, 50, 20, 40, 42, 50, 50, 45, 39, 28, 46, 45, 32, 22, 50, 21, 50, 50, 38, 40, 34, 48, 50, 46, 40, 26, 37, 30, 50, 42, 24, 31, 20, 33, 47, 20, 33, 50, 23, 50, 23, 47, 48, 43, 31, 47, 50, 50, 50, 29, 33, 50, 28, 29, 38, 42, 50, 50, 37, 40, 30, 20, 50, 50, 22, 50, 48, 46, 45, 37, 50, 25, 40, 34, 50, 43, 42, 22, 45, 32, 23, 20, 50, 44, 43, 34, 32, 38, 40, 50, 31, 42, 47, 50, 30, 42, 50, 26, 50, 22, 28, 25, 30, 50, 33, 50, 23, 36, 50, 29, 29, 20, 44, 50, 50, 50, 33, 50, 35, 47, 50, 30, 31, 30, 50, 50, 22, 50, 49, 44, 20, 35, 38, 50, 32, 29, 36, 21, 43, 50, 45, 37, 41, 46, 29, 40, 24, 50, 50, 43, 50, 38, 50, 32, 50, 27, 50, 50, 50, 50, 50, 31, 50, 29, 20, 27, 50, 50, 27, 37, 50, 38, 50, 23, 34, 39, 50, 30, 39, 40, 43, 34, 50, 50, 50, 43, 31, 36, 50, 50, 38, 45, 32, 50, 50, 47, 42, 30, 36, 42, 50, 50, 50, 50, 48, 50, 50, 46, 35, 50, 20, 40, 33, 46, 50, 48, 30, 28, 40, 20, 37, 41, 50, 50, 43, 35, 34, 50, 50, 42, 50, 20, 37, 50, 40, 50, 50, 50, 48, 50, 50, 29, 30, 50, 50, 20, 31, 41, 49, 38, 35, 45, 42, 28, 32, 48, 27, 44, 50, 50, 39, 50, 34, 50, 47, 48, 50, 30, 50, 29, 40, 50, 50, 50, 50, 50, 50, 24, 50, 50, 20, 40, 50, 50, 41, 50, 50, 20, 31, 27, 50, 49, 50, 50, 40, 50, 36, 29, 38, 50, 20, 40, 42, 36, 37, 25, 50, 40, 48, 44, 40, 23, 50, 47, 50, 42, 26, 32, 36, 22, 23, 46, 23, 50, 50, 34, 49, 42, 50, 28, 23, 20, 48, 50, 44, 50, 50, 20, 27, 36, 50, 50, 41, 35, 30, 23, 23, 50, 27, 47, 50, 50, 44, 50, 38, 25, 43, 20, 50, 26, 50, 45, 38, 50, 21, 42, 20, 50, 22, 50, 38, 33, 27, 50, 50, 20, 24, 30, 37, 50, 45, 50, 50, 30, 50, 50, 46, 47, 23, 36, 50, 20, 22, 50, 22, 50, 20, 48, 32, 35, 49, 46, 28, 50, 28, 50, 49, 23, 40, 26, 48, 50, 50, 34, 36, 20, 31, 34, 20, 33, 50, 30, 42, 31, 23, 50, 50, 50, 37, 32, 42, 40, 50, 31, 30, 50, 50, 50, 27, 29, 28, 42, 34, 37, 31, 36, 44, 50, 23, 37, 29, 38, 50, 27, 50, 50, 37, 23, 50, 26, 50, 42, 43, 50, 50, 50, 50, 22, 43, 50, 31, 38, 50, 50, 50, 34, 35, 35, 45, 20, 32, 47, 50, 49, 48, 32, 28, 20, 50, 20, 35, 45, 50, 50, 39, 40, 50, 20, 40, 50, 42, 42, 38, 50, 50, 50, 50, 46, 50, 46, 28, 38, 34, 22, 48, 42, 23, 29, 50, 50, 34, 50, 50, 50, 48, 50, 27, 42, 47, 50, 47, 47, 39, 33, 50, 39, 50, 26, 50, 50, 50, 35, 28, 50, 50, 50, 32, 21, 43, 24, 50, 22, 30, 30, 35, 23, 29, 50, 20, 50, 40, 50, 50, 50, 50, 34, 20, 28, 20, 23, 50, 34, 46, 50, 32, 50, 20, 48, 45, 50, 50, 41, 33, 33, 50, 42, 50, 25, 50, 25, 50, 41, 50, 39, 40, 39, 48, 50, 50, 50, 45, 50, 37, 31, 20, 29, 40, 43, 45, 45, 50, 50, 24, 38, 50, 35, 30, 23, 40, 50, 40, 46, 23, 29, 25, 50, 27, 41, 43, 27, 50, 50, 43, 38, 46, 23, 27, 50, 50, 50, 50, 26, 20, 40, 24, 50, 20, 20, 50, 25, 50, 50, 50, 36, 35, 37, 34, 45, 50, 50, 21, 22, 38, 22, 21, 50, 46, 42, 50, 33, 37, 32, 44, 35, 50, 39, 50, 50, 50, 33, 50, 50, 50, 37, 31, 39, 40, 50, 45, 50, 22, 50, 34, 37, 43, 35, 50, 50, 31, 22, 50, 50, 26, 40, 47, 20, 47, 35, 22, 42, 28, 50, 40, 38, 50, 24, 44, 23, 47, 44, 50, 50, 23, 50, 34, 50, 45, 39, 50, 50, 50, 28, 39, 46, 25, 27, 50, 27, 41, 44, 29, 48, 20, 50, 33, 20, 42, 31, 46, 29, 50, 22, 50, 24, 50, 37, 48, 50, 49, 20, 50, 37, 50, 43, 41, 50, 45, 50, 40, 20, 50, 34, 50, 50, 22, 43, 42, 50, 35, 50, 30, 20, 48, 44, 36, 41, 50, 42, 42, 50, 50, 24, 20, 50, 50, 36, 44, 42, 50, 50, 50, 39, 50, 28, 41, 32, 42, 47, 50, 27, 40, 49, 34, 39, 50, 50, 36, 45, 43, 24, 47, 50, 44, 23, 48, 26, 32, 21, 50, 25, 47, 40, 45, 29, 50, 50, 50, 50, 27, 26, 46, 43, 50, 41, 45, 34, 48, 50, 48, 40, 23, 21, 36, 20, 20, 39, 50, 20, 40, 20, 50, 46, 48, 39, 29, 22, 39, 25, 50, 38, 34, 24, 28, 21, 38, 49, 22, 45, 50, 50, 40, 20, 43, 49, 31, 42, 50, 50, 29, 20, 20, 22, 30, 50, 50, 50, 20, 47, 20, 50, 47, 27, 21, 50, 43, 47, 29, 47, 27, 42, 41, 22, 50, 20, 40, 50, 50, 50, 24, 50, 50, 43, 50, 21, 22, 40, 30, 29, 43, 50, 50, 50, 25, 50, 33, 39, 30, 23, 50, 37, 37, 50, 50, 49, 50, 32, 50, 50, 50, 50, 50, 50, 20, 50, 38, 50, 44, 29]\n"
     ]
    }
   ]
  },
  {
   "cell_type": "code",
   "execution_count": 153,
   "outputs": [],
   "source": [
    "# set sample size\n",
    "n = 1_000\n",
    "\n",
    "# set ranges/feasible values\n",
    "age_range = (0., 100.)\n",
    "sex_vals = [0, 1]\n",
    "educ_vals = [i for i in range(1, 17)]\n",
    "race_vals = [i for i in range(1, 7)]\n",
    "income_range = (0., 500_000.)\n",
    "married_vals = [0, 1]\n"
   ],
   "metadata": {
    "collapsed": false,
    "pycharm": {
     "name": "#%%\n"
    }
   }
  },
  {
   "cell_type": "code",
   "execution_count": 154,
   "outputs": [],
   "source": [
    "with open(data_path) as input_data:\n",
    "    data = input_data.read()"
   ],
   "metadata": {
    "collapsed": false,
    "pycharm": {
     "name": "#%%\n"
    }
   }
  },
  {
   "cell_type": "code",
   "execution_count": 155,
   "outputs": [],
   "source": [
    "# preprocessor = (\n",
    "#     # Convert data into Vec<Vec<String>>\n",
    "#     make_split_dataframe(separator=\",\", col_names=[0, 1, 2, 3, 4]) >>\n",
    "#     # Selects a column of df, Vec<str>\n",
    "#     make_select_column(key=4, T=str) >>\n",
    "#     # Cast the column as Vec<Int>\n",
    "#     make_cast(TI=str, TO=float) >>\n",
    "#     # Impute missing values to 0\n",
    "#     make_impute_constant(0) >>\n",
    "#     # Clamp age values\n",
    "#     make_clamp(1000, 1_000_000) >>\n",
    "#     make_bounded_sum(lower=0, upper=1_0000)\n",
    "#     # make_base_geometric(scale=1.0)\n",
    "#\n",
    "# )\n",
    "\n",
    "\n",
    "# res = preprocessor(data)\n",
    "# print(\"Income column: \", res)\n"
   ],
   "metadata": {
    "collapsed": false,
    "pycharm": {
     "name": "#%%\n"
    }
   }
  },
  {
   "cell_type": "code",
   "execution_count": 156,
   "outputs": [],
   "source": [
    "query = make_bounded_mean(lower=0., upper=10., n=9)\n",
    "print(\"Bounded mean: \", query([float(x) for x in range(0,10)]))"
   ],
   "metadata": {
    "collapsed": false,
    "pycharm": {
     "name": "#%%\n"
    }
   }
  },
  {
   "cell_type": "code",
   "execution_count": 157,
   "outputs": [
    {
     "name": "stdout",
     "output_type": "stream",
     "text": [
      "Bounded mean:  5.0\n"
     ]
    }
   ],
   "source": [
    "clamp = (\n",
    "    # Impute missing values to 0\n",
    "    # make_impute_constant(0.) >>\n",
    "    # Clamp age values\n",
    "    make_clamp(0., 5.) # >>\n",
    "    # make_bounded_sum(lower=0., upper=1_0000.)\n",
    "    # make_base_geometric(scale=1.0)\n",
    "\n",
    ")\n",
    "\n",
    "bounded_sum = (\n",
    "    make_bounded_sum(lower=0., upper=5.)\n",
    ")\n",
    "\n",
    "\n",
    "res = clamp([float(x) for x in range(0,10)])\n",
    "print(\"Clamped: \", res)\n",
    "res = bounded_sum(res)\n",
    "print(\"Sum: \", res)\n",
    "\n"
   ],
   "metadata": {
    "collapsed": false,
    "pycharm": {
     "name": "#%%\n"
    }
   }
  },
  {
   "cell_type": "code",
   "execution_count": 158,
   "outputs": [
    {
     "name": "stdout",
     "output_type": "stream",
     "text": [
      "Clamped:  [0.0, 1.0, 2.0, 3.0, 4.0, 5.0, 5.0, 5.0, 5.0, 5.0]\n",
      "Sum:  35.0\n"
     ]
    }
   ],
   "source": [],
   "metadata": {
    "collapsed": false,
    "pycharm": {
     "name": "#%%\n"
    }
   }
  },
  {
   "cell_type": "code",
   "execution_count": null,
   "outputs": [],
   "source": [],
   "metadata": {
    "collapsed": false,
    "pycharm": {
     "name": "#%%\n"
    }
   }
  },
  {
   "cell_type": "code",
   "execution_count": null,
   "outputs": [],
   "source": [],
   "metadata": {
    "collapsed": false,
    "pycharm": {
     "name": "#%%\n"
    }
   }
  }
 ],
 "metadata": {
  "kernelspec": {
   "display_name": "Python 3",
   "language": "python",
   "name": "python3"
  },
  "language_info": {
   "codemirror_mode": {
    "name": "ipython",
    "version": 3
   },
   "file_extension": ".py",
   "mimetype": "text/x-python",
   "name": "python",
   "nbconvert_exporter": "python",
   "pygments_lexer": "ipython3",
   "version": "3.6.11"
  }
 },
 "nbformat": 4,
 "nbformat_minor": 2
}