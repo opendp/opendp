{
 "cells": [
  {
   "cell_type": "markdown",
   "source": [
    "# Basic PUMS Analysis with OpenDP\n",
    "\n",
    "This notebook will be a brief tutorial on doing data analysis within the OpenDP system.\n",
    "\n",
    "We will start out by setting up our environment -- loading the necessary libraries and establishing the very basic\n",
    "things we need to know before loading our data (the file path and variable names)."
   ],
   "metadata": {
    "collapsed": false
   }
  },
  {
   "cell_type": "code",
   "execution_count": null,
   "outputs": [],
   "source": [
    "# load libraries\n",
    "from opendp.trans import *\n",
    "from opendp.meas import *\n",
    "from opendp.core import *\n",
    "from opendp.typing import *\n",
    "\n",
    "# establish data information\n",
    "data_path = os.path.join('.', 'data', 'PUMS_california_demographics_1000', 'data.csv')\n",
    "var_names = [\"age\", \"sex\", \"educ\", \"race\", \"income\", \"married\", \"pid\"]\n",
    "\n",
    "# TODO: Remove column headers\n",
    "with open(data_path) as input_data:\n",
    "    data = input_data.read()"
   ],
   "metadata": {
    "collapsed": false,
    "pycharm": {
     "name": "#%%\n"
    }
   }
  },
  {
   "cell_type": "markdown",
   "source": [
    "### Properties\n",
    "\n",
    "*TODO* OpenDP architeture description here"
   ],
   "metadata": {
    "collapsed": false
   }
  },
  {
   "cell_type": "markdown",
   "source": [
    "Let's examine how we can read and process data within a computation chain. We already have data as a string, read in\n",
    "from a file.\n",
    "Here are the first 5 lines of the data:"
   ],
   "metadata": {
    "collapsed": false
   }
  },
  {
   "cell_type": "code",
   "execution_count": null,
   "outputs": [],
   "source": [
    "print('\\n'.join(data.split('\\n')[:6]))"
   ],
   "metadata": {
    "collapsed": false,
    "pycharm": {
     "name": "#%%\n"
    }
   }
  },
  {
   "cell_type": "markdown",
   "source": [
    "Now let's read this data into a computation chain and select the age column. Notice we will need to specify the columns\n",
    "as integer indices. make_select_column will then give us the nth column as a particular type. In this case, giving\n",
    "us the first column cast as a string:"
   ],
   "metadata": {
    "collapsed": false
   }
  },
  {
   "cell_type": "code",
   "execution_count": null,
   "outputs": [],
   "source": [
    "preprocessor = (\n",
    "    # Convert data into Vec<Vec<String>>\n",
    "    make_split_dataframe(separator=\",\", col_names=[0, 1, 2, 3, 4, 5]) >>\n",
    "    # Selects a column of df, Vec<str>\n",
    "    make_select_column(key=0, T=str)\n",
    ")\n",
    "res = preprocessor(data)\n",
    "print(type(res))\n",
    "print(res)"
   ],
   "metadata": {
    "collapsed": false,
    "pycharm": {
     "name": "#%%\n"
    }
   }
  },
  {
   "cell_type": "markdown",
   "source": [
    "Age doesn't make sense as a string for our purposes, so let's cast it to an integer:"
   ],
   "metadata": {
    "collapsed": false
   }
  },
  {
   "cell_type": "code",
   "execution_count": null,
   "outputs": [],
   "source": [
    "# Create a chained computation\n",
    "preprocessor = (\n",
    "    # Convert data into Vec<Vec<String>>\n",
    "    make_split_dataframe(separator=\",\", col_names=[0, 1, 2]) >>\n",
    "    # Selects a column of df, Vec<str>\n",
    "    make_select_column(key=0, T=str)\n",
    "    # Cast the column as Vec<Int>\n",
    ")\n",
    "chain = preprocessor >> make_cast(TI=str, TO=int) >> make_impute_constant(0)\n",
    "print(chain(data)[:10])"
   ],
   "metadata": {
    "collapsed": false,
    "pycharm": {
     "name": "#%%\n"
    }
   }
  },
  {
   "cell_type": "markdown",
   "source": [
    "Now that we have an age column as integers and we've imputed any missing values, let's clamp the values to a defined\n",
    "range so that we can quantify our sensitivity for future computations:"
   ],
   "metadata": {
    "collapsed": false
   }
  },
  {
   "cell_type": "code",
   "execution_count": null,
   "outputs": [],
   "source": [
    "# Create a chained computation\n",
    "preprocessor = (\n",
    "    # Convert data into Vec<Vec<String>>\n",
    "    make_split_dataframe(separator=\",\", col_names=[0, 1, 2]) >>\n",
    "    # Selects a column of df, Vec<str>\n",
    "    make_select_column(key=0, T=str) >>\n",
    "    # Cast the column as Vec<Int>\n",
    "    make_cast(TI=str, TO=int) >>\n",
    "    # Impute missing values to 0\n",
    "    make_impute_constant(0) >>\n",
    "    make_clamp(20, 50)\n",
    ")\n",
    "res = preprocessor(data)\n",
    "print(res[:10])"
   ],
   "metadata": {
    "collapsed": false,
    "pycharm": {
     "name": "#%%\n"
    }
   }
  },
  {
   "cell_type": "markdown",
   "source": [
    "Notice the first element was 0, but the clamp changed it to 20. Similarly, the second element has changed from 59 to 50."
   ],
   "metadata": {
    "collapsed": false
   }
  },
  {
   "cell_type": "markdown",
   "source": [
    "Time to compute our first aggregate statistic. Suppose we want to know the sum of the ages in our dataset.\n",
    "We can add one more step to our previous computation chain: make_bounded_sum. This will take the result of make_clamp,\n",
    "and calculate the sum over the domain [20, 50]."
   ],
   "metadata": {
    "collapsed": false
   }
  },
  {
   "cell_type": "code",
   "execution_count": null,
   "outputs": [],
   "source": [
    "preprocessor = (\n",
    "    # Convert data into Vec<Vec<String>>\n",
    "    make_split_dataframe(separator=\",\", col_names=[0, 1, 2, 3, 4]) >>\n",
    "    # Selects a column of df, Vec<str>\n",
    "    make_select_column(key=0, T=str) >>\n",
    "    # Cast the column as Vec<Int>\n",
    "    make_cast(TI=str, TO=int) >>\n",
    "    # Impute missing values to 0\n",
    "    make_impute_constant(0) >>\n",
    "    # Clamp age values\n",
    "    make_clamp(20, 50) >>\n",
    "    make_bounded_sum(lower=20, upper=50)\n",
    ")\n",
    "\n",
    "res = preprocessor(data)\n",
    "print(res)\n"
   ],
   "metadata": {
    "collapsed": false,
    "pycharm": {
     "name": "#%%\n"
    }
   }
  },
  {
   "cell_type": "markdown",
   "source": [
    "We may be more interested in the mean age of the data. Then we can take the result of clamp and call\n",
    "make_bounded_mean over the same domain.\n",
    "\n",
    "Our bounded mean age is:"
   ],
   "metadata": {
    "collapsed": false
   }
  },
  {
   "cell_type": "code",
   "execution_count": null,
   "outputs": [],
   "source": [
    "preprocessor = (\n",
    "    # Convert data into Vec<Vec<String>>\n",
    "    # TODO: how to remove column headers?\n",
    "    make_split_dataframe(separator=\",\", col_names=[0, 1, 2, 3, 4]) >>\n",
    "    # Selects a column of df, Vec<str>\n",
    "    make_select_column(key=0, T=str) >>\n",
    "    # Cast the column as Vec<Int>\n",
    "    make_cast(TI=str, TO=float) >>\n",
    "    # Impute missing values to 0\n",
    "    make_impute_constant(0.) >>\n",
    "    # Clamp age values\n",
    "    make_clamp(20., 50.)\n",
    "    # make_bounded_mean(lower=1000., upper=1_000_000., n=100, T=float)\n",
    "    # make_base_laplace(scale=1.0)\n",
    "\n",
    ")\n",
    "\n",
    "# TOOO: chain these into one process. Currently getting domain mismatch error\n",
    "# Mike: Once you do the count, you could pull the count before the mean, and then use the count as an input to resize.\n",
    "res = preprocessor(data)\n",
    "mean_process = make_bounded_mean(20., 50., n=1000, T=float) >> make_base_laplace(1.)\n",
    "res = mean_process(res)\n",
    "print(res)"
   ],
   "metadata": {
    "collapsed": false,
    "pycharm": {
     "name": "#%%\n"
    }
   }
  },
  {
   "cell_type": "markdown",
   "source": [
    "Privatizing sums\n",
    "(TODO: Explain geometric mechanism and how it privatizes the sum)\n",
    "\n",
    "Let's use the geometric mechanism to create a DP release of the sum of all values\n",
    "in the first column"
   ],
   "metadata": {
    "collapsed": false
   }
  },
  {
   "cell_type": "code",
   "execution_count": null,
   "outputs": [],
   "source": [
    "def user_function(index, data_type, lower, upper, epsilon):\n",
    "    preprocessor = (\n",
    "        # Convert data into Vec<Vec<String>>\n",
    "        make_split_dataframe(separator=\",\", col_names=[0, 1, 2, 3, 4]) >>\n",
    "        # Selects a column of df, Vec<str>\n",
    "        make_select_column(key=0, T=str) >>\n",
    "        # Cast the column as Vec<Int>\n",
    "        make_cast(TI=str, TO=int) >>\n",
    "        # Impute missing values to 0\n",
    "        make_impute_constant(0) >>\n",
    "        # Clamp age values\n",
    "        make_clamp(20, 50) >>\n",
    "        make_bounded_sum(lower=20, upper=50) >>\n",
    "        make_base_geometric(scale=1.0)\n",
    "\n",
    "    )\n",
    "\n",
    "    res = preprocessor(data)\n",
    "    print(\"DP Sum: \", res)"
   ],
   "metadata": {
    "collapsed": false,
    "pycharm": {
     "name": "#%%# make_count\n"
    }
   }
  },
  {
   "cell_type": "markdown",
   "source": [
    "Privatizing counts:\n",
    "\n",
    "Sometimes you will want to make a DP release of the total number of elements in a data set. For example: How many rows\n",
    "does our data set have? Below, we will use `make_count` to calculate this number, and `make_base_geometric` to\n",
    "privatize the value."
   ],
   "metadata": {
    "collapsed": false
   }
  },
  {
   "cell_type": "code",
   "execution_count": null,
   "outputs": [],
   "source": [],
   "metadata": {
    "collapsed": false,
    "pycharm": {
     "name": "#%%\n"
    }
   }
  },
  {
   "cell_type": "code",
   "execution_count": null,
   "outputs": [],
   "source": [],
   "metadata": {
    "collapsed": false,
    "pycharm": {
     "name": "#%%\n"
    }
   }
  },
  {
   "cell_type": "code",
   "execution_count": null,
   "outputs": [],
   "source": [],
   "metadata": {
    "collapsed": false,
    "pycharm": {
     "name": "#%%\n"
    }
   }
  },
  {
   "cell_type": "code",
   "execution_count": null,
   "outputs": [],
   "source": [],
   "metadata": {
    "collapsed": false,
    "pycharm": {
     "name": "#%%\n"
    }
   }
  },
  {
   "cell_type": "code",
   "execution_count": null,
   "outputs": [],
   "source": [],
   "metadata": {
    "collapsed": false,
    "pycharm": {
     "name": "#%%\n"
    }
   }
  },
  {
   "cell_type": "code",
   "execution_count": null,
   "outputs": [],
   "source": [
    "with open(data_path) as input_data:\n",
    "    data = input_data.read()"
   ],
   "metadata": {
    "collapsed": false,
    "pycharm": {
     "name": "#%%\n"
    }
   }
  },
  {
   "cell_type": "code",
   "execution_count": null,
   "outputs": [],
   "source": [
    "preprocessor = (\n",
    "    # Convert data into Vec<Vec<String>>\n",
    "    make_split_dataframe(separator=\",\", col_names=[0, 1, 2, 3, 4]) >>\n",
    "    # Selects a column of df, Vec<str>\n",
    "    make_select_column(key=4, T=str) >>\n",
    "    # Cast the column as Vec<Int>\n",
    "    make_cast(TI=str, TO=int) >>\n",
    "    # Impute missing values to 0\n",
    "    make_impute_constant(0) >>\n",
    "    # Clamp age values\n",
    "    make_clamp(1000, 1_000_000) >>\n",
    "    make_bounded_sum(lower=1000, upper=1_000_000)\n",
    "    # make_base_laplace(scale=1.0)\n",
    "\n",
    ")\n",
    "\n",
    "\n",
    "res = preprocessor(data)\n",
    "print(\"Income column sum: \", res)\n"
   ],
   "metadata": {
    "collapsed": false,
    "pycharm": {
     "name": "#%%\n"
    }
   }
  },
  {
   "cell_type": "code",
   "execution_count": null,
   "outputs": [],
   "source": [
    "preprocessor = (\n",
    "    # Convert data into Vec<Vec<String>>\n",
    "    # TODO: how to remove column headers?\n",
    "    make_split_dataframe(separator=\",\", col_names=[0, 1, 2, 3, 4]) >>\n",
    "    # Selects a column of df, Vec<str>\n",
    "    make_select_column(key=4, T=str) >>\n",
    "    # Cast the column as Vec<Int>\n",
    "    make_cast(TI=str, TO=float) >>\n",
    "    # Impute missing values to 0\n",
    "    make_impute_constant(0.) >>\n",
    "    # Clamp age values\n",
    "    make_clamp(1000., 1_000_000.)\n",
    "    # make_bounded_mean(lower=1000., upper=1_000_000., n=100, T=float)\n",
    "    # make_base_laplace(scale=1.0)\n",
    "\n",
    ")\n",
    "\n",
    "# TOOO: chain these into one process. Currently getting domain mismatch error\n",
    "res = preprocessor(data)\n",
    "mean_process = make_bounded_mean(1000., 1_000_000., n=10, T=float)\n",
    "res = mean_process(res)\n",
    "print(\"Income bounded mean: \", res)"
   ],
   "metadata": {
    "collapsed": false,
    "pycharm": {
     "name": "#%%\n"
    }
   }
  },
  {
   "cell_type": "code",
   "execution_count": null,
   "outputs": [],
   "source": [
    "query = make_bounded_mean(lower=0., upper=10., n=9)\n",
    "print(\"Bounded mean: \", query([float(x) for x in range(0,10)]))"
   ],
   "metadata": {
    "collapsed": false,
    "pycharm": {
     "name": "#%%\n"
    }
   }
  },
  {
   "cell_type": "code",
   "execution_count": null,
   "outputs": [],
   "source": [
    "query = make_bounded_mean(lower=0., upper=10., n=9)\n",
    "print(\"Bounded mean: \", query([float(x) for x in range(0,10)]))"
   ],
   "metadata": {
    "collapsed": false,
    "pycharm": {
     "name": "#%%\n"
    }
   }
  },
  {
   "cell_type": "code",
   "execution_count": null,
   "outputs": [],
   "source": [],
   "metadata": {
    "collapsed": false,
    "pycharm": {
     "name": "#%%\n"
    }
   }
  },
  {
   "cell_type": "code",
   "execution_count": null,
   "outputs": [],
   "source": [],
   "metadata": {
    "collapsed": false,
    "pycharm": {
     "name": "#%%\n"
    }
   }
  },
  {
   "cell_type": "code",
   "execution_count": null,
   "outputs": [],
   "source": [],
   "metadata": {
    "collapsed": false,
    "pycharm": {
     "name": "#%%\n"
    }
   }
  },
  {
   "cell_type": "code",
   "execution_count": null,
   "outputs": [],
   "source": [],
   "metadata": {
    "collapsed": false,
    "pycharm": {
     "name": "#%%\n"
    }
   }
  },
  {
   "cell_type": "code",
   "execution_count": null,
   "outputs": [],
   "source": [],
   "metadata": {
    "collapsed": false,
    "pycharm": {
     "name": "#%%\n"
    }
   }
  },
  {
   "cell_type": "code",
   "execution_count": null,
   "outputs": [],
   "source": [],
   "metadata": {
    "collapsed": false,
    "pycharm": {
     "name": "#%%\n"
    }
   }
  },
  {
   "cell_type": "code",
   "execution_count": null,
   "outputs": [],
   "source": [
    "with open(data_path) as input_data:\n",
    "    data = input_data.read()"
   ],
   "metadata": {
    "collapsed": false,
    "pycharm": {
     "name": "#%%\n"
    }
   }
  },
  {
   "cell_type": "code",
   "execution_count": null,
   "outputs": [],
   "source": [
    "preprocessor = (\n",
    "    # Convert data into Vec<Vec<String>>\n",
    "    make_split_dataframe(separator=\",\", col_names=[0, 1, 2, 3, 4]) >>\n",
    "    # Selects a column of df, Vec<str>\n",
    "    make_select_column(key=4, T=str) >>\n",
    "    # Cast the column as Vec<Int>\n",
    "    make_cast(TI=str, TO=int) >>\n",
    "    # Impute missing values to 0\n",
    "    make_impute_constant(0) >>\n",
    "    # Clamp age values\n",
    "    make_clamp(1000, 1_000_000) >>\n",
    "    make_bounded_sum(lower=1000, upper=1_000_000)\n",
    "    # make_base_laplace(scale=1.0)\n",
    "\n",
    ")\n",
    "\n",
    "\n",
    "res = preprocessor(data)\n",
    "print(\"Income column sum: \", res)\n"
   ],
   "metadata": {
    "collapsed": false,
    "pycharm": {
     "name": "#%%\n"
    }
   }
  },
  {
   "cell_type": "code",
   "execution_count": null,
   "outputs": [],
   "source": [
    "preprocessor = (\n",
    "    # Convert data into Vec<Vec<String>>\n",
    "    # TODO: how to remove column headers?\n",
    "    make_split_dataframe(separator=\",\", col_names=[0, 1, 2, 3, 4]) >>\n",
    "    # Selects a column of df, Vec<str>\n",
    "    make_select_column(key=4, T=str) >>\n",
    "    # Cast the column as Vec<Int>\n",
    "    make_cast(TI=str, TO=float) >>\n",
    "    # Impute missing values to 0\n",
    "    make_impute_constant(0.) >>\n",
    "    # Clamp age values\n",
    "    make_clamp(1000., 1_000_000.)\n",
    "    # make_bounded_mean(lower=1000., upper=1_000_000., n=100, T=float)\n",
    "    # make_base_laplace(scale=1.0)\n",
    "\n",
    ")\n",
    "\n",
    "# TOOO: chain these into one process. Currently getting domain mismatch error\n",
    "res = preprocessor(data)\n",
    "mean_process = make_bounded_mean(1000., 1_000_000., n=10, T=float)\n",
    "res = mean_process(res)\n",
    "print(\"Income bounded mean: \", res)"
   ],
   "metadata": {
    "collapsed": false,
    "pycharm": {
     "name": "#%%\n"
    }
   }
  },
  {
   "cell_type": "code",
   "execution_count": null,
   "outputs": [],
   "source": [
    "query = make_bounded_mean(lower=0., upper=10., n=9)\n",
    "print(\"Bounded mean: \", query([float(x) for x in range(0,10)]))"
   ],
   "metadata": {
    "collapsed": false,
    "pycharm": {
     "name": "#%%\n"
    }
   }
  },
  {
   "cell_type": "code",
   "execution_count": null,
   "outputs": [],
   "source": [
    "query = make_bounded_mean(lower=0., upper=10., n=9)\n",
    "print(\"Bounded mean: \", query([float(x) for x in range(0,10)]))"
   ],
   "metadata": {
    "collapsed": false,
    "pycharm": {
     "name": "#%%\n"
    }
   }
  },
  {
   "cell_type": "code",
   "execution_count": null,
   "outputs": [],
   "source": [],
   "metadata": {
    "collapsed": false,
    "pycharm": {
     "name": "#%%\n"
    }
   }
  },
  {
   "cell_type": "code",
   "execution_count": null,
   "outputs": [],
   "source": [],
   "metadata": {
    "collapsed": false,
    "pycharm": {
     "name": "#%%\n"
    }
   }
  },
  {
   "cell_type": "code",
   "execution_count": null,
   "outputs": [],
   "source": [],
   "metadata": {
    "collapsed": false,
    "pycharm": {
     "name": "#%%\n"
    }
   }
  },
  {
   "cell_type": "code",
   "execution_count": null,
   "outputs": [],
   "source": [],
   "metadata": {
    "collapsed": false,
    "pycharm": {
     "name": "#%%\n"
    }
   }
  },
  {
   "cell_type": "code",
   "execution_count": null,
   "outputs": [],
   "source": [],
   "metadata": {
    "collapsed": false,
    "pycharm": {
     "name": "#%%\n"
    }
   }
  },
  {
   "cell_type": "code",
   "execution_count": null,
   "outputs": [],
   "source": [],
   "metadata": {
    "collapsed": false,
    "pycharm": {
     "name": "#%%\n"
    }
   }
  },
  {
   "cell_type": "code",
   "execution_count": null,
   "outputs": [],
   "source": [
    "with open(data_path) as input_data:\n",
    "    data = input_data.read()"
   ],
   "metadata": {
    "collapsed": false,
    "pycharm": {
     "name": "#%%\n"
    }
   }
  },
  {
   "cell_type": "code",
   "execution_count": null,
   "outputs": [],
   "source": [
    "preprocessor = (\n",
    "    # Convert data into Vec<Vec<String>>\n",
    "    make_split_dataframe(separator=\",\", col_names=[0, 1, 2, 3, 4]) >>\n",
    "    # Selects a column of df, Vec<str>\n",
    "    make_select_column(key=4, T=str) >>\n",
    "    # Cast the column as Vec<Int>\n",
    "    make_cast(TI=str, TO=int) >>\n",
    "    # Impute missing values to 0\n",
    "    make_impute_constant(0) >>\n",
    "    # Clamp age values\n",
    "    make_clamp(1000, 1_000_000) >>\n",
    "    make_bounded_sum(lower=1000, upper=1_000_000)\n",
    "    # make_base_laplace(scale=1.0)\n",
    "\n",
    ")\n",
    "\n",
    "\n",
    "res = preprocessor(data)\n",
    "print(\"Income column sum: \", res)\n"
   ],
   "metadata": {
    "collapsed": false,
    "pycharm": {
     "name": "#%%\n"
    }
   }
  },
  {
   "cell_type": "code",
   "execution_count": null,
   "outputs": [],
   "source": [
    "preprocessor = (\n",
    "    # Convert data into Vec<Vec<String>>\n",
    "    # TODO: how to remove column headers?\n",
    "    make_split_dataframe(separator=\",\", col_names=[0, 1, 2, 3, 4]) >>\n",
    "    # Selects a column of df, Vec<str>\n",
    "    make_select_column(key=4, T=str) >>\n",
    "    # Cast the column as Vec<Int>\n",
    "    make_cast(TI=str, TO=float) >>\n",
    "    # Impute missing values to 0\n",
    "    make_impute_constant(0.) >>\n",
    "    # Clamp age values\n",
    "    make_clamp(1000., 1_000_000.)\n",
    "    # make_bounded_mean(lower=1000., upper=1_000_000., n=100, T=float)\n",
    "    # make_base_laplace(scale=1.0)\n",
    "\n",
    ")\n",
    "\n",
    "# TOOO: chain these into one process. Currently getting domain mismatch error\n",
    "res = preprocessor(data)\n",
    "mean_process = make_bounded_mean(1000., 1_000_000., n=10, T=float)\n",
    "res = mean_process(res)\n",
    "print(\"Income bounded mean: \", res)"
   ],
   "metadata": {
    "collapsed": false,
    "pycharm": {
     "name": "#%%\n"
    }
   }
  },
  {
   "cell_type": "code",
   "execution_count": null,
   "outputs": [],
   "source": [
    "query = make_bounded_mean(lower=0., upper=10., n=9)\n",
    "print(\"Bounded mean: \", query([float(x) for x in range(0,10)]))"
   ],
   "metadata": {
    "collapsed": false,
    "pycharm": {
     "name": "#%%\n"
    }
   }
  },
  {
   "cell_type": "code",
   "execution_count": null,
   "outputs": [],
   "source": [
    "query = make_bounded_mean(lower=0., upper=10., n=9)\n",
    "print(\"Bounded mean: \", query([float(x) for x in range(0,10)]))"
   ],
   "metadata": {
    "collapsed": false,
    "pycharm": {
     "name": "#%%\n"
    }
   }
  },
  {
   "cell_type": "code",
   "execution_count": null,
   "outputs": [],
   "source": [],
   "metadata": {
    "collapsed": false,
    "pycharm": {
     "name": "#%%\n"
    }
   }
  },
  {
   "cell_type": "code",
   "execution_count": null,
   "outputs": [],
   "source": [],
   "metadata": {
    "collapsed": false,
    "pycharm": {
     "name": "#%%\n"
    }
   }
  },
  {
   "cell_type": "code",
   "execution_count": null,
   "outputs": [],
   "source": [],
   "metadata": {
    "collapsed": false,
    "pycharm": {
     "name": "#%%\n"
    }
   }
  }
 ],
 "metadata": {
  "kernelspec": {
   "display_name": "Python 3",
   "language": "python",
   "name": "python3"
  },
  "language_info": {
   "codemirror_mode": {
    "name": "ipython",
    "version": 3
   },
   "file_extension": ".py",
   "mimetype": "text/x-python",
   "name": "python",
   "nbconvert_exporter": "python",
   "pygments_lexer": "ipython3",
   "version": "3.6.11"
  }
 },
 "nbformat": 4,
 "nbformat_minor": 2
}