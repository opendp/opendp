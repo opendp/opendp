{
    "cells": [
        {
            "cell_type": "markdown",
            "metadata": {},
            "source": [
                "An adversary can leverage a dataset reconstruction attack that takes advantage of query answers on a sequestered dataset to reconstruct the data of every individual in the dataset.\n",
                "\n",
                "\n",
                "This notebook makes use of the Public Use Microdata Sample (PUMS), obtained from the Census Bureau\u2019s American Community Survey (ACS).\n",
                "Attacks like the one demonstrated in this notebook motivate the use of statistical disclosure limitation techniques like differential privacy.\n",
                "\n",
                "We will be attempting to determine if each individual in the PUMS sample is a US citizen."
            ]
        },
        {
            "cell_type": "code",
            "execution_count": 2,
            "metadata": {},
            "outputs": [],
            "source": [
                "import numpy as np\n",
                "import pandas as pd\n",
                "\n",
                "# a dataframe containing the data to be attacked\n",
                "data: pd.DataFrame = pd.read_csv(\n",
                "    \"https://raw.githubusercontent.com/opendp/cs208/main/spring2022/data/FultonPUMS5reconstruction.csv\")\n",
                "\n",
                "# names of public identifier columns\n",
                "pub = [\"sex\", \"age\", \"educ\", \"latino\", \"black\", \"asian\",\n",
                "       \"married\", \"divorced\", \"children\", \"disability\",\n",
                "       \"militaryservice\", \"employed\", \"englishability\"]\n",
                "\n",
                "# variable to reconstruct\n",
                "target = \"uscitizen\""
            ]
        },
        {
            "cell_type": "markdown",
            "metadata": {},
            "source": [
                "Lets assume that analysts have access to a query interface that returns the number of citizens that satisfy a predicate.\n",
                "This function first creates a mask matrix of shape `(n, len(predicates))` by evaluating the predicates on the data.\n",
                "All `len(predicates)` subset sums are computed simultaneously via a matrix product between the target column and mask."
            ]
        },
        {
            "cell_type": "code",
            "execution_count": 3,
            "metadata": {},
            "outputs": [],
            "source": [
                "def execute_subsetsums_exact(predicates) -> np.ndarray:\n",
                "    \"\"\"Count the number of citizens that satisfy each predicate.\n",
                "    Resembles a public query interface on a sequestered dataset.\n",
                "\n",
                "    :param predicates: a list of predicates on the public variables\n",
                "    :returns a 1-d np.ndarray of exact answers to the subset sum queries\"\"\"\n",
                "    return data[target].values @ np.stack([pred(data) for pred in predicates], axis=1)"
            ]
        },
        {
            "cell_type": "markdown",
            "metadata": {},
            "source": [
                "Here's a quick example of how an analyst might use this query interface:"
            ]
        },
        {
            "cell_type": "code",
            "execution_count": 4,
            "metadata": {},
            "outputs": [
                {
                    "data": {
                        "text/plain": [
                            "array([22, 19])"
                        ]
                    },
                    "execution_count": 4,
                    "metadata": {},
                    "output_type": "execute_result"
                }
            ],
            "source": [
                "execute_subsetsums_exact([\n",
                "    lambda data: data['sex'] == 1,      # \"is-female\" predicate\n",
                "    lambda data: data['married'] == 1,  # \"is-married\" predicate\n",
                "])"
            ]
        },
        {
            "cell_type": "markdown",
            "metadata": {},
            "source": [
                "### Reconstruction Attack\n",
                "\n",
                "An attacker wants to reconstruct the `uscitizen` column in the sequestered dataset.\n",
                "\n",
                "If we consider the predicate mask `A`, the US citizen column `x`, and the subset sum answers `b`, \n",
                "then what we need to do is find the `x` that minimizes `|Ax - b|^2`.\n",
                "The target column is equivalent to the least squares solution (assuming the public variables uniquely identify each individual)."
            ]
        },
        {
            "cell_type": "code",
            "execution_count": 5,
            "metadata": {
                "cell_id": "24977ec4-33c1-4d70-bd92-1345299b5c86",
                "execution_millis": 1472,
                "execution_start": 1644522288707,
                "source_hash": "954d2138",
                "tags": []
            },
            "outputs": [],
            "source": [
                "from scipy.optimize import lsq_linear\n",
                "\n",
                "def reconstruction_attack(data_pub, predicates, answers):\n",
                "    \"\"\"Reconstructs a target column based on the `answers` to queries about `data`.\n",
                "\n",
                "    :param data_pub: data of length n consisting of public identifiers\n",
                "    :param predicates: a list of k predicate functions\n",
                "    :param answers: a list of k answers to a query on data filtered by the k predicates\n",
                "    :return 1-dimensional boolean ndarray\"\"\"\n",
                "    masks = np.stack([pred(data_pub) for pred in predicates])\n",
                "    return lsq_linear(masks, answers, bounds=(0, 1)).x > 0.5\n"
            ]
        },
        {
            "cell_type": "markdown",
            "metadata": {},
            "source": [
                "We don't want to bother writing a large number of random predicates, \n",
                "so we'll make use of a hashing scheme to generate random predicates. "
            ]
        },
        {
            "cell_type": "code",
            "execution_count": 6,
            "metadata": {},
            "outputs": [],
            "source": [
                "def make_random_predicate():\n",
                "    \"\"\"Returns a (pseudo)random predicate function by hashing public identifiers.\"\"\"\n",
                "    prime = 691\n",
                "    desc = np.random.randint(prime, size=len(pub))\n",
                "    # this predicate maps data into a 1-d ndarray of booleans\n",
                "    #   (where `@` is the dot product and `%` modulus)\n",
                "    return lambda data: ((data[pub].values @ desc) % prime % 2).astype(bool)\n",
                "\n",
                "# Example usage\n",
                "random_predicate = make_random_predicate()\n",
                "num_citizens_that_matched_random_predicate = execute_subsetsums_exact([random_predicate])\n",
                "\n",
                "# The boolean mask from applying the example predicate to the data:\n",
                "random_predicate_mask = random_predicate(data)"
            ]
        },
        {
            "cell_type": "markdown",
            "metadata": {},
            "source": [
                "At this point, we're ready to conduct our attack. \n",
                "We generate a large number of random queries, submit them to the query interface, and find the least-squares solution."
            ]
        },
        {
            "cell_type": "code",
            "execution_count": 7,
            "metadata": {},
            "outputs": [],
            "source": [
                "\n",
                "predicates = [make_random_predicate() for _ in range(2 * len(data))]\n",
                "exact_answers = execute_subsetsums_exact(predicates)\n",
                "\n",
                "# generate example predicates and compute example query answers\n",
                "reconstructed_target = reconstruction_attack(\n",
                "    data_pub=data[pub], predicates=predicates, answers=exact_answers)\n",
                "\n",
                "# complete reconstruction of the target column\n",
                "assert np.array_equal(reconstructed_target, data[target])"
            ]
        },
        {
            "cell_type": "markdown",
            "metadata": {},
            "source": [
                "As we can see, the target column is perfectly reconstructed, and the attacker has the US citizenship status of every member of the sequestered dataset.\n",
                "\n",
                "### Mitigations\n",
                "What mitigations can the query interface use to prevent this reconstruction?\n",
                "I've supplied three new query interfaces with mitigations based on rounding, adding gaussian noise, or random sampling."
            ]
        },
        {
            "cell_type": "code",
            "execution_count": 8,
            "metadata": {
                "cell_id": "ccad7824-05b1-4bc2-a6fb-3800ead48d87",
                "execution_millis": 34,
                "execution_start": 1644522290224,
                "source_hash": "ff6b4e76",
                "tags": []
            },
            "outputs": [],
            "source": [
                "def execute_subsetsums_round(r, predicates):\n",
                "    \"\"\"Return subset sums on the target column, rounded to the nearest multiple of `r`.\"\"\"\n",
                "    return (execute_subsetsums_exact(predicates) / r).round() * r\n",
                "\n",
                "\n",
                "def execute_subsetsums_noise(sigma, predicates):\n",
                "    \"\"\"Return subset sums on the target column, with noise ~ gaussian(`sigma`).\"\"\"\n",
                "    return execute_subsetsums_exact(predicates) + np.random.normal(scale=sigma, size=exact_answers.shape)\n",
                "\n",
                "\n",
                "def execute_subsetsums_sample(t, predicates):\n",
                "    sub_data = data.iloc[np.random.choice(np.arange(len(data)), size=t, replace=False)]\n",
                "    return sub_data[target].values @ np.stack([pred(sub_data) for pred in predicates], axis=1)"
            ]
        },
        {
            "cell_type": "markdown",
            "metadata": {},
            "source": [
                "We'll also want to evaluate the utility of these new query interfaces.\n",
                "How accurate is dataset reconstruction when these mitigations are in place, and what is the RMSE of the subset sum queries?"
            ]
        },
        {
            "cell_type": "code",
            "execution_count": 9,
            "metadata": {},
            "outputs": [],
            "source": [
                "def compute_accuracy_reconstruction(reconstructed):\n",
                "    return (reconstructed == data[target]).mean()\n",
                "\n",
                "\n",
                "def compute_rmse_answers(answers):\n",
                "    return np.sqrt(np.mean((answers - exact_answers) ** 2))\n",
                "\n",
                "interfaces = {\n",
                "    \"round\": execute_subsetsums_round,\n",
                "    \"noise\": execute_subsetsums_noise,\n",
                "    \"sample\": execute_subsetsums_sample\n",
                "}\n",
                "\n",
                "\n",
                "def evaluate_performance(interface_name, param):\n",
                "    predicates_temp = [make_random_predicate() for _ in range(2 * len(data))]\n",
                "    answers = interfaces[interface_name](param, predicates_temp)\n",
                "    reconstruction = reconstruction_attack(data[pub], predicates_temp, answers)\n",
                "    return {\n",
                "        \"interface\": interface_name,\n",
                "        \"param\": param,\n",
                "        \"answer rmse\": compute_rmse_answers(answers),\n",
                "        \"reconstruction accuracy\": compute_accuracy_reconstruction(reconstruction),\n",
                "    }"
            ]
        },
        {
            "cell_type": "markdown",
            "metadata": {},
            "source": [
                "I've provided a few spot examples of how these mitigations perform."
            ]
        },
        {
            "cell_type": "code",
            "execution_count": 10,
            "metadata": {
                "cell_id": "b40012c7-83aa-49ad-b5e7-fcc23b26bb5e",
                "execution_millis": 3492,
                "execution_start": 1644522290522,
                "source_hash": "16d6f9b0",
                "tags": []
            },
            "outputs": [
                {
                    "name": "stdout",
                    "output_type": "stream",
                    "text": [
                        "When noising answers with gaussian sigma of 2.0, RMSE of answers is 4.5, and 99.00% of entries were reconstructed.\n",
                        "When sampling to 10 rows and then correcting for bias, RMSE of answers is 19.49, and 61.00% of entries were reconstructed.\n",
                        "When rounding answers to the nearest multiple of 20, RMSE of answers is 2.894, and 51.00% of entries were reconstructed.\n",
                        "When rounding answers to the nearest multiple of 40, RMSE of answers is 20.11, and 82.00% of entries were reconstructed.\n"
                    ]
                }
            ],
            "source": [
                "perf = evaluate_performance(\"noise\", param=2.)\n",
                "print(f'When noising answers with gaussian sigma of {perf[\"param\"]}, '\n",
                "        f'RMSE of answers is {perf[\"answer rmse\"]:.4}, and '\n",
                "        f'{perf[\"reconstruction accuracy\"]:.2%} of entries were reconstructed.')\n",
                "\n",
                "perf = evaluate_performance(\"sample\", param=10)\n",
                "print(f'When sampling to {perf[\"param\"]} rows and then correcting for bias, '\n",
                "        f'RMSE of answers is {perf[\"answer rmse\"]:.4}, and '\n",
                "        f'{perf[\"reconstruction accuracy\"]:.2%} of entries were reconstructed.')\n",
                "\n",
                "perf = evaluate_performance(\"round\", param=20)\n",
                "print(f'When rounding answers to the nearest multiple of {perf[\"param\"]}, '\n",
                "        f'RMSE of answers is {perf[\"answer rmse\"]:.4}, and '\n",
                "        f'{perf[\"reconstruction accuracy\"]:.2%} of entries were reconstructed.')\n",
                "        \n",
                "perf = evaluate_performance(\"round\", param=40)\n",
                "print(f'When rounding answers to the nearest multiple of {perf[\"param\"]}, '\n",
                "        f'RMSE of answers is {perf[\"answer rmse\"]:.4}, and '\n",
                "        f'{perf[\"reconstruction accuracy\"]:.2%} of entries were reconstructed.')"
            ]
        },
        {
            "cell_type": "markdown",
            "metadata": {},
            "source": [
                "Notice among the last two examples that, as expected, the RMSE of the rounding mitigation increases as the rounding parameter increases.\n",
                "However, surprisingly, the reconstruction accuracy is greater when the rounding parameter is 40 compared to when it is 20.\n",
                "\n",
                "The explanation for this is that the average of the exact sums is ~20.39, so when the rounding parameter is 20, nearly all answers returned by the query interface are 20.\n",
                "Contrast to when the rounding parameter is 40, approximately half of the query answers are 40, and half are 0, giving one bit of entropy per predicate to reconstruct the dataset. \n",
                "\n",
                "### Simulations\n",
                "All mitigations naturally take a parameter ranging between 1 and 100, so lets evaluate the reconstruction accuracy and answer RMSE as this parameter is varied."
            ]
        },
        {
            "cell_type": "code",
            "execution_count": 11,
            "metadata": {
                "cell_id": "bfb68d8b-e750-42f4-b966-9ecfa533bcf6",
                "execution_millis": 529166,
                "execution_start": 1644522294052,
                "source_hash": "891857a0",
                "tags": []
            },
            "outputs": [
                {
                    "name": "stdout",
                    "output_type": "stream",
                    "text": [
                        "Evaluating round\n",
                        "Evaluating noise\n",
                        "Evaluating sample\n"
                    ]
                }
            ],
            "source": [
                "def evaluate_all_performances(num_trials=10):\n",
                "    losses = []\n",
                "    for interface_name in interfaces:\n",
                "        print(\"Evaluating\", interface_name)\n",
                "        for param in range(1, len(data) + 1, 5):\n",
                "            for _ in range(num_trials):\n",
                "                losses.append(evaluate_performance(interface_name, param))\n",
                "    return pd.DataFrame(losses)\n",
                "\n",
                "\n",
                "all_perf = evaluate_all_performances().groupby([\"interface\", \"param\"]).mean()"
            ]
        },
        {
            "cell_type": "markdown",
            "metadata": {},
            "source": [
                "We'll first visualize the reconstruction performance as we vary the parameter supplied to the mitigation."
            ]
        },
        {
            "cell_type": "code",
            "execution_count": 12,
            "metadata": {
                "cell_id": "c97b8caa-ce14-428a-96d5-51ebf383c118",
                "execution_millis": 485,
                "execution_start": 1644522827541,
                "source_hash": "dca85dc4",
                "tags": []
            },
            "outputs": [
                {
                    "data": {
                        "image/png": "[encoded data removed]",
                        "text/plain": [
                            "<Figure size 432x288 with 1 Axes>"
                        ]
                    },
                    "metadata": {
                        "needs_background": "light"
                    },
                    "output_type": "display_data"
                }
            ],
            "source": [
                "import matplotlib.pyplot as plt\n",
                "\n",
                "for name, perf in all_perf.groupby(\"interface\"):\n",
                "    perf.reset_index(inplace=True)\n",
                "    plt.plot(perf['param'], perf['reconstruction accuracy'], label=name)\n",
                "\n",
                "plt.legend()\n",
                "plt.title(\"Performance comparison per query interface\")\n",
                "plt.xlabel(\"parameter\")\n",
                "plt.ylabel(\"reconstruction accuracy\")\n",
                "\n",
                "plt.show()"
            ]
        },
        {
            "cell_type": "markdown",
            "metadata": {},
            "source": [
                "Since the PUMS sample was stratified to have a 60-40 split, the reconstruction accuracy is still 60% if the reconstructed column consists of all zeros. \n",
                "We'll consider 60% our baseline.\n",
                "Releasing a constant column is the behavior of the sample mitigation when the sample size is ~1, \n",
                "or when rounding to the nearest multiple of 60 or more, which rounds all answers to zero.\n",
                "\n",
                "When using the rounding defense, the greatest amount of information is lost when the mean answer is a multiple of the rounding parameter. \n",
                "This effect is most pronounced when the rounding parameter is equal to the mean, at approximately 20. \n",
                "\n",
                "Increasing the noise scale very quickly affects the reconstruction accuracy. \n",
                "At large noise scales (>10), the noise dominates the signal, leading to a reconstruction accuracy that is worse than the baseline.\n",
                "\n",
                "The next plot compares the reconstruction accuracy against the RMSE of the answers."
            ]
        },
        {
            "cell_type": "code",
            "execution_count": 13,
            "metadata": {
                "cell_id": "903928ce-a50c-4003-93d4-ee7eddebbfe3",
                "execution_millis": 4341,
                "execution_start": 1644522823219,
                "source_hash": "cf863872",
                "tags": []
            },
            "outputs": [
                {
                    "data": {
                        "image/png": "[encoded data removed]",
                        "text/plain": [
                            "<Figure size 432x288 with 1 Axes>"
                        ]
                    },
                    "metadata": {
                        "needs_background": "light"
                    },
                    "output_type": "display_data"
                }
            ],
            "source": [
                "for name, perf in all_perf.groupby(\"interface\"):\n",
                "    plt.plot(perf['answer rmse'], perf['reconstruction accuracy'], label=name)\n",
                "\n",
                "plt.legend()\n",
                "plt.title(\"Performance comparison per query interface\")\n",
                "plt.xlabel(\"answer rmse\")\n",
                "plt.ylabel(\"reconstruction accuracy\")\n",
                "\n",
                "plt.show()"
            ]
        },
        {
            "cell_type": "markdown",
            "metadata": {
                "cell_id": "077f8829-5def-4d78-a305-6baabacc4264",
                "execution_millis": 15,
                "execution_start": 1644522828029,
                "source_hash": "b623e53d",
                "tags": []
            },
            "source": [
                "On first impression, the rounding mitigation may look wrong, but we can see how RMSE doesn't drop as we increase dataset size."
            ]
        }
    ],
    "metadata": {
        "interpreter": {
            "hash": "3220da548452ac41acb293d0d6efded0f046fab635503eb911c05f743e930f34"
        },
        "kernelspec": {
            "display_name": "Python 3.8.12 ('psi')",
            "language": "python",
            "name": "python3"
        },
        "language_info": {
            "codemirror_mode": {
                "name": "ipython",
                "version": 3
            },
            "file_extension": ".py",
            "mimetype": "text/x-python",
            "name": "python",
            "nbconvert_exporter": "python",
            "pygments_lexer": "ipython3",
            "version": "3.8.12"
        },
        "orig_nbformat": 2
    },
    "nbformat": 4,
    "nbformat_minor": 2
}