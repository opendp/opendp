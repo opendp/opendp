{
 "cells": [
  {
   "cell_type": "markdown",
   "metadata": {
    "cell_id": "736d13b6-474d-45bc-b0b2-4e1af6b43cb4",
    "deepnote_cell_type": "markdown"
   },
   "source": [
    "An adversary can leverage a dataset reconstruction attack that takes advantage of query answers on a sequestered dataset to reconstruct the data of every individual in the dataset.\n",
    "\n",
    "\n",
    "This notebook makes use of the Public Use Microdata Sample (PUMS), obtained from the Census Bureau’s American Community Survey (ACS).\n",
    "Attacks like the one demonstrated in this notebook motivate the use of statistical disclosure limitation techniques like differential privacy.\n",
    "\n",
    "We will be attempting to determine if each individual in the PUMS sample is a US citizen."
   ]
  },
  {
   "cell_type": "code",
   "execution_count": 1,
   "metadata": {
    "cell_id": "00001-9f97ac6b-0737-4d65-abcc-026f0143fcd0",
    "deepnote_cell_type": "code",
    "deepnote_to_be_reexecuted": false,
    "execution_millis": 128,
    "execution_start": 1645482481838,
    "source_hash": "1fe4e8fc"
   },
   "outputs": [],
   "source": [
    "import numpy as np\n",
    "import pandas as pd\n",
    "\n",
    "# a dataframe containing the data to be attacked\n",
    "data: pd.DataFrame = pd.read_csv(\n",
    "    \"https://raw.githubusercontent.com/opendp/cs208/main/spring2022/data/FultonPUMS5reconstruction.csv\")\n",
    "\n",
    "# names of public identifier columns\n",
    "pub = [\"sex\", \"age\", \"educ\", \"latino\", \"black\", \"asian\",\n",
    "       \"married\", \"divorced\", \"children\", \"disability\",\n",
    "       \"militaryservice\", \"employed\", \"englishability\"]\n",
    "\n",
    "# variable to reconstruct\n",
    "target = \"uscitizen\""
   ]
  },
  {
   "cell_type": "markdown",
   "metadata": {
    "cell_id": "00002-96841646-aa65-4417-8ae5-83d1d049289a",
    "deepnote_cell_type": "markdown"
   },
   "source": [
    "Lets assume that analysts have access to a query interface that returns the number of citizens that satisfy a predicate.\n",
    "This function first creates a mask matrix of shape `(n, len(predicates))` by evaluating the predicates on the data.\n",
    "All `len(predicates)` subset sums are computed simultaneously via a matrix product between the target column and mask."
   ]
  },
  {
   "cell_type": "code",
   "execution_count": 2,
   "metadata": {
    "cell_id": "00003-5d0e61ab-3be0-4a69-b89b-074f07433282",
    "deepnote_cell_type": "code",
    "deepnote_to_be_reexecuted": false,
    "execution_millis": 11,
    "execution_start": 1645482481974,
    "source_hash": "d191ff6c"
   },
   "outputs": [],
   "source": [
    "def execute_subsetsums_exact(predicates):\n",
    "    \"\"\"Count the number of citizens that satisfy each predicate.\n",
    "    Resembles a public query interface on a sequestered dataset.\n",
    "\n",
    "    :param predicates: a list of predicates on the public variables\n",
    "    :returns a 1-d np.ndarray of exact answers to the subset sum queries\"\"\"\n",
    "    return data[target].values @ np.stack([pred(data) for pred in predicates], axis=1)"
   ]
  },
  {
   "cell_type": "markdown",
   "metadata": {
    "cell_id": "00004-2e723dd9-f736-462f-8d88-74df0044991d",
    "deepnote_cell_type": "markdown"
   },
   "source": [
    "Here's a quick example of how an analyst might use this query interface:"
   ]
  },
  {
   "cell_type": "code",
   "execution_count": 3,
   "metadata": {
    "cell_id": "00005-1c705a9d-c99a-4dff-bef5-927a0f26e148",
    "deepnote_cell_type": "code",
    "deepnote_output_heights": [
     21
    ],
    "deepnote_to_be_reexecuted": false,
    "execution_millis": 70,
    "execution_start": 1645482481993,
    "source_hash": "23eb4a05"
   },
   "outputs": [
    {
     "data": {
      "text/plain": [
       "array([22, 19])"
      ]
     },
     "execution_count": 3,
     "metadata": {},
     "output_type": "execute_result"
    }
   ],
   "source": [
    "execute_subsetsums_exact([\n",
    "    lambda data: data['sex'] == 1,      # \"is-female\" predicate\n",
    "    lambda data: data['married'] == 1,  # \"is-married\" predicate\n",
    "])"
   ]
  },
  {
   "cell_type": "markdown",
   "metadata": {
    "cell_id": "00006-92ac4030-a38f-427d-8cb5-5b4e37bc1b60",
    "deepnote_cell_type": "markdown"
   },
   "source": [
    "### Reconstruction Attack\n",
    "\n",
    "An attacker wants to reconstruct the `uscitizen` column in the sequestered dataset.\n",
    "\n",
    "If we consider the predicate mask `A`, the US citizen column `x`, and the subset sum answers `b`, \n",
    "then what we need to do is find the `x` that minimizes `|Ax - b|^2`.\n",
    "The target column is equivalent to the least squares solution (assuming the public variables uniquely identify each individual)."
   ]
  },
  {
   "cell_type": "code",
   "execution_count": 4,
   "metadata": {
    "cell_id": "00007-a7980819-178c-41ed-a780-9d14ff39f617",
    "deepnote_cell_type": "code",
    "deepnote_to_be_reexecuted": false,
    "execution_millis": 43,
    "execution_start": 1645482482070,
    "source_hash": "4ac35689",
    "tags": []
   },
   "outputs": [],
   "source": [
    "def reconstruction_attack(data_pub, predicates, answers):\n",
    "    \"\"\"Reconstructs a target column based on the `answers` to queries about `data`.\n",
    "\n",
    "    :param data_pub: data of length n consisting of public identifiers\n",
    "    :param predicates: a list of k predicate functions\n",
    "    :param answers: a list of k answers to a query on data filtered by the k predicates\n",
    "    :return 1-dimensional boolean ndarray\"\"\"\n",
    "    masks = np.stack([pred(data_pub) for pred in predicates])\n",
    "    return np.linalg.lstsq(masks, answers, rcond=None)[0] > 0.5\n"
   ]
  },
  {
   "cell_type": "markdown",
   "metadata": {
    "cell_id": "00008-31308a80-1811-4964-b08e-b0fbb6485c31",
    "deepnote_cell_type": "markdown"
   },
   "source": [
    "We don't want to bother writing a large number of random predicates, \n",
    "so we'll make use of a hashing scheme to generate random predicates. "
   ]
  },
  {
   "cell_type": "code",
   "execution_count": 5,
   "metadata": {
    "cell_id": "00009-b7f1c1b3-a776-4bea-9c96-c02a34c92855",
    "deepnote_cell_type": "code",
    "deepnote_to_be_reexecuted": false,
    "execution_millis": 1,
    "execution_start": 1645482482113,
    "source_hash": "fc67c600"
   },
   "outputs": [],
   "source": [
    "def make_random_predicate():\n",
    "    \"\"\"Returns a (pseudo)random predicate function by hashing public identifiers.\"\"\"\n",
    "    prime = 691\n",
    "    desc = np.random.randint(prime, size=len(pub))\n",
    "    # this predicate maps data into a 1-d ndarray of booleans\n",
    "    #   (where `@` is the dot product and `%` modulus)\n",
    "    return lambda data: ((data[pub].values @ desc) % prime % 2).astype(bool)\n",
    "\n",
    "# Example usage\n",
    "random_predicate = make_random_predicate()\n",
    "num_citizens_that_matched_random_predicate = execute_subsetsums_exact([random_predicate])\n",
    "\n",
    "# The boolean mask from applying the example predicate to the data:\n",
    "random_predicate_mask = random_predicate(data)"
   ]
  },
  {
   "cell_type": "markdown",
   "metadata": {
    "cell_id": "00010-2ba28d8d-d558-4515-b8f9-d58223ded0ff",
    "deepnote_cell_type": "markdown"
   },
   "source": [
    "At this point, we're ready to conduct our attack. \n",
    "We generate a large number of random queries, submit them to the query interface, and find the least-squares solution."
   ]
  },
  {
   "cell_type": "code",
   "execution_count": 6,
   "metadata": {
    "cell_id": "00011-f97fb24a-3e05-4ba5-9bed-586a382a37c6",
    "deepnote_cell_type": "code",
    "deepnote_to_be_reexecuted": false,
    "execution_millis": 500,
    "execution_start": 1645482482155,
    "source_hash": "4777b8c5"
   },
   "outputs": [],
   "source": [
    "predicates = [make_random_predicate() for _ in range(2 * len(data))]\n",
    "exact_answers = execute_subsetsums_exact(predicates)\n",
    "\n",
    "# generate example predicates and compute example query answers\n",
    "reconstructed_target = reconstruction_attack(\n",
    "    data_pub=data[pub], predicates=predicates, answers=exact_answers)\n",
    "\n",
    "# complete reconstruction of the target column\n",
    "assert np.array_equal(reconstructed_target, data[target])"
   ]
  },
  {
   "cell_type": "markdown",
   "metadata": {
    "cell_id": "00012-f32c5c8d-755a-4c30-8b30-cb39c968ba2e",
    "deepnote_cell_type": "markdown"
   },
   "source": [
    "As we can see, the target column is perfectly reconstructed, and the attacker has the US citizenship status of every member of the sequestered dataset.\n",
    "\n",
    "### Mitigations\n",
    "What mitigations can the query interface use to prevent this reconstruction?\n",
    "I've supplied three new query interfaces with mitigations based on rounding, adding gaussian noise, or random sampling."
   ]
  },
  {
   "cell_type": "code",
   "execution_count": 7,
   "metadata": {
    "cell_id": "00013-3d110708-9d65-4c27-a80f-5d436e69c73a",
    "deepnote_cell_type": "code",
    "deepnote_to_be_reexecuted": false,
    "execution_millis": 10,
    "execution_start": 1645482482671,
    "source_hash": "2e650912",
    "tags": []
   },
   "outputs": [],
   "source": [
    "def execute_subsetsums_round(r, predicates):\n",
    "    \"\"\"Return subset sums on the target column, rounded to the nearest multiple of `r`.\"\"\"\n",
    "    return (execute_subsetsums_exact(predicates) / r).round() * r\n",
    "\n",
    "\n",
    "def execute_subsetsums_noise(sigma, predicates):\n",
    "    \"\"\"Return subset sums on the target column, with noise ~ gaussian(`sigma`).\"\"\"\n",
    "    return np.random.normal(\n",
    "        execute_subsetsums_exact(predicates),\n",
    "        scale=sigma, size=exact_answers.shape)\n",
    "\n",
    "\n",
    "def execute_subsetsums_sample(t, predicates):\n",
    "    \"\"\"Return an estimate for subset sums on the target column, based on a sample of size `t`.\"\"\"\n",
    "    sub_data = data.sample(t)\n",
    "    mask = np.stack([pred(sub_data) for pred in predicates], axis=1)\n",
    "    return sub_data[target].values @ mask * len(data) / t"
   ]
  },
  {
   "cell_type": "markdown",
   "metadata": {
    "cell_id": "00014-fbc57a9b-3cdb-4bfc-91c7-536f900e8d71",
    "deepnote_cell_type": "markdown"
   },
   "source": [
    "We'll also want to evaluate the utility of these new query interfaces.\n",
    "How accurate is dataset reconstruction when these mitigations are in place, and what is the RMSE of the subset sum queries?"
   ]
  },
  {
   "cell_type": "code",
   "execution_count": 8,
   "metadata": {
    "cell_id": "00015-98a738a5-8eb6-4cb7-8409-b6fa869d74fe",
    "deepnote_cell_type": "code",
    "deepnote_to_be_reexecuted": false,
    "execution_millis": 44,
    "execution_start": 1645482482696,
    "source_hash": "7c031d88"
   },
   "outputs": [],
   "source": [
    "def compute_accuracy_reconstruction(reconstructed):\n",
    "    return (reconstructed == data[target]).mean()\n",
    "\n",
    "\n",
    "def compute_rmse_answers(answers):\n",
    "    return np.sqrt(np.mean((answers - exact_answers) ** 2))\n",
    "\n",
    "interfaces = {\n",
    "    \"round\": execute_subsetsums_round,\n",
    "    \"noise\": execute_subsetsums_noise,\n",
    "    \"sample\": execute_subsetsums_sample\n",
    "}\n",
    "\n",
    "\n",
    "def evaluate_performance(interface_name, param):\n",
    "    predicates_temp = [make_random_predicate() for _ in range(2 * len(data))]\n",
    "    answers = interfaces[interface_name](param, predicates_temp)\n",
    "    reconstruction = reconstruction_attack(data[pub], predicates_temp, answers)\n",
    "    return {\n",
    "        \"interface\": interface_name,\n",
    "        \"param\": param,\n",
    "        \"answer rmse\": compute_rmse_answers(answers),\n",
    "        \"reconstruction accuracy\": compute_accuracy_reconstruction(reconstruction),\n",
    "    }"
   ]
  },
  {
   "cell_type": "markdown",
   "metadata": {
    "cell_id": "00016-9a78799c-6563-4ab8-83e0-221d27b63c9c",
    "deepnote_cell_type": "markdown"
   },
   "source": [
    "I've provided a few spot examples of how these mitigations perform."
   ]
  },
  {
   "cell_type": "code",
   "execution_count": 9,
   "metadata": {
    "cell_id": "00017-5566b341-78bb-4df0-a79b-e807fe3499f5",
    "deepnote_cell_type": "code",
    "deepnote_to_be_reexecuted": false,
    "execution_millis": 2670,
    "execution_start": 1645482482741,
    "source_hash": "b9396c1f",
    "tags": []
   },
   "outputs": [
    {
     "name": "stdout",
     "output_type": "stream",
     "text": [
      "When noising answers with gaussian sigma of 2.0, RMSE of answers is 4.859, and 89.00% of entries were reconstructed.\n",
      "When sampling to 10 rows and then correcting for bias, RMSE of answers is 10.61, and 64.00% of entries were reconstructed.\n",
      "When rounding answers to the nearest multiple of 20, RMSE of answers is 3.194, and 47.00% of entries were reconstructed.\n",
      "When rounding answers to the nearest multiple of 40, RMSE of answers is 20.04, and 82.00% of entries were reconstructed.\n"
     ]
    }
   ],
   "source": [
    "perf = evaluate_performance(\"noise\", param=2.)\n",
    "print(f'When noising answers with gaussian sigma of {perf[\"param\"]}, '\n",
    "        f'RMSE of answers is {perf[\"answer rmse\"]:.4}, and '\n",
    "        f'{perf[\"reconstruction accuracy\"]:.2%} of entries were reconstructed.')\n",
    "\n",
    "perf = evaluate_performance(\"sample\", param=10)\n",
    "print(f'When sampling to {perf[\"param\"]} rows and then correcting for bias, '\n",
    "        f'RMSE of answers is {perf[\"answer rmse\"]:.4}, and '\n",
    "        f'{perf[\"reconstruction accuracy\"]:.2%} of entries were reconstructed.')\n",
    "\n",
    "perf = evaluate_performance(\"round\", param=20)\n",
    "print(f'When rounding answers to the nearest multiple of {perf[\"param\"]}, '\n",
    "        f'RMSE of answers is {perf[\"answer rmse\"]:.4}, and '\n",
    "        f'{perf[\"reconstruction accuracy\"]:.2%} of entries were reconstructed.')\n",
    "        \n",
    "perf = evaluate_performance(\"round\", param=40)\n",
    "print(f'When rounding answers to the nearest multiple of {perf[\"param\"]}, '\n",
    "        f'RMSE of answers is {perf[\"answer rmse\"]:.4}, and '\n",
    "        f'{perf[\"reconstruction accuracy\"]:.2%} of entries were reconstructed.')"
   ]
  },
  {
   "cell_type": "markdown",
   "metadata": {
    "cell_id": "00018-49154157-e0d7-4ff5-bcbc-7a335912745f",
    "deepnote_cell_type": "markdown"
   },
   "source": [
    "Notice among the last two examples that, as expected, the RMSE of the rounding mitigation increases as the rounding parameter increases.\n",
    "However, surprisingly, the reconstruction accuracy is greater when the rounding parameter is 40 compared to when it is 20.\n",
    "\n",
    "The explanation for this is that the average of the exact sums is ~20.39, so when the rounding parameter is 20, nearly all answers returned by the query interface are 20.\n",
    "Contrast to when the rounding parameter is 40, approximately half of the query answers are 40, and half are 0, giving one bit of entropy per predicate to reconstruct the dataset. \n",
    "\n",
    "### Simulations\n",
    "All mitigations naturally take a parameter ranging between 1 and 100, so lets evaluate the reconstruction accuracy and answer RMSE as this parameter is varied."
   ]
  },
  {
   "cell_type": "code",
   "execution_count": 10,
   "metadata": {
    "cell_id": "00019-59d39b12-f412-4fd3-9040-e02eea0c549a",
    "deepnote_cell_type": "code",
    "deepnote_to_be_reexecuted": false,
    "execution_millis": 354906,
    "execution_start": 1645482485301,
    "source_hash": "891857a0",
    "tags": []
   },
   "outputs": [
    {
     "name": "stdout",
     "output_type": "stream",
     "text": [
      "Evaluating round\n",
      "Evaluating noise\n",
      "Evaluating sample\n"
     ]
    }
   ],
   "source": [
    "params = list(range(1, len(data) + 1, 5))\n",
    "\n",
    "\n",
    "def evaluate_all_performances(num_trials=10):\n",
    "    losses = []\n",
    "    for interface_name in interfaces:\n",
    "        print(\"Evaluating\", interface_name)\n",
    "        for param in params:\n",
    "            for _ in range(num_trials):\n",
    "                losses.append(evaluate_performance(interface_name, param))\n",
    "    return pd.DataFrame(losses)\n",
    "\n",
    "\n",
    "all_perf = evaluate_all_performances().groupby([\"interface\", \"param\"]).mean()"
   ]
  },
  {
   "cell_type": "markdown",
   "metadata": {
    "cell_id": "00020-273e1629-f757-49f9-9d00-aba8c0c5fd76",
    "deepnote_cell_type": "markdown"
   },
   "source": [
    "We'll first visualize the reconstruction performance as we vary the parameter supplied to the mitigation."
   ]
  },
  {
   "cell_type": "code",
   "execution_count": 11,
   "metadata": {
    "cell_id": "00021-f096ec5b-7c78-443f-9e7b-ae0733500c91",
    "deepnote_cell_type": "code",
    "deepnote_output_heights": [
     280
    ],
    "deepnote_to_be_reexecuted": false,
    "execution_millis": 2733,
    "execution_start": 1645482840208,
    "source_hash": "7497cdf8",
    "tags": []
   },
   "outputs": [
    {
     "data": {
      "image/png": "[encoded data removed]",
      "text/plain": [
       "<Figure size 432x288 with 1 Axes>"
      ]
     },
     "metadata": {
      "needs_background": "light"
     },
     "output_type": "display_data"
    }
   ],
   "source": [
    "import matplotlib.pyplot as plt\n",
    "\n",
    "for name, perf in all_perf.groupby(\"interface\"):\n",
    "    perf.reset_index(inplace=True)\n",
    "    plt.plot(perf['param'], perf['reconstruction accuracy'], label=name)\n",
    "\n",
    "plt.legend()\n",
    "plt.title(\"Performance comparison per query interface\")\n",
    "plt.xlabel(\"parameter\")\n",
    "plt.ylabel(\"reconstruction accuracy\")\n",
    "\n",
    "plt.show()"
   ]
  },
  {
   "cell_type": "markdown",
   "metadata": {
    "cell_id": "00022-3ba261f8-30e7-459a-9764-022f762dca24",
    "deepnote_cell_type": "markdown"
   },
   "source": [
    "Since the PUMS sample was stratified to have a 60-40 split, the reconstruction accuracy is still 60% if the reconstructed column consists of all zeros. \n",
    "We'll consider 60% our baseline.\n",
    "Releasing a constant column is the behavior of the sample mitigation when the sample size is ~1, \n",
    "or when rounding to the nearest multiple of 60 or more, which rounds all answers to zero.\n",
    "\n",
    "When using the rounding defense, the greatest amount of information is lost when the mean answer is a multiple of the rounding parameter. \n",
    "This effect is most pronounced when the rounding parameter is equal to the mean, at approximately 20. \n",
    "\n",
    "Increasing the noise scale very quickly affects the reconstruction accuracy. \n",
    "At large noise scales (>10), the noise dominates the signal, leading to a reconstruction accuracy that is worse than the baseline (0.6).\n",
    "\n",
    "The next plot compares the reconstruction accuracy against the RMSE of the answers."
   ]
  },
  {
   "cell_type": "code",
   "execution_count": 12,
   "metadata": {
    "cell_id": "00023-53b078c5-fd05-4600-b055-58bf851b1499",
    "deepnote_cell_type": "code",
    "deepnote_output_heights": [
     280
    ],
    "deepnote_to_be_reexecuted": false,
    "execution_millis": 340,
    "execution_start": 1645482842961,
    "source_hash": "7cb00b9a",
    "tags": []
   },
   "outputs": [
    {
     "data": {
      "image/png": "[encoded data removed]",
      "text/plain": [
       "<Figure size 432x288 with 1 Axes>"
      ]
     },
     "metadata": {
      "needs_background": "light"
     },
     "output_type": "display_data"
    }
   ],
   "source": [
    "for name, perf in all_perf.groupby(\"interface\"):\n",
    "    plt.plot(perf['answer rmse'], perf['reconstruction accuracy'], label=name)\n",
    "\n",
    "plt.legend()\n",
    "plt.title(\"Performance comparison per query interface\")\n",
    "plt.xlabel(\"answer rmse\")\n",
    "plt.ylabel(\"reconstruction accuracy\")\n",
    "\n",
    "plt.show()"
   ]
  },
  {
   "cell_type": "markdown",
   "metadata": {
    "cell_id": "ca6b9d3f-8715-4c2d-92b6-4e63223f4162",
    "deepnote_cell_type": "markdown",
    "tags": []
   },
   "source": [
    "Broadly speaking, the reconstruction accuracy and answer RMSE have an inverse relationship. As noted before, rounding exhibits strange behavior around the data mean."
   ]
  },
  {
   "cell_type": "code",
   "execution_count": 13,
   "metadata": {
    "cell_id": "26e9e812-cc39-45cf-a613-f2c064b1e6df",
    "deepnote_cell_type": "code",
    "deepnote_to_be_reexecuted": false,
    "execution_millis": 839,
    "execution_start": 1645482843307,
    "source_hash": "c3b9c965",
    "tags": []
   },
   "outputs": [
    {
     "data": {
      "image/png": "[encoded data removed]",
      "text/plain": [
       "<Figure size 432x288 with 1 Axes>"
      ]
     },
     "metadata": {
      "needs_background": "light"
     },
     "output_type": "display_data"
    }
   ],
   "source": [
    "for name, perf in all_perf.groupby(\"interface\"):\n",
    "    perf.reset_index(inplace=True)\n",
    "    plt.plot(perf['param'], perf['answer rmse'], label=name)\n",
    "\n",
    "plt.legend()\n",
    "plt.title(\"Performance comparison per query interface\")\n",
    "plt.xlabel(\"parameter\")\n",
    "plt.ylabel(\"answer rmse\")\n",
    "\n",
    "plt.show()"
   ]
  },
  {
   "cell_type": "markdown",
   "metadata": {
    "cell_id": "e35d4c0c-991e-49c3-bbc8-94bf11505623",
    "deepnote_cell_type": "markdown",
    "tags": []
   },
   "source": [
    "### Differential Privacy\n",
    "\n",
    "The noising approach actually satisfies differential privacy already! The input data is known to be within `[0, 1]`, and we add `gaussian(scale=param)` noise. \n",
    "We just need to solve for the privacy utilization `epsilon` as we adjust the noise scale parameter."
   ]
  },
  {
   "cell_type": "code",
   "execution_count": 15,
   "metadata": {
    "cell_id": "2e96958d-0844-492a-ac13-cf0ad90914b2",
    "deepnote_cell_type": "code",
    "deepnote_to_be_reexecuted": false,
    "execution_millis": 558,
    "execution_start": 1645483756780,
    "source_hash": "3ea2867f",
    "tags": []
   },
   "outputs": [
    {
     "data": {
      "text/plain": [
       "<AxesSubplot:xlabel='parameter', ylabel='epsilon'>"
      ]
     },
     "execution_count": 15,
     "metadata": {},
     "output_type": "execute_result"
    },
    {
     "data": {
      "image/png": "[encoded data removed]",
      "text/plain": [
       "<Figure size 432x288 with 1 Axes>"
      ]
     },
     "metadata": {
      "needs_background": "light"
     },
     "output_type": "display_data"
    }
   ],
   "source": [
    "from opendp.trans import make_count\n",
    "from opendp.meas import make_base_gaussian\n",
    "from opendp.mod import binary_search, enable_features\n",
    "from opendp.comb import make_fix_delta, make_zCDP_to_approxDP\n",
    "enable_features('floating-point', 'contrib')\n",
    "max_influence = 1\n",
    "\n",
    "epsilons = {}\n",
    "delta = 1e-6\n",
    "\n",
    "for param in params:\n",
    "    counter = make_count(TIA=int, TO=float)\n",
    "    epsilons[param] = binary_search(\n",
    "        lambda eps: make_fix_delta(make_zCDP_to_approxDP(counter >> make_base_gaussian(float(param))), delta)\\\n",
    "            .check(max_influence, (eps, delta)), \n",
    "        bounds=(1e-6, 100.))\n",
    "\n",
    "pd.Series(epsilons).plot(xlabel=\"parameter\", ylabel=\"epsilon\")"
   ]
  },
  {
   "cell_type": "markdown",
   "metadata": {
    "cell_id": "f525d74a-0e4d-4df0-86e0-8af5da7dc66f",
    "deepnote_cell_type": "markdown",
    "tags": []
   },
   "source": [
    "This plot shows how quickly epsilon expenditure decreases as the noise scale increases. The x axis is shared with the plots above."
   ]
  }
 ],
 "metadata": {
  "deepnote": {
   "is_reactive": false
  },
  "deepnote_execution_queue": [],
  "deepnote_notebook_id": "9b982fea-f8a6-479c-853f-c39c1101cd80",
  "interpreter": {
   "hash": "3220da548452ac41acb293d0d6efded0f046fab635503eb911c05f743e930f34"
  },
  "kernelspec": {
   "display_name": "Python 3.8.12 ('psi')",
   "language": "python",
   "name": "python3"
  },
  "language_info": {
   "codemirror_mode": {
    "name": "ipython",
    "version": 3
   },
   "file_extension": ".py",
   "mimetype": "text/x-python",
   "name": "python",
   "nbconvert_exporter": "python",
   "pygments_lexer": "ipython3",
   "version": "3.8.13"
  },
  "orig_nbformat": 2
 },
 "nbformat": 4,
 "nbformat_minor": 2
}
