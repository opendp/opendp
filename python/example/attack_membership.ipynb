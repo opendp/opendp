{
 "cells": [
  {
   "cell_type": "markdown",
   "id": "64fed37f",
   "metadata": {
    "cell_id": "da445590-7bbd-4eaa-aa43-77bffc1b77dd",
    "tags": []
   },
   "source": [
    "An adversary can leverage a membership inference attack that takes advantage of query answers on a sequestered dataset to infer if a particular individual exists in the sequestered dataset.\n",
    "There are situations in which knowing if an individual exists within a sequestered dataset poses risk to the individual. \n",
    "\n",
    "The membership attacks in this notebook come from [DSSUV'15, Robust Traceability from Trace Amounts.](https://privacytools.seas.harvard.edu/files/privacytools/files/robust.pdf)\n",
    "\n",
    "This notebook makes use of the Public Use Microdata Sample (PUMS), obtained from the Census Bureau’s American Community Survey (ACS).\n",
    "Attacks like the one demonstrated in this notebook motivate the use of statistical disclosure limitation techniques like differential privacy."
   ]
  },
  {
   "cell_type": "code",
   "execution_count": null,
   "id": "e47065b3",
   "metadata": {
    "cell_id": "00001-09bdd00a-74ff-41ff-967d-db4b57bd7dce",
    "collapsed": false,
    "execution_millis": 22835515,
    "execution_start": 1645071625624,
    "source_hash": "6784914b"
   },
   "outputs": [],
   "source": [
    "import numpy as np\n",
    "import pandas as pd\n",
    "import time\n",
    "np.random.seed(123)"
   ]
  },
  {
   "cell_type": "markdown",
   "id": "885d3e3d",
   "metadata": {
    "cell_id": "00002-5971bf9a-01d1-4b89-b1bb-e4f50bb2a0e8",
    "is_collapsed": false,
    "tags": []
   },
   "source": [
    "### Membership Attacks"
   ]
  },
  {
   "cell_type": "markdown",
   "id": "ac0158b9",
   "metadata": {
    "cell_id": "00003-fe01f3c4-d2d1-499b-b711-b79d8aaece66",
    "tags": []
   },
   "source": [
    "An attacker wants to determine if Alice, an individual from the population, is a member of a sequestered dataset.\n",
    "Consider the sequestered dataset to be a sample from a broader population.\n",
    "\n",
    "It is assumed that the attacker is given the answers to a mean query mechanism applied to the sequestered dataset.\n",
    "The attacker collects the public information for Alice, as well as the public information for other individuals from the population (the reference sample). \n",
    "\n",
    "The gist of the attack is that if Alice is more similar to the query answers than the reference sample is to the query answers, then Alice is likely a member of the sequestered dataset."
   ]
  },
  {
   "cell_type": "markdown",
   "id": "357f98be",
   "metadata": {
    "cell_id": "00004-13039230-d6b1-477b-b42f-7ac255b99724",
    "tags": []
   },
   "source": [
    "The first attack comes from figure 1, where the reference sample is assumed to be of size 1."
   ]
  },
  {
   "cell_type": "code",
   "execution_count": null,
   "id": "43616c37",
   "metadata": {
    "cell_id": "00005-379ca2d5-57d7-43ad-b097-da296a961223",
    "execution_millis": 22835512,
    "execution_start": 1645071625624,
    "source_hash": "c2800eb6"
   },
   "outputs": [],
   "source": [
    "def membership_attack_fig_1(individual, answers, reference_samples, delta=.05):\n",
    "    \"\"\"Perform membership attack using dwork et al. test statistic.\n",
    "    See figure 1 in https://privacytools.seas.harvard.edu/files/privacytools/files/robust.pdf\n",
    "\n",
    "    :param individual: y, a boolean vector of shape (d,)\n",
    "    :param answers: q, a float vector with elements in [0, 1] of shape (d,)\n",
    "    :param reference_samples: z, a boolean vector of length (1, d)\n",
    "    :param delta: statistical significance\n",
    "    :return: True if alice is in data with (1-delta)100% confidence.\"\"\"\n",
    "    individual = individual * 2 - 1\n",
    "    answers = answers * 2 - 1\n",
    "    reference_samples = reference_samples * 2 - 1\n",
    "\n",
    "    alice_similarity = np.dot(individual, answers) # cosine similarity\n",
    "    reference_similarity = np.dot(reference_samples[0], answers)\n",
    "    statistic = alice_similarity - reference_similarity\n",
    "    \n",
    "    d = len(individual)\n",
    "    tau = np.sqrt(8 * d * np.log(1 / delta))\n",
    "    return statistic > tau"
   ]
  },
  {
   "cell_type": "markdown",
   "id": "5f0e0ff3",
   "metadata": {
    "cell_id": "00006-cc769172-4439-441e-be05-f5c65db121e8",
    "tags": []
   },
   "source": [
    "The second attack comes from figure 2, a generalization of figure 1 where the reference sample is larger. While the implementation is not as intuitive, it has greater power than figure 1."
   ]
  },
  {
   "cell_type": "code",
   "execution_count": null,
   "id": "8c3a0a42",
   "metadata": {
    "cell_id": "00007-10897066-efde-4d1b-b4c1-185d91e5d2f1",
    "execution_millis": 22835520,
    "execution_start": 1645071625625,
    "source_hash": "3a1a11b1",
    "tags": []
   },
   "outputs": [],
   "source": [
    "def membership_attack_fig_2(individual, answers, reference_samples, delta=.05):\n",
    "    \"\"\"Perform membership attack using dwork et al. test statistic.\n",
    "    See figure 2 in https://privacytools.seas.harvard.edu/files/privacytools/files/robust.pdf\n",
    "\n",
    "    :param individual: y, a boolean vector of shape (d,)\n",
    "    :param answers: q, a float vector with elements in [0, 1] of shape (d,)\n",
    "    :param reference_samples: z, a boolean vector of length (*, d)\n",
    "    :param delta: statistical significance\n",
    "    :return: True if alice is in data with (1-delta)100% confidence.\"\"\"\n",
    "    individual = individual * 2 - 1\n",
    "    answers = answers * 2 - 1\n",
    "    reference_samples = reference_samples * 2 - 1\n",
    "\n",
    "    z, w = reference_samples[0], reference_samples[1:].mean(axis=0)\n",
    "    m, d = reference_samples[1:].shape\n",
    "    \n",
    "    alpha = np.sqrt(1 / m)\n",
    "    eta = 2 * alpha\n",
    "    \n",
    "    statistic = np.dot(individual - z, np.clip(answers - w, -eta, eta))\n",
    "    tau = 4 * alpha * np.sqrt(d * np.log(1 / delta))\n",
    "    \n",
    "    return statistic > tau"
   ]
  },
  {
   "cell_type": "markdown",
   "id": "bbd597c3",
   "metadata": {},
   "source": [
    "Both of these attacks have low power compared to a Monte Carlo simulation of the null distribution."
   ]
  },
  {
   "cell_type": "markdown",
   "id": "4d29a782",
   "metadata": {
    "cell_id": "00008-1b4f9ccc-19a1-423a-baf5-8221955ec532",
    "is_collapsed": false,
    "tags": []
   },
   "source": [
    "### Example"
   ]
  },
  {
   "cell_type": "markdown",
   "id": "141c1c0c",
   "metadata": {
    "cell_id": "00009-6dc66fc3-07a1-4eb7-a893-9052e8804d07",
    "tags": []
   },
   "source": [
    "In the following examples, we will consider the population to be 100 individuals from the PUMS dataset. For simplicity, we are assuming all columns are public. Since the tests expect boolean data, we also provide a function to project from a real dataset to a boolean predicate space. We'll be conducting our tests on the projected boolean space."
   ]
  },
  {
   "cell_type": "code",
   "execution_count": null,
   "id": "4440fe85",
   "metadata": {
    "cell_id": "00010-414553f0-941d-4a40-97d8-ea1f99a1391c",
    "execution_millis": 78,
    "execution_start": 1645071625626,
    "source_hash": "c265fd3b",
    "tags": []
   },
   "outputs": [],
   "source": [
    "population: pd.DataFrame = pd.read_csv(\n",
    "    \"https://raw.githubusercontent.com/opendp/cs208/main/spring2022/data/FultonPUMS5sample100.csv\")\n",
    "\n",
    "\n",
    "def make_boolean_projection(d_in, d_out=1):\n",
    "    \"\"\"Returns a (pseudo)random vector predicate function by hashing data.\"\"\"\n",
    "    prime = 691\n",
    "    desc = np.random.randint(prime, size=(d_in, d_out))\n",
    "    # this predicate maps data into a ndarray of booleans of size [n, d_out]\n",
    "    #   (where `@` is the dot product and `%` modulus)\n",
    "    return lambda data: ((data.values @ desc) % prime % 2).astype(bool)\n",
    "\n",
    "\n",
    "def draw(data: pd.DataFrame, sample_size: int):\n",
    "    \"\"\"Returns `sample_size` rows randomly from `data`, and the rest\"\"\"\n",
    "    indices = np.arange(len(population))\n",
    "    np.random.shuffle(indices)\n",
    "    return population.iloc[indices[:sample_size]], population.iloc[indices[sample_size:]]\n",
    "\n",
    "\n",
    "def execute_exact_query(data):\n",
    "    \"\"\"Computes the mean of each attribute.\"\"\"\n",
    "    return data.mean(axis=0)\n"
   ]
  },
  {
   "cell_type": "markdown",
   "id": "9ec15006",
   "metadata": {
    "cell_id": "00011-8d272b30-526f-44cc-93c6-1c39e2090362",
    "tags": []
   },
   "source": [
    "To set up this problem, we'll first create a sequestered dataset, sampled from the population.\n",
    "In practice, this sequestered dataset may be from, for example, a medical trial, or polls conducted by a political party. In those cases, the selection mechanism isn't a simple sample, and the strength of the attack may be increased."
   ]
  },
  {
   "cell_type": "code",
   "execution_count": null,
   "id": "4a25256b",
   "metadata": {
    "cell_id": "00012-4204f6de-8e3b-4e38-ace1-812937773acb",
    "execution_millis": 13,
    "execution_start": 1645071625709,
    "source_hash": "ad993e0b",
    "tags": []
   },
   "outputs": [],
   "source": [
    "sequestered_data, rest = draw(population, 10)"
   ]
  },
  {
   "cell_type": "markdown",
   "id": "cbc472de",
   "metadata": {
    "cell_id": "00013-7c7294c3-90b2-4b61-a0b9-d55f6c1ff2dc",
    "tags": []
   },
   "source": [
    "At this point the attacker takes over. \n",
    "The attacker builds a projection that maps data into a boolean space in which the tests can be conducted. \n",
    "He then collects the information he needs- public information for Alice, query answers on the sequestered data, and reference samples from the population. \n",
    "Keep in mind that the attacker does not need access to the sequestered data to retrieve the public information for Alice and the reference samples.\n",
    "\n",
    "If the membership attack evaluates to True, then the attacker can be 95% confident that Alice is a member of the sequestered dataset.\n",
    "If the membership attack evaluates to False, it is inconclusive if Alice is a member of the sequestered dataset."
   ]
  },
  {
   "cell_type": "code",
   "execution_count": null,
   "id": "508ebedb",
   "metadata": {
    "cell_id": "00014-f2c3d6f9-ab22-4d94-9e10-f873404dd37d",
    "execution_millis": 446,
    "execution_start": 1645071625736,
    "source_hash": "2967fc1e",
    "tags": []
   },
   "outputs": [
    {
     "data": {
      "text/plain": [
       "True"
      ]
     },
     "execution_count": 6,
     "metadata": {},
     "output_type": "execute_result"
    }
   ],
   "source": [
    "# Projects the real-valued dataset into a boolean space with `d_out` columns\n",
    "project = make_boolean_projection(len(population.columns), d_out=4000)\n",
    "\n",
    "# Attacker computes the means of each of the attributes of the data in the projected space\n",
    "# An attacker can still execute this attack on a query interface via predicates\n",
    "answers = execute_exact_query(project(sequestered_data))\n",
    "\n",
    "# Attacker collects a reference sample from the population\n",
    "reference_samples = project(population.sample(1))\n",
    "\n",
    "# Attacker collects public info for Alice\n",
    "alice = project(sequestered_data.sample(1))[0]\n",
    "\n",
    "membership_attack_fig_1(\n",
    "    individual=alice, \n",
    "    answers=answers, \n",
    "    reference_samples=reference_samples, \n",
    "    delta=.05)"
   ]
  },
  {
   "cell_type": "markdown",
   "id": "2a9ba61c",
   "metadata": {
    "cell_id": "00015-cdef5134-6191-45d0-b037-63cb72bf057e",
    "tags": []
   },
   "source": [
    "The following example is similar, but we expect the test not to pass, because Anita is not a member of the sequestered dataset."
   ]
  },
  {
   "cell_type": "code",
   "execution_count": null,
   "id": "9fb1cbeb",
   "metadata": {
    "cell_id": "00016-779cbaab-d3c1-4a50-96ec-97f0c909310c",
    "execution_millis": 369,
    "execution_start": 1645071625814,
    "source_hash": "ce47d81b",
    "tags": []
   },
   "outputs": [
    {
     "data": {
      "text/plain": [
       "False"
      ]
     },
     "execution_count": 7,
     "metadata": {},
     "output_type": "execute_result"
    }
   ],
   "source": [
    "# Attacker collects public info for Anita\n",
    "anita = project(rest.sample(1))[0]\n",
    "\n",
    "membership_attack_fig_1(\n",
    "    individual=anita, \n",
    "    answers=answers, \n",
    "    reference_samples=reference_samples, \n",
    "    delta=.05)"
   ]
  },
  {
   "cell_type": "markdown",
   "id": "ee23d3c5",
   "metadata": {
    "cell_id": "00017-fe9c10ee-8ecf-48c6-a030-ddb51c694878",
    "is_collapsed": false,
    "tags": []
   },
   "source": [
    "### Simulations"
   ]
  },
  {
   "cell_type": "markdown",
   "id": "ad33744d",
   "metadata": {
    "cell_id": "00018-0153c892-1724-4972-b5bd-9d120c7a1ec5",
    "tags": []
   },
   "source": [
    "In the following simulations, we will conduct the membership attack thousands of times on different sequestered datasets, random projections, choices of alice, and reference samples, to see how the attack performs as we vary the predicate space dimensionality."
   ]
  },
  {
   "cell_type": "code",
   "execution_count": null,
   "id": "78ccd5f4",
   "metadata": {
    "allow_embed": "code_output",
    "cell_id": "00019-90d2445b-8739-490e-a09d-f367c6632cd0",
    "execution_millis": 101,
    "execution_start": 1645071625851,
    "source_hash": "c557b4f1",
    "tags": []
   },
   "outputs": [],
   "source": [
    "def simulate_attacks(\n",
    "    query,\n",
    "    membership_attack, delta,\n",
    "    sample_size, reference_size, \n",
    "    num_predicates, num_trials):\n",
    "    \"\"\"Simulates `membership_attack` many times for different boolean space dimensionalities.\n",
    "\n",
    "    :param query: a function that maps data to query answers\n",
    "    :param membership_attack: either membership_attack_fig_1 or membership_attack_fig_2\n",
    "    :param delta: statistical significance of the result\n",
    "    :param sample_size: number of records to sample for the sequestered dataset\n",
    "    :param reference_size: number of referents to sample from the population\n",
    "    :param num_predicates: A vector of boolean space dimensionalities to test\n",
    "    :param num_trials: number of membership attacks to conduct for each boolean space dimensionality\n",
    "    :return: Tuple[np.ndarray, np.ndarray]; A vector false positive rates, and a vector of true positive rates\n",
    "    \"\"\"\n",
    "    fp_results = []\n",
    "    tp_results = []\n",
    "\n",
    "    for d in num_predicates:\n",
    "        fp = 0\n",
    "        tp = 0\n",
    "\n",
    "        print('Predicate space dimensionality:', d)\n",
    "\n",
    "        start_time = time.time()\n",
    "        for i in range(num_trials):\n",
    "            if i % (num_trials // 10) == 0:\n",
    "                print(f\"{i / num_trials:.0%} \", end=\"\")\n",
    "\n",
    "            # split the population into the sequestered data, and the rest\n",
    "            sequestered_data, rest = draw(population, sample_size)\n",
    "\n",
    "            # build new projection each trial (which contains new random predicates)\n",
    "            projection = make_boolean_projection(len(population.columns), d)\n",
    "\n",
    "            # answers to queries on the dataset to be attacked\n",
    "            answers = query(projection(sequestered_data))\n",
    "\n",
    "            # collect a reference sample from the population\n",
    "            reference_samples = projection(rest.sample(reference_size))\n",
    "\n",
    "            # collect an individual from the attacked dataset\n",
    "            alice = projection(sequestered_data.sample(1))[0]\n",
    "            tp += membership_attack(\n",
    "                individual=alice, answers=answers, \n",
    "                reference_samples=reference_samples, delta=delta)\n",
    "\n",
    "            # collect an individual from the population\n",
    "            anita = projection(rest.sample(1))[0]\n",
    "            fp += membership_attack(\n",
    "                individual=anita, answers=answers, \n",
    "                reference_samples=reference_samples, delta=delta)\n",
    "\n",
    "        print(f\"100% ~ {round(time.time() - start_time)} seconds (tp:{tp},fp:{fp})\")\n",
    "        fp_results.append(fp / num_trials)\n",
    "        tp_results.append(tp / num_trials)\n",
    "    return fp_results, tp_results\n",
    "\n",
    "\n",
    "def plot_fpr_tpr(num_predicates, fp_results, tp_results):\n",
    "    import matplotlib.pyplot as plt\n",
    "    plt.plot(num_predicates, fp_results)\n",
    "    plt.xlabel(\"Number of Predicates\")\n",
    "    plt.ylabel(\"False Positive Rate\")\n",
    "    plt.ylim(bottom=0., top=1.)\n",
    "    plt.title(\"False Positive Rate as Number of Predicates Increases\")\n",
    "    plt.show()\n",
    "\n",
    "    plt.plot(num_predicates, tp_results)\n",
    "    plt.xlabel(\"Number of Predicates\")\n",
    "    plt.ylabel(\"True Positive Rate\")\n",
    "    plt.ylim(bottom=0., top=1.)\n",
    "    plt.title(\"True Positive Rate as Number of Predicates Increases\")\n",
    "    plt.show()"
   ]
  },
  {
   "cell_type": "markdown",
   "id": "d0741e3e",
   "metadata": {
    "cell_id": "00020-27305c70-20c6-472c-bf1b-df2fec2c23a5",
    "tags": []
   },
   "source": [
    "In this attack we use the membership attack from figure 1, and vary the predicate space to up to 1000 predicates."
   ]
  },
  {
   "cell_type": "code",
   "execution_count": null,
   "id": "71a5c80e",
   "metadata": {
    "cell_id": "00021-311b7c39-3f77-4ae2-bbc0-8b9935ec815c",
    "execution_millis": 31228,
    "execution_start": 1645071625953,
    "source_hash": "9338756c",
    "tags": []
   },
   "outputs": [
    {
     "name": "stdout",
     "output_type": "stream",
     "text": [
      "Predicate space dimensionality: 200\n",
      "0% 10% 20% 30% 40% 50% 60% 70% 80% 90% 100% ~ 4 seconds (tp:1,fp:0)\n",
      "Predicate space dimensionality: 400\n",
      "0% 10% 20% 30% 40% 50% 60% 70% 80% 90% 100% ~ 5 seconds (tp:84,fp:0)\n",
      "Predicate space dimensionality: 600\n",
      "0% 10% 20% 30% 40% 50% 60% 70% 80% 90% 100% ~ 5 seconds (tp:496,fp:0)\n",
      "Predicate space dimensionality: 800\n",
      "0% 10% 20% 30% 40% 50% 60% 70% 80% 90% 100% ~ 6 seconds (tp:897,fp:0)\n",
      "Predicate space dimensionality: 1000\n",
      "0% 10% 20% 30% 40% 50% 60% 70% 80% 90% 100% ~ 6 seconds (tp:995,fp:0)\n",
      "FPR [0.0, 0.0, 0.0, 0.0, 0.0]\n",
      "TPR [0.001, 0.084, 0.496, 0.897, 0.995]\n"
     ]
    },
    {
     "data": {
      "image/png": "[encoded data removed]",
      "text/plain": [
       "<Figure size 432x288 with 1 Axes>"
      ]
     },
     "metadata": {
      "image/png": {
       "height": 278,
       "width": 386
      },
      "needs_background": "light"
     },
     "output_type": "display_data"
    },
    {
     "data": {
      "image/png": "[encoded data removed]",
      "text/plain": [
       "<Figure size 432x288 with 1 Axes>"
      ]
     },
     "metadata": {
      "image/png": {
       "height": 278,
       "width": 386
      },
      "needs_background": "light"
     },
     "output_type": "display_data"
    }
   ],
   "source": [
    "num_predicates = np.arange(1, 6) * len(population) * 2\n",
    "fp_results, tp_results = simulate_attacks(\n",
    "    execute_exact_query,\n",
    "    membership_attack_fig_1, \n",
    "    sample_size=5,\n",
    "    reference_size=1, \n",
    "    num_predicates=num_predicates, \n",
    "    num_trials=1000,\n",
    "    delta=0.05)\n",
    "print(\"FPR\", fp_results)\n",
    "print(\"TPR\", tp_results)\n",
    "\n",
    "plot_fpr_tpr(num_predicates, fp_results, tp_results)"
   ]
  },
  {
   "cell_type": "markdown",
   "id": "6797bb17",
   "metadata": {
    "cell_id": "00022-700edba8-774c-41f8-93ca-dfc199645f38",
    "tags": []
   },
   "source": [
    "The test doesn't identify members outside of the sequestered dataset (false positive rate of zero), and becomes more powerful as the number of predicates increases (true positive rate increasing).\n",
    "\n",
    "These results look very significant, but keep in mind that the size of the sequestered dataset `sample_size` is only 5. Such a small sample size makes the query answers more distinctive, thus making it much easier to distinguish Alice."
   ]
  },
  {
   "cell_type": "markdown",
   "id": "3222f9c0",
   "metadata": {
    "cell_id": "00023-8acee24e-a19c-4cf1-8124-597ad700e5a0",
    "tags": []
   },
   "source": [
    "In this second simulation, we increase the sample size to a relatively large 30% of the population. In order to maintain power on the membership attack, we use the hypothesis test from figure 2 instead, collect a larger reference sample, and increase the number of predicates."
   ]
  },
  {
   "cell_type": "code",
   "execution_count": null,
   "id": "8c0c5b83",
   "metadata": {
    "cell_id": "00024-37fa4f55-0704-45aa-af46-0c424b763549",
    "execution_millis": 550859,
    "execution_start": 1645071657206,
    "source_hash": "f395adb2",
    "tags": []
   },
   "outputs": [
    {
     "name": "stdout",
     "output_type": "stream",
     "text": [
      "Predicate space dimensionality: 200\n",
      "0% 10% 20% 30% 40% 50% 60% 70% 80% 90% 100% ~ 7 seconds (tp:11,fp:0)\n",
      "Predicate space dimensionality: 400\n",
      "0% 10% 20% 30% 40% 50% 60% 70% 80% 90% 100% ~ 8 seconds (tp:36,fp:0)\n",
      "Predicate space dimensionality: 600\n",
      "0% 10% 20% 30% 40% 50% 60% 70% 80% 90% 100% ~ 11 seconds (tp:108,fp:0)\n",
      "Predicate space dimensionality: 800\n",
      "0% 10% 20% 30% 40% 50% 60% 70% 80% 90% 100% ~ 13 seconds (tp:165,fp:0)\n",
      "Predicate space dimensionality: 1000\n",
      "0% 10% 20% 30% 40% 50% 60% 70% 80% 90% 100% ~ 14 seconds (tp:304,fp:0)\n",
      "Predicate space dimensionality: 1200\n",
      "0% 10% 20% 30% 40% 50% 60% 70% 80% 90% 100% ~ 17 seconds (tp:383,fp:0)\n",
      "Predicate space dimensionality: 1400\n",
      "0% 10% 20% 30% 40% 50% 60% 70% 80% 90% 100% ~ 19 seconds (tp:473,fp:0)\n",
      "Predicate space dimensionality: 1600\n",
      "0% 10% 20% 30% 40% 50% 60% 70% 80% 90% 100% ~ 20 seconds (tp:593,fp:0)\n",
      "Predicate space dimensionality: 1800\n",
      "0% 10% 20% 30% 40% 50% 60% 70% 80% 90% 100% ~ 31 seconds (tp:682,fp:0)\n",
      "Predicate space dimensionality: 2000\n",
      "0% 10% 20% 30% 40% 50% 60% 70% 80% 90% 100% ~ 32 seconds (tp:768,fp:0)\n",
      "Predicate space dimensionality: 2200\n",
      "0% 10% 20% 30% 40% 50% 60% 70% 80% 90% 100% ~ 27 seconds (tp:829,fp:0)\n",
      "Predicate space dimensionality: 2400\n",
      "0% 10% 20% 30% 40% 50% 60% 70% 80% 90% 100% ~ 32 seconds (tp:848,fp:0)\n",
      "Predicate space dimensionality: 2600\n",
      "0% 10% 20% 30% 40% 50% 60% 70% 80% 90% 100% ~ 34 seconds (tp:905,fp:0)\n",
      "Predicate space dimensionality: 2800\n",
      "0% 10% 20% 30% 40% 50% 60% 70% 80% 90% 100% ~ 34 seconds (tp:938,fp:0)\n",
      "Predicate space dimensionality: 3000\n",
      "0% 10% 20% 30% 40% 50% 60% 70% 80% 90% 100% ~ 36 seconds (tp:958,fp:0)\n",
      "Predicate space dimensionality: 3200\n",
      "0% 10% 20% 30% 40% 50% 60% 70% 80% 90% 100% ~ 41 seconds (tp:979,fp:0)\n",
      "Predicate space dimensionality: 3400\n",
      "0% 10% 20% 30% 40% 50% 60% 70% 80% 90% 100% ~ 40 seconds (tp:984,fp:0)\n",
      "Predicate space dimensionality: 3600\n",
      "0% 10% 20% 30% 40% 50% 60% 70% 80% 90% 100% ~ 41 seconds (tp:979,fp:0)\n",
      "Predicate space dimensionality: 3800\n",
      "0% 10% 20% 30% 40% 50% 60% 70% 80% 90% 100% ~ 44 seconds (tp:991,fp:0)\n",
      "Predicate space dimensionality: 4000\n",
      "0% 10% 20% 30% 40% 50% 60% 70% 80% 90% 100% ~ 46 seconds (tp:991,fp:0)\n",
      "FPR [0.0, 0.0, 0.0, 0.0, 0.0, 0.0, 0.0, 0.0, 0.0, 0.0, 0.0, 0.0, 0.0, 0.0, 0.0, 0.0, 0.0, 0.0, 0.0, 0.0]\n",
      "TPR [0.011, 0.036, 0.108, 0.165, 0.304, 0.383, 0.473, 0.593, 0.682, 0.768, 0.829, 0.848, 0.905, 0.938, 0.958, 0.979, 0.984, 0.979, 0.991, 0.991]\n"
     ]
    },
    {
     "data": {
      "image/png": "[encoded data removed]",
      "text/plain": [
       "<Figure size 432x288 with 1 Axes>"
      ]
     },
     "metadata": {
      "image/png": {
       "height": 278,
       "width": 386
      },
      "needs_background": "light"
     },
     "output_type": "display_data"
    },
    {
     "data": {
      "image/png": "[encoded data removed]",
      "text/plain": [
       "<Figure size 432x288 with 1 Axes>"
      ]
     },
     "metadata": {
      "image/png": {
       "height": 278,
       "width": 386
      },
      "needs_background": "light"
     },
     "output_type": "display_data"
    }
   ],
   "source": [
    "# Run a more powerful attack with a much larger sample_size and more predicates\n",
    "num_predicates = np.arange(1, 21) * len(population) * 2\n",
    "fp_results, tp_results = simulate_attacks(\n",
    "    execute_exact_query,\n",
    "    membership_attack_fig_2, \n",
    "    sample_size=30,\n",
    "    reference_size=50, \n",
    "    num_predicates=num_predicates,\n",
    "    num_trials=1000,\n",
    "    delta=0.05)\n",
    "\n",
    "print(\"FPR\", fp_results)\n",
    "print(\"TPR\", tp_results)\n",
    "plot_fpr_tpr(num_predicates, fp_results, tp_results)"
   ]
  },
  {
   "cell_type": "markdown",
   "id": "ed078c0a",
   "metadata": {
    "cell_id": "00025-7f270bab-7d17-4021-8e22-7694fcd855be",
    "tags": []
   },
   "source": [
    "The attack is more than effectively demonstrated at 4000 predicates, which gives an ~0% FPR and >80% TPR. It is trivial to increase the number of predicates or size of the reference sample to further increase the power of the attack.\n",
    "\n",
    "\n",
    "### Differential Privacy\n",
    "\n",
    "We now adjust our query interface to return answers protected by differential privacy. \n",
    "`execute_dp_query` releases an estimate of the mean for each predicate.\n",
    "The implementation splits the budget evenly over all input columns.\n",
    "By linear composition, the total privacy expenditure of the joint release of all means works out to be `epsilon`. \n",
    "As the number of attributes increases, the number of queries increases, which commensurately increases the noise scale."
   ]
  },
  {
   "cell_type": "code",
   "execution_count": null,
   "id": "e34b6c10",
   "metadata": {
    "cell_id": "acf8047a-3d36-44e4-8127-52aba3c9b957",
    "execution_millis": 36,
    "execution_start": 1645072207667,
    "source_hash": "66507eb9",
    "tags": []
   },
   "outputs": [],
   "source": [
    "from opendp.meas import make_base_laplace\n",
    "from opendp.mod import binary_search_param, enable_features\n",
    "from opendp.trans import make_sized_bounded_mean\n",
    "from opendp.typing import *\n",
    "\n",
    "from functools import lru_cache\n",
    "\n",
    "enable_features(\"floating-point\", \"contrib\")\n",
    "\n",
    "epsilon = 1.\n",
    "\n",
    "@lru_cache(maxsize=None)\n",
    "def find_scale(size, num_queries):\n",
    "    epsilon_per = epsilon / num_queries\n",
    "    mean = make_sized_bounded_mean(size=size, bounds=(0., 1.))\n",
    "    return binary_search_param(\n",
    "        lambda s: mean >> make_base_laplace(s), \n",
    "        d_in=2, d_out=epsilon_per)\n",
    "\n",
    "\n",
    "def execute_dp_query(data):\n",
    "    \"\"\"Computes the dp means of `data`.\n",
    "    Assumes the number of rows is public information \n",
    "    The total privacy expenditure is `epsilon`.\"\"\"\n",
    "    exact_aggregates = data.mean(axis=0)\n",
    "    scale = find_scale(*data.shape)\n",
    "\n",
    "    base_laplace = make_base_laplace(scale, D=VectorDomain[AllDomain[float]])\n",
    "    return np.array(base_laplace(exact_aggregates))\n"
   ]
  },
  {
   "cell_type": "markdown",
   "id": "a1c1fb07",
   "metadata": {
    "cell_id": "926b221a-e49c-4cff-8ea9-7a254af996dc",
    "tags": []
   },
   "source": [
    "Lets run the simulation once more with this new query interface."
   ]
  },
  {
   "cell_type": "code",
   "execution_count": null,
   "id": "a25673eb",
   "metadata": {
    "cell_id": "a5c12d2f-5b5b-4689-a033-3c5225ceca6e",
    "execution_millis": 1725480,
    "execution_start": 1645072292842,
    "source_hash": "782bcbb1",
    "tags": []
   },
   "outputs": [
    {
     "name": "stdout",
     "output_type": "stream",
     "text": [
      "Predicate space dimensionality: 200\n",
      "0% 10% 20% 30% 40% 50% 60% 70% 80% 90% 100% ~ 14 seconds (tp:495,fp:493)\n",
      "Predicate space dimensionality: 400\n",
      "0% 10% 20% 30% 40% 50% 60% 70% 80% 90% 100% ~ 20 seconds (tp:504,fp:489)\n",
      "Predicate space dimensionality: 600\n",
      "0% 10% 20% 30% 40% 50% 60% 70% 80% 90% 100% ~ 29 seconds (tp:511,fp:503)\n",
      "Predicate space dimensionality: 800\n",
      "0% 10% 20% 30% 40% 50% 60% 70% 80% 90% 100% ~ 36 seconds (tp:505,fp:494)\n",
      "Predicate space dimensionality: 1000\n",
      "0% 10% 20% 30% 40% 50% 60% 70% 80% 90% 100% ~ 43 seconds (tp:490,fp:502)\n",
      "Predicate space dimensionality: 1200\n",
      "0% 10% 20% 30% 40% 50% 60% 70% 80% 90% 100% ~ 51 seconds (tp:515,fp:489)\n",
      "Predicate space dimensionality: 1400\n",
      "0% 10% 20% 30% 40% 50% 60% 70% 80% 90% 100% ~ 58 seconds (tp:520,fp:511)\n",
      "Predicate space dimensionality: 1600\n",
      "0% 10% 20% 30% 40% 50% 60% 70% 80% 90% 100% ~ 66 seconds (tp:500,fp:504)\n",
      "Predicate space dimensionality: 1800\n",
      "0% 10% 20% 30% 40% 50% 60% 70% 80% 90% 100% ~ 73 seconds (tp:506,fp:500)\n",
      "Predicate space dimensionality: 2000\n",
      "0% 10% 20% 30% 40% 50% 60% 70% 80% 90% 100% ~ 81 seconds (tp:476,fp:481)\n",
      "Predicate space dimensionality: 2200\n",
      "0% 10% 20% 30% 40% 50% 60% 70% 80% 90% 100% ~ 90 seconds (tp:488,fp:498)\n",
      "Predicate space dimensionality: 2400\n",
      "0% 10% 20% 30% 40% 50% 60% 70% 80% 90% 100% ~ 97 seconds (tp:503,fp:518)\n",
      "Predicate space dimensionality: 2600\n",
      "0% 10% 20% 30% 40% 50% 60% 70% 80% 90% 100% ~ 104 seconds (tp:514,fp:509)\n",
      "Predicate space dimensionality: 2800\n",
      "0% 10% 20% 30% 40% 50% 60% 70% 80% 90% 100% ~ 116 seconds (tp:485,fp:474)\n",
      "Predicate space dimensionality: 3000\n",
      "0% 10% 20% 30% 40% 50% 60% 70% 80% 90% 100% ~ 122 seconds (tp:495,fp:477)\n",
      "Predicate space dimensionality: 3200\n",
      "0% 10% 20% 30% 40% 50% 60% 70% 80% 90% 100% ~ 126 seconds (tp:480,fp:471)\n",
      "Predicate space dimensionality: 3400\n",
      "0% 10% 20% 30% 40% 50% 60% 70% 80% 90% 100% ~ 132 seconds (tp:521,fp:495)\n",
      "Predicate space dimensionality: 3600\n",
      "0% 10% 20% 30% 40% 50% 60% 70% 80% 90% 100% ~ 146 seconds (tp:446,fp:462)\n",
      "Predicate space dimensionality: 3800\n",
      "0% 10% 20% 30% 40% 50% 60% 70% 80% 90% 100% ~ 163 seconds (tp:507,fp:470)\n",
      "Predicate space dimensionality: 4000\n",
      "0% 10% 20% 30% 40% 50% 60% 70% 80% 90% 100% ~ 155 seconds (tp:485,fp:497)\n",
      "FPR [0.493, 0.489, 0.503, 0.494, 0.502, 0.489, 0.511, 0.504, 0.5, 0.481, 0.498, 0.518, 0.509, 0.474, 0.477, 0.471, 0.495, 0.462, 0.47, 0.497]\n",
      "TPR [0.495, 0.504, 0.511, 0.505, 0.49, 0.515, 0.52, 0.5, 0.506, 0.476, 0.488, 0.503, 0.514, 0.485, 0.495, 0.48, 0.521, 0.446, 0.507, 0.485]\n"
     ]
    },
    {
     "data": {
      "image/png": "[encoded data removed]",
      "text/plain": [
       "<Figure size 432x288 with 1 Axes>"
      ]
     },
     "metadata": {
      "image/png": {
       "height": 278,
       "width": 386
      },
      "needs_background": "light"
     },
     "output_type": "display_data"
    },
    {
     "data": {
      "image/png": "[encoded data removed]",
      "text/plain": [
       "<Figure size 432x288 with 1 Axes>"
      ]
     },
     "metadata": {
      "image/png": {
       "height": 278,
       "width": 386
      },
      "needs_background": "light"
     },
     "output_type": "display_data"
    }
   ],
   "source": [
    "num_predicates = np.arange(1, 21) * len(population) * 2\n",
    "fp_results, tp_results = simulate_attacks(\n",
    "    execute_dp_query,\n",
    "    membership_attack_fig_1, \n",
    "    sample_size=5,\n",
    "    reference_size=1, \n",
    "    num_predicates=num_predicates, \n",
    "    num_trials=1000,\n",
    "    delta=0.05)\n",
    "print(\"FPR\", fp_results)\n",
    "print(\"TPR\", tp_results)\n",
    "\n",
    "plot_fpr_tpr(num_predicates, fp_results, tp_results)"
   ]
  },
  {
   "cell_type": "markdown",
   "id": "8a31b93c",
   "metadata": {
    "cell_id": "eb5f3204-a607-4094-975b-87d7319d874f",
    "tags": []
   },
   "source": [
    "The resulting graphs show that the membership attack is thwarted. The response from the test is practically a coin-flip; it fails to identify Alice as a member of the sequestered dataset about half the time, and falsely identifies Anita as a member of the dataset about half the time."
   ]
  }
 ],
 "metadata": {
  "kernelspec": {
   "display_name": "Python 3",
   "language": "python",
   "name": "python3"
  },
  "language_info": {
   "codemirror_mode": {
    "name": "ipython",
    "version": 3
   },
   "file_extension": ".py",
   "mimetype": "text/x-python",
   "name": "python",
   "nbconvert_exporter": "python",
   "pygments_lexer": "ipython3",
   "version": "3.7.3"
  }
 },
 "nbformat": 4,
 "nbformat_minor": 5
}