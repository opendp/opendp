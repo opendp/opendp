{
 "cells": [
  {
   "cell_type": "markdown",
   "metadata": {},
   "source": [
    "# What Noise Should I Choose?"
   ]
  },
  {
   "cell_type": "markdown",
   "metadata": {},
   "source": [
    "## Introduction"
   ]
  },
  {
   "cell_type": "markdown",
   "metadata": {},
   "source": [
    "In the examples up to now, we've been using `.noise()` to make our queries differentially private. However, there are different types of noise available including Laplacian noise and Gaussian noise. In this notebook, we will describe how the two noise distributions differ and how can one choose which is more appropriate for your particular analysis. \n",
    "\n",
    "The default `.noise()` by OpenDP chooses one of these distributions for you based on the limited information you've provided. However, with a better understanding of both distributions, you'll be able to specify the type of noise and its parameters for higher utility!"
   ]
  },
  {
   "cell_type": "markdown",
   "metadata": {},
   "source": [
    "## Laplace vs. Gaussian"
   ]
  },
  {
   "cell_type": "markdown",
   "metadata": {},
   "source": [
    "The Laplace and Gaussian distributions are the two primary mechanisms to add noise to ensure differential privacy and preserve relationships for statistical analysis. The two distributions may appear similar at a first glance, but there are key differences in their use in differential privacy techniques. \n",
    "\n",
    "**1. Definition of Privacy:**\n",
    " Differential privacy mechanisms using the Laplace distribution satisfy the pure ε-dp, whereas differentially private outputs using the Gaussian mechanism satisfy a more relaxed definition of differential privacy, ε-δ dp. Therefore, Laplace provides stronger privacy guarantees. \n",
    "\n",
    "**2. Accuracy:**\n",
    "Differentially private outputs using the Gaussian mechanism are often further from the true answer compared to outputs using the Laplace mechanism.\n",
    "\n",
    "This is supported by the following plot which graphs the emperical probability density function of the Laplace and Gaussian mechanisms with ε = 1 and δ = 10^-5. \n",
    "\n",
    "![Histogram of Laplace and Gaussian](https://programming-dp.com/_images/3022199fd49e470e2f86adb6c633df9f586459106067366915cd578cd7e05a5d.png)\n",
    "\n",
    "\n",
    "3. Type of Output: \n",
    "Gaussian mechanisms perform better when the output is a vector of real numbers rather than a single real number. This is because the Laplace mechanism requires use of the L1 norm (sum of absolute values) and results in a sensitivity of k (length of output vector), whereas the Gaussian mechanism allows the use of the L1 norm or the L2 norm (Euclidean distance). With the Gaussian mechanism and L2 norm, the sensitivty can be $\\sqrt{k}$ In such cases, the L2 sensitivity is significantly lower than the L1 sensitivity. Therefore, the Gaussian mechanism allows for less noise to be added and results in higher utility. \n",
    "\n",
    "To learn more about the methodology behind the sensitivity calculation, read [chapter 6](https://programming-dp.com/ch6.html)!\n",
    "\n",
    "#### **When To Use:**\n",
    "| **Laplace Noise** | **Gaussian Noise** |\n",
    "|-------------------|--------------------|\n",
    "| When you need strong privacy guarantees (ε -DP). | When working with high-dimensional data or vectors. |\n",
    "| For applications involving single numerical outputs or low-dimensional data. | For machine learning models that return outputs with many elements or complex applications that result in multidimensional data. |\n",
    "| When the noise added should be minimal and accuracy is crucial. | When the L2 norm (Euclidean distance) is smaller than the L1 norm (sum of absolute values). |\n",
    "| Statistical queries such as counts, sums, and averages. | When a small relaxation in privacy guarantees (ε, δ-DP) is acceptable in exchange for reduced noise. |\n",
    "\n",
    "### Summary\n",
    "\n",
    "- **Laplace Noise**: Best for single-value outputs and applications requiring strong privacy guarantees.\n",
    "- **Gaussian Noise**: Best for high-dimensional data and applications where a small relaxation in privacy is acceptable for reduced noise and better utility.\n",
    "\n",
    "By understanding the nature of your data and the requirements of your application, you can choose the appropriate noise mechanism to ensure both privacy and accuracy.\n"
   ]
  },
  {
   "cell_type": "markdown",
   "metadata": {},
   "source": [
    "## Specifying Laplace or Gaussian with the Context API"
   ]
  },
  {
   "cell_type": "markdown",
   "metadata": {},
   "source": [
    "Let's get into how you could specify which type of noise you may need. The process is relatively similar to using a general noise. The differences are that you'll specify your noise and provide the appropriate parameters. "
   ]
  },
  {
   "cell_type": "code",
   "execution_count": 1,
   "metadata": {},
   "outputs": [],
   "source": [
    "import numpy as np \n",
    "import polars as pl \n",
    "import opendp.prelude as dp\n",
    "import matplotlib.pyplot as plt\n",
    "import seaborn as sns \n",
    "\n",
    "dp.enable_features(\"contrib\")"
   ]
  },
  {
   "cell_type": "code",
   "execution_count": 2,
   "metadata": {},
   "outputs": [],
   "source": [
    "df = pl.scan_csv(\"sample_FR_LFS.csv\", infer_schema_length=1000, ignore_errors=True)"
   ]
  },
  {
   "cell_type": "markdown",
   "metadata": {},
   "source": [
    "Here's a quick reminder of the general compositor we've been using up to now. "
   ]
  },
  {
   "cell_type": "code",
   "execution_count": 3,
   "metadata": {},
   "outputs": [],
   "source": [
    "context = dp.Context.compositor(\n",
    "    data=df,\n",
    "    privacy_unit=dp.unit_of(contributions=36),\n",
    "    privacy_loss=dp.loss_of(epsilon=1.0),\n",
    "    split_evenly_over=10,\n",
    "    margins={\n",
    "        (\"ILOSTAT\", ): dp.Margin(public_info=\"keys\", max_partition_length=60_000_000),\n",
    "        (): dp.Margin(max_partition_length=60_000_000),\n",
    "    },\n",
    ")"
   ]
  },
  {
   "cell_type": "markdown",
   "metadata": {},
   "source": [
    "Let's compute the count of people by their labor status. First, let's compute the actual statistics! We'll fill in the column values later!"
   ]
  },
  {
   "cell_type": "code",
   "execution_count": 6,
   "metadata": {},
   "outputs": [
    {
     "data": {
      "text/html": [
       "<div><style>\n",
       ".dataframe > thead > tr,\n",
       ".dataframe > tbody > tr {\n",
       "  text-align: right;\n",
       "  white-space: pre-wrap;\n",
       "}\n",
       "</style>\n",
       "<small>shape: (4, 2)</small><table border=\"1\" class=\"dataframe\"><thead><tr><th>ILOSTAT</th><th>Actual</th></tr><tr><td>i64</td><td>u32</td></tr></thead><tbody><tr><td>2</td><td>8057</td></tr><tr><td>1</td><td>79849</td></tr><tr><td>9</td><td>36085</td></tr><tr><td>3</td><td>76009</td></tr></tbody></table></div>"
      ],
      "text/plain": [
       "shape: (4, 2)\n",
       "┌─────────┬────────┐\n",
       "│ ILOSTAT ┆ Actual │\n",
       "│ ---     ┆ ---    │\n",
       "│ i64     ┆ u32    │\n",
       "╞═════════╪════════╡\n",
       "│ 2       ┆ 8057   │\n",
       "│ 1       ┆ 79849  │\n",
       "│ 9       ┆ 36085  │\n",
       "│ 3       ┆ 76009  │\n",
       "└─────────┴────────┘"
      ]
     },
     "execution_count": 6,
     "metadata": {},
     "output_type": "execute_result"
    }
   ],
   "source": [
    "actual_values = (df.group_by(\"ILOSTAT\").agg(pl.len().alias(\"Actual\"))).collect()\n",
    "actual_values"
   ]
  },
  {
   "cell_type": "markdown",
   "metadata": {},
   "source": [
    "### Using Laplace"
   ]
  },
  {
   "cell_type": "markdown",
   "metadata": {},
   "source": [
    "Remember that using Laplacian noise takes in one parameter `epsilon`, so when using Laplacian noise, we don't need to define the context any differently than before."
   ]
  },
  {
   "cell_type": "code",
   "execution_count": 7,
   "metadata": {},
   "outputs": [
    {
     "data": {
      "text/html": [
       "<div><style>\n",
       ".dataframe > thead > tr,\n",
       ".dataframe > tbody > tr {\n",
       "  text-align: right;\n",
       "  white-space: pre-wrap;\n",
       "}\n",
       "</style>\n",
       "<small>shape: (4, 2)</small><table border=\"1\" class=\"dataframe\"><thead><tr><th>ILOSTAT</th><th>Laplace Noise</th></tr><tr><td>i64</td><td>u32</td></tr></thead><tbody><tr><td>3</td><td>75728</td></tr><tr><td>9</td><td>36970</td></tr><tr><td>1</td><td>79530</td></tr><tr><td>2</td><td>8028</td></tr></tbody></table></div>"
      ],
      "text/plain": [
       "shape: (4, 2)\n",
       "┌─────────┬───────────────┐\n",
       "│ ILOSTAT ┆ Laplace Noise │\n",
       "│ ---     ┆ ---           │\n",
       "│ i64     ┆ u32           │\n",
       "╞═════════╪═══════════════╡\n",
       "│ 3       ┆ 75728         │\n",
       "│ 9       ┆ 36970         │\n",
       "│ 1       ┆ 79530         │\n",
       "│ 2       ┆ 8028          │\n",
       "└─────────┴───────────────┘"
      ]
     },
     "execution_count": 7,
     "metadata": {},
     "output_type": "execute_result"
    }
   ],
   "source": [
    "laplace_values = (context.query().group_by(\"ILOSTAT\").agg(pl.len().dp.laplace().alias(\"Laplace Noise\"))).release().collect()\n",
    "laplace_values"
   ]
  },
  {
   "cell_type": "code",
   "execution_count": 8,
   "metadata": {},
   "outputs": [],
   "source": [
    "#ask\n",
    "#(context.query().fill_null(40).fill_nan(40).group_by(\"ILOSTAT\").agg(pl.sum(\"HWUSUAL\").dp.laplace().alias(\"Laplace Noise\"))).release().collect()"
   ]
  },
  {
   "cell_type": "markdown",
   "metadata": {},
   "source": [
    "### Using Gaussian"
   ]
  },
  {
   "cell_type": "markdown",
   "metadata": {},
   "source": [
    "To use the Gaussian mechanism for adding noise, we specify a different parameter, `rho`, instead of `epsilon`. Similar to how `epsilon` is usually set to one, `rho` is usually set to 0.5. "
   ]
  },
  {
   "cell_type": "code",
   "execution_count": 9,
   "metadata": {},
   "outputs": [
    {
     "data": {
      "text/html": [
       "<div><style>\n",
       ".dataframe > thead > tr,\n",
       ".dataframe > tbody > tr {\n",
       "  text-align: right;\n",
       "  white-space: pre-wrap;\n",
       "}\n",
       "</style>\n",
       "<small>shape: (4, 2)</small><table border=\"1\" class=\"dataframe\"><thead><tr><th>ILOSTAT</th><th>Gaussian Noise</th></tr><tr><td>i64</td><td>u32</td></tr></thead><tbody><tr><td>3</td><td>75821</td></tr><tr><td>9</td><td>35973</td></tr><tr><td>1</td><td>79916</td></tr><tr><td>2</td><td>7845</td></tr></tbody></table></div>"
      ],
      "text/plain": [
       "shape: (4, 2)\n",
       "┌─────────┬────────────────┐\n",
       "│ ILOSTAT ┆ Gaussian Noise │\n",
       "│ ---     ┆ ---            │\n",
       "│ i64     ┆ u32            │\n",
       "╞═════════╪════════════════╡\n",
       "│ 3       ┆ 75821          │\n",
       "│ 9       ┆ 35973          │\n",
       "│ 1       ┆ 79916          │\n",
       "│ 2       ┆ 7845           │\n",
       "└─────────┴────────────────┘"
      ]
     },
     "execution_count": 9,
     "metadata": {},
     "output_type": "execute_result"
    }
   ],
   "source": [
    "context = dp.Context.compositor(\n",
    "    data=df,\n",
    "    privacy_unit=dp.unit_of(contributions=36),\n",
    "    privacy_loss=dp.loss_of(rho=0.5),\n",
    "    split_evenly_over=10,\n",
    "    margins={\n",
    "        (\"ILOSTAT\", ): dp.Margin(public_info=\"keys\", max_partition_length=60_000_000),\n",
    "        (\"HWUSUAL\", ): dp.Margin(public_info=\"keys\", max_partition_length=60_000_000),\n",
    "        (): dp.Margin(max_partition_length=60_000_000),\n",
    "    },\n",
    ")\n",
    "\n",
    "gaussian_values = (context.query().group_by(\"ILOSTAT\").agg(pl.len().dp.gaussian().alias(\"Gaussian Noise\"))).release().collect()\n",
    "gaussian_values"
   ]
  },
  {
   "cell_type": "markdown",
   "metadata": {},
   "source": [
    "## Comparing Results"
   ]
  },
  {
   "cell_type": "code",
   "execution_count": 10,
   "metadata": {},
   "outputs": [
    {
     "name": "stderr",
     "output_type": "stream",
     "text": [
      "/var/folders/dg/nlwnz_jj7rsblr2tzwj962b40000gn/T/ipykernel_68933/709051719.py:11: DeprecationWarning: `apply` is deprecated. It has been renamed to `map_elements`.\n",
      "  pl.col(\"ILOSTAT\").apply(lambda x: labor_status_codes.get(x, x))\n"
     ]
    },
    {
     "data": {
      "text/html": [
       "<div><style>\n",
       ".dataframe > thead > tr,\n",
       ".dataframe > tbody > tr {\n",
       "  text-align: right;\n",
       "  white-space: pre-wrap;\n",
       "}\n",
       "</style>\n",
       "<small>shape: (4, 4)</small><table border=\"1\" class=\"dataframe\"><thead><tr><th>ILOSTAT</th><th>Actual</th><th>Laplace Noise</th><th>Gaussian Noise</th></tr><tr><td>str</td><td>u32</td><td>u32</td><td>u32</td></tr></thead><tbody><tr><td>&quot;Laid Off&quot;</td><td>76009</td><td>75728</td><td>75821</td></tr><tr><td>&quot;NA&quot;</td><td>36085</td><td>36970</td><td>35973</td></tr><tr><td>&quot;Working for Pa…</td><td>79849</td><td>79530</td><td>79916</td></tr><tr><td>&quot;Not Working Bu…</td><td>8057</td><td>8028</td><td>7845</td></tr></tbody></table></div>"
      ],
      "text/plain": [
       "shape: (4, 4)\n",
       "┌──────────────────────────┬────────┬───────────────┬────────────────┐\n",
       "│ ILOSTAT                  ┆ Actual ┆ Laplace Noise ┆ Gaussian Noise │\n",
       "│ ---                      ┆ ---    ┆ ---           ┆ ---            │\n",
       "│ str                      ┆ u32    ┆ u32           ┆ u32            │\n",
       "╞══════════════════════════╪════════╪═══════════════╪════════════════╡\n",
       "│ Laid Off                 ┆ 76009  ┆ 75728         ┆ 75821          │\n",
       "│ NA                       ┆ 36085  ┆ 36970         ┆ 35973          │\n",
       "│ Working for Pay          ┆ 79849  ┆ 79530         ┆ 79916          │\n",
       "│ Not Working But Employed ┆ 8057   ┆ 8028          ┆ 7845           │\n",
       "└──────────────────────────┴────────┴───────────────┴────────────────┘"
      ]
     },
     "execution_count": 10,
     "metadata": {},
     "output_type": "execute_result"
    }
   ],
   "source": [
    "noise_values = laplace_values.join(gaussian_values, on=[\"ILOSTAT\"])\n",
    "all_values = actual_values.join(noise_values, on=[\"ILOSTAT\"])\n",
    "\n",
    "labor_status_codes = {\n",
    "    9: 'NA',\n",
    "    2: 'Not Working But Employed',\n",
    "    1: 'Working for Pay', \n",
    "    3: 'Laid Off'\n",
    "}\n",
    "all_values= all_values.with_columns(\n",
    "    pl.col(\"ILOSTAT\").apply(lambda x: labor_status_codes.get(x, x))\n",
    ")\n",
    "\n",
    "all_values"
   ]
  },
  {
   "cell_type": "code",
   "execution_count": 11,
   "metadata": {},
   "outputs": [
    {
     "data": {
      "image/png": "[encoded data removed]",
      "text/plain": [
       "<Figure size 1000x600 with 1 Axes>"
      ]
     },
     "metadata": {},
     "output_type": "display_data"
    }
   ],
   "source": [
    "df = pl.DataFrame(all_values)\n",
    "bar_width = 0.25\n",
    "r1 = range(len(df[\"ILOSTAT\"].to_list()))\n",
    "r2 = [x + bar_width for x in r1]\n",
    "r3 = [x + bar_width for x in r2]\n",
    "\n",
    "# Create the bar chart\n",
    "plt.figure(figsize=(10, 6))\n",
    "plt.bar(r1, df[\"Actual\"].to_list(), color='tab:blue', width=bar_width, edgecolor='grey', label='Actual')\n",
    "plt.bar(r2, df[\"Laplace Noise\"].to_list(), color='tab:orange', width=bar_width, edgecolor='grey', label='Laplace Noise')\n",
    "plt.bar(r3, df[\"Gaussian Noise\"].to_list(), color='tab:green', width=bar_width, edgecolor='grey', label='Gaussian Noise')\n",
    "\n",
    "plt.xlabel('Labor Status', fontweight='bold')\n",
    "plt.xticks([r + bar_width for r in range(len(df[\"ILOSTAT\"].to_list()))], df[\"ILOSTAT\"].to_list(), rotation=45, ha='right')\n",
    "plt.ylabel('Values')\n",
    "plt.title('Actual Values vs Laplacian Noise vs Gaussian')\n",
    "\n",
    "plt.legend()\n",
    "plt.tight_layout()\n",
    "plt.show()"
   ]
  },
  {
   "cell_type": "markdown",
   "metadata": {},
   "source": [
    "Our differentially private outputs are quite accurate compared to the actual values. However, the outputs using Laplacian and Gaussian noise do not differ significantly from a visual perspective. This won't always be the case, and as you begin to apply differential privacy to more specialized applications, specifying the type of noise you want to add may increase utility."
   ]
  },
  {
   "cell_type": "markdown",
   "metadata": {},
   "source": [
    "## Conclusion"
   ]
  },
  {
   "cell_type": "markdown",
   "metadata": {},
   "source": [
    "In this notebook, we accomplished the following objectives: \n",
    "- Understand the common differences between using Laplacian noise and Gaussian Noise. \n",
    "- Understand which applications may be better suited for Laplacian noise or Gaussian Noise. \n",
    "- Demonstrate how to specify the type of noise in the Context API.  "
   ]
  }
 ],
 "metadata": {
  "kernelspec": {
   "display_name": "Python 3",
   "language": "python",
   "name": "python3"
  },
  "language_info": {
   "codemirror_mode": {
    "name": "ipython",
    "version": 3
   },
   "file_extension": ".py",
   "mimetype": "text/x-python",
   "name": "python",
   "nbconvert_exporter": "python",
   "pygments_lexer": "ipython3",
   "version": "3.12.3"
  }
 },
 "nbformat": 4,
 "nbformat_minor": 2
}
