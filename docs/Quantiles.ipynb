{
  "cells": [
    {
      "cell_type": "markdown",
      "metadata": {
        "id": "DUH4x54XXVbI"
      },
      "source": [
        "# Part 2: Quantiles"
      ]
    },
    {
      "cell_type": "markdown",
      "metadata": {
        "id": "ecy-bQksXVbK"
      },
      "source": [
        "## Introduction\n",
        "\n",
        "In this tutorial, we will explore the quantile method supported by OpenDP. Specifically, we will first use the quantile method directly, and then explain its primary steps.\n",
        "\n",
        "This tutorial will use the Labor Force Survey data (see the Pre-Processing Notebook for more information) and some of the concepts introduced in Part 1 - Data Exploration. "
      ]
    },
    {
      "cell_type": "code",
      "execution_count": null,
      "metadata": {
        "id": "QNOVoTxCXVbL"
      },
      "outputs": [],
      "source": [
        "pip install \"opendp[polars]\""
      ]
    },
    {
      "cell_type": "code",
      "execution_count": 2,
      "metadata": {
        "id": "hpD0FvNBXVbM"
      },
      "outputs": [],
      "source": [
        "import numpy as np\n",
        "import polars as pl\n",
        "import opendp.prelude as dp\n",
        "import matplotlib.pyplot as plt\n",
        "import seaborn as sns\n",
        "\n",
        "dp.enable_features(\"contrib\")"
      ]
    },
    {
      "cell_type": "markdown",
      "metadata": {
        "id": "2aBAZ5AmXVbM"
      },
      "source": [
        "If the \"sample_FR_LFS.csv\" file exists, then follow the code for importing the dataset as is. Otherwise follow the instructions from Preprocessing.ipynb to compile the dataset."
      ]
    },
    {
      "cell_type": "code",
      "execution_count": 3,
      "metadata": {
        "id": "wjAtK28VXVbM"
      },
      "outputs": [],
      "source": [
        "# reading in the data\n",
        "df = pl.scan_csv(\"sample_FR_LFS.csv\", infer_schema_length=1000, ignore_errors=True)"
      ]
    },
    {
      "cell_type": "markdown",
      "metadata": {
        "id": "f6PEZWpzofFn"
      },
      "source": [
        "For more information on defining the compositor, see the Part 1 Notebook on Data Exploration methods!"
      ]
    },
    {
      "cell_type": "code",
      "execution_count": 4,
      "metadata": {
        "id": "3ltU268CXVbM"
      },
      "outputs": [],
      "source": [
        "context = dp.Context.compositor(\n",
        "    data=df,\n",
        "    privacy_unit=dp.unit_of(contributions=1),\n",
        "    privacy_loss=dp.loss_of(epsilon=1.0),\n",
        "    split_evenly_over=10,\n",
        "    margins={\n",
        "        (\"AGE\", ): dp.Margin(public_info=\"keys\", max_partition_length=60_000_000),\n",
        "        (): dp.Margin(public_info=\"keys\", max_partition_length=60_000_000),\n",
        "    },\n",
        ")"
      ]
    },
    {
      "cell_type": "markdown",
      "metadata": {
        "id": "XxM09cKUXVbN"
      },
      "source": [
        "## Using the Quantile Method Directly"
      ]
    },
    {
      "cell_type": "markdown",
      "metadata": {},
      "source": [
        "Before we get into the quantile method, let's try out the median method directly. We also will need to impute the null values with the mean. "
      ]
    },
    {
      "cell_type": "code",
      "execution_count": 18,
      "metadata": {
        "id": "eryzri-4XVbN"
      },
      "outputs": [],
      "source": [
        "mean_age = df.select(pl.col(\"AGE\")).mean().collect()\n",
        "candidates = list(range(100))"
      ]
    },
    {
      "cell_type": "code",
      "execution_count": 6,
      "metadata": {},
      "outputs": [
        {
          "name": "stdout",
          "output_type": "stream",
          "text": [
            "Actual Median: 47.0\n",
            "Differentially Private Median: 46\n"
          ]
        }
      ],
      "source": [
        "actual_median = list(df.select(pl.col(\"AGE\").median()).collect())[0][0]\n",
        "print(f\"Actual Median: {actual_median}\")\n",
        "\n",
        "dp_median = list(context.query().select(\n",
        "    pl.col(\"AGE\").fill_null(mean_age).dp.median(candidates)\n",
        ").release().collect())[0][0]\n",
        "print(f\"Differentially Private Median: {dp_median}\")"
      ]
    },
    {
      "cell_type": "markdown",
      "metadata": {
        "id": "SnUJxheXXVbN"
      },
      "source": [
        "Let's find the age at the 30th quantile! To compute it using the quantile method directly, follow these steps:\n",
        "\n",
        "1. Select the variable you are interested in. In this case we chose \"AGE\"\n",
        "2. Fill in null values. We'll impute the values with the mean age.\n",
        "3. Specify the following parameters in the quantile method:\n",
        "\n",
        "    a. Quantile: This is between 0 and 1. We provide 0.30. \n",
        "    \n",
        "    b. A range of possible values for your quantiles. This will depend on your specific domain. We know that ages are generally between 0 and 100, we use those as our candidates, so our results will be limited to these values."
      ]
    },
    {
      "cell_type": "code",
      "execution_count": 7,
      "metadata": {
        "colab": {
          "base_uri": "https://localhost:8080/",
          "height": 128
        },
        "id": "7dLmSCiDXVbN",
        "outputId": "2dadf2fd-dab1-4e69-82bb-d538f17d3ed2"
      },
      "outputs": [
        {
          "data": {
            "text/html": [
              "<div><style>\n",
              ".dataframe > thead > tr,\n",
              ".dataframe > tbody > tr {\n",
              "  text-align: right;\n",
              "  white-space: pre-wrap;\n",
              "}\n",
              "</style>\n",
              "<small>shape: (1, 1)</small><table border=\"1\" class=\"dataframe\"><thead><tr><th>AGE</th></tr><tr><td>i64</td></tr></thead><tbody><tr><td>30</td></tr></tbody></table></div>"
            ],
            "text/plain": [
              "shape: (1, 1)\n",
              "┌─────┐\n",
              "│ AGE │\n",
              "│ --- │\n",
              "│ i64 │\n",
              "╞═════╡\n",
              "│ 30  │\n",
              "└─────┘"
            ]
          },
          "execution_count": 7,
          "metadata": {},
          "output_type": "execute_result"
        }
      ],
      "source": [
        "quantile = 0.3\n",
        "\n",
        "dp_quantile_30 = context.query().select(\n",
        "    pl.col(\"AGE\").fill_null(mean_age).dp.quantile(quantile, candidates)\n",
        ").release().collect()\n",
        "dp_quantile_30"
      ]
    },
    {
      "cell_type": "markdown",
      "metadata": {
        "id": "bBAzynSmXVbO"
      },
      "source": [
        "### Multiple Quantiles for the Same Variable"
      ]
    },
    {
      "cell_type": "markdown",
      "metadata": {
        "id": "QCOfRA9_XVbO"
      },
      "source": [
        "To compute multiple quantiles for the same variable, we can use list comprehension to specify multiple quantiles in our query."
      ]
    },
    {
      "cell_type": "code",
      "execution_count": 21,
      "metadata": {},
      "outputs": [
        {
          "data": {
            "text/html": [
              "<div><style>\n",
              ".dataframe > thead > tr,\n",
              ".dataframe > tbody > tr {\n",
              "  text-align: right;\n",
              "  white-space: pre-wrap;\n",
              "}\n",
              "</style>\n",
              "<small>shape: (1, 4)</small><table border=\"1\" class=\"dataframe\"><thead><tr><th>Quantile_0.2</th><th>Quantile_0.4</th><th>Quantile_0.6</th><th>Quantile_0.8</th></tr><tr><td>f64</td><td>f64</td><td>f64</td><td>f64</td></tr></thead><tbody><tr><td>20.0</td><td>32.0</td><td>47.0</td><td>65.0</td></tr></tbody></table></div>"
            ],
            "text/plain": [
              "shape: (1, 4)\n",
              "┌──────────────┬──────────────┬──────────────┬──────────────┐\n",
              "│ Quantile_0.2 ┆ Quantile_0.4 ┆ Quantile_0.6 ┆ Quantile_0.8 │\n",
              "│ ---          ┆ ---          ┆ ---          ┆ ---          │\n",
              "│ f64          ┆ f64          ┆ f64          ┆ f64          │\n",
              "╞══════════════╪══════════════╪══════════════╪══════════════╡\n",
              "│ 20.0         ┆ 32.0         ┆ 47.0         ┆ 65.0         │\n",
              "└──────────────┴──────────────┴──────────────┴──────────────┘"
            ]
          },
          "execution_count": 21,
          "metadata": {},
          "output_type": "execute_result"
        }
      ],
      "source": [
        "multiple_quantiles_actual = df.select(\n",
        "    [pl.col(\"AGE\").fill_null(mean_age).quantile(q).alias(f\"Quantile_{q}\") for q in [0.2, 0.4, 0.6, 0.8]]\n",
        ").collect()\n",
        "multiple_quantiles_actual"
      ]
    },
    {
      "cell_type": "code",
      "execution_count": 17,
      "metadata": {
        "colab": {
          "base_uri": "https://localhost:8080/",
          "height": 128
        },
        "id": "JuliF45iXVbO",
        "outputId": "84a800f0-c323-4408-a66d-1f0395eede64"
      },
      "outputs": [
        {
          "data": {
            "text/html": [
              "<div><style>\n",
              ".dataframe > thead > tr,\n",
              ".dataframe > tbody > tr {\n",
              "  text-align: right;\n",
              "  white-space: pre-wrap;\n",
              "}\n",
              "</style>\n",
              "<small>shape: (1, 4)</small><table border=\"1\" class=\"dataframe\"><thead><tr><th>Quantile_0.2</th><th>Quantile_0.4</th><th>Quantile_0.6</th><th>Quantile_0.8</th></tr><tr><td>i64</td><td>i64</td><td>i64</td><td>i64</td></tr></thead><tbody><tr><td>20</td><td>32</td><td>58</td><td>72</td></tr></tbody></table></div>"
            ],
            "text/plain": [
              "shape: (1, 4)\n",
              "┌──────────────┬──────────────┬──────────────┬──────────────┐\n",
              "│ Quantile_0.2 ┆ Quantile_0.4 ┆ Quantile_0.6 ┆ Quantile_0.8 │\n",
              "│ ---          ┆ ---          ┆ ---          ┆ ---          │\n",
              "│ i64          ┆ i64          ┆ i64          ┆ i64          │\n",
              "╞══════════════╪══════════════╪══════════════╪══════════════╡\n",
              "│ 20           ┆ 32           ┆ 58           ┆ 72           │\n",
              "└──────────────┴──────────────┴──────────────┴──────────────┘"
            ]
          },
          "execution_count": 17,
          "metadata": {},
          "output_type": "execute_result"
        }
      ],
      "source": [
        "multiple_quantiles = context.query().select(\n",
        "    [pl.col(\"AGE\").fill_null(mean_age).dp.quantile(q, candidates).alias(f\"Quantile_{q}\") for q in [0.2, 0.4, 0.6, 0.8]]\n",
        ").release().collect()\n",
        "multiple_quantiles"
      ]
    },
    {
      "cell_type": "markdown",
      "metadata": {
        "id": "fYAFhv6vXVbO"
      },
      "source": [
        "Here we computed some sample quantiles and the differentially private values are relatively close to the actual values. Notice that we also specified a different alias for each column. Polars uses the original column name on derived columns, so aliases are needed to distinguish these columns.\n",
        "\n"
      ]
    },
    {
      "cell_type": "markdown",
      "metadata": {
        "id": "zA0D8TeJXVbO"
      },
      "source": [
        "## Breaking Down the Quantile Method"
      ]
    },
    {
      "cell_type": "markdown",
      "metadata": {
        "id": "TyHOsKIiXVbO"
      },
      "source": [
        "Now that you know how to use the quantile method, we can also break it down for you a little more.\n",
        "\n",
        "You might also wonder why there are multiple steps to the quantile method. Why don't we just add noise directly?\n",
        "\n",
        "Directly adding noise can change a particular point and alter the sensitivity (max - min) greatly, so constructing a differentially private quantile requires more sophistication."
      ]
    },
    {
      "cell_type": "markdown",
      "metadata": {
        "id": "Y2bdy-0SXVbO"
      },
      "source": [
        "### 1. Compute the Discrete Quantile Score for Each Candidate"
      ]
    },
    {
      "cell_type": "markdown",
      "metadata": {
        "id": "6XSkx3kiXVbO"
      },
      "source": [
        "The `discrete_quantile_score` function takes in the same parameters as the quantile function. It computes a utility score for each candidate quantile that represents how close each candidate is to the true quantile. Lower scores are closer to 0 are more accurate."
      ]
    },
    {
      "cell_type": "code",
      "execution_count": 33,
      "metadata": {},
      "outputs": [
        {
          "name": "stderr",
          "output_type": "stream",
          "text": [
            "/var/folders/dg/nlwnz_jj7rsblr2tzwj962b40000gn/T/ipykernel_50483/2347966570.py:7: RuntimeWarning: invalid value encountered in cast\n",
            "  age_list = list(df.select(\"AGE\").collect().get_column(\"AGE\").to_numpy().astype('int32'))\n"
          ]
        },
        {
          "data": {
            "image/png": "[encoded data removed]",
            "text/plain": [
              "<Figure size 900x600 with 1 Axes>"
            ]
          },
          "metadata": {},
          "output_type": "display_data"
        }
      ],
      "source": [
        "#make the transformation get discrete scores per candidate\n",
        "discrete_scores = dp.t.make_quantile_score_candidates(dp.vector_domain(dp.atom_domain(T=int)), \n",
        "                                    dp.symmetric_distance(), \n",
        "                                    candidates, \n",
        "                                    quantile)\n",
        "#get the ages from the dataset and change its type for the transformation\n",
        "age_list = list(df.select(\"AGE\").collect().get_column(\"AGE\").to_numpy().astype('int32'))\n",
        "#apply the transformation to the discrete scores\n",
        "discrete_scores_list = discrete_scores(age_list)\n",
        "#plot the scores\n",
        "fig, ax = plt.subplots(figsize = (9, 6))\n",
        "ax.hist(discrete_scores_list, bins=15, edgecolor=\"black\");"
      ]
    },
    {
      "cell_type": "markdown",
      "metadata": {
        "id": "IBR9c79rXVbP"
      },
      "source": [
        "### 2. Add Noise and Return Index of Candidate with Lowest Score"
      ]
    },
    {
      "cell_type": "markdown",
      "metadata": {
        "id": "kr-MK9JCXVbP"
      },
      "source": [
        "We now pass the scores to the `_report_noisy_max_gumbel` function. This adds Gumbel noise to the score and returns index of the candidate that has the lowest score."
      ]
    },
    {
      "cell_type": "code",
      "execution_count": 31,
      "metadata": {},
      "outputs": [
        {
          "data": {
            "text/plain": [
              "Measurement(\n",
              "    input_domain   = VectorDomain(AtomDomain(T=i32)),\n",
              "    input_metric   = LInfDistance(T=i32),\n",
              "    output_measure = MaxDivergence(f64))"
            ]
          },
          "execution_count": 31,
          "metadata": {},
          "output_type": "execute_result"
        }
      ],
      "source": [
        "input_space = dp.vector_domain(dp.atom_domain(T=int)), dp.linf_distance(T=int)\n",
        "select_index_measurement = dp.m.make_report_noisy_max_gumbel(*input_space, scale=1.0, optimize='max')\n",
        "select_index_measurement"
      ]
    },
    {
      "cell_type": "code",
      "execution_count": 34,
      "metadata": {},
      "outputs": [
        {
          "data": {
            "text/plain": [
              "82"
            ]
          },
          "execution_count": 34,
          "metadata": {},
          "output_type": "execute_result"
        }
      ],
      "source": [
        "#pass the discrete scores to the measurement\n",
        "noisy_index = select_index_measurement(discrete_scores_list)\n",
        "noisy_index"
      ]
    },
    {
      "cell_type": "markdown",
      "metadata": {
        "id": "_i5KGjksXVbP"
      },
      "source": [
        "### 3. Return the Corresponding Quantile Value"
      ]
    },
    {
      "cell_type": "markdown",
      "metadata": {
        "id": "Ug-FYwAhXVbP"
      },
      "source": [
        "We pass the index obtained in the last function to `_index_candidates function` which maps the index to its corresponding candidate value. This differentially private quantile estimate is our final result! In this case our candidates list was an ordered, numerical list of human ages, which generally range to 100 so our noisy index and differentially private value are the same. In most applications, it won't be!"
      ]
    },
    {
      "cell_type": "code",
      "execution_count": 35,
      "metadata": {},
      "outputs": [
        {
          "data": {
            "text/plain": [
              "82"
            ]
          },
          "execution_count": 35,
          "metadata": {},
          "output_type": "execute_result"
        }
      ],
      "source": [
        "dp_quantile_value = candidates[noisy_index]\n",
        "dp_quantile_value"
      ]
    },
    {
      "cell_type": "markdown",
      "metadata": {
        "id": "OGCb2MvkXVbQ"
      },
      "source": [
        "## Conclusion"
      ]
    },
    {
      "cell_type": "markdown",
      "metadata": {
        "id": "9SHBKZE9XVbR"
      },
      "source": [
        "In this notebook, we covered how to use the OpenDP Context API with Polars to compute differentially private quantiles and explained how the differentially private quantile method works. \n"
      ]
    }
  ],
  "metadata": {
    "colab": {
      "provenance": []
    },
    "kernelspec": {
      "display_name": ".venv",
      "language": "python",
      "name": "python3"
    },
    "language_info": {
      "codemirror_mode": {
        "name": "ipython",
        "version": 3
      },
      "file_extension": ".py",
      "mimetype": "text/x-python",
      "name": "python",
      "nbconvert_exporter": "python",
      "pygments_lexer": "ipython3",
      "version": "3.12.3"
    }
  },
  "nbformat": 4,
  "nbformat_minor": 0
}
