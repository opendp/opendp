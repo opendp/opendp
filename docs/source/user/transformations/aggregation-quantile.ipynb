{
 "cells": [
  {
   "attachments": {},
   "cell_type": "markdown",
   "metadata": {},
   "source": [
    "# Aggregation: Quantile\n",
    "\n",
    "This notebook explains the b-ary tree technique for releasing quantiles.\n",
    "Examples in this notebook will a dataset sampled from $Exponential(\\lambda=20)$."
   ]
  },
  {
   "cell_type": "code",
   "execution_count": 121,
   "metadata": {},
   "outputs": [
    {
     "data": {
      "image/png": "[encoded data removed]",
      "text/plain": [
       "<Figure size 360x360 with 1 Axes>"
      ]
     },
     "metadata": {
      "needs_background": "light"
     },
     "output_type": "display_data"
    }
   ],
   "source": [
    "# privacy settings for all examples:\n",
    "max_contributions = 1\n",
    "epsilon = 1.\n",
    "\n",
    "import numpy as np\n",
    "data = np.random.exponential(20., size=1000)\n",
    "bounds = 0., 100. # a best guess!\n",
    "\n",
    "import seaborn as sns\n",
    "sns.displot(data, kind=\"kde\");"
   ]
  },
  {
   "cell_type": "code",
   "execution_count": 122,
   "metadata": {},
   "outputs": [
    {
     "data": {
      "text/plain": [
       "[5.754720694200086, 13.448712679130452, 27.952153017876828]"
      ]
     },
     "execution_count": 122,
     "metadata": {},
     "output_type": "execute_result"
    }
   ],
   "source": [
    "# true quantiles\n",
    "true_quantiles = np.quantile(data, [0.25, 0.5, 0.75])\n",
    "true_quantiles.tolist()\n"
   ]
  },
  {
   "attachments": {},
   "cell_type": "markdown",
   "metadata": {},
   "source": [
    "----\n",
    "\n",
    "Any constructors that have not completed the proof-writing and vetting process may still be accessed if you opt-in to \"contrib\".\n",
    "Please contact us if you are interested in proof-writing. Thank you!"
   ]
  },
  {
   "cell_type": "code",
   "execution_count": 123,
   "metadata": {},
   "outputs": [],
   "source": [
    "import opendp.prelude as dp\n",
    "dp.enable_features(\"contrib\")"
   ]
  },
  {
   "attachments": {},
   "cell_type": "markdown",
   "metadata": {},
   "source": [
    "## Quantile via Histogram\n",
    "\n",
    "One approach for releasing quantiles is to estimate the cumulative distribution via a histogram query.\n",
    "\n",
    "The basic procedure for estimating an $\\alpha$-quantile is as follows:\n",
    "\n",
    "1. bin the data, and count the number of elements in each bin privately\n",
    "2. divide the counts by the total to get the probability density of landing in each bin\n",
    "3. sum the densities while scanning from the left until the sum is at least $\\alpha$\n",
    "4. interpolate the bin edges of the terminal bin"
   ]
  },
  {
   "cell_type": "code",
   "execution_count": 124,
   "metadata": {},
   "outputs": [
    {
     "data": {
      "text/plain": [
       "[5.850000000000001, 13.200000000000001, 28.433333333333337]"
      ]
     },
     "execution_count": 124,
     "metadata": {},
     "output_type": "execute_result"
    }
   ],
   "source": [
    "\n",
    "quart_alphas = [0.25, 0.5, 0.75]\n",
    "input_space = dp.vector_domain(dp.atom_domain(T=float)), dp.symmetric_distance()\n",
    "\n",
    "def make_hist_quantiles(alphas, d_in, d_out, num_bins=500):\n",
    "\n",
    "    edges = np.linspace(*bounds, num=num_bins + 1)\n",
    "    bin_names = [str(i) for i in range(num_bins)]\n",
    "\n",
    "    def make_from_scale(scale):\n",
    "        return (\n",
    "            input_space >>\n",
    "            dp.t.then_find_bin(edges=edges) >> # bin the data\n",
    "            dp.t.then_index(bin_names, \"0\") >> # can be omitted. Just set TIA=\"usize\", categories=list(range(num_bins)) on next line:\n",
    "            dp.t.then_count_by_categories(categories=bin_names, null_category=False) >>\n",
    "            dp.m.then_base_discrete_laplace(scale) >>\n",
    "            # we're really only interested in the function on this transformation- the domain and metric don't matter\n",
    "            dp.t.make_cast_default(dp.vector_domain(dp.atom_domain(T=int)), dp.symmetric_distance(), TOA=float) >>\n",
    "            dp.t.make_quantiles_from_counts(edges, alphas=alphas)\n",
    "        )\n",
    "\n",
    "    return dp.binary_search_chain(make_from_scale, d_in, d_out)\n",
    "\n",
    "hist_quartiles_meas = make_hist_quantiles(quart_alphas, max_contributions, epsilon)\n",
    "hist_quartiles_meas(data)\n"
   ]
  },
  {
   "attachments": {},
   "cell_type": "markdown",
   "metadata": {},
   "source": [
    "A drawback of using this algorithm is that it can be difficult to choose the number of bins.\n",
    "\n",
    "If the number of bins is chosen to be very small, then the postprocessor will need to sum fewer instances of noise before reaching the bin of interest, resulting in a better bin selection.\n",
    "However, the bin will be wider, so there will be greater error when interpolating the final answer.\n",
    "\n",
    "If the number of bins is chosen to be very large, then the same holds in the other direction.\n",
    "\n",
    "Estimating quantiles via the next algorithm can help make choosing the number of bins less sensitive.\n"
   ]
  },
  {
   "attachments": {},
   "cell_type": "markdown",
   "metadata": {},
   "source": [
    "## Quantile via B-ary Tree\n",
    "\n",
    "A slightly more complicated algorithm that tends to provide better utility is to privatize a B-ary tree instead of a histogram.\n",
    "In this algorithm, the raw counts form the leaf nodes, and a complete tree is constructed by recursively summing groups of size `b`.\n",
    "This results in a structure where each parent node is the sum of its `b` children.\n",
    "Noise is added to each node in the tree, and then a postprocessor makes all nodes of the tree consistent with each other, and returns the leaf nodes.\n",
    "\n",
    "In the histogram approach, the postprocessor would be influenced by a number of noise sources approximately $O(n)$ in the number of scanned bins.\n",
    "After this modification, the postprocessor is influenced by a number of noise sources approximately $O(log_b(n))$ in the number of scanned bins, and with noise sources of similarly greater magnitude.\n",
    "\n",
    "This modification introduces a new hyperparameter, the branching factor.\n",
    "`choose_branching_factor` provides a heuristic for the ideal branching factor, based on information (or a best guess) of the dataset size."
   ]
  },
  {
   "cell_type": "code",
   "execution_count": 125,
   "metadata": {},
   "outputs": [
    {
     "data": {
      "text/plain": [
       "25"
      ]
     },
     "execution_count": 125,
     "metadata": {},
     "output_type": "execute_result"
    }
   ],
   "source": [
    "b = dp.t.choose_branching_factor(size_guess=1_500)\n",
    "b"
   ]
  },
  {
   "attachments": {},
   "cell_type": "markdown",
   "metadata": {},
   "source": [
    "\n",
    "We now make the following adjustments to the histogram algorithm:\n",
    "\n",
    "* insert a stable (Lipschitz) transformation to construct a b-ary tree before the noise mechanism\n",
    "* replace the cast postprocessor with a consistency postprocessor\n"
   ]
  },
  {
   "cell_type": "code",
   "execution_count": 126,
   "metadata": {},
   "outputs": [
    {
     "data": {
      "text/plain": [
       "[5.486171566284501, 13.547920776969864, 27.138918129988557]"
      ]
     },
     "execution_count": 126,
     "metadata": {},
     "output_type": "execute_result"
    }
   ],
   "source": [
    "def make_tree_quantiles(alphas, b, d_in, d_out, num_bins=500):\n",
    "\n",
    "    edges = np.linspace(*bounds, num=num_bins + 1)\n",
    "    bin_names = [str(i) for i in range(num_bins)]\n",
    "\n",
    "    def make_from_scale(scale):\n",
    "        return (\n",
    "            input_space >>\n",
    "            dp.t.then_find_bin(edges=edges) >> # bin the data\n",
    "            dp.t.then_index(bin_names, \"0\") >> # can be omitted. Just set TIA=\"usize\", categories=list(range(num_bins)) on next line:\n",
    "            dp.t.then_count_by_categories(categories=bin_names, null_category=False) >>\n",
    "            dp.t.then_b_ary_tree(leaf_count=len(bin_names), branching_factor=b) >>\n",
    "            dp.m.then_base_discrete_laplace(scale) >> \n",
    "            dp.t.make_consistent_b_ary_tree(branching_factor=b) >>  # postprocessing\n",
    "            dp.t.make_quantiles_from_counts(edges, alphas=alphas)   # postprocessing\n",
    "        )\n",
    "\n",
    "    return dp.binary_search_chain(make_from_scale, d_in, d_out)\n",
    "\n",
    "tree_quartiles_meas = make_tree_quantiles(quart_alphas, b, max_contributions, epsilon)\n",
    "tree_quartiles_meas(data)"
   ]
  },
  {
   "attachments": {},
   "cell_type": "markdown",
   "metadata": {},
   "source": [
    "As mentioned earlier, using the tree-based approach can help make the algorithm less sensitive to the number of bins:"
   ]
  },
  {
   "cell_type": "code",
   "execution_count": 142,
   "metadata": {},
   "outputs": [
    {
     "data": {
      "image/png": "[encoded data removed]",
      "text/plain": [
       "<Figure size 432x288 with 1 Axes>"
      ]
     },
     "metadata": {
      "needs_background": "light"
     },
     "output_type": "display_data"
    }
   ],
   "source": [
    "num_trials = 100\n",
    "def average_error(num_bins):\n",
    "    hist_quantiles_meas = make_hist_quantiles(quart_alphas, max_contributions, epsilon, num_bins)\n",
    "    tree_quantiles_meas = make_tree_quantiles(quart_alphas, b, max_contributions, epsilon, num_bins)\n",
    "\n",
    "    def sample_error(meas):\n",
    "        return np.linalg.norm(true_quantiles - meas(data))\n",
    "    \n",
    "    hist_err = np.mean([sample_error(hist_quantiles_meas) for _ in range(num_trials)])\n",
    "    tree_err = np.mean([sample_error(tree_quantiles_meas) for _ in range(num_trials)])\n",
    "\n",
    "    return num_bins, hist_err, tree_err\n",
    "\n",
    "import pandas as pd\n",
    "pd.DataFrame(\n",
    "    [average_error(num_bins) for num_bins in [70, 100, 250, 500, 750, 1_000, 5_000]],\n",
    "    columns=[\"number of bins\", \"histogram error\", \"tree error\"]\n",
    ").plot(0); # type: ignore"
   ]
  },
  {
   "attachments": {},
   "cell_type": "markdown",
   "metadata": {},
   "source": [
    "## Privately Estimating the Distribution\n",
    "\n",
    "Minor note: instead of postprocessing the noisy counts into quantiles, they can be left as counts, which can be used to visualize the distribution.\n",
    "\n"
   ]
  },
  {
   "cell_type": "code",
   "execution_count": 165,
   "metadata": {},
   "outputs": [
    {
     "data": {
      "image/png": "[encoded data removed]",
      "text/plain": [
       "<Figure size 432x288 with 1 Axes>"
      ]
     },
     "metadata": {
      "needs_background": "light"
     },
     "output_type": "display_data"
    }
   ],
   "source": [
    "def make_distribution_counts(edges, scale):\n",
    "    bin_names = [str(i) for i in range(len(edges - 1))]\n",
    "\n",
    "    return (\n",
    "        input_space >>\n",
    "        dp.t.then_find_bin(edges=edges) >> # bin the data\n",
    "        dp.t.then_index(bin_names, \"0\") >> # can be omitted. Just set TIA=\"usize\", categories=list(range(num_bins)) on next line:\n",
    "        dp.t.then_count_by_categories(categories=bin_names, null_category=False) >>\n",
    "        dp.m.then_base_discrete_laplace(scale)\n",
    "    )\n",
    "\n",
    "edges = np.linspace(*bounds, num=50)\n",
    "counts = make_distribution_counts(edges, scale=1.)(data)\n",
    "\n",
    "import matplotlib.pyplot as plt\n",
    "\n",
    "plt.hist(range(len(edges)), edges, weights=counts, density=True)\n",
    "plt.xlabel(\"support\")\n",
    "plt.ylabel(\"noisy density\");"
   ]
  }
 ],
 "metadata": {
  "kernelspec": {
   "display_name": "psi",
   "language": "python",
   "name": "python3"
  },
  "language_info": {
   "codemirror_mode": {
    "name": "ipython",
    "version": 3
   },
   "file_extension": ".py",
   "mimetype": "text/x-python",
   "name": "python",
   "nbconvert_exporter": "python",
   "pygments_lexer": "ipython3",
   "version": "3.9.13"
  },
  "orig_nbformat": 4,
  "vscode": {
   "interpreter": {
    "hash": "3220da548452ac41acb293d0d6efded0f046fab635503eb911c05f743e930f34"
   }
  }
 },
 "nbformat": 4,
 "nbformat_minor": 2
}
