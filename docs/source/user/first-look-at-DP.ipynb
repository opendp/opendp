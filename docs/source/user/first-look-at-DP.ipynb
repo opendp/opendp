{
 "cells": [
  {
   "attachments": {},
   "cell_type": "markdown",
   "metadata": {},
   "source": [
    "# First Look at DP\n",
    "\n",
    "Differential privacy (DP) is a technique used to release information about a population\n",
    "in a way that limits the exposure of any one individual's personal information.\n",
    "\n",
    "In this notebook, we'll conduct a differentially-private analysis on a teacher survey (a tabular dataset).\n",
    "\n",
    "The raw data consists of survey responses from teachers in primary and secondary schools in an unspecified U.S. state."
   ]
  },
  {
   "attachments": {},
   "cell_type": "markdown",
   "metadata": {},
   "source": [
    "## Why Differential Privacy?\n",
    "\n",
    "Protecting the privacy of individuals while sharing information is nontrivial.\n",
    "Let's say I naively \"anonymized\" the teacher survey by removing the person's name."
   ]
  },
  {
   "cell_type": "code",
   "execution_count": 1,
   "metadata": {},
   "outputs": [],
   "source": [
    "import pandas as pd\n",
    "df = pd.read_csv(\"../data/teacher_survey/teacher_survey.csv\")\n",
    "df.columns = ['name',\n",
    "              'sex',\n",
    "              'age',\n",
    "              'maritalStatus',\n",
    "              'hasChildren',\n",
    "              'highestEducationLevel',\n",
    "              'sourceOfStress',\n",
    "              'smoker',\n",
    "              'optimism',\n",
    "              'lifeSatisfaction',\n",
    "              'selfEsteem']\n",
    "\n",
    "# naively \"anonymize\" by removing the name column\n",
    "del df[\"name\"]"
   ]
  },
  {
   "attachments": {},
   "cell_type": "markdown",
   "metadata": {},
   "source": [
    "It would still be very easy to re-identify individuals via quasi-identifiers.\n",
    "Say I was curious about my non-binary co-worker Chris, and I knew their age (27)."
   ]
  },
  {
   "cell_type": "code",
   "execution_count": 2,
   "metadata": {},
   "outputs": [
    {
     "data": {
      "text/html": [
       "<div>\n",
       "<style scoped>\n",
       "    .dataframe tbody tr th:only-of-type {\n",
       "        vertical-align: middle;\n",
       "    }\n",
       "\n",
       "    .dataframe tbody tr th {\n",
       "        vertical-align: top;\n",
       "    }\n",
       "\n",
       "    .dataframe thead th {\n",
       "        text-align: right;\n",
       "    }\n",
       "</style>\n",
       "<table border=\"1\" class=\"dataframe\">\n",
       "  <thead>\n",
       "    <tr style=\"text-align: right;\">\n",
       "      <th></th>\n",
       "      <th>sex</th>\n",
       "      <th>age</th>\n",
       "      <th>maritalStatus</th>\n",
       "      <th>smoker</th>\n",
       "    </tr>\n",
       "  </thead>\n",
       "  <tbody>\n",
       "    <tr>\n",
       "      <th>2251</th>\n",
       "      <td>3</td>\n",
       "      <td>27</td>\n",
       "      <td>3</td>\n",
       "      <td>1</td>\n",
       "    </tr>\n",
       "  </tbody>\n",
       "</table>\n",
       "</div>"
      ],
      "text/plain": [
       "      sex  age  maritalStatus smoker\n",
       "2251    3   27              3      1"
      ]
     },
     "execution_count": 2,
     "metadata": {},
     "output_type": "execute_result"
    }
   ],
   "source": [
    "chris = df.loc[(df['sex'] == 3) & (df['age'] == 27)]\n",
    "chris[[\"sex\", \"age\", \"maritalStatus\", \"smoker\"]] # print a few columns of interest"
   ]
  },
  {
   "attachments": {},
   "cell_type": "markdown",
   "metadata": {},
   "source": [
    "In a dataset of 7,000 records, these two identifiers alone uniquely identified my coworker, allowing me to see their responses— they are unmarried, but living with their partner. \n",
    "In addition I can also see that they are a smoker.\n",
    "\n",
    "In other situations there are more nuanced techniques that can be used to determine if an individual exists in a dataset (called a membership attack)\n",
    "or reconstruct parts of, or even the entire dataset, from summary statistics.\n",
    "\n",
    "Giving strong formal privacy guarantees requires the rigorous mathematical grounding that differential privacy provides.\n",
    "\n",
    "## Steps of a DP Analysis\n",
    "\n",
    "A differentially private analysis is usually conducted in the following steps:\n",
    "\n",
    "1. Identify the unit of privacy\n",
    "2. Consider privacy risk \n",
    "3. Collect public information\n",
    "4. Construct a measurement\n",
    "5. Make a DP release\n",
    "\n",
    "It is common to return to prior steps to make further releases."
   ]
  },
  {
   "attachments": {},
   "cell_type": "markdown",
   "metadata": {},
   "source": [
    "\n",
    "### 1. Identify the Unit of Privacy\n",
    "We first need to isolate exactly what we're protecting.\n",
    "\n",
    "In the teacher survey, the unit of privacy is the addition or removal of one teacher. \n",
    "Since each teacher contributes at most one row to the dataset, \n",
    "the unit of privacy corresponds to defining the maximum number of row contributions to be one."
   ]
  },
  {
   "cell_type": "code",
   "execution_count": 3,
   "metadata": {},
   "outputs": [],
   "source": [
    "max_contributions = 1"
   ]
  },
  {
   "attachments": {},
   "cell_type": "markdown",
   "metadata": {},
   "source": [
    "We will use this bound to tune our methods such that data releases are quantifiably indistinguishable \n",
    "upon the addition or removal of any one teacher from any input dataset.\n",
    "\n",
    "Broadly speaking, differential privacy can be applied to any medium of data for which you can define a unit of privacy.\n",
    "In other contexts, the unit of privacy may correspond to multiple rows, a user ID, or nodes or edges in a graph.\n",
    "\n",
    "The unit of privacy may also be more general or more precise than a single individual.\n",
    "In the data analysis conducted in this notebook, we'll refer to an individual and the unit of privacy interchangeably, \n",
    "because in this example we've defined the unit of privacy to be one individual. "
   ]
  },
  {
   "attachments": {},
   "cell_type": "markdown",
   "metadata": {},
   "source": [
    "### 2. Consider Privacy Risk\n",
    "The next step is to consider the risk of disclosing information about your sensitive dataset.\n",
    "\n",
    "If the dataset is available to the public, then differentially private methods are not necessary.\n",
    "Whereas, if the dataset could place individuals at severe risk of harm, then you should reconsider making any data release at all.\n",
    "Differentially private methods are used to make releases on data with a risk profile somewhere between these two extremes.\n",
    "\n",
    "The level of privacy afforded to individuals in a dataset under analysis is quantified by _privacy parameters_.\n",
    "One such privacy parameter is epsilon ($\\epsilon$), a non-negative number, where larger values afford less privacy.\n",
    "$\\epsilon$ can be viewed as a proxy to quantify the worst-case risk to any individual.\n",
    "It is customary to refer to a data release with such bounded risk as $\\epsilon$-DP.\n",
    "\n",
    "A common rule-of-thumb is to limit your overall $\\epsilon$ spend to 1.0.\n",
    "However, this limit will vary depending on the risk profile associated with the disclosure of information.\n",
    "In many cases, the privacy parameters are not finalized until the data owner is preparing to make a disclosure."
   ]
  },
  {
   "attachments": {},
   "cell_type": "markdown",
   "metadata": {},
   "source": [
    "\n",
    "### 3. Collect Public Information\n",
    "The next step is to identify public information about the dataset.\n",
    "\n",
    "* information that is invariant across all potential input datasets (may include column names and per-column categories)\n",
    "* information that is publicly available from other sources\n",
    "* information from other DP releases\n",
    "\n",
    "For convenience, I've collected metadata from the teacher survey dataset codebook [into a JSON file](../data/teacher_survey/public_metadata.json)."
   ]
  },
  {
   "cell_type": "code",
   "execution_count": 4,
   "metadata": {},
   "outputs": [
    {
     "data": {
      "text/plain": [
       "['name',\n",
       " 'sex',\n",
       " 'age',\n",
       " 'maritalStatus',\n",
       " 'hasChildren',\n",
       " 'highestEducationLevel',\n",
       " 'sourceOfStress',\n",
       " 'smoker',\n",
       " 'optimism',\n",
       " 'lifeSatisfaction',\n",
       " 'selfEsteem']"
      ]
     },
     "execution_count": 4,
     "metadata": {},
     "output_type": "execute_result"
    }
   ],
   "source": [
    "import json\n",
    "metadata = json.load(open(\"../data/teacher_survey/public_metadata.json\"))\n",
    "metadata[\"column_names\"]"
   ]
  },
  {
   "attachments": {},
   "cell_type": "markdown",
   "metadata": {},
   "source": [
    "In this case (and in most cases), we consider column names public/invariant to the data because they weren't picked in response to the data, they were \"fixed\" before collecting the data.\n",
    "\n",
    "A data invariant is information about your dataset that you are explicitly choosing not to protect,\n",
    "under the basis that it does not contain sensitive information. \n",
    "Be careful because, if an invariant does, indeed, contain sensitive information,\n",
    "then you expose individuals in the dataset to unbounded privacy loss.\n",
    "\n",
    "This public metadata will significantly improve the utility of our results."
   ]
  },
  {
   "attachments": {},
   "cell_type": "markdown",
   "metadata": {},
   "source": [
    "### 4. Construct a Measurement\n",
    "\n",
    "A measurement is a randomized function that takes a dataset and returns a differentially private release.\n",
    "The OpenDP Library provides building-blocks that can be functionally composed (called \"chaining\")."
   ]
  },
  {
   "attachments": {},
   "cell_type": "markdown",
   "metadata": {},
   "source": [
    "Building blocks that do not yet privatize the output are called \"transformations\" instead of \"measurements\".\n",
    "Transformations are how we compute statistical summaries in a way that can be privatized.\n",
    "They roughly correspond to the kind of operations you'd expect of pandas dataframes or NumPy arrays. \n",
    "\n",
    "The following transformation loads the age column from a CSV:"
   ]
  },
  {
   "cell_type": "code",
   "execution_count": 5,
   "metadata": {},
   "outputs": [],
   "source": [
    "import opendp.prelude as dp\n",
    "dp.enable_features(\"contrib\")\n",
    "\n",
    "# the `>>` operator denotes the functional composition \n",
    "# takes a csv string input and emits a vector of strings\n",
    "age_trans = (\n",
    "    dp.t.make_split_dataframe(separator=\",\", col_names=metadata[\"column_names\"]) >>\n",
    "    dp.t.make_select_column(\"age\", str)\n",
    ")"
   ]
  },
  {
   "attachments": {},
   "cell_type": "markdown",
   "metadata": {},
   "source": [
    "The next cell will chain this `age_trans` transformation with a count transformation, and then privatize the count with a measurement.\n",
    "\n",
    "In this case we add noise from a discretized version of the Laplace distribution. \n",
    "All differentially private measurements involve sampling from a carefully-calibrated probability distribution that is concentrated around the quantity of interest."
   ]
  },
  {
   "cell_type": "code",
   "execution_count": 6,
   "metadata": {},
   "outputs": [],
   "source": [
    "count_meas = age_trans >> dp.t.then_count() >> dp.m.then_laplace(scale=2.)"
   ]
  },
  {
   "attachments": {},
   "cell_type": "markdown",
   "metadata": {},
   "source": [
    "Each invocation of a measurement incurs some privacy loss, and we can use the privacy map to tell us how much.\n",
    "Recalling the \"Unit of Privacy\" section, we know that each teacher contributed at most one row to the survey.\n"
   ]
  },
  {
   "cell_type": "code",
   "execution_count": 7,
   "metadata": {},
   "outputs": [
    {
     "data": {
      "text/plain": [
       "0.5"
      ]
     },
     "execution_count": 7,
     "metadata": {},
     "output_type": "execute_result"
    }
   ],
   "source": [
    "count_meas.map(d_in=max_contributions)"
   ]
  },
  {
   "attachments": {},
   "cell_type": "markdown",
   "metadata": {},
   "source": [
    "The privacy map tells us that passing data through this transformation will incur an $\\epsilon = 0.5$ privacy spend to any individual in a dataset passed in.\n",
    "The privacy spend is based on how noisy this distribution is, and how sensitive the transformation is to changes to the input data.\n",
    "\n",
    "In this case, the sensitivity of the count is simple: if a teacher contributes at most one row, then the additional or removal of a teacher can change the count by at most one.\n",
    "The mathematics for this distribution work out such that the epsilon expenditure (0.5) is the sensitivity (1) divided by the noise scale (2)."
   ]
  },
  {
   "attachments": {},
   "cell_type": "markdown",
   "metadata": {},
   "source": [
    "### 5. Make a DP Release\n",
    "\n",
    "At this point, we still haven't touched the sensitive dataset we're analyzing.\n",
    "This is the first and only point where we access the sensitive dataset in this process.\n",
    "In order to obtain accurate privacy guarantees, the OpenDP Library should mediate all access to the sensitive dataset.\n",
    "\n",
    "We now invoke the measurement on our dataset, and consume $\\epsilon = 0.5$."
   ]
  },
  {
   "cell_type": "code",
   "execution_count": 8,
   "metadata": {},
   "outputs": [
    {
     "data": {
      "text/plain": [
       "7000"
      ]
     },
     "execution_count": 8,
     "metadata": {},
     "output_type": "execute_result"
    }
   ],
   "source": [
    "csv_data = open(\"../data/teacher_survey/teacher_survey.csv\").read()\n",
    "dp_count = count_meas(csv_data)\n",
    "dp_count"
   ]
  },
  {
   "attachments": {},
   "cell_type": "markdown",
   "metadata": {},
   "source": [
    "The result is a random draw from the discrete Laplace distribution, centered at the true count of the number of records in the underlying dataset.\n",
    "\n",
    "We can also give a $(1 - \\alpha)100$% confidence interval for this release:"
   ]
  },
  {
   "cell_type": "code",
   "execution_count": 9,
   "metadata": {},
   "outputs": [
    {
     "data": {
      "text/plain": [
       "6.42960493986766"
      ]
     },
     "execution_count": 9,
     "metadata": {},
     "output_type": "execute_result"
    }
   ],
   "source": [
    "dp.discrete_laplacian_scale_to_accuracy(scale=2., alpha=0.05)"
   ]
  },
  {
   "attachments": {},
   "cell_type": "markdown",
   "metadata": {},
   "source": [
    "When the discrete Laplace distribution's scale is 2, the DP estimate differs from the exact estimate by no more than 6.43, at a 95% confidence level.\n",
    "\n",
    "This concludes the process of making a DP release.\n",
    "\n",
    "Let's repeat this process more briefly for estimating the mean age.\n",
    "This time we benefit from having a DP count estimate in our public information:\n",
    "It is used to help calibrate the privacy guarantees for the mean."
   ]
  },
  {
   "cell_type": "code",
   "execution_count": 10,
   "metadata": {},
   "outputs": [],
   "source": [
    "age_bounds = (18., 70.) # a best-guess based on public information\n",
    "def make_mean_age(scale):\n",
    "    return (\n",
    "        age_trans >>\n",
    "        dp.t.then_cast_default(float) >>\n",
    "        dp.t.then_clamp(bounds=age_bounds) >>\n",
    "        dp.t.then_resize(size=dp_count, constant=42.) >>\n",
    "        dp.t.then_mean() >>\n",
    "        dp.m.then_laplace(scale=scale)\n",
    "    )"
   ]
  },
  {
   "attachments": {},
   "cell_type": "markdown",
   "metadata": {},
   "source": [
    "This measurement involves more preprocessing than the count did (clamping, and dataset resize).\n",
    "The purpose of this preprocessing is to bound the sensitivity of the mean: \n",
    "the mean should only change by a limited amount when any teacher is added or removed from the dataset. \n",
    "\n",
    "`make_mean_age` allows the scale parameter to vary.\n",
    "Before we choose a scale parameter, let's take a closer look at the privacy vs. utility tradeoff."
   ]
  },
  {
   "attachments": {},
   "cell_type": "markdown",
   "metadata": {},
   "source": [
    "## Privacy vs. Utility\n",
    "\n",
    "There is a tradeoff between privacy and utility in all differentially private methods.\n",
    "Greater privacy corresponds to lower utility.\n",
    "\n",
    "It is a good practice to explore this tradeoff before making a differentially private release.\n",
    "Had we done this before releasing the DP count, we may have decided to use a larger noise scale so as to preserve more of the $\\epsilon$ budget for later use.\n",
    "\n",
    "Generally speaking, you never want to make a release with a greater level of accuracy than you need, because you can never \"un-spend\" an epsilon.\n",
    "If you later decide you need to improve the accuracy, you can usually do so by taking the weighted average of multiple DP estimates of the same quantity. \n",
    "\n",
    "The following plot shows how this privacy/utility tradeoff looks for the mean:"
   ]
  },
  {
   "cell_type": "code",
   "execution_count": 11,
   "metadata": {},
   "outputs": [
    {
     "data": {
      "image/png": "[encoded data removed]",
      "text/plain": [
       "<Figure size 640x480 with 1 Axes>"
      ]
     },
     "metadata": {},
     "output_type": "display_data"
    }
   ],
   "source": [
    "import matplotlib.pyplot as plt\n",
    "import numpy as np\n",
    "\n",
    "scales = np.linspace(0.01, 1., num=100)\n",
    "epsilons = [make_mean_age(s).map(max_contributions) for s in scales]\n",
    "accuracies = [dp.laplacian_scale_to_accuracy(scale=s, alpha=0.05) for s in scales]\n",
    "plt.plot(epsilons, accuracies)\n",
    "plt.title(\"Epsilon vs. Accuracy at 95% confidence\")\n",
    "plt.xlabel(\"epsilon\")\n",
    "plt.ylabel(\"accuracy\");"
   ]
  },
  {
   "attachments": {},
   "cell_type": "markdown",
   "metadata": {},
   "source": [
    "When the privacy guarantees become looser, the confidence intervals for your estimate become tighter.\n",
    "Your needs will determine the ideal tradeoff between privacy and utility.\n",
    "The OpenDP Library provides methods that make this tradeoff as tight as possible.\n",
    "\n",
    "Let's commit to a noise scale of 0.05."
   ]
  },
  {
   "cell_type": "code",
   "execution_count": 12,
   "metadata": {},
   "outputs": [],
   "source": [
    "mean_age_meas = make_mean_age(scale=0.05)"
   ]
  },
  {
   "cell_type": "code",
   "execution_count": 13,
   "metadata": {},
   "outputs": [
    {
     "data": {
      "text/plain": [
       "0.1485714285796542"
      ]
     },
     "execution_count": 13,
     "metadata": {},
     "output_type": "execute_result"
    }
   ],
   "source": [
    "# what would the epsilon expenditure be, if the scale were 0.05?\n",
    "mean_age_meas.map(d_in=max_contributions)"
   ]
  },
  {
   "cell_type": "code",
   "execution_count": 14,
   "metadata": {},
   "outputs": [
    {
     "data": {
      "text/plain": [
       "0.14978661367769955"
      ]
     },
     "execution_count": 14,
     "metadata": {},
     "output_type": "execute_result"
    }
   ],
   "source": [
    "# what would the accuracy be, if the scale were 0.05?\n",
    "dp.laplacian_scale_to_accuracy(scale=0.05, alpha=0.05)"
   ]
  },
  {
   "attachments": {},
   "cell_type": "markdown",
   "metadata": {},
   "source": [
    "When the Laplace distribution's scale is 0.05, the DP estimate will differ from the exact estimate by no more than 0.15, at a 95% confidence level.\n",
    "This accuracy estimate doesn't include potential bias incurred by the preprocessing: in this case, the clamping (and resize) may bias the the exact estimate away from the true mean in a way that isn't characterized by this accuracy estimate."
   ]
  },
  {
   "attachments": {},
   "cell_type": "markdown",
   "metadata": {},
   "source": [
    "## Composition\n",
    "\n",
    "When you make multiple releases on the same dataset, the epsilons for each release \"add up\".\n",
    "\n",
    "The total epsilon spend is the sum of the epsilon consumption of each measurement we make on the sensitive dataset."
   ]
  },
  {
   "cell_type": "code",
   "execution_count": 15,
   "metadata": {},
   "outputs": [
    {
     "data": {
      "text/plain": [
       "0.6485714285796542"
      ]
     },
     "execution_count": 15,
     "metadata": {},
     "output_type": "execute_result"
    }
   ],
   "source": [
    "count_meas.map(max_contributions) + mean_age_meas.map(max_contributions)"
   ]
  },
  {
   "attachments": {},
   "cell_type": "markdown",
   "metadata": {},
   "source": [
    "With this release, the overall privacy expenditure will become $\\epsilon = 0.65$."
   ]
  },
  {
   "cell_type": "code",
   "execution_count": 16,
   "metadata": {},
   "outputs": [
    {
     "data": {
      "text/plain": [
       "37.4229953984929"
      ]
     },
     "execution_count": 16,
     "metadata": {},
     "output_type": "execute_result"
    }
   ],
   "source": [
    "mean_age_meas(csv_data)"
   ]
  },
  {
   "attachments": {},
   "cell_type": "markdown",
   "metadata": {},
   "source": [
    "The mean age of individuals in the sensitive dataset is 37.35."
   ]
  }
 ],
 "metadata": {
  "kernelspec": {
   "display_name": "base",
   "language": "python",
   "name": "python3"
  },
  "language_info": {
   "codemirror_mode": {
    "name": "ipython",
    "version": 3
   },
   "file_extension": ".py",
   "mimetype": "text/x-python",
   "name": "python",
   "nbconvert_exporter": "python",
   "pygments_lexer": "ipython3",
   "version": "3.11.7"
  },
  "orig_nbformat": 4
 },
 "nbformat": 4,
 "nbformat_minor": 2
}
