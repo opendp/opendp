{
 "cells": [
  {
   "attachments": {},
   "cell_type": "markdown",
   "metadata": {},
   "source": [
    "# First Look at DP\n",
    "\n",
    "Differential privacy (DP) is a technique used to release information about a population\n",
    "in a way that limits the exposure of any one individual's personal information.\n",
    "\n",
    "In this notebook, we'll conduct a differentially-private analysis on a teacher survey (a tabular dataset)."
   ]
  },
  {
   "attachments": {},
   "cell_type": "markdown",
   "metadata": {},
   "source": [
    "## Why Differential Privacy?\n",
    "\n",
    "Protecting the privacy of individuals while still sharing information is nontrivial.\n",
    "For example, if I naively \"anonymized\" the teacher survey by removing any identifiers \n",
    "(like the person's name and social security number), \n",
    "it would still be very easy to re-identify individuals via quasi-identifiers."
   ]
  },
  {
   "cell_type": "code",
   "execution_count": 1,
   "metadata": {},
   "outputs": [],
   "source": [
    "import pandas as pd\n",
    "df = pd.read_csv(\"../data/teacher_survey/teacher_survey.csv\", header=None)\n",
    "df.columns = ['sex',\n",
    "              'age',\n",
    "              'maritalStatus',\n",
    "              'hasChildren',\n",
    "              'highestEducationLevel',\n",
    "              'sourceOfStress',\n",
    "              'smoker',\n",
    "              'optimism',\n",
    "              'lifeSatisfaction',\n",
    "              'selfEsteem']"
   ]
  },
  {
   "attachments": {},
   "cell_type": "markdown",
   "metadata": {},
   "source": [
    "\n",
    "Say I was curious about my non-binary co-worker, and I knew their age (27)."
   ]
  },
  {
   "cell_type": "code",
   "execution_count": 2,
   "metadata": {},
   "outputs": [
    {
     "data": {
      "text/html": [
       "<div>\n",
       "<style scoped>\n",
       "    .dataframe tbody tr th:only-of-type {\n",
       "        vertical-align: middle;\n",
       "    }\n",
       "\n",
       "    .dataframe tbody tr th {\n",
       "        vertical-align: top;\n",
       "    }\n",
       "\n",
       "    .dataframe thead th {\n",
       "        text-align: right;\n",
       "    }\n",
       "</style>\n",
       "<table border=\"1\" class=\"dataframe\">\n",
       "  <thead>\n",
       "    <tr style=\"text-align: right;\">\n",
       "      <th></th>\n",
       "      <th>sex</th>\n",
       "      <th>age</th>\n",
       "      <th>maritalStatus</th>\n",
       "      <th>hasChildren</th>\n",
       "      <th>highestEducationLevel</th>\n",
       "      <th>sourceOfStress</th>\n",
       "      <th>smoker</th>\n",
       "      <th>optimism</th>\n",
       "      <th>lifeSatisfaction</th>\n",
       "      <th>selfEsteem</th>\n",
       "    </tr>\n",
       "  </thead>\n",
       "  <tbody>\n",
       "    <tr>\n",
       "      <th>2252</th>\n",
       "      <td>3</td>\n",
       "      <td>27</td>\n",
       "      <td>3</td>\n",
       "      <td>2</td>\n",
       "      <td>3</td>\n",
       "      <td>8</td>\n",
       "      <td>1</td>\n",
       "      <td>26</td>\n",
       "      <td>29</td>\n",
       "      <td>38</td>\n",
       "    </tr>\n",
       "  </tbody>\n",
       "</table>\n",
       "</div>"
      ],
      "text/plain": [
       "      sex  age  maritalStatus hasChildren  highestEducationLevel  \\\n",
       "2252    3   27              3           2                      3   \n",
       "\n",
       "     sourceOfStress smoker optimism lifeSatisfaction selfEsteem  \n",
       "2252              8      1       26               29         38  "
      ]
     },
     "execution_count": 2,
     "metadata": {},
     "output_type": "execute_result"
    }
   ],
   "source": [
    "df.loc[(df['sex'] == 3) & (df['age'] == 27)]\n"
   ]
  },
  {
   "attachments": {},
   "cell_type": "markdown",
   "metadata": {},
   "source": [
    "In a dataset of 7,000 records, these two identifiers alone uniquely identified my coworker, allowing me to see their responses-- they are unmarried, but living with their partner.\n",
    "\n",
    "In other situations there are more nuanced techniques that can be used to determine if an individual exists in a dataset (called a membership attack)\n",
    "or reconstruct parts of, or even the entire dataset, from summary statistics.\n",
    "\n",
    "Giving strong formal privacy guarantees requires the rigorous mathematical grounding that differential privacy provides."
   ]
  },
  {
   "attachments": {},
   "cell_type": "markdown",
   "metadata": {},
   "source": [
    "\n",
    "## 2. Unit of Privacy\n",
    "The first step of a DP analysis is to identify the unit of privacy.\n",
    "In the teacher survey, each teacher contributes one row to the dataset, so our unit of privacy is a single row.\n",
    "\n",
    "> Broadly speaking, differential privacy can be applied to any medium of data for which you can define a unit of privacy.\n",
    "> In other contexts, the unit of privacy may be multiple rows, a user ID, or a node or edge in a graph.\n",
    "\n",
    "The unit of privacy frames the privacy guarantee provided by $\\epsilon$.\n",
    "An analysis is only $\\epsilon$-DP if the methods can conceal any change made to the input dataset as coarse as the unit of privacy.\n",
    "\n",
    "Since each teacher may only contribute at most one row, \n",
    "we will tune our methods such that the outputs are at most $\\epsilon$-distinguishably different \n",
    "upon the addition or removal of any one row from any input dataset."
   ]
  },
  {
   "attachments": {},
   "cell_type": "markdown",
   "metadata": {},
   "source": [
    "\n",
    "## 3. Public Information\n",
    "The next step is to identify public information about the dataset.\n",
    "\n",
    "* information that is invariant across all potential input datasets (may include column names and per-column categories)\n",
    "* information that is publicly available from other sources\n",
    "* information from other DP releases\n",
    "\n",
    "For convenience, I've collected metadata from the codebook [into a JSON file](../data/teacher_survey/public_metadata.json)."
   ]
  },
  {
   "cell_type": "code",
   "execution_count": 3,
   "metadata": {},
   "outputs": [
    {
     "data": {
      "text/plain": [
       "['sex',\n",
       " 'age',\n",
       " 'maritalStatus',\n",
       " 'hasChildren',\n",
       " 'highestEducationLevel',\n",
       " 'sourceOfStress',\n",
       " 'smoker',\n",
       " 'optimism',\n",
       " 'lifeSatisfaction',\n",
       " 'selfEsteem']"
      ]
     },
     "execution_count": 3,
     "metadata": {},
     "output_type": "execute_result"
    }
   ],
   "source": [
    "import json\n",
    "metadata = json.load(open(\"../data/teacher_survey/public_metadata.json\"))\n",
    "metadata[\"column_names\"]"
   ]
  },
  {
   "attachments": {},
   "cell_type": "markdown",
   "metadata": {},
   "source": [
    "In this case (and in most cases), we consider column names public because they weren't picked in response to the data, they were \"fixed\" before collecting the data.\n",
    "\n",
    "By similar reasoning, the unique keys in the \"maritalStatus\" column are considered part of the public metadata because they were chosen independently from survey responses."
   ]
  },
  {
   "cell_type": "code",
   "execution_count": 4,
   "metadata": {},
   "outputs": [
    {
     "data": {
      "text/plain": [
       "{'keys': ['1', '2', '3', '4', '5', '6', '7', '8'],\n",
       " 'key_labels': ['Single',\n",
       "  'Steady Relationship',\n",
       "  'Living with partner',\n",
       "  'Married first time',\n",
       "  'Remarried',\n",
       "  'Separated',\n",
       "  'Divorced',\n",
       "  'Widowed']}"
      ]
     },
     "execution_count": 4,
     "metadata": {},
     "output_type": "execute_result"
    }
   ],
   "source": [
    "metadata[\"column_metadata\"][\"maritalStatus\"]"
   ]
  },
  {
   "attachments": {},
   "cell_type": "markdown",
   "metadata": {},
   "source": [
    "Both of these examples involved data invariants.\n",
    "Remember that a data invariant is information about your dataset that you are explicitly choosing not to protect,\n",
    "under the basis that it does not contain sensitive information. \n",
    "Be careful because, if an invariant does, indeed, contain sensitive information,\n",
    "then you expose individuals in the dataset to unbounded privacy loss."
   ]
  },
  {
   "attachments": {},
   "cell_type": "markdown",
   "metadata": {},
   "source": [
    "Having this public metadata will significantly improve the utility of our analysis.\n",
    "Now we can move on to making differentially private releases."
   ]
  },
  {
   "attachments": {},
   "cell_type": "markdown",
   "metadata": {},
   "source": [
    "## 4. Construct Measurement\n",
    "\n",
    "A measurement is a randomized function that takes a dataset and returns a differentially private release.\n",
    "The OpenDP Library provides building-blocks that can be functionally composed (called \"chaining\").\n",
    "\n",
    "In OpenDP, building-blocks that have not yet completed the vetting process are kept behind the \"contrib\" flag.\n",
    "We enable this flag here:"
   ]
  },
  {
   "cell_type": "code",
   "execution_count": 5,
   "metadata": {},
   "outputs": [],
   "source": [
    "from opendp.mod import enable_features\n",
    "enable_features(\"contrib\")"
   ]
  },
  {
   "attachments": {},
   "cell_type": "markdown",
   "metadata": {},
   "source": [
    "Building blocks that do not yet privatize the output are called \"transformations\" instead of \"measurements\".\n",
    "The following transformation loads the age column from a CSV:"
   ]
  },
  {
   "cell_type": "code",
   "execution_count": 6,
   "metadata": {},
   "outputs": [],
   "source": [
    "from opendp.transformations import make_split_dataframe, make_select_column\n",
    "# the `>>` operator denotes the functional composition \n",
    "marital_status_trans = (\n",
    "    make_split_dataframe(separator=\",\", col_names=metadata[\"column_names\"]) >>\n",
    "    make_select_column(\"maritalStatus\", str)\n",
    ")"
   ]
  },
  {
   "attachments": {},
   "cell_type": "markdown",
   "metadata": {},
   "source": [
    "We use this preprocessor transformation, as well as a count transformation, and then privatize the count with a measurement.\n",
    "All differentially private measurements involve sampling from a carefully-calibrated probability distribution that is concentrated around the quantity of interest.\n",
    "The privacy guarantees are based on how noisy this distribution is.\n",
    "\n",
    "In this case we add noise from a discretized version of the Laplace distribution."
   ]
  },
  {
   "cell_type": "code",
   "execution_count": 7,
   "metadata": {},
   "outputs": [],
   "source": [
    "from opendp.transformations import make_count\n",
    "from opendp.measurements import make_base_discrete_laplace\n",
    "\n",
    "count_meas = marital_status_trans >> make_count(str) >> make_base_discrete_laplace(scale=2.)"
   ]
  },
  {
   "attachments": {},
   "cell_type": "markdown",
   "metadata": {},
   "source": [
    "Each invokation of a measurement incurs some privacy loss, and we can use the privacy map to tell us how much.\n",
    "Recalling the \"Unit of Privacy\" section, we know that each teacher contributed at most one row to the survey.\n"
   ]
  },
  {
   "cell_type": "code",
   "execution_count": 8,
   "metadata": {},
   "outputs": [
    {
     "data": {
      "text/plain": [
       "0.5"
      ]
     },
     "execution_count": 8,
     "metadata": {},
     "output_type": "execute_result"
    }
   ],
   "source": [
    "max_contributions = 1\n",
    "count_meas.map(d_in=max_contributions)"
   ]
  },
  {
   "attachments": {},
   "cell_type": "markdown",
   "metadata": {},
   "source": [
    "The privacy map tells us that passing data through this transformation will incur an $\\epsilon = 0.5$ privacy spend to any individual in a dataset passed in.\n",
    "$\\epsilon$ is a commonly-used proxy to quantify the worst-case risk to any individual.\n",
    "It is customary to refer to a data release with such bounded risk as $\\epsilon$-DP.\n",
    "\n",
    "In this case, the privacy spend is based on two factors: the noise scale, and the max contributions. \n",
    "In other cases, this number may also vary based on other parameters used to make any of the other transformations in the chain."
   ]
  },
  {
   "attachments": {},
   "cell_type": "markdown",
   "metadata": {},
   "source": [
    "## 5. Differentially Private Release\n",
    "\n",
    "Notice that all the work we've done thus far has never involved looking at the sensitive dataset we're analyzing.\n",
    "In order to obtain accurate privacy guarantees, the OpenDP Library should mediate all access to the sensitive dataset.\n",
    "\n",
    "We now invoke the measurement on our dataset, and consume $\\epsilon = 0.5$."
   ]
  },
  {
   "cell_type": "code",
   "execution_count": 9,
   "metadata": {},
   "outputs": [
    {
     "data": {
      "text/plain": [
       "7004"
      ]
     },
     "execution_count": 9,
     "metadata": {},
     "output_type": "execute_result"
    }
   ],
   "source": [
    "csv_data = open(\"../data/teacher_survey/teacher_survey.csv\").read()\n",
    "count_meas(csv_data)"
   ]
  },
  {
   "attachments": {},
   "cell_type": "markdown",
   "metadata": {},
   "source": [
    "The result is a random draw from the discrete laplace distribution, centered at the true count of the number of records in the underlying dataset."
   ]
  },
  {
   "attachments": {},
   "cell_type": "markdown",
   "metadata": {},
   "source": [
    "## Grouped Counts and Composition\n",
    "You can also make multiple releases on the same dataset.\n",
    "In this example, we construct a grouped count query, and add vector-valued noise to the vector of counts:"
   ]
  },
  {
   "cell_type": "code",
   "execution_count": 10,
   "metadata": {},
   "outputs": [],
   "source": [
    "from opendp.transformations import make_count_by_categories\n",
    "\n",
    "histogram_meas = (\n",
    "    marital_status_trans >>\n",
    "    make_count_by_categories(categories=metadata[\"column_metadata\"][\"maritalStatus\"][\"keys\"]) >>\n",
    "    make_base_discrete_laplace(scale=2., D=\"VectorDomain<AllDomain<int>>\")\n",
    ")"
   ]
  },
  {
   "attachments": {},
   "cell_type": "markdown",
   "metadata": {},
   "source": [
    "Just like before, the measurement has a privacy map from which we can determine the epsilon spend of invoking this measurement:"
   ]
  },
  {
   "cell_type": "code",
   "execution_count": 11,
   "metadata": {},
   "outputs": [
    {
     "data": {
      "text/plain": [
       "0.5"
      ]
     },
     "execution_count": 11,
     "metadata": {},
     "output_type": "execute_result"
    }
   ],
   "source": [
    "histogram_meas.map(1)"
   ]
  },
  {
   "attachments": {},
   "cell_type": "markdown",
   "metadata": {},
   "source": [
    "The total epsilon spend is the sum of the epsilon spends of each measurement we make on the sensitive dataset (1.0).\n",
    "Recommendations for the total epsilon expenditure will vary depending on the use-case, \n",
    "and level of risk posed to individuals should an adversary be identify an individual in the sensitive dataset.\n",
    "However, it is generally considered good practice to choose your noise scale and other parameters in such a way that the overall privacy spend is around 1.0.\n"
   ]
  },
  {
   "cell_type": "code",
   "execution_count": 12,
   "metadata": {},
   "outputs": [
    {
     "data": {
      "text/plain": [
       "{'Single': 1680,\n",
       " 'Steady Relationship': 589,\n",
       " 'Living with partner': 587,\n",
       " 'Married first time': 3016,\n",
       " 'Remarried': 473,\n",
       " 'Separated': 158,\n",
       " 'Divorced': 385,\n",
       " 'Widowed': 111}"
      ]
     },
     "execution_count": 12,
     "metadata": {},
     "output_type": "execute_result"
    }
   ],
   "source": [
    "# make the 0.5-DP release\n",
    "dp_counts = histogram_meas(csv_data)\n",
    "\n",
    "# pair the noisy counts with their labels:\n",
    "dict(zip(metadata[\"column_metadata\"][\"maritalStatus\"][\"key_labels\"], dp_counts))"
   ]
  },
  {
   "attachments": {},
   "cell_type": "markdown",
   "metadata": {},
   "source": [
    "With this release, the overall privacy expenditure becomes $\\epsilon = 1$."
   ]
  }
 ],
 "metadata": {
  "kernelspec": {
   "display_name": "base",
   "language": "python",
   "name": "python3"
  },
  "language_info": {
   "codemirror_mode": {
    "name": "ipython",
    "version": 3
   },
   "file_extension": ".py",
   "mimetype": "text/x-python",
   "name": "python",
   "nbconvert_exporter": "python",
   "pygments_lexer": "ipython3",
   "version": "3.9.13"
  },
  "orig_nbformat": 4
 },
 "nbformat": 4,
 "nbformat_minor": 2
}
