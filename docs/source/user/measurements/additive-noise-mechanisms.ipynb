{
 "cells": [
  {
   "attachments": {},
   "cell_type": "markdown",
   "metadata": {},
   "source": [
    "# Additive Noise Mechanisms\n",
    "\n",
    "This notebook documents the variations on additive noise mechanisms in OpenDP:\n",
    "\n",
    "* Distribution: Laplace vs. Gaussian\n",
    "* Support: float vs. integer\n",
    "* Domain: scalar vs. vector\n",
    "* Bit-depth"
   ]
  },
  {
   "attachments": {},
   "cell_type": "markdown",
   "metadata": {},
   "source": [
    "----\n",
    "Any constructors that have not completed the proof-writing and vetting process may still be accessed if you opt-in to \"contrib\".\n",
    "Please contact us if you are interested in proof-writing. Thank you!"
   ]
  },
  {
   "cell_type": "code",
   "execution_count": 1,
   "metadata": {},
   "outputs": [],
   "source": [
    "from opendp.mod import enable_features\n",
    "enable_features(\"contrib\")"
   ]
  },
  {
   "attachments": {},
   "cell_type": "markdown",
   "metadata": {},
   "source": [
    "## Distribution: Laplace vs. Gaussian\n",
    "\n",
    "The Laplace mechanism is a ubiquitous algorithm in the DP ecosystem that is used to privatize an aggregate, like a sum or mean.\n",
    "\n",
    "An instance of the Laplace mechanism is captured by a _measurement_ containing the following five elements:\n",
    "\n",
    "<details>\n",
    "  <summary>Elements of a Laplace Measurement</summary>\n",
    "\n",
    "1. We first define the **function** $f(\\cdot)$, that applies the Laplace mechanism to some argument $x$. This function simply samples from the Laplace distribution centered at $x$, with a fixed noise scale.\n",
    "\n",
    "$$f(x) = Laplace(\\mu=x, b=scale)$$\n",
    "\n",
    "2. Importantly, $f(\\cdot)$ is only well-defined for any finite float input. This set of permitted inputs is described by the **input domain** (denoted `AtomDomain<f64>`).\n",
    "\n",
    "3. The Laplace mechanism has a privacy guarantee in terms of epsilon. \n",
    "This guarantee is represented by a **privacy map**, a function that computes the privacy loss $\\epsilon$ for any choice of sensitivity $\\Delta$.\n",
    "\n",
    "$$map(\\Delta) = \\Delta / scale <= \\epsilon$$\n",
    "\n",
    "4. This map only promises that the privacy loss will be at most $\\epsilon$ if inputs from any two neighboring datasets may differ by no more than some quantity $\\Delta$ under the absolute distance **input metric** (`AbsoluteDistance<f64>`).\n",
    "\n",
    "5. We similarly describe units on the output ($\\epsilon$) via the **output measure** (`MaxDivergence<f64>`).\n",
    "</details>\n",
    "\n",
    "\n",
    "The `make_base_laplace` constructor function returns the equivalent of the Laplace measurement described above."
   ]
  },
  {
   "cell_type": "code",
   "execution_count": 2,
   "metadata": {},
   "outputs": [
    {
     "name": "stdout",
     "output_type": "stream",
     "text": [
      "noisy aggregate: -0.34651198301250147\n",
      "epsilon: 0.5\n"
     ]
    }
   ],
   "source": [
    "from opendp.measurements import make_base_laplace\n",
    "from opendp.domains import atom_domain\n",
    "from opendp.metrics import absolute_distance\n",
    "\n",
    "# call the constructor to produce the measurement `base_lap`\n",
    "base_lap = make_base_laplace(atom_domain(T=float), absolute_distance(T=float), scale=2.)\n",
    "\n",
    "# invoke the measurement on some aggregate x, to sample Laplace(x, 1.) noise\n",
    "aggregated = 0.\n",
    "print(\"noisy aggregate:\", base_lap(aggregated))\n",
    "\n",
    "# we must know the sensitivity of `aggregated` to determine epsilon\n",
    "sensitivity = 1.\n",
    "print(\"epsilon:\", base_lap.map(d_in=sensitivity))"
   ]
  },
  {
   "attachments": {},
   "cell_type": "markdown",
   "metadata": {},
   "source": [
    "The analogous constructor for gaussian noise is `make_base_gaussian`: "
   ]
  },
  {
   "cell_type": "code",
   "execution_count": 3,
   "metadata": {},
   "outputs": [
    {
     "name": "stdout",
     "output_type": "stream",
     "text": [
      "noisy aggregate: 0.09880423379449044\n",
      "rho: 0.125\n"
     ]
    }
   ],
   "source": [
    "from opendp.measurements import make_base_gaussian\n",
    "\n",
    "# call the constructor to produce the measurement `base_gauss`\n",
    "base_gauss = make_base_gaussian(scale=2.)\n",
    "\n",
    "# invoke the measurement on some aggregate x, to sample Gaussian(x, 1.) noise\n",
    "aggregated = 0.\n",
    "print(\"noisy aggregate:\", base_gauss(aggregated))\n",
    "\n",
    "# we must know the sensitivity of `aggregated` to determine epsilon\n",
    "sensitivity = 1.\n",
    "print(\"rho:\", base_gauss.map(d_in=sensitivity))"
   ]
  },
  {
   "attachments": {},
   "cell_type": "markdown",
   "metadata": {},
   "source": [
    "Notice that `base_lap` measures privacy with epsilon (in the `MaxDivergence` measure), and `base_gauss` measures privacy with rho (in the `ZeroConcentratedDivergence` measure).\n"
   ]
  },
  {
   "attachments": {},
   "cell_type": "markdown",
   "metadata": {},
   "source": [
    "## Support: Float vs. Integer\n",
    "\n",
    "There are also discrete analogues of the continuous Laplace and Gaussian measurements.\n",
    "The continuous measurements accept and emit floats, while the discrete measurements accept and emit integers.\n",
    "Measurements with distributions supported on the integers expect integer sensitivities by default.\n",
    "\n",
    "`make_base_discrete_laplace` is equivalent to the geometric mechanism:"
   ]
  },
  {
   "cell_type": "code",
   "execution_count": 4,
   "metadata": {},
   "outputs": [
    {
     "name": "stdout",
     "output_type": "stream",
     "text": [
      "noisy aggregate: 0\n",
      "epsilon: 1.0\n"
     ]
    }
   ],
   "source": [
    "from opendp.measurements import make_base_discrete_laplace\n",
    "\n",
    "# call the constructor to produce the measurement `base_discrete_lap`\n",
    "base_discrete_lap = make_base_discrete_laplace(scale=1.)\n",
    "\n",
    "# invoke the measurement on some integer aggregate x, to sample DiscreteLaplace(x, 1.) noise\n",
    "aggregated = 0\n",
    "print(\"noisy aggregate:\", base_discrete_lap(aggregated))\n",
    "\n",
    "# in this case, the sensitivity is integral:\n",
    "sensitivity = 1\n",
    "print(\"epsilon:\", base_discrete_lap.map(d_in=sensitivity))"
   ]
  },
  {
   "attachments": {},
   "cell_type": "markdown",
   "metadata": {},
   "source": [
    "`make_base_discrete_gaussian` is the analogous measurement for Gaussian noise:"
   ]
  },
  {
   "cell_type": "code",
   "execution_count": 5,
   "metadata": {},
   "outputs": [
    {
     "name": "stdout",
     "output_type": "stream",
     "text": [
      "noisy aggregate: 1\n",
      "rho: 0.5\n"
     ]
    }
   ],
   "source": [
    "from opendp.measurements import make_base_discrete_gaussian\n",
    "\n",
    "# call the constructor to produce the measurement `base_discrete_gauss`\n",
    "base_discrete_gauss = make_base_discrete_gaussian(scale=1.)\n",
    "\n",
    "# invoke the measurement on some aggregate x, to sample DiscreteGaussian(x, 1.) noise\n",
    "aggregated = 0\n",
    "print(\"noisy aggregate:\", base_discrete_gauss(aggregated))\n",
    "\n",
    "# we must know the sensitivity of `aggregated` to determine epsilon\n",
    "sensitivity = 1\n",
    "print(\"rho:\", base_discrete_gauss.map(d_in=sensitivity))"
   ]
  },
  {
   "attachments": {},
   "cell_type": "markdown",
   "metadata": {},
   "source": [
    "The continuous mechanisms use these discrete samplers internally.\n",
    "More information on this can be found at the end of this notebook."
   ]
  },
  {
   "attachments": {},
   "cell_type": "markdown",
   "metadata": {},
   "source": [
    "## Domain: Scalar vs. Vector"
   ]
  },
  {
   "attachments": {},
   "cell_type": "markdown",
   "metadata": {},
   "source": [
    "Measurements covered thus far have accepted scalar inputs and emitted scalar outputs, \n",
    "and sensitivities have been expressed in terms of the absolute distance.\n",
    "\n",
    "All constructors have an additional argument `D` (short for \"Domain\"), which can be used to configure the shape of the domain that the mechanism operates over.\n",
    "`D` defaults to `AtomDomain<T>`, which represents the space of all (non-null) elements of some type `T` (where `T` is `float` or `int`, depending on the support of the distribution).\n",
    "\n",
    "You can instead set `D` to `\"VectorDomain<AtomDomain<T>>\"`, (where `T` is `float` or `int`) which indicates that the measurement should be vector-valued."
   ]
  },
  {
   "cell_type": "code",
   "execution_count": 6,
   "metadata": {},
   "outputs": [
    {
     "name": "stdout",
     "output_type": "stream",
     "text": [
      "inferred type is f64, expected Vec<f64>. See https://github.com/opendp/opendp/discussions/298\n"
     ]
    }
   ],
   "source": [
    "# call again, but this time indicate that the measurement should operate over a vector domain\n",
    "\n",
    "from opendp.domains import vector_domain, atom_domain\n",
    "from opendp.metrics import l1_distance\n",
    "input_domain = vector_domain(atom_domain(T=float))\n",
    "input_metric = l1_distance(T=float)\n",
    "base_lap_vec = make_base_laplace(input_domain, input_metric, scale=1.)\n",
    "\n",
    "aggregated = 1.\n",
    "# If we try to pass the wrong data type into our vector laplace measurement, \n",
    "# the error shows that our float argument should be a vector of floats.\n",
    "try:\n",
    "    print(\"noisy aggregate:\", base_lap_vec(aggregated))\n",
    "except TypeError as e:\n",
    "    # The error messages will often point to a discussion page with more info.\n",
    "    print(e)"
   ]
  },
  {
   "cell_type": "code",
   "execution_count": 7,
   "metadata": {},
   "outputs": [
    {
     "name": "stdout",
     "output_type": "stream",
     "text": [
      "noisy aggregate: [-0.6079965527783285, 0.4935985444046949, 2.264746241715078]\n"
     ]
    }
   ],
   "source": [
    "# actually pass a vector-valued input, as expected\n",
    "aggregated = [0., 2., 2.]\n",
    "print(\"noisy aggregate:\", base_lap_vec(aggregated))\n"
   ]
  },
  {
   "attachments": {},
   "cell_type": "markdown",
   "metadata": {},
   "source": [
    "The resulting measurement expects sensitivity in terms of the appropriate Lp-distance: the vector Laplace measurement expects sensitivity in terms of an `\"l1_distance(T=f64)\"`, while the vector Gaussian measurement expects a sensitivity in terms of an `\"l2_distance(T=f64)\"`. "
   ]
  },
  {
   "cell_type": "code",
   "execution_count": 8,
   "metadata": {},
   "outputs": [
    {
     "name": "stdout",
     "output_type": "stream",
     "text": [
      "epsilon: 1.0\n"
     ]
    }
   ],
   "source": [
    "sensitivity = 1.\n",
    "print(\"epsilon:\", base_lap_vec.map(d_in=sensitivity))"
   ]
  },
  {
   "attachments": {},
   "cell_type": "markdown",
   "metadata": {},
   "source": [
    "The documentation for each constructor also reflects the relationship between `D` and the resulting input metric in a table:"
   ]
  },
  {
   "cell_type": "code",
   "execution_count": 9,
   "metadata": {},
   "outputs": [
    {
     "name": "stdout",
     "output_type": "stream",
     "text": [
      "Help on function make_base_laplace in module opendp.measurements:\n",
      "\n",
      "make_base_laplace(input_domain, input_metric, scale, k: int = -1074) -> opendp.mod.Measurement\n",
      "    Make a Measurement that adds noise from the Laplace(`scale`) distribution to a scalar value.\n",
      "    \n",
      "    Valid inputs for `input_domain` and `input_metric` are:\n",
      "    \n",
      "    | `input_domain`                  | input type   | `input_metric`         |\n",
      "    | ------------------------------- | ------------ | ---------------------- |\n",
      "    | `atom_domain(T)` (default)      | `T`          | `absolute_distance(T)` |\n",
      "    | `vector_domain(atom_domain(T))` | `Vec<T>`     | `l1_distance(T)`       |\n",
      "    \n",
      "    This function takes a noise granularity in terms of 2^k.\n",
      "    Larger granularities are more computationally efficient, but have a looser privacy map.\n",
      "    If k is not set, k defaults to the smallest granularity.\n",
      "    \n",
      "    [make_base_laplace in Rust documentation.](https://docs.rs/opendp/latest/opendp/measurements/fn.make_base_laplace.html)\n",
      "    \n",
      "    **Supporting Elements:**\n",
      "    \n",
      "    * Input Domain:   `D`\n",
      "    * Output Type:    `D::Carrier`\n",
      "    * Input Metric:   `D::InputMetric`\n",
      "    * Output Measure: `MaxDivergence<D::Atom>`\n",
      "    \n",
      "    :param input_domain: Domain of the data type to be privatized.\n",
      "    :param input_metric: Metric of the data type to be privatized.\n",
      "    :param scale: Noise scale parameter for the laplace distribution. `scale` == sqrt(2) * standard_deviation.\n",
      "    :param k: The noise granularity in terms of 2^k.\n",
      "    :type k: int\n",
      "    :rtype: Measurement\n",
      "    :raises TypeError: if an argument's type differs from the expected type\n",
      "    :raises UnknownTypeError: if a type argument fails to parse\n",
      "    :raises OpenDPException: packaged error from the core OpenDP library\n",
      "\n"
     ]
    }
   ],
   "source": [
    "help(make_base_laplace)"
   ]
  },
  {
   "attachments": {},
   "cell_type": "markdown",
   "metadata": {},
   "source": [
    "Regardless of the choice of `D`, the discrete versions of the measurements still expect integral sensitivities.\n",
    "A special affordance is made for the vector-valued discrete Gaussian mechanism, which can be configured to expect a float sensitivity instead:"
   ]
  },
  {
   "cell_type": "code",
   "execution_count": 10,
   "metadata": {},
   "outputs": [
    {
     "data": {
      "text/plain": [
       "0.999698"
      ]
     },
     "execution_count": 10,
     "metadata": {},
     "output_type": "execute_result"
    }
   ],
   "source": [
    "# call again, but this time indicate that the measurement should operate over a vector domain\n",
    "base_gauss_vec = make_base_discrete_gaussian(\n",
    "    scale=1., D=\"VectorDomain<AtomDomain<int>>\", QI=float\n",
    ")\n",
    "\n",
    "base_gauss_vec.map(d_in=1.414)\n"
   ]
  },
  {
   "attachments": {},
   "cell_type": "markdown",
   "metadata": {},
   "source": [
    "Throughout the library, types for distances are labeled with `Q` (because `D` is already taken for domains). The type argument `QI` stands for \"input distance\"."
   ]
  },
  {
   "attachments": {},
   "cell_type": "markdown",
   "metadata": {},
   "source": [
    "## Bit depth\n",
    "\n",
    "By default, all floating-point data types default to 64-bit double-precision (denoted `\"f64\"`), and all integral data types default to 32-bit (denoted `\"i32\"`).\n",
    "The atomic data type expected by the function and privacy units can be further configured to operate over specific bit-depths by explicitly specifying `\"f32\"` instead of `\"float\"`, or `\"i64\"` instead of `\"int\"`. "
   ]
  },
  {
   "cell_type": "code",
   "execution_count": 11,
   "metadata": {},
   "outputs": [],
   "source": [
    "# explicitly specify that the...\n",
    "# * computation should be handled with 32-bit integers, and the\n",
    "# * privacy analysis be conducted with 64-bit floats\n",
    "base_discrete_lap_i32 = make_base_discrete_laplace(\n",
    "    scale=1., D=\"AtomDomain<i32>\", QO=\"f64\"\n",
    ")"
   ]
  },
  {
   "attachments": {},
   "cell_type": "markdown",
   "metadata": {},
   "source": [
    "More information on acceptable data types can be found in the _Utilities > Typing_ section of the User Guide."
   ]
  },
  {
   "attachments": {},
   "cell_type": "markdown",
   "metadata": {},
   "source": [
    "## Desideratum: Floating-Point Granularity\n",
    "\n",
    "The \"continuous\" Laplace and Gaussian measurements convert their float arguments to a rational representation, and then add integer noise to the numerator via the respective discrete distribution. \n",
    "In the OpenDP Library's default configuration, this rational representation of a float is exact.\n",
    "Therefore the privacy analysis is as tight as if you were to sample truly continuous noise and then postprocess by rounding to the nearest float. \n",
    "\n",
    "For most use-cases the sampling algorithm is sufficiently fast when the rational representation is exact.\n",
    "That is, when noise is sampled with a granularity of $2^{-1074}$, the same granularity as the distance between subnormal 64-bit floats.\n",
    "However, the granularity can be adjusted to $2^k$, for some choice of k, for a faster runtime.\n",
    "Adjusting this parameter comes with a small penalty to the sensitivity (to account for rounding to the nearest rational), and subsequently, to the privacy parameters.\n",
    "\n",
    "The following plot shows the resulting distribution for some large choices of k:"
   ]
  },
  {
   "cell_type": "code",
   "execution_count": 12,
   "metadata": {},
   "outputs": [
    {
     "data": {
      "image/png": "[encoded data removed]",
      "text/plain": [
       "<Figure size 1000x300 with 3 Axes>"
      ]
     },
     "metadata": {},
     "output_type": "display_data"
    }
   ],
   "source": [
    "import numpy as np\n",
    "import matplotlib.pyplot as plt\n",
    "input_domain, input_metric = vector_domain(atom_domain(T=float)), l1_distance(T=float)\n",
    "\n",
    "num_samples = 10_000\n",
    "fig, axes = plt.subplots(nrows=1, ncols=3, figsize=(10, 3))\n",
    "fig.subplots_adjust(top=0.8)\n",
    "for axis, k in zip(axes, [1, 0, -1]):\n",
    "    base_lap_vec = make_base_laplace(input_domain, input_metric, scale=1., k=k)\n",
    "    support, counts = np.unique(base_lap_vec([0.] * num_samples), return_counts=True)\n",
    "    axis.bar(support, counts / num_samples)\n",
    "    axis.set_xticks([-2, 0, 2])\n",
    "    axis.set_title(f\"k = {k}; gap = {2**k}\")\n",
    "axes[0].set_ylabel(\"density\")\n",
    "fig.suptitle('make_base_laplace for different choices of k', y=0.95);"
   ]
  },
  {
   "attachments": {},
   "cell_type": "markdown",
   "metadata": {},
   "source": [
    "The distribution becomes increasingly smooth as k approaches the default value (`-1074`).\n",
    "\n",
    "The privacy map still adds a penalization when the sensitivity is zero. \n",
    "The following table uses this behavior to show the increase in epsilon for some choices of k:"
   ]
  },
  {
   "cell_type": "code",
   "execution_count": 14,
   "metadata": {},
   "outputs": [
    {
     "data": {
      "text/html": [
       "<div>\n",
       "<style scoped>\n",
       "    .dataframe tbody tr th:only-of-type {\n",
       "        vertical-align: middle;\n",
       "    }\n",
       "\n",
       "    .dataframe tbody tr th {\n",
       "        vertical-align: top;\n",
       "    }\n",
       "\n",
       "    .dataframe thead th {\n",
       "        text-align: right;\n",
       "    }\n",
       "</style>\n",
       "<table border=\"1\" class=\"dataframe\">\n",
       "  <thead>\n",
       "    <tr style=\"text-align: right;\">\n",
       "      <th></th>\n",
       "      <th>ε penalty</th>\n",
       "      <th>detail</th>\n",
       "    </tr>\n",
       "    <tr>\n",
       "      <th>k</th>\n",
       "      <th></th>\n",
       "      <th></th>\n",
       "    </tr>\n",
       "  </thead>\n",
       "  <tbody>\n",
       "    <tr>\n",
       "      <th>-1074</th>\n",
       "      <td>0.000000e+00</td>\n",
       "      <td>no penalty</td>\n",
       "    </tr>\n",
       "    <tr>\n",
       "      <th>-1073</th>\n",
       "      <td>4.940656e-324</td>\n",
       "      <td>~min float</td>\n",
       "    </tr>\n",
       "    <tr>\n",
       "      <th>-100</th>\n",
       "      <td>7.888609e-31</td>\n",
       "      <td>~2^-100</td>\n",
       "    </tr>\n",
       "    <tr>\n",
       "      <th>-1</th>\n",
       "      <td>5.000000e-01</td>\n",
       "      <td>~2^-1</td>\n",
       "    </tr>\n",
       "    <tr>\n",
       "      <th>0</th>\n",
       "      <td>1.000000e+00</td>\n",
       "      <td>~2^0</td>\n",
       "    </tr>\n",
       "    <tr>\n",
       "      <th>1</th>\n",
       "      <td>2.000000e+00</td>\n",
       "      <td>~2^1</td>\n",
       "    </tr>\n",
       "  </tbody>\n",
       "</table>\n",
       "</div>"
      ],
      "text/plain": [
       "           ε penalty      detail\n",
       "k                               \n",
       "-1074   0.000000e+00  no penalty\n",
       "-1073  4.940656e-324  ~min float\n",
       "-100    7.888609e-31     ~2^-100\n",
       "-1      5.000000e-01       ~2^-1\n",
       " 0      1.000000e+00        ~2^0\n",
       " 1      2.000000e+00        ~2^1"
      ]
     },
     "execution_count": 14,
     "metadata": {},
     "output_type": "execute_result"
    }
   ],
   "source": [
    "k = [-1074, -1073, -100, -1, 0, 1]\n",
    "input_domain, input_metric = atom_domain(T=float), absolute_distance(T=float)\n",
    "ε_penalty = [make_base_laplace(input_domain, input_metric, scale=1., k=k_i).map(d_in=0.) for k_i in k]\n",
    "detail = [\"no penalty\", \"~min float\", \"~2^-100\", \"~2^-1\", \"~2^0\", \"~2^1\"]\n",
    "\n",
    "import pandas as pd\n",
    "pd.DataFrame({\"k\": k, \"ε penalty\": ε_penalty, \"detail\": detail}).set_index(\"k\")"
   ]
  }
 ],
 "metadata": {
  "kernelspec": {
   "display_name": "psi",
   "language": "python",
   "name": "python3"
  },
  "language_info": {
   "codemirror_mode": {
    "name": "ipython",
    "version": 3
   },
   "file_extension": ".py",
   "mimetype": "text/x-python",
   "name": "python",
   "nbconvert_exporter": "python",
   "pygments_lexer": "ipython3",
   "version": "3.11.3"
  },
  "orig_nbformat": 4,
  "vscode": {
   "interpreter": {
    "hash": "3220da548452ac41acb293d0d6efded0f046fab635503eb911c05f743e930f34"
   }
  }
 },
 "nbformat": 4,
 "nbformat_minor": 2
}
