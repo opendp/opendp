{
 "cells": [
  {
   "cell_type": "markdown",
   "metadata": {},
   "source": [
    "# Differentially Private PCA\n",
    "\n",
    "This notebook documents making a differentially private PCA release."
   ]
  },
  {
   "cell_type": "markdown",
   "metadata": {},
   "source": [
    "----\n",
    "Any constructors that have not completed the proof-writing and vetting process may still be accessed if you opt-in to \"contrib\".\n",
    "Please contact us if you are interested in proof-writing. Thank you!"
   ]
  },
  {
   "cell_type": "code",
   "execution_count": 7,
   "metadata": {},
   "outputs": [],
   "source": [
    "from opendp.mod import enable_features\n",
    "enable_features(\"contrib\", \"floating-point\", \"honest-but-curious\")"
   ]
  },
  {
   "cell_type": "code",
   "execution_count": 8,
   "metadata": {},
   "outputs": [],
   "source": [
    "import numpy as np\n",
    "\n",
    "def sample_microdata(*, num_columns=None, num_rows=None, cov=None):\n",
    "    cov = cov or sample_covariance(num_columns)\n",
    "    microdata = np.random.multivariate_normal(\n",
    "        np.zeros(cov.shape[0]), cov, size=num_rows or 100_000\n",
    "    )\n",
    "    microdata -= microdata.mean(axis=0)\n",
    "    return microdata\n",
    "\n",
    "def sample_covariance(num_features):\n",
    "    A = np.random.uniform(0, num_features, size=(num_features, num_features))\n",
    "    return A.T @ A"
   ]
  },
  {
   "cell_type": "markdown",
   "metadata": {},
   "source": [
    "In this notebook we'll be working with an example dataset generated from a random covariance matrix."
   ]
  },
  {
   "cell_type": "code",
   "execution_count": 9,
   "metadata": {},
   "outputs": [],
   "source": [
    "num_columns = 4\n",
    "num_rows = 10_000\n",
    "example_dataset = sample_microdata(num_columns=num_columns, num_rows=num_rows)"
   ]
  },
  {
   "cell_type": "markdown",
   "metadata": {},
   "source": [
    "Releasing a DP PCA model with the OpenDP Library is easy because it provides an API similar to scikit-learn:"
   ]
  },
  {
   "cell_type": "code",
   "execution_count": 10,
   "metadata": {},
   "outputs": [
    {
     "name": "stdout",
     "output_type": "stream",
     "text": [
      "PCA(epsilon=1.0, n_components=4, n_features=4, n_samples=10000, row_norm=1.0)\n",
      "singular values [ 9.23344466 35.24114393 46.55453464 80.50287029]\n",
      "components [[ 0.57418577  0.51788     0.45447691  0.44222363]\n",
      " [ 0.64684141  0.15868187 -0.66020823 -0.34719064]\n",
      " [-0.3925399   0.4567303  -0.56918622  0.55976504]\n",
      " [ 0.3127608  -0.70570376 -0.18331087  0.60873641]]\n"
     ]
    }
   ],
   "source": [
    "import opendp.prelude as dp\n",
    "\n",
    "model = dp.PCA(\n",
    "    epsilon=1.,\n",
    "    row_norm=1.,\n",
    "    n_samples=num_rows,\n",
    "    n_features=4,\n",
    ")\n",
    "\n",
    "model.fit(example_dataset)\n",
    "print(model)\n",
    "\n",
    "print(\"singular values\", model.singular_values_)\n",
    "print(\"components\", model.components_)"
   ]
  },
  {
   "cell_type": "markdown",
   "metadata": {},
   "source": [
    "You can retrieve the measurement used to make the release, in a similar manner as other OpenDP APIs."
   ]
  },
  {
   "cell_type": "code",
   "execution_count": 11,
   "metadata": {},
   "outputs": [
    {
     "data": {
      "text/plain": [
       "<opendp.mod.Measurement at 0x177de7ad0>"
      ]
     },
     "execution_count": 11,
     "metadata": {},
     "output_type": "execute_result"
    }
   ],
   "source": [
    "model.get_measurement()"
   ]
  }
 ],
 "metadata": {
  "kernelspec": {
   "display_name": "opendp",
   "language": "python",
   "name": "python3"
  },
  "language_info": {
   "codemirror_mode": {
    "name": "ipython",
    "version": 3
   },
   "file_extension": ".py",
   "mimetype": "text/x-python",
   "name": "python",
   "nbconvert_exporter": "python",
   "pygments_lexer": "ipython3",
   "version": "3.11.6"
  }
 },
 "nbformat": 4,
 "nbformat_minor": 2
}
