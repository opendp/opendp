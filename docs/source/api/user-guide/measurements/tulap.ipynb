{
 "cells": [
  {
   "cell_type": "markdown",
   "metadata": {},
   "source": [
    "# Tulap Mechanism"
   ]
  },
  {
   "cell_type": "markdown",
   "metadata": {},
   "source": [
    "The Tulap mechanism is well-suited for privatizing estimates that follow a binomial distribution,\n",
    "like a count (or boolean sum).\n",
    "\n",
    "An example of this can be found when counting the number of married individuals in the California demographics dataset,\n",
    "a microdata-level dataset with attributes for age, sex, education, race, income and marriage status."
   ]
  },
  {
   "cell_type": "code",
   "execution_count": 1,
   "metadata": {},
   "outputs": [],
   "source": [
    "![ -e data.csv ] || wget https://raw.githubusercontent.com/opendp/opendp/main/docs/source/data/PUMS_california_demographics_1000/data.csv"
   ]
  },
  {
   "cell_type": "code",
   "execution_count": 2,
   "metadata": {},
   "outputs": [],
   "source": [
    "data = open(\"data.csv\").read()"
   ]
  },
  {
   "cell_type": "markdown",
   "metadata": {},
   "source": [
    "We'll use the Tulap mechanism to conduct statistical inference on the 'married' column,\n",
    "where values are either 0 or 1, indicating marriage status.\n",
    "\n",
    "The following transformation counts the number of married individuals in the dataset."
   ]
  },
  {
   "cell_type": "code",
   "execution_count": 3,
   "metadata": {},
   "outputs": [
    {
     "data": {
      "text/plain": [
       "549.0"
      ]
     },
     "execution_count": 3,
     "metadata": {},
     "output_type": "execute_result"
    }
   ],
   "source": [
    "import opendp.prelude as dp\n",
    "dp.enable_features(\"contrib\")\n",
    "\n",
    "t_count_married = (\n",
    "    dp.t.make_split_dataframe(\",\", col_names=[\"age\", \"sex\", \"educ\", \"race\", \"income\", \"married\"]) >>\n",
    "    dp.t.make_select_column(\"married\", str) >>\n",
    "    dp.t.then_cast_default(float) >>\n",
    "    dp.t.then_clamp((0., 1.)) >>\n",
    "    dp.t.then_sum()\n",
    ")\n",
    "\n",
    "# what is the exact number of married individuals?\n",
    "exact_estimate = t_count_married(data)\n",
    "exact_estimate"
   ]
  },
  {
   "cell_type": "markdown",
   "metadata": {},
   "source": [
    "The Tulap mechanism behaves similarly to the Laplace or Gaussian mechanism in that it is an additive noise mechanism.\n",
    "\n",
    "> At this time, the implementation of the Tulap mechanism in OpenDP only supports scalar-valued float inputs with a sensitivity at most one."
   ]
  },
  {
   "cell_type": "code",
   "execution_count": 4,
   "metadata": {},
   "outputs": [
    {
     "data": {
      "text/plain": [
       "546.2027031341229"
      ]
     },
     "execution_count": 4,
     "metadata": {},
     "output_type": "execute_result"
    }
   ],
   "source": [
    "epsilon, delta = 0.2, 1e-8\n",
    "m_count_married = t_count_married >> dp.m.then_tulap(epsilon=epsilon, delta=delta)\n",
    "\n",
    "# what is the DP estimate of the number of married individuals?\n",
    "private_estimate = m_count_married(data)\n",
    "private_estimate"
   ]
  },
  {
   "cell_type": "markdown",
   "metadata": {},
   "source": [
    "The Tulap distribution is a combination of discrete Laplace noise and continuous uniform noise. "
   ]
  },
  {
   "cell_type": "markdown",
   "metadata": {},
   "source": [
    "## Binomial Assumption"
   ]
  },
  {
   "cell_type": "markdown",
   "metadata": {},
   "source": [
    "There are utilities for conducting hypothesis tests and constructing confidence intervals \n",
    "in the setting where the input to the Tulap mechanism is binomially distributed.\n",
    "\n",
    "To access these utilities, instantiate a `BinomialTulap` class with epsilon, delta and an estimate of the dataset size\n",
    "(parameters that typically don't change across an analysis)."
   ]
  },
  {
   "cell_type": "code",
   "execution_count": 5,
   "metadata": {},
   "outputs": [],
   "source": [
    "from opendp.extras.numpy.tulap import BinomialTulap\n",
    "tulap_married = BinomialTulap(private_estimate, epsilon=epsilon, delta=delta, size=1_000)"
   ]
  },
  {
   "cell_type": "markdown",
   "metadata": {},
   "source": [
    "Lets interpret each available API on the marriage data."
   ]
  },
  {
   "cell_type": "markdown",
   "metadata": {},
   "source": [
    "### Confidence Intervals"
   ]
  },
  {
   "cell_type": "code",
   "execution_count": 6,
   "metadata": {},
   "outputs": [
    {
     "data": {
      "text/plain": [
       "(0.5123161678397707, 0.580089238428475)"
      ]
     },
     "execution_count": 6,
     "metadata": {},
     "output_type": "execute_result"
    }
   ],
   "source": [
    "ci = tulap_married.confidence_interval(alpha=.05)\n",
    "ci"
   ]
  },
  {
   "cell_type": "markdown",
   "metadata": {},
   "source": [
    "With a statistical significance of .05 (with 95% confidence), the true proportion of married individuals is within the interval ``ci``."
   ]
  },
  {
   "cell_type": "code",
   "execution_count": 7,
   "metadata": {},
   "outputs": [
    {
     "data": {
      "text/plain": [
       "0.517834790715473"
      ]
     },
     "execution_count": 7,
     "metadata": {},
     "output_type": "execute_result"
    }
   ],
   "source": [
    "lower_ci = tulap_married.confidence_interval(alpha=.05, side='lower')\n",
    "lower_ci"
   ]
  },
  {
   "cell_type": "markdown",
   "metadata": {},
   "source": [
    "With a statistical significance of .05 (with 95% confidence), the true proportion of married individuals is no less than ``lower_ci``."
   ]
  },
  {
   "cell_type": "markdown",
   "metadata": {},
   "source": [
    "### P-Values\n",
    "\n",
    "Consider a statistical test where the null hypothesis states that the probability of a success (incrementing the counter) is `theta`.\n",
    "The p-value tells you the probability of observing `private_estimate` under the assumption that the null hypothesis is true.\n",
    "A very small p-value (less than some statistical significance level) indicates that the null hypothesis should be rejected.\n",
    "\n",
    "For examples in this document, we'll start with a prior assumption that the probability of a person being married is 0.5."
   ]
  },
  {
   "cell_type": "code",
   "execution_count": 8,
   "metadata": {},
   "outputs": [],
   "source": [
    "theta = 0.5"
   ]
  },
  {
   "cell_type": "markdown",
   "metadata": {},
   "source": [
    "Now, test the null hypothesis that the probability of a person being married is 0.5:"
   ]
  },
  {
   "cell_type": "code",
   "execution_count": 9,
   "metadata": {},
   "outputs": [
    {
     "data": {
      "text/plain": [
       "0.008397948237234412"
      ]
     },
     "execution_count": 9,
     "metadata": {},
     "output_type": "execute_result"
    }
   ],
   "source": [
    "p_value_married = tulap_married.p_value(theta=theta)\n",
    "p_value_married"
   ]
  },
  {
   "cell_type": "markdown",
   "metadata": {},
   "source": [
    "Under this null hypothesis, the probability of observing `private_estimate` is low:\n",
    "this tells us that if the true marriage rate was actually 0.5, then it would be unlikely we would have observed such a high private estimate."
   ]
  },
  {
   "cell_type": "markdown",
   "metadata": {},
   "source": [
    "You can also test the null hypothesis that the probability of a person being married is no less than 0.5:"
   ]
  },
  {
   "cell_type": "code",
   "execution_count": 10,
   "metadata": {},
   "outputs": [
    {
     "data": {
      "text/plain": [
       "0.995801025881383"
      ]
     },
     "execution_count": 10,
     "metadata": {},
     "output_type": "execute_result"
    }
   ],
   "source": [
    "p_value_married = tulap_married.p_value(theta=theta, tail='left')\n",
    "p_value_married"
   ]
  },
  {
   "cell_type": "markdown",
   "metadata": {},
   "source": [
    "Under this hypothesis, it's highly likely to observe an outcome like `private_estimate`, because the private estimate corroborates the null hypothesis.\n",
    "\n",
    "When the null hypothesis is that the probability of a person being married is no greater than 0.5, the test more strongly indicates that the outcome is unlikely:"
   ]
  },
  {
   "cell_type": "code",
   "execution_count": 11,
   "metadata": {},
   "outputs": [
    {
     "data": {
      "text/plain": [
       "0.004198974118617163"
      ]
     },
     "execution_count": 11,
     "metadata": {},
     "output_type": "execute_result"
    }
   ],
   "source": [
    "p_value_married = tulap_married.p_value(theta=theta, tail='right')\n",
    "p_value_married"
   ]
  },
  {
   "cell_type": "markdown",
   "metadata": {},
   "source": [
    "As you can see, the one-sided test is stronger than the two-sided test, which is reflected in the p-value."
   ]
  },
  {
   "cell_type": "markdown",
   "metadata": {},
   "source": [
    "### Uniformly-Most-Powerful Tests\n",
    "Use `ump_tests` to view p-values as `private_estimate` is varied between 0 and the dataset size."
   ]
  },
  {
   "cell_type": "code",
   "execution_count": 12,
   "metadata": {},
   "outputs": [
    {
     "name": "stderr",
     "output_type": "stream",
     "text": [
      "/Users/michael/openDP/openDP/python/src/opendp/_extrinsics/tulap.py:106: RuntimeWarning: overflow encountered in exp\n",
      "  poss = 1 - np.exp((r * -g) - l + np.log(b + ((r - t + (1 / 2)) * k)))\n"
     ]
    },
    {
     "data": {
      "image/png": "[encoded data removed]",
      "text/plain": [
       "<Figure size 640x480 with 1 Axes>"
      ]
     },
     "metadata": {},
     "output_type": "display_data"
    }
   ],
   "source": [
    "from opendp.extras.numpy.tulap import one_sided_uniformly_most_powerful_tests\n",
    "\n",
    "ump_tests = one_sided_uniformly_most_powerful_tests(\n",
    "    theta=theta, epsilon=epsilon, delta=delta, size=1_000, alpha=0.05, tail=\"left\"\n",
    ")\n",
    "\n",
    "import matplotlib.pyplot as plt\n",
    "\n",
    "plt.plot(list(range(0, 1001)), ump_tests);"
   ]
  },
  {
   "cell_type": "markdown",
   "metadata": {},
   "source": [
    "This visual shows how, when the null hypothesis is that the population rate is no smaller than 0.5, the probability of observing an outcome at least as extreme as theta approaches one."
   ]
  }
 ],
 "metadata": {
  "kernelspec": {
   "display_name": "Python 3",
   "language": "python",
   "name": "python3"
  },
  "language_info": {
   "codemirror_mode": {
    "name": "ipython",
    "version": 3
   },
   "file_extension": ".py",
   "mimetype": "text/x-python",
   "name": "python",
   "nbconvert_exporter": "python",
   "pygments_lexer": "ipython3",
   "version": "3.12.4"
  },
  "orig_nbformat": 4
 },
 "nbformat": 4,
 "nbformat_minor": 2
}
