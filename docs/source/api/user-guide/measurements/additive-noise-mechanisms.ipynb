{
 "cells": [
  {
   "attachments": {},
   "cell_type": "markdown",
   "metadata": {},
   "source": [
    "# Additive Noise Mechanisms\n",
    "\n",
    "This notebook documents the variations on additive noise mechanisms in OpenDP:\n",
    "\n",
    "* Distribution: Laplace vs. Gaussian\n",
    "* Support: float vs. integer\n",
    "* Domain: scalar vs. vector\n",
    "* Bit-depth"
   ]
  },
  {
   "attachments": {},
   "cell_type": "markdown",
   "metadata": {},
   "source": [
    "----\n",
    "Any constructors that have not completed the proof-writing and vetting process may still be accessed if you opt-in to \"contrib\".\n",
    "Please contact us if you are interested in proof-writing. Thank you!"
   ]
  },
  {
   "cell_type": "code",
   "execution_count": 1,
   "metadata": {
    "execution": {
     "iopub.execute_input": "2025-06-04T19:33:23.658505Z",
     "iopub.status.busy": "2025-06-04T19:33:23.658079Z",
     "iopub.status.idle": "2025-06-04T19:33:24.313417Z",
     "shell.execute_reply": "2025-06-04T19:33:24.313134Z"
    }
   },
   "outputs": [],
   "source": [
    "import opendp.prelude as dp\n",
    "dp.enable_features(\"contrib\")"
   ]
  },
  {
   "attachments": {},
   "cell_type": "markdown",
   "metadata": {},
   "source": [
    "## Distribution: Laplace vs. Gaussian\n",
    "\n",
    "The Laplace mechanism is used to privatize an aggregate, like a sum or mean.\n",
    "\n",
    "An instance of the Laplace mechanism is captured by a _measurement_ containing the following five elements:\n",
    "\n",
    "<details>\n",
    "  <summary>Elements of a Laplace Measurement</summary>\n",
    "\n",
    "1. We first define the **function** $f(\\cdot)$, that applies the Laplace mechanism to some argument $x$. This function simply samples from the Laplace distribution centered at $x$, with a fixed noise scale.\n",
    "\n",
    "$$f(x) = Laplace(\\mu=x, b=scale)$$\n",
    "\n",
    "2. Importantly, $f(\\cdot)$ is only well-defined for any finite float input. This set of permitted inputs is described by the **input domain** (denoted `AtomDomain<f64>`).\n",
    "\n",
    "3. The Laplace mechanism has a privacy guarantee in terms of epsilon. \n",
    "This guarantee is represented by a **privacy map**, a function that computes the privacy loss $\\epsilon$ for any choice of sensitivity $\\Delta$.\n",
    "\n",
    "$$map(\\Delta) = \\Delta / scale <= \\epsilon$$\n",
    "\n",
    "4. This map only promises that the privacy loss will be at most $\\epsilon$ if inputs from any two neighboring datasets may differ by no more than some quantity $\\Delta$ under the absolute distance **input metric** (`AbsoluteDistance<f64>`).\n",
    "\n",
    "5. We similarly describe units on the output ($\\epsilon$) via the **output measure** (`MaxDivergence`).\n",
    "</details>\n",
    "\n",
    "\n",
    "The `make_laplace` constructor function returns the equivalent of the Laplace measurement described above."
   ]
  },
  {
   "cell_type": "code",
   "execution_count": 2,
   "metadata": {
    "execution": {
     "iopub.execute_input": "2025-06-04T19:33:24.315025Z",
     "iopub.status.busy": "2025-06-04T19:33:24.314892Z",
     "iopub.status.idle": "2025-06-04T19:33:24.319550Z",
     "shell.execute_reply": "2025-06-04T19:33:24.319314Z"
    }
   },
   "outputs": [
    {
     "name": "stdout",
     "output_type": "stream",
     "text": [
      "noisy aggregate: -0.4762688937509709\n",
      "epsilon: 0.5\n"
     ]
    }
   ],
   "source": [
    "# call the constructor to produce the measurement `base_lap`\n",
    "input_space = dp.atom_domain(T=float, nan=False), dp.absolute_distance(T=float)\n",
    "base_lap = dp.m.make_laplace(*input_space, scale=2.)\n",
    "\n",
    "# invoke the measurement on some aggregate x, to sample Laplace(x, 1.) noise\n",
    "aggregated = 0.\n",
    "print(\"noisy aggregate:\", base_lap(aggregated))\n",
    "\n",
    "# we must know the sensitivity of `aggregated` to determine epsilon\n",
    "sensitivity = 1.\n",
    "print(\"epsilon:\", base_lap.map(d_in=sensitivity))"
   ]
  },
  {
   "attachments": {},
   "cell_type": "markdown",
   "metadata": {},
   "source": [
    "The analogous constructor for gaussian noise is `make_gaussian`: "
   ]
  },
  {
   "cell_type": "code",
   "execution_count": 3,
   "metadata": {
    "execution": {
     "iopub.execute_input": "2025-06-04T19:33:24.336887Z",
     "iopub.status.busy": "2025-06-04T19:33:24.336755Z",
     "iopub.status.idle": "2025-06-04T19:33:24.339849Z",
     "shell.execute_reply": "2025-06-04T19:33:24.339643Z"
    }
   },
   "outputs": [
    {
     "name": "stdout",
     "output_type": "stream",
     "text": [
      "noisy aggregate: 0.11580942383880671\n",
      "rho: 0.125\n"
     ]
    }
   ],
   "source": [
    "# call the constructor to produce the measurement `gauss`\n",
    "input_space = dp.atom_domain(T=float, nan=False), dp.absolute_distance(T=float)\n",
    "gauss = dp.m.make_gaussian(*input_space, scale=2.)\n",
    "\n",
    "# invoke the measurement on some aggregate x, to sample Gaussian(x, 1.) noise\n",
    "aggregated = 0.\n",
    "print(\"noisy aggregate:\", gauss(aggregated))\n",
    "\n",
    "# we must know the sensitivity of `aggregated` to determine epsilon\n",
    "sensitivity = 1.\n",
    "print(\"rho:\", gauss.map(d_in=sensitivity))"
   ]
  },
  {
   "attachments": {},
   "cell_type": "markdown",
   "metadata": {},
   "source": [
    "Notice that `base_lap` measures privacy with epsilon (in the `MaxDivergence` measure), and `base_gauss` measures privacy with rho (in the `ZeroConcentratedDivergence` measure).\n"
   ]
  },
  {
   "attachments": {},
   "cell_type": "markdown",
   "metadata": {},
   "source": [
    "## Support: Float vs. Integer\n",
    "\n",
    "There are also discrete analogues of the continuous Laplace and Gaussian measurements.\n",
    "The continuous measurements accept and emit floats, while the discrete measurements accept and emit integers.\n",
    "Measurements with distributions supported on the integers expect integer sensitivities by default.\n",
    "\n",
    "`make_laplace` on a discrete support is equivalent to the geometric mechanism:"
   ]
  },
  {
   "cell_type": "code",
   "execution_count": 4,
   "metadata": {
    "execution": {
     "iopub.execute_input": "2025-06-04T19:33:24.341098Z",
     "iopub.status.busy": "2025-06-04T19:33:24.341023Z",
     "iopub.status.idle": "2025-06-04T19:33:24.343499Z",
     "shell.execute_reply": "2025-06-04T19:33:24.343268Z"
    }
   },
   "outputs": [
    {
     "name": "stdout",
     "output_type": "stream",
     "text": [
      "noisy aggregate: 0\n",
      "epsilon: 1.0\n"
     ]
    }
   ],
   "source": [
    "# call the constructor to produce the measurement `base_discrete_lap`\n",
    "input_space = dp.atom_domain(T=int), dp.absolute_distance(T=int)\n",
    "base_discrete_lap = dp.m.make_laplace(*input_space, scale=1.)\n",
    "\n",
    "# invoke the measurement on some integer aggregate x, to sample DiscreteLaplace(x, 1.) noise\n",
    "aggregated = 0\n",
    "print(\"noisy aggregate:\", base_discrete_lap(aggregated))\n",
    "\n",
    "# in this case, the sensitivity is integral:\n",
    "sensitivity = 1\n",
    "print(\"epsilon:\", base_discrete_lap.map(d_in=sensitivity))"
   ]
  },
  {
   "attachments": {},
   "cell_type": "markdown",
   "metadata": {},
   "source": [
    "`make_gaussian` on a discrete support is the analogous measurement for Gaussian noise:"
   ]
  },
  {
   "cell_type": "code",
   "execution_count": 5,
   "metadata": {
    "execution": {
     "iopub.execute_input": "2025-06-04T19:33:24.344643Z",
     "iopub.status.busy": "2025-06-04T19:33:24.344571Z",
     "iopub.status.idle": "2025-06-04T19:33:24.347011Z",
     "shell.execute_reply": "2025-06-04T19:33:24.346778Z"
    }
   },
   "outputs": [
    {
     "name": "stdout",
     "output_type": "stream",
     "text": [
      "noisy aggregate: 1\n",
      "rho: 0.5\n"
     ]
    }
   ],
   "source": [
    "# call the constructor to produce the measurement `base_discrete_gauss`\n",
    "input_space = dp.atom_domain(T=int), dp.absolute_distance(T=int)\n",
    "base_discrete_gauss = dp.m.make_gaussian(*input_space, scale=1.)\n",
    "\n",
    "# invoke the measurement on some aggregate x, to sample DiscreteGaussian(x, 1.) noise\n",
    "aggregated = 0\n",
    "print(\"noisy aggregate:\", base_discrete_gauss(aggregated))\n",
    "\n",
    "# we must know the sensitivity of `aggregated` to determine epsilon\n",
    "sensitivity = 1\n",
    "print(\"rho:\", base_discrete_gauss.map(d_in=sensitivity))"
   ]
  },
  {
   "attachments": {},
   "cell_type": "markdown",
   "metadata": {},
   "source": [
    "The continuous mechanisms use these discrete samplers internally.\n",
    "More information on this can be found at the end of this notebook."
   ]
  },
  {
   "attachments": {},
   "cell_type": "markdown",
   "metadata": {},
   "source": [
    "## Domain: Scalar vs. Vector"
   ]
  },
  {
   "attachments": {},
   "cell_type": "markdown",
   "metadata": {},
   "source": [
    "Measurements covered thus far have accepted scalar inputs and emitted scalar outputs, \n",
    "and sensitivities have been expressed in terms of the absolute distance.\n",
    "\n",
    "The noise addition mechanisms can similarly operate over metric spaces consisting of vectors, \n",
    "and where the distance between any two vectors is computed via the L1 or L2 distance."
   ]
  },
  {
   "cell_type": "code",
   "execution_count": 6,
   "metadata": {
    "execution": {
     "iopub.execute_input": "2025-06-04T19:33:24.348242Z",
     "iopub.status.busy": "2025-06-04T19:33:24.348173Z",
     "iopub.status.idle": "2025-06-04T19:33:24.350299Z",
     "shell.execute_reply": "2025-06-04T19:33:24.350081Z"
    }
   },
   "outputs": [
    {
     "name": "stdout",
     "output_type": "stream",
     "text": [
      "Expected type is Vec<f64> but input data is not a list.\n"
     ]
    }
   ],
   "source": [
    "# call again, but this time indicate that the measurement should operate over a vector domain\n",
    "input_space = dp.vector_domain(dp.atom_domain(T=float, nan=False)), dp.l1_distance(T=float)\n",
    "base_lap_vec = dp.m.make_laplace(*input_space, scale=1.)\n",
    "\n",
    "aggregated = 1.\n",
    "# If we try to pass the wrong data type into our vector laplace measurement, \n",
    "# the error shows that our float argument should be a vector of floats.\n",
    "try:\n",
    "    print(\"noisy aggregate:\", base_lap_vec(aggregated))\n",
    "except TypeError as e:\n",
    "    # The error messages will often point to a discussion page with more info.\n",
    "    print(e)"
   ]
  },
  {
   "cell_type": "code",
   "execution_count": 7,
   "metadata": {
    "execution": {
     "iopub.execute_input": "2025-06-04T19:33:24.351351Z",
     "iopub.status.busy": "2025-06-04T19:33:24.351282Z",
     "iopub.status.idle": "2025-06-04T19:33:24.353136Z",
     "shell.execute_reply": "2025-06-04T19:33:24.352911Z"
    }
   },
   "outputs": [
    {
     "name": "stdout",
     "output_type": "stream",
     "text": [
      "noisy aggregate: [-0.2540423714495987, 3.1781233226386165, 1.610700530416051]\n"
     ]
    }
   ],
   "source": [
    "# actually pass a vector-valued input, as expected\n",
    "aggregated = [0., 2., 2.]\n",
    "print(\"noisy aggregate:\", base_lap_vec(aggregated))\n"
   ]
  },
  {
   "attachments": {},
   "cell_type": "markdown",
   "metadata": {},
   "source": [
    "The resulting measurement expects sensitivity in terms of the appropriate Lp-distance: the vector Laplace measurement expects sensitivity in terms of an `\"l1_distance(T=f64)\"`, while the vector Gaussian measurement expects a sensitivity in terms of an `\"l2_distance(T=f64)\"`. "
   ]
  },
  {
   "cell_type": "code",
   "execution_count": 8,
   "metadata": {
    "execution": {
     "iopub.execute_input": "2025-06-04T19:33:24.354185Z",
     "iopub.status.busy": "2025-06-04T19:33:24.354112Z",
     "iopub.status.idle": "2025-06-04T19:33:24.355734Z",
     "shell.execute_reply": "2025-06-04T19:33:24.355517Z"
    }
   },
   "outputs": [
    {
     "name": "stdout",
     "output_type": "stream",
     "text": [
      "epsilon: 1.0\n"
     ]
    }
   ],
   "source": [
    "sensitivity = 1.\n",
    "print(\"epsilon:\", base_lap_vec.map(d_in=sensitivity))"
   ]
  },
  {
   "attachments": {},
   "cell_type": "markdown",
   "metadata": {},
   "source": [
    "The documentation for each constructor also reflects the relationship between `D` and the resulting input metric in a table:"
   ]
  },
  {
   "cell_type": "code",
   "execution_count": 9,
   "metadata": {
    "execution": {
     "iopub.execute_input": "2025-06-04T19:33:24.356803Z",
     "iopub.status.busy": "2025-06-04T19:33:24.356720Z",
     "iopub.status.idle": "2025-06-04T19:33:24.358307Z",
     "shell.execute_reply": "2025-06-04T19:33:24.358109Z"
    }
   },
   "outputs": [
    {
     "name": "stdout",
     "output_type": "stream",
     "text": [
      "| `input_domain`                  | input type   | `input_metric`         |\n",
      "| ------------------------------- | ------------ | ---------------------- |\n",
      "| `atom_domain(T)` (default)      | `T`          | `absolute_distance(T)` |\n",
      "| `vector_domain(atom_domain(T))` | `Vec<T>`     | `l1_distance(T)`       |\n"
     ]
    }
   ],
   "source": [
    "print('\\n'.join(line for line in dp.m.make_laplace.__doc__.splitlines() if line.startswith('|')))"
   ]
  },
  {
   "attachments": {},
   "cell_type": "markdown",
   "metadata": {},
   "source": [
    "The discrete Gaussian mechanism allows for the type of the input sensitivity to be a float.\n",
    "This is because there is often a square root in the sensitivity calculations for vector-valued queries."
   ]
  },
  {
   "cell_type": "code",
   "execution_count": 10,
   "metadata": {
    "execution": {
     "iopub.execute_input": "2025-06-04T19:33:24.359338Z",
     "iopub.status.busy": "2025-06-04T19:33:24.359269Z",
     "iopub.status.idle": "2025-06-04T19:33:24.362296Z",
     "shell.execute_reply": "2025-06-04T19:33:24.362066Z"
    }
   },
   "outputs": [
    {
     "data": {
      "text/plain": [
       "0.999698"
      ]
     },
     "execution_count": 10,
     "metadata": {},
     "output_type": "execute_result"
    }
   ],
   "source": [
    "# call again, but this time indicate that the measurement should operate over a vector domain\n",
    "input_space = dp.vector_domain(dp.atom_domain(T=int)), dp.l2_distance(T=float)\n",
    "base_gauss_vec = dp.m.make_gaussian(*input_space, scale=1.)\n",
    "\n",
    "base_gauss_vec.map(d_in=1.414)\n"
   ]
  },
  {
   "attachments": {},
   "cell_type": "markdown",
   "metadata": {},
   "source": [
    "## Bit depth\n",
    "\n",
    "By default, all floating-point data types default to 64-bit double-precision (denoted `\"f64\"`), and all integral data types default to 32-bit (denoted `\"i32\"`).\n",
    "The atomic data type expected by the function and privacy units can be further configured to operate over specific bit-depths by explicitly specifying `\"f32\"` instead of `\"float\"`, or `\"i64\"` instead of `\"int\"`. "
   ]
  },
  {
   "attachments": {},
   "cell_type": "markdown",
   "metadata": {},
   "source": [
    "More information on acceptable data types can be found in the _Utilities > Typing_ section of the User Guide."
   ]
  },
  {
   "attachments": {},
   "cell_type": "markdown",
   "metadata": {},
   "source": [
    "## Desideratum: Floating-Point Granularity\n",
    "\n",
    "The \"continuous\" Laplace and Gaussian measurements convert their float arguments to a rational representation, and then add integer noise to the numerator via the respective discrete distribution. \n",
    "In the OpenDP Library's default configuration, this rational representation of a float is exact.\n",
    "Therefore the privacy analysis is as tight as if you were to sample truly continuous noise and then postprocess by rounding to the nearest float. \n",
    "\n",
    "For most use-cases the sampling algorithm is sufficiently fast when the rational representation is exact.\n",
    "That is, when noise is sampled with a granularity of $2^{-1074}$, the same granularity as the distance between subnormal 64-bit floats.\n",
    "However, the granularity can be adjusted to $2^k$, for some choice of k, for a faster runtime.\n",
    "Adjusting this parameter comes with a small penalty to the sensitivity (to account for rounding to the nearest rational), and subsequently, to the privacy parameters.\n",
    "\n",
    "The following plot shows the resulting distribution for some large choices of k:"
   ]
  },
  {
   "cell_type": "code",
   "execution_count": 11,
   "metadata": {
    "execution": {
     "iopub.execute_input": "2025-06-04T19:33:24.363570Z",
     "iopub.status.busy": "2025-06-04T19:33:24.363499Z",
     "iopub.status.idle": "2025-06-04T19:33:25.083592Z",
     "shell.execute_reply": "2025-06-04T19:33:25.083357Z"
    }
   },
   "outputs": [
    {
     "data": {
      "image/png": "[encoded data removed]",
      "text/plain": [
       "<Figure size 1000x300 with 3 Axes>"
      ]
     },
     "metadata": {},
     "output_type": "display_data"
    }
   ],
   "source": [
    "import numpy as np\n",
    "import matplotlib.pyplot as plt\n",
    "num_samples = 10_000\n",
    "space = dp.vector_domain(dp.atom_domain(T=float, nan=False), num_samples), dp.l1_distance(T=float)\n",
    "\n",
    "fig, axes = plt.subplots(nrows=1, ncols=3, figsize=(10, 3))\n",
    "fig.subplots_adjust(top=0.8)\n",
    "for axis, k in zip(axes, [1, 0, -1]):\n",
    "    base_lap_vec = dp.m.make_laplace(*space, scale=1., k=k)\n",
    "    support, counts = np.unique(base_lap_vec([0.] * num_samples), return_counts=True)\n",
    "    axis.bar(support, counts / num_samples)\n",
    "    axis.set_xticks([-2, 0, 2])\n",
    "    axis.set_title(f\"k = {k}; gap = {2**k}\")\n",
    "axes[0].set_ylabel(\"density\")\n",
    "fig.suptitle('make_laplace for different choices of k', y=0.95);"
   ]
  },
  {
   "attachments": {},
   "cell_type": "markdown",
   "metadata": {},
   "source": [
    "The distribution becomes increasingly smooth as k approaches the default value (`-1074`).\n",
    "\n",
    "The privacy map still adds a penalization when the sensitivity is zero. \n",
    "The following table uses this behavior to show the increase in epsilon for some choices of k:"
   ]
  },
  {
   "cell_type": "code",
   "execution_count": 12,
   "metadata": {
    "execution": {
     "iopub.execute_input": "2025-06-04T19:33:25.084957Z",
     "iopub.status.busy": "2025-06-04T19:33:25.084831Z",
     "iopub.status.idle": "2025-06-04T19:33:25.090617Z",
     "shell.execute_reply": "2025-06-04T19:33:25.090400Z"
    }
   },
   "outputs": [
    {
     "data": {
      "text/html": [
       "<div>\n",
       "<style scoped>\n",
       "    .dataframe tbody tr th:only-of-type {\n",
       "        vertical-align: middle;\n",
       "    }\n",
       "\n",
       "    .dataframe tbody tr th {\n",
       "        vertical-align: top;\n",
       "    }\n",
       "\n",
       "    .dataframe thead th {\n",
       "        text-align: right;\n",
       "    }\n",
       "</style>\n",
       "<table border=\"1\" class=\"dataframe\">\n",
       "  <thead>\n",
       "    <tr style=\"text-align: right;\">\n",
       "      <th></th>\n",
       "      <th>ε penalty</th>\n",
       "      <th>detail</th>\n",
       "    </tr>\n",
       "    <tr>\n",
       "      <th>k</th>\n",
       "      <th></th>\n",
       "      <th></th>\n",
       "    </tr>\n",
       "  </thead>\n",
       "  <tbody>\n",
       "    <tr>\n",
       "      <th>-1074</th>\n",
       "      <td>0.000000e+00</td>\n",
       "      <td>no penalty</td>\n",
       "    </tr>\n",
       "    <tr>\n",
       "      <th>-1073</th>\n",
       "      <td>4.940656e-324</td>\n",
       "      <td>~min float</td>\n",
       "    </tr>\n",
       "    <tr>\n",
       "      <th>-100</th>\n",
       "      <td>7.888609e-31</td>\n",
       "      <td>~2^-100</td>\n",
       "    </tr>\n",
       "    <tr>\n",
       "      <th>-1</th>\n",
       "      <td>5.000000e-01</td>\n",
       "      <td>~2^-1</td>\n",
       "    </tr>\n",
       "    <tr>\n",
       "      <th>0</th>\n",
       "      <td>1.000000e+00</td>\n",
       "      <td>~2^0</td>\n",
       "    </tr>\n",
       "    <tr>\n",
       "      <th>1</th>\n",
       "      <td>2.000000e+00</td>\n",
       "      <td>~2^1</td>\n",
       "    </tr>\n",
       "  </tbody>\n",
       "</table>\n",
       "</div>"
      ],
      "text/plain": [
       "           ε penalty      detail\n",
       "k                               \n",
       "-1074   0.000000e+00  no penalty\n",
       "-1073  4.940656e-324  ~min float\n",
       "-100    7.888609e-31     ~2^-100\n",
       "-1      5.000000e-01       ~2^-1\n",
       " 0      1.000000e+00        ~2^0\n",
       " 1      2.000000e+00        ~2^1"
      ]
     },
     "execution_count": 12,
     "metadata": {},
     "output_type": "execute_result"
    }
   ],
   "source": [
    "k = [-1074, -1073, -100, -1, 0, 1]\n",
    "space = dp.atom_domain(T=float, nan=False), dp.absolute_distance(T=float)\n",
    "ε_penalty = [dp.m.make_laplace(*space, scale=1., k=k_i).map(d_in=0.) for k_i in k]\n",
    "detail = [\"no penalty\", \"~min float\", \"~2^-100\", \"~2^-1\", \"~2^0\", \"~2^1\"]\n",
    "\n",
    "import pandas as pd\n",
    "pd.DataFrame({\"k\": k, \"ε penalty\": ε_penalty, \"detail\": detail}).set_index(\"k\")"
   ]
  }
 ],
 "metadata": {
  "kernelspec": {
   "display_name": ".venv",
   "language": "python",
   "name": "python3"
  },
  "language_info": {
   "codemirror_mode": {
    "name": "ipython",
    "version": 3
   },
   "file_extension": ".py",
   "mimetype": "text/x-python",
   "name": "python",
   "nbconvert_exporter": "python",
   "pygments_lexer": "ipython3",
   "version": "3.13.1"
  }
 },
 "nbformat": 4,
 "nbformat_minor": 2
}
