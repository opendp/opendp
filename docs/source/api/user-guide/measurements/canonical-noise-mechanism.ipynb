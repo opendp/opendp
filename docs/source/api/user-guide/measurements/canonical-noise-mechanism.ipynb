{
 "cells": [
  {
   "cell_type": "markdown",
   "metadata": {},
   "source": [
    "# Canonical Noise Mechanism"
   ]
  },
  {
   "cell_type": "markdown",
   "metadata": {},
   "source": [
    "The canonical noise mechanism ([see AV23](https://projecteuclid.org/journals/annals-of-statistics/volume-51/issue-2/Canonical-noise-distributions-and-private-hypothesis-tests/10.1214/23-AOS2259.short)) can privatize any float-valued statistic with finite sensitivity.\n",
    "\n",
    "We also have a suite of inference tools that can be applied under the assumption that your statistic is binomially distributed.\n",
    "An example of binomially-distributed data can be found when counting the number of married individuals in the California demographics dataset,\n",
    "a microdata-level dataset with attributes for age, sex, education, race, income and marriage status."
   ]
  },
  {
   "cell_type": "code",
   "execution_count": 1,
   "metadata": {},
   "outputs": [],
   "source": [
    "![ -e data.csv ] || wget https://raw.githubusercontent.com/opendp/opendp/main/docs/source/data/PUMS_california_demographics_1000/data.csv"
   ]
  },
  {
   "cell_type": "code",
   "execution_count": 2,
   "metadata": {},
   "outputs": [],
   "source": [
    "import opendp.prelude as dp\n",
    "import warnings\n",
    "\n",
    "dp.enable_features(\"contrib\")\n",
    "warnings.filterwarnings(\"ignore\", category=DeprecationWarning)\n",
    "\n",
    "context = dp.Context.compositor(\n",
    "    data=open(\"data.csv\").read(),\n",
    "    privacy_unit=dp.unit_of(contributions=1),\n",
    "    privacy_loss=dp.loss_of(epsilon=0.2, delta=1e-8),\n",
    "    split_evenly_over=2\n",
    ")"
   ]
  },
  {
   "cell_type": "markdown",
   "metadata": {},
   "source": [
    "We'll use the canonical noise mechanism to conduct statistical inference on the 'married' column,\n",
    "where values are either 0 or 1, indicating marriage status.\n",
    "\n",
    "The following query counts the number of married individuals in the dataset."
   ]
  },
  {
   "cell_type": "code",
   "execution_count": 3,
   "metadata": {},
   "outputs": [],
   "source": [
    "query = (\n",
    "    context.query()\n",
    "    .split_dataframe(\",\", col_names=[\"age\", \"sex\", \"educ\", \"race\", \"income\", \"married\"])\n",
    "    .select_column(\"married\", str)\n",
    "    .cast_default(float)\n",
    "    .clamp((0., 1.))\n",
    "    .sum()\n",
    ")"
   ]
  },
  {
   "cell_type": "markdown",
   "metadata": {},
   "source": [
    "The canonical noise mechanism behaves similarly to the Laplace or Gaussian mechanism in that it is an additive noise mechanism.\n",
    "\n",
    "> The implementation of the canonical noise mechanism in OpenDP only supports scalar-valued float inputs and can only be calibrated to satisfy $(\\epsilon, \\delta)$-DP."
   ]
  },
  {
   "cell_type": "code",
   "execution_count": 4,
   "metadata": {},
   "outputs": [
    {
     "data": {
      "text/plain": [
       "548.4320584885662"
      ]
     },
     "execution_count": 4,
     "metadata": {},
     "output_type": "execute_result"
    }
   ],
   "source": [
    "estimate: float = query.canonical_noise().release()\n",
    "estimate"
   ]
  },
  {
   "cell_type": "markdown",
   "metadata": {},
   "source": [
    "Under $(\\epsilon, \\delta)$-DP,\n",
    "the canonical noise distribution follows the Tulap distribution,\n",
    "which is a combination of discrete Laplace noise and continuous uniform noise."
   ]
  },
  {
   "cell_type": "markdown",
   "metadata": {},
   "source": [
    "## Binomial Assumption"
   ]
  },
  {
   "cell_type": "markdown",
   "metadata": {},
   "source": [
    "If you expect that the statistic you are privatizing follows a binomial distribution,\n",
    "which is commonly the case in counting queries,\n",
    "there is a suite of tools for conducting hypothesis tests and constructing confidence intervals.\n",
    "\n",
    "These utilities can be used standalone via the `BinomialCND` class,\n",
    "or you can simply provide a `binomial_size` prior before making the release and OpenDP will instantiate the class for you."
   ]
  },
  {
   "cell_type": "code",
   "execution_count": 5,
   "metadata": {},
   "outputs": [
    {
     "data": {
      "text/plain": [
       "BinomialCND(estimate=544.4191460944635, d_in=1.0000000093132269, d_out=(0.1, 5e-09), size=1000)"
      ]
     },
     "execution_count": 5,
     "metadata": {},
     "output_type": "execute_result"
    }
   ],
   "source": [
    "from opendp.extras.numpy.canonical import BinomialCND\n",
    "\n",
    "estimate: BinomialCND = query.canonical_noise(binomial_size=1_000).release()\n",
    "estimate"
   ]
  },
  {
   "cell_type": "markdown",
   "metadata": {},
   "source": [
    "The `binomial_size` argument is a prior about the number of bernoulli draws- typically the number of records in the dataset.\n",
    "\n",
    "Lets get familiar with each of the inference tools."
   ]
  },
  {
   "cell_type": "markdown",
   "metadata": {},
   "source": [
    "### Confidence Intervals"
   ]
  },
  {
   "cell_type": "code",
   "execution_count": 6,
   "metadata": {},
   "outputs": [
    {
     "data": {
      "text/plain": [
       "(0.5024702954212006, 0.5863679967677263)"
      ]
     },
     "execution_count": 6,
     "metadata": {},
     "output_type": "execute_result"
    }
   ],
   "source": [
    "ci = estimate.confidence_interval(alpha=.05)\n",
    "ci"
   ]
  },
  {
   "cell_type": "markdown",
   "metadata": {},
   "source": [
    "With a statistical significance of .05 (with 95% confidence), the true proportion of married individuals is within the interval ``ci``."
   ]
  },
  {
   "cell_type": "code",
   "execution_count": 7,
   "metadata": {},
   "outputs": [
    {
     "data": {
      "text/plain": [
       "0.5099433217775998"
      ]
     },
     "execution_count": 7,
     "metadata": {},
     "output_type": "execute_result"
    }
   ],
   "source": [
    "lower_ci = estimate.confidence_interval(alpha=.05, side='lower')\n",
    "lower_ci"
   ]
  },
  {
   "cell_type": "markdown",
   "metadata": {},
   "source": [
    "With a statistical significance of .05 (with 95% confidence), the true proportion of married individuals is no less than ``lower_ci``."
   ]
  },
  {
   "cell_type": "markdown",
   "metadata": {},
   "source": [
    "### P-Values\n",
    "\n",
    "Consider a statistical test where the null hypothesis states that the probability of a success (incrementing the counter) is `theta`.\n",
    "The p-value tells you the probability of observing `estimate` under the assumption that the null hypothesis is true.\n",
    "A very small p-value (less than some statistical significance level) indicates that the null hypothesis should be rejected.\n",
    "\n",
    "For examples in this document, we'll start with a prior assumption that the probability of a person being married is 0.5."
   ]
  },
  {
   "cell_type": "code",
   "execution_count": 8,
   "metadata": {},
   "outputs": [],
   "source": [
    "theta = 0.5"
   ]
  },
  {
   "cell_type": "markdown",
   "metadata": {},
   "source": [
    "Now, test the null hypothesis that the probability of a person being married is 0.5:"
   ]
  },
  {
   "cell_type": "code",
   "execution_count": 9,
   "metadata": {},
   "outputs": [
    {
     "data": {
      "text/plain": [
       "0.03983400091677909"
      ]
     },
     "execution_count": 9,
     "metadata": {},
     "output_type": "execute_result"
    }
   ],
   "source": [
    "p_value_married = estimate.p_value(theta=theta)\n",
    "p_value_married"
   ]
  },
  {
   "cell_type": "markdown",
   "metadata": {},
   "source": [
    "Under this null hypothesis, the probability of observing `estimate` is low:\n",
    "this tells us that if the true marriage rate was actually 0.5, then it would be unlikely we would have observed such a high private estimate."
   ]
  },
  {
   "cell_type": "markdown",
   "metadata": {},
   "source": [
    "You can also test the null hypothesis that the probability of a person being married is no less than 0.5:"
   ]
  },
  {
   "cell_type": "code",
   "execution_count": 10,
   "metadata": {},
   "outputs": [
    {
     "data": {
      "text/plain": [
       "0.9800829995416105"
      ]
     },
     "execution_count": 10,
     "metadata": {},
     "output_type": "execute_result"
    }
   ],
   "source": [
    "p_value_married = estimate.p_value(theta=theta, tail='left')\n",
    "p_value_married"
   ]
  },
  {
   "cell_type": "markdown",
   "metadata": {},
   "source": [
    "Under this hypothesis, it's highly likely to observe an outcome like `estimate`, because the private estimate corroborates the null hypothesis.\n",
    "\n",
    "When the null hypothesis is that the probability of a person being married is no greater than 0.5, the test more strongly indicates that the outcome is unlikely:"
   ]
  },
  {
   "cell_type": "code",
   "execution_count": 11,
   "metadata": {},
   "outputs": [
    {
     "data": {
      "text/plain": [
       "0.019917000458389695"
      ]
     },
     "execution_count": 11,
     "metadata": {},
     "output_type": "execute_result"
    }
   ],
   "source": [
    "p_value_married = estimate.p_value(theta=theta, tail='right')\n",
    "p_value_married"
   ]
  },
  {
   "cell_type": "markdown",
   "metadata": {},
   "source": [
    "As you can see, the one-sided test is stronger than the two-sided test, which is reflected in the p-value."
   ]
  },
  {
   "cell_type": "markdown",
   "metadata": {},
   "source": [
    "### Uniformly-Most-Powerful Tests\n",
    "`one_sided_uniformly_most_powerful_tests` shows how p-values vary over all potential estimates between 0 and the dataset size."
   ]
  },
  {
   "cell_type": "code",
   "execution_count": 12,
   "metadata": {},
   "outputs": [
    {
     "name": "stderr",
     "output_type": "stream",
     "text": [
      "/Users/michael/openDP/openDP/python/src/opendp/extras/numpy/canonical.py:104: RuntimeWarning: overflow encountered in exp\n",
      "  poss = 1 - np.exp((r * -g) - l + np.log(b + ((r - t + (1 / 2)) * k)))\n"
     ]
    },
    {
     "data": {
      "image/png": "[encoded data removed]",
      "text/plain": [
       "<Figure size 640x480 with 1 Axes>"
      ]
     },
     "metadata": {},
     "output_type": "display_data"
    }
   ],
   "source": [
    "from opendp.extras.numpy.canonical import one_sided_uniformly_most_powerful_tests\n",
    "\n",
    "ump_tests = one_sided_uniformly_most_powerful_tests(\n",
    "    theta=theta, d_in=estimate.d_in, d_out=estimate.d_out, size=1_000, alpha=0.05, tail=\"left\"\n",
    ")\n",
    "\n",
    "import matplotlib.pyplot as plt\n",
    "\n",
    "plt.plot(list(range(0, 1001)), ump_tests);"
   ]
  },
  {
   "cell_type": "markdown",
   "metadata": {},
   "source": [
    "This visual shows how, when the null hypothesis is that the population rate is no smaller than 0.5, the probability of observing an outcome at least as extreme as theta approaches one."
   ]
  }
 ],
 "metadata": {
  "kernelspec": {
   "display_name": ".venv",
   "language": "python",
   "name": "python3"
  },
  "language_info": {
   "codemirror_mode": {
    "name": "ipython",
    "version": 3
   },
   "file_extension": ".py",
   "mimetype": "text/x-python",
   "name": "python",
   "nbconvert_exporter": "python",
   "pygments_lexer": "ipython3",
   "version": "3.13.0"
  },
  "orig_nbformat": 4
 },
 "nbformat": 4,
 "nbformat_minor": 2
}
