{
 "cells": [
  {
   "cell_type": "markdown",
   "metadata": {},
   "source": [
    "# Canonical Noise Mechanism"
   ]
  },
  {
   "cell_type": "markdown",
   "metadata": {},
   "source": [
    "The canonical noise mechanism ([see AV23](https://projecteuclid.org/journals/annals-of-statistics/volume-51/issue-2/Canonical-noise-distributions-and-private-hypothesis-tests/10.1214/23-AOS2259.short)) can privatize any float-valued statistic with finite sensitivity.\n",
    "\n",
    "Under $(\\epsilon, \\delta)$-DP,\n",
    "the canonical noise distribution follows the Tulap distribution,\n",
    "which is a combination of discrete laplace noise and continuous uniform noise."
   ]
  },
  {
   "cell_type": "code",
   "execution_count": 1,
   "metadata": {},
   "outputs": [
    {
     "data": {
      "image/png": "[encoded data removed]",
      "text/plain": [
       "<Figure size 640x480 with 1 Axes>"
      ]
     },
     "metadata": {},
     "output_type": "display_data"
    }
   ],
   "source": [
    "import matplotlib.pyplot as plt\n",
    "import opendp.prelude as dp\n",
    "dp.enable_features(\"contrib\")\n",
    "\n",
    "space = dp.atom_domain(T=float, nan=False), dp.absolute_distance(T=float)\n",
    "# calibrate noise to satisfy (1.0, 1e-7)-approxDP when sensitivity is 1.0\n",
    "m_cnd = space >> dp.m.then_canonical_noise(d_in=1.0, d_out=(1.0, 1e-7))\n",
    "\n",
    "# plot 10k samples\n",
    "plt.hist([m_cnd(0.) for _ in range(10_000)], bins=200);"
   ]
  },
  {
   "cell_type": "markdown",
   "metadata": {},
   "source": [
    "We also have a suite of inference tools that can be applied under the assumption that your statistic is binomially distributed.\n",
    "An example of binomially-distributed data can be found when counting the number of married individuals in the California demographics dataset,\n",
    "a microdata-level dataset with attributes for age, sex, education, race, income and marriage status."
   ]
  },
  {
   "cell_type": "code",
   "execution_count": 2,
   "metadata": {},
   "outputs": [],
   "source": [
    "import opendp.prelude as dp\n",
    "import polars as pl\n",
    "\n",
    "dp.enable_features(\"contrib\")\n",
    "columns = \"age\", \"sex\", \"educ\", \"race\", \"income\", \"married\"\n",
    "married_data = list(pl.read_csv(\n",
    "    dp.examples.get_california_pums_path(), \n",
    "    has_header=False, \n",
    "    new_columns=columns,\n",
    "    ignore_errors=True,\n",
    ")[\"married\"])\n",
    "\n",
    "context = dp.Context.compositor(\n",
    "    data=married_data,\n",
    "    privacy_unit=dp.unit_of(contributions=1),\n",
    "    privacy_loss=dp.loss_of(epsilon=0.2, delta=1e-8),\n",
    "    split_evenly_over=2\n",
    ")"
   ]
  },
  {
   "cell_type": "markdown",
   "metadata": {},
   "source": [
    "We'll use the canonical noise mechanism to conduct statistical inference on the 'married' column,\n",
    "where values are either 0 or 1, indicating marriage status.\n",
    "\n",
    "The following query counts the number of married individuals in the dataset."
   ]
  },
  {
   "cell_type": "code",
   "execution_count": 3,
   "metadata": {},
   "outputs": [],
   "source": [
    "query = context.query().cast_default(float).impute_constant(0.0).clamp((0.0, 1.0)).sum()"
   ]
  },
  {
   "cell_type": "markdown",
   "metadata": {},
   "source": [
    "The canonical noise mechanism behaves similarly to the Laplace or Gaussian mechanism in that it is an additive noise mechanism.\n",
    "\n",
    "The implementation of the canonical noise mechanism in OpenDP only supports scalar-valued float inputs and can only be calibrated to satisfy $(\\epsilon, \\delta)$-DP."
   ]
  },
  {
   "cell_type": "code",
   "execution_count": 4,
   "metadata": {},
   "outputs": [
    {
     "data": {
      "text/plain": [
       "543.5862745175556"
      ]
     },
     "execution_count": 4,
     "metadata": {},
     "output_type": "execute_result"
    }
   ],
   "source": [
    "estimate: float = query.canonical_noise().release()\n",
    "estimate"
   ]
  },
  {
   "cell_type": "markdown",
   "metadata": {},
   "source": [
    "## Binomial Assumption"
   ]
  },
  {
   "cell_type": "markdown",
   "metadata": {},
   "source": [
    "If you expect that the statistic you are privatizing follows a binomial distribution,\n",
    "which is commonly the case in counting queries,\n",
    "there is a suite of tools for conducting hypothesis tests and constructing confidence intervals.\n",
    "\n",
    "These utilities can be used standalone via the [`BinomialCND`](../../python/opendp.extras.numpy.canonical.html#opendp.extras.numpy.canonical.BinomialCND) class,\n",
    "or you can simply provide a `binomial_size` prior before making the release and OpenDP will instantiate the class for you."
   ]
  },
  {
   "cell_type": "code",
   "execution_count": 5,
   "metadata": {},
   "outputs": [
    {
     "data": {
      "text/plain": [
       "BinomialCND(estimate=502.87558450908193, d_in=1.0000000093132269, d_out=(0.1, 5e-09), size=1000)"
      ]
     },
     "execution_count": 5,
     "metadata": {},
     "output_type": "execute_result"
    }
   ],
   "source": [
    "from opendp.extras.numpy.canonical import BinomialCND\n",
    "\n",
    "estimate: BinomialCND = query.canonical_noise(binomial_size=1_000).release()\n",
    "estimate"
   ]
  },
  {
   "cell_type": "markdown",
   "metadata": {},
   "source": [
    "The `binomial_size` argument is a prior about the number of bernoulli draws- typically the number of records in the dataset.\n",
    "\n",
    "Let's get familiar with each of the inference tools."
   ]
  },
  {
   "cell_type": "markdown",
   "metadata": {},
   "source": [
    "### Confidence Intervals"
   ]
  },
  {
   "cell_type": "code",
   "execution_count": 6,
   "metadata": {},
   "outputs": [
    {
     "data": {
      "text/plain": [
       "(0.4608320830961166, 0.5449190859220473)"
      ]
     },
     "execution_count": 6,
     "metadata": {},
     "output_type": "execute_result"
    }
   ],
   "source": [
    "ci = estimate.confidence_interval(alpha=.05)\n",
    "ci"
   ]
  },
  {
   "cell_type": "markdown",
   "metadata": {},
   "source": [
    "With a statistical significance of .05 (with 95% confidence), the true proportion of married individuals is within the interval ``ci``."
   ]
  },
  {
   "cell_type": "code",
   "execution_count": 7,
   "metadata": {},
   "outputs": [
    {
     "data": {
      "text/plain": [
       "0.46834281999150473"
      ]
     },
     "execution_count": 7,
     "metadata": {},
     "output_type": "execute_result"
    }
   ],
   "source": [
    "lower_ci = estimate.confidence_interval(alpha=.05, side='lower')\n",
    "lower_ci"
   ]
  },
  {
   "cell_type": "markdown",
   "metadata": {},
   "source": [
    "With a statistical significance of .05 (with 95% confidence), the true proportion of married individuals is no less than ``lower_ci``."
   ]
  },
  {
   "cell_type": "markdown",
   "metadata": {},
   "source": [
    "### P-Values\n",
    "\n",
    "Consider a statistical test where the null hypothesis states that the probability of a success (incrementing the counter) is `theta`.\n",
    "The p-value tells you the probability of observing `estimate` under the assumption that the null hypothesis is true.\n",
    "A very small p-value (less than some statistical significance level) indicates that the null hypothesis should be rejected.\n",
    "\n",
    "For examples in this document, we'll start with a prior assumption that the probability of a person being married is 0.5."
   ]
  },
  {
   "cell_type": "code",
   "execution_count": 8,
   "metadata": {},
   "outputs": [],
   "source": [
    "theta = 0.5"
   ]
  },
  {
   "cell_type": "markdown",
   "metadata": {},
   "source": [
    "Now, test the null hypothesis that the probability of a person being married is 0.5:"
   ]
  },
  {
   "cell_type": "code",
   "execution_count": 9,
   "metadata": {},
   "outputs": [
    {
     "data": {
      "text/plain": [
       "0.8861710889637788"
      ]
     },
     "execution_count": 9,
     "metadata": {},
     "output_type": "execute_result"
    }
   ],
   "source": [
    "p_value_married = estimate.p_value(theta=theta)\n",
    "p_value_married"
   ]
  },
  {
   "cell_type": "markdown",
   "metadata": {},
   "source": [
    "Under this null hypothesis, the probability of observing `estimate` is low:\n",
    "this tells us that if the true marriage rate was actually 0.5, then it would be unlikely we would have observed such a high private estimate."
   ]
  },
  {
   "cell_type": "markdown",
   "metadata": {},
   "source": [
    "You can also test the null hypothesis that the probability of a person being married is no less than 0.5:"
   ]
  },
  {
   "cell_type": "code",
   "execution_count": 10,
   "metadata": {},
   "outputs": [
    {
     "data": {
      "text/plain": [
       "0.5569144555181105"
      ]
     },
     "execution_count": 10,
     "metadata": {},
     "output_type": "execute_result"
    }
   ],
   "source": [
    "p_value_married = estimate.p_value(theta=theta, tail='left')\n",
    "p_value_married"
   ]
  },
  {
   "cell_type": "markdown",
   "metadata": {},
   "source": [
    "Under this hypothesis, it's highly likely to observe an outcome like `estimate`, because the private estimate corroborates the null hypothesis.\n",
    "\n",
    "When the null hypothesis is that the probability of a person being married is no greater than 0.5, the test more strongly indicates that the outcome is unlikely:"
   ]
  },
  {
   "cell_type": "code",
   "execution_count": 11,
   "metadata": {},
   "outputs": [
    {
     "data": {
      "text/plain": [
       "0.4430855444818895"
      ]
     },
     "execution_count": 11,
     "metadata": {},
     "output_type": "execute_result"
    }
   ],
   "source": [
    "p_value_married = estimate.p_value(theta=theta, tail='right')\n",
    "p_value_married"
   ]
  },
  {
   "cell_type": "markdown",
   "metadata": {},
   "source": [
    "As you can see, the one-sided test is stronger than the two-sided test, which is reflected in the p-value."
   ]
  },
  {
   "cell_type": "markdown",
   "metadata": {},
   "source": [
    "### Uniformly-Most-Powerful Tests\n",
    "`one_sided_uniformly_most_powerful_tests` shows how p-values vary over all potential estimates between 0 and the dataset size."
   ]
  },
  {
   "cell_type": "code",
   "execution_count": 12,
   "metadata": {},
   "outputs": [
    {
     "data": {
      "image/png": "[encoded data removed]",
      "text/plain": [
       "<Figure size 640x480 with 1 Axes>"
      ]
     },
     "metadata": {},
     "output_type": "display_data"
    }
   ],
   "source": [
    "from opendp.extras.numpy.canonical import one_sided_uniformly_most_powerful_tests\n",
    "\n",
    "ump_tests = one_sided_uniformly_most_powerful_tests(\n",
    "    d_in=estimate.d_in, d_out=estimate.d_out, size=1_000, theta=theta, alpha=0.05, tail=\"left\"\n",
    ")\n",
    "\n",
    "import matplotlib.pyplot as plt\n",
    "\n",
    "plt.plot(list(range(0, 1001)), ump_tests);"
   ]
  },
  {
   "cell_type": "markdown",
   "metadata": {},
   "source": [
    "This visual shows how, when the null hypothesis is that the population rate is no smaller than 0.5, the probability of observing an outcome at least as extreme as theta approaches one."
   ]
  }
 ],
 "metadata": {
  "kernelspec": {
   "display_name": ".venv",
   "language": "python",
   "name": "python3"
  },
  "language_info": {
   "codemirror_mode": {
    "name": "ipython",
    "version": 3
   },
   "file_extension": ".py",
   "mimetype": "text/x-python",
   "name": "python",
   "nbconvert_exporter": "python",
   "pygments_lexer": "ipython3",
   "version": "3.13.2"
  },
  "orig_nbformat": 4
 },
 "nbformat": 4,
 "nbformat_minor": 2
}
