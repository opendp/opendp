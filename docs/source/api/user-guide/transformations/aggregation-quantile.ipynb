{
    "cells": [
        {
            "attachments": {},
            "cell_type": "markdown",
            "metadata": {},
            "source": [
                "# Aggregation: Quantile\n",
                "\n",
                "This notebook explains techniques for releasing differentially private quantiles.\n",
                "Unlike counts and sums, the quantile can change by a large amount when one person contributes their data."
            ]
        },
        {
            "cell_type": "code",
            "execution_count": 1,
            "metadata": {},
            "outputs": [
                {
                    "name": "stdout",
                    "output_type": "stream",
                    "text": [
                        "before: 50.0\n",
                        "after: 100\n"
                    ]
                }
            ],
            "source": [
                "from statistics import median\n",
                "\n",
                "# Given bounds of 0 and 100...\n",
                "L, U = 0, 100\n",
                "\n",
                "# ...and elements of x are at the bounds...\n",
                "x = [L, U] * 50\n",
                "\n",
                "# ...the median changes from 50 to 100 when one individual is added\n",
                "print('before:', median(x))\n",
                "print('after:', median(x + [U]))"
            ]
        },
        {
            "cell_type": "markdown",
            "metadata": {},
            "source": [
                "Even when the datasets are always non-empty, \n",
                "the sensitivity of $(U - L) / 2$ is too large for additive noise mechanisms to be suitable for estimating quantiles."
            ]
        },
        {
            "cell_type": "markdown",
            "metadata": {},
            "source": [
                "Instead of using this dataset of extremes, \n",
                "we'll demonstrate differentially private techniques with a more realistic skewed dataset sampled from $\\mathrm{Exponential}(\\lambda=20)$."
            ]
        },
        {
            "cell_type": "code",
            "execution_count": 2,
            "metadata": {},
            "outputs": [
                {
                    "data": {
                        "image/png": "[encoded data removed]",
                        "text/plain": [
                            "<Figure size 500x500 with 1 Axes>"
                        ]
                    },
                    "metadata": {},
                    "output_type": "display_data"
                }
            ],
            "source": [
                "# privacy settings for all examples:\n",
                "max_contributions = 1\n",
                "epsilon = 1.\n",
                "\n",
                "import numpy as np\n",
                "data = np.random.exponential(20., size=1000)\n",
                "bounds = 0, 100 # a best guess!\n",
                "\n",
                "import seaborn as sns\n",
                "sns.displot(data, kind=\"kde\");"
            ]
        },
        {
            "cell_type": "code",
            "execution_count": 3,
            "metadata": {},
            "outputs": [
                {
                    "data": {
                        "text/plain": [
                            "[6.154050870055373, 14.103832524717937, 26.743818484834932]"
                        ]
                    },
                    "execution_count": 3,
                    "metadata": {},
                    "output_type": "execute_result"
                }
            ],
            "source": [
                "# true quantiles\n",
                "quartiles = [0.25, 0.5, 0.75]\n",
                "true_quantiles = np.quantile(data, quartiles)\n",
                "true_quantiles.tolist()\n"
            ]
        },
        {
            "attachments": {},
            "cell_type": "markdown",
            "metadata": {},
            "source": [
                "----\n",
                "\n",
                "Any functions that have not completed the proof-writing and vetting process may still be accessed if you opt-in to \"contrib\".\n",
                "Please contact us if you are interested in proof-writing. Thank you!"
            ]
        },
        {
            "cell_type": "code",
            "execution_count": 4,
            "metadata": {},
            "outputs": [],
            "source": [
                "import opendp.prelude as dp\n",
                "dp.enable_features(\"contrib\")"
            ]
        },
        {
            "cell_type": "markdown",
            "metadata": {},
            "source": [
                "## Quantile via Exponential Mechanism\n",
                "\n",
                "Individual quantiles can be estimated via `private_quantile`, which uses the exponential mechanism."
            ]
        },
        {
            "cell_type": "code",
            "execution_count": 5,
            "metadata": {},
            "outputs": [
                {
                    "data": {
                        "text/plain": [
                            "[6.0, 14.0, 27.0]"
                        ]
                    },
                    "execution_count": 5,
                    "metadata": {},
                    "output_type": "execute_result"
                }
            ],
            "source": [
                "context = dp.Context.compositor(\n",
                "    data=data,\n",
                "    privacy_unit=dp.unit_of(contributions=1),\n",
                "    privacy_loss=dp.loss_of(epsilon=1.),\n",
                "    split_evenly_over=3,\n",
                ")\n",
                "\n",
                "candidates = list(range(*bounds))\n",
                "\n",
                "def release_quantile(alpha):\n",
                "    query = context.query().drop_null().private_quantile(candidates, alpha)\n",
                "    return query.release()\n",
                "\n",
                "[release_quantile(alpha) for alpha in quartiles]"
            ]
        },
        {
            "cell_type": "markdown",
            "metadata": {},
            "source": [
                "This is equivalent to the following, in the lower-level framework API:"
            ]
        },
        {
            "cell_type": "code",
            "execution_count": 6,
            "metadata": {},
            "outputs": [
                {
                    "data": {
                        "text/plain": [
                            "[6.0, 14.0, 27.0]"
                        ]
                    },
                    "execution_count": 6,
                    "metadata": {},
                    "output_type": "execute_result"
                }
            ],
            "source": [
                "input_space = dp.vector_domain(dp.atom_domain(T=float)), dp.symmetric_distance()\n",
                "\n",
                "\n",
                "def make_expo_quantiles(alphas, d_in, d_out):\n",
                "    t_pre = dp.t.make_drop_null(*input_space)\n",
                "    def make_from_scale(scale):\n",
                "        return dp.c.make_basic_composition([\n",
                "            dp.m.make_private_quantile(*t_pre.output_space, candidates, alpha, scale)\n",
                "            for alpha in alphas\n",
                "        ])\n",
                "    return dp.binary_search_chain(make_from_scale, d_in=d_in, d_out=d_out)\n",
                "\n",
                "\n",
                "m_expo_quantile = make_expo_quantiles(quartiles, d_in=1, d_out=1.)\n",
                "m_expo_quantile(data)"
            ]
        },
        {
            "attachments": {},
            "cell_type": "markdown",
            "metadata": {},
            "source": [
                "## Quantile via Histogram\n",
                "\n",
                "Estimating the cumulative distribution function (CDF) performs better than \n",
                "releasing individual quantiles when you want to release a large number of quantiles.\n",
                "The CDF can be estimated by simply releasing a histogram.\n",
                "\n",
                "The basic procedure for estimating an $\\alpha$-quantile is as follows:\n",
                "\n",
                "1. bin the data, and count the number of elements in each bin privately\n",
                "2. divide the counts by the total to get the probability density of landing in each bin\n",
                "3. sum the densities while scanning from the left until the sum is at least $\\alpha$\n",
                "4. interpolate the bin edges of the terminal bin"
            ]
        },
        {
            "cell_type": "code",
            "execution_count": 7,
            "metadata": {},
            "outputs": [
                {
                    "data": {
                        "text/plain": [
                            "[6.342857142857143, 13.775, 26.68]"
                        ]
                    },
                    "execution_count": 7,
                    "metadata": {},
                    "output_type": "execute_result"
                }
            ],
            "source": [
                "def make_hist_quantiles(alphas, d_in, d_out, num_bins=500):\n",
                "\n",
                "    edges = np.linspace(*bounds, num=num_bins + 1)\n",
                "    bin_names = [str(i) for i in range(num_bins)]\n",
                "\n",
                "    def make_from_scale(scale):\n",
                "        return (\n",
                "            input_space >>\n",
                "            dp.t.then_drop_null() >>\n",
                "            dp.t.then_find_bin(edges=edges) >> # bin the data\n",
                "            dp.t.then_index(bin_names, \"0\") >> # can be omitted. Just set TIA=\"usize\", categories=list(range(num_bins)) on next line:\n",
                "            dp.t.then_count_by_categories(categories=bin_names, null_category=False) >>\n",
                "            dp.m.then_laplace(scale) >>\n",
                "            # we're really only interested in the function on this transformation- the domain and metric don't matter\n",
                "            dp.t.make_cast_default(dp.vector_domain(dp.atom_domain(T=int)), dp.symmetric_distance(), TOA=float) >>\n",
                "            dp.t.make_quantiles_from_counts(edges, alphas=alphas)\n",
                "        )\n",
                "\n",
                "    return dp.binary_search_chain(make_from_scale, d_in, d_out)\n",
                "\n",
                "hist_quartiles_meas = make_hist_quantiles(quartiles, max_contributions, epsilon)\n",
                "hist_quartiles_meas(data)\n"
            ]
        },
        {
            "attachments": {},
            "cell_type": "markdown",
            "metadata": {},
            "source": [
                "A drawback of using this algorithm is that it can be difficult to choose the number of bins.\n",
                "\n",
                "If the number of bins is chosen to be very small, then the postprocessor will need to sum fewer instances of noise before reaching the bin of interest, resulting in a better bin selection.\n",
                "However, the bin will be wider, so there will be greater error when interpolating the final answer.\n",
                "\n",
                "If the number of bins is chosen to be very large, then the same holds in the other direction.\n",
                "\n",
                "Estimating quantiles via the next algorithm can help make choosing the number of bins less sensitive.\n"
            ]
        },
        {
            "attachments": {},
            "cell_type": "markdown",
            "metadata": {},
            "source": [
                "## Quantile via B-ary Tree\n",
                "\n",
                "A slightly more complicated algorithm that tends to provide better utility is to privatize a B-ary tree instead of a histogram.\n",
                "In this algorithm, the raw counts form the leaf nodes, and a complete tree is constructed by recursively summing groups of size `b`.\n",
                "This results in a structure where each parent node is the sum of its `b` children.\n",
                "Noise is added to each node in the tree, and then a postprocessor makes all nodes of the tree consistent with each other, and returns the leaf nodes.\n",
                "\n",
                "In the histogram approach, the postprocessor would be influenced by a number of noise sources approximately $O(n)$ in the number of scanned bins.\n",
                "After this modification, the postprocessor is influenced by a number of noise sources approximately $O(\\log_b(n))$ in the number of scanned bins, and with noise sources of similarly greater magnitude.\n",
                "\n",
                "This modification introduces a new hyperparameter, the branching factor.\n",
                "`choose_branching_factor` provides a heuristic for the ideal branching factor, based on information (or a best guess) of the dataset size."
            ]
        },
        {
            "cell_type": "code",
            "execution_count": 8,
            "metadata": {},
            "outputs": [
                {
                    "data": {
                        "text/plain": [
                            "26"
                        ]
                    },
                    "execution_count": 8,
                    "metadata": {},
                    "output_type": "execute_result"
                }
            ],
            "source": [
                "b = dp.t.choose_branching_factor(size_guess=1_000)\n",
                "b"
            ]
        },
        {
            "attachments": {},
            "cell_type": "markdown",
            "metadata": {},
            "source": [
                "\n",
                "We now make the following adjustments to the histogram algorithm:\n",
                "\n",
                "* insert a stable (Lipschitz) transformation to construct a b-ary tree before the noise mechanism\n",
                "* replace the cast postprocessor with a consistency postprocessor\n"
            ]
        },
        {
            "cell_type": "code",
            "execution_count": 9,
            "metadata": {},
            "outputs": [
                {
                    "data": {
                        "text/plain": [
                            "[6.056625567608743, 14.30743922654352, 25.743101949784712]"
                        ]
                    },
                    "execution_count": 9,
                    "metadata": {},
                    "output_type": "execute_result"
                }
            ],
            "source": [
                "def make_tree_quantiles(alphas, b, d_in, d_out, num_bins=500):\n",
                "\n",
                "    edges = np.linspace(*bounds, num=num_bins + 1)\n",
                "    bin_names = [str(i) for i in range(num_bins)]\n",
                "\n",
                "    def make_from_scale(scale):\n",
                "        return (\n",
                "            input_space >>\n",
                "            dp.t.then_drop_null() >>\n",
                "            dp.t.then_find_bin(edges=edges) >> # bin the data\n",
                "            dp.t.then_index(bin_names, \"0\") >> # can be omitted. Just set TIA=\"usize\", categories=list(range(num_bins)) on next line:\n",
                "            dp.t.then_count_by_categories(categories=bin_names, null_category=False) >>\n",
                "            dp.t.then_b_ary_tree(leaf_count=len(bin_names), branching_factor=b) >>\n",
                "            dp.m.then_laplace(scale) >> \n",
                "            dp.t.make_consistent_b_ary_tree(branching_factor=b) >>  # postprocessing\n",
                "            dp.t.make_quantiles_from_counts(edges, alphas=alphas)   # postprocessing\n",
                "        )\n",
                "\n",
                "    return dp.binary_search_chain(make_from_scale, d_in, d_out)\n",
                "\n",
                "tree_quartiles_meas = make_tree_quantiles(quartiles, b, max_contributions, epsilon)\n",
                "tree_quartiles_meas(data)"
            ]
        },
        {
            "attachments": {},
            "cell_type": "markdown",
            "metadata": {},
            "source": [
                "# Simulations\n",
                "As a baseline, we'll start by simulating the exponential mechanism."
            ]
        },
        {
            "cell_type": "code",
            "execution_count": 10,
            "metadata": {},
            "outputs": [],
            "source": [
                "def sample_error(meas):\n",
                "    return np.linalg.norm(true_quantiles - meas(data))\n",
                "\n",
                "m_expo_quantiles = make_expo_quantiles(quartiles, max_contributions, epsilon)\n",
                "expo_err = np.mean([sample_error(m_expo_quantiles) for _ in range(25)])"
            ]
        },
        {
            "cell_type": "markdown",
            "metadata": {},
            "source": [
                "More candidates will always reduce the error, but will increase the execution time.\n",
                "The algorithm runs in $O(n \\log_2(c))$, where $c$ is the number of candidates. \n",
                "Notice that the exponential mechanism simulations take a while to execute— \n",
                "longer than all simulations for the following mechanisms, \n",
                "even when running the simulations multiple times for different settings of the number of bins:"
            ]
        },
        {
            "cell_type": "code",
            "execution_count": 11,
            "metadata": {},
            "outputs": [
                {
                    "data": {
                        "image/png": "[encoded data removed]",
                        "text/plain": [
                            "<Figure size 640x480 with 1 Axes>"
                        ]
                    },
                    "metadata": {},
                    "output_type": "display_data"
                }
            ],
            "source": [
                "def average_error(num_bins, num_trials):\n",
                "    m_hist_quantiles = make_hist_quantiles(quartiles, max_contributions, epsilon, num_bins)\n",
                "    m_tree_quantiles = make_tree_quantiles(quartiles, b, max_contributions, epsilon, num_bins)\n",
                "\n",
                "    hist_err = np.mean([sample_error(m_hist_quantiles) for _ in range(num_trials)])\n",
                "    tree_err = np.mean([sample_error(m_tree_quantiles) for _ in range(num_trials)])\n",
                "\n",
                "    return num_bins, hist_err, tree_err, expo_err\n",
                "\n",
                "\n",
                "import pandas as pd\n",
                "pd.DataFrame(\n",
                "    [average_error(nb, num_trials=25) for nb in [b, 70, 100, 250, 500, 750, 1_000]],\n",
                "    columns=[\"number of bins\", \"histogram error\", \"tree error\", \"exponential error\"]\n",
                ").plot(0); # type: ignore"
            ]
        },
        {
            "cell_type": "markdown",
            "metadata": {},
            "source": [
                "Of the three algorithms, when only estimating three quantiles, the exponential mechanism performs the best.\n",
                "However, the error will increase in the number of estimated quantiles more rapidly for the exponential mechanism than in the CDF-based mechanisms.\n",
                "\n",
                "The utility of the tree-based algorithm is typically better than the histogram algorithm, \n",
                "and makes the algorithm less sensitive to the number of bins.\n",
                "In these simulations, the heuristic for picking the number of bins (25) was not helpful."
            ]
        },
        {
            "attachments": {},
            "cell_type": "markdown",
            "metadata": {},
            "source": [
                "## Privately Estimating the Distribution\n",
                "\n",
                "Instead of postprocessing the noisy counts into quantiles, they can be left as counts, which can be used to visualize the distribution.\n",
                "\n"
            ]
        },
        {
            "cell_type": "code",
            "execution_count": 12,
            "metadata": {},
            "outputs": [
                {
                    "data": {
                        "image/png": "[encoded data removed]",
                        "text/plain": [
                            "<Figure size 640x480 with 1 Axes>"
                        ]
                    },
                    "metadata": {},
                    "output_type": "display_data"
                }
            ],
            "source": [
                "def make_distribution_counts(edges, scale):\n",
                "    bin_names = [str(i) for i in range(len(edges - 1))]\n",
                "\n",
                "    return (\n",
                "        input_space >>\n",
                "        dp.t.then_find_bin(edges=edges) >> # bin the data\n",
                "        dp.t.then_index(bin_names, \"0\") >> # can be omitted. Just set TIA=\"usize\", categories=list(range(num_bins)) on next line:\n",
                "        dp.t.then_count_by_categories(categories=bin_names, null_category=False) >>\n",
                "        dp.m.then_laplace(scale)\n",
                "    )\n",
                "\n",
                "edges = np.linspace(*bounds, num=50)\n",
                "counts = make_distribution_counts(edges, scale=1.)(data)\n",
                "\n",
                "import matplotlib.pyplot as plt\n",
                "\n",
                "plt.hist(range(len(edges)), edges, weights=counts, density=True)\n",
                "plt.xlabel(\"support\")\n",
                "plt.ylabel(\"noisy density\");"
            ]
        },
        {
            "cell_type": "markdown",
            "metadata": {},
            "source": [
                "While the utility is not as great as the exponential mechanism, \n",
                "the histogram and tree approaches give more information about the distribution of the data."
            ]
        }
    ],
    "metadata": {
        "kernelspec": {
            "display_name": ".venv",
            "language": "python",
            "name": "python3"
        },
        "language_info": {
            "codemirror_mode": {
                "name": "ipython",
                "version": 3
            },
            "file_extension": ".py",
            "mimetype": "text/x-python",
            "name": "python",
            "nbconvert_exporter": "python",
            "pygments_lexer": "ipython3",
            "version": "3.13.2"
        },
        "orig_nbformat": 4
    },
    "nbformat": 4,
    "nbformat_minor": 2
}
