{
 "cells": [
  {
   "attachments": {},
   "cell_type": "markdown",
   "metadata": {},
   "source": [
    "# Aggregation: Sum\n",
    "\n",
    "This notebook is a deep-dive on transformations for computing the sum with bounded stability.\n",
    "\n",
    "---\n",
    "Any constructors that have not completed the proof-writing and vetting process may still be accessed if you opt-in to \"contrib\".\n",
    "Please contact us if you are interested in proof-writing. Thank you!"
   ]
  },
  {
   "cell_type": "code",
   "execution_count": 1,
   "metadata": {
    "execution": {
     "iopub.execute_input": "2025-06-04T18:19:01.851670Z",
     "iopub.status.busy": "2025-06-04T18:19:01.851331Z",
     "iopub.status.idle": "2025-06-04T18:19:02.502355Z",
     "shell.execute_reply": "2025-06-04T18:19:02.502076Z"
    }
   },
   "outputs": [],
   "source": [
    "import opendp.prelude as dp\n",
    "dp.enable_features(\"contrib\")"
   ]
  },
  {
   "attachments": {},
   "cell_type": "markdown",
   "metadata": {},
   "source": [
    "## Known/Unknown Dataset Size\n",
    "Constructing a sum transformation is easy!\n",
    "First, describe the metric space you are working in. \n",
    "This can also be filled in from the previous transformation."
   ]
  },
  {
   "cell_type": "code",
   "execution_count": 2,
   "metadata": {
    "execution": {
     "iopub.execute_input": "2025-06-04T18:19:02.503932Z",
     "iopub.status.busy": "2025-06-04T18:19:02.503810Z",
     "iopub.status.idle": "2025-06-04T18:19:02.507107Z",
     "shell.execute_reply": "2025-06-04T18:19:02.506886Z"
    }
   },
   "outputs": [],
   "source": [
    "# the space of all integer vectors,\n",
    "# where distances between vectors are measured by the symmetric distance\n",
    "input_space = dp.vector_domain(dp.atom_domain(bounds=(0, 10))), dp.symmetric_distance()"
   ]
  },
  {
   "attachments": {},
   "cell_type": "markdown",
   "metadata": {},
   "source": [
    "Then construct the sum transformation:"
   ]
  },
  {
   "cell_type": "code",
   "execution_count": 3,
   "metadata": {
    "execution": {
     "iopub.execute_input": "2025-06-04T18:19:02.508382Z",
     "iopub.status.busy": "2025-06-04T18:19:02.508297Z",
     "iopub.status.idle": "2025-06-04T18:19:02.511007Z",
     "shell.execute_reply": "2025-06-04T18:19:02.510802Z"
    }
   },
   "outputs": [],
   "source": [
    "\n",
    "sum_trans = input_space >> dp.t.then_sum()\n",
    "\n",
    "# compute the sum\n",
    "assert sum_trans([1, 2, 4]) == 7   # 1 + 2 + 4\n",
    "\n",
    "# compute the sensitivity\n",
    "assert sum_trans.map(d_in=1) == 10 # d_in * max(|L|, U)"
   ]
  },
  {
   "attachments": {},
   "cell_type": "markdown",
   "metadata": {},
   "source": [
    "In the integer case, since the sensitivity is scaled by $max(|L|, U)$, the sensitivity won't increase if you were to widen $L$ to $min(L, -U)$, or widen $U$ to $max(-L, U)$.\n",
    "This doesn't hold for floating-point datasets with unknown size, for reasons we'll cover in the next section.\n",
    "\n",
    "If the dataset size is public information, then restrict the input space:"
   ]
  },
  {
   "cell_type": "code",
   "execution_count": 4,
   "metadata": {
    "execution": {
     "iopub.execute_input": "2025-06-04T18:19:02.512182Z",
     "iopub.status.busy": "2025-06-04T18:19:02.512107Z",
     "iopub.status.idle": "2025-06-04T18:19:02.514482Z",
     "shell.execute_reply": "2025-06-04T18:19:02.514290Z"
    }
   },
   "outputs": [],
   "source": [
    "# the space of all length-3 integer vectors,\n",
    "# where distances between vectors are measured by the symmetric distance\n",
    "input_space = dp.vector_domain(dp.atom_domain(bounds=(-10, 10)), size=3), dp.symmetric_distance()\n",
    "sum_trans = input_space >> dp.t.then_sum()\n",
    "\n",
    "# compute the sum\n",
    "assert sum_trans([1, 2, 4]) == 7   # 1 + 2 + 4\n",
    "\n",
    "# compute the sensitivity\n",
    "assert sum_trans.map(d_in=2) == 20 # (d_in // 2) * (U - L)"
   ]
  },
  {
   "attachments": {},
   "cell_type": "markdown",
   "metadata": {},
   "source": [
    "Since the sensitivity is scaled by $U - L$, the sensitivity won't increase if you shift both bounds by the same fixed constant. Therefore, the sensitivity remains small in situations where $L$ and $U$ share the same sign and are large in magnitude.\n",
    "\n",
    "_All_ sum transformations expect a `d_in` in terms of the `SymmetricDistance`.\n",
    "However, when the dataset size is known, we are operating in the bounded-DP regime where adjacent datasets have the same size.\n",
    "This means it takes both an addition and a removal to change any single record, to reach any adjacent dataset.\n",
    "This results in a stair-step relationship between $d_{in}$ and $d_{out}$:"
   ]
  },
  {
   "cell_type": "code",
   "execution_count": 5,
   "metadata": {
    "execution": {
     "iopub.execute_input": "2025-06-04T18:19:02.515658Z",
     "iopub.status.busy": "2025-06-04T18:19:02.515582Z",
     "iopub.status.idle": "2025-06-04T18:19:02.833312Z",
     "shell.execute_reply": "2025-06-04T18:19:02.833047Z"
    }
   },
   "outputs": [
    {
     "data": {
      "image/png": "[encoded data removed]",
      "text/plain": [
       "<Figure size 640x480 with 1 Axes>"
      ]
     },
     "metadata": {},
     "output_type": "display_data"
    }
   ],
   "source": [
    "import pandas as pd\n",
    "pd.DataFrame(\n",
    "    [(d_in, sum_trans.map(d_in)) for d_in in range(10)], \n",
    "    columns=[\"max contributions (symmetric distance)\", \"sensitivity (absolute distance)\"]\n",
    ").plot.bar(0, title=\"sized_bounded_sum: $d_{in}$ vs. $d_{out}$\", width=0.9);"
   ]
  },
  {
   "attachments": {},
   "cell_type": "markdown",
   "metadata": {},
   "source": [
    "Intuitively, if we say the symmetric distance between adjacent datasets is at most one, and all adjacent datasets differ by an even number of additions and removals, then the sensitivity is zero."
   ]
  },
  {
   "attachments": {},
   "cell_type": "markdown",
   "metadata": {},
   "source": [
    "## Floating-Point\n",
    "\n",
    "Floating-point addition is not closed, that is, \n",
    "adding two floating point numbers doesn't necessarily result in another floating-point number.\n",
    "To resolve this, the IEEE-754 floating-point standard requires a rounding to the nearest floating-point number.\n",
    "Unfortunately, this influences the sensitivity of the summation.\n",
    "\n",
    "In the OpenDP Library, stability maps account for the increased sensitivity due to floating-point rounding in intermediate operations by adding an additional constant term that scales with the dataset size."
   ]
  },
  {
   "cell_type": "code",
   "execution_count": 6,
   "metadata": {
    "execution": {
     "iopub.execute_input": "2025-06-04T18:19:02.851248Z",
     "iopub.status.busy": "2025-06-04T18:19:02.851062Z",
     "iopub.status.idle": "2025-06-04T18:19:02.853745Z",
     "shell.execute_reply": "2025-06-04T18:19:02.853528Z"
    }
   },
   "outputs": [
    {
     "name": "stdout",
     "output_type": "stream",
     "text": [
      "20.00000000004426\n"
     ]
    }
   ],
   "source": [
    "input_space = dp.vector_domain(dp.atom_domain(bounds=(-10., 10.)), size=1000), dp.symmetric_distance()\n",
    "sum_trans = input_space >> dp.t.then_sum()\n",
    "\n",
    "# The sensitivity is now slightly larger than 20 because of the floating-point constant term\n",
    "print(sum_trans.map(d_in=2))"
   ]
  },
  {
   "attachments": {},
   "cell_type": "markdown",
   "metadata": {},
   "source": [
    "Unfortunately, the worst-case sensitivity analysis hits a snag when the dataset size is unknown, as the rounding error becomes unbounded.\n",
    "\n",
    "To keep the sensitivity finite, a dataset truncation operation is applied first:\n",
    "The dataset size is reduced to no greater than $2^{20}$ elements (a little over 1 million records), if necessary, via a simple random sample.\n",
    "\n",
    "The dataset truncation also causes a regression in the sensitivity, as it it is now scaled by $max(|L|, U, U - L)$. \n",
    "This accounts for the case where an adjacent dataset with one additional row needs to drop a random row to preserve the dataset size.\n",
    "In practice, the worst-case penalty on the sensitivity is when $L = -U$. "
   ]
  },
  {
   "cell_type": "code",
   "execution_count": 7,
   "metadata": {
    "execution": {
     "iopub.execute_input": "2025-06-04T18:19:02.855045Z",
     "iopub.status.busy": "2025-06-04T18:19:02.854941Z",
     "iopub.status.idle": "2025-06-04T18:19:02.857236Z",
     "shell.execute_reply": "2025-06-04T18:19:02.857021Z"
    }
   },
   "outputs": [
    {
     "name": "stdout",
     "output_type": "stream",
     "text": [
      "20.000000093132268\n"
     ]
    }
   ],
   "source": [
    "# show the worst-case degradation\n",
    "input_space = dp.vector_domain(dp.atom_domain(bounds=(-10., 10.))), dp.symmetric_distance()\n",
    "sum_trans = input_space >> dp.t.then_sum()\n",
    "\n",
    "# the sensitivity is now scaled by max(|L|, U, U - L) = max(|-10.|, 10., 10. - -10.) = 20.\n",
    "print(sum_trans.map(d_in=1))"
   ]
  },
  {
   "attachments": {},
   "cell_type": "markdown",
   "metadata": {},
   "source": [
    "If the bounds share the same sign, then the sensitivity remains unchanged, save for the constant term to account for float rounding."
   ]
  },
  {
   "cell_type": "code",
   "execution_count": 8,
   "metadata": {
    "execution": {
     "iopub.execute_input": "2025-06-04T18:19:02.858394Z",
     "iopub.status.busy": "2025-06-04T18:19:02.858308Z",
     "iopub.status.idle": "2025-06-04T18:19:02.860377Z",
     "shell.execute_reply": "2025-06-04T18:19:02.860172Z"
    }
   },
   "outputs": [
    {
     "name": "stdout",
     "output_type": "stream",
     "text": [
      "10.000000093132268\n"
     ]
    }
   ],
   "source": [
    "# if the bounds share sign, the sensitivity is unaffected\n",
    "input_space = dp.vector_domain(dp.atom_domain(bounds=(-10., 0.))), dp.symmetric_distance()\n",
    "sum_trans = input_space >> dp.t.then_sum()\n",
    "\n",
    "# the sensitivity is now scaled by max(|L|, U, U - L) = max(|-10.|, 0., 0. - -10.) = 10.\n",
    "print(sum_trans.map(d_in=1))"
   ]
  },
  {
   "attachments": {},
   "cell_type": "markdown",
   "metadata": {},
   "source": [
    "## Specialized Floating-Point Constructors\n",
    "\n",
    "In the previous section an arbitrary limit of ($2^{20}$) on dataset size was baked into the constructor,\n",
    "to help simplify the library interface.\n",
    "This limit be manipulated by calling the appropriate constructor:"
   ]
  },
  {
   "cell_type": "code",
   "execution_count": 9,
   "metadata": {
    "execution": {
     "iopub.execute_input": "2025-06-04T18:19:02.861525Z",
     "iopub.status.busy": "2025-06-04T18:19:02.861439Z",
     "iopub.status.idle": "2025-06-04T18:19:02.863785Z",
     "shell.execute_reply": "2025-06-04T18:19:02.863585Z"
    }
   },
   "outputs": [
    {
     "data": {
      "text/plain": [
       "10.00000000000295"
      ]
     },
     "execution_count": 9,
     "metadata": {},
     "output_type": "execute_result"
    }
   ],
   "source": [
    "dp.t.make_bounded_float_checked_sum(size_limit=100, bounds=(-10., 0.)).map(d_in=1)"
   ]
  },
  {
   "attachments": {},
   "cell_type": "markdown",
   "metadata": {},
   "source": [
    "The size of the relaxation term varies according to the dataset size, magnitude of the bounds, summation algorithm and floating-point bit depth.\n",
    "The following visualization shows the effect of dataset size and choice of algorithm.\n",
    "\n",
    "To isolate the relaxation term for this visualization, the sensitivity is calculated for the case when datasets differ by zero additions or removals.\n",
    "A dataset with the same rows but a different row ordering will result in a different answer for the same sum query."
   ]
  },
  {
   "cell_type": "code",
   "execution_count": 10,
   "metadata": {
    "execution": {
     "iopub.execute_input": "2025-06-04T18:19:02.865011Z",
     "iopub.status.busy": "2025-06-04T18:19:02.864925Z",
     "iopub.status.idle": "2025-06-04T18:19:03.088297Z",
     "shell.execute_reply": "2025-06-04T18:19:03.088055Z"
    }
   },
   "outputs": [
    {
     "data": {
      "image/png": "[encoded data removed]",
      "text/plain": [
       "<Figure size 640x480 with 1 Axes>"
      ]
     },
     "metadata": {},
     "output_type": "display_data"
    }
   ],
   "source": [
    "bounds = (0., 10.)\n",
    "sizes = list(range(1, 10_000_000, 10_000))\n",
    "\n",
    "pd.DataFrame({\n",
    "    \"dataset size\": sizes,\n",
    "    \"sequential\": [dp.t.make_sized_bounded_float_checked_sum(size, bounds, S=\"Sequential<f64>\").map(0) for size in sizes],\n",
    "    \"pairwise\": [dp.t.make_sized_bounded_float_checked_sum(size, bounds, S=\"Pairwise<f64>\").map(0) for size in sizes],\n",
    "}).plot(0, ylabel=\"sensitivity\"); # type: ignore"
   ]
  },
  {
   "attachments": {},
   "cell_type": "markdown",
   "metadata": {},
   "source": [
    "The increase to sensitivity when using a sequential summation algorithm grows on the order of $O(n^2)$, while the pairwise algorithm grows on the order of $O(n \\log_2(n))$.\n",
    "\n",
    "OpenDP defaults to the pairwise algorithm, but the ability to configure the algorithm can be useful to calculate the sensitivity in situations where you don't have control over how the summation is computed.\n",
    "For example, floating-point aggregations in SQLite and MySQL both exhibit increases in sensitivity akin to the sequential algorithm.\n",
    "\n",
    "Beware, these relaxation terms grow far more quickly when the data type is adjusted to single-precision floats (`f32`)!\n",
    "\n",
    "\n",
    "\n",
    "\n"
   ]
  },
  {
   "attachments": {},
   "cell_type": "markdown",
   "metadata": {},
   "source": [
    "## Specialized Integer Constructors\n",
    "\n",
    "Just as in the case for floating-point types, there are specialized constructors for summation over integral types.\n",
    "\n",
    "The integral transformations from `make_sum` use properties of the bounds, data types and input metric to determine which strategy to use to compute the sum in a way that protects the sensitivity from the effects of numerical overflow.\n",
    "\n",
    "The following strategies are ordered by computational efficiency:\n",
    "\n",
    "* ``checked`` can be used when the dataset size multiplied by the bounds doesn't overflow.\n",
    "* ``monotonic`` can be used when the bounds share the same sign.\n",
    "* ``ordered`` can be used when the input metric is ``InsertDeleteDistance``.\n",
    "* ``split`` separately sums positive and negative numbers, and then adds these sums together.\n",
    "\n",
    "``monotonic``, ``ordered`` and ``split`` are implemented with saturation arithmetic. \n",
    "``checked``, ``monotonic`` and ``split`` protect against underestimating sensitivity by preserving associativity.\n",
    "\n",
    "These each have their own uses.\n",
    "For example, if the dataset is considered ordered-- that is, the dataset distance metric is sensitive to changes in row ordering (`InsertDeleteDistance`), then neighboring datasets share the same row ordering, and it becomes safe to use arithmetic that saturates at the minimum and maximum representable values of the data type."
   ]
  },
  {
   "cell_type": "code",
   "execution_count": 11,
   "metadata": {
    "execution": {
     "iopub.execute_input": "2025-06-04T18:19:03.089585Z",
     "iopub.status.busy": "2025-06-04T18:19:03.089506Z",
     "iopub.status.idle": "2025-06-04T18:19:03.092503Z",
     "shell.execute_reply": "2025-06-04T18:19:03.092296Z"
    }
   },
   "outputs": [
    {
     "data": {
      "text/plain": [
       "Transformation(\n",
       "    input_domain   = VectorDomain(AtomDomain(bounds=[1, 20], T=i32)),\n",
       "    output_domain  = AtomDomain(T=i32),\n",
       "    input_metric   = InsertDeleteDistance(),\n",
       "    output_metric  = AbsoluteDistance(i32))"
      ]
     },
     "execution_count": 11,
     "metadata": {},
     "output_type": "execute_result"
    }
   ],
   "source": [
    "# because of the way this constructor is called...\n",
    "dp.t.make_sum(dp.vector_domain(dp.atom_domain(bounds=(1, 20))), dp.insert_delete_distance())\n",
    "# ...it internally uses this constructor to build the transformation:\n",
    "dp.t.make_bounded_int_ordered_sum(bounds=(1, 20))"
   ]
  },
  {
   "attachments": {},
   "cell_type": "markdown",
   "metadata": {},
   "source": [
    "If you are trying to model a computation performed outside of OpenDP, you may not have access to saturation arithmetic.\n",
    "If this is the case, you can use `make_sized_bounded_int_checked_sum` to perform an overflow check at the moment the constructor is called."
   ]
  },
  {
   "cell_type": "code",
   "execution_count": 12,
   "metadata": {
    "execution": {
     "iopub.execute_input": "2025-06-04T18:19:03.093686Z",
     "iopub.status.busy": "2025-06-04T18:19:03.093607Z",
     "iopub.status.idle": "2025-06-04T18:19:03.095838Z",
     "shell.execute_reply": "2025-06-04T18:19:03.095621Z"
    }
   },
   "outputs": [
    {
     "data": {
      "text/plain": [
       "Transformation(\n",
       "    input_domain   = VectorDomain(AtomDomain(bounds=[-2, 4], T=i32), size=1234),\n",
       "    output_domain  = AtomDomain(T=i32),\n",
       "    input_metric   = SymmetricDistance(),\n",
       "    output_metric  = AbsoluteDistance(i32))"
      ]
     },
     "execution_count": 12,
     "metadata": {},
     "output_type": "execute_result"
    }
   ],
   "source": [
    "# Configure the type argument \"T\" to determine the necessary bit depth to avoid overflow\n",
    "dp.t.make_sized_bounded_int_checked_sum(1234, (-2, 4), T=\"i32\")"
   ]
  }
 ],
 "metadata": {
  "kernelspec": {
   "display_name": "psi",
   "language": "python",
   "name": "python3"
  },
  "language_info": {
   "codemirror_mode": {
    "name": "ipython",
    "version": 3
   },
   "file_extension": ".py",
   "mimetype": "text/x-python",
   "name": "python",
   "nbconvert_exporter": "python",
   "pygments_lexer": "ipython3",
   "version": "3.13.1"
  },
  "vscode": {
   "interpreter": {
    "hash": "3220da548452ac41acb293d0d6efded0f046fab635503eb911c05f743e930f34"
   }
  }
 },
 "nbformat": 4,
 "nbformat_minor": 2
}
