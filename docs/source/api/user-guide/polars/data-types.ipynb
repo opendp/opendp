{
 "cells": [
  {
   "cell_type": "markdown",
   "metadata": {},
   "source": [
    "# Data Types\n",
    "\n",
    "A column/series in Polars contains contiguous data backed by Arrow arrays,\n",
    "as well as a validity bitmap to indicate null values.\n",
    "This means all data types have a means to represent nullity.\n",
    "\n",
    "OpenDP assumes there can be nulls in all data, `.fill_null` can be used to remove them,\n",
    "and the lack of nulls is a requirement for certain aggregations."
   ]
  },
  {
   "cell_type": "code",
   "execution_count": 1,
   "metadata": {},
   "outputs": [],
   "source": [
    "import polars as pl\n",
    "import opendp.prelude as dp\n",
    "\n",
    "dp.enable_features(\"contrib\")"
   ]
  },
  {
   "cell_type": "markdown",
   "metadata": {},
   "source": [
    "## Boolean\n",
    "The simplest data type, with no additional domain descriptors.\n",
    "\n",
    "## Integer\n",
    "\n",
    "OpenDP Polars supports `UInt32`, `UInt64`, `Int8`, `Int16`, `Int32` and `Int64` integer data types \n",
    "(excluding `UInt8`, `UInt16`).\n",
    "\n",
    "OpenDP tracks lower and upper bounds of numeric data types. \n",
    "These bounds can be acquired from `.clip` or set in the input domain (although this is not recommended),\n",
    "can be lost upon further data processing,\n",
    "and are required to use certain aggregations.\n",
    "\n",
    "## Float\n",
    "OpenDP Polars supports `Float32` and `Float64` float data types.\n",
    "\n",
    "In addition to bounds, OpenDP also tracks the potential presence of NaN values.\n",
    "OpenDP assumes there can be NaNs in float data, `.fill_nan` can be used to remove them,\n",
    "and the lack of NaNs is a requirement for certain aggregations.\n",
    "\n",
    "This means the float aggregations typically require\n",
    "preprocessing by both `.fill_null` and `.fill_nan` to impute both nulls and NaNs.\n",
    "\n",
    "## String\n",
    "Strings have no domain descriptors, \n",
    "but also take up the most space in memory and are the slowest to work with.\n"
   ]
  },
  {
   "cell_type": "markdown",
   "metadata": {},
   "source": [
    "\n",
    "## Categorical\n",
    "\n",
    "Categorical data appears to be string data, \n",
    "but its underlying data representation is `pl.UInt32` indices into an array of string labels.\n",
    "This results in much lower memory usage and a faster runtime.\n",
    "These integer indices can be retrieved via the `.to_physical` expression.\n",
    "\n",
    "Unfortunately, there are two limitations to keep in mind:\n",
    "\n",
    "* OpenDP forbids expressions that may add or remove categories,\n",
    "because this triggers a data-dependent [categorical remapping warning](https://docs.pola.rs/api/python/stable/reference/api/polars.exceptions.CategoricalRemappingWarning.html).\n",
    "Side-effects like this do not satisfy differential privacy. \n",
    "This means OpenDP rejects the use of categorical data in, for example, `.fill_null` and binary expressions.\n",
    "* The encoding of categories typically assigns indices according to the order of records in the data.\n",
    "Since revealing row ordering does not satisfy differential privacy, \n",
    "OpenDP only allows categorical group-by columns when the encoding is data-independent.\n",
    "The `.cut` expression, for example, has a data-independent encoding.\n",
    "\n",
    "The following code shows the latter limitation in practice:"
   ]
  },
  {
   "cell_type": "code",
   "execution_count": 2,
   "metadata": {},
   "outputs": [],
   "source": [
    "context_categorical = dp.Context.compositor(\n",
    "    data=pl.LazyFrame([pl.Series(\"categorical\", [\"A\", \"B\", \"C\"] * 1000, dtype=pl.Categorical)]),\n",
    "    privacy_unit=dp.unit_of(contributions=1),\n",
    "    privacy_loss=dp.loss_of(epsilon=1.0, delta=1e-7),\n",
    "    split_evenly_over=1,\n",
    ")\n",
    "\n",
    "query = (\n",
    "    context_categorical.query()\n",
    "    .group_by(\"categorical\")\n",
    "    .agg(dp.len())\n",
    ")\n",
    "try:\n",
    "    query.release()\n",
    "    assert False, \"unreachable, should have raised\"\n",
    "except dp.OpenDPException as err:\n",
    "    # the error we would expect to get:\n",
    "    assert \"Categories are data-dependent\" in str(err)"
   ]
  },
  {
   "cell_type": "markdown",
   "metadata": {},
   "source": [
    "## Temporal\n",
    "\n",
    "OpenDP supports three kinds of temporal data types: `pl.Date`, `pl.Datetime` and `pl.Time`.\n",
    "Datetimes may also store time zone information, which are considered part of the data domain \n",
    "(all datetimes in a column must share the same time zone), \n",
    "and may internally represent time units in terms of nanoseconds, milliseconds or microseconds."
   ]
  },
  {
   "cell_type": "code",
   "execution_count": 3,
   "metadata": {},
   "outputs": [
    {
     "data": {
      "text/html": [
       "<div><style>\n",
       ".dataframe > thead > tr,\n",
       ".dataframe > tbody > tr {\n",
       "  text-align: right;\n",
       "  white-space: pre-wrap;\n",
       "}\n",
       "</style>\n",
       "<small>shape: (3, 2)</small><table border=\"1\" class=\"dataframe\"><thead><tr><th>time</th><th>len</th></tr><tr><td>time</td><td>u32</td></tr></thead><tbody><tr><td>12:30:00</td><td>1003</td></tr><tr><td>01:00:00</td><td>1000</td></tr><tr><td>23:10:00</td><td>1000</td></tr></tbody></table></div>"
      ],
      "text/plain": [
       "shape: (3, 2)\n",
       "┌──────────┬──────┐\n",
       "│ time     ┆ len  │\n",
       "│ ---      ┆ ---  │\n",
       "│ time     ┆ u32  │\n",
       "╞══════════╪══════╡\n",
       "│ 12:30:00 ┆ 1003 │\n",
       "│ 01:00:00 ┆ 1000 │\n",
       "│ 23:10:00 ┆ 1000 │\n",
       "└──────────┴──────┘"
      ]
     },
     "execution_count": 3,
     "metadata": {},
     "output_type": "execute_result"
    }
   ],
   "source": [
    "from datetime import time, datetime, date\n",
    "\n",
    "# data ingest with different kinds of temporal data\n",
    "context = dp.Context.compositor(\n",
    "    data=pl.LazyFrame({\n",
    "        \"time\":     [time(12, 30), time(1, 0), time(23, 10)] * 1000,\n",
    "        \"datetime\": [datetime(2000, 1, 1, hour=12), datetime(2020, 1, 1, hour=12)] * 1500,\n",
    "        \"date\":     [date(2000, 1, 1), date(2010, 1, 1), date(2020, 1, 1)] * 1000,\n",
    "    }),\n",
    "    privacy_unit=dp.unit_of(contributions=1),\n",
    "    privacy_loss=dp.loss_of(epsilon=1.0, delta=1e-7),\n",
    "    split_evenly_over=1,\n",
    ")\n",
    "\n",
    "# releasing a private histogram with common times\n",
    "query = context.query().group_by(\"time\").agg(dp.len())\n",
    "query.release().collect()"
   ]
  },
  {
   "cell_type": "markdown",
   "metadata": {},
   "source": [
    "Refer to the [expression documentation](expressions/index.rst) for ways to parse strings into temporal data\n",
    "and manipulate temporal data with methods in the `.dt` module."
   ]
  }
 ],
 "metadata": {
  "kernelspec": {
   "display_name": ".venv",
   "language": "python",
   "name": "python3"
  },
  "language_info": {
   "codemirror_mode": {
    "name": "ipython",
    "version": 3
   },
   "file_extension": ".py",
   "mimetype": "text/x-python",
   "name": "python",
   "nbconvert_exporter": "python",
   "pygments_lexer": "ipython3",
   "version": "3.13.0"
  }
 },
 "nbformat": 4,
 "nbformat_minor": 2
}
