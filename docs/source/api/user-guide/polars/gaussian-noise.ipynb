{
 "cells": [
  {
   "cell_type": "markdown",
   "metadata": {},
   "source": [
    "# Gaussian Noise\n",
    "\n",
    "Gaussian noise has several benefits over Laplace noise, \n",
    "and is commonly used for differentially private data releases.\n",
    "OpenDP automatically chooses the noise distribution based on the definition of privacy.\n",
    "\n",
    "| Definition | Distribution |\n",
    "|------------|--------------|\n",
    "| Pure-DP    | Laplace      |\n",
    "| zCDP       | Gaussian     |\n",
    "\n",
    "While the documentation is generally written under pure-DP (or approximate-DP),\n",
    "you can easily switch to zCDP (or approximate-zCDP) by simply changing the privacy loss:\n",
    "\n",
    "`dp.loss_of(epsilon=1.0)` → `dp.loss_of(rho=0.1)`\n",
    "\n",
    "The following code repeats the same initial release in the [Essential Statistics](../../../getting-started/tabular-data/essential-statistics.ipynb) documentation on the Labour Force Survey, \n",
    "but under zero-concentrated differential privacy, resulting in Gaussian noise perturbation instead of Laplace noise perturbation."
   ]
  },
  {
   "cell_type": "code",
   "execution_count": 1,
   "metadata": {},
   "outputs": [
    {
     "data": {
      "text/html": [
       "<div><style>\n",
       ".dataframe > thead > tr,\n",
       ".dataframe > tbody > tr {\n",
       "  text-align: right;\n",
       "  white-space: pre-wrap;\n",
       "}\n",
       "</style>\n",
       "<small>shape: (1, 5)</small><table border=\"1\" class=\"dataframe\"><thead><tr><th>column</th><th>aggregate</th><th>distribution</th><th>scale</th><th>accuracy</th></tr><tr><td>str</td><td>str</td><td>str</td><td>f64</td><td>f64</td></tr></thead><tbody><tr><td>&quot;len&quot;</td><td>&quot;Frame Length&quot;</td><td>&quot;Integer Gaussian&quot;</td><td>180.0</td><td>354.0</td></tr></tbody></table></div>"
      ],
      "text/plain": [
       "shape: (1, 5)\n",
       "┌────────┬──────────────┬──────────────────┬───────┬──────────┐\n",
       "│ column ┆ aggregate    ┆ distribution     ┆ scale ┆ accuracy │\n",
       "│ ---    ┆ ---          ┆ ---              ┆ ---   ┆ ---      │\n",
       "│ str    ┆ str          ┆ str              ┆ f64   ┆ f64      │\n",
       "╞════════╪══════════════╪══════════════════╪═══════╪══════════╡\n",
       "│ len    ┆ Frame Length ┆ Integer Gaussian ┆ 180.0 ┆ 354.0    │\n",
       "└────────┴──────────────┴──────────────────┴───────┴──────────┘"
      ]
     },
     "execution_count": 1,
     "metadata": {},
     "output_type": "execute_result"
    }
   ],
   "source": [
    "import polars as pl \n",
    "import opendp.prelude as dp\n",
    "\n",
    "dp.enable_features(\"contrib\")\n",
    "\n",
    "context = dp.Context.compositor(\n",
    "    data=pl.scan_csv(dp.examples.get_france_lfs_path(), ignore_errors=True),\n",
    "    privacy_unit=dp.unit_of(contributions=36),\n",
    "    privacy_loss=dp.loss_of(rho=0.1),\n",
    "    split_evenly_over=5,\n",
    ")\n",
    "\n",
    "query_num_responses = context.query().select(dp.len())\n",
    "query_num_responses.summarize(alpha=0.05)"
   ]
  },
  {
   "cell_type": "markdown",
   "metadata": {},
   "source": [
    "Any other code example will switch and work in the same way \n",
    "(so long as the noise distribution isn't explicitly specified in the query)."
   ]
  },
  {
   "cell_type": "markdown",
   "metadata": {},
   "source": [
    "## Distribution Comparison\n",
    "\n",
    "The Laplace and Gaussian mechanisms are both commonly used in differential privacy.\n",
    "\n",
    "* Adding Gaussian noise can simplify further statistical analysis of the release that relies on a normality assumption.\n",
    "* The Gaussian mechanism cannot satisfy pure differential privacy, instead satisfying the weaker definition of approximate differential privacy.\n",
    "* The Gaussian mechanism affords greater utility (adds less overall noise) for a similar privacy guarantee when answering many queries.\n",
    "* The Laplace mechanism adds noise proportional to sensitivity based on the $L_1$ distance, whereas the Gaussian mechanism adds noise proportional to sensitivity based on the $L_2$ distance.\n",
    "\n",
    "Lets take a closer look at how the difference in the sensitivity's metric can translate to significantly less noise."
   ]
  },
  {
   "cell_type": "markdown",
   "metadata": {},
   "source": [
    "## Sensitivity\n",
    "\n",
    "The $L_2$ distance (euclidean distance) is not as sensitive to small changes \n",
    "along many different axes as the $L_1$ distance (taxicab distance) is. \n",
    "This makes intuitive sense: when traveling between two corners of a unit square, \n",
    "the taxicab distance is $2$, whereas the distance as the crow flies is just $\\sqrt{2}$.\n",
    "Better yet, as the dimensionality $d$ increases,\n",
    "the $L_2$ distance between opposite corners grows more slowly ($d$ vs $\\sqrt{d}$).\n",
    "\n",
    "Since the amount of noise added is proportional to the worst-case distance (to hide individual effects),\n",
    "a mechanism that can calibrate its noise according to the $L_2$ distance is very attractive.\n",
    "In the context of differentially private marginal queries, as is common in OpenDP Polars,\n",
    "the greatest gains improvements occur when an individual has very small influence over a large number of answers."
   ]
  },
  {
   "cell_type": "markdown",
   "metadata": {},
   "source": [
    "## Max Partition Contributions\n",
    "\n",
    "In the Labour Force survey, one record is collected from each respondent on a quarterly cadence.\n",
    "This means an individual has very little influence on the data in any one quarter;\n",
    "in the worst case, they can only ever contribute one record per quarter.\n",
    "With this knowledge the amount of noise necessary \n",
    "to release time-series queries at a given privacy loss under zCDP becomes much smaller."
   ]
  },
  {
   "cell_type": "code",
   "execution_count": 2,
   "metadata": {},
   "outputs": [
    {
     "data": {
      "text/html": [
       "<div><style>\n",
       ".dataframe > thead > tr,\n",
       ".dataframe > tbody > tr {\n",
       "  text-align: right;\n",
       "  white-space: pre-wrap;\n",
       "}\n",
       "</style>\n",
       "<small>shape: (1, 6)</small><table border=\"1\" class=\"dataframe\"><thead><tr><th>column</th><th>aggregate</th><th>distribution</th><th>scale</th><th>accuracy</th><th>threshold</th></tr><tr><td>str</td><td>str</td><td>str</td><td>f64</td><td>f64</td><td>u32</td></tr></thead><tbody><tr><td>&quot;len&quot;</td><td>&quot;Frame Length&quot;</td><td>&quot;Integer Gaussian&quot;</td><td>30.0</td><td>60.0</td><td>184</td></tr></tbody></table></div>"
      ],
      "text/plain": [
       "shape: (1, 6)\n",
       "┌────────┬──────────────┬──────────────────┬───────┬──────────┬───────────┐\n",
       "│ column ┆ aggregate    ┆ distribution     ┆ scale ┆ accuracy ┆ threshold │\n",
       "│ ---    ┆ ---          ┆ ---              ┆ ---   ┆ ---      ┆ ---       │\n",
       "│ str    ┆ str          ┆ str              ┆ f64   ┆ f64      ┆ u32       │\n",
       "╞════════╪══════════════╪══════════════════╪═══════╪══════════╪═══════════╡\n",
       "│ len    ┆ Frame Length ┆ Integer Gaussian ┆ 30.0  ┆ 60.0     ┆ 184       │\n",
       "└────────┴──────────────┴──────────────────┴───────┴──────────┴───────────┘"
      ]
     },
     "execution_count": 2,
     "metadata": {},
     "output_type": "execute_result"
    }
   ],
   "source": [
    "context_margin = dp.Context.compositor(\n",
    "    data=pl.scan_csv(dp.examples.get_france_lfs_path(), ignore_errors=True),\n",
    "    privacy_unit=dp.unit_of(contributions=36),\n",
    "    privacy_loss=dp.loss_of(rho=0.1, delta=1e-7),\n",
    "    split_evenly_over=5,\n",
    "    margins=[\n",
    "        # tells OpenDP that individuals contribute at most \n",
    "        # one record to each year-quarter\n",
    "        dp.polars.Margin(\n",
    "            by=[\"YEAR\", \"QUARTER\"],\n",
    "            max_partition_contributions=1\n",
    "        )\n",
    "    ],\n",
    ")\n",
    "\n",
    "query_num_responses = context_margin.query().group_by(\"YEAR\", \"QUARTER\").agg(dp.len())\n",
    "query_num_responses.summarize(alpha=0.05)"
   ]
  },
  {
   "cell_type": "markdown",
   "metadata": {},
   "source": [
    "Now contrast this to the same query, but when the library isn't made aware of this data descriptor."
   ]
  },
  {
   "cell_type": "code",
   "execution_count": 3,
   "metadata": {},
   "outputs": [
    {
     "data": {
      "text/html": [
       "<div><style>\n",
       ".dataframe > thead > tr,\n",
       ".dataframe > tbody > tr {\n",
       "  text-align: right;\n",
       "  white-space: pre-wrap;\n",
       "}\n",
       "</style>\n",
       "<small>shape: (1, 6)</small><table border=\"1\" class=\"dataframe\"><thead><tr><th>column</th><th>aggregate</th><th>distribution</th><th>scale</th><th>accuracy</th><th>threshold</th></tr><tr><td>str</td><td>str</td><td>str</td><td>f64</td><td>f64</td><td>u32</td></tr></thead><tbody><tr><td>&quot;len&quot;</td><td>&quot;Frame Length&quot;</td><td>&quot;Integer Gaussian&quot;</td><td>180.0</td><td>354.0</td><td>1133</td></tr></tbody></table></div>"
      ],
      "text/plain": [
       "shape: (1, 6)\n",
       "┌────────┬──────────────┬──────────────────┬───────┬──────────┬───────────┐\n",
       "│ column ┆ aggregate    ┆ distribution     ┆ scale ┆ accuracy ┆ threshold │\n",
       "│ ---    ┆ ---          ┆ ---              ┆ ---   ┆ ---      ┆ ---       │\n",
       "│ str    ┆ str          ┆ str              ┆ f64   ┆ f64      ┆ u32       │\n",
       "╞════════╪══════════════╪══════════════════╪═══════╪══════════╪═══════════╡\n",
       "│ len    ┆ Frame Length ┆ Integer Gaussian ┆ 180.0 ┆ 354.0    ┆ 1133      │\n",
       "└────────┴──────────────┴──────────────────┴───────┴──────────┴───────────┘"
      ]
     },
     "execution_count": 3,
     "metadata": {},
     "output_type": "execute_result"
    }
   ],
   "source": [
    "context = dp.Context.compositor(\n",
    "    data=pl.scan_csv(dp.examples.get_france_lfs_path(), ignore_errors=True),\n",
    "    privacy_unit=dp.unit_of(contributions=36),\n",
    "    privacy_loss=dp.loss_of(rho=0.1, delta=1e-7),\n",
    "    split_evenly_over=5,\n",
    ")\n",
    "\n",
    "query_num_responses = context.query().group_by(\"YEAR\", \"QUARTER\").agg(dp.len())\n",
    "query_num_responses.summarize(alpha=0.05)"
   ]
  },
  {
   "cell_type": "markdown",
   "metadata": {},
   "source": [
    "The presence of the margin descriptor reduces the scale from 180 to 30,\n",
    "a _six_-fold reduction in noise!\n",
    "\n",
    "When the margin descriptor is present together with the bound of 36 contributions,\n",
    "then in the worst case an individual influences 36 different dimensions by one.\n",
    "The $L_2$ distance between two count vectors that differ by one in $36$ positions is $\\sqrt{36} = 6$.\n",
    "\n",
    "Whereas when the margin descriptor is not present,\n",
    "then in the worst case an individual makes 36 contributions to the same dimension.\n",
    "The $L_2$ distance between two count vectors that differ by $36$ in one position is $\\sqrt{36^2} = 36$.\n",
    "\n",
    "This explains the factor of six reduction in the noise ($36 / 6$).\n",
    "For comparison, the Laplace mechanism will always result in a sensitivity of $36$, \n",
    "even in the presence of this domain descriptor.\n",
    "\n",
    "Try to be mindful of the structure of your data when preparing your analysis, \n",
    "because settings where an individual's contributions are distributed over many different dimensions \n",
    "can be used to answer queries that have much lower sensitivity, \n",
    "and therefore can be estimated with less noise."
   ]
  }
 ],
 "metadata": {
  "kernelspec": {
   "display_name": ".venv",
   "language": "python",
   "name": "python3"
  },
  "language_info": {
   "codemirror_mode": {
    "name": "ipython",
    "version": 3
   },
   "file_extension": ".py",
   "mimetype": "text/x-python",
   "name": "python",
   "nbconvert_exporter": "python",
   "pygments_lexer": "ipython3",
   "version": "3.13.0"
  }
 },
 "nbformat": 4,
 "nbformat_minor": 2
}
