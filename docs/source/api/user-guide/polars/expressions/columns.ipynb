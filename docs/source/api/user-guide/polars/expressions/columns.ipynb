{
 "cells": [
  {
   "cell_type": "markdown",
   "metadata": {},
   "source": [
    "# Columns\n",
    "\n",
    "[[Polars Documentation](https://docs.pola.rs/api/python/stable/reference/expressions/columns.html)]\n",
    "\n",
    "`pl.col(\"A\")` or `pl.col.A` starts an expression by selecting a column named \"A\".\n",
    "While the Polars Library allows for multiple columns to be selected simultaneously\n",
    "(via `pl.col(\"*\")`, `pl.col(\"A\", \"B\")`, `pl.col(pl.String)`, `pl.exclude`, and so on),\n",
    "the OpenDP Library currently only supports selection of one column at a time.\n",
    "The column name may be changed via `.alias`."
   ]
  },
  {
   "cell_type": "code",
   "execution_count": 1,
   "metadata": {},
   "outputs": [],
   "source": [
    "import polars as pl\n",
    "import opendp.prelude as dp\n",
    "\n",
    "dp.enable_features(\"contrib\")\n",
    "\n",
    "work_hours_cols = [\"HWUSUAL\", \"HWACTUAL\"]\n",
    "\n",
    "# not recommended, OpenDP will reject this joint expression over multiple columns\n",
    "single_expr = pl.col(work_hours_cols).cast(int).dp.sum((0, 60))\n",
    "\n",
    "# build individual expressions for each query\n",
    "split_exprs = [pl.col(c).cast(int).dp.sum((0, 60)) for c in work_hours_cols]"
   ]
  },
  {
   "cell_type": "markdown",
   "metadata": {},
   "source": [
    "Demonstration of use:"
   ]
  },
  {
   "cell_type": "code",
   "execution_count": 2,
   "metadata": {},
   "outputs": [
    {
     "data": {
      "text/html": [
       "<div><style>\n",
       ".dataframe > thead > tr,\n",
       ".dataframe > tbody > tr {\n",
       "  text-align: right;\n",
       "  white-space: pre-wrap;\n",
       "}\n",
       "</style>\n",
       "<small>shape: (2, 4)</small><table border=\"1\" class=\"dataframe\"><thead><tr><th>column</th><th>aggregate</th><th>distribution</th><th>scale</th></tr><tr><td>str</td><td>str</td><td>str</td><td>f64</td></tr></thead><tbody><tr><td>&quot;HWUSUAL&quot;</td><td>&quot;Sum&quot;</td><td>&quot;Integer Laplace&quot;</td><td>4320.0</td></tr><tr><td>&quot;HWACTUAL&quot;</td><td>&quot;Sum&quot;</td><td>&quot;Integer Laplace&quot;</td><td>4320.0</td></tr></tbody></table></div>"
      ],
      "text/plain": [
       "shape: (2, 4)\n",
       "┌──────────┬───────────┬─────────────────┬────────┐\n",
       "│ column   ┆ aggregate ┆ distribution    ┆ scale  │\n",
       "│ ---      ┆ ---       ┆ ---             ┆ ---    │\n",
       "│ str      ┆ str       ┆ str             ┆ f64    │\n",
       "╞══════════╪═══════════╪═════════════════╪════════╡\n",
       "│ HWUSUAL  ┆ Sum       ┆ Integer Laplace ┆ 4320.0 │\n",
       "│ HWACTUAL ┆ Sum       ┆ Integer Laplace ┆ 4320.0 │\n",
       "└──────────┴───────────┴─────────────────┴────────┘"
      ]
     },
     "execution_count": 2,
     "metadata": {},
     "output_type": "execute_result"
    }
   ],
   "source": [
    "context = dp.Context.compositor(\n",
    "    data=pl.scan_csv(dp.examples.get_france_lfs_path(), ignore_errors=True),\n",
    "    privacy_unit=dp.unit_of(contributions=36),\n",
    "    privacy_loss=dp.loss_of(epsilon=1.0),\n",
    "    split_evenly_over=1,\n",
    "    margins=[\n",
    "        dp.polars.Margin(max_length=150_000 * 36)\n",
    "    ],\n",
    ")\n",
    "\n",
    "context.query().select(split_exprs).summarize()"
   ]
  }
 ],
 "metadata": {
  "kernelspec": {
   "display_name": ".venv (3.13.7)",
   "language": "python",
   "name": "python3"
  },
  "language_info": {
   "codemirror_mode": {
    "name": "ipython",
    "version": 3
   },
   "file_extension": ".py",
   "mimetype": "text/x-python",
   "name": "python",
   "nbconvert_exporter": "python",
   "pygments_lexer": "ipython3",
   "version": "3.13.7"
  }
 },
 "nbformat": 4,
 "nbformat_minor": 2
}
