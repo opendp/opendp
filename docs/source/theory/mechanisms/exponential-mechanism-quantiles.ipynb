{
  "cells": [
    {
      "cell_type": "markdown",
      "metadata": {
        "id": "DUH4x54XXVbI"
      },
      "source": [
        "# Exponential Mechanism Quantiles\n",
        "\n",
        "This section explains the algorithm used to release a differentially private quantile using the exponential mechanism in the OpenDP Library.\n",
        "\n",
        "Our data will just be 1000 samples from the gaussian distribution."
      ]
    },
    {
      "cell_type": "code",
      "execution_count": 1,
      "metadata": {},
      "outputs": [],
      "source": [
        "import numpy as np\n",
        "data = np.random.normal(scale=10, size=1000)"
      ]
    },
    {
      "cell_type": "markdown",
      "metadata": {},
      "source": [
        "The following algorithm approximately chooses the candidate nearest to the alpha-quantile."
      ]
    },
    {
      "cell_type": "code",
      "execution_count": 2,
      "metadata": {},
      "outputs": [
        {
          "data": {
            "text/plain": [
              "0.0"
            ]
          },
          "execution_count": 2,
          "metadata": {},
          "output_type": "execute_result"
        }
      ],
      "source": [
        "import opendp.prelude as dp\n",
        "dp.enable_features(\"contrib\", \"honest-but-curious\")\n",
        "\n",
        "space = dp.vector_domain(dp.atom_domain(T=float, nan=False)), dp.symmetric_distance()\n",
        "candidates = np.linspace(-50, 50, 101).tolist()\n",
        "\n",
        "m_median = space >> dp.m.then_private_quantile(\n",
        "    candidates=candidates,\n",
        "    alpha=0.5,\n",
        "    scale=1.0\n",
        ")\n",
        "m_median(data)"
      ]
    },
    {
      "cell_type": "markdown",
      "metadata": {},
      "source": [
        "The algorithm breaks down into three smaller steps:"
      ]
    },
    {
      "cell_type": "code",
      "execution_count": 3,
      "metadata": {},
      "outputs": [
        {
          "data": {
            "text/plain": [
              "0.0"
            ]
          },
          "execution_count": 3,
          "metadata": {},
          "output_type": "execute_result"
        }
      ],
      "source": [
        "m_median = (\n",
        "    space\n",
        "    # 1. transformation: compute a score for each candidate\n",
        "    >> dp.t.then_quantile_score_candidates(candidates, alpha=0.5)\n",
        "    # 2. measurement: privately select the index of the best score\n",
        "    >> dp.m.then_report_noisy_max_gumbel(scale=1.0, optimize=\"min\")\n",
        "    # 3. postprocessor: return the candidate with the selected index\n",
        "    >> (lambda i: candidates[i])\n",
        ")\n",
        "\n",
        "m_median(data)"
      ]
    },
    {
      "cell_type": "markdown",
      "metadata": {
        "id": "6XSkx3kiXVbO"
      },
      "source": [
        "## 1. Score Each Candidate\n",
        "\n",
        "The `quantile_score_candidates` transformation assigns scores to each candidate by the number of records between the candidate and true quantile.\n",
        "The scoring is similar to golf, where scores closer to zero are considered better."
      ]
    },
    {
      "cell_type": "code",
      "execution_count": 4,
      "metadata": {},
      "outputs": [
        {
          "data": {
            "image/png": "[encoded data removed]",
            "text/plain": [
              "<Figure size 640x480 with 1 Axes>"
            ]
          },
          "metadata": {},
          "output_type": "display_data"
        }
      ],
      "source": [
        "import matplotlib.pyplot as plt\n",
        "\n",
        "# make the transformation get discrete scores per candidate\n",
        "t_median_scores = dp.t.make_quantile_score_candidates(\n",
        "    dp.vector_domain(dp.atom_domain(T=float, nan=False)), \n",
        "    dp.symmetric_distance(), \n",
        "    candidates, \n",
        "    alpha=0.5)\n",
        "\n",
        "# plot the scores\n",
        "scores = t_median_scores(data)\n",
        "plt.scatter(candidates, scores);"
      ]
    },
    {
      "cell_type": "markdown",
      "metadata": {},
      "source": [
        "Since the data was sampled with a mean of 50, candidates nearer to 50 get better scores.\n",
        "The scores increase quickly away from 50 because the data is concentrated at 50.\n",
        "\n",
        "The scoring transformation is considered stable because each score can change by no more than one, when one record is added or removed.\n",
        "That is, when one new record is added, the number of records between a candidate and the true quantile can change by at most one."
      ]
    },
    {
      "cell_type": "code",
      "execution_count": 5,
      "metadata": {},
      "outputs": [
        {
          "data": {
            "text/plain": [
              "1"
            ]
          },
          "execution_count": 5,
          "metadata": {},
          "output_type": "execute_result"
        }
      ],
      "source": [
        "t_median_scores.map(d_in=1)"
      ]
    },
    {
      "cell_type": "markdown",
      "metadata": {},
      "source": [
        "The sensitivity of the score vector is based on the $L_\\infty$ sensitivity, or the max change of any one score."
      ]
    },
    {
      "cell_type": "markdown",
      "metadata": {
        "id": "IBR9c79rXVbP"
      },
      "source": [
        "## 2. Report Noisy Min"
      ]
    },
    {
      "cell_type": "markdown",
      "metadata": {
        "id": "kr-MK9JCXVbP"
      },
      "source": [
        "We now pass the scores to the `make_report_noisy_max_gumbel` measurement. \n",
        "The measurement adds Gumbel noise to the score and returns index of the candidate that has the best score.\n",
        "In our case, since better scores are smaller, we configure the mechanism to choose the min, not the max."
      ]
    },
    {
      "cell_type": "code",
      "execution_count": 6,
      "metadata": {},
      "outputs": [
        {
          "data": {
            "text/plain": [
              "50"
            ]
          },
          "execution_count": 6,
          "metadata": {},
          "output_type": "execute_result"
        }
      ],
      "source": [
        "input_space = dp.vector_domain(dp.atom_domain(T=int)), dp.linf_distance(T=int)\n",
        "m_select_score = dp.m.make_report_noisy_max_gumbel(*input_space, scale=1.0, optimize='min')\n",
        "\n",
        "#pass the discrete scores to the measurement\n",
        "noisy_index = m_select_score(scores)\n",
        "noisy_index"
      ]
    },
    {
      "cell_type": "code",
      "execution_count": 7,
      "metadata": {},
      "outputs": [
        {
          "data": {
            "text/plain": [
              "2.0"
            ]
          },
          "execution_count": 7,
          "metadata": {},
          "output_type": "execute_result"
        }
      ],
      "source": [
        "m_select_score.map(d_in=1)"
      ]
    },
    {
      "cell_type": "markdown",
      "metadata": {},
      "source": [
        "The mechanism satisfies $\\epsilon = 2$ when the $L_\\infty$ sensitivity is one.\n",
        "This is because the report noisy max mechanism with Gumbel noise is equivalent to the exponential mechanism,\n",
        "and the exponential mechanism accounts for the case where, for example, \n",
        "all scores increase by the sensitivity, except for one score that decreases by the sensitivity.\n",
        "Since scores can change in different directions, it makes it twice as easy to distinguish between two adjacent datasets of scores."
      ]
    },
    {
      "cell_type": "markdown",
      "metadata": {
        "id": "Ug-FYwAhXVbP"
      },
      "source": [
        "## 3. Index Candidates\n",
        "\n",
        "Remember that this DP release is the index of the chosen candidate, _not_ the candidate itself.\n",
        "In this case, since the fiftieth candidate should be right around zero.\n",
        "\n",
        "We now create a postprocessor that maps the index to its corresponding candidate. "
      ]
    },
    {
      "cell_type": "code",
      "execution_count": 8,
      "metadata": {},
      "outputs": [],
      "source": [
        "postprocessor = lambda i: candidates[i]"
      ]
    },
    {
      "cell_type": "markdown",
      "metadata": {},
      "source": [
        "## Floating-Point Attack Mitigation\n",
        "\n",
        "The example above chose fortunate constants that made the analysis simple.\n",
        "However, when the choice of alpha is more complex, the sensitivity gets much larger.\n",
        "Take, for instance, if alpha is $1 / \\sqrt{2}$."
      ]
    },
    {
      "cell_type": "code",
      "execution_count": 9,
      "metadata": {},
      "outputs": [
        {
          "data": {
            "text/plain": [
              "7071"
            ]
          },
          "execution_count": 9,
          "metadata": {},
          "output_type": "execute_result"
        }
      ],
      "source": [
        "# make the transformation get discrete scores per candidate\n",
        "t_median_scores = dp.t.make_quantile_score_candidates(\n",
        "    dp.vector_domain(dp.atom_domain(T=float, nan=False)), \n",
        "    dp.symmetric_distance(), \n",
        "    candidates, \n",
        "    alpha=1 / np.sqrt(2))\n",
        "t_median_scores.map(d_in=1)"
      ]
    },
    {
      "cell_type": "markdown",
      "metadata": {},
      "source": [
        "In order to protect against floating-point attacks, OpenDP rationalizes alpha and multiplies the scores and the sensitivity by the denominator.\n",
        "Notice how the sensitivity follows the first digits of alpha:"
      ]
    },
    {
      "cell_type": "code",
      "execution_count": 10,
      "metadata": {},
      "outputs": [
        {
          "data": {
            "text/plain": [
              "0.7071067811865475"
            ]
          },
          "execution_count": 10,
          "metadata": {},
          "output_type": "execute_result"
        }
      ],
      "source": [
        "float(1 / np.sqrt(2))"
      ]
    },
    {
      "cell_type": "markdown",
      "metadata": {},
      "source": [
        "Since both the scores and the sensitivity are scaled up by the same amount, \n",
        "this mitigation has no effect on the utility of the algorithm.\n",
        "On the other hand, this could make interpreting the scale parameter trickier.\n",
        "\n",
        "Since the mitigation is not material to the interpretation of the algorithm,\n",
        "`then_private_quantile` multiplies the scale parameter by the appropriate factor to conceal this mitigation.\n"
      ]
    }
  ],
  "metadata": {
    "colab": {
      "provenance": []
    },
    "kernelspec": {
      "display_name": ".venv",
      "language": "python",
      "name": "python3"
    },
    "language_info": {
      "codemirror_mode": {
        "name": "ipython",
        "version": 3
      },
      "file_extension": ".py",
      "mimetype": "text/x-python",
      "name": "python",
      "nbconvert_exporter": "python",
      "pygments_lexer": "ipython3",
      "version": "3.13.2"
    }
  },
  "nbformat": 4,
  "nbformat_minor": 0
}
