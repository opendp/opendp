{
 "cells": [
  {
   "cell_type": "markdown",
   "metadata": {},
   "source": [
    "# Linear Regression"
   ]
  },
  {
   "cell_type": "markdown",
   "metadata": {},
   "source": [
    "## Introduction"
   ]
  },
  {
   "cell_type": "markdown",
   "metadata": {},
   "source": [
    "This is an example of using Transformation and Measurement plugins. In this tutorial, we will be using the Theil-Sen estimator to create differentially private regressions. \n",
    "\n",
    "The Theil-Sen estimator is a robust method to fit a line to sample points by **choosing the median of the slopes between each pair of points in the data**. \n",
    "\n",
    "Compared to ordinary least squares regression, Theil-Sen regression has\n",
    "- Less sensitivity to outliers. \n",
    "- Greater accuracy for skewed and heteroskedastic data. \n",
    "- Fast algorithms for efficiently computing its parameters.\n",
    "\n",
    "Source: [Wikipedia](https://en.wikipedia.org/wiki/Theil–Sen_estimator), [University of Virgina StatLab](https://library.virginia.edu/data/articles/theil-sen-regression-programming-and-understanding-an-outlier-resistant-alternative-to-least-squares)"
   ]
  },
  {
   "cell_type": "markdown",
   "metadata": {},
   "source": [
    "Let's get started! We will only need a few libraries for this tutorial. This tutorial has two parts: \n",
    "\n",
    "1. Define the Regression Functions \n",
    "2. Apply DP Regression on Synthetic Data"
   ]
  },
  {
   "cell_type": "code",
   "execution_count": 7,
   "metadata": {},
   "outputs": [],
   "source": [
    "import opendp.prelude as dp\n",
    "import numpy as np\n",
    "import matplotlib.pyplot as plt\n",
    "\n",
    "dp.enable_features(\"contrib\")\n",
    "dp.enable_features(\"honest-but-curious\")"
   ]
  },
  {
   "cell_type": "markdown",
   "metadata": {},
   "source": [
    "We need to enable `honest-but-curious` here to support user-defined transformations.\n",
    "If we were to misstate the stability of our transformation, the privacy guarantee would be broken."
   ]
  },
  {
   "cell_type": "markdown",
   "metadata": {},
   "source": [
    "## Defining Regression Functions"
   ]
  },
  {
   "cell_type": "markdown",
   "metadata": {},
   "source": [
    "We will define a series of functions and then compose them to create a pipeline to compute a differentially private regression."
   ]
  },
  {
   "cell_type": "markdown",
   "metadata": {},
   "source": [
    "### 1. Define Alphas"
   ]
  },
  {
   "cell_type": "markdown",
   "metadata": {},
   "source": [
    "The following code defines alpha values that represent the 25th and 75th percentiles of the distribution of slopes computed from the random points in the dataset. \n",
    "\n",
    "We chose the 25th and 75th percentiles because they provide a nuanced understanding of the variability present in the dataset, but you can choose any that work best for your specific case."
   ]
  },
  {
   "cell_type": "code",
   "execution_count": 8,
   "metadata": {},
   "outputs": [],
   "source": [
    "alphas = np.array([[0.25], [0.75]])"
   ]
  },
  {
   "cell_type": "markdown",
   "metadata": {},
   "source": [
    "### 2. Define a Function to Compute Points on the Percentile Lines"
   ]
  },
  {
   "cell_type": "markdown",
   "metadata": {},
   "source": [
    "This function partitions a dataset into random pairs and then calculates a slope and midpoint for each pair in the dataset. \n",
    "\n",
    "It then outputs a set of points that represent the y-values at the specified percentiles (25th and 75th). Pairs where the difference is not positive or is undefined are filtered out to ensure consistency. \n",
    "\n",
    "The percentiles will be applied to the y-values calculated from the lines defined by the slopes and midpoints at given percentiles."
   ]
  },
  {
   "cell_type": "code",
   "execution_count": 9,
   "metadata": {},
   "outputs": [],
   "source": [
    "def compute_points_on_percentiles(data):\n",
    "    # Get an even number of rows.\n",
    "    data = np.array(data, copy=True)[:len(data) // 2 * 2]\n",
    "\n",
    "    # Shuffle the data for robustness.\n",
    "    np.random.shuffle(data)\n",
    "\n",
    "    # Split the data into pairs.\n",
    "    p1, p2 = np.array_split(data, 2)\n",
    "\n",
    "    # Compute differences.\n",
    "    dx, dy = (p2 - p1).T\n",
    "\n",
    "    # Compute slopes.\n",
    "    slope = dy / dx\n",
    "\n",
    "    # Compute the midpoints of the pairs. \n",
    "    x_bar, y_bar = (p1 + p2).T / 2\n",
    "\n",
    "    # Compute points on line of percentiles. \n",
    "    points = slope * (alphas - x_bar) + y_bar\n",
    "\n",
    "    # Keep only pairs where the x difference is positive. \n",
    "    return points.T[dx > 0]\n"
   ]
  },
  {
   "cell_type": "markdown",
   "metadata": {},
   "source": [
    "### 3. Define a Function to Compute Differentially Private Percentiles"
   ]
  },
  {
   "cell_type": "markdown",
   "metadata": {},
   "source": [
    "The `make_theil_sen_percentiles` function sets up a transformation that defines the format of the input data and applies the function `compute_points_on_percentiles` `runs` times to compute the required points on the lines on the specified percentiles. \n",
    "\n",
    "The parameter `runs` controls the number of independent Theil-Sen calculations performed and stacked together. The default is 1. Increasing `runs` can improve the robustness and accuracy of the results; however, it can also increase computational cost. "
   ]
  },
  {
   "cell_type": "code",
   "execution_count": 10,
   "metadata": {},
   "outputs": [],
   "source": [
    "def make_theil_sen_percentiles(runs: int=1):\n",
    "\n",
    "    return dp.t.make_user_transformation(\n",
    "        # Defines type of input. \n",
    "        input_domain=dp.np_array2_domain(T=float, num_columns=2),\n",
    "\n",
    "        # The symmetric distance metric measures the number of changes required for transformation.\n",
    "        input_metric=dp.symmetric_distance(),\n",
    "\n",
    "        # Define output format. \n",
    "        output_domain=dp.np_array2_domain(T=float, num_columns=2),\n",
    "\n",
    "        # Define output metric. \n",
    "        output_metric=dp.symmetric_distance(),\n",
    "\n",
    "        # Apply the function runs times,\n",
    "        function=lambda x: np.vstack([compute_points_on_percentiles(x) for _ in range(runs)]),\n",
    "        stability_map=lambda b_in: runs * b_in)\n"
   ]
  },
  {
   "cell_type": "markdown",
   "metadata": {},
   "source": [
    "### 4. Create a Function to Select a Specific Column"
   ]
  },
  {
   "cell_type": "markdown",
   "metadata": {},
   "source": [
    "This function creates a transformation to select a column from a dataset. "
   ]
  },
  {
   "cell_type": "code",
   "execution_count": 11,
   "metadata": {},
   "outputs": [],
   "source": [
    "def make_select_column(j):\n",
    "    return dp.t.make_user_transformation(\n",
    "        input_domain=dp.np_array2_domain(T=float, num_columns=2),\n",
    "        input_metric=dp.symmetric_distance(),\n",
    "        output_domain=dp.vector_domain(dp.atom_domain(T=float)),\n",
    "        output_metric=dp.symmetric_distance(),\n",
    "        function=lambda x: x[:, j],\n",
    "        stability_map=lambda b_in: b_in)\n"
   ]
  },
  {
   "cell_type": "markdown",
   "metadata": {},
   "source": [
    "### 5. Create a Function to Make Private Quantiles in Bounds"
   ]
  },
  {
   "cell_type": "markdown",
   "metadata": {},
   "source": [
    "In this section, we will chain a transformation and measurement to compute the median with the existing quantile scores methods. First, we define the `discrete_scores` transformation by calling `dp.t.make_quantile_score_candidates` which outputs scores for how similar each candidate is to the given alpha-quantile on the input dataset."
   ]
  },
  {
   "cell_type": "code",
   "execution_count": 12,
   "metadata": {},
   "outputs": [
    {
     "data": {
      "text/plain": [
       "Transformation(\n",
       "    input_domain   = VectorDomain(AtomDomain(T=f64)),\n",
       "    output_domain  = VectorDomain(AtomDomain(T=usize), size=100),\n",
       "    input_metric   = SymmetricDistance(),\n",
       "    output_metric  = LInfDistance(T=usize)\n",
       ")"
      ]
     },
     "execution_count": 12,
     "metadata": {},
     "output_type": "execute_result"
    }
   ],
   "source": [
    "input_domain = dp.vector_domain(dp.atom_domain(T=float))\n",
    "input_metric = dp.symmetric_distance()\n",
    "output_domain = np.array(list(range(100))).astype(float)\n",
    "median_quantile = 0.5\n",
    "\n",
    "discrete_scores = dp.t.make_quantile_score_candidates(\n",
    "    input_domain, \n",
    "    input_metric, \n",
    "    output_domain, \n",
    "    median_quantile)\n",
    "\n",
    "discrete_scores"
   ]
  },
  {
   "cell_type": "markdown",
   "metadata": {},
   "source": [
    "Next, we define the measurement to\n",
    "1. Add Noise to Each Score. \n",
    "2. Find the Index of the Smallest Score. "
   ]
  },
  {
   "cell_type": "code",
   "execution_count": 13,
   "metadata": {},
   "outputs": [
    {
     "data": {
      "text/plain": [
       "Measurement(\n",
       "    input_domain   = VectorDomain(AtomDomain(T=usize), size=100),\n",
       "    input_metric   = LInfDistance(T=usize),\n",
       "    output_measure = MaxDivergence(f64))"
      ]
     },
     "execution_count": 13,
     "metadata": {},
     "output_type": "execute_result"
    }
   ],
   "source": [
    "input_space = dp.vector_domain(dp.atom_domain(T=dp.usize), 100), dp.linf_distance(T=dp.usize)\n",
    "select_index_measurement = dp.m.make_report_noisy_max_gumbel(*input_space, scale=1.0, optimize='min')\n",
    "select_index_measurement"
   ]
  },
  {
   "cell_type": "markdown",
   "metadata": {},
   "source": [
    "Finally, we chain our transformation and measurement to create an intermediate pipeline to calculate the median of the slopes given a dataset with 2 columns. "
   ]
  },
  {
   "cell_type": "code",
   "execution_count": 14,
   "metadata": {},
   "outputs": [
    {
     "data": {
      "text/plain": [
       "Measurement(\n",
       "    input_domain   = VectorDomain(AtomDomain(T=f64)),\n",
       "    input_metric   = SymmetricDistance(),\n",
       "    output_measure = MaxDivergence(f64))"
      ]
     },
     "execution_count": 14,
     "metadata": {},
     "output_type": "execute_result"
    }
   ],
   "source": [
    "m_median = discrete_scores >> select_index_measurement\n",
    "m_median"
   ]
  },
  {
   "cell_type": "markdown",
   "metadata": {},
   "source": [
    "### 6. Create a Differentially Private Theil-Sen Estimator"
   ]
  },
  {
   "cell_type": "markdown",
   "metadata": {},
   "source": [
    "In this final step, we chain the functions defined to compute the differentially private regression coefficients. \n",
    "\n",
    "The post-process function solves the regression coefficients by inverting the system. It performs a matrix-vector multiplication, scales and inverts it, and returns the resulting vector, which contains our regression coefficients. \n",
    "\n",
    "The first coefficient, alpha, is the slope of the line, and the second, beta, is the intercept. \n"
   ]
  },
  {
   "cell_type": "code",
   "execution_count": 15,
   "metadata": {},
   "outputs": [],
   "source": [
    "def make_private_theil_sen(runs):\n",
    "    def postprocess(p):\n",
    "        return - np.array([[1, -1], [-.75, .25]]) @ p\n",
    "\n",
    "    return make_theil_sen_percentiles(runs) >> dp.c.make_basic_composition([\n",
    "        make_select_column(0) >> m_median,\n",
    "        make_select_column(1) >> m_median,\n",
    "    ]) >> postprocess"
   ]
  },
  {
   "cell_type": "markdown",
   "metadata": {},
   "source": [
    "## Creating and Applying the Mechanism to Synthetic Data"
   ]
  },
  {
   "cell_type": "markdown",
   "metadata": {},
   "source": [
    "Now apply the differentially private mechanism to a dataset. First, define an instance of the mechanism. "
   ]
  },
  {
   "cell_type": "code",
   "execution_count": 16,
   "metadata": {},
   "outputs": [
    {
     "data": {
      "text/plain": [
       "Measurement(\n",
       "    input_domain   = NPArray2Domain(num_columns=2, T=f64),\n",
       "    input_metric   = SymmetricDistance(),\n",
       "    output_measure = MaxDivergence(f64))"
      ]
     },
     "execution_count": 16,
     "metadata": {},
     "output_type": "execute_result"
    }
   ],
   "source": [
    "meas = make_private_theil_sen(runs=1) \n",
    "meas"
   ]
  },
  {
   "cell_type": "markdown",
   "metadata": {},
   "source": [
    "Create synthetic data with a linear relationship. Remember to ensure the data aligns with our measurement's requirements. "
   ]
  },
  {
   "cell_type": "code",
   "execution_count": 17,
   "metadata": {},
   "outputs": [
    {
     "data": {
      "text/plain": [
       "array([[ 2.77230531, 14.43202564],\n",
       "       [ 6.42292174, 20.24306926],\n",
       "       [ 3.53468972, 15.28516776],\n",
       "       ...,\n",
       "       [ 3.47570755, 16.5072984 ],\n",
       "       [ 5.94309049, 20.53713761],\n",
       "       [ 6.87312493, 20.75131331]])"
      ]
     },
     "execution_count": 17,
     "metadata": {},
     "output_type": "execute_result"
    }
   ],
   "source": [
    "# Shift data by 5 for mostly positive data. \n",
    "x = np.random.normal(size=1_000) + 5\n",
    "y = 2 * x + 3 + np.random.normal(size=1_000) + 5\n",
    "data = np.stack([x, y], axis=1)\n",
    "data = data.astype(np.float64)\n",
    "data"
   ]
  },
  {
   "cell_type": "markdown",
   "metadata": {},
   "source": [
    "Finally, pass the data to the regression function and get your differentially private coefficients.\n",
    "\n",
    "The coefficients can be scaled by a parameter appropriate for your dataset. "
   ]
  },
  {
   "cell_type": "code",
   "execution_count": 20,
   "metadata": {},
   "outputs": [
    {
     "data": {
      "text/plain": [
       "array([2. , 8.5])"
      ]
     },
     "execution_count": 20,
     "metadata": {},
     "output_type": "execute_result"
    }
   ],
   "source": [
    "coef = meas(data) * 2 \n",
    "coef "
   ]
  },
  {
   "cell_type": "markdown",
   "metadata": {},
   "source": [
    "Plot these to see if our differentially private regression coefficients align well with the data. "
   ]
  },
  {
   "cell_type": "code",
   "execution_count": 21,
   "metadata": {},
   "outputs": [
    {
     "data": {
      "image/png": "[encoded data removed]",
      "text/plain": [
       "<Figure size 640x480 with 1 Axes>"
      ]
     },
     "metadata": {},
     "output_type": "display_data"
    }
   ],
   "source": [
    "x = data[:, 0]\n",
    "y = data[:, 1]\n",
    "\n",
    "m, b = coef\n",
    "line_x = np.linspace(np.min(x), np.max(x), 100)\n",
    "line_y = m * line_x + b\n",
    "\n",
    "plt.scatter(x, y, color='blue', label='Data Points')\n",
    "plt.plot(line_x, line_y, color='red', label=f'Line: y = {m}x + {b}')\n",
    "\n",
    "plt.xlabel('X-axis')\n",
    "plt.ylabel('Y-axis')\n",
    "plt.title('Scatter Plot with DP-Theil-Sen Regression')\n",
    "plt.legend()\n",
    "\n",
    "plt.show()\n"
   ]
  },
  {
   "cell_type": "markdown",
   "metadata": {},
   "source": [
    "The DP regression results align well with the underlying synthetic data.\n",
    "\n",
    "The DP regression pipeline is a powerful method to extract valuable information while preserving individual privacy. The methods used in this tutorial can serve as the foundation of your data science workflow and further regressions. "
   ]
  }
 ],
 "metadata": {
  "kernelspec": {
   "display_name": "Python 3",
   "language": "python",
   "name": "python3"
  },
  "language_info": {
   "codemirror_mode": {
    "name": "ipython",
    "version": 3
   },
   "file_extension": ".py",
   "mimetype": "text/x-python",
   "name": "python",
   "nbconvert_exporter": "python",
   "pygments_lexer": "ipython3",
   "version": "3.12.3"
  },
  "nbsphinx": {
   "orphan": true
  }
 },
 "nbformat": 4,
 "nbformat_minor": 2
}
