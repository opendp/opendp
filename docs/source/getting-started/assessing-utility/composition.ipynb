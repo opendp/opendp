{
 "cells": [
  {
   "cell_type": "markdown",
   "metadata": {},
   "source": [
    "# Sequential and Parallel Composition"
   ]
  },
  {
   "cell_type": "markdown",
   "metadata": {},
   "source": [
    "## Introduction"
   ]
  },
  {
   "cell_type": "markdown",
   "metadata": {},
   "source": [
    "In this notebook, we will: \n",
    "\n",
    "- Define sequential composition and parallel composition.\n",
    "- Illustrate sequential composition and parallel composition in practice through polars queries.\n",
    "- Compare and contrast sequential and parallel composition.\n",
    "\n",
    "Further reading:\n",
    "\n",
    "- [Programming Differential Privacy: Properties of Differential Privacy](https://programming-dp.com/ch4.html)\n",
    "- [Concurrent Composition of Differential Privacy](https://eprint.iacr.org/2021/1196.pdf)"
   ]
  },
  {
   "cell_type": "markdown",
   "metadata": {},
   "source": [
    "### Composition\n",
    "\n",
    "\n",
    "Before we get into the different types of composition, let's understand why composition is important and what it means. We will rarely only want one differentially private statistic; instead, we will compute multiple statistics on the same dataset. \n",
    "\n",
    "If we run many different differentially private algorithms on the same dataset, the resulting **composed** algorithm is also differentially private. So composition is a useful tool because it enables us to analyze the privacy properties of algorithms designed in this way. "
   ]
  },
  {
   "cell_type": "markdown",
   "metadata": {},
   "source": [
    "### Key Terms\n",
    "\n",
    "**Noninteractive**: All queries are composed and executed at once. Specifically, take $F$ as a noninteractive algorithm composed of individual queries $F = \\text{Comp}(F_1, F_2, \\ldots, F_{k-1})$ and dataset x as the input dataset. $F(x)$ is our output, an algorithm that executes all the queries. \n",
    "\n",
    "**Interactive**: In an interactive algorithm, the queries are not defined in advance, and they can be determined based on the results from previous queries. This is an **adaptive** scenario. \n",
    "\n",
    "Interactivity can be viewed as a superset that includes another kind of variation: non-adaptive, adaptive, or concurrent. \n",
    "\n",
    "- A **non-adaptive** scenario is where you simply want to compute statistics such as the mean, median, and sum of particular columns in a dataset. \n",
    "\n",
    "- An **adaptive** scenario allows you to choose the next query after releasing the previous query. For example, analysis begins with computing particular statistics about a column, such as \"income,\" and then later queries depend on the results from the prior queries. For example, if you notice that the mean and median are extremely different, you may explore the distribution of the data. Otherwise, you may choose to focus your queries on other, more interesting aspects of your data. However, adaptive queries cannot be run concurrently and have a sequential constraint. \n",
    "\n",
    "- **Concurrent** composition addresses this limitation. There is ongoing research about this mechanism. \n",
    "\n",
    "Interactive differential privacy is considered the \"right\" modeling for many applications since it is required for implementing many DP mechanisms such as the Sparse Vector Technique. \n",
    "\n",
    "Although the non-adaptive, adaptive, and concurrent axis is a significant axis of variation, this section will focus primarily on sequential and parallel composition. "
   ]
  },
  {
   "cell_type": "markdown",
   "metadata": {},
   "source": [
    "## Set Up"
   ]
  },
  {
   "cell_type": "code",
   "execution_count": 3,
   "metadata": {},
   "outputs": [],
   "source": [
    "import opendp.prelude as dp\n",
    "import numpy as np\n",
    "import polars as pl \n",
    "\n",
    "dp.enable_features(\"contrib\")"
   ]
  },
  {
   "cell_type": "code",
   "execution_count": 4,
   "metadata": {
    "vscode": {
     "languageId": "shellscript"
    }
   },
   "outputs": [
    {
     "name": "stdout",
     "output_type": "stream",
     "text": [
      "  % Total    % Received % Xferd  Average Speed   Time    Time     Time  Current\n",
      "                                 Dload  Upload   Total   Spent    Left  Speed\n",
      "  0     0    0     0    0     0      0      0 --:--:-- --:--:-- --:--:--     0\n",
      "  0     0    0     0    0     0      0      0 --:--:-- --:--:-- --:--:--     0\n",
      "100 5933k  100 5933k    0     0   913k      0  0:00:06  0:00:06 --:--:--  943k\n",
      "Archive:  data.zip\n",
      "  inflating: sample_FR_LFS.csv       \n",
      "  inflating: __MACOSX/._sample_FR_LFS.csv  \n"
     ]
    }
   ],
   "source": [
    "# Fetch and download data. \n",
    "![ -e sample_FR_LFS.csv ] || ( curl 'https://github.com/opendp/dp-test-datasets/blob/master/data/sample_FR_LFS.csv.zip?raw=true' --location --output sample_FR_LFS.csv.zip; unzip sample_FR_LFS.csv.zip )\n",
    "\n",
    "df = pl.scan_csv(\"sample_FR_LFS.csv\", ignore_errors=True)\n"
   ]
  },
  {
   "cell_type": "code",
   "execution_count": 5,
   "metadata": {},
   "outputs": [],
   "source": [
    "context = dp.Context.compositor(\n",
    "    data=df,\n",
    "    privacy_unit=dp.unit_of(contributions=36),\n",
    "    privacy_loss=dp.loss_of(epsilon=1.0),\n",
    "    split_evenly_over=10,\n",
    "    margins={\n",
    "        (\"ILOSTAT\", ): dp.Margin(public_info=\"lengths\", max_partition_length=60_000_000, max_num_partitions=3),\n",
    "        (\"YEAR\", \"QUARTER\", \"ILOSTAT\",): dp.Margin(public_info=\"lengths\", max_partition_length=60_000_000, max_partition_contributions=1, max_num_partitions=1),\n",
    "        (): dp.Margin(public_info=\"lengths\", max_partition_length=60_000_000, max_num_partitions=1),\n",
    "    },\n",
    ")\n",
    "\n",
    "# Filter out rows with 99 as a null value. \n",
    "df = df.filter(pl.col(\"HWUSUAL\")!=99)"
   ]
  },
  {
   "cell_type": "markdown",
   "metadata": {},
   "source": [
    "## Sequential Composition"
   ]
  },
  {
   "cell_type": "markdown",
   "metadata": {},
   "source": [
    "Sequential composition is a major property of differential privacy because it bounds the total privacy costs of computing multiple differentially private queries on the same data. It's important because it allows the design of algorithms that refer to the data multiple times. \n",
    "\n",
    "It's an extremely useful way to get an **upper** bound on the total ε of many queries, but keep in mind that the actual impact on privacy may be lower. \n",
    "\n",
    "Assume that function 1, $F1$ satisfies ε-dp and function 2, $F2$, also satisfies ε-dp. \n",
    "\n",
    "Then a mechanism where we compose functions, $g(x)$ = ($F1$(x), $F2$(x)), we get 2 * ε-dp.\n",
    "\n",
    "Sequential composition can be noninteractive and interactive. "
   ]
  },
  {
   "cell_type": "markdown",
   "metadata": {},
   "source": [
    "### Noninteractive Sequential Composition"
   ]
  },
  {
   "cell_type": "markdown",
   "metadata": {},
   "source": [
    "We can execute multiple queries at once using the `select` or `agg` methods. To start off, let's calculate the actual and differentially private mean and median for the variable `HWUSUAL`, which is the number of hours per week usually worked in the main job by respondents that were working for pay at the time of the survey.\n",
    "\n",
    "Notes: \n",
    "- Reference the [EU Labour Force Survey User Guide](https://ec.europa.eu/eurostat/documents/1978984/6037342/EULFS-Database-UserGuide.pdf) for more information about variables. \n",
    "- Do not calculate the actual mean to impute null values. We shouldn't reference our data after creating the compositor. "
   ]
  },
  {
   "cell_type": "code",
   "execution_count": 6,
   "metadata": {},
   "outputs": [
    {
     "data": {
      "text/html": [
       "<div><style>\n",
       ".dataframe > thead > tr,\n",
       ".dataframe > tbody > tr {\n",
       "  text-align: right;\n",
       "  white-space: pre-wrap;\n",
       "}\n",
       "</style>\n",
       "<small>shape: (1, 2)</small><table border=\"1\" class=\"dataframe\"><thead><tr><th>Actual Mean Hours Worked</th><th>Actual Median Hours Worked</th></tr><tr><td>f64</td><td>f64</td></tr></thead><tbody><tr><td>37.634091</td><td>37.0</td></tr></tbody></table></div>"
      ],
      "text/plain": [
       "shape: (1, 2)\n",
       "┌──────────────────────────┬────────────────────────────┐\n",
       "│ Actual Mean Hours Worked ┆ Actual Median Hours Worked │\n",
       "│ ---                      ┆ ---                        │\n",
       "│ f64                      ┆ f64                        │\n",
       "╞══════════════════════════╪════════════════════════════╡\n",
       "│ 37.634091                ┆ 37.0                       │\n",
       "└──────────────────────────┴────────────────────────────┘"
      ]
     },
     "execution_count": 6,
     "metadata": {},
     "output_type": "execute_result"
    }
   ],
   "source": [
    "candidates = list(range(25,56))\n",
    "\n",
    "actual_hours = df.select(\n",
    "    pl.col(\"HWUSUAL\").fill_null(40.0).mean().alias(\"Actual Mean Hours Worked\"), \n",
    "    pl.col(\"HWUSUAL\").fill_null(40.0).median().alias(\"Actual Median Hours Worked\"),\n",
    ").collect()\n",
    "\n",
    "actual_hours"
   ]
  },
  {
   "cell_type": "code",
   "execution_count": 7,
   "metadata": {},
   "outputs": [
    {
     "data": {
      "text/html": [
       "<div><style>\n",
       ".dataframe > thead > tr,\n",
       ".dataframe > tbody > tr {\n",
       "  text-align: right;\n",
       "  white-space: pre-wrap;\n",
       "}\n",
       "</style>\n",
       "<small>shape: (1, 2)</small><table border=\"1\" class=\"dataframe\"><thead><tr><th>DP Mean Hours Worked</th><th>DP Median Hours Worked</th></tr><tr><td>f64</td><td>i64</td></tr></thead><tbody><tr><td>41.350777</td><td>54</td></tr></tbody></table></div>"
      ],
      "text/plain": [
       "shape: (1, 2)\n",
       "┌──────────────────────┬────────────────────────┐\n",
       "│ DP Mean Hours Worked ┆ DP Median Hours Worked │\n",
       "│ ---                  ┆ ---                    │\n",
       "│ f64                  ┆ i64                    │\n",
       "╞══════════════════════╪════════════════════════╡\n",
       "│ 41.350777            ┆ 54                     │\n",
       "└──────────────────────┴────────────────────────┘"
      ]
     },
     "execution_count": 7,
     "metadata": {},
     "output_type": "execute_result"
    }
   ],
   "source": [
    "dp_hours = context.query().select(\n",
    "    pl.col(\"HWUSUAL\").fill_null(40.0).dp.mean((1,45)).alias(\"DP Mean Hours Worked\"), \n",
    "    pl.col(\"HWUSUAL\").fill_null(40.0).dp.median(candidates).alias(\"DP Median Hours Worked\"),\n",
    ").release().collect()\n",
    "\n",
    "dp_hours"
   ]
  },
  {
   "cell_type": "markdown",
   "metadata": {},
   "source": [
    "## Interactive Sequential Composition"
   ]
  },
  {
   "cell_type": "markdown",
   "metadata": {},
   "source": [
    "In cases where you want to apply interactive sequential composition, you can use the `dp.c.make_sequential_composition` method. There are two ways to implement sequential composition: using transformations and measurements directly and passing in polars queries. \n",
    "\n",
    "Also note, that the following queries are interactive, but they should not be assumed to be adaptive. "
   ]
  },
  {
   "cell_type": "markdown",
   "metadata": {},
   "source": [
    "### Interactive Sequential Composition with Transformations and Measurements"
   ]
  },
  {
   "cell_type": "markdown",
   "metadata": {},
   "source": [
    "The interactive sequential composition doesn't use the compositor we defined at the start of this notebook. Instead, we construct a composition through transformations and measurements, combinator elements present in lower-level frameworks in the OpenDP library. \n",
    "\n",
    "We will also define a `queryable` in the following code. It can essentially be thought of as a class that executes the queries and tracks the privacy expenditure. "
   ]
  },
  {
   "cell_type": "code",
   "execution_count": 8,
   "metadata": {},
   "outputs": [
    {
     "name": "stdout",
     "output_type": "stream",
     "text": [
      "Privacy Consumption of Entire Composition: 4.0\n"
     ]
    }
   ],
   "source": [
    "# Define the compositor by specifying parameters. \n",
    "sc_meas = dp.c.make_sequential_composition(\n",
    "    input_domain=dp.vector_domain(dp.atom_domain(T=float)),\n",
    "    input_metric=dp.symmetric_distance(),\n",
    "    output_measure=dp.max_divergence(T=float),\n",
    "    # D_in is the upper bound on distances. \n",
    "    d_in=1,\n",
    "    # d_mids is the privacy consumption for each query. \n",
    "    d_mids=[1., 1., 2.]\n",
    ")\n",
    "\n",
    "print(\"Privacy Consumption of Entire Composition: \" + str(sc_meas.map(1)))\n",
    "\n",
    "# 40 is chosen since it represents the average working hours. \n",
    "# A lower value such as 0 may skew the results\n",
    "hours_list = list(np.array(df.select(\n",
    "                                    pl.col(\"HWUSUAL\").\n",
    "                                    fill_null(40.0).\n",
    "                                    fill_nan(40.0)).\n",
    "                                    collect()\n",
    "                                # The reshape of the list flattens it. \n",
    "                                # Which is required for the queryable input. \n",
    "                                ).reshape(-1))\n",
    "\n",
    "# This is a queryable that takes in the data similar to the context. \n",
    "sc_qbl = sc_meas(hours_list)"
   ]
  },
  {
   "cell_type": "code",
   "execution_count": 9,
   "metadata": {},
   "outputs": [
    {
     "name": "stdout",
     "output_type": "stream",
     "text": [
      "DP count:  78706\n",
      "DP Mean: 37.83963576379795\n"
     ]
    }
   ],
   "source": [
    "# Construct a measurement for mean. \n",
    "input_space = dp.vector_domain(dp.atom_domain(T=float)), dp.symmetric_distance()\n",
    "count_meas = input_space >> dp.t.then_count() >> dp.m.then_laplace(scale=1.0)\n",
    "count_release = sc_qbl(count_meas)\n",
    "print(\"DP count: \",count_release)\n",
    "\n",
    "mean_meas = (\n",
    "    input_space >> \n",
    "    dp.t.then_clamp((0.,79.)) >> \n",
    "    dp.t.then_resize(size=count_release, constant=40.) >> \n",
    "    dp.t.then_mean() >> \n",
    "    dp.m.then_laplace(1.))\n",
    "print(\"DP Mean:\", sc_qbl(mean_meas))"
   ]
  },
  {
   "cell_type": "code",
   "execution_count": 10,
   "metadata": {},
   "outputs": [
    {
     "name": "stdout",
     "output_type": "stream",
     "text": [
      "DP Median: 37\n"
     ]
    }
   ],
   "source": [
    "# Construct a measurement for median. \n",
    "discrete_scores = dp.t.make_quantile_score_candidates(dp.vector_domain(dp.atom_domain(T=float)), \n",
    "                                    dp.symmetric_distance(), \n",
    "                                    np.array(candidates).astype(float), \n",
    "                                    0.5)\n",
    "input_space = dp.vector_domain(dp.atom_domain(T=dp.usize), 31), dp.linf_distance(T=dp.usize)\n",
    "select_index_measurement = dp.m.make_report_noisy_max_gumbel(*input_space, scale=1.0, optimize='min')\n",
    "\n",
    "median_meas = discrete_scores >> select_index_measurement >> (lambda index: candidates[index])\n",
    "print(\"DP Median:\", sc_qbl(median_meas))"
   ]
  },
  {
   "cell_type": "markdown",
   "metadata": {},
   "source": [
    "That was a lot of code! But as you saw, we could change our queries depending on the outputs of other queries, illustrating interactive sequential composition."
   ]
  },
  {
   "cell_type": "markdown",
   "metadata": {},
   "source": [
    "### Interactive Sequential Composition with Polars Queries"
   ]
  },
  {
   "cell_type": "markdown",
   "metadata": {},
   "source": [
    "You can also implement interactive sequential composition with polars queries! One of the first steps is to specify the domain of our data frame and add a margin specifying the parameters for the data when it's grouped by `ILOSTAT`. This is **in addition** to specifying it in the compositor. "
   ]
  },
  {
   "cell_type": "code",
   "execution_count": 11,
   "metadata": {},
   "outputs": [],
   "source": [
    "# Get the domain of the datafarame and specify parameters. \n",
    "df_domain = dp.domain_of(df, infer=True)\n",
    "\n",
    "df_domain = dp.with_margin(df_domain, by=[], \n",
    "                           public_info=\"lengths\", \n",
    "                           max_partition_length=1, \n",
    "                           max_num_partitions=1)\n",
    "\n",
    "proposed_plan = context.query().select(\n",
    "    pl.col(\"HWUSUAL\").fill_null(40.0).dp.mean((1,98)).alias(\"DP Mean Hours Worked\"), \n",
    "    pl.col(\"HWUSUAL\").fill_null(40.0).dp.median(candidates).alias(\"DP Median Hours Worked\"),\n",
    ")\n"
   ]
  },
  {
   "cell_type": "markdown",
   "metadata": {},
   "source": [
    "Next, we set up a measurement to execute the sequential queries and pass them in our `df_domain` and `proposed_plan`. We can pass our data to this measurement and then collect our results. "
   ]
  },
  {
   "cell_type": "code",
   "execution_count": 12,
   "metadata": {},
   "outputs": [
    {
     "data": {
      "text/html": [
       "<div><style>\n",
       ".dataframe > thead > tr,\n",
       ".dataframe > tbody > tr {\n",
       "  text-align: right;\n",
       "  white-space: pre-wrap;\n",
       "}\n",
       "</style>\n",
       "<small>shape: (1, 2)</small><table border=\"1\" class=\"dataframe\"><thead><tr><th>DP Mean Hours Worked</th><th>DP Median Hours Worked</th></tr><tr><td>f64</td><td>i64</td></tr></thead><tbody><tr><td>37.636212</td><td>50</td></tr></tbody></table></div>"
      ],
      "text/plain": [
       "shape: (1, 2)\n",
       "┌──────────────────────┬────────────────────────┐\n",
       "│ DP Mean Hours Worked ┆ DP Median Hours Worked │\n",
       "│ ---                  ┆ ---                    │\n",
       "│ f64                  ┆ i64                    │\n",
       "╞══════════════════════╪════════════════════════╡\n",
       "│ 37.636212            ┆ 50                     │\n",
       "└──────────────────────┴────────────────────────┘"
      ]
     },
     "execution_count": 12,
     "metadata": {},
     "output_type": "execute_result"
    }
   ],
   "source": [
    "#TODO: Fix Parameters\n",
    "\n",
    "# Polars Lazyframe\n",
    "m_polars = dp.m.make_private_lazyframe(\n",
    "    input_domain=df_domain, \n",
    "    input_metric=dp.symmetric_distance(), \n",
    "    output_measure=dp.max_divergence(T=float), \n",
    "    lazyframe=proposed_plan, \n",
    "    global_scale=45.\n",
    ")\n",
    "\n",
    "# Measurement for sequential composition. \n",
    "m_comp = dp.c.make_sequential_composition(\n",
    "    m_polars.input_domain,\n",
    "    m_polars.input_metric,\n",
    "    m_polars.output_measure,\n",
    "    2, \n",
    "    [3., 3.]\n",
    ")\n",
    "\n",
    "qbl_comp = m_comp(df)\n",
    "qbl_comp(m_polars).collect()"
   ]
  },
  {
   "cell_type": "markdown",
   "metadata": {},
   "source": [
    "## Parallel Composition"
   ]
  },
  {
   "cell_type": "markdown",
   "metadata": {},
   "source": [
    "Parallel composition can be viewed as an alternative to sequential composition since it's another way to calculate a bound on the total privacy cost of multiple queries. \n",
    "\n",
    "Parallel composition involves partitioning the input dataset into disjoint partitions and applying a differentially private mechanism on each chunk independent of all other chunks. Assuming each individual is represented once in the dataset, their data will appear in exactly one chunk. If there are $k$ chunks, there will be $k$ runs of the differentially private mechanisms.\n",
    "\n",
    "To apply parallel composition, we need to set up our margin or define our query to allow each individual to influence at most 1 partition, or appear at most in 1 chunk. This is different from earlier in the notebook where we assumed 36 contributions per user since each user was represented once per year-quarter across 13 years. \n"
   ]
  },
  {
   "cell_type": "markdown",
   "metadata": {},
   "source": [
    "### Noninteractive Parallel Composition"
   ]
  },
  {
   "cell_type": "markdown",
   "metadata": {},
   "source": [
    "In the following example, each individual is represented just one each year, quarter, and labor status. Moreover, this example also satisfies the properties of noninteractive sequential composition since all the queries are executed simultaneously. "
   ]
  },
  {
   "cell_type": "code",
   "execution_count": 13,
   "metadata": {},
   "outputs": [
    {
     "data": {
      "text/html": [
       "<div><style>\n",
       ".dataframe > thead > tr,\n",
       ".dataframe > tbody > tr {\n",
       "  text-align: right;\n",
       "  white-space: pre-wrap;\n",
       "}\n",
       "</style>\n",
       "<small>shape: (160, 5)</small><table border=\"1\" class=\"dataframe\"><thead><tr><th>YEAR</th><th>QUARTER</th><th>ILOSTAT</th><th>DP Mean Hours Worked</th><th>DP Median Hours Worked</th></tr><tr><td>i64</td><td>i64</td><td>i64</td><td>f64</td><td>i64</td></tr></thead><tbody><tr><td>2004</td><td>1</td><td>3</td><td>98.393258</td><td>50</td></tr><tr><td>2004</td><td>1</td><td>1</td><td>37.256882</td><td>40</td></tr><tr><td>2004</td><td>1</td><td>2</td><td>94.884377</td><td>31</td></tr><tr><td>2004</td><td>1</td><td>9</td><td>98.780115</td><td>26</td></tr><tr><td>2004</td><td>2</td><td>9</td><td>93.57499</td><td>42</td></tr><tr><td>&hellip;</td><td>&hellip;</td><td>&hellip;</td><td>&hellip;</td><td>&hellip;</td></tr><tr><td>2013</td><td>3</td><td>9</td><td>96.685363</td><td>45</td></tr><tr><td>2013</td><td>4</td><td>3</td><td>98.367484</td><td>29</td></tr><tr><td>2013</td><td>4</td><td>1</td><td>38.106898</td><td>34</td></tr><tr><td>2013</td><td>4</td><td>9</td><td>95.364769</td><td>26</td></tr><tr><td>2013</td><td>4</td><td>2</td><td>100.177312</td><td>36</td></tr></tbody></table></div>"
      ],
      "text/plain": [
       "shape: (160, 5)\n",
       "┌──────┬─────────┬─────────┬──────────────────────┬────────────────────────┐\n",
       "│ YEAR ┆ QUARTER ┆ ILOSTAT ┆ DP Mean Hours Worked ┆ DP Median Hours Worked │\n",
       "│ ---  ┆ ---     ┆ ---     ┆ ---                  ┆ ---                    │\n",
       "│ i64  ┆ i64     ┆ i64     ┆ f64                  ┆ i64                    │\n",
       "╞══════╪═════════╪═════════╪══════════════════════╪════════════════════════╡\n",
       "│ 2004 ┆ 1       ┆ 3       ┆ 98.393258            ┆ 50                     │\n",
       "│ 2004 ┆ 1       ┆ 1       ┆ 37.256882            ┆ 40                     │\n",
       "│ 2004 ┆ 1       ┆ 2       ┆ 94.884377            ┆ 31                     │\n",
       "│ 2004 ┆ 1       ┆ 9       ┆ 98.780115            ┆ 26                     │\n",
       "│ 2004 ┆ 2       ┆ 9       ┆ 93.57499             ┆ 42                     │\n",
       "│ …    ┆ …       ┆ …       ┆ …                    ┆ …                      │\n",
       "│ 2013 ┆ 3       ┆ 9       ┆ 96.685363            ┆ 45                     │\n",
       "│ 2013 ┆ 4       ┆ 3       ┆ 98.367484            ┆ 29                     │\n",
       "│ 2013 ┆ 4       ┆ 1       ┆ 38.106898            ┆ 34                     │\n",
       "│ 2013 ┆ 4       ┆ 9       ┆ 95.364769            ┆ 26                     │\n",
       "│ 2013 ┆ 4       ┆ 2       ┆ 100.177312           ┆ 36                     │\n",
       "└──────┴─────────┴─────────┴──────────────────────┴────────────────────────┘"
      ]
     },
     "execution_count": 13,
     "metadata": {},
     "output_type": "execute_result"
    }
   ],
   "source": [
    "context.query().group_by([\"YEAR\",\"QUARTER\",\"ILOSTAT\"]).agg(\n",
    "    pl.col(\"HWUSUAL\").fill_null(40.).dp.mean((1,98)).alias(\"DP Mean Hours Worked\"),\n",
    "    pl.col(\"HWUSUAL\").fill_null(40.).dp.median(candidates).alias(\"DP Median Hours Worked\")\n",
    ").release().collect().sort([\"YEAR\", \"QUARTER\"])"
   ]
  },
  {
   "cell_type": "markdown",
   "metadata": {},
   "source": [
    "### Interactive Parallel Composition"
   ]
  },
  {
   "cell_type": "markdown",
   "metadata": {},
   "source": [
    "We'll illustrate interactive parallel composition using the polar-interactivity methods. Much of the code is similar to interactive sequential composition. The primary change is the domain and proposed plan. "
   ]
  },
  {
   "cell_type": "code",
   "execution_count": 14,
   "metadata": {},
   "outputs": [
    {
     "data": {
      "text/html": [
       "<div><style>\n",
       ".dataframe > thead > tr,\n",
       ".dataframe > tbody > tr {\n",
       "  text-align: right;\n",
       "  white-space: pre-wrap;\n",
       "}\n",
       "</style>\n",
       "<small>shape: (40, 5)</small><table border=\"1\" class=\"dataframe\"><thead><tr><th>YEAR</th><th>QUARTER</th><th>ILOSTAT</th><th>DP Mean Hours Worked</th><th>DP Median Hours Worked</th></tr><tr><td>i64</td><td>i64</td><td>i64</td><td>f64</td><td>i64</td></tr></thead><tbody><tr><td>2006</td><td>3</td><td>1</td><td>37.361034</td><td>29</td></tr><tr><td>2007</td><td>2</td><td>1</td><td>37.54387</td><td>48</td></tr><tr><td>2004</td><td>3</td><td>1</td><td>37.338537</td><td>34</td></tr><tr><td>2008</td><td>4</td><td>1</td><td>37.418794</td><td>48</td></tr><tr><td>2012</td><td>4</td><td>1</td><td>37.863292</td><td>39</td></tr><tr><td>&hellip;</td><td>&hellip;</td><td>&hellip;</td><td>&hellip;</td><td>&hellip;</td></tr><tr><td>2013</td><td>4</td><td>1</td><td>37.029466</td><td>39</td></tr><tr><td>2009</td><td>4</td><td>1</td><td>37.74394</td><td>54</td></tr><tr><td>2010</td><td>3</td><td>1</td><td>37.866828</td><td>40</td></tr><tr><td>2012</td><td>3</td><td>1</td><td>37.590826</td><td>46</td></tr><tr><td>2007</td><td>3</td><td>1</td><td>38.095203</td><td>36</td></tr></tbody></table></div>"
      ],
      "text/plain": [
       "shape: (40, 5)\n",
       "┌──────┬─────────┬─────────┬──────────────────────┬────────────────────────┐\n",
       "│ YEAR ┆ QUARTER ┆ ILOSTAT ┆ DP Mean Hours Worked ┆ DP Median Hours Worked │\n",
       "│ ---  ┆ ---     ┆ ---     ┆ ---                  ┆ ---                    │\n",
       "│ i64  ┆ i64     ┆ i64     ┆ f64                  ┆ i64                    │\n",
       "╞══════╪═════════╪═════════╪══════════════════════╪════════════════════════╡\n",
       "│ 2006 ┆ 3       ┆ 1       ┆ 37.361034            ┆ 29                     │\n",
       "│ 2007 ┆ 2       ┆ 1       ┆ 37.54387             ┆ 48                     │\n",
       "│ 2004 ┆ 3       ┆ 1       ┆ 37.338537            ┆ 34                     │\n",
       "│ 2008 ┆ 4       ┆ 1       ┆ 37.418794            ┆ 48                     │\n",
       "│ 2012 ┆ 4       ┆ 1       ┆ 37.863292            ┆ 39                     │\n",
       "│ …    ┆ …       ┆ …       ┆ …                    ┆ …                      │\n",
       "│ 2013 ┆ 4       ┆ 1       ┆ 37.029466            ┆ 39                     │\n",
       "│ 2009 ┆ 4       ┆ 1       ┆ 37.74394             ┆ 54                     │\n",
       "│ 2010 ┆ 3       ┆ 1       ┆ 37.866828            ┆ 40                     │\n",
       "│ 2012 ┆ 3       ┆ 1       ┆ 37.590826            ┆ 46                     │\n",
       "│ 2007 ┆ 3       ┆ 1       ┆ 38.095203            ┆ 36                     │\n",
       "└──────┴─────────┴─────────┴──────────────────────┴────────────────────────┘"
      ]
     },
     "execution_count": 14,
     "metadata": {},
     "output_type": "execute_result"
    }
   ],
   "source": [
    "#get the domain of the datafarame\n",
    "lf_domain = dp.domain_of(df, infer=True)\n",
    "lf_domain = dp.with_margin(lf_domain, by=[\"YEAR\",\"QUARTER\",\"ILOSTAT\"], \n",
    "                           public_info=\"lengths\", \n",
    "                           max_partition_length=50, \n",
    "                           max_num_partitions=3)\n",
    "\n",
    "proposed_plan = context.query().group_by([\"YEAR\",\"QUARTER\",\"ILOSTAT\"]).agg(\n",
    "    pl.col(\"HWUSUAL\").fill_null(40.).dp.mean((1,98), 8).alias(\"DP Mean Hours Worked\"),\n",
    "    pl.col(\"HWUSUAL\").fill_null(40.).dp.median(candidates, 8).alias(\"DP Median Hours Worked\")\n",
    ")\n",
    "# IN SERVER\n",
    "m_polars = dp.m.make_private_lazyframe(\n",
    "    input_domain=lf_domain, \n",
    "    input_metric=dp.symmetric_distance(), \n",
    "    output_measure=dp.max_divergence(T=float), \n",
    "    lazyframe=proposed_plan, \n",
    "    global_scale=1.\n",
    ")\n",
    "\n",
    "m_comp = dp.c.make_sequential_composition(\n",
    "    m_polars.input_domain,\n",
    "    m_polars.input_metric,\n",
    "    m_polars.output_measure,\n",
    "    2, \n",
    "    [18.0, 18.0]\n",
    ")\n",
    "\n",
    "\n",
    "qbl_comp = m_comp(df)\n",
    "qbl_comp(m_polars).collect()"
   ]
  },
  {
   "cell_type": "markdown",
   "metadata": {},
   "source": [
    "## Comparison of Sequential and Parallel"
   ]
  },
  {
   "cell_type": "markdown",
   "metadata": {},
   "source": [
    "Overall, parallel composition provides a much better bound than sequential composition. The total privacy loss for parallel composition is just ε since there are $k$ disjoint partitions and each of them also satisfies ε-dp. With sequential composition, the total privacy loss is $k$ * ε since we would run each query $k$ times.\n",
    "\n",
    "However, one disadvantage of parallel composition is that has the dataset is split into more parts, each part will have a weaker signal and hence less accuracy. \n",
    "\n",
    "Additionally, in cases where we want statistics that reference the whole dataset, sequential composition may be a better fit. \n",
    "\n",
    "Therefore, the recommendation is to use parallel composition unless the partitions are too small to provide adequate accuracy or the entire data needs to be referenced for the calculated statistics. "
   ]
  },
  {
   "cell_type": "markdown",
   "metadata": {},
   "source": [
    "## Conclusion"
   ]
  },
  {
   "cell_type": "markdown",
   "metadata": {},
   "source": [
    "This notebook illustrated: \n",
    "\n",
    "- The difference between interactive and noninteractive queries. \n",
    "- The definition and properties of sequential composition. \n",
    "- How to implement non-interactive sequential composition with polars, interactive sequential composition using transformations and measurements directly, and interactive sequential composition using polars queries. \n",
    "- The definition and properties of parallel composition. \n",
    "- How to implement noninteractive parallel composition and interactive parallel composition. \n",
    "- The differences between parallel and sequential composition and recommendations for when to choose which. \n"
   ]
  }
 ],
 "metadata": {
  "kernelspec": {
   "display_name": "Python 3",
   "language": "python",
   "name": "python3"
  },
  "language_info": {
   "codemirror_mode": {
    "name": "ipython",
    "version": 3
   },
   "file_extension": ".py",
   "mimetype": "text/x-python",
   "name": "python",
   "nbconvert_exporter": "python",
   "pygments_lexer": "ipython3",
   "version": "3.12.3"
  },
  "nbsphinx": {
   "orphan": true
  }
 },
 "nbformat": 4,
 "nbformat_minor": 2
}
