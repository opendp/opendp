{
 "cells": [
  {
   "cell_type": "markdown",
   "metadata": {},
   "source": [
    "# Sequential and Parallel Composition\n",
    "\n",
    "We rarely want just one differentially private statistic; instead, we need to compute multiple statistics on the same dataset. \n",
    "If we run many different differentially private algorithms on the same dataset, the resulting **composed** algorithm is also differentially private.\n",
    "\n",
    "The simplest composition is **non-interactive** and **sequential**, but there are other approaches which can result in higher utility, or a smaller privacy budget, or both.\n",
    "\n",
    "With non-interactive composition, each mechanism is run independently.\n",
    "The alternative, **interactive** composition, allows the result of one mechanism to influence what is run next.\n",
    "This is not just interaction with the user: It can also be your code which \"interacts\" with previous results.\n",
    "For example, you could imagine a program which first collects high-level statistics, identifies variables with the most interesting distributions, and then uses the remaining privacy budget just to explore those variables.\n",
    "\n",
    "In OpenDP, [make_basic_composition](../../api/python/opendp.combinators.rst#opendp.combinators.make_basic_composition) supports non-interactive composition,\n",
    "and [make_sequential_composition](../../api/python/opendp.combinators.rst#opendp.combinators.make_sequential_composition) supports interactive composition.\n",
    "\n",
    "We can also make a distinction between sequential and **parallel** composition:\n",
    "In sequential composition, each mechanism operates on the entire dataset, while in parallel composition each mechanism operates on a partition.\n",
    "Due to the broad nature of data partitioning, there isn't a dedicated combinator for parallel composition, but Polars employs parallel composition to reason about the privacy loss of grouping queries.\n",
    "\n",
    "\n",
    "This is not to be taken as an exhaustive catalog of composition!\n",
    "You can also compose compositors: For example, a non-interactive composition of interactive mechanisms.\n",
    "Composition is also an active area of research.\n",
    "\n",
    "We'll examine these combinations:\n",
    "\n",
    "- Sequential Composition\n",
    "  - Noninteractive (`make_basic_composition`; Polars `select` with multiple queries)\n",
    "  - Interactive (`make_sequential_composition`)\n",
    "- Parallel Composition\n",
    "  - Noninteractive (`Polars group_by`)\n",
    "  - Interactive\n",
    "\n",
    "## Set Up"
   ]
  },
  {
   "cell_type": "code",
   "execution_count": 2,
   "metadata": {},
   "outputs": [],
   "source": [
    "import opendp.prelude as dp\n",
    "import numpy as np\n",
    "import polars as pl \n",
    "\n",
    "dp.enable_features(\"contrib\")"
   ]
  },
  {
   "cell_type": "code",
   "execution_count": 3,
   "metadata": {
    "vscode": {
     "languageId": "shellscript"
    }
   },
   "outputs": [],
   "source": [
    "# Fetch and download data. \n",
    "![ -e sample_FR_LFS.csv ] || ( curl 'https://github.com/opendp/dp-test-datasets/blob/main/data/sample_FR_LFS.csv.zip?raw=true' --location --output sample_FR_LFS.csv.zip; unzip sample_FR_LFS.csv.zip )\n",
    "\n",
    "df = pl.scan_csv(\"sample_FR_LFS.csv\", ignore_errors=True)\n"
   ]
  },
  {
   "cell_type": "code",
   "execution_count": 4,
   "metadata": {},
   "outputs": [],
   "source": [
    "context = dp.Context.compositor(\n",
    "    data=df,\n",
    "    privacy_unit=dp.unit_of(contributions=36),\n",
    "    privacy_loss=dp.loss_of(epsilon=1.0),\n",
    "    split_evenly_over=10,\n",
    "    margins={\n",
    "        (\"ILOSTAT\", ): dp.polars.Margin(public_info=\"lengths\", max_partition_length=60_000_000, max_num_partitions=3),\n",
    "        (\"YEAR\", \"QUARTER\", \"ILOSTAT\",): dp.polars.Margin(public_info=\"lengths\", max_partition_length=60_000_000, max_partition_contributions=1, max_num_partitions=1),\n",
    "        (): dp.polars.Margin(public_info=\"lengths\", max_partition_length=60_000_000, max_num_partitions=1),\n",
    "    },\n",
    ")\n",
    "\n",
    "# Filter out rows with 99 as a null value. \n",
    "df = df.filter(pl.col(\"HWUSUAL\")!=99)"
   ]
  },
  {
   "cell_type": "markdown",
   "metadata": {},
   "source": [
    "## Sequential Composition\n",
    "\n",
    "Sequential composition is a major property of differential privacy because it bounds the total privacy costs of computing multiple differentially private queries on the same data. It's important because it allows the design of algorithms that refer to the data multiple times. \n",
    "\n",
    "It's an extremely useful way to get an **upper** bound on the total ε of many queries, but keep in mind that the actual impact on privacy may be lower. \n",
    "\n",
    "Assume that function 1, $F1$ satisfies ε-dp and function 2, $F2$, also satisfies ε-dp. \n",
    "\n",
    "Then a mechanism where we compose functions, $g(x)$ = ($F1$(x), $F2$(x)), we get 2 * ε-dp.\n",
    "\n",
    "Sequential composition can be noninteractive and interactive.\n",
    " \n",
    "### Noninteractive Sequential Composition\n",
    "\n",
    "We can execute multiple queries at once using the `select` or `agg` methods. To start off, let's calculate the actual and differentially private mean and median for the variable `HWUSUAL`, which is the number of hours per week usually worked in the main job by respondents that were working for pay at the time of the survey.\n",
    "\n",
    "Notes: \n",
    "\n",
    "- See the [EU Labour Force Survey User Guide](https://ec.europa.eu/eurostat/documents/1978984/6037342/EULFS-Database-UserGuide.pdf) for more information about variables. \n",
    "- Do not calculate the actual mean to impute null values. We shouldn't reference our data after creating the compositor. "
   ]
  },
  {
   "cell_type": "code",
   "execution_count": 5,
   "metadata": {},
   "outputs": [
    {
     "data": {
      "text/html": [
       "<div><style>\n",
       ".dataframe > thead > tr,\n",
       ".dataframe > tbody > tr {\n",
       "  text-align: right;\n",
       "  white-space: pre-wrap;\n",
       "}\n",
       "</style>\n",
       "<small>shape: (1, 2)</small><table border=\"1\" class=\"dataframe\"><thead><tr><th>Actual Mean Hours Worked</th><th>Actual Median Hours Worked</th></tr><tr><td>f64</td><td>f64</td></tr></thead><tbody><tr><td>37.634091</td><td>37.0</td></tr></tbody></table></div>"
      ],
      "text/plain": [
       "shape: (1, 2)\n",
       "┌──────────────────────────┬────────────────────────────┐\n",
       "│ Actual Mean Hours Worked ┆ Actual Median Hours Worked │\n",
       "│ ---                      ┆ ---                        │\n",
       "│ f64                      ┆ f64                        │\n",
       "╞══════════════════════════╪════════════════════════════╡\n",
       "│ 37.634091                ┆ 37.0                       │\n",
       "└──────────────────────────┴────────────────────────────┘"
      ]
     },
     "execution_count": 5,
     "metadata": {},
     "output_type": "execute_result"
    }
   ],
   "source": [
    "candidates = list(range(25,56))\n",
    "\n",
    "actual_hours = df.select(\n",
    "    pl.col(\"HWUSUAL\").fill_null(40.0).mean().alias(\"Actual Mean Hours Worked\"), \n",
    "    pl.col(\"HWUSUAL\").fill_null(40.0).median().alias(\"Actual Median Hours Worked\"),\n",
    ").collect()\n",
    "\n",
    "actual_hours"
   ]
  },
  {
   "cell_type": "code",
   "execution_count": 6,
   "metadata": {},
   "outputs": [
    {
     "data": {
      "text/html": [
       "<div><style>\n",
       ".dataframe > thead > tr,\n",
       ".dataframe > tbody > tr {\n",
       "  text-align: right;\n",
       "  white-space: pre-wrap;\n",
       "}\n",
       "</style>\n",
       "<small>shape: (1, 2)</small><table border=\"1\" class=\"dataframe\"><thead><tr><th>DP Mean Hours Worked</th><th>DP Median Hours Worked</th></tr><tr><td>f64</td><td>i64</td></tr></thead><tbody><tr><td>41.413199</td><td>51</td></tr></tbody></table></div>"
      ],
      "text/plain": [
       "shape: (1, 2)\n",
       "┌──────────────────────┬────────────────────────┐\n",
       "│ DP Mean Hours Worked ┆ DP Median Hours Worked │\n",
       "│ ---                  ┆ ---                    │\n",
       "│ f64                  ┆ i64                    │\n",
       "╞══════════════════════╪════════════════════════╡\n",
       "│ 41.413199            ┆ 51                     │\n",
       "└──────────────────────┴────────────────────────┘"
      ]
     },
     "execution_count": 6,
     "metadata": {},
     "output_type": "execute_result"
    }
   ],
   "source": [
    "dp_hours = context.query().select(\n",
    "    pl.col(\"HWUSUAL\").fill_null(40.0).dp.mean((1,45)).alias(\"DP Mean Hours Worked\"), \n",
    "    pl.col(\"HWUSUAL\").fill_null(40.0).dp.median(candidates).alias(\"DP Median Hours Worked\"),\n",
    ").release().collect()\n",
    "\n",
    "dp_hours"
   ]
  },
  {
   "cell_type": "markdown",
   "metadata": {},
   "source": [
    "## Interactive Sequential Composition\n",
    "\n",
    "In cases where you want to apply interactive sequential composition, you can use the `dp.c.make_sequential_composition` method. There are two ways to implement sequential composition in OpenDP: using transformations and measurements directly, or passing in Polars queries. \n",
    "\n",
    "Also note, that the following queries are interactive, but they should not be assumed to be adaptive.\n",
    "\n",
    "### Interactive Sequential Composition with Transformations and Measurements\n",
    "\n",
    "The interactive sequential composition doesn't use the compositor we defined at the start of this notebook. Instead, we construct a composition through transformations and measurements, combinator elements present in lower-level frameworks in the OpenDP library. \n",
    "\n",
    "We will also define a `queryable` in the following code. It can essentially be thought of as a class that executes the queries and tracks the privacy expenditure. "
   ]
  },
  {
   "cell_type": "code",
   "execution_count": 7,
   "metadata": {},
   "outputs": [],
   "source": [
    "# Define the compositor by specifying parameters. \n",
    "sc_meas = dp.c.make_sequential_composition(\n",
    "    input_domain=dp.vector_domain(dp.atom_domain(T=float)),\n",
    "    input_metric=dp.symmetric_distance(),\n",
    "    output_measure=dp.max_divergence(T=float),\n",
    "    # D_in is the upper bound on distances. \n",
    "    d_in=1,\n",
    "    # d_mids is the privacy consumption for each query. \n",
    "    d_mids=[1., 1., 2.]\n",
    ")\n",
    "\n",
    "# 40 is chosen since it represents the average working hours. \n",
    "# A lower value such as 0 may skew the results\n",
    "hours_list = list(np.array(df.select(\n",
    "                                    pl.col(\"HWUSUAL\").\n",
    "                                    fill_null(40.0).\n",
    "                                    fill_nan(40.0)).\n",
    "                                    collect()\n",
    "                                # The reshape of the list flattens it. \n",
    "                                # Which is required for the queryable input. \n",
    "                                ).reshape(-1))\n",
    "\n",
    "# This is a queryable that takes in the data similar to the context. \n",
    "sc_qbl = sc_meas(hours_list)"
   ]
  },
  {
   "cell_type": "markdown",
   "metadata": {},
   "source": [
    "The output value from `sc_meas.map(1)` is 4, the privacy consumption of the entire composition. "
   ]
  },
  {
   "cell_type": "code",
   "execution_count": 8,
   "metadata": {},
   "outputs": [
    {
     "name": "stdout",
     "output_type": "stream",
     "text": [
      "DP count:  78708\n",
      "DP Mean: 35.51057042927775\n"
     ]
    }
   ],
   "source": [
    "# Construct a measurement for mean. \n",
    "input_space = dp.vector_domain(dp.atom_domain(T=float)), dp.symmetric_distance()\n",
    "count_meas = input_space >> dp.t.then_count() >> dp.m.then_laplace(scale=1.0)\n",
    "count_release = sc_qbl(count_meas)\n",
    "print(\"DP count: \",count_release)\n",
    "\n",
    "mean_meas = (\n",
    "    input_space >> \n",
    "    dp.t.then_clamp((0.,79.)) >> \n",
    "    dp.t.then_resize(size=count_release, constant=40.) >> \n",
    "    dp.t.then_mean() >> \n",
    "    dp.m.then_laplace(1.))\n",
    "print(\"DP Mean:\", sc_qbl(mean_meas))"
   ]
  },
  {
   "cell_type": "code",
   "execution_count": 9,
   "metadata": {},
   "outputs": [
    {
     "name": "stdout",
     "output_type": "stream",
     "text": [
      "DP Median: 37\n"
     ]
    }
   ],
   "source": [
    "# Construct a measurement for median. \n",
    "discrete_scores = dp.t.make_quantile_score_candidates(dp.vector_domain(dp.atom_domain(T=float)), \n",
    "                                    dp.symmetric_distance(), \n",
    "                                    np.array(candidates).astype(float), \n",
    "                                    0.5)\n",
    "input_space = dp.vector_domain(dp.atom_domain(T=dp.usize), 31), dp.linf_distance(T=dp.usize)\n",
    "select_index_measurement = dp.m.make_report_noisy_max_gumbel(*input_space, scale=1.0, optimize='min')\n",
    "\n",
    "median_meas = discrete_scores >> select_index_measurement >> (lambda index: candidates[index])\n",
    "print(\"DP Median:\", sc_qbl(median_meas))"
   ]
  },
  {
   "cell_type": "markdown",
   "metadata": {},
   "source": [
    "That was a lot of code! But as you saw, we could change our queries depending on the outputs of other queries, illustrating interactive sequential composition.\n",
    "\n",
    "### Interactive Sequential Composition with Polars Queries\n",
    "\n",
    "You can also implement interactive sequential composition with polars queries! One of the first steps is to specify the domain of our data frame and add a margin specifying the parameters for the data when it's grouped by `ILOSTAT`. This is **in addition** to specifying it in the compositor. "
   ]
  },
  {
   "cell_type": "code",
   "execution_count": 10,
   "metadata": {},
   "outputs": [],
   "source": [
    "# Get the domain of the datafarame and specify parameters. \n",
    "df_domain = dp.domain_of(df, infer=True)\n",
    "\n",
    "df_domain = dp.with_margin(df_domain, by=[], \n",
    "                           public_info=\"lengths\", \n",
    "                           max_partition_length=1, \n",
    "                           max_num_partitions=1)\n",
    "\n",
    "proposed_plan = context.query().select(\n",
    "    pl.col(\"HWUSUAL\").fill_null(40.0).dp.mean((1,98)).alias(\"DP Mean Hours Worked\"), \n",
    "    pl.col(\"HWUSUAL\").fill_null(40.0).dp.median(candidates).alias(\"DP Median Hours Worked\"),\n",
    ")\n"
   ]
  },
  {
   "cell_type": "markdown",
   "metadata": {},
   "source": [
    "Next, we set up a measurement to execute the sequential queries and pass them in our `df_domain` and `proposed_plan`. We can pass our data to this measurement and then collect our results. "
   ]
  },
  {
   "cell_type": "code",
   "execution_count": 11,
   "metadata": {},
   "outputs": [
    {
     "data": {
      "text/html": [
       "<div><style>\n",
       ".dataframe > thead > tr,\n",
       ".dataframe > tbody > tr {\n",
       "  text-align: right;\n",
       "  white-space: pre-wrap;\n",
       "}\n",
       "</style>\n",
       "<small>shape: (1, 2)</small><table border=\"1\" class=\"dataframe\"><thead><tr><th>DP Mean Hours Worked</th><th>DP Median Hours Worked</th></tr><tr><td>f64</td><td>i64</td></tr></thead><tbody><tr><td>37.637408</td><td>49</td></tr></tbody></table></div>"
      ],
      "text/plain": [
       "shape: (1, 2)\n",
       "┌──────────────────────┬────────────────────────┐\n",
       "│ DP Mean Hours Worked ┆ DP Median Hours Worked │\n",
       "│ ---                  ┆ ---                    │\n",
       "│ f64                  ┆ i64                    │\n",
       "╞══════════════════════╪════════════════════════╡\n",
       "│ 37.637408            ┆ 49                     │\n",
       "└──────────────────────┴────────────────────────┘"
      ]
     },
     "execution_count": 11,
     "metadata": {},
     "output_type": "execute_result"
    }
   ],
   "source": [
    "#TODO: Fix Parameters\n",
    "\n",
    "# Polars Lazyframe\n",
    "m_polars = dp.m.make_private_lazyframe(\n",
    "    input_domain=df_domain, \n",
    "    input_metric=dp.symmetric_distance(), \n",
    "    output_measure=dp.max_divergence(T=float), \n",
    "    lazyframe=proposed_plan, \n",
    "    global_scale=45.\n",
    ")\n",
    "\n",
    "# Measurement for sequential composition. \n",
    "m_comp = dp.c.make_sequential_composition(\n",
    "    m_polars.input_domain,\n",
    "    m_polars.input_metric,\n",
    "    m_polars.output_measure,\n",
    "    2, \n",
    "    [3., 3.]\n",
    ")\n",
    "\n",
    "qbl_comp = m_comp(df)\n",
    "qbl_comp(m_polars).collect()"
   ]
  },
  {
   "cell_type": "markdown",
   "metadata": {},
   "source": [
    "## Parallel Composition\n",
    "\n",
    "Parallel composition can be viewed as an alternative to sequential composition since it's another way to calculate a bound on the total privacy cost of multiple queries. \n",
    "\n",
    "Parallel composition involves partitioning the input dataset into disjoint partitions and applying a differentially private mechanism on each chunk independent of all other chunks. Assuming each individual is represented once in the dataset, their data will appear in exactly one chunk. If there are $k$ chunks, there will be $k$ runs of the differentially private mechanisms.\n",
    "\n",
    "To apply parallel composition, we need to set up our margin or define our query to allow each individual to influence at most 1 partition, or appear at most in 1 chunk. This is different from earlier in the notebook where we assumed 36 contributions per user since each user was represented once per year-quarter across 13 years. \n",
    "\n",
    "### Noninteractive Parallel Composition\n",
    "\n",
    "In the following example, each individual is represented just one each year, quarter, and labor status. Moreover, this example also satisfies the properties of noninteractive sequential composition since all the queries are executed simultaneously. "
   ]
  },
  {
   "cell_type": "code",
   "execution_count": 12,
   "metadata": {},
   "outputs": [
    {
     "data": {
      "text/html": [
       "<div><style>\n",
       ".dataframe > thead > tr,\n",
       ".dataframe > tbody > tr {\n",
       "  text-align: right;\n",
       "  white-space: pre-wrap;\n",
       "}\n",
       "</style>\n",
       "<small>shape: (160, 5)</small><table border=\"1\" class=\"dataframe\"><thead><tr><th>YEAR</th><th>QUARTER</th><th>ILOSTAT</th><th>DP Mean Hours Worked</th><th>DP Median Hours Worked</th></tr><tr><td>i64</td><td>i64</td><td>i64</td><td>f64</td><td>i64</td></tr></thead><tbody><tr><td>2004</td><td>1</td><td>1</td><td>39.467307</td><td>45</td></tr><tr><td>2004</td><td>1</td><td>9</td><td>98.12098</td><td>37</td></tr><tr><td>2004</td><td>1</td><td>2</td><td>107.907955</td><td>27</td></tr><tr><td>2004</td><td>1</td><td>3</td><td>98.999954</td><td>37</td></tr><tr><td>2004</td><td>2</td><td>9</td><td>95.86399</td><td>49</td></tr><tr><td>&hellip;</td><td>&hellip;</td><td>&hellip;</td><td>&hellip;</td><td>&hellip;</td></tr><tr><td>2013</td><td>3</td><td>1</td><td>36.534645</td><td>36</td></tr><tr><td>2013</td><td>4</td><td>2</td><td>92.4327</td><td>34</td></tr><tr><td>2013</td><td>4</td><td>1</td><td>36.891254</td><td>38</td></tr><tr><td>2013</td><td>4</td><td>9</td><td>98.131202</td><td>55</td></tr><tr><td>2013</td><td>4</td><td>3</td><td>98.266865</td><td>38</td></tr></tbody></table></div>"
      ],
      "text/plain": [
       "shape: (160, 5)\n",
       "┌──────┬─────────┬─────────┬──────────────────────┬────────────────────────┐\n",
       "│ YEAR ┆ QUARTER ┆ ILOSTAT ┆ DP Mean Hours Worked ┆ DP Median Hours Worked │\n",
       "│ ---  ┆ ---     ┆ ---     ┆ ---                  ┆ ---                    │\n",
       "│ i64  ┆ i64     ┆ i64     ┆ f64                  ┆ i64                    │\n",
       "╞══════╪═════════╪═════════╪══════════════════════╪════════════════════════╡\n",
       "│ 2004 ┆ 1       ┆ 1       ┆ 39.467307            ┆ 45                     │\n",
       "│ 2004 ┆ 1       ┆ 9       ┆ 98.12098             ┆ 37                     │\n",
       "│ 2004 ┆ 1       ┆ 2       ┆ 107.907955           ┆ 27                     │\n",
       "│ 2004 ┆ 1       ┆ 3       ┆ 98.999954            ┆ 37                     │\n",
       "│ 2004 ┆ 2       ┆ 9       ┆ 95.86399             ┆ 49                     │\n",
       "│ …    ┆ …       ┆ …       ┆ …                    ┆ …                      │\n",
       "│ 2013 ┆ 3       ┆ 1       ┆ 36.534645            ┆ 36                     │\n",
       "│ 2013 ┆ 4       ┆ 2       ┆ 92.4327              ┆ 34                     │\n",
       "│ 2013 ┆ 4       ┆ 1       ┆ 36.891254            ┆ 38                     │\n",
       "│ 2013 ┆ 4       ┆ 9       ┆ 98.131202            ┆ 55                     │\n",
       "│ 2013 ┆ 4       ┆ 3       ┆ 98.266865            ┆ 38                     │\n",
       "└──────┴─────────┴─────────┴──────────────────────┴────────────────────────┘"
      ]
     },
     "execution_count": 12,
     "metadata": {},
     "output_type": "execute_result"
    }
   ],
   "source": [
    "context.query().group_by([\"YEAR\",\"QUARTER\",\"ILOSTAT\"]).agg(\n",
    "    pl.col(\"HWUSUAL\").fill_null(40.).dp.mean((1,98)).alias(\"DP Mean Hours Worked\"),\n",
    "    pl.col(\"HWUSUAL\").fill_null(40.).dp.median(candidates).alias(\"DP Median Hours Worked\")\n",
    ").release().collect().sort([\"YEAR\", \"QUARTER\"])"
   ]
  },
  {
   "cell_type": "markdown",
   "metadata": {},
   "source": [
    "### Interactive Parallel Composition\n",
    "\n",
    "We'll illustrate interactive parallel composition using the polar-interactivity methods. Much of the code is similar to interactive sequential composition. The primary change is the domain and proposed plan. "
   ]
  },
  {
   "cell_type": "code",
   "execution_count": 13,
   "metadata": {},
   "outputs": [
    {
     "data": {
      "text/html": [
       "<div><style>\n",
       ".dataframe > thead > tr,\n",
       ".dataframe > tbody > tr {\n",
       "  text-align: right;\n",
       "  white-space: pre-wrap;\n",
       "}\n",
       "</style>\n",
       "<small>shape: (40, 5)</small><table border=\"1\" class=\"dataframe\"><thead><tr><th>YEAR</th><th>QUARTER</th><th>ILOSTAT</th><th>DP Mean Hours Worked</th><th>DP Median Hours Worked</th></tr><tr><td>i64</td><td>i64</td><td>i64</td><td>f64</td><td>i64</td></tr></thead><tbody><tr><td>2013</td><td>4</td><td>1</td><td>37.032269</td><td>33</td></tr><tr><td>2006</td><td>3</td><td>1</td><td>37.36276</td><td>46</td></tr><tr><td>2007</td><td>2</td><td>1</td><td>37.543822</td><td>34</td></tr><tr><td>2006</td><td>4</td><td>1</td><td>37.553167</td><td>51</td></tr><tr><td>2007</td><td>4</td><td>1</td><td>37.903047</td><td>43</td></tr><tr><td>&hellip;</td><td>&hellip;</td><td>&hellip;</td><td>&hellip;</td><td>&hellip;</td></tr><tr><td>2010</td><td>4</td><td>1</td><td>37.719556</td><td>52</td></tr><tr><td>2008</td><td>3</td><td>1</td><td>37.951766</td><td>27</td></tr><tr><td>2009</td><td>1</td><td>1</td><td>37.086426</td><td>54</td></tr><tr><td>2013</td><td>1</td><td>1</td><td>37.549942</td><td>26</td></tr><tr><td>2012</td><td>1</td><td>1</td><td>37.877217</td><td>40</td></tr></tbody></table></div>"
      ],
      "text/plain": [
       "shape: (40, 5)\n",
       "┌──────┬─────────┬─────────┬──────────────────────┬────────────────────────┐\n",
       "│ YEAR ┆ QUARTER ┆ ILOSTAT ┆ DP Mean Hours Worked ┆ DP Median Hours Worked │\n",
       "│ ---  ┆ ---     ┆ ---     ┆ ---                  ┆ ---                    │\n",
       "│ i64  ┆ i64     ┆ i64     ┆ f64                  ┆ i64                    │\n",
       "╞══════╪═════════╪═════════╪══════════════════════╪════════════════════════╡\n",
       "│ 2013 ┆ 4       ┆ 1       ┆ 37.032269            ┆ 33                     │\n",
       "│ 2006 ┆ 3       ┆ 1       ┆ 37.36276             ┆ 46                     │\n",
       "│ 2007 ┆ 2       ┆ 1       ┆ 37.543822            ┆ 34                     │\n",
       "│ 2006 ┆ 4       ┆ 1       ┆ 37.553167            ┆ 51                     │\n",
       "│ 2007 ┆ 4       ┆ 1       ┆ 37.903047            ┆ 43                     │\n",
       "│ …    ┆ …       ┆ …       ┆ …                    ┆ …                      │\n",
       "│ 2010 ┆ 4       ┆ 1       ┆ 37.719556            ┆ 52                     │\n",
       "│ 2008 ┆ 3       ┆ 1       ┆ 37.951766            ┆ 27                     │\n",
       "│ 2009 ┆ 1       ┆ 1       ┆ 37.086426            ┆ 54                     │\n",
       "│ 2013 ┆ 1       ┆ 1       ┆ 37.549942            ┆ 26                     │\n",
       "│ 2012 ┆ 1       ┆ 1       ┆ 37.877217            ┆ 40                     │\n",
       "└──────┴─────────┴─────────┴──────────────────────┴────────────────────────┘"
      ]
     },
     "execution_count": 13,
     "metadata": {},
     "output_type": "execute_result"
    }
   ],
   "source": [
    "#get the domain of the datafarame\n",
    "lf_domain = dp.domain_of(df, infer=True)\n",
    "lf_domain = dp.with_margin(lf_domain, by=[\"YEAR\",\"QUARTER\",\"ILOSTAT\"], \n",
    "                           public_info=\"lengths\", \n",
    "                           max_partition_length=50, \n",
    "                           max_num_partitions=3)\n",
    "\n",
    "proposed_plan = context.query().group_by([\"YEAR\",\"QUARTER\",\"ILOSTAT\"]).agg(\n",
    "    pl.col(\"HWUSUAL\").fill_null(40.).dp.mean((1,98), 8).alias(\"DP Mean Hours Worked\"),\n",
    "    pl.col(\"HWUSUAL\").fill_null(40.).dp.median(candidates, 8).alias(\"DP Median Hours Worked\")\n",
    ")\n",
    "# IN SERVER\n",
    "m_polars = dp.m.make_private_lazyframe(\n",
    "    input_domain=lf_domain, \n",
    "    input_metric=dp.symmetric_distance(), \n",
    "    output_measure=dp.max_divergence(T=float), \n",
    "    lazyframe=proposed_plan, \n",
    "    global_scale=1.\n",
    ")\n",
    "\n",
    "m_comp = dp.c.make_sequential_composition(\n",
    "    m_polars.input_domain,\n",
    "    m_polars.input_metric,\n",
    "    m_polars.output_measure,\n",
    "    2, \n",
    "    [18.0, 18.0]\n",
    ")\n",
    "\n",
    "\n",
    "qbl_comp = m_comp(df)\n",
    "qbl_comp(m_polars).collect()"
   ]
  },
  {
   "cell_type": "markdown",
   "metadata": {},
   "source": [
    "## Comparison of Sequential and Parallel\n",
    "\n",
    "Overall, parallel composition provides a much better bound than sequential composition. The total privacy loss for parallel composition is just ε since there are $k$ disjoint partitions and each of them also satisfies ε-dp. With sequential composition, the total privacy loss is $k$ * ε since we would run each query $k$ times.\n",
    "\n",
    "However, one disadvantage of parallel composition is that has the dataset is split into more parts, each part will have a weaker signal and hence less accuracy. \n",
    "\n",
    "Additionally, in cases where we want statistics that reference the whole dataset, sequential composition may be a better fit. \n",
    "\n",
    "Therefore, the recommendation is to use parallel composition unless the partitions are too small to provide adequate accuracy or the entire data needs to be referenced for the calculated statistics. \n",
    "\n",
    "## Conclusion\n",
    "\n",
    "This notebook illustrated: \n",
    "\n",
    "- The difference between interactive and noninteractive queries. \n",
    "- The definition and properties of sequential composition. \n",
    "- How to implement non-interactive sequential composition with polars, interactive sequential composition using transformations and measurements directly, and interactive sequential composition using polars queries. \n",
    "- The definition and properties of parallel composition. \n",
    "- How to implement noninteractive parallel composition and interactive parallel composition. \n",
    "- The differences between parallel and sequential composition and recommendations for when to choose which. \n",
    "\n",
    "\n",
    "Further reading:\n",
    "\n",
    "- [Programming Differential Privacy: Properties of Differential Privacy](https://programming-dp.com/ch4.html)\n",
    "- [Concurrent Composition of Differential Privacy](https://eprint.iacr.org/2021/1196.pdf)"
   ]
  }
 ],
 "metadata": {
  "kernelspec": {
   "display_name": "Python 3",
   "language": "python",
   "name": "python3"
  },
  "language_info": {
   "codemirror_mode": {
    "name": "ipython",
    "version": 3
   },
   "file_extension": ".py",
   "mimetype": "text/x-python",
   "name": "python",
   "nbconvert_exporter": "python",
   "pygments_lexer": "ipython3",
   "version": "3.12.3"
  },
  "nbsphinx": {
   "orphan": true
  }
 },
 "nbformat": 4,
 "nbformat_minor": 2
}
