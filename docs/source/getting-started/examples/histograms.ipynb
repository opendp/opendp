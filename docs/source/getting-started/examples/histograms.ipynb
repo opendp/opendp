{
 "cells": [
  {
   "cell_type": "markdown",
   "metadata": {},
   "source": [
    "# Privatizing Histograms\n",
    "\n",
    "Sometimes we want to release the counts of individual outcomes in a dataset.\n",
    "When plotted, this makes a histogram.\n",
    "\n",
    "The library currently has two approaches:\n",
    "\n",
    "1. Known category set `make_count_by_categories`\n",
    "2. Unknown category set `make_count_by`\n",
    "\n",
    "The next code block imports handles boilerplate: imports, data loading, plotting."
   ]
  },
  {
   "cell_type": "code",
   "execution_count": 1,
   "metadata": {
    "pycharm": {
     "name": "#%%\n"
    }
   },
   "outputs": [],
   "source": [
    "import opendp.prelude as dp\n",
    "dp.enable_features(\"contrib\", \"floating-point\")\n",
    "max_influence = 1\n",
    "budget = (1., 1e-8)\n",
    "\n",
    "# public information\n",
    "col_names = [\"age\", \"sex\", \"educ\", \"race\", \"income\", \"married\"]\n",
    "size = 1000\n",
    "\n",
    "data = dp.examples.get_california_pums_path().read_text()\n",
    "\n",
    "def plot_histogram(sensitive_counts, released_counts):\n",
    "    \"\"\"Plot a histogram that compares true data against released data\"\"\"\n",
    "    import matplotlib.pyplot as plt\n",
    "    import matplotlib.ticker as ticker\n",
    "\n",
    "    fig = plt.figure()\n",
    "    ax = fig.add_axes([1,1,1,1])\n",
    "    plt.ylim([0,225])\n",
    "    tick_spacing = 1.\n",
    "    ax.xaxis.set_major_locator(ticker.MultipleLocator(tick_spacing))\n",
    "    plt.xlim(0,15)\n",
    "    width = .4\n",
    "\n",
    "    ax.bar(list([x+width for x in range(0, len(sensitive_counts))]), sensitive_counts, width=width, label='True Value')\n",
    "    ax.bar(list([x+2*width for x in range(0, len(released_counts))]), released_counts, width=width, label='DP Value')\n",
    "    ax.legend()\n",
    "    plt.title('Histogram of Education Level')\n",
    "    plt.xlabel('Years of Education')\n",
    "    plt.ylabel('Count')\n",
    "    plt.show()"
   ]
  },
  {
   "cell_type": "markdown",
   "metadata": {
    "pycharm": {
     "name": "#%% md\n"
    }
   },
   "source": [
    "## Private histogram via `make_count_by_categories`\n",
    "\n",
    "This approach is only applicable if the set of potential values that the data may take on is public information.\n",
    "If this information is not available, then use `make_count_by` instead.\n",
    "It typically has greater utility than `make_count_by` until the size of the category set is greater than dataset size.\n",
    "In this data, we know that the category set is public information:\n",
    "strings consisting of the numbers between 1 and 20.\n",
    "\n",
    "The counting aggregator computes a vector of counts in the same order as the input categories.\n",
    "It also includes one extra count at the end of the vector,\n",
    "consisting of the number of elements that were not members of the category set."
   ]
  },
  {
   "cell_type": "code",
   "execution_count": 2,
   "metadata": {
    "pycharm": {
     "name": "#%%\n"
    }
   },
   "outputs": [
    {
     "name": "stderr",
     "output_type": "stream",
     "text": [
      "/var/folders/lc/l1nrfls97n591dg9pb5dybzc0000gq/T/ipykernel_20412/3114099242.py:5: DeprecationWarning: Call to deprecated function (or staticmethod) make_split_dataframe. (Use Polars instead) -- Deprecated since version 0.12.0.\n",
      "  dp.t.make_split_dataframe(separator=\",\", col_names=col_names) >>\n",
      "/var/folders/lc/l1nrfls97n591dg9pb5dybzc0000gq/T/ipykernel_20412/3114099242.py:6: DeprecationWarning: Call to deprecated function (or staticmethod) make_select_column. (Use Polars instead) -- Deprecated since version 0.12.0.\n",
      "  dp.t.make_select_column(key=\"educ\", TOA=str) >>\n"
     ]
    },
    {
     "name": "stdout",
     "output_type": "stream",
     "text": [
      "Educational level counts:\n",
      " [33, 14, 38, 17, 24, 21, 31, 51, 201, 60, 165, 76, 178, 54, 24, 13, 0, 0, 0]\n",
      "DP Educational level counts:\n",
      " [35, 14, 40, 15, 24, 22, 31, 51, 201, 61, 165, 77, 177, 54, 23, 14, -1, 2, 0]\n",
      "DP estimate for the number of records that were not a member of the category set: -1\n"
     ]
    },
    {
     "data": {
      "image/png": "[encoded data removed]",
      "text/plain": [
       "<Figure size 640x480 with 1 Axes>"
      ]
     },
     "metadata": {},
     "output_type": "display_data"
    }
   ],
   "source": [
    "# public information\n",
    "categories = list(map(str, range(1, 20)))\n",
    "\n",
    "histogram = (\n",
    "    dp.t.make_split_dataframe(separator=\",\", col_names=col_names) >>\n",
    "    dp.t.make_select_column(key=\"educ\", TOA=str) >>\n",
    "    # Compute counts for each of the categories and null\n",
    "    dp.t.then_count_by_categories(categories=categories)\n",
    ")\n",
    "\n",
    "noisy_histogram = dp.binary_search_chain(\n",
    "    lambda s: histogram >> dp.m.then_laplace(scale=s),\n",
    "    d_in=max_influence, d_out=budget[0])\n",
    "\n",
    "sensitive_counts = histogram(data)\n",
    "released_counts = noisy_histogram(data)\n",
    "\n",
    "print(\"Educational level counts:\\n\", sensitive_counts[:-1])\n",
    "print(\"DP Educational level counts:\\n\", released_counts[:-1])\n",
    "\n",
    "print(\"DP estimate for the number of records that were not a member of the category set:\", released_counts[-1])\n",
    "\n",
    "plot_histogram(sensitive_counts, released_counts)"
   ]
  },
  {
   "attachments": {},
   "cell_type": "markdown",
   "metadata": {
    "pycharm": {
     "name": "#%% md\n"
    }
   },
   "source": [
    "## Private histogram via `make_count_by` and `make_laplace_threshold`\n",
    "This approach is applicable when the set of categories is unknown or very large.\n",
    "The `make_count_by` transformation computes a hashmap containing the count of each unique key,\n",
    "and `make_laplace_threshold` adds noise to the counts and censors counts less than some threshold.\n",
    "\n",
    "On `make_laplace_threshold`, the noise scale parameter influences the epsilon parameter of the budget, \n",
    "and the threshold influences the delta parameter in the budget.\n",
    "Any category with a count sufficiently small is censored from the release.\n",
    "\n",
    "It is sometimes referred to as a \"stability histogram\" because it only releases counts for \"stable\" categories that exist in all datasets that are considered \"neighboring\" to your private dataset.\n",
    "\n",
    "I start out by defining a function that finds the tightest noise scale and threshold for which the stability histogram is `(d_in, d_out)`-close."
   ]
  },
  {
   "cell_type": "code",
   "execution_count": 3,
   "metadata": {
    "pycharm": {
     "name": "#%%\n"
    }
   },
   "outputs": [],
   "source": [
    "def make_laplace_threshold_budget(\n",
    "    preprocess: dp.Transformation,\n",
    "    d_in, d_out\n",
    ") -> dp.Measurement:\n",
    "    \"\"\"Make a stability histogram that respects a given d_in, d_out.\"\"\"\n",
    "    def privatize(s, t=100_000):\n",
    "        return preprocess >> dp.m.then_laplace_threshold(scale=s, threshold=t)\n",
    "    \n",
    "    s = dp.binary_search(lambda s: privatize(s=s).map(d_in)[0] <= d_out[0])\n",
    "    t = dp.binary_search(lambda t: privatize(s=s, t=t).map(d_in)[1] <= d_out[1], T=int)\n",
    "\n",
    "    return privatize(s=s, t=t)"
   ]
  },
  {
   "attachments": {},
   "cell_type": "markdown",
   "metadata": {},
   "source": [
    "I now use the `make_laplace_threshold_budget` constructor to release a private histogram on the education data."
   ]
  },
  {
   "cell_type": "code",
   "execution_count": 4,
   "metadata": {
    "pycharm": {
     "name": "#%%\n"
    }
   },
   "outputs": [
    {
     "name": "stderr",
     "output_type": "stream",
     "text": [
      "/var/folders/lc/l1nrfls97n591dg9pb5dybzc0000gq/T/ipykernel_20412/1471925572.py:2: DeprecationWarning: Call to deprecated function (or staticmethod) make_split_dataframe. (Use Polars instead) -- Deprecated since version 0.12.0.\n",
      "  dp.t.make_split_dataframe(separator=\",\", col_names=col_names) >>\n",
      "/var/folders/lc/l1nrfls97n591dg9pb5dybzc0000gq/T/ipykernel_20412/1471925572.py:3: DeprecationWarning: Call to deprecated function (or staticmethod) make_select_column. (Use Polars instead) -- Deprecated since version 0.12.0.\n",
      "  dp.t.make_select_column(key=\"educ\", TOA=str) >>\n"
     ]
    },
    {
     "name": "stdout",
     "output_type": "stream",
     "text": [
      "l0: 1, l1: 1, li: 1\n",
      "l0: 1, l1: 1, li: 1\n",
      "l0: 1, l1: 1, li: 1\n",
      "l0: 1, l1: 1, li: 1\n",
      "l0: 1, l1: 1, li: 1\n",
      "l0: 1, l1: 1, li: 1\n",
      "l0: 1, l1: 1, li: 1\n",
      "l0: 1, l1: 1, li: 1\n",
      "l0: 1, l1: 1, li: 1\n",
      "l0: 1, l1: 1, li: 1\n",
      "l0: 1, l1: 1, li: 1\n",
      "l0: 1, l1: 1, li: 1\n",
      "l0: 1, l1: 1, li: 1\n",
      "l0: 1, l1: 1, li: 1\n",
      "l0: 1, l1: 1, li: 1\n",
      "l0: 1, l1: 1, li: 1\n",
      "l0: 1, l1: 1, li: 1\n",
      "l0: 1, l1: 1, li: 1\n",
      "l0: 1, l1: 1, li: 1\n",
      "l0: 1, l1: 1, li: 1\n",
      "l0: 1, l1: 1, li: 1\n",
      "l0: 1, l1: 1, li: 1\n",
      "l0: 1, l1: 1, li: 1\n",
      "l0: 1, l1: 1, li: 1\n",
      "l0: 1, l1: 1, li: 1\n",
      "l0: 1, l1: 1, li: 1\n",
      "l0: 1, l1: 1, li: 1\n",
      "l0: 1, l1: 1, li: 1\n",
      "l0: 1, l1: 1, li: 1\n",
      "l0: 1, l1: 1, li: 1\n",
      "l0: 1, l1: 1, li: 1\n",
      "l0: 1, l1: 1, li: 1\n",
      "l0: 1, l1: 1, li: 1\n",
      "l0: 1, l1: 1, li: 1\n",
      "l0: 1, l1: 1, li: 1\n",
      "l0: 1, l1: 1, li: 1\n",
      "l0: 1, l1: 1, li: 1\n",
      "l0: 1, l1: 1, li: 1\n",
      "l0: 1, l1: 1, li: 1\n",
      "l0: 1, l1: 1, li: 1\n",
      "l0: 1, l1: 1, li: 1\n",
      "l0: 1, l1: 1, li: 1\n",
      "l0: 1, l1: 1, li: 1\n",
      "l0: 1, l1: 1, li: 1\n",
      "l0: 1, l1: 1, li: 1\n",
      "l0: 1, l1: 1, li: 1\n",
      "l0: 1, l1: 1, li: 1\n",
      "l0: 1, l1: 1, li: 1\n",
      "l0: 1, l1: 1, li: 1\n",
      "l0: 1, l1: 1, li: 1\n",
      "l0: 1, l1: 1, li: 1\n",
      "l0: 1, l1: 1, li: 1\n",
      "l0: 1, l1: 1, li: 1\n",
      "l0: 1, l1: 1, li: 1\n",
      "l0: 1, l1: 1, li: 1\n",
      "l0: 1, l1: 1, li: 1\n",
      "l0: 1, l1: 1, li: 1\n",
      "l0: 1, l1: 1, li: 1\n",
      "l0: 1, l1: 1, li: 1\n",
      "l0: 1, l1: 1, li: 1\n",
      "l0: 1, l1: 1, li: 1\n",
      "l0: 1, l1: 1, li: 1\n",
      "l0: 1, l1: 1, li: 1\n",
      "l0: 1, l1: 1, li: 1\n",
      "l0: 1, l1: 1, li: 1\n",
      "l0: 1, l1: 1, li: 1\n",
      "l0: 1, l1: 1, li: 1\n",
      "l0: 1, l1: 1, li: 1\n",
      "l0: 1, l1: 1, li: 1\n",
      "l0: 1, l1: 1, li: 1\n",
      "l0: 1, l1: 1, li: 1\n",
      "l0: 1, l1: 1, li: 1\n",
      "l0: 1, l1: 1, li: 1\n",
      "l0: 1, l1: 1, li: 1\n",
      "l0: 1, l1: 1, li: 1\n",
      "l0: 1, l1: 1, li: 1\n",
      "l0: 1, l1: 1, li: 1\n",
      "l0: 1, l1: 1, li: 1\n",
      "l0: 1, l1: 1, li: 1\n",
      "l0: 1, l1: 1, li: 1\n",
      "l0: 1, l1: 1, li: 1\n",
      "l0: 1, l1: 1, li: 1\n",
      "l0: 1, l1: 1, li: 1\n",
      "l0: 1, l1: 1, li: 1\n",
      "l0: 1, l1: 1, li: 1\n",
      "Educational level counts:\n",
      " [33, 14, 38, 17, 24, 21, 31, 51, 201, 60, 165, 76, 178, 54, 24, 13, 0, 0, 0, 0]\n",
      "DP Educational level counts:\n",
      " {'11': 165, '3': 36, '10': 60, '15': 26, '7': 30, '6': 25, '9': 200, '8': 52, '14': 54, '5': 26, '1': 36, '13': 180, '12': 76}\n"
     ]
    },
    {
     "data": {
      "image/png": "[encoded data removed]",
      "text/plain": [
       "<Figure size 640x480 with 1 Axes>"
      ]
     },
     "metadata": {},
     "output_type": "display_data"
    }
   ],
   "source": [
    "preprocess = (\n",
    "    dp.t.make_split_dataframe(separator=\",\", col_names=col_names) >>\n",
    "    dp.t.make_select_column(key=\"educ\", TOA=str) >>\n",
    "    dp.t.then_count_by()\n",
    ")\n",
    "\n",
    "noisy_histogram = make_laplace_threshold_budget(\n",
    "    preprocess,\n",
    "    d_in=max_influence, d_out=budget)\n",
    "\n",
    "sensitive_counts = histogram(data)\n",
    "released_counts = noisy_histogram(data)\n",
    "# postprocess to make the results easier to compare\n",
    "postprocessed_counts = {k: round(v) for k, v in released_counts.items()}\n",
    "\n",
    "print(\"Educational level counts:\\n\", sensitive_counts)\n",
    "print(\"DP Educational level counts:\\n\", postprocessed_counts)\n",
    "\n",
    "def as_array(data):\n",
    "    return [data.get(k, 0) for k in categories]\n",
    "\n",
    "plot_histogram(sensitive_counts, as_array(released_counts))"
   ]
  }
 ],
 "metadata": {
  "kernelspec": {
   "display_name": ".venv",
   "language": "python",
   "name": "python3"
  },
  "language_info": {
   "codemirror_mode": {
    "name": "ipython",
    "version": 3
   },
   "file_extension": ".py",
   "mimetype": "text/x-python",
   "name": "python",
   "nbconvert_exporter": "python",
   "pygments_lexer": "ipython3",
   "version": "3.13.2"
  }
 },
 "nbformat": 4,
 "nbformat_minor": 1
}
