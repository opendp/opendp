{
 "cells": [
  {
   "cell_type": "markdown",
   "metadata": {},
   "source": [
    "# Pre-Processing Labor Force Survey Data"
   ]
  },
  {
   "cell_type": "markdown",
   "metadata": {},
   "source": [
    "The dataset was originally downloaded directly from [Eurostat](https://ec.europa.eu/eurostat/web/microdata/public-microdata/labour-force-survey). This notebook creates the sample data set used in the examples. The final sample version can also be directly downloaded from the [tests repository](https://github.com/opendp/dp-test-datasets/blob/master/data/sample_FR_LFS.csv.zip). "
   ]
  },
  {
   "cell_type": "code",
   "execution_count": null,
   "metadata": {},
   "outputs": [],
   "source": [
    "import pandas as pd \n",
    "import os \n",
    "\n",
    "dfs = []\n",
    "for filename in os.listdir('FR_PUF_LFS'):\n",
    "    if filename.endswith('.csv') and \"_Y\" not in filename:\n",
    "        file_path = os.path.join('FR_PUF_LFS', filename)\n",
    "        temp = pd.read_csv(file_path)\n",
    "        dfs.append(temp)\n",
    "\n",
    "df = pd.concat(dfs, ignore_index=True)\n",
    "\n",
    "#drop all columns and rows with only nan values\n",
    "df = df.dropna(axis=1, how='all')\n",
    "df = df.dropna(axis=0, how='all')\n",
    "df['QUARTER'] = df['QUARTER'].apply(lambda x: int(x[-1]))\n",
    "df\n"
   ]
  },
  {
   "cell_type": "code",
   "execution_count": null,
   "metadata": {},
   "outputs": [],
   "source": [
    "sample = df.sample(50_000, random_state=1)\n",
    "sample.to_csv('sample_FR_LFS.csv', index=False)"
   ]
  }
 ],
 "metadata": {
  "kernelspec": {
   "display_name": ".venv",
   "language": "python",
   "name": "python3"
  },
  "language_info": {
   "codemirror_mode": {
    "name": "ipython",
    "version": 3
   },
   "file_extension": ".py",
   "mimetype": "text/x-python",
   "name": "python",
   "nbconvert_exporter": "python",
   "pygments_lexer": "ipython3",
   "version": "3.12.3"
  }
 },
 "nbformat": 4,
 "nbformat_minor": 2
}
