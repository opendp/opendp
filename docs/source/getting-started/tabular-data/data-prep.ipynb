{
 "cells": [
  {
   "cell_type": "markdown",
   "metadata": {},
   "source": [
    "# Data Preparation"
   ]
  },
  {
   "cell_type": "markdown",
   "metadata": {},
   "source": [
    "This section explains the limitations of the `with_columns` and `filter` methods in the Context API's polars integration. \n",
    "\n",
    "Although the methods' purpose and functionality are similar to their usage in regular polars queries, their use in differentially private queries also has privacy implications that may not be apparent. \n"
   ]
  },
  {
   "cell_type": "markdown",
   "metadata": {},
   "source": [
    "## Set Up"
   ]
  },
  {
   "cell_type": "code",
   "execution_count": 1,
   "metadata": {},
   "outputs": [],
   "source": [
    "import requests\n",
    "import zipfile\n",
    "import io\n",
    "\n",
    "import polars as pl \n",
    "import opendp.prelude as dp\n",
    "import seaborn as sns \n",
    "import matplotlib.pyplot as plt\n",
    "\n",
    "dp.enable_features(\"contrib\")\n",
    "sns.set_theme(style='darkgrid')"
   ]
  },
  {
   "cell_type": "code",
   "execution_count": 20,
   "metadata": {},
   "outputs": [
    {
     "name": "stderr",
     "output_type": "stream",
     "text": [
      "/var/folders/dg/nlwnz_jj7rsblr2tzwj962b40000gn/T/ipykernel_35065/3127421754.py:11: UserWarning: Polars found a filename. Ensure you pass a path to the file instead of a python file object when possible for best performance.\n",
      "  df = pl.read_csv(file, ignore_errors=True)\n"
     ]
    }
   ],
   "source": [
    "url = \"https://github.com/opendp/dp-test-datasets/blob/master/data/sample_FR_LFS.csv.zip?raw=true\"\n",
    "\n",
    "response = requests.get(url)\n",
    "response.raise_for_status()\n",
    "\n",
    "with zipfile.ZipFile(io.BytesIO(response.content)) as the_zip:\n",
    "    with the_zip.open(\"sample_FR_LFS.csv\") as file:\n",
    "        # Set ignore_errors to true to avoid conversion issues in len function. \n",
    "        # Many columns contain mixtures of strings and numbers and cannot be parsed as floats.\n",
    "\n",
    "        df = pl.read_csv(file, ignore_errors=True)\n",
    "        df = pl.LazyFrame(df)"
   ]
  },
  {
   "cell_type": "markdown",
   "metadata": {},
   "source": [
    "<!--\n",
    "See the introduction for more information on the parameters. #TODO ADD LINK\n",
    ">"
   ]
  },
  {
   "cell_type": "code",
   "execution_count": null,
   "metadata": {},
   "outputs": [],
   "source": [
    "estimated_max_partition_len = 60_000_000\n",
    "\n",
    "context = dp.Context.compositor(\n",
    "    data=df,\n",
    "    privacy_unit=dp.unit_of(contributions=36),\n",
    "    privacy_loss=dp.loss_of(epsilon=1.0),\n",
    "    split_evenly_over=5,\n",
    "    margins={\n",
    "        (\"YEAR\", ): dp.Margin(max_partition_length=estimated_max_partition_len, max_partition_contributions=4),\n",
    "        (): dp.Margin(public_info= \"lengths\",max_partition_length=estimated_max_partition_len, max_num_partitions=1),\n",
    "    },\n",
    ")"
   ]
  },
  {
   "cell_type": "markdown",
   "metadata": {},
   "source": [
    "## Limitations of `with_columns`"
   ]
  },
  {
   "cell_type": "markdown",
   "metadata": {},
   "source": [
    "The method `with_columns` is used to add or change columns in a data frame. One common use can be adding labels to variables that have numerical coding. This can be demonstrated through the following query which computes the number of people in each labor category and then adds the codes' meaning. "
   ]
  },
  {
   "cell_type": "code",
   "execution_count": null,
   "metadata": {},
   "outputs": [],
   "source": [
    "dp_values = context.query().group_by(\"ILOSTAT\").agg(pl.len().dp.noise()).release().collect()\n",
    "\n",
    "labor_status_codes = {\n",
    "    9: 'NA',\n",
    "    2: 'Not Working But Employed',\n",
    "    1: 'Working for Pay', \n",
    "    3: 'Laid Off'\n",
    "}\n",
    "\n",
    "dp_values= dp_values.with_columns(\n",
    "    pl.col(\"ILOSTAT\").apply(lambda x: labor_status_codes.get(x, x))\n",
    ")\n",
    "\n",
    "dp_values"
   ]
  },
  {
   "cell_type": "markdown",
   "metadata": {},
   "source": [
    "Although the use of `with_columns` is not directly in a DP query, it does have some important implications that help maintain the DP unit of privacy such as: \n",
    "\n",
    "### 1. Number of Rows is Unchanged. \n",
    "\n",
    "This is crucial because differential privacy ensures the privacy guarantee is based on the key entity's contributions specified in the compositor. Keeping the row count consistent prevents unintentional changes in the key entity's contributions. \n",
    "\n",
    "### 2. Ordering of Rows is Unchanged. \n",
    "\n",
    "The ordering of the rows is important because it also ensures consistency in the key entity's contribution. If the order was changed, through a sort for instance, then the users' contribution could also change, diminishing the privacy guarantee. \n"
   ]
  },
  {
   "cell_type": "markdown",
   "metadata": {},
   "source": [
    "## Limitations of `filter`"
   ]
  },
  {
   "cell_type": "markdown",
   "metadata": {},
   "source": [
    "Filtering can be thought of as a type of partition. When filtering results in a smaller subset, it can lead to an increase in noise and a decrease in utility.\n",
    "\n",
    "Moreover, if you were to filter by a key with public lengths and then group by that key, you effectively introduce two layers of partitioning. These multiple layers of partitioning can significantly diminish the privacy guarantee since the individual partitions are smaller so more noise must be added to each layer to meet the privacy guarantee. When the two layers are combined, the compounded noise further contributes to the decreased utility. \n",
    "\n",
    "This is demonstrated by the following example which computes the total count of respondents not working due to a layoff per year. "
   ]
  },
  {
   "cell_type": "code",
   "execution_count": null,
   "metadata": {},
   "outputs": [],
   "source": [
    "year_dp = (context.query().filter(pl.col(\"ILOSTAT\")==3).group_by(\"YEAR\").agg(\n",
    "                                                                            pl.len().dp.noise().alias(\"DP Count\")).sort(\"YEAR\")\n",
    ").release().collect()\n",
    "\n",
    "year_actual = df.filter((pl.col(\"ILOSTAT\")==3)).groupby(\"YEAR\").agg(pl.col(\"YEAR\").count().alias(\"Actual Count\")).sort(\"YEAR\").collect()\n",
    "\n",
    "plt.figure(figsize=(12, 6))\n",
    "sns.lineplot(x=year_dp[\"Year-Quarter\"].to_list(), y=year_dp['DP Count'].to_list(), marker='o', label='DP Count')\n",
    "sns.lineplot(x=year_actual[\"Year-Quarter\"].to_list(), y=year_actual['Actual Count'].to_list(), marker='o', label='Actual Count')\n",
    "\n",
    "plt.title('Actual Count vs DP Count of Laid Off Respondents Over Years')\n",
    "plt.xlabel('Year-Quarter')\n",
    "plt.ylabel('Count')\n",
    "plt.xticks(rotation=45) \n",
    "plt.legend()\n",
    "\n",
    "plt.grid(True)\n",
    "plt.tight_layout()  \n",
    "plt.show()"
   ]
  },
  {
   "cell_type": "markdown",
   "metadata": {},
   "source": [
    "## Conclusion"
   ]
  },
  {
   "cell_type": "markdown",
   "metadata": {},
   "source": [
    "The methods `with_columns` and `filter` are powerful and common methods in data analysis. Although their usage may be similar in polars and with the OpenDP library, note that these methods have important limitations and implications for maintaining differential privacy. "
   ]
  }
 ],
 "metadata": {
  "kernelspec": {
   "display_name": "Python 3",
   "language": "python",
   "name": "python3"
  },
  "language_info": {
   "codemirror_mode": {
    "name": "ipython",
    "version": 3
   },
   "file_extension": ".py",
   "mimetype": "text/x-python",
   "name": "python",
   "nbconvert_exporter": "python",
   "pygments_lexer": "ipython3",
   "version": "3.12.3"
  }
 },
 "nbformat": 4,
 "nbformat_minor": 2
}
