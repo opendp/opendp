{
 "cells": [
  {
   "cell_type": "markdown",
   "metadata": {},
   "source": [
    "# Computing Basic Statistics"
   ]
  },
  {
   "cell_type": "markdown",
   "metadata": {},
   "source": [
    "In this section, you will learn to compute essential statistical measures such as: \n",
    "- Sum \n",
    "- Mean \n",
    "- Median\n",
    "- Quantiles\n",
    "\n",
    "For each method, we will compare the actual values to the differentially private values to demonstrate utility. The [documentation](https://docs.opendp.org/en/nightly/api/python/opendp.polars.html#module-opendp.polars) also provides more information about the methods. We will use the [sample data](https://github.com/opendp/dp-test-datasets/blob/master/data/sample_FR_LFS.csv.zip) from the Labour Force Survey in France. "
   ]
  },
  {
   "cell_type": "markdown",
   "metadata": {},
   "source": [
    "## Set Up"
   ]
  },
  {
   "cell_type": "code",
   "execution_count": 2,
   "metadata": {},
   "outputs": [],
   "source": [
    "import requests\n",
    "import zipfile\n",
    "import io\n",
    "\n",
    "import polars as pl \n",
    "import opendp.prelude as dp\n",
    "\n",
    "dp.enable_features(\"contrib\")"
   ]
  },
  {
   "cell_type": "code",
   "execution_count": 3,
   "metadata": {},
   "outputs": [],
   "source": [
    "url = \"https://github.com/opendp/dp-test-datasets/blob/master/data/sample_FR_LFS.csv.zip?raw=true\"\n",
    "\n",
    "response = requests.get(url)\n",
    "response.raise_for_status()\n",
    "\n",
    "with zipfile.ZipFile(io.BytesIO(response.content)) as the_zip:\n",
    "    with the_zip.open(\"sample_FR_LFS.csv\") as file:\n",
    "        # Set ignore_errors to true to avoid conversion issues in len function. \n",
    "        # Many columns contain mixtures of strings and numbers and cannot be parsed as floats.\n",
    "        df = pl.scan_csv(file.name)"
   ]
  },
  {
   "cell_type": "markdown",
   "metadata": {},
   "source": [
    "The compositor here is nearly identical to the one explained in the introduction. One additional parameter that is included is the `max_num_partitions.` This is required when the metric isn't sensitive to ordering. In the following examples, there is only one partition in select, so `max_num_partitions` is set to 1. "
   ]
  },
  {
   "cell_type": "markdown",
   "metadata": {},
   "source": [
    "<!-- TODO\\n\",\n",
    "    \"For further information on the context parameters, see the introduction for justification. \\n\",\n",
    "    \"-->"
   ]
  },
  {
   "cell_type": "code",
   "execution_count": 4,
   "metadata": {},
   "outputs": [],
   "source": [
    "# Filter HWUSUAL of null values. \n",
    "df = df.filter(pl.col(\"HWUSUAL\") != 99)\n",
    "\n",
    "estimated_max_partition_len = 60_000_000\n",
    "\n",
    "context = dp.Context.compositor(\n",
    "    data=df,\n",
    "    privacy_unit=dp.unit_of(contributions=36),\n",
    "    privacy_loss=dp.loss_of(epsilon=1.0),\n",
    "    split_evenly_over=5,\n",
    "    margins={\n",
    "        (): dp.Margin(public_info= \"lengths\", max_partition_length=estimated_max_partition_len, max_num_partitions=1),\n",
    "    },\n",
    ")"
   ]
  },
  {
   "cell_type": "markdown",
   "metadata": {},
   "source": [
    "In these examples we seem some differences between how regular Polars and Polars with DP are used:\n",
    "\n",
    "### 1. Specifying the Data\n",
    "\n",
    "In a regular query, use `df` directly. In a differentially private query, use `context.query()`. \n",
    "\n",
    "### 2. Applying the Method\n",
    "\n",
    "In a regular query, you'll often be able to apply the function directly, such as `.sum()`. In a differentially private query, you'll specify the package and pass the required parameters. For example, to compute the differentially private sum, pass in bounds as a tuple for example, `dp.sum((1,10))`. The bounds are the bounds of the input data, essentially the known minimum and maximum. \n",
    "\n",
    "### 3. Collecting the Results \n",
    "\n",
    "In a regular query, use `collect()`. In a differentially private query, use `release().collect().`. "
   ]
  },
  {
   "cell_type": "markdown",
   "metadata": {},
   "source": [
    "## Sum"
   ]
  },
  {
   "cell_type": "markdown",
   "metadata": {},
   "source": [
    "To demonstrate the `sum` method, calculate the total number of hours worked for all years in the dataset. "
   ]
  },
  {
   "cell_type": "code",
   "execution_count": 5,
   "metadata": {},
   "outputs": [
    {
     "name": "stdout",
     "output_type": "stream",
     "text": [
      "Actual Total Hours:  2962104.0\n"
     ]
    }
   ],
   "source": [
    "total_hours_actual = df.select(pl.col(\"HWUSUAL\").sum()).collect().item()\n",
    "print('Actual Total Hours: ', total_hours_actual)"
   ]
  },
  {
   "cell_type": "markdown",
   "metadata": {},
   "source": [
    "The query for the sum is essentially the same, but we do need to call `fill_null` because the `sum` method requires a non-nullable input. \n",
    "\n",
    "The value you use to impute can be non-zero and depends on the context of your data. \n",
    "\n",
    "Do not use private data to calculate imputed values or bounds: This could leak private information, and rendering the differential privacy guarantees meaningless. Instead, choose bounds and imputed values based on prior domain knowledge."
   ]
  },
  {
   "cell_type": "code",
   "execution_count": 6,
   "metadata": {},
   "outputs": [
    {
     "name": "stdout",
     "output_type": "stream",
     "text": [
      "Differentially Private Total Hours:  2963161.838941833\n"
     ]
    }
   ],
   "source": [
    "total_hours_dp = context.query().select(\n",
    "    pl.col(\"HWUSUAL\").fill_null(0.).dp.sum((0,80))\n",
    ").release().collect().item()\n",
    "\n",
    "print('DP Total Hours: ', total_hours_dp)"
   ]
  },
  {
   "cell_type": "markdown",
   "metadata": {},
   "source": [
    "## Mean"
   ]
  },
  {
   "cell_type": "markdown",
   "metadata": {},
   "source": [
    "To demonstrate the `mean` method, calculate the mean number of hours worked for all years in the entire dataset. The `mean` method also requires all null values to be filled. The bounds parameter is the same as the bounds parameter used in `sum`. "
   ]
  },
  {
   "cell_type": "code",
   "execution_count": 7,
   "metadata": {},
   "outputs": [
    {
     "name": "stdout",
     "output_type": "stream",
     "text": [
      "Actual mean hours:  37.63409056258576\n"
     ]
    }
   ],
   "source": [
    "mean_hours_actual = df.select(pl.col(\"HWUSUAL\").mean()).collect().item()\n",
    "print('Actual Mean Hours: ', mean_hours_actual)"
   ]
  },
  {
   "cell_type": "code",
   "execution_count": 8,
   "metadata": {},
   "outputs": [
    {
     "name": "stdout",
     "output_type": "stream",
     "text": [
      "Differentially Private Mean for Hours:  37.6687051102132\n"
     ]
    }
   ],
   "source": [
    "mean_hours_dp = context.query().select(pl.col(\"HWUSUAL\").fill_null(40.).dp.mean((1,80))).release().collect().item()\n",
    "print('DP Mean Hours: ', mean_hours_dp )"
   ]
  },
  {
   "cell_type": "markdown",
   "metadata": {},
   "source": [
    "## Median\n"
   ]
  },
  {
   "cell_type": "markdown",
   "metadata": {},
   "source": [
    "To demonstrate the `median` method, calculate the median number of hours worked for all years in the entire dataset. The `median` method requires a parameter `candidates,` which are potential values for the median. \n",
    "\n",
    "Having more candidates may allow for a more accurate median, but at a higher computational cost. The 1 hour increments in this case are arbitrary. "
   ]
  },
  {
   "cell_type": "code",
   "execution_count": 9,
   "metadata": {},
   "outputs": [
    {
     "name": "stdout",
     "output_type": "stream",
     "text": [
      "Actual Hours Median:  37.0\n"
     ]
    }
   ],
   "source": [
    "median_hours_actual = df.select(pl.col(\"HWUSUAL\").median()).collect().item()\n",
    "print('Actual Mean Hour: ', median_hours_actual)"
   ]
  },
  {
   "cell_type": "code",
   "execution_count": 10,
   "metadata": {},
   "outputs": [
    {
     "name": "stdout",
     "output_type": "stream",
     "text": [
      "Differentially Private Median for Hours:  37\n"
     ]
    }
   ],
   "source": [
    "median_candidates = list(range(20,60))\n",
    "\n",
    "median_hours_dp = context.query().select(pl.col(\"HWUSUAL\").fill_null(40.).dp.median(median_candidates)).release().collect().item()\n",
    "print('DP Median Hour: ', median_hours_dp )"
   ]
  },
  {
   "cell_type": "markdown",
   "metadata": {},
   "source": [
    "## Quantiles"
   ]
  },
  {
   "cell_type": "markdown",
   "metadata": {},
   "source": [
    "To demonstrate the `quantile` method, calculate the number of hours worked at the 25th percentile. \n",
    "\n",
    "The `median` method requires two parameters:\n",
    "- Quantile: This is between 0 and 1. We provide 0.25. \n",
    "- Candidates: A range of possible values for your quantiles. We provide values from 20 through 60.  "
   ]
  },
  {
   "cell_type": "code",
   "execution_count": 11,
   "metadata": {},
   "outputs": [
    {
     "name": "stdout",
     "output_type": "stream",
     "text": [
      "Actual 25th Quantile for Hours:  35.0\n"
     ]
    }
   ],
   "source": [
    "quantile = 0.25\n",
    "quantile_30_actual = df.select(pl.col(\"HWUSUAL\").quantile(quantile)).collect().item()\n",
    "print('Actual 25th Quantile Hour: ', quantile_30_actual)"
   ]
  },
  {
   "cell_type": "code",
   "execution_count": 12,
   "metadata": {},
   "outputs": [
    {
     "name": "stdout",
     "output_type": "stream",
     "text": [
      "Differentially Private 25th Quantile for Hours:  35\n"
     ]
    }
   ],
   "source": [
    "quantile_candidates = list(range(20, 60))\n",
    "quantile_30_dp = context.query().select(pl.col(\"HWUSUAL\").fill_null(40.).dp.quantile(quantile, quantile_candidates)).release().collect().item()\n",
    "print('DP 25th Quantile Hour: ', quantile_30_dp)"
   ]
  },
  {
   "cell_type": "markdown",
   "metadata": {},
   "source": [
    "### Computing Multiple Quantiles"
   ]
  },
  {
   "cell_type": "code",
   "execution_count": 13,
   "metadata": {},
   "outputs": [
    {
     "data": {
      "text/html": [
       "<div><style>\n",
       ".dataframe > thead > tr,\n",
       ".dataframe > tbody > tr {\n",
       "  text-align: right;\n",
       "  white-space: pre-wrap;\n",
       "}\n",
       "</style>\n",
       "<small>shape: (1, 4)</small><table border=\"1\" class=\"dataframe\"><thead><tr><th>Quantile_0.2</th><th>Quantile_0.4</th><th>Quantile_0.6</th><th>Quantile_0.8</th></tr><tr><td>f64</td><td>f64</td><td>f64</td><td>f64</td></tr></thead><tbody><tr><td>34.0</td><td>35.0</td><td>39.0</td><td>44.0</td></tr></tbody></table></div>"
      ],
      "text/plain": [
       "shape: (1, 4)\n",
       "┌──────────────┬──────────────┬──────────────┬──────────────┐\n",
       "│ Quantile_0.2 ┆ Quantile_0.4 ┆ Quantile_0.6 ┆ Quantile_0.8 │\n",
       "│ ---          ┆ ---          ┆ ---          ┆ ---          │\n",
       "│ f64          ┆ f64          ┆ f64          ┆ f64          │\n",
       "╞══════════════╪══════════════╪══════════════╪══════════════╡\n",
       "│ 34.0         ┆ 35.0         ┆ 39.0         ┆ 44.0         │\n",
       "└──────────────┴──────────────┴──────────────┴──────────────┘"
      ]
     },
     "execution_count": 13,
     "metadata": {},
     "output_type": "execute_result"
    }
   ],
   "source": [
    "multiple_quantiles_actual = df.select(\n",
    "    [pl.col(\"HWUSUAL\").fill_null(40.).quantile(q).alias(f\"Quantile_{q}\") for q in [0.2, 0.4, 0.6, 0.8]]\n",
    ").collect()\n",
    "multiple_quantiles_actual"
   ]
  },
  {
   "cell_type": "code",
   "execution_count": 14,
   "metadata": {},
   "outputs": [
    {
     "data": {
      "text/html": [
       "<div><style>\n",
       ".dataframe > thead > tr,\n",
       ".dataframe > tbody > tr {\n",
       "  text-align: right;\n",
       "  white-space: pre-wrap;\n",
       "}\n",
       "</style>\n",
       "<small>shape: (1, 4)</small><table border=\"1\" class=\"dataframe\"><thead><tr><th>Quantile_0.2</th><th>Quantile_0.4</th><th>Quantile_0.6</th><th>Quantile_0.8</th></tr><tr><td>i64</td><td>i64</td><td>i64</td><td>i64</td></tr></thead><tbody><tr><td>32</td><td>36</td><td>38</td><td>48</td></tr></tbody></table></div>"
      ],
      "text/plain": [
       "shape: (1, 4)\n",
       "┌──────────────┬──────────────┬──────────────┬──────────────┐\n",
       "│ Quantile_0.2 ┆ Quantile_0.4 ┆ Quantile_0.6 ┆ Quantile_0.8 │\n",
       "│ ---          ┆ ---          ┆ ---          ┆ ---          │\n",
       "│ i64          ┆ i64          ┆ i64          ┆ i64          │\n",
       "╞══════════════╪══════════════╪══════════════╪══════════════╡\n",
       "│ 32           ┆ 36           ┆ 38           ┆ 48           │\n",
       "└──────────────┴──────────────┴──────────────┴──────────────┘"
      ]
     },
     "execution_count": 14,
     "metadata": {},
     "output_type": "execute_result"
    }
   ],
   "source": [
    "multiple_quantiles_dp = context.query().select(\n",
    "    [pl.col(\"HWUSUAL\").fill_null(40.).dp.quantile(q, quantile_candidates).alias(f\"Quantile_{q}\") for q in [0.2, 0.4, 0.6, 0.8]]\n",
    ").release().collect()\n",
    "multiple_quantiles_dp"
   ]
  }
 ],
 "metadata": {
  "kernelspec": {
   "display_name": ".venv",
   "language": "python",
   "name": "python3"
  },
  "language_info": {
   "codemirror_mode": {
    "name": "ipython",
    "version": 3
   },
   "file_extension": ".py",
   "mimetype": "text/x-python",
   "name": "python",
   "nbconvert_exporter": "python",
   "pygments_lexer": "ipython3",
   "version": "3.12.3"
  }
 },
 "nbformat": 4,
 "nbformat_minor": 2
}
