{
 "cells": [
  {
   "cell_type": "markdown",
   "metadata": {},
   "source": [
    "# Preparing Microdata\n",
    "\n",
    "Data is seldom already in the form you need it in.\n",
    "We use Polars _expressions_ to describe how to build new columns\n",
    "and Polars _contexts_ to describe how those expressions are applied to your data.\n",
    "More information can be found in the [Polars User Guide](https://docs.pola.rs/user-guide/concepts/expressions-and-contexts/#group_by-and-aggregations).\n",
    "\n",
    "This section explains OpenDP's supported contexts for preparing microdata (column addition and filtering)."
   ]
  },
  {
   "cell_type": "code",
   "execution_count": 1,
   "metadata": {},
   "outputs": [],
   "source": [
    "import polars as pl\n",
    "import opendp.prelude as dp\n",
    "dp.enable_features(\"contrib\")\n",
    "\n",
    "context = dp.Context.compositor(\n",
    "    # Many columns contain mixtures of strings and numbers and cannot be parsed as floats,\n",
    "    # so we'll set `ignore_errors` to true to avoid conversion errors.\n",
    "    data=pl.scan_csv(dp.examples.get_france_lfs_path(), ignore_errors=True),\n",
    "    privacy_unit=dp.unit_of(contributions=36),\n",
    "    privacy_loss=dp.loss_of(epsilon=1.0, delta=1e-7),\n",
    "    split_evenly_over=4,\n",
    "    margins=[dp.polars.Margin(max_length=150_000 * 36)]\n",
    ")"
   ]
  },
  {
   "cell_type": "markdown",
   "metadata": {
    "vscode": {
     "languageId": "plaintext"
    }
   },
   "source": [
    "Previous documentation sections cover the `.select` context for aggregation and the `.agg` context for aggregation.\n",
    "OpenDP allows expressions used in the `.select` context and `.agg` context to change the number and order of rows,\n",
    "whereas expressions used in the `.with_columns` context, `.filter` context and `.group_by` context must be row-by-row.\n",
    "\n",
    "## With Columns\n",
    "\n",
    "[[Polars Documentation](https://docs.pola.rs/user-guide/concepts/expressions-and-contexts/#with_columns)]\n",
    "\n",
    "`.with_columns` resolves each passed expression to a column and then adds those columns to the data."
   ]
  },
  {
   "cell_type": "code",
   "execution_count": 2,
   "metadata": {},
   "outputs": [
    {
     "data": {
      "text/html": [
       "<div><style>\n",
       ".dataframe > thead > tr,\n",
       ".dataframe > tbody > tr {\n",
       "  text-align: right;\n",
       "  white-space: pre-wrap;\n",
       "}\n",
       "</style>\n",
       "<small>shape: (7, 2)</small><table border=\"1\" class=\"dataframe\"><thead><tr><th>HWUSUAL</th><th>len</th></tr><tr><td>cat</td><td>u32</td></tr></thead><tbody><tr><td>null</td><td>20526</td></tr><tr><td>&quot;[0, 20)&quot;</td><td>89209</td></tr><tr><td>&quot;[20, 40)&quot;</td><td>908003</td></tr><tr><td>&quot;[40, 60)&quot;</td><td>407009</td></tr><tr><td>&quot;[60, 80)&quot;</td><td>78512</td></tr><tr><td>&quot;[80, 98)&quot;</td><td>13402</td></tr><tr><td>&quot;[98, inf)&quot;</td><td>2294901</td></tr></tbody></table></div>"
      ],
      "text/plain": [
       "shape: (7, 2)\n",
       "┌───────────┬─────────┐\n",
       "│ HWUSUAL   ┆ len     │\n",
       "│ ---       ┆ ---     │\n",
       "│ cat       ┆ u32     │\n",
       "╞═══════════╪═════════╡\n",
       "│ null      ┆ 20526   │\n",
       "│ [0, 20)   ┆ 89209   │\n",
       "│ [20, 40)  ┆ 908003  │\n",
       "│ [40, 60)  ┆ 407009  │\n",
       "│ [60, 80)  ┆ 78512   │\n",
       "│ [80, 98)  ┆ 13402   │\n",
       "│ [98, inf) ┆ 2294901 │\n",
       "└───────────┴─────────┘"
      ]
     },
     "execution_count": 2,
     "metadata": {},
     "output_type": "execute_result"
    }
   ],
   "source": [
    "query_hwusual_binned = (\n",
    "    context.query()\n",
    "    # shadows the usual work hours \"HWUSUAL\" column with binned data\n",
    "    .with_columns(pl.col.HWUSUAL.cut(breaks=[0, 20, 40, 60, 80, 98], left_closed=True))\n",
    "    .group_by(pl.col.HWUSUAL)\n",
    "    .agg(dp.len())\n",
    ")\n",
    "query_hwusual_binned.release().collect().sort(\"HWUSUAL\")"
   ]
  },
  {
   "cell_type": "markdown",
   "metadata": {},
   "source": [
    "To ensure that the privacy unit remains meaningful, expressions passed into `.with_columns` must be row-by-row, \n",
    "meaning that the expression could be represented as a function applied to each row in the data.\n",
    "The row-by-row property implies that the expression doesn't break the alignment between individual contributions in the data \n",
    "and their individual contributions in the new constructed columns.\n",
    "\n",
    "Another consideration is that any new columns added by `.with_columns` do not (currently) have margin descriptors.\n",
    "For instance, in the above query, any margin descriptors related to `HWUSUAL` would no longer apply to the new, shadowing, \n",
    "`HWUSUAL` column after `.with_columns`."
   ]
  },
  {
   "cell_type": "markdown",
   "metadata": {},
   "source": [
    "## Select\n",
    "\n",
    "[[Polars Documentation](https://docs.pola.rs/user-guide/concepts/expressions-and-contexts/#select)]\n",
    "\n",
    "`.select` resolves each passed expression to a column and then returns those columns.\n",
    "The behavior is the same as `.with_columns`, but only the columns specified in expressions will remain."
   ]
  },
  {
   "cell_type": "markdown",
   "metadata": {},
   "source": [
    "## Filter\n",
    "\n",
    "[[Polars Documentation](https://docs.pola.rs/user-guide/concepts/expressions-and-contexts/#filter)]\n",
    "\n",
    "`.filter` uses row-by-row expressions of booleans to mask rows."
   ]
  },
  {
   "cell_type": "code",
   "execution_count": 3,
   "metadata": {},
   "outputs": [
    {
     "data": {
      "text/html": [
       "<div><style>\n",
       ".dataframe > thead > tr,\n",
       ".dataframe > tbody > tr {\n",
       "  text-align: right;\n",
       "  white-space: pre-wrap;\n",
       "}\n",
       "</style>\n",
       "<small>shape: (1, 1)</small><table border=\"1\" class=\"dataframe\"><thead><tr><th>HWUSUAL</th></tr><tr><td>i64</td></tr></thead><tbody><tr><td>56336136</td></tr></tbody></table></div>"
      ],
      "text/plain": [
       "shape: (1, 1)\n",
       "┌──────────┐\n",
       "│ HWUSUAL  │\n",
       "│ ---      │\n",
       "│ i64      │\n",
       "╞══════════╡\n",
       "│ 56336136 │\n",
       "└──────────┘"
      ]
     },
     "execution_count": 3,
     "metadata": {},
     "output_type": "execute_result"
    }
   ],
   "source": [
    "query_total_hours_worked = (\n",
    "    context.query()\n",
    "    .with_columns(pl.col.HWUSUAL.cast(int).fill_null(0))\n",
    "    .filter(pl.col.HWUSUAL != 99)\n",
    "    .select(pl.col.HWUSUAL.dp.sum((0, 80)))\n",
    ")\n",
    "query_total_hours_worked.release().collect()"
   ]
  },
  {
   "cell_type": "markdown",
   "metadata": {},
   "source": [
    "Filtering discards _all_ invariants about the group keys and group sizes.\n",
    "Margin descriptors are considered applicable for the input dataset, \n",
    "so a data-dependent filtering renders these invariants invalid.\n",
    "\n",
    "Otherwise, filtering preserves all other margin descriptors, \n",
    "because filtering only ever removes rows."
   ]
  },
  {
   "cell_type": "markdown",
   "metadata": {},
   "source": [
    "## Group By (Private)\n",
    "\n",
    "[Polars Documentation](https://docs.pola.rs/user-guide/concepts/expressions-and-contexts/#group_by-and-aggregations)\n",
    "\n",
    "`.group_by` also resolves each passed expression to a column, and then groups on those columns.\n",
    "Just like `.select` and `.with_columns`, these expressions must be row-by-row."
   ]
  },
  {
   "cell_type": "code",
   "execution_count": 4,
   "metadata": {},
   "outputs": [
    {
     "data": {
      "text/html": [
       "<div><style>\n",
       ".dataframe > thead > tr,\n",
       ".dataframe > tbody > tr {\n",
       "  text-align: right;\n",
       "  white-space: pre-wrap;\n",
       "}\n",
       "</style>\n",
       "<small>shape: (7, 2)</small><table border=\"1\" class=\"dataframe\"><thead><tr><th>HWUSUAL</th><th>len</th></tr><tr><td>cat</td><td>u32</td></tr></thead><tbody><tr><td>null</td><td>20795</td></tr><tr><td>&quot;[0, 20)&quot;</td><td>89777</td></tr><tr><td>&quot;[20, 40)&quot;</td><td>908234</td></tr><tr><td>&quot;[40, 60)&quot;</td><td>407007</td></tr><tr><td>&quot;[60, 80)&quot;</td><td>78224</td></tr><tr><td>&quot;[80, 98)&quot;</td><td>12924</td></tr><tr><td>&quot;[98, inf)&quot;</td><td>2295254</td></tr></tbody></table></div>"
      ],
      "text/plain": [
       "shape: (7, 2)\n",
       "┌───────────┬─────────┐\n",
       "│ HWUSUAL   ┆ len     │\n",
       "│ ---       ┆ ---     │\n",
       "│ cat       ┆ u32     │\n",
       "╞═══════════╪═════════╡\n",
       "│ null      ┆ 20795   │\n",
       "│ [0, 20)   ┆ 89777   │\n",
       "│ [20, 40)  ┆ 908234  │\n",
       "│ [40, 60)  ┆ 407007  │\n",
       "│ [60, 80)  ┆ 78224   │\n",
       "│ [80, 98)  ┆ 12924   │\n",
       "│ [98, inf) ┆ 2295254 │\n",
       "└───────────┴─────────┘"
      ]
     },
     "execution_count": 4,
     "metadata": {},
     "output_type": "execute_result"
    }
   ],
   "source": [
    "query_hwusual_binned = (\n",
    "    context.query()\n",
    "    .group_by(pl.col.HWUSUAL.cut([0, 20, 40, 60, 80, 98], left_closed=True))\n",
    "    .agg(dp.len())\n",
    ")\n",
    "query_hwusual_binned.release().collect().sort(\"HWUSUAL\")"
   ]
  },
  {
   "cell_type": "markdown",
   "metadata": {},
   "source": [
    "This is the same query as shown above, but with the binning moved into the group by context."
   ]
  },
  {
   "cell_type": "markdown",
   "metadata": {},
   "source": [
    "## Group By / Agg (Stable)\n",
    "\n",
    "`group_by/agg` can also be used earlier in the data pipeline, before the private `group_by/agg` or `select` aggregation.\n",
    "This is a generalization of the _sample and aggregate_ framework.\n",
    "\n",
    "The approach is appealing because arbitrary expressions can be used in the `agg` argument, \n",
    "but it comes with the drawback that a large amount of data is needed to get reasonable utility.\n",
    "\n",
    "The following query demonstrates how you can use the approach to compute arbitrary statistics,\n",
    "by first computing a statistic of interest (the min) on each of roughly 1000 groups, \n",
    "and then releasing a differentially private mean."
   ]
  },
  {
   "cell_type": "code",
   "execution_count": 5,
   "metadata": {},
   "outputs": [
    {
     "data": {
      "text/html": [
       "<div><style>\n",
       ".dataframe > thead > tr,\n",
       ".dataframe > tbody > tr {\n",
       "  text-align: right;\n",
       "  white-space: pre-wrap;\n",
       "}\n",
       "</style>\n",
       "<small>shape: (2, 4)</small><table border=\"1\" class=\"dataframe\"><thead><tr><th>column</th><th>aggregate</th><th>distribution</th><th>scale</th></tr><tr><td>str</td><td>str</td><td>str</td><td>f64</td></tr></thead><tbody><tr><td>&quot;HWUSUAL&quot;</td><td>&quot;Sum&quot;</td><td>&quot;Integer Laplace&quot;</td><td>17280.0</td></tr><tr><td>&quot;HWUSUAL&quot;</td><td>&quot;Length&quot;</td><td>&quot;Integer Laplace&quot;</td><td>576.0</td></tr></tbody></table></div>"
      ],
      "text/plain": [
       "shape: (2, 4)\n",
       "┌─────────┬───────────┬─────────────────┬─────────┐\n",
       "│ column  ┆ aggregate ┆ distribution    ┆ scale   │\n",
       "│ ---     ┆ ---       ┆ ---             ┆ ---     │\n",
       "│ str     ┆ str       ┆ str             ┆ f64     │\n",
       "╞═════════╪═══════════╪═════════════════╪═════════╡\n",
       "│ HWUSUAL ┆ Sum       ┆ Integer Laplace ┆ 17280.0 │\n",
       "│ HWUSUAL ┆ Length    ┆ Integer Laplace ┆ 576.0   │\n",
       "└─────────┴───────────┴─────────────────┴─────────┘"
      ]
     },
     "execution_count": 5,
     "metadata": {},
     "output_type": "execute_result"
    }
   ],
   "source": [
    "query_hwusual_binned = (\n",
    "    context.query()\n",
    "    .filter(pl.col.HWUSUAL != 99)\n",
    "    # group 1000 ways\n",
    "    .group_by(pl.col.PIDENT % 1000)\n",
    "    .agg(pl.col.HWUSUAL.min())\n",
    "    # up to 1000 records left to work with to compute a DP mean\n",
    "    .select(pl.col.HWUSUAL.cast(int).fill_null(0).dp.mean((0, 30)))\n",
    ")\n",
    "query_hwusual_binned.summarize()"
   ]
  },
  {
   "cell_type": "markdown",
   "metadata": {},
   "source": [
    "The noise scale is also relatively large.\n",
    "The current configuration of the context doesn't know that all records from a user share the same `PIDENT`.\n",
    "This information can be added when building the context:"
   ]
  },
  {
   "cell_type": "code",
   "execution_count": 6,
   "metadata": {},
   "outputs": [
    {
     "data": {
      "text/html": [
       "<div><style>\n",
       ".dataframe > thead > tr,\n",
       ".dataframe > tbody > tr {\n",
       "  text-align: right;\n",
       "  white-space: pre-wrap;\n",
       "}\n",
       "</style>\n",
       "<small>shape: (2, 4)</small><table border=\"1\" class=\"dataframe\"><thead><tr><th>column</th><th>aggregate</th><th>distribution</th><th>scale</th></tr><tr><td>str</td><td>str</td><td>str</td><td>f64</td></tr></thead><tbody><tr><td>&quot;HWUSUAL&quot;</td><td>&quot;Sum&quot;</td><td>&quot;Integer Laplace&quot;</td><td>480.0</td></tr><tr><td>&quot;HWUSUAL&quot;</td><td>&quot;Length&quot;</td><td>&quot;Integer Laplace&quot;</td><td>16.0</td></tr></tbody></table></div>"
      ],
      "text/plain": [
       "shape: (2, 4)\n",
       "┌─────────┬───────────┬─────────────────┬───────┐\n",
       "│ column  ┆ aggregate ┆ distribution    ┆ scale │\n",
       "│ ---     ┆ ---       ┆ ---             ┆ ---   │\n",
       "│ str     ┆ str       ┆ str             ┆ f64   │\n",
       "╞═════════╪═══════════╪═════════════════╪═══════╡\n",
       "│ HWUSUAL ┆ Sum       ┆ Integer Laplace ┆ 480.0 │\n",
       "│ HWUSUAL ┆ Length    ┆ Integer Laplace ┆ 16.0  │\n",
       "└─────────┴───────────┴─────────────────┴───────┘"
      ]
     },
     "execution_count": 6,
     "metadata": {},
     "output_type": "execute_result"
    }
   ],
   "source": [
    "context_pident = dp.Context.compositor(\n",
    "    data=pl.scan_csv(dp.examples.get_france_lfs_path(), ignore_errors=True),\n",
    "    privacy_unit=dp.unit_of(contributions=[\n",
    "        dp.polars.Bound(per_group=36),\n",
    "        # a user can only be in one group at a time when grouped this way\n",
    "        dp.polars.Bound(by=[pl.col.PIDENT % 1000], num_groups=1),\n",
    "    ]),\n",
    "    privacy_loss=dp.loss_of(epsilon=1.0, delta=1e-7),\n",
    "    split_evenly_over=4,\n",
    "    margins=[dp.polars.Margin(max_length=150_000 * 36)]\n",
    ")\n",
    "query_hwusual_binned = (\n",
    "    context_pident.query()\n",
    "    .filter(pl.col.HWUSUAL != 99)\n",
    "    # group 1000 ways\n",
    "    .group_by(pl.col.PIDENT % 1000)\n",
    "    .agg(pl.col.HWUSUAL.min())\n",
    "    # up to 1000 records left to work with to compute a DP mean\n",
    "    .select(pl.col.HWUSUAL.cast(int).fill_null(0).dp.mean((0, 30)))\n",
    ")\n",
    "query_hwusual_binned.summarize()"
   ]
  },
  {
   "cell_type": "markdown",
   "metadata": {},
   "source": [
    "Adding this `Bound` reduced the noise scale by a factor of 36, \n",
    "because in the resulting dataset, only at most one record is changed, instead of 36.\n",
    "Nevertheless, the `group_by/agg` doubles the amount of noise necessary, \n",
    "because contributing one record results in a change of the aggregated record."
   ]
  }
 ],
 "metadata": {
  "kernelspec": {
   "display_name": ".venv",
   "language": "python",
   "name": "python3"
  },
  "language_info": {
   "codemirror_mode": {
    "name": "ipython",
    "version": 3
   },
   "file_extension": ".py",
   "mimetype": "text/x-python",
   "name": "python",
   "nbconvert_exporter": "python",
   "pygments_lexer": "ipython3",
   "version": "3.13.2"
  }
 },
 "nbformat": 4,
 "nbformat_minor": 2
}
