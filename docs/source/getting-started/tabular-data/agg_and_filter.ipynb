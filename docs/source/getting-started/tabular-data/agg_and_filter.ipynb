{
 "cells": [
  {
   "cell_type": "markdown",
   "metadata": {},
   "source": [
    "# Aggregrations and Filtering"
   ]
  },
  {
   "cell_type": "markdown",
   "metadata": {},
   "source": [
    "In this section, you will learn how to compute differentially private statistics while applying key data manipulation techniques such as: \n",
    "\n",
    "- Singular Variable Groupby\n",
    "- Multiple Variable Groupby\n",
    "- Filtering\n",
    "\n",
    "For each method, we will compare the actual values to the computed differentially private values to demonstrate utility. The [documentation](https://docs.opendp.org/en/nightly/api/python/opendp.polars.html#module-opendp.polars) also provides more information about the methods. We will use the [sample data](https://github.com/opendp/dp-test-datasets/blob/master/data/sample_FR_LFS.csv.zip) from the Labour Force Survey in France. "
   ]
  },
  {
   "cell_type": "markdown",
   "metadata": {},
   "source": [
    "## Set Up"
   ]
  },
  {
   "cell_type": "code",
   "execution_count": null,
   "metadata": {},
   "outputs": [],
   "source": [
    "%pip install numpy matplotlib seaborn \n",
    "%pip install \"opendp[polars]\""
   ]
  },
  {
   "cell_type": "code",
   "execution_count": 2,
   "metadata": {},
   "outputs": [],
   "source": [
    "import polars as pl \n",
    "import opendp.prelude as dp\n",
    "import seaborn as sns \n",
    "\n",
    "dp.enable_features(\"contrib\")\n",
    "sns.set_theme(style='darkgrid')"
   ]
  },
  {
   "cell_type": "code",
   "execution_count": 13,
   "metadata": {},
   "outputs": [],
   "source": [
    "df = pl.scan_csv(\"sample_FR_LFS.csv\")"
   ]
  },
  {
   "cell_type": "code",
   "execution_count": 18,
   "metadata": {},
   "outputs": [],
   "source": [
    "# Filter HWUSUAL of null values. \n",
    "# df = df.filter(pl.col(\"HWUSUAL\") != 99)\n",
    "\n",
    "estimated_max_partition_len = 60_000_000\n",
    "\n",
    "context = dp.Context.compositor(\n",
    "    data=df,\n",
    "    privacy_unit=dp.unit_of(contributions=36),\n",
    "    privacy_loss=dp.loss_of(epsilon=1.0),\n",
    "    split_evenly_over=5,\n",
    "    margins={\n",
    "        (\"ILOSTAT\", ): dp.Margin(max_partition_length=estimated_max_partition_len),\n",
    "        (\"YEAR\", ): dp.Margin(max_partition_length=estimated_max_partition_len, max_partition_contributions=4),\n",
    "        (\"QUARTER\", ): dp.Margin(max_partition_length=estimated_max_partition_len, max_partition_contributions=13),\n",
    "        (\"YEAR\", \"QUARTER\",): dp.Margin(max_partition_length=estimated_max_partition_len, max_partition_contributions=1),\n",
    "        #TODO: ask Mike why the length of this needs to be public info for mean but not sum\n",
    "        (): dp.Margin(public_info= \"lengths\",max_partition_length=estimated_max_partition_len, max_num_partitions=1),\n",
    "    },\n",
    ")"
   ]
  },
  {
   "cell_type": "markdown",
   "metadata": {},
   "source": [
    "## Singular Variable Groupby "
   ]
  },
  {
   "cell_type": "markdown",
   "metadata": {},
   "source": [
    "To demonstrate the `group_by` method, let's calculate the count of people in each labor category. \n",
    "\n",
    "labor_status_codes = {\n",
    "    9: 'NA',\n",
    "    2: 'Not Working But Employed',\n",
    "    1: 'Working for Pay', \n",
    "    3: 'Laid Off'\n",
    "}\n",
    "\n",
    "mean_hours_actual = (df.group_by(\"ILOSTAT\").agg(pl.len()).sort(\"ILOSTAT\")).collect()\n",
    "\n",
    "# Use `with_columns` to impute variable names. \n",
    "mean_hours_actual = mean_hours_actual.with_columns(\n",
    "    pl.col(\"ILOSTAT\").apply(lambda x: labor_status_codes.get(x, x))\n",
    ")\n",
    "mean_hours_actual"
   ]
  },
  {
   "cell_type": "markdown",
   "metadata": {},
   "source": [
    "To demonstrate the `group_by` method, let's calculate the count of people in each year. "
   ]
  },
  {
   "cell_type": "code",
   "execution_count": 24,
   "metadata": {},
   "outputs": [
    {
     "data": {
      "text/html": [
       "<div><style>\n",
       ".dataframe > thead > tr,\n",
       ".dataframe > tbody > tr {\n",
       "  text-align: right;\n",
       "  white-space: pre-wrap;\n",
       "}\n",
       "</style>\n",
       "<small>shape: (10, 2)</small><table border=\"1\" class=\"dataframe\"><thead><tr><th>YEAR</th><th>len</th></tr><tr><td>i64</td><td>u32</td></tr></thead><tbody><tr><td>2004</td><td>16491</td></tr><tr><td>2005</td><td>16460</td></tr><tr><td>2006</td><td>16291</td></tr><tr><td>2007</td><td>16838</td></tr><tr><td>2008</td><td>16774</td></tr><tr><td>2009</td><td>19998</td></tr><tr><td>2010</td><td>24081</td></tr><tr><td>2011</td><td>24776</td></tr><tr><td>2012</td><td>24952</td></tr><tr><td>2013</td><td>23339</td></tr></tbody></table></div>"
      ],
      "text/plain": [
       "shape: (10, 2)\n",
       "┌──────┬───────┐\n",
       "│ YEAR ┆ len   │\n",
       "│ ---  ┆ ---   │\n",
       "│ i64  ┆ u32   │\n",
       "╞══════╪═══════╡\n",
       "│ 2004 ┆ 16491 │\n",
       "│ 2005 ┆ 16460 │\n",
       "│ 2006 ┆ 16291 │\n",
       "│ 2007 ┆ 16838 │\n",
       "│ 2008 ┆ 16774 │\n",
       "│ 2009 ┆ 19998 │\n",
       "│ 2010 ┆ 24081 │\n",
       "│ 2011 ┆ 24776 │\n",
       "│ 2012 ┆ 24952 │\n",
       "│ 2013 ┆ 23339 │\n",
       "└──────┴───────┘"
      ]
     },
     "execution_count": 24,
     "metadata": {},
     "output_type": "execute_result"
    }
   ],
   "source": [
    "count_year_actual = (df.group_by(\"YEAR\").agg(pl.len()).sort(\"YEAR\")).collect()\n",
    "count_year_actual"
   ]
  },
  {
   "cell_type": "markdown",
   "metadata": {},
   "source": [
    "Now to get the differentially private statistics, add `dp.noise` after the aggregrate function is specified and `.release` after the entire query before `.collect.` \n",
    "\n",
    "Calling `.release` is always the final step in compiling your differentially private data in a usable form and ensuring its compliant with differential privacy guarantees. "
   ]
  },
  {
   "cell_type": "code",
   "execution_count": 25,
   "metadata": {},
   "outputs": [
    {
     "data": {
      "text/html": [
       "<div><style>\n",
       ".dataframe > thead > tr,\n",
       ".dataframe > tbody > tr {\n",
       "  text-align: right;\n",
       "  white-space: pre-wrap;\n",
       "}\n",
       "</style>\n",
       "<small>shape: (10, 2)</small><table border=\"1\" class=\"dataframe\"><thead><tr><th>YEAR</th><th>len</th></tr><tr><td>i64</td><td>u32</td></tr></thead><tbody><tr><td>2004</td><td>16503</td></tr><tr><td>2005</td><td>16538</td></tr><tr><td>2006</td><td>16304</td></tr><tr><td>2007</td><td>16428</td></tr><tr><td>2008</td><td>16770</td></tr><tr><td>2009</td><td>19857</td></tr><tr><td>2010</td><td>24188</td></tr><tr><td>2011</td><td>24929</td></tr><tr><td>2012</td><td>24954</td></tr><tr><td>2013</td><td>23299</td></tr></tbody></table></div>"
      ],
      "text/plain": [
       "shape: (10, 2)\n",
       "┌──────┬───────┐\n",
       "│ YEAR ┆ len   │\n",
       "│ ---  ┆ ---   │\n",
       "│ i64  ┆ u32   │\n",
       "╞══════╪═══════╡\n",
       "│ 2004 ┆ 16503 │\n",
       "│ 2005 ┆ 16538 │\n",
       "│ 2006 ┆ 16304 │\n",
       "│ 2007 ┆ 16428 │\n",
       "│ 2008 ┆ 16770 │\n",
       "│ 2009 ┆ 19857 │\n",
       "│ 2010 ┆ 24188 │\n",
       "│ 2011 ┆ 24929 │\n",
       "│ 2012 ┆ 24954 │\n",
       "│ 2013 ┆ 23299 │\n",
       "└──────┴───────┘"
      ]
     },
     "execution_count": 25,
     "metadata": {},
     "output_type": "execute_result"
    }
   ],
   "source": [
    "count_year_dp = (context.query().group_by(\"YEAR\").agg(pl.len().dp.noise()).sort(\"YEAR\")).release().collect()\n",
    "count_year_dp"
   ]
  },
  {
   "cell_type": "markdown",
   "metadata": {},
   "source": [
    "Let's visualize\n",
    "#TODO "
   ]
  },
  {
   "cell_type": "markdown",
   "metadata": {},
   "source": [
    "## Multiple Variable Groupby "
   ]
  },
  {
   "cell_type": "markdown",
   "metadata": {},
   "source": [
    "## Filtering"
   ]
  },
  {
   "cell_type": "markdown",
   "metadata": {},
   "source": [
    "## Chaining Groupby and Filtering"
   ]
  }
 ],
 "metadata": {
  "kernelspec": {
   "display_name": "Python 3",
   "language": "python",
   "name": "python3"
  },
  "language_info": {
   "codemirror_mode": {
    "name": "ipython",
    "version": 3
   },
   "file_extension": ".py",
   "mimetype": "text/x-python",
   "name": "python",
   "nbconvert_exporter": "python",
   "pygments_lexer": "ipython3",
   "version": "3.12.3"
  }
 },
 "nbformat": 4,
 "nbformat_minor": 2
}
