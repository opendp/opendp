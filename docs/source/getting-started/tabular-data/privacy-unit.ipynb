{
 "cells": [
  {
   "cell_type": "markdown",
   "metadata": {},
   "source": [
    "# Privacy Unit\n",
    "\n",
    "The privacy unit quantifies how much influence an individual may have on your dataset.\n",
    "OpenDP Polars can reason about the privacy unit in terms of _example-level_ privacy, or _user-level_ privacy."
   ]
  },
  {
   "cell_type": "code",
   "execution_count": 1,
   "metadata": {},
   "outputs": [],
   "source": [
    "import polars as pl\n",
    "import opendp.prelude as dp\n",
    "dp.enable_features(\"contrib\")"
   ]
  },
  {
   "cell_type": "markdown",
   "metadata": {},
   "source": [
    "## Example-Level Privacy\n",
    "Attain an example-level privacy guarantee by specifying a bound on how many records an individual may contribute to the data.\n",
    "The following example obtains this guarantee by setting the privacy unit based on the number of potential **contributions**:"
   ]
  },
  {
   "cell_type": "code",
   "execution_count": null,
   "metadata": {},
   "outputs": [
    {
     "data": {
      "text/html": [
       "<div><style>\n",
       ".dataframe > thead > tr,\n",
       ".dataframe > tbody > tr {\n",
       "  text-align: right;\n",
       "  white-space: pre-wrap;\n",
       "}\n",
       "</style>\n",
       "<small>shape: (1, 4)</small><table border=\"1\" class=\"dataframe\"><thead><tr><th>column</th><th>aggregate</th><th>distribution</th><th>scale</th></tr><tr><td>str</td><td>str</td><td>str</td><td>f64</td></tr></thead><tbody><tr><td>&quot;HWUSUAL&quot;</td><td>&quot;Sum&quot;</td><td>&quot;Integer Laplace&quot;</td><td>8640.0</td></tr></tbody></table></div>"
      ],
      "text/plain": [
       "shape: (1, 4)\n",
       "┌─────────┬───────────┬─────────────────┬────────┐\n",
       "│ column  ┆ aggregate ┆ distribution    ┆ scale  │\n",
       "│ ---     ┆ ---       ┆ ---             ┆ ---    │\n",
       "│ str     ┆ str       ┆ str             ┆ f64    │\n",
       "╞═════════╪═══════════╪═════════════════╪════════╡\n",
       "│ HWUSUAL ┆ Sum       ┆ Integer Laplace ┆ 8640.0 │\n",
       "└─────────┴───────────┴─────────────────┴────────┘"
      ]
     },
     "execution_count": 2,
     "metadata": {},
     "output_type": "execute_result"
    }
   ],
   "source": [
    "context = dp.Context.compositor(\n",
    "    data=pl.scan_csv(dp.examples.get_france_lfs_path(), ignore_errors=True),\n",
    "    # an individual may contribute up to 36 records\n",
    "    privacy_unit=dp.unit_of(contributions=36),\n",
    "    privacy_loss=dp.loss_of(epsilon=1.0),\n",
    "    split_evenly_over=4,\n",
    "    margins=[dp.polars.Margin(max_partition_length=60_000_000 * 36)]\n",
    ")\n",
    "query = context.query().select(pl.col.HWUSUAL.cast(int).fill_null(0).dp.sum((20, 60)))\n",
    "query.summarize()"
   ]
  },
  {
   "cell_type": "markdown",
   "metadata": {},
   "source": [
    "Alternatively, you can calibrate to an example-level bounded-DP guarantee\n",
    "by setting the privacy unit based on the number of potential **changes**:"
   ]
  },
  {
   "cell_type": "code",
   "execution_count": 3,
   "metadata": {},
   "outputs": [
    {
     "data": {
      "text/html": [
       "<div><style>\n",
       ".dataframe > thead > tr,\n",
       ".dataframe > tbody > tr {\n",
       "  text-align: right;\n",
       "  white-space: pre-wrap;\n",
       "}\n",
       "</style>\n",
       "<small>shape: (1, 4)</small><table border=\"1\" class=\"dataframe\"><thead><tr><th>column</th><th>aggregate</th><th>distribution</th><th>scale</th></tr><tr><td>str</td><td>str</td><td>str</td><td>f64</td></tr></thead><tbody><tr><td>&quot;HWUSUAL&quot;</td><td>&quot;Sum&quot;</td><td>&quot;Integer Laplace&quot;</td><td>5760.0</td></tr></tbody></table></div>"
      ],
      "text/plain": [
       "shape: (1, 4)\n",
       "┌─────────┬───────────┬─────────────────┬────────┐\n",
       "│ column  ┆ aggregate ┆ distribution    ┆ scale  │\n",
       "│ ---     ┆ ---       ┆ ---             ┆ ---    │\n",
       "│ str     ┆ str       ┆ str             ┆ f64    │\n",
       "╞═════════╪═══════════╪═════════════════╪════════╡\n",
       "│ HWUSUAL ┆ Sum       ┆ Integer Laplace ┆ 5760.0 │\n",
       "└─────────┴───────────┴─────────────────┴────────┘"
      ]
     },
     "execution_count": 3,
     "metadata": {},
     "output_type": "execute_result"
    }
   ],
   "source": [
    "context = dp.Context.compositor(\n",
    "    data=pl.scan_csv(dp.examples.get_france_lfs_path(), ignore_errors=True),\n",
    "    # an individual may change up to 36 records\n",
    "    privacy_unit=dp.unit_of(changes=36),\n",
    "    privacy_loss=dp.loss_of(epsilon=1.0, delta=1e-7),\n",
    "    split_evenly_over=4,\n",
    "    margins=[dp.polars.Margin(max_partition_length=60_000_000 * 36)]\n",
    ")\n",
    "query = context.query().select(pl.col.HWUSUAL.cast(int).fill_null(0).dp.sum((20, 60)))\n",
    "query.summarize()"
   ]
  },
  {
   "cell_type": "markdown",
   "metadata": {},
   "source": [
    "Bounded-DP is a weaker privacy definition than unbounded-DP, as it doesn't protect the total number of records in the data.\n",
    "In fact, you can consider bounded-DP to be a special case of unbounded-DP, subject to a data invariant."
   ]
  },
  {
   "cell_type": "markdown",
   "metadata": {},
   "source": [
    "## User-Level Privacy\n",
    "Obtain a user-level privacy guarantee by specifying user identifiers in the data. \n",
    "In this setting, individuals may make an unbounded number of contributions to the data,\n",
    "where each row is tied back to individidual via a unique identifier.\n",
    "Privacy guarantees are based on how many identifiers a user may influence.\n",
    "\n",
    "In order to make DP releases on this data, \n",
    "an additional data truncation preprocessing step is necessary, \n",
    "where only a limited number of records corresponding to each identifier are retained."
   ]
  },
  {
   "cell_type": "code",
   "execution_count": null,
   "metadata": {},
   "outputs": [
    {
     "data": {
      "text/html": [
       "<div><style>\n",
       ".dataframe > thead > tr,\n",
       ".dataframe > tbody > tr {\n",
       "  text-align: right;\n",
       "  white-space: pre-wrap;\n",
       "}\n",
       "</style>\n",
       "<small>shape: (1, 4)</small><table border=\"1\" class=\"dataframe\"><thead><tr><th>column</th><th>aggregate</th><th>distribution</th><th>scale</th></tr><tr><td>str</td><td>str</td><td>str</td><td>f64</td></tr></thead><tbody><tr><td>&quot;HWUSUAL&quot;</td><td>&quot;Sum&quot;</td><td>&quot;Integer Laplace&quot;</td><td>2400.0</td></tr></tbody></table></div>"
      ],
      "text/plain": [
       "shape: (1, 4)\n",
       "┌─────────┬───────────┬─────────────────┬────────┐\n",
       "│ column  ┆ aggregate ┆ distribution    ┆ scale  │\n",
       "│ ---     ┆ ---       ┆ ---             ┆ ---    │\n",
       "│ str     ┆ str       ┆ str             ┆ f64    │\n",
       "╞═════════╪═══════════╪═════════════════╪════════╡\n",
       "│ HWUSUAL ┆ Sum       ┆ Integer Laplace ┆ 2400.0 │\n",
       "└─────────┴───────────┴─────────────────┴────────┘"
      ]
     },
     "execution_count": 4,
     "metadata": {},
     "output_type": "execute_result"
    }
   ],
   "source": [
    "context = dp.Context.compositor(\n",
    "    data=pl.scan_csv(dp.examples.get_france_lfs_path(), ignore_errors=True),\n",
    "    # an individual may contribute up to 1 identifier\n",
    "    privacy_unit=dp.unit_of(contributions=1, identifier=\"COEFF\"),\n",
    "    privacy_loss=dp.loss_of(epsilon=1.0),\n",
    "    split_evenly_over=4,\n",
    "    margins=[dp.polars.Margin(max_partition_length=60_000_000 * 36)]\n",
    ")\n",
    "query = context.query().truncate(k=10).select(pl.col.HWUSUAL.cast(int).fill_null(0).dp.sum((20, 60)))\n",
    "query.summarize()"
   ]
  },
  {
   "cell_type": "markdown",
   "metadata": {},
   "source": [
    "Instead of considering the worst-case of 36 records per individual, \n",
    "we instead realize that it is unlikely to see more than ten records from an individual.\n",
    "Therefore, we introduce some bias by dropping records, but attain a much lower sensitivity."
   ]
  }
 ],
 "metadata": {
  "kernelspec": {
   "display_name": ".venv",
   "language": "python",
   "name": "python3"
  },
  "language_info": {
   "codemirror_mode": {
    "name": "ipython",
    "version": 3
   },
   "file_extension": ".py",
   "mimetype": "text/x-python",
   "name": "python",
   "nbconvert_exporter": "python",
   "pygments_lexer": "ipython3",
   "version": "3.13.2"
  }
 },
 "nbformat": 4,
 "nbformat_minor": 2
}
