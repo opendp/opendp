{
 "cells": [
  {
   "cell_type": "markdown",
   "metadata": {},
   "source": [
    "# Identifier Truncation\n",
    "\n",
    "OpenDP can be used to query datasets where each individual may contribute an unbounded number of records,\n",
    "but where all records contributed by an individual share the same identifier.\n",
    "\n",
    "The user identifier is a part of the privacy unit \n",
    "(the privacy unit quantifies the influence an individual may have on the data)."
   ]
  },
  {
   "cell_type": "code",
   "execution_count": 1,
   "metadata": {},
   "outputs": [],
   "source": [
    "import opendp.prelude as dp\n",
    "import polars as pl\n",
    "\n",
    "# the PIDENT column contains individual identifiers\n",
    "# an individual may contribute data under at most 1 PIDENT identifier\n",
    "privacy_unit = dp.unit_of(contributions=1, identifier=pl.col(\"PIDENT\"))"
   ]
  },
  {
   "cell_type": "markdown",
   "metadata": {},
   "source": [
    "This `privacy_unit` consists of all records associated with any one unique identifier in the `PIDENT` column.\n",
    "OpenDP allows identifiers to be arbitrary Polars expressions.\n",
    "The identifier expression must be row-by-row to be well-defined."
   ]
  },
  {
   "cell_type": "code",
   "execution_count": 2,
   "metadata": {},
   "outputs": [],
   "source": [
    "dp.enable_features(\"contrib\")\n",
    "\n",
    "context = dp.Context.compositor(\n",
    "    data=pl.scan_csv(dp.examples.get_france_lfs_path(), ignore_errors=True),\n",
    "    privacy_unit=privacy_unit,\n",
    "    privacy_loss=dp.loss_of(epsilon=1.0, delta=1e-8),\n",
    "    split_evenly_over=4,\n",
    "    margins=[dp.polars.Margin(max_length=150_000 * 36)],\n",
    ")\n"
   ]
  },
  {
   "cell_type": "markdown",
   "metadata": {},
   "source": [
    "## Truncating Per-Group Contributions\n",
    "In order to make differentially private releases on this data, \n",
    "an additional identifier truncation step is necessary, \n",
    "where only a limited number of records corresponding to each identifier are kept.\n",
    "\n",
    "Under the assumption that it unlikely that an individual is chosen for the survey more than ten times,\n",
    "the following query limits the number of contributions to ten."
   ]
  },
  {
   "cell_type": "code",
   "execution_count": 3,
   "metadata": {},
   "outputs": [
    {
     "data": {
      "text/html": [
       "<div><style>\n",
       ".dataframe > thead > tr,\n",
       ".dataframe > tbody > tr {\n",
       "  text-align: right;\n",
       "  white-space: pre-wrap;\n",
       "}\n",
       "</style>\n",
       "<small>shape: (2, 4)</small><table border=\"1\" class=\"dataframe\"><thead><tr><th>column</th><th>aggregate</th><th>distribution</th><th>scale</th></tr><tr><td>str</td><td>str</td><td>str</td><td>f64</td></tr></thead><tbody><tr><td>&quot;HWUSUAL&quot;</td><td>&quot;Sum&quot;</td><td>&quot;Integer Laplace&quot;</td><td>6400.0</td></tr><tr><td>&quot;HWUSUAL&quot;</td><td>&quot;Length&quot;</td><td>&quot;Integer Laplace&quot;</td><td>80.0</td></tr></tbody></table></div>"
      ],
      "text/plain": [
       "shape: (2, 4)\n",
       "┌─────────┬───────────┬─────────────────┬────────┐\n",
       "│ column  ┆ aggregate ┆ distribution    ┆ scale  │\n",
       "│ ---     ┆ ---       ┆ ---             ┆ ---    │\n",
       "│ str     ┆ str       ┆ str             ┆ f64    │\n",
       "╞═════════╪═══════════╪═════════════════╪════════╡\n",
       "│ HWUSUAL ┆ Sum       ┆ Integer Laplace ┆ 6400.0 │\n",
       "│ HWUSUAL ┆ Length    ┆ Integer Laplace ┆ 80.0   │\n",
       "└─────────┴───────────┴─────────────────┴────────┘"
      ]
     },
     "execution_count": 3,
     "metadata": {},
     "output_type": "execute_result"
    }
   ],
   "source": [
    "query = (\n",
    "    context.query()\n",
    "    .filter(pl.col.HWUSUAL != 99)\n",
    "    .truncate_per_group(10)\n",
    "    # ...is equivalent to:\n",
    "    # .filter(pl.int_range(pl.len()).over(\"PIDENT\") < 10)\n",
    "    .select(pl.col.HWUSUAL.cast(int).fill_null(0).dp.mean((0, 80)))\n",
    ")\n",
    "query.summarize()"
   ]
  },
  {
   "cell_type": "markdown",
   "metadata": {},
   "source": [
    "Previous examples with this dataset assumed the worst-case of 36 contributed records per individual \n",
    "(one contribution per quarter for nine years) which resulted in a 36-time increase in the amount of noise.\n",
    "By truncating to at most ten records, there is only a 10-fold increase in the amount of noise.\n",
    "This statistical estimator is introducing some bias by dropping records from individuals who contributed more than ten records, \n",
    "at the benefit of attaining a much lower variance.\n",
    "\n",
    "By default, `truncate_per_group` takes a random sample of records per-identifier, per-group. \n",
    "To choose which records you'd like to keep, you can also set `keep` to `first`, `last`, or an instance of `SortBy`.\n",
    "`first` is the most computationally efficient, but may bias your estimates if natural order is significant.\n",
    "The following demonstrates the sort, which prefers records with lower `ILOSTAT` status, when the individual worked for pay or profit."
   ]
  },
  {
   "cell_type": "code",
   "execution_count": 4,
   "metadata": {},
   "outputs": [
    {
     "data": {
      "text/html": [
       "<div><style>\n",
       ".dataframe > thead > tr,\n",
       ".dataframe > tbody > tr {\n",
       "  text-align: right;\n",
       "  white-space: pre-wrap;\n",
       "}\n",
       "</style>\n",
       "<small>shape: (2, 4)</small><table border=\"1\" class=\"dataframe\"><thead><tr><th>column</th><th>aggregate</th><th>distribution</th><th>scale</th></tr><tr><td>str</td><td>str</td><td>str</td><td>f64</td></tr></thead><tbody><tr><td>&quot;HWUSUAL&quot;</td><td>&quot;Sum&quot;</td><td>&quot;Integer Laplace&quot;</td><td>6400.0</td></tr><tr><td>&quot;HWUSUAL&quot;</td><td>&quot;Length&quot;</td><td>&quot;Integer Laplace&quot;</td><td>80.0</td></tr></tbody></table></div>"
      ],
      "text/plain": [
       "shape: (2, 4)\n",
       "┌─────────┬───────────┬─────────────────┬────────┐\n",
       "│ column  ┆ aggregate ┆ distribution    ┆ scale  │\n",
       "│ ---     ┆ ---       ┆ ---             ┆ ---    │\n",
       "│ str     ┆ str       ┆ str             ┆ f64    │\n",
       "╞═════════╪═══════════╪═════════════════╪════════╡\n",
       "│ HWUSUAL ┆ Sum       ┆ Integer Laplace ┆ 6400.0 │\n",
       "│ HWUSUAL ┆ Length    ┆ Integer Laplace ┆ 80.0   │\n",
       "└─────────┴───────────┴─────────────────┴────────┘"
      ]
     },
     "execution_count": 4,
     "metadata": {},
     "output_type": "execute_result"
    }
   ],
   "source": [
    "query = (\n",
    "    context.query()\n",
    "    .filter(pl.col.HWUSUAL != 99)\n",
    "    .truncate_per_group(10, keep=dp.polars.SortBy(pl.col(\"ILOSTAT\")))\n",
    "    # ...is equivalent to:\n",
    "    # .filter(pl.int_range(pl.len()).sort_by(pl.col.ILOSTAT).over(\"PIDENT\") < 10)\n",
    "    .select(pl.col.HWUSUAL.cast(int).fill_null(0).dp.mean((0, 80)))\n",
    ")\n",
    "query.summarize()"
   ]
  },
  {
   "cell_type": "markdown",
   "metadata": {},
   "source": [
    "See the API documentation for [`truncate_per_group`](../../api/python/opendp.extras.polars.html#opendp.extras.polars.LazyFrameQuery.truncate_per_group) for more informaton on configuring sorting.\n",
    "\n",
    "In this case, when computing the mean, an even better approach is to group by the identifier and aggregate down to one row,\n",
    "before computing the statistics of interest."
   ]
  },
  {
   "cell_type": "code",
   "execution_count": 5,
   "metadata": {},
   "outputs": [
    {
     "data": {
      "text/html": [
       "<div><style>\n",
       ".dataframe > thead > tr,\n",
       ".dataframe > tbody > tr {\n",
       "  text-align: right;\n",
       "  white-space: pre-wrap;\n",
       "}\n",
       "</style>\n",
       "<small>shape: (2, 4)</small><table border=\"1\" class=\"dataframe\"><thead><tr><th>column</th><th>aggregate</th><th>distribution</th><th>scale</th></tr><tr><td>str</td><td>str</td><td>str</td><td>f64</td></tr></thead><tbody><tr><td>&quot;HWUSUAL&quot;</td><td>&quot;Sum&quot;</td><td>&quot;Integer Laplace&quot;</td><td>640.0</td></tr><tr><td>&quot;HWUSUAL&quot;</td><td>&quot;Length&quot;</td><td>&quot;Integer Laplace&quot;</td><td>8.0</td></tr></tbody></table></div>"
      ],
      "text/plain": [
       "shape: (2, 4)\n",
       "┌─────────┬───────────┬─────────────────┬───────┐\n",
       "│ column  ┆ aggregate ┆ distribution    ┆ scale │\n",
       "│ ---     ┆ ---       ┆ ---             ┆ ---   │\n",
       "│ str     ┆ str       ┆ str             ┆ f64   │\n",
       "╞═════════╪═══════════╪═════════════════╪═══════╡\n",
       "│ HWUSUAL ┆ Sum       ┆ Integer Laplace ┆ 640.0 │\n",
       "│ HWUSUAL ┆ Length    ┆ Integer Laplace ┆ 8.0   │\n",
       "└─────────┴───────────┴─────────────────┴───────┘"
      ]
     },
     "execution_count": 5,
     "metadata": {},
     "output_type": "execute_result"
    }
   ],
   "source": [
    "query = (\n",
    "    context.query()\n",
    "    .filter(pl.col.HWUSUAL != 99)\n",
    "    .group_by(pl.col.PIDENT) # truncation begins here\n",
    "    .agg(pl.col.HWUSUAL.mean()) # arbitrary expressions can be used here\n",
    "    .select(pl.col.HWUSUAL.cast(int).fill_null(0).dp.mean((0, 80)))\n",
    ")\n",
    "query.summarize()"
   ]
  },
  {
   "cell_type": "markdown",
   "metadata": {},
   "source": [
    "This reduces the sensitivity even further, resulting in no increase to the noise scale, \n",
    "despite a potentially unlimited number of user contributions.\n",
    "\n",
    "## Truncating Contributed Groups\n",
    "\n",
    "To release queries that involve grouping,\n",
    "it is also necessary to bound the number of groups an individual may contribute to,\n",
    "not just the number of contributions per-group.\n",
    "\n",
    "The following query introduces a second truncation that also limits the number of records per quarter."
   ]
  },
  {
   "cell_type": "code",
   "execution_count": 6,
   "metadata": {},
   "outputs": [
    {
     "data": {
      "text/html": [
       "<div><style>\n",
       ".dataframe > thead > tr,\n",
       ".dataframe > tbody > tr {\n",
       "  text-align: right;\n",
       "  white-space: pre-wrap;\n",
       "}\n",
       "</style>\n",
       "<small>shape: (2, 5)</small><table border=\"1\" class=\"dataframe\"><thead><tr><th>column</th><th>aggregate</th><th>distribution</th><th>scale</th><th>threshold</th></tr><tr><td>str</td><td>str</td><td>str</td><td>f64</td><td>u32</td></tr></thead><tbody><tr><td>&quot;len&quot;</td><td>&quot;Frame Length&quot;</td><td>&quot;Integer Laplace&quot;</td><td>80.0</td><td>1714</td></tr><tr><td>&quot;HWUSUAL&quot;</td><td>&quot;Sum&quot;</td><td>&quot;Integer Laplace&quot;</td><td>6400.0</td><td>null</td></tr></tbody></table></div>"
      ],
      "text/plain": [
       "shape: (2, 5)\n",
       "┌─────────┬──────────────┬─────────────────┬────────┬───────────┐\n",
       "│ column  ┆ aggregate    ┆ distribution    ┆ scale  ┆ threshold │\n",
       "│ ---     ┆ ---          ┆ ---             ┆ ---    ┆ ---       │\n",
       "│ str     ┆ str          ┆ str             ┆ f64    ┆ u32       │\n",
       "╞═════════╪══════════════╪═════════════════╪════════╪═══════════╡\n",
       "│ len     ┆ Frame Length ┆ Integer Laplace ┆ 80.0   ┆ 1714      │\n",
       "│ HWUSUAL ┆ Sum          ┆ Integer Laplace ┆ 6400.0 ┆ null      │\n",
       "└─────────┴──────────────┴─────────────────┴────────┴───────────┘"
      ]
     },
     "execution_count": 6,
     "metadata": {},
     "output_type": "execute_result"
    }
   ],
   "source": [
    "quarterly = [pl.col.QUARTER, pl.col.YEAR]\n",
    "query = (\n",
    "    context.query()\n",
    "    .filter(pl.col.HWUSUAL != 99)\n",
    "    .truncate_per_group(1, by=quarterly)\n",
    "    # ...is equivalent to:\n",
    "    # .filter(pl.int_range(pl.len()).over(\"PIDENT\", *quarterly) < 1)\n",
    "    .truncate_num_groups(10, by=quarterly)\n",
    "    # ...is roughly equivalent to:\n",
    "    # .filter(pl.struct(*quarterly).rank(\"dense\").over(\"PIDENT\") < 10)\n",
    "    .group_by(quarterly)\n",
    "    .agg(dp.len(), pl.col.HWUSUAL.cast(int).fill_null(0).dp.sum((0, 80)))\n",
    ")\n",
    "query.summarize()"
   ]
  },
  {
   "cell_type": "markdown",
   "metadata": {},
   "source": [
    "By default, `truncate_num_groups` takes a random sample of groups per-identifier. \n",
    "To choose which groups you'd like to keep, you can also set `keep` to `first` or `last`.\n",
    "`first` and `last` should be more computationally efficient, but may bias your estimates if natural order is significant.\n",
    "\n",
    "OpenDP allows queries to contain multiple truncations, so long as they are together in the data pipeline.\n",
    "OpenDP does, however, enforce that group by truncations are the last truncation in the data pipeline.\n",
    "\n",
    "## Privacy Unit with Multiple Bounds\n",
    "It is also possible to set more fine-grained bounds on user identifier contributions across different levels of grouping.\n",
    "\n",
    "Take, for example, the case where your data comes from two different sources, spanning different years.\n",
    "This means individuals could contribute data under two user identifiers, which would double the amount of noise.\n",
    "However, due to the structure of the data, you know that each individual only ever contributes data under one identifier each quarter."
   ]
  },
  {
   "cell_type": "code",
   "execution_count": 7,
   "metadata": {},
   "outputs": [
    {
     "data": {
      "text/html": [
       "<div><style>\n",
       ".dataframe > thead > tr,\n",
       ".dataframe > tbody > tr {\n",
       "  text-align: right;\n",
       "  white-space: pre-wrap;\n",
       "}\n",
       "</style>\n",
       "<small>shape: (2, 5)</small><table border=\"1\" class=\"dataframe\"><thead><tr><th>column</th><th>aggregate</th><th>distribution</th><th>scale</th><th>threshold</th></tr><tr><td>str</td><td>str</td><td>str</td><td>f64</td><td>u32</td></tr></thead><tbody><tr><td>&quot;len&quot;</td><td>&quot;Frame Length&quot;</td><td>&quot;Integer Laplace&quot;</td><td>80.0</td><td>1714</td></tr><tr><td>&quot;HWUSUAL&quot;</td><td>&quot;Sum&quot;</td><td>&quot;Integer Laplace&quot;</td><td>6400.0</td><td>null</td></tr></tbody></table></div>"
      ],
      "text/plain": [
       "shape: (2, 5)\n",
       "┌─────────┬──────────────┬─────────────────┬────────┬───────────┐\n",
       "│ column  ┆ aggregate    ┆ distribution    ┆ scale  ┆ threshold │\n",
       "│ ---     ┆ ---          ┆ ---             ┆ ---    ┆ ---       │\n",
       "│ str     ┆ str          ┆ str             ┆ f64    ┆ u32       │\n",
       "╞═════════╪══════════════╪═════════════════╪════════╪═══════════╡\n",
       "│ len     ┆ Frame Length ┆ Integer Laplace ┆ 80.0   ┆ 1714      │\n",
       "│ HWUSUAL ┆ Sum          ┆ Integer Laplace ┆ 6400.0 ┆ null      │\n",
       "└─────────┴──────────────┴─────────────────┴────────┴───────────┘"
      ]
     },
     "execution_count": 7,
     "metadata": {},
     "output_type": "execute_result"
    }
   ],
   "source": [
    "context = dp.Context.compositor(\n",
    "    data=pl.scan_csv(dp.examples.get_france_lfs_path(), ignore_errors=True),\n",
    "    privacy_unit=dp.unit_of(contributions=[\n",
    "        # an individual may contribute data under up to 2 identifiers\n",
    "        dp.polars.Bound(per_group=2),\n",
    "        # ...but only under 1 identifier each quarter\n",
    "        dp.polars.Bound(by=quarterly, per_group=1),\n",
    "    ], identifier=\"PIDENT\"),\n",
    "    privacy_loss=dp.loss_of(epsilon=1.0, delta=1e-8),\n",
    "    split_evenly_over=4,\n",
    "    margins=[dp.polars.Margin(max_length=150_000 * 36)],\n",
    ")\n",
    "\n",
    "query = (\n",
    "    context.query()\n",
    "    .filter(pl.col.HWUSUAL != 99)\n",
    "    .truncate_per_group(1, by=quarterly)\n",
    "    .truncate_num_groups(5, by=quarterly) # each identifier may affect up to 5 groups\n",
    "    .group_by(quarterly)\n",
    "    .agg(dp.len(), pl.col.HWUSUAL.cast(int).fill_null(0).dp.sum((0, 80)))\n",
    ")\n",
    "query.summarize()"
   ]
  },
  {
   "cell_type": "markdown",
   "metadata": {},
   "source": [
    "This ensures the privacy unit is still accurately modeled, while preserving the expected utility.\n",
    "\n",
    "It is also possible to set an upper bound on the number of groups a user may influence in the same way.\n"
   ]
  },
  {
   "cell_type": "code",
   "execution_count": 8,
   "metadata": {},
   "outputs": [],
   "source": [
    "dp.polars.Bound(by=quarterly, num_groups=10);"
   ]
  },
  {
   "cell_type": "markdown",
   "metadata": {},
   "source": [
    "However, the general recommendation and best practice is to truncate— \n",
    "and not set distance bounds in the context, unless you need to.\n",
    "This is because, if there is an individual with greater influence than expected,\n",
    "their privacy loss can exceed the privacy guarantee.\n",
    "The same logic applies for other preprocessing, like clipping, \n",
    "where it is best practice to clip the data, and not set bounds on the data in the input domain."
   ]
  }
 ],
 "metadata": {
  "kernelspec": {
   "display_name": ".venv",
   "language": "python",
   "name": "python3"
  },
  "language_info": {
   "codemirror_mode": {
    "name": "ipython",
    "version": 3
   },
   "file_extension": ".py",
   "mimetype": "text/x-python",
   "name": "python",
   "nbconvert_exporter": "python",
   "pygments_lexer": "ipython3",
   "version": "3.13.2"
  }
 },
 "nbformat": 4,
 "nbformat_minor": 2
}
