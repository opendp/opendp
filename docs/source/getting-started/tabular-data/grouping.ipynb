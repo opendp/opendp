{
 "cells": [
  {
   "cell_type": "markdown",
   "metadata": {},
   "source": [
    "# Grouping\n",
    "\n",
    "The OpenDP Library allows you to compute statistics over grouped data.\n",
    "We'll examine three approaches used to release queries that involve grouping:\n",
    "\n",
    "- Stable keys\n",
    "- Explicit keys\n",
    "- Invariant keys\n",
    "\n",
    "The [API Reference](../../api/python/opendp.extras.polars.rst) provides more information about the methods. \n",
    "We will use the [sample data](https://github.com/opendp/dp-test-datasets/blob/main/data/eurostat/README.ipynb) from the Labour Force Survey in France."
   ]
  },
  {
   "cell_type": "code",
   "execution_count": 1,
   "metadata": {
    "execution": {
     "iopub.execute_input": "2025-06-04T18:15:05.283644Z",
     "iopub.status.busy": "2025-06-04T18:15:05.283393Z",
     "iopub.status.idle": "2025-06-04T18:15:07.719529Z",
     "shell.execute_reply": "2025-06-04T18:15:07.719167Z"
    }
   },
   "outputs": [
    {
     "data": {
      "text/html": [
       "<script type=\"esms-options\">{\"shimMode\": true}</script><style>*[data-root-id],\n",
       "*[data-root-id] > * {\n",
       "  box-sizing: border-box;\n",
       "  font-family: var(--jp-ui-font-family);\n",
       "  font-size: var(--jp-ui-font-size1);\n",
       "  color: var(--vscode-editor-foreground, var(--jp-ui-font-color1));\n",
       "}\n",
       "\n",
       "/* Override VSCode background color */\n",
       ".cell-output-ipywidget-background:has(\n",
       "  > .cell-output-ipywidget-background > .lm-Widget > *[data-root-id]\n",
       "),\n",
       ".cell-output-ipywidget-background:has(> .lm-Widget > *[data-root-id]) {\n",
       "  background-color: transparent !important;\n",
       "}\n",
       "</style>"
      ]
     },
     "metadata": {},
     "output_type": "display_data"
    },
    {
     "data": {
      "application/javascript": "(function(root) {\n  function now() {\n    return new Date();\n  }\n\n  const force = true;\n  const py_version = '3.7.3'.replace('rc', '-rc.').replace('.dev', '-dev.');\n  const reloading = false;\n  const Bokeh = root.Bokeh;\n\n  // Set a timeout for this load but only if we are not already initializing\n  if (typeof (root._bokeh_timeout) === \"undefined\" || (force || !root._bokeh_is_initializing)) {\n    root._bokeh_timeout = Date.now() + 5000;\n    root._bokeh_failed_load = false;\n  }\n\n  function run_callbacks() {\n    try {\n      root._bokeh_onload_callbacks.forEach(function(callback) {\n        if (callback != null)\n          callback();\n      });\n    } finally {\n      delete root._bokeh_onload_callbacks;\n    }\n    console.debug(\"Bokeh: all callbacks have finished\");\n  }\n\n  function load_libs(css_urls, js_urls, js_modules, js_exports, callback) {\n    if (css_urls == null) css_urls = [];\n    if (js_urls == null) js_urls = [];\n    if (js_modules == null) js_modules = [];\n    if (js_exports == null) js_exports = {};\n\n    root._bokeh_onload_callbacks.push(callback);\n\n    if (root._bokeh_is_loading > 0) {\n      // Don't load bokeh if it is still initializing\n      console.debug(\"Bokeh: BokehJS is being loaded, scheduling callback at\", now());\n      return null;\n    } else if (js_urls.length === 0 && js_modules.length === 0 && Object.keys(js_exports).length === 0) {\n      // There is nothing to load\n      run_callbacks();\n      return null;\n    }\n\n    function on_load() {\n      root._bokeh_is_loading--;\n      if (root._bokeh_is_loading === 0) {\n        console.debug(\"Bokeh: all BokehJS libraries/stylesheets loaded\");\n        run_callbacks()\n      }\n    }\n    window._bokeh_on_load = on_load\n\n    function on_error(e) {\n      const src_el = e.srcElement\n      console.error(\"failed to load \" + (src_el.href || src_el.src));\n    }\n\n    const skip = [];\n    if (window.requirejs) {\n      window.requirejs.config({'packages': {}, 'paths': {}, 'shim': {}});\n      root._bokeh_is_loading = css_urls.length + 0;\n    } else {\n      root._bokeh_is_loading = css_urls.length + js_urls.length + js_modules.length + Object.keys(js_exports).length;\n    }\n\n    const existing_stylesheets = []\n    const links = document.getElementsByTagName('link')\n    for (let i = 0; i < links.length; i++) {\n      const link = links[i]\n      if (link.href != null) {\n        existing_stylesheets.push(link.href)\n      }\n    }\n    for (let i = 0; i < css_urls.length; i++) {\n      const url = css_urls[i];\n      const escaped = encodeURI(url)\n      if (existing_stylesheets.indexOf(escaped) !== -1) {\n        on_load()\n        continue;\n      }\n      const element = document.createElement(\"link\");\n      element.onload = on_load;\n      element.onerror = on_error;\n      element.rel = \"stylesheet\";\n      element.type = \"text/css\";\n      element.href = url;\n      console.debug(\"Bokeh: injecting link tag for BokehJS stylesheet: \", url);\n      document.body.appendChild(element);\n    }    var existing_scripts = []\n    const scripts = document.getElementsByTagName('script')\n    for (let i = 0; i < scripts.length; i++) {\n      var script = scripts[i]\n      if (script.src != null) {\n        existing_scripts.push(script.src)\n      }\n    }\n    for (let i = 0; i < js_urls.length; i++) {\n      const url = js_urls[i];\n      const escaped = encodeURI(url)\n      if (skip.indexOf(escaped) !== -1 || existing_scripts.indexOf(escaped) !== -1) {\n        if (!window.requirejs) {\n          on_load();\n        }\n        continue;\n      }\n      const element = document.createElement('script');\n      element.onload = on_load;\n      element.onerror = on_error;\n      element.async = false;\n      element.src = url;\n      console.debug(\"Bokeh: injecting script tag for BokehJS library: \", url);\n      document.head.appendChild(element);\n    }\n    for (let i = 0; i < js_modules.length; i++) {\n      const url = js_modules[i];\n      const escaped = encodeURI(url)\n      if (skip.indexOf(escaped) !== -1 || existing_scripts.indexOf(escaped) !== -1) {\n        if (!window.requirejs) {\n          on_load();\n        }\n        continue;\n      }\n      var element = document.createElement('script');\n      element.onload = on_load;\n      element.onerror = on_error;\n      element.async = false;\n      element.src = url;\n      element.type = \"module\";\n      console.debug(\"Bokeh: injecting script tag for BokehJS library: \", url);\n      document.head.appendChild(element);\n    }\n    for (const name in js_exports) {\n      const url = js_exports[name];\n      const escaped = encodeURI(url)\n      if (skip.indexOf(escaped) >= 0 || root[name] != null) {\n        if (!window.requirejs) {\n          on_load();\n        }\n        continue;\n      }\n      var element = document.createElement('script');\n      element.onerror = on_error;\n      element.async = false;\n      element.type = \"module\";\n      console.debug(\"Bokeh: injecting script tag for BokehJS library: \", url);\n      element.textContent = `\n      import ${name} from \"${url}\"\n      window.${name} = ${name}\n      window._bokeh_on_load()\n      `\n      document.head.appendChild(element);\n    }\n    if (!js_urls.length && !js_modules.length) {\n      on_load()\n    }\n  };\n\n  function inject_raw_css(css) {\n    const element = document.createElement(\"style\");\n    element.appendChild(document.createTextNode(css));\n    document.body.appendChild(element);\n  }\n\n  const js_urls = [\"https://cdn.holoviz.org/panel/1.7.5/dist/bundled/reactiveesm/es-module-shims@^1.10.0/dist/es-module-shims.min.js\", \"https://cdn.bokeh.org/bokeh/release/bokeh-3.7.3.min.js\", \"https://cdn.bokeh.org/bokeh/release/bokeh-gl-3.7.3.min.js\", \"https://cdn.bokeh.org/bokeh/release/bokeh-widgets-3.7.3.min.js\", \"https://cdn.bokeh.org/bokeh/release/bokeh-tables-3.7.3.min.js\", \"https://cdn.holoviz.org/panel/1.7.5/dist/panel.min.js\"];\n  const js_modules = [];\n  const js_exports = {};\n  const css_urls = [];\n  const inline_js = [    function(Bokeh) {\n      Bokeh.set_log_level(\"info\");\n    },\nfunction(Bokeh) {} // ensure no trailing comma for IE\n  ];\n\n  function run_inline_js() {\n    if ((root.Bokeh !== undefined) || (force === true)) {\n      for (let i = 0; i < inline_js.length; i++) {\n        try {\n          inline_js[i].call(root, root.Bokeh);\n        } catch(e) {\n          if (!reloading) {\n            throw e;\n          }\n        }\n      }\n      // Cache old bokeh versions\n      if (Bokeh != undefined && !reloading) {\n        var NewBokeh = root.Bokeh;\n        if (Bokeh.versions === undefined) {\n          Bokeh.versions = new Map();\n        }\n        if (NewBokeh.version !== Bokeh.version) {\n          Bokeh.versions.set(NewBokeh.version, NewBokeh)\n        }\n        root.Bokeh = Bokeh;\n      }\n    } else if (Date.now() < root._bokeh_timeout) {\n      setTimeout(run_inline_js, 100);\n    } else if (!root._bokeh_failed_load) {\n      console.log(\"Bokeh: BokehJS failed to load within specified timeout.\");\n      root._bokeh_failed_load = true;\n    }\n    root._bokeh_is_initializing = false\n  }\n\n  function load_or_wait() {\n    // Implement a backoff loop that tries to ensure we do not load multiple\n    // versions of Bokeh and its dependencies at the same time.\n    // In recent versions we use the root._bokeh_is_initializing flag\n    // to determine whether there is an ongoing attempt to initialize\n    // bokeh, however for backward compatibility we also try to ensure\n    // that we do not start loading a newer (Panel>=1.0 and Bokeh>3) version\n    // before older versions are fully initialized.\n    if (root._bokeh_is_initializing && Date.now() > root._bokeh_timeout) {\n      // If the timeout and bokeh was not successfully loaded we reset\n      // everything and try loading again\n      root._bokeh_timeout = Date.now() + 5000;\n      root._bokeh_is_initializing = false;\n      root._bokeh_onload_callbacks = undefined;\n      root._bokeh_is_loading = 0\n      console.log(\"Bokeh: BokehJS was loaded multiple times but one version failed to initialize.\");\n      load_or_wait();\n    } else if (root._bokeh_is_initializing || (typeof root._bokeh_is_initializing === \"undefined\" && root._bokeh_onload_callbacks !== undefined)) {\n      setTimeout(load_or_wait, 100);\n    } else {\n      root._bokeh_is_initializing = true\n      root._bokeh_onload_callbacks = []\n      const bokeh_loaded = root.Bokeh != null && (root.Bokeh.version === py_version || (root.Bokeh.versions !== undefined && root.Bokeh.versions.has(py_version)));\n      if (!reloading && !bokeh_loaded) {\n        if (root.Bokeh) {\n          root.Bokeh = undefined;\n        }\n        console.debug(\"Bokeh: BokehJS not loaded, scheduling load and callback at\", now());\n      }\n      load_libs(css_urls, js_urls, js_modules, js_exports, function() {\n        console.debug(\"Bokeh: BokehJS plotting callback run at\", now());\n        run_inline_js();\n      });\n    }\n  }\n  // Give older versions of the autoload script a head-start to ensure\n  // they initialize before we start loading newer version.\n  setTimeout(load_or_wait, 100)\n}(window));",
      "application/vnd.holoviews_load.v0+json": ""
     },
     "metadata": {},
     "output_type": "display_data"
    },
    {
     "data": {
      "application/javascript": "\nif ((window.PyViz === undefined) || (window.PyViz instanceof HTMLElement)) {\n  window.PyViz = {comms: {}, comm_status:{}, kernels:{}, receivers: {}, plot_index: []}\n}\n\n\n    function JupyterCommManager() {\n    }\n\n    JupyterCommManager.prototype.register_target = function(plot_id, comm_id, msg_handler) {\n      if (window.comm_manager || ((window.Jupyter !== undefined) && (Jupyter.notebook.kernel != null))) {\n        var comm_manager = window.comm_manager || Jupyter.notebook.kernel.comm_manager;\n        comm_manager.register_target(comm_id, function(comm) {\n          comm.on_msg(msg_handler);\n        });\n      } else if ((plot_id in window.PyViz.kernels) && (window.PyViz.kernels[plot_id])) {\n        window.PyViz.kernels[plot_id].registerCommTarget(comm_id, function(comm) {\n          comm.onMsg = msg_handler;\n        });\n      } else if (typeof google != 'undefined' && google.colab.kernel != null) {\n        google.colab.kernel.comms.registerTarget(comm_id, (comm) => {\n          var messages = comm.messages[Symbol.asyncIterator]();\n          function processIteratorResult(result) {\n            var message = result.value;\n            var content = {data: message.data, comm_id};\n            var buffers = []\n            for (var buffer of message.buffers || []) {\n              buffers.push(new DataView(buffer))\n            }\n            var metadata = message.metadata || {};\n            var msg = {content, buffers, metadata}\n            msg_handler(msg);\n            return messages.next().then(processIteratorResult);\n          }\n          return messages.next().then(processIteratorResult);\n        })\n      }\n    }\n\n    JupyterCommManager.prototype.get_client_comm = function(plot_id, comm_id, msg_handler) {\n      if (comm_id in window.PyViz.comms) {\n        return window.PyViz.comms[comm_id];\n      } else if (window.comm_manager || ((window.Jupyter !== undefined) && (Jupyter.notebook.kernel != null))) {\n        var comm_manager = window.comm_manager || Jupyter.notebook.kernel.comm_manager;\n        var comm = comm_manager.new_comm(comm_id, {}, {}, {}, comm_id);\n        if (msg_handler) {\n          comm.on_msg(msg_handler);\n        }\n      } else if ((plot_id in window.PyViz.kernels) && (window.PyViz.kernels[plot_id])) {\n        var comm = window.PyViz.kernels[plot_id].connectToComm(comm_id);\n        let retries = 0;\n        const open = () => {\n          if (comm.active) {\n            comm.open();\n          } else if (retries > 3) {\n            console.warn('Comm target never activated')\n          } else {\n            retries += 1\n            setTimeout(open, 500)\n          }\n        }\n        if (comm.active) {\n          comm.open();\n        } else {\n          setTimeout(open, 500)\n        }\n        if (msg_handler) {\n          comm.onMsg = msg_handler;\n        }\n      } else if (typeof google != 'undefined' && google.colab.kernel != null) {\n        var comm_promise = google.colab.kernel.comms.open(comm_id)\n        comm_promise.then((comm) => {\n          window.PyViz.comms[comm_id] = comm;\n          if (msg_handler) {\n            var messages = comm.messages[Symbol.asyncIterator]();\n            function processIteratorResult(result) {\n              var message = result.value;\n              var content = {data: message.data};\n              var metadata = message.metadata || {comm_id};\n              var msg = {content, metadata}\n              msg_handler(msg);\n              return messages.next().then(processIteratorResult);\n            }\n            return messages.next().then(processIteratorResult);\n          }\n        })\n        var sendClosure = (data, metadata, buffers, disposeOnDone) => {\n          return comm_promise.then((comm) => {\n            comm.send(data, metadata, buffers, disposeOnDone);\n          });\n        };\n        var comm = {\n          send: sendClosure\n        };\n      }\n      window.PyViz.comms[comm_id] = comm;\n      return comm;\n    }\n    window.PyViz.comm_manager = new JupyterCommManager();\n    \n\n\nvar JS_MIME_TYPE = 'application/javascript';\nvar HTML_MIME_TYPE = 'text/html';\nvar EXEC_MIME_TYPE = 'application/vnd.holoviews_exec.v0+json';\nvar CLASS_NAME = 'output';\n\n/**\n * Render data to the DOM node\n */\nfunction render(props, node) {\n  var div = document.createElement(\"div\");\n  var script = document.createElement(\"script\");\n  node.appendChild(div);\n  node.appendChild(script);\n}\n\n/**\n * Handle when a new output is added\n */\nfunction handle_add_output(event, handle) {\n  var output_area = handle.output_area;\n  var output = handle.output;\n  if ((output.data == undefined) || (!output.data.hasOwnProperty(EXEC_MIME_TYPE))) {\n    return\n  }\n  var id = output.metadata[EXEC_MIME_TYPE][\"id\"];\n  var toinsert = output_area.element.find(\".\" + CLASS_NAME.split(' ')[0]);\n  if (id !== undefined) {\n    var nchildren = toinsert.length;\n    var html_node = toinsert[nchildren-1].children[0];\n    html_node.innerHTML = output.data[HTML_MIME_TYPE];\n    var scripts = [];\n    var nodelist = html_node.querySelectorAll(\"script\");\n    for (var i in nodelist) {\n      if (nodelist.hasOwnProperty(i)) {\n        scripts.push(nodelist[i])\n      }\n    }\n\n    scripts.forEach( function (oldScript) {\n      var newScript = document.createElement(\"script\");\n      var attrs = [];\n      var nodemap = oldScript.attributes;\n      for (var j in nodemap) {\n        if (nodemap.hasOwnProperty(j)) {\n          attrs.push(nodemap[j])\n        }\n      }\n      attrs.forEach(function(attr) { newScript.setAttribute(attr.name, attr.value) });\n      newScript.appendChild(document.createTextNode(oldScript.innerHTML));\n      oldScript.parentNode.replaceChild(newScript, oldScript);\n    });\n    if (JS_MIME_TYPE in output.data) {\n      toinsert[nchildren-1].children[1].textContent = output.data[JS_MIME_TYPE];\n    }\n    output_area._hv_plot_id = id;\n    if ((window.Bokeh !== undefined) && (id in Bokeh.index)) {\n      window.PyViz.plot_index[id] = Bokeh.index[id];\n    } else {\n      window.PyViz.plot_index[id] = null;\n    }\n  } else if (output.metadata[EXEC_MIME_TYPE][\"server_id\"] !== undefined) {\n    var bk_div = document.createElement(\"div\");\n    bk_div.innerHTML = output.data[HTML_MIME_TYPE];\n    var script_attrs = bk_div.children[0].attributes;\n    for (var i = 0; i < script_attrs.length; i++) {\n      toinsert[toinsert.length - 1].childNodes[1].setAttribute(script_attrs[i].name, script_attrs[i].value);\n    }\n    // store reference to server id on output_area\n    output_area._bokeh_server_id = output.metadata[EXEC_MIME_TYPE][\"server_id\"];\n  }\n}\n\n/**\n * Handle when an output is cleared or removed\n */\nfunction handle_clear_output(event, handle) {\n  var id = handle.cell.output_area._hv_plot_id;\n  var server_id = handle.cell.output_area._bokeh_server_id;\n  if (((id === undefined) || !(id in PyViz.plot_index)) && (server_id !== undefined)) { return; }\n  var comm = window.PyViz.comm_manager.get_client_comm(\"hv-extension-comm\", \"hv-extension-comm\", function () {});\n  if (server_id !== null) {\n    comm.send({event_type: 'server_delete', 'id': server_id});\n    return;\n  } else if (comm !== null) {\n    comm.send({event_type: 'delete', 'id': id});\n  }\n  delete PyViz.plot_index[id];\n  if ((window.Bokeh !== undefined) & (id in window.Bokeh.index)) {\n    var doc = window.Bokeh.index[id].model.document\n    doc.clear();\n    const i = window.Bokeh.documents.indexOf(doc);\n    if (i > -1) {\n      window.Bokeh.documents.splice(i, 1);\n    }\n  }\n}\n\n/**\n * Handle kernel restart event\n */\nfunction handle_kernel_cleanup(event, handle) {\n  delete PyViz.comms[\"hv-extension-comm\"];\n  window.PyViz.plot_index = {}\n}\n\n/**\n * Handle update_display_data messages\n */\nfunction handle_update_output(event, handle) {\n  handle_clear_output(event, {cell: {output_area: handle.output_area}})\n  handle_add_output(event, handle)\n}\n\nfunction register_renderer(events, OutputArea) {\n  function append_mime(data, metadata, element) {\n    // create a DOM node to render to\n    var toinsert = this.create_output_subarea(\n    metadata,\n    CLASS_NAME,\n    EXEC_MIME_TYPE\n    );\n    this.keyboard_manager.register_events(toinsert);\n    // Render to node\n    var props = {data: data, metadata: metadata[EXEC_MIME_TYPE]};\n    render(props, toinsert[0]);\n    element.append(toinsert);\n    return toinsert\n  }\n\n  events.on('output_added.OutputArea', handle_add_output);\n  events.on('output_updated.OutputArea', handle_update_output);\n  events.on('clear_output.CodeCell', handle_clear_output);\n  events.on('delete.Cell', handle_clear_output);\n  events.on('kernel_ready.Kernel', handle_kernel_cleanup);\n\n  OutputArea.prototype.register_mime_type(EXEC_MIME_TYPE, append_mime, {\n    safe: true,\n    index: 0\n  });\n}\n\nif (window.Jupyter !== undefined) {\n  try {\n    var events = require('base/js/events');\n    var OutputArea = require('notebook/js/outputarea').OutputArea;\n    if (OutputArea.prototype.mime_types().indexOf(EXEC_MIME_TYPE) == -1) {\n      register_renderer(events, OutputArea);\n    }\n  } catch(err) {\n  }\n}\n",
      "application/vnd.holoviews_load.v0+json": ""
     },
     "metadata": {},
     "output_type": "display_data"
    },
    {
     "data": {
      "application/vnd.holoviews_exec.v0+json": "",
      "text/html": [
       "<div id='ed9c5fff-f6bc-4798-a56f-bef2574316e4'>\n",
       "  <div id=\"dd127d0b-067b-48cb-84de-f13479fe30d0\" data-root-id=\"ed9c5fff-f6bc-4798-a56f-bef2574316e4\" style=\"display: contents;\"></div>\n",
       "</div>\n",
       "<script type=\"application/javascript\">(function(root) {\n",
       "  var docs_json = {\"b52beb5d-3006-4ad8-a48b-9220d5ac590b\":{\"version\":\"3.7.3\",\"title\":\"Bokeh Application\",\"roots\":[{\"type\":\"object\",\"name\":\"panel.models.browser.BrowserInfo\",\"id\":\"ed9c5fff-f6bc-4798-a56f-bef2574316e4\"},{\"type\":\"object\",\"name\":\"panel.models.comm_manager.CommManager\",\"id\":\"80ef36ba-687c-44f7-a386-9fb521c5d78c\",\"attributes\":{\"plot_id\":\"ed9c5fff-f6bc-4798-a56f-bef2574316e4\",\"comm_id\":\"e408224d121f4cf6b16f41b2d5388949\",\"client_comm_id\":\"1d1e34d5f31448fb928732c17d594e2c\"}}],\"defs\":[{\"type\":\"model\",\"name\":\"ReactiveHTML1\"},{\"type\":\"model\",\"name\":\"FlexBox1\",\"properties\":[{\"name\":\"align_content\",\"kind\":\"Any\",\"default\":\"flex-start\"},{\"name\":\"align_items\",\"kind\":\"Any\",\"default\":\"flex-start\"},{\"name\":\"flex_direction\",\"kind\":\"Any\",\"default\":\"row\"},{\"name\":\"flex_wrap\",\"kind\":\"Any\",\"default\":\"wrap\"},{\"name\":\"gap\",\"kind\":\"Any\",\"default\":\"\"},{\"name\":\"justify_content\",\"kind\":\"Any\",\"default\":\"flex-start\"}]},{\"type\":\"model\",\"name\":\"FloatPanel1\",\"properties\":[{\"name\":\"config\",\"kind\":\"Any\",\"default\":{\"type\":\"map\"}},{\"name\":\"contained\",\"kind\":\"Any\",\"default\":true},{\"name\":\"position\",\"kind\":\"Any\",\"default\":\"right-top\"},{\"name\":\"offsetx\",\"kind\":\"Any\",\"default\":null},{\"name\":\"offsety\",\"kind\":\"Any\",\"default\":null},{\"name\":\"theme\",\"kind\":\"Any\",\"default\":\"primary\"},{\"name\":\"status\",\"kind\":\"Any\",\"default\":\"normalized\"}]},{\"type\":\"model\",\"name\":\"GridStack1\",\"properties\":[{\"name\":\"ncols\",\"kind\":\"Any\",\"default\":null},{\"name\":\"nrows\",\"kind\":\"Any\",\"default\":null},{\"name\":\"allow_resize\",\"kind\":\"Any\",\"default\":true},{\"name\":\"allow_drag\",\"kind\":\"Any\",\"default\":true},{\"name\":\"state\",\"kind\":\"Any\",\"default\":[]}]},{\"type\":\"model\",\"name\":\"drag1\",\"properties\":[{\"name\":\"slider_width\",\"kind\":\"Any\",\"default\":5},{\"name\":\"slider_color\",\"kind\":\"Any\",\"default\":\"black\"},{\"name\":\"value\",\"kind\":\"Any\",\"default\":50}]},{\"type\":\"model\",\"name\":\"click1\",\"properties\":[{\"name\":\"terminal_output\",\"kind\":\"Any\",\"default\":\"\"},{\"name\":\"debug_name\",\"kind\":\"Any\",\"default\":\"\"},{\"name\":\"clears\",\"kind\":\"Any\",\"default\":0}]},{\"type\":\"model\",\"name\":\"ReactiveESM1\",\"properties\":[{\"name\":\"esm_constants\",\"kind\":\"Any\",\"default\":{\"type\":\"map\"}}]},{\"type\":\"model\",\"name\":\"JSComponent1\",\"properties\":[{\"name\":\"esm_constants\",\"kind\":\"Any\",\"default\":{\"type\":\"map\"}}]},{\"type\":\"model\",\"name\":\"ReactComponent1\",\"properties\":[{\"name\":\"use_shadow_dom\",\"kind\":\"Any\",\"default\":true},{\"name\":\"esm_constants\",\"kind\":\"Any\",\"default\":{\"type\":\"map\"}}]},{\"type\":\"model\",\"name\":\"AnyWidgetComponent1\",\"properties\":[{\"name\":\"use_shadow_dom\",\"kind\":\"Any\",\"default\":true},{\"name\":\"esm_constants\",\"kind\":\"Any\",\"default\":{\"type\":\"map\"}}]},{\"type\":\"model\",\"name\":\"FastWrapper1\",\"properties\":[{\"name\":\"object\",\"kind\":\"Any\",\"default\":null},{\"name\":\"style\",\"kind\":\"Any\",\"default\":null}]},{\"type\":\"model\",\"name\":\"NotificationArea1\",\"properties\":[{\"name\":\"js_events\",\"kind\":\"Any\",\"default\":{\"type\":\"map\"}},{\"name\":\"max_notifications\",\"kind\":\"Any\",\"default\":5},{\"name\":\"notifications\",\"kind\":\"Any\",\"default\":[]},{\"name\":\"position\",\"kind\":\"Any\",\"default\":\"bottom-right\"},{\"name\":\"_clear\",\"kind\":\"Any\",\"default\":0},{\"name\":\"types\",\"kind\":\"Any\",\"default\":[{\"type\":\"map\",\"entries\":[[\"type\",\"warning\"],[\"background\",\"#ffc107\"],[\"icon\",{\"type\":\"map\",\"entries\":[[\"className\",\"fas fa-exclamation-triangle\"],[\"tagName\",\"i\"],[\"color\",\"white\"]]}]]},{\"type\":\"map\",\"entries\":[[\"type\",\"info\"],[\"background\",\"#007bff\"],[\"icon\",{\"type\":\"map\",\"entries\":[[\"className\",\"fas fa-info-circle\"],[\"tagName\",\"i\"],[\"color\",\"white\"]]}]]}]}]},{\"type\":\"model\",\"name\":\"Notification\",\"properties\":[{\"name\":\"background\",\"kind\":\"Any\",\"default\":null},{\"name\":\"duration\",\"kind\":\"Any\",\"default\":3000},{\"name\":\"icon\",\"kind\":\"Any\",\"default\":null},{\"name\":\"message\",\"kind\":\"Any\",\"default\":\"\"},{\"name\":\"notification_type\",\"kind\":\"Any\",\"default\":null},{\"name\":\"_rendered\",\"kind\":\"Any\",\"default\":false},{\"name\":\"_destroyed\",\"kind\":\"Any\",\"default\":false}]},{\"type\":\"model\",\"name\":\"TemplateActions1\",\"properties\":[{\"name\":\"open_modal\",\"kind\":\"Any\",\"default\":0},{\"name\":\"close_modal\",\"kind\":\"Any\",\"default\":0}]},{\"type\":\"model\",\"name\":\"BootstrapTemplateActions1\",\"properties\":[{\"name\":\"open_modal\",\"kind\":\"Any\",\"default\":0},{\"name\":\"close_modal\",\"kind\":\"Any\",\"default\":0}]},{\"type\":\"model\",\"name\":\"TemplateEditor1\",\"properties\":[{\"name\":\"layout\",\"kind\":\"Any\",\"default\":[]}]},{\"type\":\"model\",\"name\":\"MaterialTemplateActions1\",\"properties\":[{\"name\":\"open_modal\",\"kind\":\"Any\",\"default\":0},{\"name\":\"close_modal\",\"kind\":\"Any\",\"default\":0}]},{\"type\":\"model\",\"name\":\"request_value1\",\"properties\":[{\"name\":\"fill\",\"kind\":\"Any\",\"default\":\"none\"},{\"name\":\"_synced\",\"kind\":\"Any\",\"default\":null},{\"name\":\"_request_sync\",\"kind\":\"Any\",\"default\":0}]},{\"type\":\"model\",\"name\":\"holoviews.plotting.bokeh.raster.HoverModel\",\"properties\":[{\"name\":\"xy\",\"kind\":\"Any\",\"default\":null},{\"name\":\"data\",\"kind\":\"Any\",\"default\":null}]}]}};\n",
       "  var render_items = [{\"docid\":\"b52beb5d-3006-4ad8-a48b-9220d5ac590b\",\"roots\":{\"ed9c5fff-f6bc-4798-a56f-bef2574316e4\":\"dd127d0b-067b-48cb-84de-f13479fe30d0\"},\"root_ids\":[\"ed9c5fff-f6bc-4798-a56f-bef2574316e4\"]}];\n",
       "  var docs = Object.values(docs_json)\n",
       "  if (!docs) {\n",
       "    return\n",
       "  }\n",
       "  const py_version = docs[0].version.replace('rc', '-rc.').replace('.dev', '-dev.')\n",
       "  async function embed_document(root) {\n",
       "    var Bokeh = get_bokeh(root)\n",
       "    await Bokeh.embed.embed_items_notebook(docs_json, render_items);\n",
       "    for (const render_item of render_items) {\n",
       "      for (const root_id of render_item.root_ids) {\n",
       "\tconst id_el = document.getElementById(root_id)\n",
       "\tif (id_el.children.length && id_el.children[0].hasAttribute('data-root-id')) {\n",
       "\t  const root_el = id_el.children[0]\n",
       "\t  root_el.id = root_el.id + '-rendered'\n",
       "\t  for (const child of root_el.children) {\n",
       "            // Ensure JupyterLab does not capture keyboard shortcuts\n",
       "            // see: https://jupyterlab.readthedocs.io/en/4.1.x/extension/notebook.html#keyboard-interaction-model\n",
       "\t    child.setAttribute('data-lm-suppress-shortcuts', 'true')\n",
       "\t  }\n",
       "\t}\n",
       "      }\n",
       "    }\n",
       "  }\n",
       "  function get_bokeh(root) {\n",
       "    if (root.Bokeh === undefined) {\n",
       "      return null\n",
       "    } else if (root.Bokeh.version !== py_version) {\n",
       "      if (root.Bokeh.versions === undefined || !root.Bokeh.versions.has(py_version)) {\n",
       "\treturn null\n",
       "      }\n",
       "      return root.Bokeh.versions.get(py_version);\n",
       "    } else if (root.Bokeh.version === py_version) {\n",
       "      return root.Bokeh\n",
       "    }\n",
       "    return null\n",
       "  }\n",
       "  function is_loaded(root) {\n",
       "    var Bokeh = get_bokeh(root)\n",
       "    return (Bokeh != null && Bokeh.Panel !== undefined)\n",
       "  }\n",
       "  if (is_loaded(root)) {\n",
       "    embed_document(root);\n",
       "  } else {\n",
       "    var attempts = 0;\n",
       "    var timer = setInterval(function(root) {\n",
       "      if (is_loaded(root)) {\n",
       "        clearInterval(timer);\n",
       "        embed_document(root);\n",
       "      } else if (document.readyState == \"complete\") {\n",
       "        attempts++;\n",
       "        if (attempts > 200) {\n",
       "          clearInterval(timer);\n",
       "\t  var Bokeh = get_bokeh(root)\n",
       "\t  if (Bokeh == null || Bokeh.Panel == null) {\n",
       "            console.warn(\"Panel: ERROR: Unable to run Panel code because Bokeh or Panel library is missing\");\n",
       "\t  } else {\n",
       "\t    console.warn(\"Panel: WARNING: Attempting to render but not all required libraries could be resolved.\")\n",
       "\t    embed_document(root)\n",
       "\t  }\n",
       "        }\n",
       "      }\n",
       "    }, 25, root)\n",
       "  }\n",
       "})(window);</script>"
      ]
     },
     "metadata": {
      "application/vnd.holoviews_exec.v0+json": {
       "id": "ed9c5fff-f6bc-4798-a56f-bef2574316e4"
      }
     },
     "output_type": "display_data"
    }
   ],
   "source": [
    "import polars as pl\n",
    "import opendp.prelude as dp\n",
    "import hvplot.polars\n",
    "\n",
    "dp.enable_features(\"contrib\")"
   ]
  },
  {
   "cell_type": "markdown",
   "metadata": {},
   "source": [
    "## Stable Keys\n",
    "\n",
    "Partition keys can be extremely sensitive. \n",
    "For example, sharing a noisy count query grouped by social security number or credit card number \n",
    "would catastrophically violate the privacy of individuals in the data.\n",
    "Similarly, re-identification of individuals can be accomplished \n",
    "with very small combinations of grouping columns that may seem benign\n",
    "(for reference, see how [Latanya Sweeney reidentified the Governor of Massachusetts in healthcare data](https://arstechnica.com/tech-policy/2009/09/your-secrets-live-online-in-databases-of-ruin/)).\n",
    "\n",
    "For this reason, by default, the OpenDP Library discards any groups that may be unique to an individual\n",
    "by filtering out groups with too few records.\n",
    "This is why the set of released groups is considered \"stable\": \n",
    "the algorithm only releases groups that remain stable (won't disappear) when any one individual is removed.\n",
    "OpenDP calibrates the filtering threshold such that the probability of releasing a group with one individual\n",
    "is no greater than the privacy parameter delta (δ).\n",
    "\n",
    "In the following example, only counts for combinations of year and sex that are common among many workers are released. "
   ]
  },
  {
   "cell_type": "code",
   "execution_count": 2,
   "metadata": {
    "execution": {
     "iopub.execute_input": "2025-06-04T18:15:07.721219Z",
     "iopub.status.busy": "2025-06-04T18:15:07.721095Z",
     "iopub.status.idle": "2025-06-04T18:15:07.897555Z",
     "shell.execute_reply": "2025-06-04T18:15:07.897285Z"
    }
   },
   "outputs": [],
   "source": [
    "context = dp.Context.compositor(\n",
    "    # Many columns contain mixtures of strings and numbers and cannot be parsed as floats,\n",
    "    # so we'll set `ignore_errors` to true to avoid conversion errors.\n",
    "    data=pl.scan_csv(dp.examples.get_france_lfs_path(), ignore_errors=True),\n",
    "    privacy_unit=dp.unit_of(contributions=36),\n",
    "    privacy_loss=dp.loss_of(epsilon=1.0 / 4, delta=1e-7),\n",
    "    # allow for one query\n",
    "    split_evenly_over=1,\n",
    ")\n",
    "\n",
    "query_age_ilostat = (\n",
    "    context.query()\n",
    "    .group_by(\"AGE\", \"ILOSTAT\")\n",
    "    .agg(dp.len())\n",
    ")"
   ]
  },
  {
   "cell_type": "markdown",
   "metadata": {},
   "source": [
    "Before releasing the query, let's take a look at properties we can expect of the output:"
   ]
  },
  {
   "cell_type": "code",
   "execution_count": 3,
   "metadata": {
    "execution": {
     "iopub.execute_input": "2025-06-04T18:15:07.899467Z",
     "iopub.status.busy": "2025-06-04T18:15:07.899369Z",
     "iopub.status.idle": "2025-06-04T18:15:08.417912Z",
     "shell.execute_reply": "2025-06-04T18:15:08.417641Z"
    }
   },
   "outputs": [
    {
     "data": {
      "text/html": [
       "<div><style>\n",
       ".dataframe > thead > tr,\n",
       ".dataframe > tbody > tr {\n",
       "  text-align: right;\n",
       "  white-space: pre-wrap;\n",
       "}\n",
       "</style>\n",
       "<small>shape: (1, 6)</small><table border=\"1\" class=\"dataframe\"><thead><tr><th>column</th><th>aggregate</th><th>distribution</th><th>scale</th><th>accuracy</th><th>threshold</th></tr><tr><td>str</td><td>str</td><td>str</td><td>f64</td><td>f64</td><td>u32</td></tr></thead><tbody><tr><td>&quot;len&quot;</td><td>&quot;Frame Length&quot;</td><td>&quot;Integer Laplace&quot;</td><td>144.0</td><td>431.884579</td><td>2773</td></tr></tbody></table></div>"
      ],
      "text/plain": [
       "shape: (1, 6)\n",
       "┌────────┬──────────────┬─────────────────┬───────┬────────────┬───────────┐\n",
       "│ column ┆ aggregate    ┆ distribution    ┆ scale ┆ accuracy   ┆ threshold │\n",
       "│ ---    ┆ ---          ┆ ---             ┆ ---   ┆ ---        ┆ ---       │\n",
       "│ str    ┆ str          ┆ str             ┆ f64   ┆ f64        ┆ u32       │\n",
       "╞════════╪══════════════╪═════════════════╪═══════╪════════════╪═══════════╡\n",
       "│ len    ┆ Frame Length ┆ Integer Laplace ┆ 144.0 ┆ 431.884579 ┆ 2773      │\n",
       "└────────┴──────────────┴─────────────────┴───────┴────────────┴───────────┘"
      ]
     },
     "execution_count": 3,
     "metadata": {},
     "output_type": "execute_result"
    }
   ],
   "source": [
    "query_age_ilostat.summarize(alpha=.05)"
   ]
  },
  {
   "cell_type": "markdown",
   "metadata": {},
   "source": [
    "Judging from the query description, \n",
    "noisy group lengths returned by this query will differ by no more than the given accuracy with 1 - alpha = 95% confidence.\n",
    "Any group with a noisy length below the given threshold will be filtered from the release.\n",
    "\n",
    "This level of utility seems suitable, so we'll go ahead and release the query:"
   ]
  },
  {
   "cell_type": "code",
   "execution_count": 4,
   "metadata": {
    "execution": {
     "iopub.execute_input": "2025-06-04T18:15:08.419212Z",
     "iopub.status.busy": "2025-06-04T18:15:08.419114Z",
     "iopub.status.idle": "2025-06-04T18:15:10.325176Z",
     "shell.execute_reply": "2025-06-04T18:15:10.324902Z"
    }
   },
   "outputs": [
    {
     "data": {},
     "metadata": {},
     "output_type": "display_data"
    },
    {
     "data": {
      "application/vnd.holoviews_exec.v0+json": "",
      "text/html": [
       "<div id='2aa34f9f-d69a-4a32-b658-72e01b53fdde'>\n",
       "  <div id=\"cc1aa78f-5287-410f-8fd2-cd49e9353743\" data-root-id=\"2aa34f9f-d69a-4a32-b658-72e01b53fdde\" style=\"display: contents;\"></div>\n",
       "</div>\n",
       "<script type=\"application/javascript\">(function(root) {\n",
       "  var docs_json = {\"9d49ea28-966c-40c2-a5f1-4ea9c1eee83b\":{\"version\":\"3.7.3\",\"title\":\"Bokeh Application\",\"roots\":[{\"type\":\"object\",\"name\":\"Row\",\"id\":\"2aa34f9f-d69a-4a32-b658-72e01b53fdde\",\"attributes\":{\"name\":\"Row00357\",\"tags\":[\"embedded\"],\"stylesheets\":[\"\\n:host(.pn-loading):before, .pn-loading:before {\\n  background-color: #c3c3c3;\\n  mask-size: auto calc(min(50%, 400px));\\n  -webkit-mask-size: auto calc(min(50%, 400px));\\n}\",{\"type\":\"object\",\"name\":\"ImportedStyleSheet\",\"id\":\"03d567c6-ca00-4b32-9ae2-ee2bfe430444\",\"attributes\":{\"url\":\"https://cdn.holoviz.org/panel/1.7.5/dist/css/loading.css\"}},{\"type\":\"object\",\"name\":\"ImportedStyleSheet\",\"id\":\"f7700229-b174-4f2d-9200-d0e491d5f982\",\"attributes\":{\"url\":\"https://cdn.holoviz.org/panel/1.7.5/dist/css/listpanel.css\"}},{\"type\":\"object\",\"name\":\"ImportedStyleSheet\",\"id\":\"a12150a0-1233-4fef-afd1-3f560cc0593c\",\"attributes\":{\"url\":\"https://cdn.holoviz.org/panel/1.7.5/dist/bundled/theme/default.css\"}},{\"type\":\"object\",\"name\":\"ImportedStyleSheet\",\"id\":\"da4f3731-cf10-4aef-ab20-a3ee81e2ff2c\",\"attributes\":{\"url\":\"https://cdn.holoviz.org/panel/1.7.5/dist/bundled/theme/native.css\"}}],\"min_width\":700,\"margin\":0,\"sizing_mode\":\"stretch_width\",\"align\":\"start\",\"children\":[{\"type\":\"object\",\"name\":\"Spacer\",\"id\":\"00fd2572-cdde-4c7f-ac6a-61cffcb9ec05\",\"attributes\":{\"name\":\"HSpacer00361\",\"stylesheets\":[\"\\n:host(.pn-loading):before, .pn-loading:before {\\n  background-color: #c3c3c3;\\n  mask-size: auto calc(min(50%, 400px));\\n  -webkit-mask-size: auto calc(min(50%, 400px));\\n}\",{\"id\":\"03d567c6-ca00-4b32-9ae2-ee2bfe430444\"},{\"id\":\"a12150a0-1233-4fef-afd1-3f560cc0593c\"},{\"id\":\"da4f3731-cf10-4aef-ab20-a3ee81e2ff2c\"}],\"min_width\":0,\"margin\":0,\"sizing_mode\":\"stretch_width\",\"align\":\"start\"}},{\"type\":\"object\",\"name\":\"Figure\",\"id\":\"cb1a5c35-a76e-4155-bb97-e88dcc8158a4\",\"attributes\":{\"width\":700,\"height\":300,\"margin\":[5,10],\"sizing_mode\":\"fixed\",\"align\":\"start\",\"x_range\":{\"type\":\"object\",\"name\":\"Range1d\",\"id\":\"4568a381-88d0-44f0-a0a5-a2c3cdafc7f8\",\"attributes\":{\"name\":\"AGE\",\"tags\":[[[\"AGE\",null]],[]],\"start\":7.0,\"end\":75.0,\"reset_start\":7.0,\"reset_end\":75.0}},\"y_range\":{\"type\":\"object\",\"name\":\"Range1d\",\"id\":\"1967ef35-a371-4de9-afaa-b09fa7d951f1\",\"attributes\":{\"name\":\"len\",\"tags\":[[[\"len\",null]],{\"type\":\"map\",\"entries\":[[\"invert_yaxis\",false],[\"autorange\",false]]}],\"start\":-55184.7,\"end\":756983.7,\"reset_start\":-55184.7,\"reset_end\":756983.7}},\"x_scale\":{\"type\":\"object\",\"name\":\"LinearScale\",\"id\":\"35a1fe21-c056-4543-81f1-a9fded044633\"},\"y_scale\":{\"type\":\"object\",\"name\":\"LinearScale\",\"id\":\"edd5fe3e-f426-4eed-acfb-622b8dccbea3\"},\"title\":{\"type\":\"object\",\"name\":\"Title\",\"id\":\"99e5ff3b-a8f9-4654-9d5c-74f787a3cce9\",\"attributes\":{\"text_color\":\"black\",\"text_font_size\":\"12pt\"}},\"renderers\":[{\"type\":\"object\",\"name\":\"GlyphRenderer\",\"id\":\"a16b560a-c437-4704-97b6-b46a243fbc23\",\"attributes\":{\"name\":\"9\",\"data_source\":{\"type\":\"object\",\"name\":\"ColumnDataSource\",\"id\":\"25526837-25a2-46f9-8a25-a5b035f38704\",\"attributes\":{\"selected\":{\"type\":\"object\",\"name\":\"Selection\",\"id\":\"4609e38a-f348-4aa7-b149-76e504ba8f41\",\"attributes\":{\"indices\":[],\"line_indices\":[]}},\"selection_policy\":{\"type\":\"object\",\"name\":\"UnionRenderers\",\"id\":\"7dc86f7c-6b7c-43bd-8a98-7a281914188d\"},\"data\":{\"type\":\"map\",\"entries\":[[\"AGE\",{\"type\":\"ndarray\",\"array\":{\"type\":\"bytes\",\"data\":\"AAAAAAAAHEA=\"},\"shape\":[1],\"dtype\":\"float64\",\"order\":\"little\"}],[\"len\",{\"type\":\"ndarray\",\"array\":{\"type\":\"bytes\",\"data\":\"l4QKAA==\"},\"shape\":[1],\"dtype\":\"uint32\",\"order\":\"little\"}],[\"ILOSTAT\",[9]]]}}},\"view\":{\"type\":\"object\",\"name\":\"CDSView\",\"id\":\"fc90a423-b75d-4a0c-9987-07ad3f16f096\",\"attributes\":{\"filter\":{\"type\":\"object\",\"name\":\"AllIndices\",\"id\":\"92e95443-f582-444e-978d-7eef98af019c\"}}},\"glyph\":{\"type\":\"object\",\"name\":\"Line\",\"id\":\"f1685765-b8b0-4345-b8fb-93e3dd4c132c\",\"attributes\":{\"tags\":[\"apply_ranges\"],\"x\":{\"type\":\"field\",\"field\":\"AGE\"},\"y\":{\"type\":\"field\",\"field\":\"len\"},\"line_color\":\"#30a2da\",\"line_width\":2}},\"selection_glyph\":{\"type\":\"object\",\"name\":\"Line\",\"id\":\"4e16a6e3-6d9a-430e-8cd7-570a337bc74d\",\"attributes\":{\"tags\":[\"apply_ranges\"],\"x\":{\"type\":\"field\",\"field\":\"AGE\"},\"y\":{\"type\":\"field\",\"field\":\"len\"},\"line_color\":\"#30a2da\",\"line_width\":2}},\"nonselection_glyph\":{\"type\":\"object\",\"name\":\"Line\",\"id\":\"1f28a33c-bbf6-4c5d-a639-c3a392a64f9f\",\"attributes\":{\"tags\":[\"apply_ranges\"],\"x\":{\"type\":\"field\",\"field\":\"AGE\"},\"y\":{\"type\":\"field\",\"field\":\"len\"},\"line_color\":\"#30a2da\",\"line_alpha\":0.1,\"line_width\":2}},\"muted_glyph\":{\"type\":\"object\",\"name\":\"Line\",\"id\":\"f7f6780c-fa5b-407e-98bf-ef2367a5338f\",\"attributes\":{\"tags\":[\"apply_ranges\"],\"x\":{\"type\":\"field\",\"field\":\"AGE\"},\"y\":{\"type\":\"field\",\"field\":\"len\"},\"line_color\":\"#30a2da\",\"line_alpha\":0.2,\"line_width\":2}}}},{\"type\":\"object\",\"name\":\"GlyphRenderer\",\"id\":\"1f78e9af-6ca0-4aa2-89b9-725c82e05c92\",\"attributes\":{\"name\":\"1\",\"data_source\":{\"type\":\"object\",\"name\":\"ColumnDataSource\",\"id\":\"6be86c2e-bc12-44d3-af92-749027644b70\",\"attributes\":{\"selected\":{\"type\":\"object\",\"name\":\"Selection\",\"id\":\"5f81b7b4-bebf-4f5a-bf35-a24014db9821\",\"attributes\":{\"indices\":[],\"line_indices\":[]}},\"selection_policy\":{\"type\":\"object\",\"name\":\"UnionRenderers\",\"id\":\"683598f1-06e5-4cd6-b940-6923eb8f46f5\"},\"data\":{\"type\":\"map\",\"entries\":[[\"AGE\",{\"type\":\"ndarray\",\"array\":{\"type\":\"bytes\",\"data\":\"AAAAAAAANEAAAAAAAABAQAAAAAAAgEdAAAAAAABAUEA=\"},\"shape\":[4],\"dtype\":\"float64\",\"order\":\"little\"}],[\"len\",{\"type\":\"ndarray\",\"array\":{\"type\":\"bytes\",\"data\":\"EwkCAN7vBwB59QkA6zIDAA==\"},\"shape\":[4],\"dtype\":\"uint32\",\"order\":\"little\"}],[\"ILOSTAT\",[1,1,1,1]]]}}},\"view\":{\"type\":\"object\",\"name\":\"CDSView\",\"id\":\"5d00c56a-8523-4c52-a0eb-b2c0b87a542e\",\"attributes\":{\"filter\":{\"type\":\"object\",\"name\":\"AllIndices\",\"id\":\"2fad2399-5679-48f5-81e0-3f276b83b1e5\"}}},\"glyph\":{\"type\":\"object\",\"name\":\"Line\",\"id\":\"1811489d-5157-476c-97b1-564bfba0ddca\",\"attributes\":{\"tags\":[\"apply_ranges\"],\"x\":{\"type\":\"field\",\"field\":\"AGE\"},\"y\":{\"type\":\"field\",\"field\":\"len\"},\"line_color\":\"#fc4f30\",\"line_width\":2}},\"selection_glyph\":{\"type\":\"object\",\"name\":\"Line\",\"id\":\"e111d64f-32e5-4475-959a-8c764e02f777\",\"attributes\":{\"tags\":[\"apply_ranges\"],\"x\":{\"type\":\"field\",\"field\":\"AGE\"},\"y\":{\"type\":\"field\",\"field\":\"len\"},\"line_color\":\"#fc4f30\",\"line_width\":2}},\"nonselection_glyph\":{\"type\":\"object\",\"name\":\"Line\",\"id\":\"6d3789c6-6682-4e59-a35a-289c8a614e0f\",\"attributes\":{\"tags\":[\"apply_ranges\"],\"x\":{\"type\":\"field\",\"field\":\"AGE\"},\"y\":{\"type\":\"field\",\"field\":\"len\"},\"line_color\":\"#fc4f30\",\"line_alpha\":0.1,\"line_width\":2}},\"muted_glyph\":{\"type\":\"object\",\"name\":\"Line\",\"id\":\"6a5f7c06-32a1-44a7-a5cf-69b8bc5630dd\",\"attributes\":{\"tags\":[\"apply_ranges\"],\"x\":{\"type\":\"field\",\"field\":\"AGE\"},\"y\":{\"type\":\"field\",\"field\":\"len\"},\"line_color\":\"#fc4f30\",\"line_alpha\":0.2,\"line_width\":2}}}},{\"type\":\"object\",\"name\":\"GlyphRenderer\",\"id\":\"0b8fbfe1-5b43-4588-8ff4-847f124f9709\",\"attributes\":{\"name\":\"3\",\"data_source\":{\"type\":\"object\",\"name\":\"ColumnDataSource\",\"id\":\"b39b8f20-6685-4e3a-8b6d-5c975c8ab899\",\"attributes\":{\"selected\":{\"type\":\"object\",\"name\":\"Selection\",\"id\":\"a808652b-039d-4353-8b9e-3c4b0c54582b\",\"attributes\":{\"indices\":[],\"line_indices\":[]}},\"selection_policy\":{\"type\":\"object\",\"name\":\"UnionRenderers\",\"id\":\"919201bf-777d-48e7-a0ee-9436a086e213\"},\"data\":{\"type\":\"map\",\"entries\":[[\"AGE\",{\"type\":\"ndarray\",\"array\":{\"type\":\"bytes\",\"data\":\"AAAAAAAANEAAAAAAAABAQAAAAAAAgEdAAAAAAABAUEAAAAAAAMBSQA==\"},\"shape\":[5],\"dtype\":\"float64\",\"order\":\"little\"}],[\"len\",{\"type\":\"ndarray\",\"array\":{\"type\":\"bytes\",\"data\":\"wpcEAKVLAQAvfAEA+20JAApUBQA=\"},\"shape\":[5],\"dtype\":\"uint32\",\"order\":\"little\"}],[\"ILOSTAT\",[3,3,3,3,3]]]}}},\"view\":{\"type\":\"object\",\"name\":\"CDSView\",\"id\":\"fd321134-d3db-4494-808f-5627d10e0039\",\"attributes\":{\"filter\":{\"type\":\"object\",\"name\":\"AllIndices\",\"id\":\"80b56c61-7a48-4855-910d-0c78d30b2cc4\"}}},\"glyph\":{\"type\":\"object\",\"name\":\"Line\",\"id\":\"eae4c99b-86d2-4c73-820b-4892652cdbe1\",\"attributes\":{\"tags\":[\"apply_ranges\"],\"x\":{\"type\":\"field\",\"field\":\"AGE\"},\"y\":{\"type\":\"field\",\"field\":\"len\"},\"line_color\":\"#e5ae38\",\"line_width\":2}},\"selection_glyph\":{\"type\":\"object\",\"name\":\"Line\",\"id\":\"ce346331-0185-41d8-9f70-dd07a3517251\",\"attributes\":{\"tags\":[\"apply_ranges\"],\"x\":{\"type\":\"field\",\"field\":\"AGE\"},\"y\":{\"type\":\"field\",\"field\":\"len\"},\"line_color\":\"#e5ae38\",\"line_width\":2}},\"nonselection_glyph\":{\"type\":\"object\",\"name\":\"Line\",\"id\":\"42268ff6-94ca-4125-adf2-b4fa821a1d80\",\"attributes\":{\"tags\":[\"apply_ranges\"],\"x\":{\"type\":\"field\",\"field\":\"AGE\"},\"y\":{\"type\":\"field\",\"field\":\"len\"},\"line_color\":\"#e5ae38\",\"line_alpha\":0.1,\"line_width\":2}},\"muted_glyph\":{\"type\":\"object\",\"name\":\"Line\",\"id\":\"ab3b359e-57c3-49d4-a1e6-4ac46ca803eb\",\"attributes\":{\"tags\":[\"apply_ranges\"],\"x\":{\"type\":\"field\",\"field\":\"AGE\"},\"y\":{\"type\":\"field\",\"field\":\"len\"},\"line_color\":\"#e5ae38\",\"line_alpha\":0.2,\"line_width\":2}}}},{\"type\":\"object\",\"name\":\"GlyphRenderer\",\"id\":\"f22b9515-24ab-400f-b197-33070adba77b\",\"attributes\":{\"name\":\"2\",\"data_source\":{\"type\":\"object\",\"name\":\"ColumnDataSource\",\"id\":\"a9444264-ecf9-4a1c-8557-116f865df65c\",\"attributes\":{\"selected\":{\"type\":\"object\",\"name\":\"Selection\",\"id\":\"b56f8974-08db-4ad5-bc3e-6b02a776d114\",\"attributes\":{\"indices\":[],\"line_indices\":[]}},\"selection_policy\":{\"type\":\"object\",\"name\":\"UnionRenderers\",\"id\":\"e6aed14a-0672-48e9-976f-e7fe58b88071\"},\"data\":{\"type\":\"map\",\"entries\":[[\"AGE\",{\"type\":\"ndarray\",\"array\":{\"type\":\"bytes\",\"data\":\"AAAAAAAANEAAAAAAAABAQAAAAAAAgEdAAAAAAABAUEA=\"},\"shape\":[4],\"dtype\":\"float64\",\"order\":\"little\"}],[\"len\",{\"type\":\"ndarray\",\"array\":{\"type\":\"bytes\",\"data\":\"eZsAAFvfAAA9sAAA0DAAAA==\"},\"shape\":[4],\"dtype\":\"uint32\",\"order\":\"little\"}],[\"ILOSTAT\",[2,2,2,2]]]}}},\"view\":{\"type\":\"object\",\"name\":\"CDSView\",\"id\":\"a5e02c32-c2a2-474b-9f03-095eb32e5506\",\"attributes\":{\"filter\":{\"type\":\"object\",\"name\":\"AllIndices\",\"id\":\"274b4711-104c-4fa0-bead-bd6a04d8b0d2\"}}},\"glyph\":{\"type\":\"object\",\"name\":\"Line\",\"id\":\"3dd26ade-4639-48c6-985c-f284045e165e\",\"attributes\":{\"tags\":[\"apply_ranges\"],\"x\":{\"type\":\"field\",\"field\":\"AGE\"},\"y\":{\"type\":\"field\",\"field\":\"len\"},\"line_color\":\"#6d904f\",\"line_width\":2}},\"selection_glyph\":{\"type\":\"object\",\"name\":\"Line\",\"id\":\"7f81b9b3-ecfc-4740-9ad3-7fe16a5237be\",\"attributes\":{\"tags\":[\"apply_ranges\"],\"x\":{\"type\":\"field\",\"field\":\"AGE\"},\"y\":{\"type\":\"field\",\"field\":\"len\"},\"line_color\":\"#6d904f\",\"line_width\":2}},\"nonselection_glyph\":{\"type\":\"object\",\"name\":\"Line\",\"id\":\"d2f5afff-8140-4faa-acc2-4c7ad9c2dc42\",\"attributes\":{\"tags\":[\"apply_ranges\"],\"x\":{\"type\":\"field\",\"field\":\"AGE\"},\"y\":{\"type\":\"field\",\"field\":\"len\"},\"line_color\":\"#6d904f\",\"line_alpha\":0.1,\"line_width\":2}},\"muted_glyph\":{\"type\":\"object\",\"name\":\"Line\",\"id\":\"37ad1dc0-008b-4580-a70a-177c618279ae\",\"attributes\":{\"tags\":[\"apply_ranges\"],\"x\":{\"type\":\"field\",\"field\":\"AGE\"},\"y\":{\"type\":\"field\",\"field\":\"len\"},\"line_color\":\"#6d904f\",\"line_alpha\":0.2,\"line_width\":2}}}},{\"type\":\"object\",\"name\":\"GlyphRenderer\",\"id\":\"7d962d29-cfc8-4793-9efe-60e88892ed01\",\"attributes\":{\"name\":\"9\",\"data_source\":{\"type\":\"object\",\"name\":\"ColumnDataSource\",\"id\":\"90b4e50f-699c-4189-a4b6-2e9a7ca50d5a\",\"attributes\":{\"selected\":{\"type\":\"object\",\"name\":\"Selection\",\"id\":\"eae33362-6998-4a15-a883-6da829aa1ea2\",\"attributes\":{\"indices\":[],\"line_indices\":[]}},\"selection_policy\":{\"type\":\"object\",\"name\":\"UnionRenderers\",\"id\":\"aac2f087-22c3-4b0c-8fda-baf7559503e7\"},\"data\":{\"type\":\"map\",\"entries\":[[\"AGE\",{\"type\":\"ndarray\",\"array\":{\"type\":\"bytes\",\"data\":\"AAAAAAAAHEA=\"},\"shape\":[1],\"dtype\":\"float64\",\"order\":\"little\"}],[\"len\",{\"type\":\"ndarray\",\"array\":{\"type\":\"bytes\",\"data\":\"l4QKAA==\"},\"shape\":[1],\"dtype\":\"uint32\",\"order\":\"little\"}],[\"ILOSTAT\",[9]]]}}},\"view\":{\"type\":\"object\",\"name\":\"CDSView\",\"id\":\"f7bd99f7-3fd8-4804-9e9f-9c7571412972\",\"attributes\":{\"filter\":{\"type\":\"object\",\"name\":\"AllIndices\",\"id\":\"639b6058-db38-49d3-8060-8e7fa23536bc\"}}},\"glyph\":{\"type\":\"object\",\"name\":\"Scatter\",\"id\":\"320556a0-7792-4154-83da-d3df6468b435\",\"attributes\":{\"tags\":[\"apply_ranges\"],\"x\":{\"type\":\"field\",\"field\":\"AGE\"},\"y\":{\"type\":\"field\",\"field\":\"len\"},\"size\":{\"type\":\"value\",\"value\":5.477225575051661},\"line_color\":{\"type\":\"value\",\"value\":\"#30a2da\"},\"fill_color\":{\"type\":\"value\",\"value\":\"#30a2da\"},\"hatch_color\":{\"type\":\"value\",\"value\":\"#30a2da\"}}},\"selection_glyph\":{\"type\":\"object\",\"name\":\"Scatter\",\"id\":\"5897ec93-8b81-4bd4-8fa0-e7931b2d41e8\",\"attributes\":{\"tags\":[\"apply_ranges\"],\"x\":{\"type\":\"field\",\"field\":\"AGE\"},\"y\":{\"type\":\"field\",\"field\":\"len\"},\"size\":{\"type\":\"value\",\"value\":5.477225575051661},\"angle\":{\"type\":\"value\",\"value\":0.0},\"line_color\":{\"type\":\"value\",\"value\":\"#30a2da\"},\"line_alpha\":{\"type\":\"value\",\"value\":1.0},\"line_width\":{\"type\":\"value\",\"value\":1},\"line_join\":{\"type\":\"value\",\"value\":\"bevel\"},\"line_cap\":{\"type\":\"value\",\"value\":\"butt\"},\"line_dash\":{\"type\":\"value\",\"value\":[]},\"line_dash_offset\":{\"type\":\"value\",\"value\":0},\"fill_color\":{\"type\":\"value\",\"value\":\"#30a2da\"},\"fill_alpha\":{\"type\":\"value\",\"value\":1.0},\"hatch_color\":{\"type\":\"value\",\"value\":\"#30a2da\"},\"hatch_alpha\":{\"type\":\"value\",\"value\":1.0},\"hatch_scale\":{\"type\":\"value\",\"value\":12.0},\"hatch_pattern\":{\"type\":\"value\",\"value\":null},\"hatch_weight\":{\"type\":\"value\",\"value\":1.0},\"marker\":{\"type\":\"value\",\"value\":\"circle\"}}},\"nonselection_glyph\":{\"type\":\"object\",\"name\":\"Scatter\",\"id\":\"bf256946-ec1b-428f-83c2-35f74afc7c5d\",\"attributes\":{\"tags\":[\"apply_ranges\"],\"x\":{\"type\":\"field\",\"field\":\"AGE\"},\"y\":{\"type\":\"field\",\"field\":\"len\"},\"size\":{\"type\":\"value\",\"value\":5.477225575051661},\"line_color\":{\"type\":\"value\",\"value\":\"#30a2da\"},\"line_alpha\":{\"type\":\"value\",\"value\":0.1},\"fill_color\":{\"type\":\"value\",\"value\":\"#30a2da\"},\"fill_alpha\":{\"type\":\"value\",\"value\":0.1},\"hatch_color\":{\"type\":\"value\",\"value\":\"#30a2da\"},\"hatch_alpha\":{\"type\":\"value\",\"value\":0.1}}},\"muted_glyph\":{\"type\":\"object\",\"name\":\"Scatter\",\"id\":\"3dbced9a-95b7-4aba-ba92-c421532c4838\",\"attributes\":{\"tags\":[\"apply_ranges\"],\"x\":{\"type\":\"field\",\"field\":\"AGE\"},\"y\":{\"type\":\"field\",\"field\":\"len\"},\"size\":{\"type\":\"value\",\"value\":5.477225575051661},\"line_color\":{\"type\":\"value\",\"value\":\"#30a2da\"},\"line_alpha\":{\"type\":\"value\",\"value\":0.2},\"fill_color\":{\"type\":\"value\",\"value\":\"#30a2da\"},\"fill_alpha\":{\"type\":\"value\",\"value\":0.2},\"hatch_color\":{\"type\":\"value\",\"value\":\"#30a2da\"},\"hatch_alpha\":{\"type\":\"value\",\"value\":0.2}}}}},{\"type\":\"object\",\"name\":\"GlyphRenderer\",\"id\":\"8b152b15-5f6a-4d5b-a144-6b3f91ed2c7f\",\"attributes\":{\"name\":\"1\",\"data_source\":{\"type\":\"object\",\"name\":\"ColumnDataSource\",\"id\":\"23ba8a25-b91d-49e4-b036-79743c3c0a71\",\"attributes\":{\"selected\":{\"type\":\"object\",\"name\":\"Selection\",\"id\":\"39ac748e-e8e6-48c2-89d4-d3b1efda2d2d\",\"attributes\":{\"indices\":[],\"line_indices\":[]}},\"selection_policy\":{\"type\":\"object\",\"name\":\"UnionRenderers\",\"id\":\"82821fe3-02fd-4e03-83fb-5a4aac47b9e5\"},\"data\":{\"type\":\"map\",\"entries\":[[\"AGE\",{\"type\":\"ndarray\",\"array\":{\"type\":\"bytes\",\"data\":\"AAAAAAAANEAAAAAAAABAQAAAAAAAgEdAAAAAAABAUEA=\"},\"shape\":[4],\"dtype\":\"float64\",\"order\":\"little\"}],[\"len\",{\"type\":\"ndarray\",\"array\":{\"type\":\"bytes\",\"data\":\"EwkCAN7vBwB59QkA6zIDAA==\"},\"shape\":[4],\"dtype\":\"uint32\",\"order\":\"little\"}],[\"ILOSTAT\",[1,1,1,1]]]}}},\"view\":{\"type\":\"object\",\"name\":\"CDSView\",\"id\":\"dc9bdc6c-1f19-410d-a41d-f843ed794829\",\"attributes\":{\"filter\":{\"type\":\"object\",\"name\":\"AllIndices\",\"id\":\"fd9258a5-bce7-44df-b844-5b3aa31795f3\"}}},\"glyph\":{\"type\":\"object\",\"name\":\"Scatter\",\"id\":\"d6307794-39f9-4ac7-88cf-2830ac823297\",\"attributes\":{\"tags\":[\"apply_ranges\"],\"x\":{\"type\":\"field\",\"field\":\"AGE\"},\"y\":{\"type\":\"field\",\"field\":\"len\"},\"size\":{\"type\":\"value\",\"value\":5.477225575051661},\"line_color\":{\"type\":\"value\",\"value\":\"#fc4f30\"},\"fill_color\":{\"type\":\"value\",\"value\":\"#fc4f30\"},\"hatch_color\":{\"type\":\"value\",\"value\":\"#fc4f30\"}}},\"selection_glyph\":{\"type\":\"object\",\"name\":\"Scatter\",\"id\":\"f51259f6-dd81-4acb-aa01-76cf21a3eac5\",\"attributes\":{\"tags\":[\"apply_ranges\"],\"x\":{\"type\":\"field\",\"field\":\"AGE\"},\"y\":{\"type\":\"field\",\"field\":\"len\"},\"size\":{\"type\":\"value\",\"value\":5.477225575051661},\"angle\":{\"type\":\"value\",\"value\":0.0},\"line_color\":{\"type\":\"value\",\"value\":\"#fc4f30\"},\"line_alpha\":{\"type\":\"value\",\"value\":1.0},\"line_width\":{\"type\":\"value\",\"value\":1},\"line_join\":{\"type\":\"value\",\"value\":\"bevel\"},\"line_cap\":{\"type\":\"value\",\"value\":\"butt\"},\"line_dash\":{\"type\":\"value\",\"value\":[]},\"line_dash_offset\":{\"type\":\"value\",\"value\":0},\"fill_color\":{\"type\":\"value\",\"value\":\"#fc4f30\"},\"fill_alpha\":{\"type\":\"value\",\"value\":1.0},\"hatch_color\":{\"type\":\"value\",\"value\":\"#fc4f30\"},\"hatch_alpha\":{\"type\":\"value\",\"value\":1.0},\"hatch_scale\":{\"type\":\"value\",\"value\":12.0},\"hatch_pattern\":{\"type\":\"value\",\"value\":null},\"hatch_weight\":{\"type\":\"value\",\"value\":1.0},\"marker\":{\"type\":\"value\",\"value\":\"circle\"}}},\"nonselection_glyph\":{\"type\":\"object\",\"name\":\"Scatter\",\"id\":\"d5353e9a-929e-4262-a6a7-a6f358e46a07\",\"attributes\":{\"tags\":[\"apply_ranges\"],\"x\":{\"type\":\"field\",\"field\":\"AGE\"},\"y\":{\"type\":\"field\",\"field\":\"len\"},\"size\":{\"type\":\"value\",\"value\":5.477225575051661},\"line_color\":{\"type\":\"value\",\"value\":\"#fc4f30\"},\"line_alpha\":{\"type\":\"value\",\"value\":0.1},\"fill_color\":{\"type\":\"value\",\"value\":\"#fc4f30\"},\"fill_alpha\":{\"type\":\"value\",\"value\":0.1},\"hatch_color\":{\"type\":\"value\",\"value\":\"#fc4f30\"},\"hatch_alpha\":{\"type\":\"value\",\"value\":0.1}}},\"muted_glyph\":{\"type\":\"object\",\"name\":\"Scatter\",\"id\":\"e40118a5-d227-4303-ae33-03a17980c6cc\",\"attributes\":{\"tags\":[\"apply_ranges\"],\"x\":{\"type\":\"field\",\"field\":\"AGE\"},\"y\":{\"type\":\"field\",\"field\":\"len\"},\"size\":{\"type\":\"value\",\"value\":5.477225575051661},\"line_color\":{\"type\":\"value\",\"value\":\"#fc4f30\"},\"line_alpha\":{\"type\":\"value\",\"value\":0.2},\"fill_color\":{\"type\":\"value\",\"value\":\"#fc4f30\"},\"fill_alpha\":{\"type\":\"value\",\"value\":0.2},\"hatch_color\":{\"type\":\"value\",\"value\":\"#fc4f30\"},\"hatch_alpha\":{\"type\":\"value\",\"value\":0.2}}}}},{\"type\":\"object\",\"name\":\"GlyphRenderer\",\"id\":\"3e7be0ff-15f1-48c0-8e9d-707c895186a8\",\"attributes\":{\"name\":\"3\",\"data_source\":{\"type\":\"object\",\"name\":\"ColumnDataSource\",\"id\":\"2e6b8aba-82b6-4396-85cf-6deec27b44cf\",\"attributes\":{\"selected\":{\"type\":\"object\",\"name\":\"Selection\",\"id\":\"2d50654c-2989-46f0-b00e-b95f7a7d2bed\",\"attributes\":{\"indices\":[],\"line_indices\":[]}},\"selection_policy\":{\"type\":\"object\",\"name\":\"UnionRenderers\",\"id\":\"430d35af-72ef-4de9-b6a5-0125b17db773\"},\"data\":{\"type\":\"map\",\"entries\":[[\"AGE\",{\"type\":\"ndarray\",\"array\":{\"type\":\"bytes\",\"data\":\"AAAAAAAANEAAAAAAAABAQAAAAAAAgEdAAAAAAABAUEAAAAAAAMBSQA==\"},\"shape\":[5],\"dtype\":\"float64\",\"order\":\"little\"}],[\"len\",{\"type\":\"ndarray\",\"array\":{\"type\":\"bytes\",\"data\":\"wpcEAKVLAQAvfAEA+20JAApUBQA=\"},\"shape\":[5],\"dtype\":\"uint32\",\"order\":\"little\"}],[\"ILOSTAT\",[3,3,3,3,3]]]}}},\"view\":{\"type\":\"object\",\"name\":\"CDSView\",\"id\":\"4dcc0eb9-8f70-4211-9183-91db838c3c2c\",\"attributes\":{\"filter\":{\"type\":\"object\",\"name\":\"AllIndices\",\"id\":\"92bfeeab-1ffc-4c43-a7d6-d3dd28d21f05\"}}},\"glyph\":{\"type\":\"object\",\"name\":\"Scatter\",\"id\":\"42ed3981-56b2-4ce5-88a5-1a8275269f83\",\"attributes\":{\"tags\":[\"apply_ranges\"],\"x\":{\"type\":\"field\",\"field\":\"AGE\"},\"y\":{\"type\":\"field\",\"field\":\"len\"},\"size\":{\"type\":\"value\",\"value\":5.477225575051661},\"line_color\":{\"type\":\"value\",\"value\":\"#e5ae38\"},\"fill_color\":{\"type\":\"value\",\"value\":\"#e5ae38\"},\"hatch_color\":{\"type\":\"value\",\"value\":\"#e5ae38\"}}},\"selection_glyph\":{\"type\":\"object\",\"name\":\"Scatter\",\"id\":\"87a2fc3d-995e-496b-b193-76b47f026d67\",\"attributes\":{\"tags\":[\"apply_ranges\"],\"x\":{\"type\":\"field\",\"field\":\"AGE\"},\"y\":{\"type\":\"field\",\"field\":\"len\"},\"size\":{\"type\":\"value\",\"value\":5.477225575051661},\"angle\":{\"type\":\"value\",\"value\":0.0},\"line_color\":{\"type\":\"value\",\"value\":\"#e5ae38\"},\"line_alpha\":{\"type\":\"value\",\"value\":1.0},\"line_width\":{\"type\":\"value\",\"value\":1},\"line_join\":{\"type\":\"value\",\"value\":\"bevel\"},\"line_cap\":{\"type\":\"value\",\"value\":\"butt\"},\"line_dash\":{\"type\":\"value\",\"value\":[]},\"line_dash_offset\":{\"type\":\"value\",\"value\":0},\"fill_color\":{\"type\":\"value\",\"value\":\"#e5ae38\"},\"fill_alpha\":{\"type\":\"value\",\"value\":1.0},\"hatch_color\":{\"type\":\"value\",\"value\":\"#e5ae38\"},\"hatch_alpha\":{\"type\":\"value\",\"value\":1.0},\"hatch_scale\":{\"type\":\"value\",\"value\":12.0},\"hatch_pattern\":{\"type\":\"value\",\"value\":null},\"hatch_weight\":{\"type\":\"value\",\"value\":1.0},\"marker\":{\"type\":\"value\",\"value\":\"circle\"}}},\"nonselection_glyph\":{\"type\":\"object\",\"name\":\"Scatter\",\"id\":\"17d1b14c-7811-4825-8c5f-7a774c3cedd3\",\"attributes\":{\"tags\":[\"apply_ranges\"],\"x\":{\"type\":\"field\",\"field\":\"AGE\"},\"y\":{\"type\":\"field\",\"field\":\"len\"},\"size\":{\"type\":\"value\",\"value\":5.477225575051661},\"line_color\":{\"type\":\"value\",\"value\":\"#e5ae38\"},\"line_alpha\":{\"type\":\"value\",\"value\":0.1},\"fill_color\":{\"type\":\"value\",\"value\":\"#e5ae38\"},\"fill_alpha\":{\"type\":\"value\",\"value\":0.1},\"hatch_color\":{\"type\":\"value\",\"value\":\"#e5ae38\"},\"hatch_alpha\":{\"type\":\"value\",\"value\":0.1}}},\"muted_glyph\":{\"type\":\"object\",\"name\":\"Scatter\",\"id\":\"05a5a719-57fd-4ad9-984e-180334e632e7\",\"attributes\":{\"tags\":[\"apply_ranges\"],\"x\":{\"type\":\"field\",\"field\":\"AGE\"},\"y\":{\"type\":\"field\",\"field\":\"len\"},\"size\":{\"type\":\"value\",\"value\":5.477225575051661},\"line_color\":{\"type\":\"value\",\"value\":\"#e5ae38\"},\"line_alpha\":{\"type\":\"value\",\"value\":0.2},\"fill_color\":{\"type\":\"value\",\"value\":\"#e5ae38\"},\"fill_alpha\":{\"type\":\"value\",\"value\":0.2},\"hatch_color\":{\"type\":\"value\",\"value\":\"#e5ae38\"},\"hatch_alpha\":{\"type\":\"value\",\"value\":0.2}}}}},{\"type\":\"object\",\"name\":\"GlyphRenderer\",\"id\":\"147f139b-134d-4762-a627-381fd473e376\",\"attributes\":{\"name\":\"2\",\"data_source\":{\"type\":\"object\",\"name\":\"ColumnDataSource\",\"id\":\"fddfacad-8d32-428c-88ca-57db0479f942\",\"attributes\":{\"selected\":{\"type\":\"object\",\"name\":\"Selection\",\"id\":\"46b27131-aa3a-4c33-ab87-dc38a5761a78\",\"attributes\":{\"indices\":[],\"line_indices\":[]}},\"selection_policy\":{\"type\":\"object\",\"name\":\"UnionRenderers\",\"id\":\"d9478433-379a-4baa-ba8e-972dce237714\"},\"data\":{\"type\":\"map\",\"entries\":[[\"AGE\",{\"type\":\"ndarray\",\"array\":{\"type\":\"bytes\",\"data\":\"AAAAAAAANEAAAAAAAABAQAAAAAAAgEdAAAAAAABAUEA=\"},\"shape\":[4],\"dtype\":\"float64\",\"order\":\"little\"}],[\"len\",{\"type\":\"ndarray\",\"array\":{\"type\":\"bytes\",\"data\":\"eZsAAFvfAAA9sAAA0DAAAA==\"},\"shape\":[4],\"dtype\":\"uint32\",\"order\":\"little\"}],[\"ILOSTAT\",[2,2,2,2]]]}}},\"view\":{\"type\":\"object\",\"name\":\"CDSView\",\"id\":\"458f0481-9397-4ce1-9994-6c3076454f57\",\"attributes\":{\"filter\":{\"type\":\"object\",\"name\":\"AllIndices\",\"id\":\"8bd9d6e7-5511-47fb-b2e5-24f88fd23f87\"}}},\"glyph\":{\"type\":\"object\",\"name\":\"Scatter\",\"id\":\"5d10e3f2-f1fb-44c5-ba54-4468a66b01e6\",\"attributes\":{\"tags\":[\"apply_ranges\"],\"x\":{\"type\":\"field\",\"field\":\"AGE\"},\"y\":{\"type\":\"field\",\"field\":\"len\"},\"size\":{\"type\":\"value\",\"value\":5.477225575051661},\"line_color\":{\"type\":\"value\",\"value\":\"#6d904f\"},\"fill_color\":{\"type\":\"value\",\"value\":\"#6d904f\"},\"hatch_color\":{\"type\":\"value\",\"value\":\"#6d904f\"}}},\"selection_glyph\":{\"type\":\"object\",\"name\":\"Scatter\",\"id\":\"3c6bbe7d-3318-475b-bcfb-5a05647872da\",\"attributes\":{\"tags\":[\"apply_ranges\"],\"x\":{\"type\":\"field\",\"field\":\"AGE\"},\"y\":{\"type\":\"field\",\"field\":\"len\"},\"size\":{\"type\":\"value\",\"value\":5.477225575051661},\"angle\":{\"type\":\"value\",\"value\":0.0},\"line_color\":{\"type\":\"value\",\"value\":\"#6d904f\"},\"line_alpha\":{\"type\":\"value\",\"value\":1.0},\"line_width\":{\"type\":\"value\",\"value\":1},\"line_join\":{\"type\":\"value\",\"value\":\"bevel\"},\"line_cap\":{\"type\":\"value\",\"value\":\"butt\"},\"line_dash\":{\"type\":\"value\",\"value\":[]},\"line_dash_offset\":{\"type\":\"value\",\"value\":0},\"fill_color\":{\"type\":\"value\",\"value\":\"#6d904f\"},\"fill_alpha\":{\"type\":\"value\",\"value\":1.0},\"hatch_color\":{\"type\":\"value\",\"value\":\"#6d904f\"},\"hatch_alpha\":{\"type\":\"value\",\"value\":1.0},\"hatch_scale\":{\"type\":\"value\",\"value\":12.0},\"hatch_pattern\":{\"type\":\"value\",\"value\":null},\"hatch_weight\":{\"type\":\"value\",\"value\":1.0},\"marker\":{\"type\":\"value\",\"value\":\"circle\"}}},\"nonselection_glyph\":{\"type\":\"object\",\"name\":\"Scatter\",\"id\":\"e9e57f2e-c47d-4cfc-9a93-e7227b0584dd\",\"attributes\":{\"tags\":[\"apply_ranges\"],\"x\":{\"type\":\"field\",\"field\":\"AGE\"},\"y\":{\"type\":\"field\",\"field\":\"len\"},\"size\":{\"type\":\"value\",\"value\":5.477225575051661},\"line_color\":{\"type\":\"value\",\"value\":\"#6d904f\"},\"line_alpha\":{\"type\":\"value\",\"value\":0.1},\"fill_color\":{\"type\":\"value\",\"value\":\"#6d904f\"},\"fill_alpha\":{\"type\":\"value\",\"value\":0.1},\"hatch_color\":{\"type\":\"value\",\"value\":\"#6d904f\"},\"hatch_alpha\":{\"type\":\"value\",\"value\":0.1}}},\"muted_glyph\":{\"type\":\"object\",\"name\":\"Scatter\",\"id\":\"6970863a-4ec1-4c1a-8c07-48b99865c530\",\"attributes\":{\"tags\":[\"apply_ranges\"],\"x\":{\"type\":\"field\",\"field\":\"AGE\"},\"y\":{\"type\":\"field\",\"field\":\"len\"},\"size\":{\"type\":\"value\",\"value\":5.477225575051661},\"line_color\":{\"type\":\"value\",\"value\":\"#6d904f\"},\"line_alpha\":{\"type\":\"value\",\"value\":0.2},\"fill_color\":{\"type\":\"value\",\"value\":\"#6d904f\"},\"fill_alpha\":{\"type\":\"value\",\"value\":0.2},\"hatch_color\":{\"type\":\"value\",\"value\":\"#6d904f\"},\"hatch_alpha\":{\"type\":\"value\",\"value\":0.2}}}}}],\"toolbar\":{\"type\":\"object\",\"name\":\"Toolbar\",\"id\":\"3d97351d-b785-406e-ba6d-c15a0f771b46\",\"attributes\":{\"tools\":[{\"type\":\"object\",\"name\":\"WheelZoomTool\",\"id\":\"7821d01e-f0c3-4056-b674-91ac9e6371dc\",\"attributes\":{\"tags\":[\"hv_created\"],\"renderers\":\"auto\",\"zoom_together\":\"none\"}},{\"type\":\"object\",\"name\":\"HoverTool\",\"id\":\"d70e32f3-5b3d-4e2f-be30-27e74a4f13b5\",\"attributes\":{\"tags\":[\"hv_created\"],\"renderers\":[{\"id\":\"a16b560a-c437-4704-97b6-b46a243fbc23\"},{\"id\":\"1f78e9af-6ca0-4aa2-89b9-725c82e05c92\"},{\"id\":\"0b8fbfe1-5b43-4588-8ff4-847f124f9709\"},{\"id\":\"f22b9515-24ab-400f-b197-33070adba77b\"},{\"id\":\"7d962d29-cfc8-4793-9efe-60e88892ed01\"},{\"id\":\"8b152b15-5f6a-4d5b-a144-6b3f91ed2c7f\"},{\"id\":\"3e7be0ff-15f1-48c0-8e9d-707c895186a8\"},{\"id\":\"147f139b-134d-4762-a627-381fd473e376\"}],\"tooltips\":[[\"ILOSTAT\",\"@{ILOSTAT}\"],[\"AGE\",\"@{AGE}\"],[\"len\",\"@{len}\"]]}},{\"type\":\"object\",\"name\":\"SaveTool\",\"id\":\"6bee0dbf-a813-4c2a-9e8d-79d97c5af9b8\"},{\"type\":\"object\",\"name\":\"PanTool\",\"id\":\"ee2835ea-7e1a-4a00-97d3-d74551a41064\"},{\"type\":\"object\",\"name\":\"BoxZoomTool\",\"id\":\"5e2f0b2f-c1fe-455a-aaa7-174341bca490\",\"attributes\":{\"dimensions\":\"both\",\"overlay\":{\"type\":\"object\",\"name\":\"BoxAnnotation\",\"id\":\"ea16919a-e81d-4c87-ab29-0f76f5c08e7b\",\"attributes\":{\"syncable\":false,\"line_color\":\"black\",\"line_alpha\":1.0,\"line_width\":2,\"line_dash\":[4,4],\"fill_color\":\"lightgrey\",\"fill_alpha\":0.5,\"level\":\"overlay\",\"visible\":false,\"left\":{\"type\":\"number\",\"value\":\"nan\"},\"right\":{\"type\":\"number\",\"value\":\"nan\"},\"top\":{\"type\":\"number\",\"value\":\"nan\"},\"bottom\":{\"type\":\"number\",\"value\":\"nan\"},\"left_units\":\"canvas\",\"right_units\":\"canvas\",\"top_units\":\"canvas\",\"bottom_units\":\"canvas\",\"handles\":{\"type\":\"object\",\"name\":\"BoxInteractionHandles\",\"id\":\"9f123f4f-6b6c-4257-9da6-15093924326c\",\"attributes\":{\"all\":{\"type\":\"object\",\"name\":\"AreaVisuals\",\"id\":\"4422cf10-c71e-4eee-a2e7-eacb831b7af4\",\"attributes\":{\"fill_color\":\"white\",\"hover_fill_color\":\"lightgray\"}}}}}}}},{\"type\":\"object\",\"name\":\"ResetTool\",\"id\":\"63071b27-e467-462d-8ed8-40c780de787f\"}],\"active_drag\":{\"id\":\"ee2835ea-7e1a-4a00-97d3-d74551a41064\"},\"active_scroll\":{\"id\":\"7821d01e-f0c3-4056-b674-91ac9e6371dc\"}}},\"left\":[{\"type\":\"object\",\"name\":\"LinearAxis\",\"id\":\"44742f47-f5a0-48e4-bed4-1e41d2b03566\",\"attributes\":{\"ticker\":{\"type\":\"object\",\"name\":\"BasicTicker\",\"id\":\"06fb14d3-b087-4454-b7bd-119c879d65b6\",\"attributes\":{\"mantissas\":[1,2,5]}},\"formatter\":{\"type\":\"object\",\"name\":\"BasicTickFormatter\",\"id\":\"7f4cc300-33f3-4741-b9e8-dbfece3fb82d\"},\"axis_label\":\"len\",\"major_label_policy\":{\"type\":\"object\",\"name\":\"AllLabels\",\"id\":\"6a598d70-b5bd-4e09-9dbd-7feef14fd83b\"}}}],\"right\":[{\"type\":\"object\",\"name\":\"Legend\",\"id\":\"f7376897-4bcb-433d-be63-e1e69637115a\",\"attributes\":{\"location\":[0,0],\"click_policy\":\"mute\",\"items\":[{\"type\":\"object\",\"name\":\"LegendItem\",\"id\":\"be59e8fa-3a61-4b05-8395-871499c0779a\",\"attributes\":{\"label\":{\"type\":\"value\",\"value\":\"9\"},\"renderers\":[{\"id\":\"a16b560a-c437-4704-97b6-b46a243fbc23\"},{\"id\":\"7d962d29-cfc8-4793-9efe-60e88892ed01\"}]}},{\"type\":\"object\",\"name\":\"LegendItem\",\"id\":\"7bc34734-b719-4d77-9332-9a6542f817a4\",\"attributes\":{\"label\":{\"type\":\"value\",\"value\":\"1\"},\"renderers\":[{\"id\":\"1f78e9af-6ca0-4aa2-89b9-725c82e05c92\"},{\"id\":\"8b152b15-5f6a-4d5b-a144-6b3f91ed2c7f\"}]}},{\"type\":\"object\",\"name\":\"LegendItem\",\"id\":\"c51488db-8302-4210-9633-3e1dea54095e\",\"attributes\":{\"label\":{\"type\":\"value\",\"value\":\"3\"},\"renderers\":[{\"id\":\"0b8fbfe1-5b43-4588-8ff4-847f124f9709\"},{\"id\":\"3e7be0ff-15f1-48c0-8e9d-707c895186a8\"}]}},{\"type\":\"object\",\"name\":\"LegendItem\",\"id\":\"4196df98-599d-49ba-a32a-d2fa2968e61b\",\"attributes\":{\"label\":{\"type\":\"value\",\"value\":\"2\"},\"renderers\":[{\"id\":\"f22b9515-24ab-400f-b197-33070adba77b\"},{\"id\":\"147f139b-134d-4762-a627-381fd473e376\"}]}}]}}],\"below\":[{\"type\":\"object\",\"name\":\"LinearAxis\",\"id\":\"2e96f625-433c-4c4b-b9db-e4f14200939b\",\"attributes\":{\"ticker\":{\"type\":\"object\",\"name\":\"BasicTicker\",\"id\":\"1387de50-0d11-489d-9680-37c194fa1a70\",\"attributes\":{\"mantissas\":[1,2,5]}},\"formatter\":{\"type\":\"object\",\"name\":\"BasicTickFormatter\",\"id\":\"c49400a5-56cb-4ac1-b30d-295b27cda72b\"},\"axis_label\":\"AGE\",\"major_label_policy\":{\"type\":\"object\",\"name\":\"AllLabels\",\"id\":\"99ed9050-b4af-4310-a19a-c6c2d8cead3d\"}}}],\"center\":[{\"type\":\"object\",\"name\":\"Grid\",\"id\":\"ece13ce4-c904-4bd4-84e2-d98875cd8163\",\"attributes\":{\"axis\":{\"id\":\"2e96f625-433c-4c4b-b9db-e4f14200939b\"},\"grid_line_color\":null}},{\"type\":\"object\",\"name\":\"Grid\",\"id\":\"03536985-6314-4267-9408-1b9e11df5aff\",\"attributes\":{\"dimension\":1,\"axis\":{\"id\":\"44742f47-f5a0-48e4-bed4-1e41d2b03566\"},\"grid_line_color\":null}}],\"min_border_top\":10,\"min_border_bottom\":10,\"min_border_left\":10,\"min_border_right\":10,\"output_backend\":\"webgl\"}},{\"type\":\"object\",\"name\":\"Spacer\",\"id\":\"c15ef69f-edc0-4dde-a25f-d6c299437b2d\",\"attributes\":{\"name\":\"HSpacer00362\",\"stylesheets\":[\"\\n:host(.pn-loading):before, .pn-loading:before {\\n  background-color: #c3c3c3;\\n  mask-size: auto calc(min(50%, 400px));\\n  -webkit-mask-size: auto calc(min(50%, 400px));\\n}\",{\"id\":\"03d567c6-ca00-4b32-9ae2-ee2bfe430444\"},{\"id\":\"a12150a0-1233-4fef-afd1-3f560cc0593c\"},{\"id\":\"da4f3731-cf10-4aef-ab20-a3ee81e2ff2c\"}],\"min_width\":0,\"margin\":0,\"sizing_mode\":\"stretch_width\",\"align\":\"start\"}}]}}],\"defs\":[{\"type\":\"model\",\"name\":\"ReactiveHTML1\"},{\"type\":\"model\",\"name\":\"FlexBox1\",\"properties\":[{\"name\":\"align_content\",\"kind\":\"Any\",\"default\":\"flex-start\"},{\"name\":\"align_items\",\"kind\":\"Any\",\"default\":\"flex-start\"},{\"name\":\"flex_direction\",\"kind\":\"Any\",\"default\":\"row\"},{\"name\":\"flex_wrap\",\"kind\":\"Any\",\"default\":\"wrap\"},{\"name\":\"gap\",\"kind\":\"Any\",\"default\":\"\"},{\"name\":\"justify_content\",\"kind\":\"Any\",\"default\":\"flex-start\"}]},{\"type\":\"model\",\"name\":\"FloatPanel1\",\"properties\":[{\"name\":\"config\",\"kind\":\"Any\",\"default\":{\"type\":\"map\"}},{\"name\":\"contained\",\"kind\":\"Any\",\"default\":true},{\"name\":\"position\",\"kind\":\"Any\",\"default\":\"right-top\"},{\"name\":\"offsetx\",\"kind\":\"Any\",\"default\":null},{\"name\":\"offsety\",\"kind\":\"Any\",\"default\":null},{\"name\":\"theme\",\"kind\":\"Any\",\"default\":\"primary\"},{\"name\":\"status\",\"kind\":\"Any\",\"default\":\"normalized\"}]},{\"type\":\"model\",\"name\":\"GridStack1\",\"properties\":[{\"name\":\"ncols\",\"kind\":\"Any\",\"default\":null},{\"name\":\"nrows\",\"kind\":\"Any\",\"default\":null},{\"name\":\"allow_resize\",\"kind\":\"Any\",\"default\":true},{\"name\":\"allow_drag\",\"kind\":\"Any\",\"default\":true},{\"name\":\"state\",\"kind\":\"Any\",\"default\":[]}]},{\"type\":\"model\",\"name\":\"drag1\",\"properties\":[{\"name\":\"slider_width\",\"kind\":\"Any\",\"default\":5},{\"name\":\"slider_color\",\"kind\":\"Any\",\"default\":\"black\"},{\"name\":\"value\",\"kind\":\"Any\",\"default\":50}]},{\"type\":\"model\",\"name\":\"click1\",\"properties\":[{\"name\":\"terminal_output\",\"kind\":\"Any\",\"default\":\"\"},{\"name\":\"debug_name\",\"kind\":\"Any\",\"default\":\"\"},{\"name\":\"clears\",\"kind\":\"Any\",\"default\":0}]},{\"type\":\"model\",\"name\":\"ReactiveESM1\",\"properties\":[{\"name\":\"esm_constants\",\"kind\":\"Any\",\"default\":{\"type\":\"map\"}}]},{\"type\":\"model\",\"name\":\"JSComponent1\",\"properties\":[{\"name\":\"esm_constants\",\"kind\":\"Any\",\"default\":{\"type\":\"map\"}}]},{\"type\":\"model\",\"name\":\"ReactComponent1\",\"properties\":[{\"name\":\"use_shadow_dom\",\"kind\":\"Any\",\"default\":true},{\"name\":\"esm_constants\",\"kind\":\"Any\",\"default\":{\"type\":\"map\"}}]},{\"type\":\"model\",\"name\":\"AnyWidgetComponent1\",\"properties\":[{\"name\":\"use_shadow_dom\",\"kind\":\"Any\",\"default\":true},{\"name\":\"esm_constants\",\"kind\":\"Any\",\"default\":{\"type\":\"map\"}}]},{\"type\":\"model\",\"name\":\"FastWrapper1\",\"properties\":[{\"name\":\"object\",\"kind\":\"Any\",\"default\":null},{\"name\":\"style\",\"kind\":\"Any\",\"default\":null}]},{\"type\":\"model\",\"name\":\"NotificationArea1\",\"properties\":[{\"name\":\"js_events\",\"kind\":\"Any\",\"default\":{\"type\":\"map\"}},{\"name\":\"max_notifications\",\"kind\":\"Any\",\"default\":5},{\"name\":\"notifications\",\"kind\":\"Any\",\"default\":[]},{\"name\":\"position\",\"kind\":\"Any\",\"default\":\"bottom-right\"},{\"name\":\"_clear\",\"kind\":\"Any\",\"default\":0},{\"name\":\"types\",\"kind\":\"Any\",\"default\":[{\"type\":\"map\",\"entries\":[[\"type\",\"warning\"],[\"background\",\"#ffc107\"],[\"icon\",{\"type\":\"map\",\"entries\":[[\"className\",\"fas fa-exclamation-triangle\"],[\"tagName\",\"i\"],[\"color\",\"white\"]]}]]},{\"type\":\"map\",\"entries\":[[\"type\",\"info\"],[\"background\",\"#007bff\"],[\"icon\",{\"type\":\"map\",\"entries\":[[\"className\",\"fas fa-info-circle\"],[\"tagName\",\"i\"],[\"color\",\"white\"]]}]]}]}]},{\"type\":\"model\",\"name\":\"Notification\",\"properties\":[{\"name\":\"background\",\"kind\":\"Any\",\"default\":null},{\"name\":\"duration\",\"kind\":\"Any\",\"default\":3000},{\"name\":\"icon\",\"kind\":\"Any\",\"default\":null},{\"name\":\"message\",\"kind\":\"Any\",\"default\":\"\"},{\"name\":\"notification_type\",\"kind\":\"Any\",\"default\":null},{\"name\":\"_rendered\",\"kind\":\"Any\",\"default\":false},{\"name\":\"_destroyed\",\"kind\":\"Any\",\"default\":false}]},{\"type\":\"model\",\"name\":\"TemplateActions1\",\"properties\":[{\"name\":\"open_modal\",\"kind\":\"Any\",\"default\":0},{\"name\":\"close_modal\",\"kind\":\"Any\",\"default\":0}]},{\"type\":\"model\",\"name\":\"BootstrapTemplateActions1\",\"properties\":[{\"name\":\"open_modal\",\"kind\":\"Any\",\"default\":0},{\"name\":\"close_modal\",\"kind\":\"Any\",\"default\":0}]},{\"type\":\"model\",\"name\":\"TemplateEditor1\",\"properties\":[{\"name\":\"layout\",\"kind\":\"Any\",\"default\":[]}]},{\"type\":\"model\",\"name\":\"MaterialTemplateActions1\",\"properties\":[{\"name\":\"open_modal\",\"kind\":\"Any\",\"default\":0},{\"name\":\"close_modal\",\"kind\":\"Any\",\"default\":0}]},{\"type\":\"model\",\"name\":\"request_value1\",\"properties\":[{\"name\":\"fill\",\"kind\":\"Any\",\"default\":\"none\"},{\"name\":\"_synced\",\"kind\":\"Any\",\"default\":null},{\"name\":\"_request_sync\",\"kind\":\"Any\",\"default\":0}]},{\"type\":\"model\",\"name\":\"holoviews.plotting.bokeh.raster.HoverModel\",\"properties\":[{\"name\":\"xy\",\"kind\":\"Any\",\"default\":null},{\"name\":\"data\",\"kind\":\"Any\",\"default\":null}]}]}};\n",
       "  var render_items = [{\"docid\":\"9d49ea28-966c-40c2-a5f1-4ea9c1eee83b\",\"roots\":{\"2aa34f9f-d69a-4a32-b658-72e01b53fdde\":\"cc1aa78f-5287-410f-8fd2-cd49e9353743\"},\"root_ids\":[\"2aa34f9f-d69a-4a32-b658-72e01b53fdde\"]}];\n",
       "  var docs = Object.values(docs_json)\n",
       "  if (!docs) {\n",
       "    return\n",
       "  }\n",
       "  const py_version = docs[0].version.replace('rc', '-rc.').replace('.dev', '-dev.')\n",
       "  async function embed_document(root) {\n",
       "    var Bokeh = get_bokeh(root)\n",
       "    await Bokeh.embed.embed_items_notebook(docs_json, render_items);\n",
       "    for (const render_item of render_items) {\n",
       "      for (const root_id of render_item.root_ids) {\n",
       "\tconst id_el = document.getElementById(root_id)\n",
       "\tif (id_el.children.length && id_el.children[0].hasAttribute('data-root-id')) {\n",
       "\t  const root_el = id_el.children[0]\n",
       "\t  root_el.id = root_el.id + '-rendered'\n",
       "\t  for (const child of root_el.children) {\n",
       "            // Ensure JupyterLab does not capture keyboard shortcuts\n",
       "            // see: https://jupyterlab.readthedocs.io/en/4.1.x/extension/notebook.html#keyboard-interaction-model\n",
       "\t    child.setAttribute('data-lm-suppress-shortcuts', 'true')\n",
       "\t  }\n",
       "\t}\n",
       "      }\n",
       "    }\n",
       "  }\n",
       "  function get_bokeh(root) {\n",
       "    if (root.Bokeh === undefined) {\n",
       "      return null\n",
       "    } else if (root.Bokeh.version !== py_version) {\n",
       "      if (root.Bokeh.versions === undefined || !root.Bokeh.versions.has(py_version)) {\n",
       "\treturn null\n",
       "      }\n",
       "      return root.Bokeh.versions.get(py_version);\n",
       "    } else if (root.Bokeh.version === py_version) {\n",
       "      return root.Bokeh\n",
       "    }\n",
       "    return null\n",
       "  }\n",
       "  function is_loaded(root) {\n",
       "    var Bokeh = get_bokeh(root)\n",
       "    return (Bokeh != null && Bokeh.Panel !== undefined)\n",
       "  }\n",
       "  if (is_loaded(root)) {\n",
       "    embed_document(root);\n",
       "  } else {\n",
       "    var attempts = 0;\n",
       "    var timer = setInterval(function(root) {\n",
       "      if (is_loaded(root)) {\n",
       "        clearInterval(timer);\n",
       "        embed_document(root);\n",
       "      } else if (document.readyState == \"complete\") {\n",
       "        attempts++;\n",
       "        if (attempts > 200) {\n",
       "          clearInterval(timer);\n",
       "\t  var Bokeh = get_bokeh(root)\n",
       "\t  if (Bokeh == null || Bokeh.Panel == null) {\n",
       "            console.warn(\"Panel: ERROR: Unable to run Panel code because Bokeh or Panel library is missing\");\n",
       "\t  } else {\n",
       "\t    console.warn(\"Panel: WARNING: Attempting to render but not all required libraries could be resolved.\")\n",
       "\t    embed_document(root)\n",
       "\t  }\n",
       "        }\n",
       "      }\n",
       "    }, 25, root)\n",
       "  }\n",
       "})(window);</script>"
      ],
      "text/plain": [
       ":Overlay\n",
       "   .NdOverlay.I  :NdOverlay   [ILOSTAT]\n",
       "      :Curve   [AGE]   (len)\n",
       "   .NdOverlay.II :NdOverlay   [ILOSTAT]\n",
       "      :Scatter   [AGE]   (len)"
      ]
     },
     "execution_count": 4,
     "metadata": {
      "application/vnd.holoviews_exec.v0+json": {
       "id": "2aa34f9f-d69a-4a32-b658-72e01b53fdde"
      }
     },
     "output_type": "execute_result"
    }
   ],
   "source": [
    "df = query_age_ilostat.release().collect()\n",
    "\n",
    "line = df.sort(\"AGE\").hvplot.line(x=\"AGE\", y=\"len\", by=\"ILOSTAT\")\n",
    "scatter = df.sort(\"AGE\").hvplot.scatter(x=\"AGE\", y=\"len\", by=\"ILOSTAT\")\n",
    "line * scatter"
   ]
  },
  {
   "cell_type": "markdown",
   "metadata": {},
   "source": [
    "Referring back to the ILOSTAT legend:\n",
    "\n",
    "| ILOSTAT | Legend | Comments | \n",
    "| ------- | ------ | ----------- | \n",
    "| 1 | did any work for pay or profit | most common among people between 30 and 50 |\n",
    "| 2 | employed but not working | slightly more commonly observed among young adults |\n",
    "| 3 | was not working because of lay-off | clearly influenced by retirement |\n",
    "| 9 | not applicable, less than 15 years old | only present for the youngest age group |\n",
    "\n",
    "Where points are missing in the graph, \n",
    "there are not enough individuals for that combination of age and employment status to pass threshold."
   ]
  },
  {
   "cell_type": "markdown",
   "metadata": {},
   "source": [
    "## Explicit Keys\n",
    "\n",
    "If you know the grouping keys ahead-of-time, you can avoid spending the privacy parameter $\\delta$ to release them.\n",
    "\n",
    "> It is recommended to only ever create one Context that spans all queries you may make on your data.\n",
    "> We create another context here to demonstrate how grouping queries can be released without the use of the privacy parameter delta.\n"
   ]
  },
  {
   "cell_type": "code",
   "execution_count": 5,
   "metadata": {
    "execution": {
     "iopub.execute_input": "2025-06-04T18:15:10.326555Z",
     "iopub.status.busy": "2025-06-04T18:15:10.326471Z",
     "iopub.status.idle": "2025-06-04T18:15:10.338878Z",
     "shell.execute_reply": "2025-06-04T18:15:10.338646Z"
    }
   },
   "outputs": [],
   "source": [
    "context = dp.Context.compositor(\n",
    "    # Many columns contain mixtures of strings and numbers and cannot be parsed as floats,\n",
    "    # so we'll set `ignore_errors` to true to avoid conversion errors.\n",
    "    data=pl.scan_csv(dp.examples.get_france_lfs_path(), ignore_errors=True),\n",
    "    privacy_unit=dp.unit_of(contributions=36),\n",
    "    privacy_loss=dp.loss_of(epsilon=1.0 / 4),\n",
    "    # allow for one query\n",
    "    split_evenly_over=1,\n",
    ")"
   ]
  },
  {
   "cell_type": "markdown",
   "metadata": {},
   "source": [
    "For example, you can reuse the stable groups released in the previous query:"
   ]
  },
  {
   "cell_type": "code",
   "execution_count": 6,
   "metadata": {
    "execution": {
     "iopub.execute_input": "2025-06-04T18:15:10.340113Z",
     "iopub.status.busy": "2025-06-04T18:15:10.340029Z",
     "iopub.status.idle": "2025-06-04T18:15:10.890842Z",
     "shell.execute_reply": "2025-06-04T18:15:10.890590Z"
    }
   },
   "outputs": [
    {
     "data": {
      "text/html": [
       "<div><style>\n",
       ".dataframe > thead > tr,\n",
       ".dataframe > tbody > tr {\n",
       "  text-align: right;\n",
       "  white-space: pre-wrap;\n",
       "}\n",
       "</style>\n",
       "<small>shape: (1, 4)</small><table border=\"1\" class=\"dataframe\"><thead><tr><th>column</th><th>aggregate</th><th>distribution</th><th>scale</th></tr><tr><td>str</td><td>str</td><td>str</td><td>f64</td></tr></thead><tbody><tr><td>&quot;len&quot;</td><td>&quot;Frame Length&quot;</td><td>&quot;Integer Laplace&quot;</td><td>144.0</td></tr></tbody></table></div>"
      ],
      "text/plain": [
       "shape: (1, 4)\n",
       "┌────────┬──────────────┬─────────────────┬───────┐\n",
       "│ column ┆ aggregate    ┆ distribution    ┆ scale │\n",
       "│ ---    ┆ ---          ┆ ---             ┆ ---   │\n",
       "│ str    ┆ str          ┆ str             ┆ f64   │\n",
       "╞════════╪══════════════╪═════════════════╪═══════╡\n",
       "│ len    ┆ Frame Length ┆ Integer Laplace ┆ 144.0 │\n",
       "└────────┴──────────────┴─────────────────┴───────┘"
      ]
     },
     "execution_count": 6,
     "metadata": {},
     "output_type": "execute_result"
    }
   ],
   "source": [
    "query_age_ilostat = (\n",
    "    context.query()\n",
    "    .group_by(\"AGE\", \"ILOSTAT\")\n",
    "    .agg(dp.len())\n",
    "    .with_keys(df[\"AGE\", \"ILOSTAT\"])\n",
    ")\n",
    "\n",
    "query_age_ilostat.summarize()"
   ]
  },
  {
   "cell_type": "markdown",
   "metadata": {},
   "source": [
    "`.with_keys` adds a left join where the left dataset is your explicit list of group keys \n",
    "and the right dataset contains the results of the grouped aggregation.\n",
    "You can also write the join yourself! When using the context API, this is easier to express through a right join:"
   ]
  },
  {
   "cell_type": "code",
   "execution_count": 7,
   "metadata": {
    "execution": {
     "iopub.execute_input": "2025-06-04T18:15:10.892103Z",
     "iopub.status.busy": "2025-06-04T18:15:10.892024Z",
     "iopub.status.idle": "2025-06-04T18:15:11.435487Z",
     "shell.execute_reply": "2025-06-04T18:15:11.435217Z"
    }
   },
   "outputs": [
    {
     "data": {
      "text/html": [
       "<div><style>\n",
       ".dataframe > thead > tr,\n",
       ".dataframe > tbody > tr {\n",
       "  text-align: right;\n",
       "  white-space: pre-wrap;\n",
       "}\n",
       "</style>\n",
       "<small>shape: (1, 4)</small><table border=\"1\" class=\"dataframe\"><thead><tr><th>column</th><th>aggregate</th><th>distribution</th><th>scale</th></tr><tr><td>str</td><td>str</td><td>str</td><td>f64</td></tr></thead><tbody><tr><td>&quot;len&quot;</td><td>&quot;Frame Length&quot;</td><td>&quot;Integer Laplace&quot;</td><td>144.0</td></tr></tbody></table></div>"
      ],
      "text/plain": [
       "shape: (1, 4)\n",
       "┌────────┬──────────────┬─────────────────┬───────┐\n",
       "│ column ┆ aggregate    ┆ distribution    ┆ scale │\n",
       "│ ---    ┆ ---          ┆ ---             ┆ ---   │\n",
       "│ str    ┆ str          ┆ str             ┆ f64   │\n",
       "╞════════╪══════════════╪═════════════════╪═══════╡\n",
       "│ len    ┆ Frame Length ┆ Integer Laplace ┆ 144.0 │\n",
       "└────────┴──────────────┴─────────────────┴───────┘"
      ]
     },
     "execution_count": 7,
     "metadata": {},
     "output_type": "execute_result"
    }
   ],
   "source": [
    "query_age_ilostat = (\n",
    "    context.query()\n",
    "    .group_by(\"AGE\", \"ILOSTAT\")\n",
    "    .agg(dp.len())\n",
    "    .join(df[\"AGE\", \"ILOSTAT\"].lazy(), how=\"right\", on=[\"AGE\", \"ILOSTAT\"])\n",
    ")\n",
    "\n",
    "query_age_ilostat.summarize()"
   ]
  },
  {
   "cell_type": "markdown",
   "metadata": {},
   "source": [
    "The OpenDP Library rewrites these kinds of queries to impute any missing statistics corresponding to explicit group keys that don't exist in the real data.\n",
    "The imputed values are as if you released the differentially private statistics on a group with no data."
   ]
  },
  {
   "cell_type": "markdown",
   "metadata": {},
   "source": [
    "## Invariant Group Keys\n",
    "\n",
    "The OpenDP Library has the option to explicitly describe group keys as an \"invariant\" that can be released in the clear.\n",
    "Be aware that any aspect of your data labeled an \"invariant\" is not subject to privacy protections.\n",
    "Invariants __weaken__ the integrity of the privacy guarantee, \n",
    "and open a potential vulnerability to privacy attacks.\n",
    "For this reason, you should be very reluctant to use invariants.\n",
    "\n",
    "In the case of invariant keys, even the absence of a group key can constitute a privacy violation.\n",
    "On the other hand, invariants have been used in some high-profile data releases, including by the US Census Bureau.\n",
    "\n",
    "To demonstrate this functionality, make the assumption that the quarters in which data has been collected is an invariant.\n",
    "You can mark group keys for the combination of year and quarter as invariant by setting `invariant=\"keys\"` as follows:"
   ]
  },
  {
   "cell_type": "code",
   "execution_count": 8,
   "metadata": {
    "execution": {
     "iopub.execute_input": "2025-06-04T18:15:11.436842Z",
     "iopub.status.busy": "2025-06-04T18:15:11.436750Z",
     "iopub.status.idle": "2025-06-04T18:15:11.449546Z",
     "shell.execute_reply": "2025-06-04T18:15:11.449310Z"
    }
   },
   "outputs": [],
   "source": [
    "context = dp.Context.compositor(\n",
    "    data=pl.scan_csv(dp.examples.get_france_lfs_path(), ignore_errors=True),\n",
    "    privacy_unit=dp.unit_of(contributions=36),\n",
    "    privacy_loss=dp.loss_of(epsilon=1.0 / 4),\n",
    "    split_evenly_over=1,\n",
    "    margins=[\n",
    "        # group keys when grouped by \"YEAR\" and \"QUARTER\" are invariant\n",
    "        dp.polars.Margin(by=[\"YEAR\", \"QUARTER\"], invariant=\"keys\")\n",
    "    ],\n",
    ")"
   ]
  },
  {
   "cell_type": "markdown",
   "metadata": {},
   "source": [
    "> It is recommended to only ever create one Context that spans all queries you may make on your data.\n",
    "> We create another context here to demonstrate how an invariant will influence the analysis.\n",
    "\n",
    "Due to the existence of this invariant, the library will now release these quarterly keys in the clear."
   ]
  },
  {
   "cell_type": "code",
   "execution_count": 9,
   "metadata": {
    "execution": {
     "iopub.execute_input": "2025-06-04T18:15:11.450756Z",
     "iopub.status.busy": "2025-06-04T18:15:11.450677Z",
     "iopub.status.idle": "2025-06-04T18:15:11.879459Z",
     "shell.execute_reply": "2025-06-04T18:15:11.879206Z"
    }
   },
   "outputs": [
    {
     "data": {
      "text/html": [
       "<div><style>\n",
       ".dataframe > thead > tr,\n",
       ".dataframe > tbody > tr {\n",
       "  text-align: right;\n",
       "  white-space: pre-wrap;\n",
       "}\n",
       "</style>\n",
       "<small>shape: (1, 5)</small><table border=\"1\" class=\"dataframe\"><thead><tr><th>column</th><th>aggregate</th><th>distribution</th><th>scale</th><th>accuracy</th></tr><tr><td>str</td><td>str</td><td>str</td><td>f64</td><td>f64</td></tr></thead><tbody><tr><td>&quot;len&quot;</td><td>&quot;Frame Length&quot;</td><td>&quot;Integer Laplace&quot;</td><td>144.0</td><td>431.884579</td></tr></tbody></table></div>"
      ],
      "text/plain": [
       "shape: (1, 5)\n",
       "┌────────┬──────────────┬─────────────────┬───────┬────────────┐\n",
       "│ column ┆ aggregate    ┆ distribution    ┆ scale ┆ accuracy   │\n",
       "│ ---    ┆ ---          ┆ ---             ┆ ---   ┆ ---        │\n",
       "│ str    ┆ str          ┆ str             ┆ f64   ┆ f64        │\n",
       "╞════════╪══════════════╪═════════════════╪═══════╪════════════╡\n",
       "│ len    ┆ Frame Length ┆ Integer Laplace ┆ 144.0 ┆ 431.884579 │\n",
       "└────────┴──────────────┴─────────────────┴───────┴────────────┘"
      ]
     },
     "execution_count": 9,
     "metadata": {},
     "output_type": "execute_result"
    }
   ],
   "source": [
    "query_quarterly_counts = (\n",
    "    context.query()\n",
    "    .group_by(\"YEAR\", \"QUARTER\")\n",
    "    .agg(dp.len())\n",
    ")\n",
    "\n",
    "summary = query_quarterly_counts.summarize(alpha=.05)\n",
    "summary"
   ]
  },
  {
   "cell_type": "markdown",
   "metadata": {},
   "source": [
    "This query description no longer has a \"threshold\" field: all noisy statistics computed on each group will be released."
   ]
  },
  {
   "cell_type": "markdown",
   "metadata": {},
   "source": [
    "This visualization includes error bars showing 95% confidence intervals for the true value by pulling the accuracy estimate from the query description above."
   ]
  },
  {
   "cell_type": "code",
   "execution_count": 10,
   "metadata": {
    "execution": {
     "iopub.execute_input": "2025-06-04T18:15:11.880831Z",
     "iopub.status.busy": "2025-06-04T18:15:11.880747Z",
     "iopub.status.idle": "2025-06-04T18:15:13.729346Z",
     "shell.execute_reply": "2025-06-04T18:15:13.729082Z"
    }
   },
   "outputs": [
    {
     "data": {},
     "metadata": {},
     "output_type": "display_data"
    },
    {
     "data": {
      "application/vnd.holoviews_exec.v0+json": "",
      "text/html": [
       "<div id='306e11f3-d071-46a6-b07e-7c718a5cdd9a'>\n",
       "  <div id=\"f72d3e7b-dcc5-4a07-8141-35df60af6d9a\" data-root-id=\"306e11f3-d071-46a6-b07e-7c718a5cdd9a\" style=\"display: contents;\"></div>\n",
       "</div>\n",
       "<script type=\"application/javascript\">(function(root) {\n",
       "  var docs_json = {\"b8683202-7805-4a07-8d42-fb34e0dda73d\":{\"version\":\"3.7.3\",\"title\":\"Bokeh Application\",\"roots\":[{\"type\":\"object\",\"name\":\"Row\",\"id\":\"306e11f3-d071-46a6-b07e-7c718a5cdd9a\",\"attributes\":{\"name\":\"Row00545\",\"tags\":[\"embedded\"],\"stylesheets\":[\"\\n:host(.pn-loading):before, .pn-loading:before {\\n  background-color: #c3c3c3;\\n  mask-size: auto calc(min(50%, 400px));\\n  -webkit-mask-size: auto calc(min(50%, 400px));\\n}\",{\"type\":\"object\",\"name\":\"ImportedStyleSheet\",\"id\":\"4a61f7db-247a-442d-8ed1-90574cfe4337\",\"attributes\":{\"url\":\"https://cdn.holoviz.org/panel/1.7.5/dist/css/loading.css\"}},{\"type\":\"object\",\"name\":\"ImportedStyleSheet\",\"id\":\"2091d717-b831-461b-b3bd-38faa4ffec11\",\"attributes\":{\"url\":\"https://cdn.holoviz.org/panel/1.7.5/dist/css/listpanel.css\"}},{\"type\":\"object\",\"name\":\"ImportedStyleSheet\",\"id\":\"c019dc8b-08e9-4e9a-910b-bbf9d6aa564b\",\"attributes\":{\"url\":\"https://cdn.holoviz.org/panel/1.7.5/dist/bundled/theme/default.css\"}},{\"type\":\"object\",\"name\":\"ImportedStyleSheet\",\"id\":\"72bb3bc1-bf03-48d3-b0dd-b02842be0539\",\"attributes\":{\"url\":\"https://cdn.holoviz.org/panel/1.7.5/dist/bundled/theme/native.css\"}}],\"min_width\":700,\"margin\":0,\"sizing_mode\":\"stretch_width\",\"align\":\"start\",\"children\":[{\"type\":\"object\",\"name\":\"Spacer\",\"id\":\"f246868c-7c01-4880-b4e0-334a27696779\",\"attributes\":{\"name\":\"HSpacer00549\",\"stylesheets\":[\"\\n:host(.pn-loading):before, .pn-loading:before {\\n  background-color: #c3c3c3;\\n  mask-size: auto calc(min(50%, 400px));\\n  -webkit-mask-size: auto calc(min(50%, 400px));\\n}\",{\"id\":\"4a61f7db-247a-442d-8ed1-90574cfe4337\"},{\"id\":\"c019dc8b-08e9-4e9a-910b-bbf9d6aa564b\"},{\"id\":\"72bb3bc1-bf03-48d3-b0dd-b02842be0539\"}],\"min_width\":0,\"margin\":0,\"sizing_mode\":\"stretch_width\",\"align\":\"start\"}},{\"type\":\"object\",\"name\":\"Figure\",\"id\":\"05f447a7-e128-44bd-bb11-77b5f3379db4\",\"attributes\":{\"width\":700,\"height\":300,\"margin\":[5,10],\"sizing_mode\":\"fixed\",\"align\":\"start\",\"x_range\":{\"type\":\"object\",\"name\":\"Range1d\",\"id\":\"ce57df17-79bc-42ee-a901-e957421d1dfd\",\"attributes\":{\"name\":\"date\",\"tags\":[[[\"date\",null]],[]],\"start\":1109635200000.0,\"end\":1385856000000.0,\"reset_start\":1109635200000.0,\"reset_end\":1385856000000.0}},\"y_range\":{\"type\":\"object\",\"name\":\"Range1d\",\"id\":\"dfd83f93-f541-43da-a8e5-08969897b483\",\"attributes\":{\"name\":\"len\",\"tags\":[[[\"len\",null]],{\"type\":\"map\",\"entries\":[[\"invert_yaxis\",false],[\"autorange\",false]]}],\"start\":77065.33850479445,\"end\":137062.66149520554,\"reset_start\":77065.33850479445,\"reset_end\":137062.66149520554}},\"x_scale\":{\"type\":\"object\",\"name\":\"LinearScale\",\"id\":\"0a872ec9-846d-4744-b730-4f3e1befa162\"},\"y_scale\":{\"type\":\"object\",\"name\":\"LinearScale\",\"id\":\"e6591be4-821b-4a33-b1aa-2b80e83073b6\"},\"title\":{\"type\":\"object\",\"name\":\"Title\",\"id\":\"b0422bf0-3c84-40ca-b1e9-1ead22b97ee5\",\"attributes\":{\"text_color\":\"black\",\"text_font_size\":\"12pt\"}},\"renderers\":[{\"type\":\"object\",\"name\":\"GlyphRenderer\",\"id\":\"8312769e-d9a7-4b76-b06c-c1cd2ea0d019\",\"attributes\":{\"data_source\":{\"type\":\"object\",\"name\":\"ColumnDataSource\",\"id\":\"8b3c81b8-73ff-4a34-b96c-2363bb1e7a6a\",\"attributes\":{\"selected\":{\"type\":\"object\",\"name\":\"Selection\",\"id\":\"b1f53ced-f6f5-4589-be94-3d2959ec20d7\",\"attributes\":{\"indices\":[],\"line_indices\":[]}},\"selection_policy\":{\"type\":\"object\",\"name\":\"UnionRenderers\",\"id\":\"aed0b7ac-673e-4bf2-92d1-b3ed42a6fa55\"},\"data\":{\"type\":\"map\",\"entries\":[[\"date\",{\"type\":\"ndarray\",\"array\":{\"type\":\"bytes\",\"data\":\"AABAl7YlcEIAAEAoU0NwQgAAQLnvYHBCAACA5Dl+cEIAAACqMZtwQgAAADvOuHBCAAAAzGrWcEIAAED3tPNwQgAAwLysEHFCAADATUkucUIAAMDe5UtxQgAAAAowaXFCAABANXqGcUIAAEDGFqRxQgAAQFezwXFCAACAgv3ecUIAAABI9ftxQgAAANmRGXJCAAAAai43ckIAAECVeFRyQgAAwFpwcXJCAADA6wyPckIAAMB8qaxyQgAAAKjzyXJCAACAbevmckIAAID+hwRzQgAAgI8kInNCAADAum4/c0IAAADmuFxzQgAAAHdVenNCAAAACPKXc0IAAEAzPLVzQgAAwPgz0nNCAADAidDvc0IAAMAabQ10QgAAAEa3KnRC\"},\"shape\":[36],\"dtype\":\"float64\",\"order\":\"little\"}],[\"len\",{\"type\":\"ndarray\",\"array\":{\"type\":\"bytes\",\"data\":\"LlUBAL9RAQB0RgEAvEoBADVSAQA1TAEAQUIBAJRPAQB1WwEA9loBAPxMAQD5VgEAAV4BAKdWAQA7SwEAYFMBAB5yAQAojQEA/poBAFnCAQCm3AEAHvIBACXiAQB78AEAM/kBAD76AQBD7wEALwICAK/0AQC++QEATe4BAHX/AQAQ7wEATt4BAF7BAQDaxgEA\"},\"shape\":[36],\"dtype\":\"uint32\",\"order\":\"little\"}]]}}},\"view\":{\"type\":\"object\",\"name\":\"CDSView\",\"id\":\"0b9251a3-662f-4137-9523-7c7462113ae5\",\"attributes\":{\"filter\":{\"type\":\"object\",\"name\":\"AllIndices\",\"id\":\"776ba64b-1e97-4a4f-9e47-0fafe5cfff5a\"}}},\"glyph\":{\"type\":\"object\",\"name\":\"Line\",\"id\":\"cd83145d-438d-4ed6-9b53-e40daa390b85\",\"attributes\":{\"tags\":[\"apply_ranges\"],\"x\":{\"type\":\"field\",\"field\":\"date\"},\"y\":{\"type\":\"field\",\"field\":\"len\"},\"line_color\":\"#30a2da\",\"line_width\":2}},\"selection_glyph\":{\"type\":\"object\",\"name\":\"Line\",\"id\":\"0e33987b-553f-45b1-bf22-eb8680d9573c\",\"attributes\":{\"tags\":[\"apply_ranges\"],\"x\":{\"type\":\"field\",\"field\":\"date\"},\"y\":{\"type\":\"field\",\"field\":\"len\"},\"line_color\":\"#30a2da\",\"line_width\":2}},\"nonselection_glyph\":{\"type\":\"object\",\"name\":\"Line\",\"id\":\"d60c68b4-b53b-4c62-9424-723a45400710\",\"attributes\":{\"tags\":[\"apply_ranges\"],\"x\":{\"type\":\"field\",\"field\":\"date\"},\"y\":{\"type\":\"field\",\"field\":\"len\"},\"line_color\":\"#30a2da\",\"line_alpha\":0.1,\"line_width\":2}},\"muted_glyph\":{\"type\":\"object\",\"name\":\"Line\",\"id\":\"e6965bdc-86f1-41a8-bb8c-de2cf8de8718\",\"attributes\":{\"tags\":[\"apply_ranges\"],\"x\":{\"type\":\"field\",\"field\":\"date\"},\"y\":{\"type\":\"field\",\"field\":\"len\"},\"line_color\":\"#30a2da\",\"line_alpha\":0.2,\"line_width\":2}}}}],\"toolbar\":{\"type\":\"object\",\"name\":\"Toolbar\",\"id\":\"8628dd4a-6c09-4cf6-a976-e97dcf237b38\",\"attributes\":{\"tools\":[{\"type\":\"object\",\"name\":\"WheelZoomTool\",\"id\":\"ae785392-c6cd-4c18-8d45-ed950ba0aba5\",\"attributes\":{\"tags\":[\"hv_created\"],\"renderers\":\"auto\",\"zoom_together\":\"none\"}},{\"type\":\"object\",\"name\":\"HoverTool\",\"id\":\"dff54f7a-5f49-4ca2-a0a5-fd068ff80aca\",\"attributes\":{\"tags\":[\"hv_created\"],\"renderers\":[{\"id\":\"8312769e-d9a7-4b76-b06c-c1cd2ea0d019\"}],\"tooltips\":[[\"date\",\"@{date}{%F %T}\"],[\"len\",\"@{len}\"]],\"formatters\":{\"type\":\"map\",\"entries\":[[\"@{date}\",\"datetime\"]]}}},{\"type\":\"object\",\"name\":\"SaveTool\",\"id\":\"5485a5cc-4871-4b50-878e-e27ec025b8ca\"},{\"type\":\"object\",\"name\":\"PanTool\",\"id\":\"07553643-b875-42ce-97e0-250ff820b9df\"},{\"type\":\"object\",\"name\":\"BoxZoomTool\",\"id\":\"71a6220c-6e3b-4816-804c-51b43416be1a\",\"attributes\":{\"dimensions\":\"both\",\"overlay\":{\"type\":\"object\",\"name\":\"BoxAnnotation\",\"id\":\"fc4c517c-cb93-493d-8983-8d29e48b0946\",\"attributes\":{\"syncable\":false,\"line_color\":\"black\",\"line_alpha\":1.0,\"line_width\":2,\"line_dash\":[4,4],\"fill_color\":\"lightgrey\",\"fill_alpha\":0.5,\"level\":\"overlay\",\"visible\":false,\"left\":{\"type\":\"number\",\"value\":\"nan\"},\"right\":{\"type\":\"number\",\"value\":\"nan\"},\"top\":{\"type\":\"number\",\"value\":\"nan\"},\"bottom\":{\"type\":\"number\",\"value\":\"nan\"},\"left_units\":\"canvas\",\"right_units\":\"canvas\",\"top_units\":\"canvas\",\"bottom_units\":\"canvas\",\"handles\":{\"type\":\"object\",\"name\":\"BoxInteractionHandles\",\"id\":\"ba759f03-c925-48bf-a7b5-3b4c253761b3\",\"attributes\":{\"all\":{\"type\":\"object\",\"name\":\"AreaVisuals\",\"id\":\"56cc42aa-ed5f-4455-8c3d-2bbe831f5a5a\",\"attributes\":{\"fill_color\":\"white\",\"hover_fill_color\":\"lightgray\"}}}}}}}},{\"type\":\"object\",\"name\":\"ResetTool\",\"id\":\"0bbb42ca-4ca0-4468-9acb-58b4a2f0dbea\"}],\"active_drag\":{\"id\":\"07553643-b875-42ce-97e0-250ff820b9df\"},\"active_scroll\":{\"id\":\"ae785392-c6cd-4c18-8d45-ed950ba0aba5\"}}},\"left\":[{\"type\":\"object\",\"name\":\"LinearAxis\",\"id\":\"8f2f2da9-277f-4369-92b6-e49c46cdc2b2\",\"attributes\":{\"ticker\":{\"type\":\"object\",\"name\":\"BasicTicker\",\"id\":\"6dce0a47-599e-4167-bc83-e9a51f7d069f\",\"attributes\":{\"mantissas\":[1,2,5]}},\"formatter\":{\"type\":\"object\",\"name\":\"BasicTickFormatter\",\"id\":\"f18b2802-f643-4706-b07b-1f12b0b8849f\"},\"axis_label\":\"len\",\"major_label_policy\":{\"type\":\"object\",\"name\":\"AllLabels\",\"id\":\"8ba6bee1-2a7a-41d3-a395-e6b84d57defe\"}}}],\"below\":[{\"type\":\"object\",\"name\":\"DatetimeAxis\",\"id\":\"b16682a8-7ecb-4c08-a7af-b95b67e50bc5\",\"attributes\":{\"ticker\":{\"type\":\"object\",\"name\":\"DatetimeTicker\",\"id\":\"e25c9d1a-f45c-4fe3-96d2-177c5d374c99\",\"attributes\":{\"num_minor_ticks\":5,\"tickers\":[{\"type\":\"object\",\"name\":\"AdaptiveTicker\",\"id\":\"f370ee9f-a7c9-4421-a527-d43e130502f3\",\"attributes\":{\"num_minor_ticks\":0,\"mantissas\":[1,2,5],\"max_interval\":500.0}},{\"type\":\"object\",\"name\":\"AdaptiveTicker\",\"id\":\"9c469d2d-b3e2-4aaf-916b-2b49a3bd1696\",\"attributes\":{\"num_minor_ticks\":0,\"base\":60,\"mantissas\":[1,2,5,10,15,20,30],\"min_interval\":1000.0,\"max_interval\":1800000.0}},{\"type\":\"object\",\"name\":\"AdaptiveTicker\",\"id\":\"3ab05aad-abe4-47cd-bb83-739bb8e09337\",\"attributes\":{\"num_minor_ticks\":0,\"base\":24,\"mantissas\":[1,2,4,6,8,12],\"min_interval\":3600000.0,\"max_interval\":43200000.0}},{\"type\":\"object\",\"name\":\"DaysTicker\",\"id\":\"4d5506fc-f1cc-43db-a4c4-01dc6f3a9d88\",\"attributes\":{\"days\":[1,2,3,4,5,6,7,8,9,10,11,12,13,14,15,16,17,18,19,20,21,22,23,24,25,26,27,28,29,30,31]}},{\"type\":\"object\",\"name\":\"DaysTicker\",\"id\":\"2968a9ba-7fed-4bb4-8e06-ebb40bf61799\",\"attributes\":{\"days\":[1,4,7,10,13,16,19,22,25,28]}},{\"type\":\"object\",\"name\":\"DaysTicker\",\"id\":\"f282a197-9924-420e-a919-76fb9cb56e0c\",\"attributes\":{\"days\":[1,8,15,22]}},{\"type\":\"object\",\"name\":\"DaysTicker\",\"id\":\"944017dd-358a-47cf-b50c-534adfaf5018\",\"attributes\":{\"days\":[1,15]}},{\"type\":\"object\",\"name\":\"MonthsTicker\",\"id\":\"9d895a3c-2c96-486c-bf14-a8848012246d\",\"attributes\":{\"months\":[0,1,2,3,4,5,6,7,8,9,10,11]}},{\"type\":\"object\",\"name\":\"MonthsTicker\",\"id\":\"b1d31884-dea0-446d-b550-6f5e1b45209d\",\"attributes\":{\"months\":[0,2,4,6,8,10]}},{\"type\":\"object\",\"name\":\"MonthsTicker\",\"id\":\"8d67680a-ed76-46a6-ab5c-286793dae76c\",\"attributes\":{\"months\":[0,4,8]}},{\"type\":\"object\",\"name\":\"MonthsTicker\",\"id\":\"3375a9fc-71ba-483f-ba83-cebdb132a802\",\"attributes\":{\"months\":[0,6]}},{\"type\":\"object\",\"name\":\"YearsTicker\",\"id\":\"5d5e33ad-927b-4aeb-b94e-c049539d1ee7\"}]}},\"formatter\":{\"type\":\"object\",\"name\":\"DatetimeTickFormatter\",\"id\":\"6a9d3587-3209-4e16-8acb-92ee968ebecb\",\"attributes\":{\"seconds\":\"%T\",\"minsec\":\"%T\",\"minutes\":\"%H:%M\",\"hours\":\"%H:%M\",\"days\":\"%b %d\",\"months\":\"%b %Y\",\"strip_leading_zeros\":[\"microseconds\",\"milliseconds\",\"seconds\"],\"boundary_scaling\":false,\"context\":{\"type\":\"object\",\"name\":\"DatetimeTickFormatter\",\"id\":\"043fd958-e2eb-4005-bef5-3f3373c1cc75\",\"attributes\":{\"microseconds\":\"%T\",\"milliseconds\":\"%T\",\"seconds\":\"%b %d, %Y\",\"minsec\":\"%b %d, %Y\",\"minutes\":\"%b %d, %Y\",\"hourmin\":\"%b %d, %Y\",\"hours\":\"%b %d, %Y\",\"days\":\"%Y\",\"months\":\"\",\"years\":\"\",\"boundary_scaling\":false,\"hide_repeats\":true,\"context\":{\"type\":\"object\",\"name\":\"DatetimeTickFormatter\",\"id\":\"ac5f3f45-18d8-4950-b7c4-6f42f0b5a5ba\",\"attributes\":{\"microseconds\":\"%b %d, %Y\",\"milliseconds\":\"%b %d, %Y\",\"seconds\":\"\",\"minsec\":\"\",\"minutes\":\"\",\"hourmin\":\"\",\"hours\":\"\",\"days\":\"\",\"months\":\"\",\"years\":\"\",\"boundary_scaling\":false,\"hide_repeats\":true}},\"context_which\":\"all\"}},\"context_which\":\"all\"}},\"axis_label\":\"date\",\"major_label_policy\":{\"type\":\"object\",\"name\":\"AllLabels\",\"id\":\"8d4553b8-3a0e-4825-96c0-48fe3f00d23a\"}}}],\"center\":[{\"type\":\"object\",\"name\":\"Grid\",\"id\":\"8d3201d2-fe82-471d-a5d8-def11b308183\",\"attributes\":{\"axis\":{\"id\":\"b16682a8-7ecb-4c08-a7af-b95b67e50bc5\"},\"grid_line_color\":null}},{\"type\":\"object\",\"name\":\"Grid\",\"id\":\"ef9dbb1e-8868-4f39-9e7f-66f8dee3f6bd\",\"attributes\":{\"dimension\":1,\"axis\":{\"id\":\"8f2f2da9-277f-4369-92b6-e49c46cdc2b2\"},\"grid_line_color\":null}},{\"type\":\"object\",\"name\":\"Whisker\",\"id\":\"a0f954b1-15fb-4876-bd55-7442597c3c1a\",\"attributes\":{\"source\":{\"type\":\"object\",\"name\":\"ColumnDataSource\",\"id\":\"5e40fddf-ea82-4bfd-bc60-b10afb67fbc7\",\"attributes\":{\"selected\":{\"type\":\"object\",\"name\":\"Selection\",\"id\":\"c2ebfcc1-270f-4ef4-b977-f4bf9f2abdd5\",\"attributes\":{\"indices\":[],\"line_indices\":[]}},\"selection_policy\":{\"type\":\"object\",\"name\":\"UnionRenderers\",\"id\":\"33871376-2193-454e-8180-835ff5ae9a8c\"},\"data\":{\"type\":\"map\",\"entries\":[[\"base\",{\"type\":\"ndarray\",\"array\":{\"type\":\"bytes\",\"data\":\"AABAl7YlcEIAAEAoU0NwQgAAQLnvYHBCAACA5Dl+cEIAAACqMZtwQgAAADvOuHBCAAAAzGrWcEIAAED3tPNwQgAAwLysEHFCAADATUkucUIAAMDe5UtxQgAAAAowaXFCAABANXqGcUIAAEDGFqRxQgAAQFezwXFCAACAgv3ecUIAAABI9ftxQgAAANmRGXJCAAAAai43ckIAAECVeFRyQgAAwFpwcXJCAADA6wyPckIAAMB8qaxyQgAAAKjzyXJCAACAbevmckIAAID+hwRzQgAAgI8kInNCAADAum4/c0IAAADmuFxzQgAAAHdVenNCAAAACPKXc0IAAEAzPLVzQgAAwPgz0nNCAADAidDvc0IAAMAabQ10QgAAAEa3KnRC\"},\"shape\":[36],\"dtype\":\"float64\",\"order\":\"little\"}],[\"lower\",{\"type\":\"ndarray\",\"array\":{\"type\":\"bytes\",\"data\":\"DFbD2OE39UAMVsPY8QD1QAxWw9hBTPRADFbD2MGQ9EAMVsPYUQj1QAxWw9hRqPRADFbD2BEJ9EAMVsPYQd70QAxWw9hRnPVADFbD2GGU9UAMVsPYwbT0QAxWw9iRVPVADFbD2BHF9UAMVsPYcU/1QAxWw9ixmPRADFbD2AEb9UAMVsPY4Qb3QAxWw9iBt/hADFbD2OGU+UAMVsPYkQr8QAxWw9hhr/1ADFbD2OEG/0AMVsPYUQf+QAxWw9ix7P5ADFbD2DF4/0AMVsPY4Yj/QAxWw9gx2f5ABqth7PgDAEEMVsPY8S//QAxWw9jhgP9ADFbD2NHJ/kAMVsPYUdz/QAxWw9gB1v5ADFbD2OHJ/UAMVsPY4fr7QAxWw9ihUvxA\"},\"shape\":[36],\"dtype\":\"float64\",\"order\":\"little\"}],[\"upper\",{\"type\":\"ndarray\",\"array\":{\"type\":\"bytes\",\"data\":\"9Kk8J95t9UD0qTwn7jb1QPSpPCc+gvRA9Kk8J77G9ED0qTwnTj71QPSpPCdO3vRA9Kk8Jw4/9ED0qTwnPhT1QPSpPCdO0vVA9Kk8J17K9UD0qTwnvur0QPSpPCeOivVA9Kk8Jw779UD0qTwnboX1QPSpPCeuzvRA9Kk8J/5Q9UD0qTwn3jz3QPSpPCd+7fhA9Kk8J97K+UD0qTwnjkD8QPSpPCde5f1A9Kk8J948/0D0qTwnTj3+QPSpPCeuIv9A9Kk8Jy6u/0D0qTwn3r7/QPSpPCcuD/9A+lSeE/ceAEH0qTwn7mX/QPSpPCfetv9A9Kk8J87//kD6VJ4TJwkAQfSpPCf+C/9A9Kk8J97//UD0qTwn3jD8QPSpPCeeiPxA\"},\"shape\":[36],\"dtype\":\"float64\",\"order\":\"little\"}]]}}},\"lower\":{\"type\":\"field\",\"field\":\"lower\"},\"lower_head\":{\"type\":\"object\",\"name\":\"TeeHead\",\"id\":\"3ddedf61-9919-4ea9-986b-9457c49c1818\",\"attributes\":{\"size\":{\"type\":\"value\",\"value\":10}}},\"upper\":{\"type\":\"field\",\"field\":\"upper\"},\"upper_head\":{\"type\":\"object\",\"name\":\"TeeHead\",\"id\":\"77582ae4-e011-4823-bc97-e625811360ea\",\"attributes\":{\"size\":{\"type\":\"value\",\"value\":10}}},\"base\":{\"type\":\"field\",\"field\":\"base\"}}}],\"min_border_top\":10,\"min_border_bottom\":10,\"min_border_left\":10,\"min_border_right\":10,\"output_backend\":\"webgl\"}},{\"type\":\"object\",\"name\":\"Spacer\",\"id\":\"7d12357b-cdb3-4def-bd4a-259dd604b7c9\",\"attributes\":{\"name\":\"HSpacer00550\",\"stylesheets\":[\"\\n:host(.pn-loading):before, .pn-loading:before {\\n  background-color: #c3c3c3;\\n  mask-size: auto calc(min(50%, 400px));\\n  -webkit-mask-size: auto calc(min(50%, 400px));\\n}\",{\"id\":\"4a61f7db-247a-442d-8ed1-90574cfe4337\"},{\"id\":\"c019dc8b-08e9-4e9a-910b-bbf9d6aa564b\"},{\"id\":\"72bb3bc1-bf03-48d3-b0dd-b02842be0539\"}],\"min_width\":0,\"margin\":0,\"sizing_mode\":\"stretch_width\",\"align\":\"start\"}}]}}],\"defs\":[{\"type\":\"model\",\"name\":\"ReactiveHTML1\"},{\"type\":\"model\",\"name\":\"FlexBox1\",\"properties\":[{\"name\":\"align_content\",\"kind\":\"Any\",\"default\":\"flex-start\"},{\"name\":\"align_items\",\"kind\":\"Any\",\"default\":\"flex-start\"},{\"name\":\"flex_direction\",\"kind\":\"Any\",\"default\":\"row\"},{\"name\":\"flex_wrap\",\"kind\":\"Any\",\"default\":\"wrap\"},{\"name\":\"gap\",\"kind\":\"Any\",\"default\":\"\"},{\"name\":\"justify_content\",\"kind\":\"Any\",\"default\":\"flex-start\"}]},{\"type\":\"model\",\"name\":\"FloatPanel1\",\"properties\":[{\"name\":\"config\",\"kind\":\"Any\",\"default\":{\"type\":\"map\"}},{\"name\":\"contained\",\"kind\":\"Any\",\"default\":true},{\"name\":\"position\",\"kind\":\"Any\",\"default\":\"right-top\"},{\"name\":\"offsetx\",\"kind\":\"Any\",\"default\":null},{\"name\":\"offsety\",\"kind\":\"Any\",\"default\":null},{\"name\":\"theme\",\"kind\":\"Any\",\"default\":\"primary\"},{\"name\":\"status\",\"kind\":\"Any\",\"default\":\"normalized\"}]},{\"type\":\"model\",\"name\":\"GridStack1\",\"properties\":[{\"name\":\"ncols\",\"kind\":\"Any\",\"default\":null},{\"name\":\"nrows\",\"kind\":\"Any\",\"default\":null},{\"name\":\"allow_resize\",\"kind\":\"Any\",\"default\":true},{\"name\":\"allow_drag\",\"kind\":\"Any\",\"default\":true},{\"name\":\"state\",\"kind\":\"Any\",\"default\":[]}]},{\"type\":\"model\",\"name\":\"drag1\",\"properties\":[{\"name\":\"slider_width\",\"kind\":\"Any\",\"default\":5},{\"name\":\"slider_color\",\"kind\":\"Any\",\"default\":\"black\"},{\"name\":\"value\",\"kind\":\"Any\",\"default\":50}]},{\"type\":\"model\",\"name\":\"click1\",\"properties\":[{\"name\":\"terminal_output\",\"kind\":\"Any\",\"default\":\"\"},{\"name\":\"debug_name\",\"kind\":\"Any\",\"default\":\"\"},{\"name\":\"clears\",\"kind\":\"Any\",\"default\":0}]},{\"type\":\"model\",\"name\":\"ReactiveESM1\",\"properties\":[{\"name\":\"esm_constants\",\"kind\":\"Any\",\"default\":{\"type\":\"map\"}}]},{\"type\":\"model\",\"name\":\"JSComponent1\",\"properties\":[{\"name\":\"esm_constants\",\"kind\":\"Any\",\"default\":{\"type\":\"map\"}}]},{\"type\":\"model\",\"name\":\"ReactComponent1\",\"properties\":[{\"name\":\"use_shadow_dom\",\"kind\":\"Any\",\"default\":true},{\"name\":\"esm_constants\",\"kind\":\"Any\",\"default\":{\"type\":\"map\"}}]},{\"type\":\"model\",\"name\":\"AnyWidgetComponent1\",\"properties\":[{\"name\":\"use_shadow_dom\",\"kind\":\"Any\",\"default\":true},{\"name\":\"esm_constants\",\"kind\":\"Any\",\"default\":{\"type\":\"map\"}}]},{\"type\":\"model\",\"name\":\"FastWrapper1\",\"properties\":[{\"name\":\"object\",\"kind\":\"Any\",\"default\":null},{\"name\":\"style\",\"kind\":\"Any\",\"default\":null}]},{\"type\":\"model\",\"name\":\"NotificationArea1\",\"properties\":[{\"name\":\"js_events\",\"kind\":\"Any\",\"default\":{\"type\":\"map\"}},{\"name\":\"max_notifications\",\"kind\":\"Any\",\"default\":5},{\"name\":\"notifications\",\"kind\":\"Any\",\"default\":[]},{\"name\":\"position\",\"kind\":\"Any\",\"default\":\"bottom-right\"},{\"name\":\"_clear\",\"kind\":\"Any\",\"default\":0},{\"name\":\"types\",\"kind\":\"Any\",\"default\":[{\"type\":\"map\",\"entries\":[[\"type\",\"warning\"],[\"background\",\"#ffc107\"],[\"icon\",{\"type\":\"map\",\"entries\":[[\"className\",\"fas fa-exclamation-triangle\"],[\"tagName\",\"i\"],[\"color\",\"white\"]]}]]},{\"type\":\"map\",\"entries\":[[\"type\",\"info\"],[\"background\",\"#007bff\"],[\"icon\",{\"type\":\"map\",\"entries\":[[\"className\",\"fas fa-info-circle\"],[\"tagName\",\"i\"],[\"color\",\"white\"]]}]]}]}]},{\"type\":\"model\",\"name\":\"Notification\",\"properties\":[{\"name\":\"background\",\"kind\":\"Any\",\"default\":null},{\"name\":\"duration\",\"kind\":\"Any\",\"default\":3000},{\"name\":\"icon\",\"kind\":\"Any\",\"default\":null},{\"name\":\"message\",\"kind\":\"Any\",\"default\":\"\"},{\"name\":\"notification_type\",\"kind\":\"Any\",\"default\":null},{\"name\":\"_rendered\",\"kind\":\"Any\",\"default\":false},{\"name\":\"_destroyed\",\"kind\":\"Any\",\"default\":false}]},{\"type\":\"model\",\"name\":\"TemplateActions1\",\"properties\":[{\"name\":\"open_modal\",\"kind\":\"Any\",\"default\":0},{\"name\":\"close_modal\",\"kind\":\"Any\",\"default\":0}]},{\"type\":\"model\",\"name\":\"BootstrapTemplateActions1\",\"properties\":[{\"name\":\"open_modal\",\"kind\":\"Any\",\"default\":0},{\"name\":\"close_modal\",\"kind\":\"Any\",\"default\":0}]},{\"type\":\"model\",\"name\":\"TemplateEditor1\",\"properties\":[{\"name\":\"layout\",\"kind\":\"Any\",\"default\":[]}]},{\"type\":\"model\",\"name\":\"MaterialTemplateActions1\",\"properties\":[{\"name\":\"open_modal\",\"kind\":\"Any\",\"default\":0},{\"name\":\"close_modal\",\"kind\":\"Any\",\"default\":0}]},{\"type\":\"model\",\"name\":\"request_value1\",\"properties\":[{\"name\":\"fill\",\"kind\":\"Any\",\"default\":\"none\"},{\"name\":\"_synced\",\"kind\":\"Any\",\"default\":null},{\"name\":\"_request_sync\",\"kind\":\"Any\",\"default\":0}]},{\"type\":\"model\",\"name\":\"holoviews.plotting.bokeh.raster.HoverModel\",\"properties\":[{\"name\":\"xy\",\"kind\":\"Any\",\"default\":null},{\"name\":\"data\",\"kind\":\"Any\",\"default\":null}]}]}};\n",
       "  var render_items = [{\"docid\":\"b8683202-7805-4a07-8d42-fb34e0dda73d\",\"roots\":{\"306e11f3-d071-46a6-b07e-7c718a5cdd9a\":\"f72d3e7b-dcc5-4a07-8141-35df60af6d9a\"},\"root_ids\":[\"306e11f3-d071-46a6-b07e-7c718a5cdd9a\"]}];\n",
       "  var docs = Object.values(docs_json)\n",
       "  if (!docs) {\n",
       "    return\n",
       "  }\n",
       "  const py_version = docs[0].version.replace('rc', '-rc.').replace('.dev', '-dev.')\n",
       "  async function embed_document(root) {\n",
       "    var Bokeh = get_bokeh(root)\n",
       "    await Bokeh.embed.embed_items_notebook(docs_json, render_items);\n",
       "    for (const render_item of render_items) {\n",
       "      for (const root_id of render_item.root_ids) {\n",
       "\tconst id_el = document.getElementById(root_id)\n",
       "\tif (id_el.children.length && id_el.children[0].hasAttribute('data-root-id')) {\n",
       "\t  const root_el = id_el.children[0]\n",
       "\t  root_el.id = root_el.id + '-rendered'\n",
       "\t  for (const child of root_el.children) {\n",
       "            // Ensure JupyterLab does not capture keyboard shortcuts\n",
       "            // see: https://jupyterlab.readthedocs.io/en/4.1.x/extension/notebook.html#keyboard-interaction-model\n",
       "\t    child.setAttribute('data-lm-suppress-shortcuts', 'true')\n",
       "\t  }\n",
       "\t}\n",
       "      }\n",
       "    }\n",
       "  }\n",
       "  function get_bokeh(root) {\n",
       "    if (root.Bokeh === undefined) {\n",
       "      return null\n",
       "    } else if (root.Bokeh.version !== py_version) {\n",
       "      if (root.Bokeh.versions === undefined || !root.Bokeh.versions.has(py_version)) {\n",
       "\treturn null\n",
       "      }\n",
       "      return root.Bokeh.versions.get(py_version);\n",
       "    } else if (root.Bokeh.version === py_version) {\n",
       "      return root.Bokeh\n",
       "    }\n",
       "    return null\n",
       "  }\n",
       "  function is_loaded(root) {\n",
       "    var Bokeh = get_bokeh(root)\n",
       "    return (Bokeh != null && Bokeh.Panel !== undefined)\n",
       "  }\n",
       "  if (is_loaded(root)) {\n",
       "    embed_document(root);\n",
       "  } else {\n",
       "    var attempts = 0;\n",
       "    var timer = setInterval(function(root) {\n",
       "      if (is_loaded(root)) {\n",
       "        clearInterval(timer);\n",
       "        embed_document(root);\n",
       "      } else if (document.readyState == \"complete\") {\n",
       "        attempts++;\n",
       "        if (attempts > 200) {\n",
       "          clearInterval(timer);\n",
       "\t  var Bokeh = get_bokeh(root)\n",
       "\t  if (Bokeh == null || Bokeh.Panel == null) {\n",
       "            console.warn(\"Panel: ERROR: Unable to run Panel code because Bokeh or Panel library is missing\");\n",
       "\t  } else {\n",
       "\t    console.warn(\"Panel: WARNING: Attempting to render but not all required libraries could be resolved.\")\n",
       "\t    embed_document(root)\n",
       "\t  }\n",
       "        }\n",
       "      }\n",
       "    }, 25, root)\n",
       "  }\n",
       "})(window);</script>"
      ],
      "text/plain": [
       ":Overlay\n",
       "   .Curve.I     :Curve   [date]   (len)\n",
       "   .ErrorBars.I :ErrorBars   [date]   (len,accuracy)"
      ]
     },
     "execution_count": 10,
     "metadata": {
      "application/vnd.holoviews_exec.v0+json": {
       "id": "306e11f3-d071-46a6-b07e-7c718a5cdd9a"
      }
     },
     "output_type": "execute_result"
    }
   ],
   "source": [
    "df = query_quarterly_counts.release().collect()\n",
    "\n",
    "# build a date column\n",
    "df = df.with_columns(pl.date(pl.col(\"YEAR\"), pl.col(\"QUARTER\") * 3, 1))\n",
    "\n",
    "line = df.hvplot.line(x=\"date\", y=\"len\")\n",
    "errorbars = df.with_columns(accuracy=summary[\"accuracy\"][0]) \\\n",
    "    .hvplot.errorbars(x=\"date\", y=\"len\", yerr1=\"accuracy\")\n",
    "line * errorbars"
   ]
  },
  {
   "cell_type": "markdown",
   "metadata": {},
   "source": [
    "Even though the noise scale and accuracy estimate is the same as in the previous protected group keys query,\n",
    "the relative error is now much larger because the group sizes are much smaller.\n",
    "In spite of this, the release clearly still shows that the number of respondents increased significantly from 2008 to 2010."
   ]
  },
  {
   "cell_type": "markdown",
   "metadata": {},
   "source": [
    "### Invariant Group Lengths\n",
    "\n",
    "It is also possible to declare group lengths as invariant.\n",
    "Setting this value implies that group keys are public, \n",
    "and thus implies an even greater risk of damaging the integrity of the privacy guarantee \n",
    "than if you were to declare group keys as invariant.\n",
    "\n",
    "One way this could be used is as part of a release for the mean number of hours worked `HWUSUAL` by sex.\n",
    "Referring back to the `HWUSUAL` legend, a value of `99` means not applicable,\n",
    "and this encoding will significantly bias the outcome of the query.\n",
    "\n",
    "Unfortunately, filtering the data within the query results in the margin info being invalidated.\n",
    "One way to work around this limitation is to preprocess your data before passing it into the context:"
   ]
  },
  {
   "cell_type": "code",
   "execution_count": 11,
   "metadata": {
    "execution": {
     "iopub.execute_input": "2025-06-04T18:15:13.730649Z",
     "iopub.status.busy": "2025-06-04T18:15:13.730560Z",
     "iopub.status.idle": "2025-06-04T18:15:13.732366Z",
     "shell.execute_reply": "2025-06-04T18:15:13.732146Z"
    }
   },
   "outputs": [],
   "source": [
    "lf_preprocessed = pl.scan_csv(dp.examples.get_france_lfs_path(), ignore_errors=True) \\\n",
    "    .filter(pl.col(\"HWUSUAL\") < 99)"
   ]
  },
  {
   "cell_type": "markdown",
   "metadata": {},
   "source": [
    "You can now set up your analysis such that the margin applies to the preprocessed data:"
   ]
  },
  {
   "cell_type": "code",
   "execution_count": 12,
   "metadata": {
    "execution": {
     "iopub.execute_input": "2025-06-04T18:15:13.733530Z",
     "iopub.status.busy": "2025-06-04T18:15:13.733455Z",
     "iopub.status.idle": "2025-06-04T18:15:13.749010Z",
     "shell.execute_reply": "2025-06-04T18:15:13.748782Z"
    }
   },
   "outputs": [],
   "source": [
    "context = dp.Context.compositor(\n",
    "    data=lf_preprocessed,\n",
    "    privacy_unit=dp.unit_of(contributions=36),\n",
    "    privacy_loss=dp.loss_of(epsilon=1.0, delta=1e-7),\n",
    "    split_evenly_over=1,\n",
    "    margins=[\n",
    "        # total number of responses when grouped by \"SEX\" is public information\n",
    "        dp.polars.Margin(\n",
    "            by=[\"SEX\"],\n",
    "            invariant=\"lengths\",\n",
    "            max_length=150_000 * 36,\n",
    "            max_groups=3, # encoding is M, F or null\n",
    "        )\n",
    "    ],\n",
    ")"
   ]
  },
  {
   "cell_type": "markdown",
   "metadata": {},
   "source": [
    "You can now prepare a query that computes mean working hours by gender, where each response is clipped between 0 and 98:"
   ]
  },
  {
   "cell_type": "code",
   "execution_count": 13,
   "metadata": {
    "execution": {
     "iopub.execute_input": "2025-06-04T18:15:13.750200Z",
     "iopub.status.busy": "2025-06-04T18:15:13.750112Z",
     "iopub.status.idle": "2025-06-04T18:15:14.456891Z",
     "shell.execute_reply": "2025-06-04T18:15:14.456635Z"
    }
   },
   "outputs": [
    {
     "data": {
      "text/html": [
       "<div><style>\n",
       ".dataframe > thead > tr,\n",
       ".dataframe > tbody > tr {\n",
       "  text-align: right;\n",
       "  white-space: pre-wrap;\n",
       "}\n",
       "</style>\n",
       "<small>shape: (2, 5)</small><table border=\"1\" class=\"dataframe\"><thead><tr><th>column</th><th>aggregate</th><th>distribution</th><th>scale</th><th>accuracy</th></tr><tr><td>str</td><td>str</td><td>str</td><td>f64</td><td>f64</td></tr></thead><tbody><tr><td>&quot;HWUSUAL&quot;</td><td>&quot;Sum&quot;</td><td>&quot;Integer Laplace&quot;</td><td>1764.0</td><td>5284.97166</td></tr><tr><td>&quot;HWUSUAL&quot;</td><td>&quot;Length&quot;</td><td>&quot;Integer Laplace&quot;</td><td>0.0</td><td>NaN</td></tr></tbody></table></div>"
      ],
      "text/plain": [
       "shape: (2, 5)\n",
       "┌─────────┬───────────┬─────────────────┬────────┬────────────┐\n",
       "│ column  ┆ aggregate ┆ distribution    ┆ scale  ┆ accuracy   │\n",
       "│ ---     ┆ ---       ┆ ---             ┆ ---    ┆ ---        │\n",
       "│ str     ┆ str       ┆ str             ┆ f64    ┆ f64        │\n",
       "╞═════════╪═══════════╪═════════════════╪════════╪════════════╡\n",
       "│ HWUSUAL ┆ Sum       ┆ Integer Laplace ┆ 1764.0 ┆ 5284.97166 │\n",
       "│ HWUSUAL ┆ Length    ┆ Integer Laplace ┆ 0.0    ┆ NaN        │\n",
       "└─────────┴───────────┴─────────────────┴────────┴────────────┘"
      ]
     },
     "execution_count": 13,
     "metadata": {},
     "output_type": "execute_result"
    }
   ],
   "source": [
    "\n",
    "query_work_hours = (\n",
    "    context.query()\n",
    "    .group_by(\"SEX\")\n",
    "    .agg(pl.col.HWUSUAL.cast(int).dp.mean((0, 98)))\n",
    ")\n",
    "\n",
    "query_work_hours.summarize(alpha=.05)"
   ]
  },
  {
   "cell_type": "markdown",
   "metadata": {},
   "source": [
    "This time the query description breaks down into two separate statistics for the resulting `HWUSUAL` column.\n",
    "The mean is computed by dividing separate sum and length estimates.\n",
    "Since the group length is marked as public information, the length is released in the clear, without any noise.\n",
    "\n",
    "Reading the table, the smallest suitable noise scale parameter for the sum is 7056. \n",
    "This may seem large, but remember this noisy sum will be divided by the length, reducing the variance of the final estimate.\n",
    "You can divide the sum accuracy estimate by the public group sizes to get disaggregated accuracy estimates for each group. \n",
    "\n",
    "Be mindful that accuracy estimates for sums and means do not take into account bias introduced from clipping.\n",
    "However, for this specific dataset, \n",
    "the codebook limits the range of work hours in `HWUSUAL` to between 0 and 98,\n",
    "so the clipping introduced for differential privacy will not further increase bias."
   ]
  },
  {
   "cell_type": "code",
   "execution_count": 14,
   "metadata": {
    "execution": {
     "iopub.execute_input": "2025-06-04T18:15:14.458126Z",
     "iopub.status.busy": "2025-06-04T18:15:14.458050Z",
     "iopub.status.idle": "2025-06-04T18:15:16.277169Z",
     "shell.execute_reply": "2025-06-04T18:15:16.276892Z"
    }
   },
   "outputs": [
    {
     "data": {
      "text/html": [
       "<div><style>\n",
       ".dataframe > thead > tr,\n",
       ".dataframe > tbody > tr {\n",
       "  text-align: right;\n",
       "  white-space: pre-wrap;\n",
       "}\n",
       "</style>\n",
       "<small>shape: (2, 3)</small><table border=\"1\" class=\"dataframe\"><thead><tr><th>SEX</th><th>SEX_STR</th><th>HWUSUAL</th></tr><tr><td>i64</td><td>str</td><td>i64</td></tr></thead><tbody><tr><td>2</td><td>&quot;female&quot;</td><td>34</td></tr><tr><td>1</td><td>&quot;male&quot;</td><td>40</td></tr></tbody></table></div>"
      ],
      "text/plain": [
       "shape: (2, 3)\n",
       "┌─────┬─────────┬─────────┐\n",
       "│ SEX ┆ SEX_STR ┆ HWUSUAL │\n",
       "│ --- ┆ ---     ┆ ---     │\n",
       "│ i64 ┆ str     ┆ i64     │\n",
       "╞═════╪═════════╪═════════╡\n",
       "│ 2   ┆ female  ┆ 34      │\n",
       "│ 1   ┆ male    ┆ 40      │\n",
       "└─────┴─────────┴─────────┘"
      ]
     },
     "execution_count": 14,
     "metadata": {},
     "output_type": "execute_result"
    }
   ],
   "source": [
    "df = query_work_hours.release().collect()\n",
    "\n",
    "# released dataframes from the OpenDP Library are shuffled to conceal the ordering of rows in the original dataset\n",
    "# therefore, to ensure proper alignment, we use join instead of hstack to add labels\n",
    "pl.DataFrame({\"SEX\": [1, 2], \"SEX_STR\": [\"male\", \"female\"]}).join(df, on=\"SEX\")"
   ]
  },
  {
   "cell_type": "markdown",
   "metadata": {},
   "source": [
    "Throughout this analysis, observe how the noise scale always remained fixed, regardless of group size. \n",
    "Also observe how the more individuals there are in the data, the greater the magnitude of the statistic. \n",
    "Therefore, as there are more individuals in a bin, the relative amount of noise decreases.\n",
    "\n",
    "Breaking the data down into too many groups, however, can result in groups having too few records and a loss of signal/poor utility.\n",
    "\n",
    "While grouping is a very useful strategy to conduct meaningful data analysis, there must be a balance, \n",
    "because excessive grouping can lead to most of your groups being filtered, \n",
    "and/or results that are too noisy and misleading."
   ]
  },
  {
   "cell_type": "markdown",
   "metadata": {},
   "source": [
    "While not used in this section, remember that you can request multiple different statistics in one query. \n",
    "Batching multiple statistics together can not only result in computational speedups, \n",
    "but also more balanced allocation of privacy budget across queries, \n",
    "and can help you avoid releasing the same protected group keys multiple times \n",
    "(further dividing your privacy budget).\n",
    "\n",
    "In a real data setting where you want to mediate all access to the data through one Context,\n",
    "you can provide domain descriptors for many margins, \n",
    "allowing you to relax protections over specific grouping columns, \n",
    "while enforcing full protections for all other grouping columns."
   ]
  }
 ],
 "metadata": {
  "kernelspec": {
   "display_name": ".venv (3.13.7)",
   "language": "python",
   "name": "python3"
  },
  "language_info": {
   "codemirror_mode": {
    "name": "ipython",
    "version": 3
   },
   "file_extension": ".py",
   "mimetype": "text/x-python",
   "name": "python",
   "nbconvert_exporter": "python",
   "pygments_lexer": "ipython3",
   "version": "3.13.7"
  }
 },
 "nbformat": 4,
 "nbformat_minor": 2
}
