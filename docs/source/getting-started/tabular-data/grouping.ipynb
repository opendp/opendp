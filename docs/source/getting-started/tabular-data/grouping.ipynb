{
 "cells": [
  {
   "cell_type": "markdown",
   "metadata": {},
   "source": [
    "# Grouping\n",
    "\n",
    "The OpenDP Library allows you to compute statistics over grouped data.\n",
    "We'll examine three approaches used to release queries that involve grouping:\n",
    "\n",
    "- Stable group keys\n",
    "- Explicit group keys\n",
    "- Invariant group keys\n",
    "\n",
    "The [API Reference](../../api/python/opendp.extras.polars.rst) provides more information about the methods. \n",
    "We will use the [sample data](https://github.com/opendp/dp-test-datasets/blob/main/data/eurostat/README.ipynb) from the Labor Force Survey in France."
   ]
  },
  {
   "cell_type": "code",
   "execution_count": 1,
   "metadata": {},
   "outputs": [
    {
     "data": {
      "text/html": [
       "<script type=\"esms-options\">{\"shimMode\": true}</script><style>*[data-root-id],\n",
       "*[data-root-id] > * {\n",
       "  box-sizing: border-box;\n",
       "  font-family: var(--jp-ui-font-family);\n",
       "  font-size: var(--jp-ui-font-size1);\n",
       "  color: var(--vscode-editor-foreground, var(--jp-ui-font-color1));\n",
       "}\n",
       "\n",
       "/* Override VSCode background color */\n",
       ".cell-output-ipywidget-background:has(\n",
       "    > .cell-output-ipywidget-background > .lm-Widget > *[data-root-id]\n",
       "  ),\n",
       ".cell-output-ipywidget-background:has(> .lm-Widget > *[data-root-id]) {\n",
       "  background-color: transparent !important;\n",
       "}\n",
       "</style>"
      ]
     },
     "metadata": {},
     "output_type": "display_data"
    },
    {
     "data": {
      "application/javascript": "(function(root) {\n  function now() {\n    return new Date();\n  }\n\n  const force = true;\n  const py_version = '3.6.1'.replace('rc', '-rc.').replace('.dev', '-dev.');\n  const reloading = false;\n  const Bokeh = root.Bokeh;\n\n  // Set a timeout for this load but only if we are not already initializing\n  if (typeof (root._bokeh_timeout) === \"undefined\" || (force || !root._bokeh_is_initializing)) {\n    root._bokeh_timeout = Date.now() + 5000;\n    root._bokeh_failed_load = false;\n  }\n\n  function run_callbacks() {\n    try {\n      root._bokeh_onload_callbacks.forEach(function(callback) {\n        if (callback != null)\n          callback();\n      });\n    } finally {\n      delete root._bokeh_onload_callbacks;\n    }\n    console.debug(\"Bokeh: all callbacks have finished\");\n  }\n\n  function load_libs(css_urls, js_urls, js_modules, js_exports, callback) {\n    if (css_urls == null) css_urls = [];\n    if (js_urls == null) js_urls = [];\n    if (js_modules == null) js_modules = [];\n    if (js_exports == null) js_exports = {};\n\n    root._bokeh_onload_callbacks.push(callback);\n\n    if (root._bokeh_is_loading > 0) {\n      // Don't load bokeh if it is still initializing\n      console.debug(\"Bokeh: BokehJS is being loaded, scheduling callback at\", now());\n      return null;\n    } else if (js_urls.length === 0 && js_modules.length === 0 && Object.keys(js_exports).length === 0) {\n      // There is nothing to load\n      run_callbacks();\n      return null;\n    }\n\n    function on_load() {\n      root._bokeh_is_loading--;\n      if (root._bokeh_is_loading === 0) {\n        console.debug(\"Bokeh: all BokehJS libraries/stylesheets loaded\");\n        run_callbacks()\n      }\n    }\n    window._bokeh_on_load = on_load\n\n    function on_error(e) {\n      const src_el = e.srcElement\n      console.error(\"failed to load \" + (src_el.href || src_el.src));\n    }\n\n    const skip = [];\n    if (window.requirejs) {\n      window.requirejs.config({'packages': {}, 'paths': {}, 'shim': {}});\n      root._bokeh_is_loading = css_urls.length + 0;\n    } else {\n      root._bokeh_is_loading = css_urls.length + js_urls.length + js_modules.length + Object.keys(js_exports).length;\n    }\n\n    const existing_stylesheets = []\n    const links = document.getElementsByTagName('link')\n    for (let i = 0; i < links.length; i++) {\n      const link = links[i]\n      if (link.href != null) {\n        existing_stylesheets.push(link.href)\n      }\n    }\n    for (let i = 0; i < css_urls.length; i++) {\n      const url = css_urls[i];\n      const escaped = encodeURI(url)\n      if (existing_stylesheets.indexOf(escaped) !== -1) {\n        on_load()\n        continue;\n      }\n      const element = document.createElement(\"link\");\n      element.onload = on_load;\n      element.onerror = on_error;\n      element.rel = \"stylesheet\";\n      element.type = \"text/css\";\n      element.href = url;\n      console.debug(\"Bokeh: injecting link tag for BokehJS stylesheet: \", url);\n      document.body.appendChild(element);\n    }    var existing_scripts = []\n    const scripts = document.getElementsByTagName('script')\n    for (let i = 0; i < scripts.length; i++) {\n      var script = scripts[i]\n      if (script.src != null) {\n        existing_scripts.push(script.src)\n      }\n    }\n    for (let i = 0; i < js_urls.length; i++) {\n      const url = js_urls[i];\n      const escaped = encodeURI(url)\n      if (skip.indexOf(escaped) !== -1 || existing_scripts.indexOf(escaped) !== -1) {\n        if (!window.requirejs) {\n          on_load();\n        }\n        continue;\n      }\n      const element = document.createElement('script');\n      element.onload = on_load;\n      element.onerror = on_error;\n      element.async = false;\n      element.src = url;\n      console.debug(\"Bokeh: injecting script tag for BokehJS library: \", url);\n      document.head.appendChild(element);\n    }\n    for (let i = 0; i < js_modules.length; i++) {\n      const url = js_modules[i];\n      const escaped = encodeURI(url)\n      if (skip.indexOf(escaped) !== -1 || existing_scripts.indexOf(escaped) !== -1) {\n        if (!window.requirejs) {\n          on_load();\n        }\n        continue;\n      }\n      var element = document.createElement('script');\n      element.onload = on_load;\n      element.onerror = on_error;\n      element.async = false;\n      element.src = url;\n      element.type = \"module\";\n      console.debug(\"Bokeh: injecting script tag for BokehJS library: \", url);\n      document.head.appendChild(element);\n    }\n    for (const name in js_exports) {\n      const url = js_exports[name];\n      const escaped = encodeURI(url)\n      if (skip.indexOf(escaped) >= 0 || root[name] != null) {\n        if (!window.requirejs) {\n          on_load();\n        }\n        continue;\n      }\n      var element = document.createElement('script');\n      element.onerror = on_error;\n      element.async = false;\n      element.type = \"module\";\n      console.debug(\"Bokeh: injecting script tag for BokehJS library: \", url);\n      element.textContent = `\n      import ${name} from \"${url}\"\n      window.${name} = ${name}\n      window._bokeh_on_load()\n      `\n      document.head.appendChild(element);\n    }\n    if (!js_urls.length && !js_modules.length) {\n      on_load()\n    }\n  };\n\n  function inject_raw_css(css) {\n    const element = document.createElement(\"style\");\n    element.appendChild(document.createTextNode(css));\n    document.body.appendChild(element);\n  }\n\n  const js_urls = [\"https://cdn.holoviz.org/panel/1.5.4/dist/bundled/reactiveesm/es-module-shims@^1.10.0/dist/es-module-shims.min.js\", \"https://cdn.bokeh.org/bokeh/release/bokeh-3.6.1.min.js\", \"https://cdn.bokeh.org/bokeh/release/bokeh-gl-3.6.1.min.js\", \"https://cdn.bokeh.org/bokeh/release/bokeh-widgets-3.6.1.min.js\", \"https://cdn.bokeh.org/bokeh/release/bokeh-tables-3.6.1.min.js\", \"https://cdn.holoviz.org/panel/1.5.4/dist/panel.min.js\"];\n  const js_modules = [];\n  const js_exports = {};\n  const css_urls = [];\n  const inline_js = [    function(Bokeh) {\n      Bokeh.set_log_level(\"info\");\n    },\nfunction(Bokeh) {} // ensure no trailing comma for IE\n  ];\n\n  function run_inline_js() {\n    if ((root.Bokeh !== undefined) || (force === true)) {\n      for (let i = 0; i < inline_js.length; i++) {\n        try {\n          inline_js[i].call(root, root.Bokeh);\n        } catch(e) {\n          if (!reloading) {\n            throw e;\n          }\n        }\n      }\n      // Cache old bokeh versions\n      if (Bokeh != undefined && !reloading) {\n        var NewBokeh = root.Bokeh;\n        if (Bokeh.versions === undefined) {\n          Bokeh.versions = new Map();\n        }\n        if (NewBokeh.version !== Bokeh.version) {\n          Bokeh.versions.set(NewBokeh.version, NewBokeh)\n        }\n        root.Bokeh = Bokeh;\n      }\n    } else if (Date.now() < root._bokeh_timeout) {\n      setTimeout(run_inline_js, 100);\n    } else if (!root._bokeh_failed_load) {\n      console.log(\"Bokeh: BokehJS failed to load within specified timeout.\");\n      root._bokeh_failed_load = true;\n    }\n    root._bokeh_is_initializing = false\n  }\n\n  function load_or_wait() {\n    // Implement a backoff loop that tries to ensure we do not load multiple\n    // versions of Bokeh and its dependencies at the same time.\n    // In recent versions we use the root._bokeh_is_initializing flag\n    // to determine whether there is an ongoing attempt to initialize\n    // bokeh, however for backward compatibility we also try to ensure\n    // that we do not start loading a newer (Panel>=1.0 and Bokeh>3) version\n    // before older versions are fully initialized.\n    if (root._bokeh_is_initializing && Date.now() > root._bokeh_timeout) {\n      // If the timeout and bokeh was not successfully loaded we reset\n      // everything and try loading again\n      root._bokeh_timeout = Date.now() + 5000;\n      root._bokeh_is_initializing = false;\n      root._bokeh_onload_callbacks = undefined;\n      root._bokeh_is_loading = 0\n      console.log(\"Bokeh: BokehJS was loaded multiple times but one version failed to initialize.\");\n      load_or_wait();\n    } else if (root._bokeh_is_initializing || (typeof root._bokeh_is_initializing === \"undefined\" && root._bokeh_onload_callbacks !== undefined)) {\n      setTimeout(load_or_wait, 100);\n    } else {\n      root._bokeh_is_initializing = true\n      root._bokeh_onload_callbacks = []\n      const bokeh_loaded = root.Bokeh != null && (root.Bokeh.version === py_version || (root.Bokeh.versions !== undefined && root.Bokeh.versions.has(py_version)));\n      if (!reloading && !bokeh_loaded) {\n        if (root.Bokeh) {\n          root.Bokeh = undefined;\n        }\n        console.debug(\"Bokeh: BokehJS not loaded, scheduling load and callback at\", now());\n      }\n      load_libs(css_urls, js_urls, js_modules, js_exports, function() {\n        console.debug(\"Bokeh: BokehJS plotting callback run at\", now());\n        run_inline_js();\n      });\n    }\n  }\n  // Give older versions of the autoload script a head-start to ensure\n  // they initialize before we start loading newer version.\n  setTimeout(load_or_wait, 100)\n}(window));",
      "application/vnd.holoviews_load.v0+json": ""
     },
     "metadata": {},
     "output_type": "display_data"
    },
    {
     "data": {
      "application/javascript": "\nif ((window.PyViz === undefined) || (window.PyViz instanceof HTMLElement)) {\n  window.PyViz = {comms: {}, comm_status:{}, kernels:{}, receivers: {}, plot_index: []}\n}\n\n\n    function JupyterCommManager() {\n    }\n\n    JupyterCommManager.prototype.register_target = function(plot_id, comm_id, msg_handler) {\n      if (window.comm_manager || ((window.Jupyter !== undefined) && (Jupyter.notebook.kernel != null))) {\n        var comm_manager = window.comm_manager || Jupyter.notebook.kernel.comm_manager;\n        comm_manager.register_target(comm_id, function(comm) {\n          comm.on_msg(msg_handler);\n        });\n      } else if ((plot_id in window.PyViz.kernels) && (window.PyViz.kernels[plot_id])) {\n        window.PyViz.kernels[plot_id].registerCommTarget(comm_id, function(comm) {\n          comm.onMsg = msg_handler;\n        });\n      } else if (typeof google != 'undefined' && google.colab.kernel != null) {\n        google.colab.kernel.comms.registerTarget(comm_id, (comm) => {\n          var messages = comm.messages[Symbol.asyncIterator]();\n          function processIteratorResult(result) {\n            var message = result.value;\n            console.log(message)\n            var content = {data: message.data, comm_id};\n            var buffers = []\n            for (var buffer of message.buffers || []) {\n              buffers.push(new DataView(buffer))\n            }\n            var metadata = message.metadata || {};\n            var msg = {content, buffers, metadata}\n            msg_handler(msg);\n            return messages.next().then(processIteratorResult);\n          }\n          return messages.next().then(processIteratorResult);\n        })\n      }\n    }\n\n    JupyterCommManager.prototype.get_client_comm = function(plot_id, comm_id, msg_handler) {\n      if (comm_id in window.PyViz.comms) {\n        return window.PyViz.comms[comm_id];\n      } else if (window.comm_manager || ((window.Jupyter !== undefined) && (Jupyter.notebook.kernel != null))) {\n        var comm_manager = window.comm_manager || Jupyter.notebook.kernel.comm_manager;\n        var comm = comm_manager.new_comm(comm_id, {}, {}, {}, comm_id);\n        if (msg_handler) {\n          comm.on_msg(msg_handler);\n        }\n      } else if ((plot_id in window.PyViz.kernels) && (window.PyViz.kernels[plot_id])) {\n        var comm = window.PyViz.kernels[plot_id].connectToComm(comm_id);\n        comm.open();\n        if (msg_handler) {\n          comm.onMsg = msg_handler;\n        }\n      } else if (typeof google != 'undefined' && google.colab.kernel != null) {\n        var comm_promise = google.colab.kernel.comms.open(comm_id)\n        comm_promise.then((comm) => {\n          window.PyViz.comms[comm_id] = comm;\n          if (msg_handler) {\n            var messages = comm.messages[Symbol.asyncIterator]();\n            function processIteratorResult(result) {\n              var message = result.value;\n              var content = {data: message.data};\n              var metadata = message.metadata || {comm_id};\n              var msg = {content, metadata}\n              msg_handler(msg);\n              return messages.next().then(processIteratorResult);\n            }\n            return messages.next().then(processIteratorResult);\n          }\n        }) \n        var sendClosure = (data, metadata, buffers, disposeOnDone) => {\n          return comm_promise.then((comm) => {\n            comm.send(data, metadata, buffers, disposeOnDone);\n          });\n        };\n        var comm = {\n          send: sendClosure\n        };\n      }\n      window.PyViz.comms[comm_id] = comm;\n      return comm;\n    }\n    window.PyViz.comm_manager = new JupyterCommManager();\n    \n\n\nvar JS_MIME_TYPE = 'application/javascript';\nvar HTML_MIME_TYPE = 'text/html';\nvar EXEC_MIME_TYPE = 'application/vnd.holoviews_exec.v0+json';\nvar CLASS_NAME = 'output';\n\n/**\n * Render data to the DOM node\n */\nfunction render(props, node) {\n  var div = document.createElement(\"div\");\n  var script = document.createElement(\"script\");\n  node.appendChild(div);\n  node.appendChild(script);\n}\n\n/**\n * Handle when a new output is added\n */\nfunction handle_add_output(event, handle) {\n  var output_area = handle.output_area;\n  var output = handle.output;\n  if ((output.data == undefined) || (!output.data.hasOwnProperty(EXEC_MIME_TYPE))) {\n    return\n  }\n  var id = output.metadata[EXEC_MIME_TYPE][\"id\"];\n  var toinsert = output_area.element.find(\".\" + CLASS_NAME.split(' ')[0]);\n  if (id !== undefined) {\n    var nchildren = toinsert.length;\n    var html_node = toinsert[nchildren-1].children[0];\n    html_node.innerHTML = output.data[HTML_MIME_TYPE];\n    var scripts = [];\n    var nodelist = html_node.querySelectorAll(\"script\");\n    for (var i in nodelist) {\n      if (nodelist.hasOwnProperty(i)) {\n        scripts.push(nodelist[i])\n      }\n    }\n\n    scripts.forEach( function (oldScript) {\n      var newScript = document.createElement(\"script\");\n      var attrs = [];\n      var nodemap = oldScript.attributes;\n      for (var j in nodemap) {\n        if (nodemap.hasOwnProperty(j)) {\n          attrs.push(nodemap[j])\n        }\n      }\n      attrs.forEach(function(attr) { newScript.setAttribute(attr.name, attr.value) });\n      newScript.appendChild(document.createTextNode(oldScript.innerHTML));\n      oldScript.parentNode.replaceChild(newScript, oldScript);\n    });\n    if (JS_MIME_TYPE in output.data) {\n      toinsert[nchildren-1].children[1].textContent = output.data[JS_MIME_TYPE];\n    }\n    output_area._hv_plot_id = id;\n    if ((window.Bokeh !== undefined) && (id in Bokeh.index)) {\n      window.PyViz.plot_index[id] = Bokeh.index[id];\n    } else {\n      window.PyViz.plot_index[id] = null;\n    }\n  } else if (output.metadata[EXEC_MIME_TYPE][\"server_id\"] !== undefined) {\n    var bk_div = document.createElement(\"div\");\n    bk_div.innerHTML = output.data[HTML_MIME_TYPE];\n    var script_attrs = bk_div.children[0].attributes;\n    for (var i = 0; i < script_attrs.length; i++) {\n      toinsert[toinsert.length - 1].childNodes[1].setAttribute(script_attrs[i].name, script_attrs[i].value);\n    }\n    // store reference to server id on output_area\n    output_area._bokeh_server_id = output.metadata[EXEC_MIME_TYPE][\"server_id\"];\n  }\n}\n\n/**\n * Handle when an output is cleared or removed\n */\nfunction handle_clear_output(event, handle) {\n  var id = handle.cell.output_area._hv_plot_id;\n  var server_id = handle.cell.output_area._bokeh_server_id;\n  if (((id === undefined) || !(id in PyViz.plot_index)) && (server_id !== undefined)) { return; }\n  var comm = window.PyViz.comm_manager.get_client_comm(\"hv-extension-comm\", \"hv-extension-comm\", function () {});\n  if (server_id !== null) {\n    comm.send({event_type: 'server_delete', 'id': server_id});\n    return;\n  } else if (comm !== null) {\n    comm.send({event_type: 'delete', 'id': id});\n  }\n  delete PyViz.plot_index[id];\n  if ((window.Bokeh !== undefined) & (id in window.Bokeh.index)) {\n    var doc = window.Bokeh.index[id].model.document\n    doc.clear();\n    const i = window.Bokeh.documents.indexOf(doc);\n    if (i > -1) {\n      window.Bokeh.documents.splice(i, 1);\n    }\n  }\n}\n\n/**\n * Handle kernel restart event\n */\nfunction handle_kernel_cleanup(event, handle) {\n  delete PyViz.comms[\"hv-extension-comm\"];\n  window.PyViz.plot_index = {}\n}\n\n/**\n * Handle update_display_data messages\n */\nfunction handle_update_output(event, handle) {\n  handle_clear_output(event, {cell: {output_area: handle.output_area}})\n  handle_add_output(event, handle)\n}\n\nfunction register_renderer(events, OutputArea) {\n  function append_mime(data, metadata, element) {\n    // create a DOM node to render to\n    var toinsert = this.create_output_subarea(\n    metadata,\n    CLASS_NAME,\n    EXEC_MIME_TYPE\n    );\n    this.keyboard_manager.register_events(toinsert);\n    // Render to node\n    var props = {data: data, metadata: metadata[EXEC_MIME_TYPE]};\n    render(props, toinsert[0]);\n    element.append(toinsert);\n    return toinsert\n  }\n\n  events.on('output_added.OutputArea', handle_add_output);\n  events.on('output_updated.OutputArea', handle_update_output);\n  events.on('clear_output.CodeCell', handle_clear_output);\n  events.on('delete.Cell', handle_clear_output);\n  events.on('kernel_ready.Kernel', handle_kernel_cleanup);\n\n  OutputArea.prototype.register_mime_type(EXEC_MIME_TYPE, append_mime, {\n    safe: true,\n    index: 0\n  });\n}\n\nif (window.Jupyter !== undefined) {\n  try {\n    var events = require('base/js/events');\n    var OutputArea = require('notebook/js/outputarea').OutputArea;\n    if (OutputArea.prototype.mime_types().indexOf(EXEC_MIME_TYPE) == -1) {\n      register_renderer(events, OutputArea);\n    }\n  } catch(err) {\n  }\n}\n",
      "application/vnd.holoviews_load.v0+json": ""
     },
     "metadata": {},
     "output_type": "display_data"
    },
    {
     "data": {
      "application/vnd.holoviews_exec.v0+json": "",
      "text/html": [
       "<div id='8cca09aa-9bff-4ce3-92e6-e2e44026d099'>\n",
       "  <div id=\"c03e6479-91e1-45ce-938f-bd2f70bb1734\" data-root-id=\"8cca09aa-9bff-4ce3-92e6-e2e44026d099\" style=\"display: contents;\"></div>\n",
       "</div>\n",
       "<script type=\"application/javascript\">(function(root) {\n",
       "  var docs_json = {\"0b99acf7-9775-4467-b126-155de363f035\":{\"version\":\"3.6.1\",\"title\":\"Bokeh Application\",\"roots\":[{\"type\":\"object\",\"name\":\"panel.models.browser.BrowserInfo\",\"id\":\"8cca09aa-9bff-4ce3-92e6-e2e44026d099\"},{\"type\":\"object\",\"name\":\"panel.models.comm_manager.CommManager\",\"id\":\"39afc323-b184-47a3-bcd6-8fdbb979936e\",\"attributes\":{\"plot_id\":\"8cca09aa-9bff-4ce3-92e6-e2e44026d099\",\"comm_id\":\"7fd8dbdace484d9ab9796eb7206e5c16\",\"client_comm_id\":\"53dd96fedf3a42308e9ec67650fa35ec\"}}],\"defs\":[{\"type\":\"model\",\"name\":\"ReactiveHTML1\"},{\"type\":\"model\",\"name\":\"FlexBox1\",\"properties\":[{\"name\":\"align_content\",\"kind\":\"Any\",\"default\":\"flex-start\"},{\"name\":\"align_items\",\"kind\":\"Any\",\"default\":\"flex-start\"},{\"name\":\"flex_direction\",\"kind\":\"Any\",\"default\":\"row\"},{\"name\":\"flex_wrap\",\"kind\":\"Any\",\"default\":\"wrap\"},{\"name\":\"gap\",\"kind\":\"Any\",\"default\":\"\"},{\"name\":\"justify_content\",\"kind\":\"Any\",\"default\":\"flex-start\"}]},{\"type\":\"model\",\"name\":\"FloatPanel1\",\"properties\":[{\"name\":\"config\",\"kind\":\"Any\",\"default\":{\"type\":\"map\"}},{\"name\":\"contained\",\"kind\":\"Any\",\"default\":true},{\"name\":\"position\",\"kind\":\"Any\",\"default\":\"right-top\"},{\"name\":\"offsetx\",\"kind\":\"Any\",\"default\":null},{\"name\":\"offsety\",\"kind\":\"Any\",\"default\":null},{\"name\":\"theme\",\"kind\":\"Any\",\"default\":\"primary\"},{\"name\":\"status\",\"kind\":\"Any\",\"default\":\"normalized\"}]},{\"type\":\"model\",\"name\":\"GridStack1\",\"properties\":[{\"name\":\"mode\",\"kind\":\"Any\",\"default\":\"warn\"},{\"name\":\"ncols\",\"kind\":\"Any\",\"default\":null},{\"name\":\"nrows\",\"kind\":\"Any\",\"default\":null},{\"name\":\"allow_resize\",\"kind\":\"Any\",\"default\":true},{\"name\":\"allow_drag\",\"kind\":\"Any\",\"default\":true},{\"name\":\"state\",\"kind\":\"Any\",\"default\":[]}]},{\"type\":\"model\",\"name\":\"drag1\",\"properties\":[{\"name\":\"slider_width\",\"kind\":\"Any\",\"default\":5},{\"name\":\"slider_color\",\"kind\":\"Any\",\"default\":\"black\"},{\"name\":\"value\",\"kind\":\"Any\",\"default\":50}]},{\"type\":\"model\",\"name\":\"click1\",\"properties\":[{\"name\":\"terminal_output\",\"kind\":\"Any\",\"default\":\"\"},{\"name\":\"debug_name\",\"kind\":\"Any\",\"default\":\"\"},{\"name\":\"clears\",\"kind\":\"Any\",\"default\":0}]},{\"type\":\"model\",\"name\":\"FastWrapper1\",\"properties\":[{\"name\":\"object\",\"kind\":\"Any\",\"default\":null},{\"name\":\"style\",\"kind\":\"Any\",\"default\":null}]},{\"type\":\"model\",\"name\":\"NotificationAreaBase1\",\"properties\":[{\"name\":\"js_events\",\"kind\":\"Any\",\"default\":{\"type\":\"map\"}},{\"name\":\"position\",\"kind\":\"Any\",\"default\":\"bottom-right\"},{\"name\":\"_clear\",\"kind\":\"Any\",\"default\":0}]},{\"type\":\"model\",\"name\":\"NotificationArea1\",\"properties\":[{\"name\":\"js_events\",\"kind\":\"Any\",\"default\":{\"type\":\"map\"}},{\"name\":\"notifications\",\"kind\":\"Any\",\"default\":[]},{\"name\":\"position\",\"kind\":\"Any\",\"default\":\"bottom-right\"},{\"name\":\"_clear\",\"kind\":\"Any\",\"default\":0},{\"name\":\"types\",\"kind\":\"Any\",\"default\":[{\"type\":\"map\",\"entries\":[[\"type\",\"warning\"],[\"background\",\"#ffc107\"],[\"icon\",{\"type\":\"map\",\"entries\":[[\"className\",\"fas fa-exclamation-triangle\"],[\"tagName\",\"i\"],[\"color\",\"white\"]]}]]},{\"type\":\"map\",\"entries\":[[\"type\",\"info\"],[\"background\",\"#007bff\"],[\"icon\",{\"type\":\"map\",\"entries\":[[\"className\",\"fas fa-info-circle\"],[\"tagName\",\"i\"],[\"color\",\"white\"]]}]]}]}]},{\"type\":\"model\",\"name\":\"Notification\",\"properties\":[{\"name\":\"background\",\"kind\":\"Any\",\"default\":null},{\"name\":\"duration\",\"kind\":\"Any\",\"default\":3000},{\"name\":\"icon\",\"kind\":\"Any\",\"default\":null},{\"name\":\"message\",\"kind\":\"Any\",\"default\":\"\"},{\"name\":\"notification_type\",\"kind\":\"Any\",\"default\":null},{\"name\":\"_destroyed\",\"kind\":\"Any\",\"default\":false}]},{\"type\":\"model\",\"name\":\"TemplateActions1\",\"properties\":[{\"name\":\"open_modal\",\"kind\":\"Any\",\"default\":0},{\"name\":\"close_modal\",\"kind\":\"Any\",\"default\":0}]},{\"type\":\"model\",\"name\":\"BootstrapTemplateActions1\",\"properties\":[{\"name\":\"open_modal\",\"kind\":\"Any\",\"default\":0},{\"name\":\"close_modal\",\"kind\":\"Any\",\"default\":0}]},{\"type\":\"model\",\"name\":\"TemplateEditor1\",\"properties\":[{\"name\":\"layout\",\"kind\":\"Any\",\"default\":[]}]},{\"type\":\"model\",\"name\":\"MaterialTemplateActions1\",\"properties\":[{\"name\":\"open_modal\",\"kind\":\"Any\",\"default\":0},{\"name\":\"close_modal\",\"kind\":\"Any\",\"default\":0}]},{\"type\":\"model\",\"name\":\"ReactiveESM1\",\"properties\":[{\"name\":\"esm_constants\",\"kind\":\"Any\",\"default\":{\"type\":\"map\"}}]},{\"type\":\"model\",\"name\":\"JSComponent1\",\"properties\":[{\"name\":\"esm_constants\",\"kind\":\"Any\",\"default\":{\"type\":\"map\"}}]},{\"type\":\"model\",\"name\":\"ReactComponent1\",\"properties\":[{\"name\":\"esm_constants\",\"kind\":\"Any\",\"default\":{\"type\":\"map\"}}]},{\"type\":\"model\",\"name\":\"AnyWidgetComponent1\",\"properties\":[{\"name\":\"esm_constants\",\"kind\":\"Any\",\"default\":{\"type\":\"map\"}}]},{\"type\":\"model\",\"name\":\"request_value1\",\"properties\":[{\"name\":\"fill\",\"kind\":\"Any\",\"default\":\"none\"},{\"name\":\"_synced\",\"kind\":\"Any\",\"default\":null},{\"name\":\"_request_sync\",\"kind\":\"Any\",\"default\":0}]}]}};\n",
       "  var render_items = [{\"docid\":\"0b99acf7-9775-4467-b126-155de363f035\",\"roots\":{\"8cca09aa-9bff-4ce3-92e6-e2e44026d099\":\"c03e6479-91e1-45ce-938f-bd2f70bb1734\"},\"root_ids\":[\"8cca09aa-9bff-4ce3-92e6-e2e44026d099\"]}];\n",
       "  var docs = Object.values(docs_json)\n",
       "  if (!docs) {\n",
       "    return\n",
       "  }\n",
       "  const py_version = docs[0].version.replace('rc', '-rc.').replace('.dev', '-dev.')\n",
       "  async function embed_document(root) {\n",
       "    var Bokeh = get_bokeh(root)\n",
       "    await Bokeh.embed.embed_items_notebook(docs_json, render_items);\n",
       "    for (const render_item of render_items) {\n",
       "      for (const root_id of render_item.root_ids) {\n",
       "\tconst id_el = document.getElementById(root_id)\n",
       "\tif (id_el.children.length && id_el.children[0].hasAttribute('data-root-id')) {\n",
       "\t  const root_el = id_el.children[0]\n",
       "\t  root_el.id = root_el.id + '-rendered'\n",
       "\t  for (const child of root_el.children) {\n",
       "            // Ensure JupyterLab does not capture keyboard shortcuts\n",
       "            // see: https://jupyterlab.readthedocs.io/en/4.1.x/extension/notebook.html#keyboard-interaction-model\n",
       "\t    child.setAttribute('data-lm-suppress-shortcuts', 'true')\n",
       "\t  }\n",
       "\t}\n",
       "      }\n",
       "    }\n",
       "  }\n",
       "  function get_bokeh(root) {\n",
       "    if (root.Bokeh === undefined) {\n",
       "      return null\n",
       "    } else if (root.Bokeh.version !== py_version) {\n",
       "      if (root.Bokeh.versions === undefined || !root.Bokeh.versions.has(py_version)) {\n",
       "\treturn null\n",
       "      }\n",
       "      return root.Bokeh.versions.get(py_version);\n",
       "    } else if (root.Bokeh.version === py_version) {\n",
       "      return root.Bokeh\n",
       "    }\n",
       "    return null\n",
       "  }\n",
       "  function is_loaded(root) {\n",
       "    var Bokeh = get_bokeh(root)\n",
       "    return (Bokeh != null && Bokeh.Panel !== undefined)\n",
       "  }\n",
       "  if (is_loaded(root)) {\n",
       "    embed_document(root);\n",
       "  } else {\n",
       "    var attempts = 0;\n",
       "    var timer = setInterval(function(root) {\n",
       "      if (is_loaded(root)) {\n",
       "        clearInterval(timer);\n",
       "        embed_document(root);\n",
       "      } else if (document.readyState == \"complete\") {\n",
       "        attempts++;\n",
       "        if (attempts > 200) {\n",
       "          clearInterval(timer);\n",
       "\t  var Bokeh = get_bokeh(root)\n",
       "\t  if (Bokeh == null || Bokeh.Panel == null) {\n",
       "            console.warn(\"Panel: ERROR: Unable to run Panel code because Bokeh or Panel library is missing\");\n",
       "\t  } else {\n",
       "\t    console.warn(\"Panel: WARNING: Attempting to render but not all required libraries could be resolved.\")\n",
       "\t    embed_document(root)\n",
       "\t  }\n",
       "        }\n",
       "      }\n",
       "    }, 25, root)\n",
       "  }\n",
       "})(window);</script>"
      ]
     },
     "metadata": {
      "application/vnd.holoviews_exec.v0+json": {
       "id": "8cca09aa-9bff-4ce3-92e6-e2e44026d099"
      }
     },
     "output_type": "display_data"
    }
   ],
   "source": [
    "import polars as pl\n",
    "import opendp.prelude as dp\n",
    "import hvplot.polars\n",
    "\n",
    "dp.enable_features(\"contrib\")\n",
    "\n",
    "# Fetch data. \n",
    "![ -e sample_FR_LFS.csv ] || ( curl 'https://github.com/opendp/dp-test-datasets/blob/main/data/sample_FR_LFS.csv.zip?raw=true' --location --output sample_FR_LFS.csv.zip; unzip sample_FR_LFS.csv.zip )"
   ]
  },
  {
   "cell_type": "markdown",
   "metadata": {},
   "source": [
    "## Stable Group Keys\n",
    "\n",
    "Grouping keys themselves can be extremely sensitive. \n",
    "For example, sharing a noisy count query grouped by social security numbers or credit card numbers \n",
    "would catastrophically violate the privacy of individuals in the data.\n",
    "Similarly, re-identification of individuals can be accomplished \n",
    "with very small combinations of grouping columns that may seem benign\n",
    "(for reference, see how [Latanya Sweeney reidentified the Governor of Massachusetts in healthcare data](https://arstechnica.com/tech-policy/2009/09/your-secrets-live-online-in-databases-of-ruin/)).\n",
    "\n",
    "For this reason, by default, the OpenDP Library discards any grouping key that may be unique to an individual\n",
    "by filtering out data partitions with too few records.\n",
    "OpenDP calibrates this filtering threshold such that the probability of releasing a sensitive grouping key \n",
    "is no greater than the privacy parameter delta (δ).\n",
    "This is why the set of released keys are considered \"stable\": \n",
    "the algorithm only releases grouping keys that remain stable (don't change) when any one individual is added or removed.\n",
    "\n",
    "In the following example, only counts for combinations of year and sex that are common among many workers are released. "
   ]
  },
  {
   "cell_type": "code",
   "execution_count": 2,
   "metadata": {},
   "outputs": [],
   "source": [
    "context = dp.Context.compositor(\n",
    "    # Many columns contain mixtures of strings and numbers and cannot be parsed as floats,\n",
    "    # so we'll set `ignore_errors` to true to avoid conversion errors.\n",
    "    data=pl.scan_csv(\"sample_FR_LFS.csv\", ignore_errors=True),\n",
    "    privacy_unit=dp.unit_of(contributions=36),\n",
    "    privacy_loss=dp.loss_of(epsilon=1.0 / 4, delta=1e-7),\n",
    "    # allow for one query\n",
    "    split_evenly_over=1,\n",
    ")\n",
    "\n",
    "query_age_ilostat = (\n",
    "    context.query()\n",
    "    .group_by(\"AGE\", \"ILOSTAT\")\n",
    "    .agg(dp.len())\n",
    ")"
   ]
  },
  {
   "cell_type": "markdown",
   "metadata": {},
   "source": [
    "Before releasing the query, lets take a look at properties we can expect of the output:"
   ]
  },
  {
   "cell_type": "code",
   "execution_count": 3,
   "metadata": {},
   "outputs": [
    {
     "data": {
      "text/html": [
       "<div><style>\n",
       ".dataframe > thead > tr,\n",
       ".dataframe > tbody > tr {\n",
       "  text-align: right;\n",
       "  white-space: pre-wrap;\n",
       "}\n",
       "</style>\n",
       "<small>shape: (1, 6)</small><table border=\"1\" class=\"dataframe\"><thead><tr><th>column</th><th>aggregate</th><th>distribution</th><th>scale</th><th>accuracy</th><th>threshold</th></tr><tr><td>str</td><td>str</td><td>str</td><td>f64</td><td>f64</td><td>u32</td></tr></thead><tbody><tr><td>&quot;len&quot;</td><td>&quot;Frame Length&quot;</td><td>&quot;Integer Laplace&quot;</td><td>144.0</td><td>431.884579</td><td>2773</td></tr></tbody></table></div>"
      ],
      "text/plain": [
       "shape: (1, 6)\n",
       "┌────────┬──────────────┬─────────────────┬───────┬────────────┬───────────┐\n",
       "│ column ┆ aggregate    ┆ distribution    ┆ scale ┆ accuracy   ┆ threshold │\n",
       "│ ---    ┆ ---          ┆ ---             ┆ ---   ┆ ---        ┆ ---       │\n",
       "│ str    ┆ str          ┆ str             ┆ f64   ┆ f64        ┆ u32       │\n",
       "╞════════╪══════════════╪═════════════════╪═══════╪════════════╪═══════════╡\n",
       "│ len    ┆ Frame Length ┆ Integer Laplace ┆ 144.0 ┆ 431.884579 ┆ 2773      │\n",
       "└────────┴──────────────┴─────────────────┴───────┴────────────┴───────────┘"
      ]
     },
     "execution_count": 3,
     "metadata": {},
     "output_type": "execute_result"
    }
   ],
   "source": [
    "query_age_ilostat.summarize(alpha=.05)"
   ]
  },
  {
   "cell_type": "markdown",
   "metadata": {},
   "source": [
    "Judging from the query description, \n",
    "noisy counts returned by this query will differ by no more than the given accuracy with 1 - alpha = 95% confidence.\n",
    "Any grouping keys with noisy counts below the given threshold will be filtered from the release.\n",
    "\n",
    "This level of utility seems suitable, so we'll go ahead and release the query:"
   ]
  },
  {
   "cell_type": "code",
   "execution_count": 4,
   "metadata": {},
   "outputs": [
    {
     "data": {},
     "metadata": {},
     "output_type": "display_data"
    },
    {
     "data": {
      "application/vnd.holoviews_exec.v0+json": "",
      "text/html": [
       "<div id='5af1ad3b-ceb9-4382-91ea-00a6d0c36dc4'>\n",
       "  <div id=\"dba192d6-0ba2-4bc8-9b2a-7d8f739abff8\" data-root-id=\"5af1ad3b-ceb9-4382-91ea-00a6d0c36dc4\" style=\"display: contents;\"></div>\n",
       "</div>\n",
       "<script type=\"application/javascript\">(function(root) {\n",
       "  var docs_json = {\"f5e06b27-268b-4a44-9678-6573eb41706a\":{\"version\":\"3.6.1\",\"title\":\"Bokeh Application\",\"roots\":[{\"type\":\"object\",\"name\":\"Row\",\"id\":\"5af1ad3b-ceb9-4382-91ea-00a6d0c36dc4\",\"attributes\":{\"name\":\"Row00358\",\"tags\":[\"embedded\"],\"stylesheets\":[\"\\n:host(.pn-loading):before, .pn-loading:before {\\n  background-color: #c3c3c3;\\n  mask-size: auto calc(min(50%, 400px));\\n  -webkit-mask-size: auto calc(min(50%, 400px));\\n}\",{\"type\":\"object\",\"name\":\"ImportedStyleSheet\",\"id\":\"fc927929-71e7-4f06-b5bf-d93eac7d2ba3\",\"attributes\":{\"url\":\"https://cdn.holoviz.org/panel/1.5.4/dist/css/loading.css\"}},{\"type\":\"object\",\"name\":\"ImportedStyleSheet\",\"id\":\"e6d89c36-67c9-4718-8726-b850f8af1a4c\",\"attributes\":{\"url\":\"https://cdn.holoviz.org/panel/1.5.4/dist/css/listpanel.css\"}},{\"type\":\"object\",\"name\":\"ImportedStyleSheet\",\"id\":\"a59bb3fe-7012-4c1c-b7af-c054af0acb02\",\"attributes\":{\"url\":\"https://cdn.holoviz.org/panel/1.5.4/dist/bundled/theme/default.css\"}},{\"type\":\"object\",\"name\":\"ImportedStyleSheet\",\"id\":\"bd97acf1-5e1f-4355-9083-8cb90ec5ac94\",\"attributes\":{\"url\":\"https://cdn.holoviz.org/panel/1.5.4/dist/bundled/theme/native.css\"}}],\"min_width\":700,\"margin\":0,\"sizing_mode\":\"stretch_width\",\"align\":\"start\",\"children\":[{\"type\":\"object\",\"name\":\"Spacer\",\"id\":\"31294b00-0242-430f-85aa-df2b223ecb3f\",\"attributes\":{\"name\":\"HSpacer00362\",\"stylesheets\":[\"\\n:host(.pn-loading):before, .pn-loading:before {\\n  background-color: #c3c3c3;\\n  mask-size: auto calc(min(50%, 400px));\\n  -webkit-mask-size: auto calc(min(50%, 400px));\\n}\",{\"id\":\"fc927929-71e7-4f06-b5bf-d93eac7d2ba3\"},{\"id\":\"a59bb3fe-7012-4c1c-b7af-c054af0acb02\"},{\"id\":\"bd97acf1-5e1f-4355-9083-8cb90ec5ac94\"}],\"margin\":0,\"sizing_mode\":\"stretch_width\",\"align\":\"start\"}},{\"type\":\"object\",\"name\":\"Figure\",\"id\":\"fd1e6800-fd67-4270-827b-836ac69ad71c\",\"attributes\":{\"width\":700,\"height\":300,\"margin\":[5,10],\"sizing_mode\":\"fixed\",\"align\":\"start\",\"x_range\":{\"type\":\"object\",\"name\":\"Range1d\",\"id\":\"1c5bf972-a5a3-4313-a3a5-9c70f9c7fee3\",\"attributes\":{\"name\":\"AGE\",\"tags\":[[[\"AGE\",null]],[]],\"start\":7.0,\"end\":75.0,\"reset_start\":7.0,\"reset_end\":75.0}},\"y_range\":{\"type\":\"object\",\"name\":\"Range1d\",\"id\":\"e5751322-743b-4734-b119-f46df21d1f9d\",\"attributes\":{\"name\":\"len\",\"tags\":[[[\"len\",null]],{\"type\":\"map\",\"entries\":[[\"invert_yaxis\",false],[\"autorange\",false]]}],\"start\":-484.60000000000036,\"end\":39410.6,\"reset_start\":-484.60000000000036,\"reset_end\":39410.6}},\"x_scale\":{\"type\":\"object\",\"name\":\"LinearScale\",\"id\":\"d2f48e0c-dfeb-4bcc-b89f-d3f9f505c2e1\"},\"y_scale\":{\"type\":\"object\",\"name\":\"LinearScale\",\"id\":\"598d3a52-243a-4858-8507-fc2c4f9f7ff6\"},\"title\":{\"type\":\"object\",\"name\":\"Title\",\"id\":\"2073ffbe-9a1c-41df-b256-d505f32a6bb8\",\"attributes\":{\"text_color\":\"black\",\"text_font_size\":\"12pt\"}},\"renderers\":[{\"type\":\"object\",\"name\":\"GlyphRenderer\",\"id\":\"078a8f4f-11a4-4322-b5df-a163b80a75da\",\"attributes\":{\"name\":\"9\",\"data_source\":{\"type\":\"object\",\"name\":\"ColumnDataSource\",\"id\":\"a2b219ba-7aff-483d-b1fd-8e670e75febf\",\"attributes\":{\"selected\":{\"type\":\"object\",\"name\":\"Selection\",\"id\":\"7e723332-1d00-4ebb-8c26-2638b80b7092\",\"attributes\":{\"indices\":[],\"line_indices\":[]}},\"selection_policy\":{\"type\":\"object\",\"name\":\"UnionRenderers\",\"id\":\"ce7e64f8-3549-4079-a9ad-2177976395d0\"},\"data\":{\"type\":\"map\",\"entries\":[[\"AGE\",{\"type\":\"ndarray\",\"array\":{\"type\":\"bytes\",\"data\":\"AAAAAAAAHEA=\"},\"shape\":[1],\"dtype\":\"float64\",\"order\":\"little\"}],[\"len\",{\"type\":\"ndarray\",\"array\":{\"type\":\"bytes\",\"data\":\"9owAAA==\"},\"shape\":[1],\"dtype\":\"uint32\",\"order\":\"little\"}],[\"ILOSTAT\",[9]]]}}},\"view\":{\"type\":\"object\",\"name\":\"CDSView\",\"id\":\"5e527823-1516-4400-924a-8f8cd4824cef\",\"attributes\":{\"filter\":{\"type\":\"object\",\"name\":\"AllIndices\",\"id\":\"d705ca3c-388b-46f4-af9a-1cd59cad5110\"}}},\"glyph\":{\"type\":\"object\",\"name\":\"Line\",\"id\":\"842fbf48-6761-4ed1-aa22-22375f5e8b3f\",\"attributes\":{\"tags\":[\"apply_ranges\"],\"x\":{\"type\":\"field\",\"field\":\"AGE\"},\"y\":{\"type\":\"field\",\"field\":\"len\"},\"line_color\":\"#30a2da\",\"line_width\":2}},\"selection_glyph\":{\"type\":\"object\",\"name\":\"Line\",\"id\":\"d56d1d7c-592d-4f59-be41-6ed0c5e950fa\",\"attributes\":{\"tags\":[\"apply_ranges\"],\"x\":{\"type\":\"field\",\"field\":\"AGE\"},\"y\":{\"type\":\"field\",\"field\":\"len\"},\"line_color\":\"#30a2da\",\"line_width\":2}},\"nonselection_glyph\":{\"type\":\"object\",\"name\":\"Line\",\"id\":\"9d721cdb-2a0a-4c55-b978-95bee6ab1233\",\"attributes\":{\"tags\":[\"apply_ranges\"],\"x\":{\"type\":\"field\",\"field\":\"AGE\"},\"y\":{\"type\":\"field\",\"field\":\"len\"},\"line_color\":\"#30a2da\",\"line_alpha\":0.1,\"line_width\":2}},\"muted_glyph\":{\"type\":\"object\",\"name\":\"Line\",\"id\":\"f91058c1-1fc8-4be7-b2bc-2629f6497d9f\",\"attributes\":{\"tags\":[\"apply_ranges\"],\"x\":{\"type\":\"field\",\"field\":\"AGE\"},\"y\":{\"type\":\"field\",\"field\":\"len\"},\"line_color\":\"#30a2da\",\"line_alpha\":0.2,\"line_width\":2}}}},{\"type\":\"object\",\"name\":\"GlyphRenderer\",\"id\":\"ca2d09d7-a586-492d-a94e-ed183ec3619a\",\"attributes\":{\"name\":\"1\",\"data_source\":{\"type\":\"object\",\"name\":\"ColumnDataSource\",\"id\":\"8310bb8e-beeb-4d96-8271-a3602ed7f1be\",\"attributes\":{\"selected\":{\"type\":\"object\",\"name\":\"Selection\",\"id\":\"b6b453bf-51bc-44df-8856-821049164394\",\"attributes\":{\"indices\":[],\"line_indices\":[]}},\"selection_policy\":{\"type\":\"object\",\"name\":\"UnionRenderers\",\"id\":\"ad38aa8b-e31c-4334-9abc-d14f7b4244aa\"},\"data\":{\"type\":\"map\",\"entries\":[[\"AGE\",{\"type\":\"ndarray\",\"array\":{\"type\":\"bytes\",\"data\":\"AAAAAAAANEAAAAAAAABAQAAAAAAAgEdAAAAAAABAUEA=\"},\"shape\":[4],\"dtype\":\"float64\",\"order\":\"little\"}],[\"len\",{\"type\":\"ndarray\",\"array\":{\"type\":\"bytes\",\"data\":\"uxsAAExtAABIhQAAsSkAAA==\"},\"shape\":[4],\"dtype\":\"uint32\",\"order\":\"little\"}],[\"ILOSTAT\",[1,1,1,1]]]}}},\"view\":{\"type\":\"object\",\"name\":\"CDSView\",\"id\":\"cf269c39-cbb0-4a24-8518-ecba294d9f80\",\"attributes\":{\"filter\":{\"type\":\"object\",\"name\":\"AllIndices\",\"id\":\"04b7c72b-acd8-49aa-b3ca-7faa27f0d382\"}}},\"glyph\":{\"type\":\"object\",\"name\":\"Line\",\"id\":\"d67288f7-4fa2-4a9b-bd83-b642ef09cb41\",\"attributes\":{\"tags\":[\"apply_ranges\"],\"x\":{\"type\":\"field\",\"field\":\"AGE\"},\"y\":{\"type\":\"field\",\"field\":\"len\"},\"line_color\":\"#fc4f30\",\"line_width\":2}},\"selection_glyph\":{\"type\":\"object\",\"name\":\"Line\",\"id\":\"77853dd1-669f-4a85-9c4f-aa6c1ab3dcaf\",\"attributes\":{\"tags\":[\"apply_ranges\"],\"x\":{\"type\":\"field\",\"field\":\"AGE\"},\"y\":{\"type\":\"field\",\"field\":\"len\"},\"line_color\":\"#fc4f30\",\"line_width\":2}},\"nonselection_glyph\":{\"type\":\"object\",\"name\":\"Line\",\"id\":\"a065b657-1acd-4e1d-a832-44e64aa602a5\",\"attributes\":{\"tags\":[\"apply_ranges\"],\"x\":{\"type\":\"field\",\"field\":\"AGE\"},\"y\":{\"type\":\"field\",\"field\":\"len\"},\"line_color\":\"#fc4f30\",\"line_alpha\":0.1,\"line_width\":2}},\"muted_glyph\":{\"type\":\"object\",\"name\":\"Line\",\"id\":\"c60a2694-3bb9-44cc-974b-dce2e043b5b2\",\"attributes\":{\"tags\":[\"apply_ranges\"],\"x\":{\"type\":\"field\",\"field\":\"AGE\"},\"y\":{\"type\":\"field\",\"field\":\"len\"},\"line_color\":\"#fc4f30\",\"line_alpha\":0.2,\"line_width\":2}}}},{\"type\":\"object\",\"name\":\"GlyphRenderer\",\"id\":\"cd7113f7-baa3-4067-9a99-99dfc7c6fa1a\",\"attributes\":{\"name\":\"3\",\"data_source\":{\"type\":\"object\",\"name\":\"ColumnDataSource\",\"id\":\"33f8932a-59e3-4171-83ae-680d473582c3\",\"attributes\":{\"selected\":{\"type\":\"object\",\"name\":\"Selection\",\"id\":\"540d0a51-b544-4ec4-9e5c-84fbebaa8528\",\"attributes\":{\"indices\":[],\"line_indices\":[]}},\"selection_policy\":{\"type\":\"object\",\"name\":\"UnionRenderers\",\"id\":\"06f1cb48-f156-4b15-a771-913b04c605f1\"},\"data\":{\"type\":\"map\",\"entries\":[[\"AGE\",{\"type\":\"ndarray\",\"array\":{\"type\":\"bytes\",\"data\":\"AAAAAAAANEAAAAAAAABAQAAAAAAAgEdAAAAAAABAUEAAAAAAAMBSQA==\"},\"shape\":[5],\"dtype\":\"float64\",\"order\":\"little\"}],[\"len\",{\"type\":\"ndarray\",\"array\":{\"type\":\"bytes\",\"data\":\"qz0AAH4RAACqFAAAuX4AAJhHAAA=\"},\"shape\":[5],\"dtype\":\"uint32\",\"order\":\"little\"}],[\"ILOSTAT\",[3,3,3,3,3]]]}}},\"view\":{\"type\":\"object\",\"name\":\"CDSView\",\"id\":\"2fa10dc5-e8d7-4cb0-8702-921da19a5608\",\"attributes\":{\"filter\":{\"type\":\"object\",\"name\":\"AllIndices\",\"id\":\"48ca17a6-254d-4849-b337-6bb53a2a016f\"}}},\"glyph\":{\"type\":\"object\",\"name\":\"Line\",\"id\":\"61a5cde1-15ff-4da5-af06-cc6871272cab\",\"attributes\":{\"tags\":[\"apply_ranges\"],\"x\":{\"type\":\"field\",\"field\":\"AGE\"},\"y\":{\"type\":\"field\",\"field\":\"len\"},\"line_color\":\"#e5ae38\",\"line_width\":2}},\"selection_glyph\":{\"type\":\"object\",\"name\":\"Line\",\"id\":\"5b89bf60-aa2f-49e7-a6d4-7917f82d7e13\",\"attributes\":{\"tags\":[\"apply_ranges\"],\"x\":{\"type\":\"field\",\"field\":\"AGE\"},\"y\":{\"type\":\"field\",\"field\":\"len\"},\"line_color\":\"#e5ae38\",\"line_width\":2}},\"nonselection_glyph\":{\"type\":\"object\",\"name\":\"Line\",\"id\":\"9575f3de-4669-4cd5-8ac2-abd2b45b76a2\",\"attributes\":{\"tags\":[\"apply_ranges\"],\"x\":{\"type\":\"field\",\"field\":\"AGE\"},\"y\":{\"type\":\"field\",\"field\":\"len\"},\"line_color\":\"#e5ae38\",\"line_alpha\":0.1,\"line_width\":2}},\"muted_glyph\":{\"type\":\"object\",\"name\":\"Line\",\"id\":\"72b84520-3858-460a-af90-d73ec1dc8f4c\",\"attributes\":{\"tags\":[\"apply_ranges\"],\"x\":{\"type\":\"field\",\"field\":\"AGE\"},\"y\":{\"type\":\"field\",\"field\":\"len\"},\"line_color\":\"#e5ae38\",\"line_alpha\":0.2,\"line_width\":2}}}},{\"type\":\"object\",\"name\":\"GlyphRenderer\",\"id\":\"39ea2a72-81af-4826-a8c7-06fabb8ba017\",\"attributes\":{\"name\":\"2\",\"data_source\":{\"type\":\"object\",\"name\":\"ColumnDataSource\",\"id\":\"254b0a37-d3c8-4c36-b1ad-4500186a7f46\",\"attributes\":{\"selected\":{\"type\":\"object\",\"name\":\"Selection\",\"id\":\"c5cd3096-d891-468f-92fb-75a48168d15e\",\"attributes\":{\"indices\":[],\"line_indices\":[]}},\"selection_policy\":{\"type\":\"object\",\"name\":\"UnionRenderers\",\"id\":\"fc373085-424d-4c56-9859-1482fc7191b9\"},\"data\":{\"type\":\"map\",\"entries\":[[\"AGE\",{\"type\":\"ndarray\",\"array\":{\"type\":\"bytes\",\"data\":\"AAAAAAAAQEA=\"},\"shape\":[1],\"dtype\":\"float64\",\"order\":\"little\"}],[\"len\",{\"type\":\"ndarray\",\"array\":{\"type\":\"bytes\",\"data\":\"GAsAAA==\"},\"shape\":[1],\"dtype\":\"uint32\",\"order\":\"little\"}],[\"ILOSTAT\",[2]]]}}},\"view\":{\"type\":\"object\",\"name\":\"CDSView\",\"id\":\"16d8334a-a2e7-4c06-94c2-9e8221d3594d\",\"attributes\":{\"filter\":{\"type\":\"object\",\"name\":\"AllIndices\",\"id\":\"c098307a-60cb-490e-90fd-8a821bc8713f\"}}},\"glyph\":{\"type\":\"object\",\"name\":\"Line\",\"id\":\"5e632300-2762-4f78-9319-625e75d62b9a\",\"attributes\":{\"tags\":[\"apply_ranges\"],\"x\":{\"type\":\"field\",\"field\":\"AGE\"},\"y\":{\"type\":\"field\",\"field\":\"len\"},\"line_color\":\"#6d904f\",\"line_width\":2}},\"selection_glyph\":{\"type\":\"object\",\"name\":\"Line\",\"id\":\"2fe23ec3-01a7-40a7-ac47-25ef2fde551c\",\"attributes\":{\"tags\":[\"apply_ranges\"],\"x\":{\"type\":\"field\",\"field\":\"AGE\"},\"y\":{\"type\":\"field\",\"field\":\"len\"},\"line_color\":\"#6d904f\",\"line_width\":2}},\"nonselection_glyph\":{\"type\":\"object\",\"name\":\"Line\",\"id\":\"61d4b68e-0269-4903-ad08-4776bb5b8d7a\",\"attributes\":{\"tags\":[\"apply_ranges\"],\"x\":{\"type\":\"field\",\"field\":\"AGE\"},\"y\":{\"type\":\"field\",\"field\":\"len\"},\"line_color\":\"#6d904f\",\"line_alpha\":0.1,\"line_width\":2}},\"muted_glyph\":{\"type\":\"object\",\"name\":\"Line\",\"id\":\"18aaf124-8acb-47b2-a8bf-26b15a646892\",\"attributes\":{\"tags\":[\"apply_ranges\"],\"x\":{\"type\":\"field\",\"field\":\"AGE\"},\"y\":{\"type\":\"field\",\"field\":\"len\"},\"line_color\":\"#6d904f\",\"line_alpha\":0.2,\"line_width\":2}}}},{\"type\":\"object\",\"name\":\"GlyphRenderer\",\"id\":\"b534c964-7faa-4b2f-b670-386389e4c9cd\",\"attributes\":{\"name\":\"9\",\"data_source\":{\"type\":\"object\",\"name\":\"ColumnDataSource\",\"id\":\"5b580190-5f16-4bf3-b2fb-1730ab8e1475\",\"attributes\":{\"selected\":{\"type\":\"object\",\"name\":\"Selection\",\"id\":\"e99738d7-9713-4cee-afb0-f4bf12350678\",\"attributes\":{\"indices\":[],\"line_indices\":[]}},\"selection_policy\":{\"type\":\"object\",\"name\":\"UnionRenderers\",\"id\":\"93daf065-6cb8-4d20-a86e-34dcaf018cdb\"},\"data\":{\"type\":\"map\",\"entries\":[[\"AGE\",{\"type\":\"ndarray\",\"array\":{\"type\":\"bytes\",\"data\":\"AAAAAAAAHEA=\"},\"shape\":[1],\"dtype\":\"float64\",\"order\":\"little\"}],[\"len\",{\"type\":\"ndarray\",\"array\":{\"type\":\"bytes\",\"data\":\"9owAAA==\"},\"shape\":[1],\"dtype\":\"uint32\",\"order\":\"little\"}],[\"ILOSTAT\",[9]]]}}},\"view\":{\"type\":\"object\",\"name\":\"CDSView\",\"id\":\"d06a4c8a-6bf3-439e-b5c2-c7974cb507d7\",\"attributes\":{\"filter\":{\"type\":\"object\",\"name\":\"AllIndices\",\"id\":\"6cee3cb4-6a63-406f-a3bc-4649c91abc48\"}}},\"glyph\":{\"type\":\"object\",\"name\":\"Scatter\",\"id\":\"2031cdac-7f52-45ed-9bd2-724364682398\",\"attributes\":{\"tags\":[\"apply_ranges\"],\"x\":{\"type\":\"field\",\"field\":\"AGE\"},\"y\":{\"type\":\"field\",\"field\":\"len\"},\"size\":{\"type\":\"value\",\"value\":5.477225575051661},\"line_color\":{\"type\":\"value\",\"value\":\"#30a2da\"},\"fill_color\":{\"type\":\"value\",\"value\":\"#30a2da\"},\"hatch_color\":{\"type\":\"value\",\"value\":\"#30a2da\"}}},\"selection_glyph\":{\"type\":\"object\",\"name\":\"Scatter\",\"id\":\"008cbbc2-aff8-407c-ae61-65ff59f0634d\",\"attributes\":{\"tags\":[\"apply_ranges\"],\"x\":{\"type\":\"field\",\"field\":\"AGE\"},\"y\":{\"type\":\"field\",\"field\":\"len\"},\"size\":{\"type\":\"value\",\"value\":5.477225575051661},\"angle\":{\"type\":\"value\",\"value\":0.0},\"line_color\":{\"type\":\"value\",\"value\":\"#30a2da\"},\"line_alpha\":{\"type\":\"value\",\"value\":1.0},\"line_width\":{\"type\":\"value\",\"value\":1},\"line_join\":{\"type\":\"value\",\"value\":\"bevel\"},\"line_cap\":{\"type\":\"value\",\"value\":\"butt\"},\"line_dash\":{\"type\":\"value\",\"value\":[]},\"line_dash_offset\":{\"type\":\"value\",\"value\":0},\"fill_color\":{\"type\":\"value\",\"value\":\"#30a2da\"},\"fill_alpha\":{\"type\":\"value\",\"value\":1.0},\"hatch_color\":{\"type\":\"value\",\"value\":\"#30a2da\"},\"hatch_alpha\":{\"type\":\"value\",\"value\":1.0},\"hatch_scale\":{\"type\":\"value\",\"value\":12.0},\"hatch_pattern\":{\"type\":\"value\",\"value\":null},\"hatch_weight\":{\"type\":\"value\",\"value\":1.0},\"marker\":{\"type\":\"value\",\"value\":\"circle\"}}},\"nonselection_glyph\":{\"type\":\"object\",\"name\":\"Scatter\",\"id\":\"6a61e1b6-cfa3-4812-a3cf-07f1a5c478af\",\"attributes\":{\"tags\":[\"apply_ranges\"],\"x\":{\"type\":\"field\",\"field\":\"AGE\"},\"y\":{\"type\":\"field\",\"field\":\"len\"},\"size\":{\"type\":\"value\",\"value\":5.477225575051661},\"line_color\":{\"type\":\"value\",\"value\":\"#30a2da\"},\"line_alpha\":{\"type\":\"value\",\"value\":0.1},\"fill_color\":{\"type\":\"value\",\"value\":\"#30a2da\"},\"fill_alpha\":{\"type\":\"value\",\"value\":0.1},\"hatch_color\":{\"type\":\"value\",\"value\":\"#30a2da\"},\"hatch_alpha\":{\"type\":\"value\",\"value\":0.1}}},\"muted_glyph\":{\"type\":\"object\",\"name\":\"Scatter\",\"id\":\"2ea5e7ca-8386-497b-88d5-85fdb4a2105d\",\"attributes\":{\"tags\":[\"apply_ranges\"],\"x\":{\"type\":\"field\",\"field\":\"AGE\"},\"y\":{\"type\":\"field\",\"field\":\"len\"},\"size\":{\"type\":\"value\",\"value\":5.477225575051661},\"line_color\":{\"type\":\"value\",\"value\":\"#30a2da\"},\"line_alpha\":{\"type\":\"value\",\"value\":0.2},\"fill_color\":{\"type\":\"value\",\"value\":\"#30a2da\"},\"fill_alpha\":{\"type\":\"value\",\"value\":0.2},\"hatch_color\":{\"type\":\"value\",\"value\":\"#30a2da\"},\"hatch_alpha\":{\"type\":\"value\",\"value\":0.2}}}}},{\"type\":\"object\",\"name\":\"GlyphRenderer\",\"id\":\"2f64a468-18c5-4a4e-9ba9-c4ab118ac495\",\"attributes\":{\"name\":\"1\",\"data_source\":{\"type\":\"object\",\"name\":\"ColumnDataSource\",\"id\":\"4709688b-0a7a-4ab4-9c47-6549a5f37374\",\"attributes\":{\"selected\":{\"type\":\"object\",\"name\":\"Selection\",\"id\":\"90f014eb-7e52-4fde-99dd-b9c256963144\",\"attributes\":{\"indices\":[],\"line_indices\":[]}},\"selection_policy\":{\"type\":\"object\",\"name\":\"UnionRenderers\",\"id\":\"a34e83a1-9243-4758-825a-bb8f7cbf5628\"},\"data\":{\"type\":\"map\",\"entries\":[[\"AGE\",{\"type\":\"ndarray\",\"array\":{\"type\":\"bytes\",\"data\":\"AAAAAAAANEAAAAAAAABAQAAAAAAAgEdAAAAAAABAUEA=\"},\"shape\":[4],\"dtype\":\"float64\",\"order\":\"little\"}],[\"len\",{\"type\":\"ndarray\",\"array\":{\"type\":\"bytes\",\"data\":\"uxsAAExtAABIhQAAsSkAAA==\"},\"shape\":[4],\"dtype\":\"uint32\",\"order\":\"little\"}],[\"ILOSTAT\",[1,1,1,1]]]}}},\"view\":{\"type\":\"object\",\"name\":\"CDSView\",\"id\":\"6c56073f-c7dc-4714-8dea-e53769977160\",\"attributes\":{\"filter\":{\"type\":\"object\",\"name\":\"AllIndices\",\"id\":\"075451ce-f648-4a58-8ea8-4794408b7c07\"}}},\"glyph\":{\"type\":\"object\",\"name\":\"Scatter\",\"id\":\"955a2554-ee0f-480f-873d-dc91b02ab6e8\",\"attributes\":{\"tags\":[\"apply_ranges\"],\"x\":{\"type\":\"field\",\"field\":\"AGE\"},\"y\":{\"type\":\"field\",\"field\":\"len\"},\"size\":{\"type\":\"value\",\"value\":5.477225575051661},\"line_color\":{\"type\":\"value\",\"value\":\"#fc4f30\"},\"fill_color\":{\"type\":\"value\",\"value\":\"#fc4f30\"},\"hatch_color\":{\"type\":\"value\",\"value\":\"#fc4f30\"}}},\"selection_glyph\":{\"type\":\"object\",\"name\":\"Scatter\",\"id\":\"29785780-c83a-4835-ab93-5b16727676f6\",\"attributes\":{\"tags\":[\"apply_ranges\"],\"x\":{\"type\":\"field\",\"field\":\"AGE\"},\"y\":{\"type\":\"field\",\"field\":\"len\"},\"size\":{\"type\":\"value\",\"value\":5.477225575051661},\"angle\":{\"type\":\"value\",\"value\":0.0},\"line_color\":{\"type\":\"value\",\"value\":\"#fc4f30\"},\"line_alpha\":{\"type\":\"value\",\"value\":1.0},\"line_width\":{\"type\":\"value\",\"value\":1},\"line_join\":{\"type\":\"value\",\"value\":\"bevel\"},\"line_cap\":{\"type\":\"value\",\"value\":\"butt\"},\"line_dash\":{\"type\":\"value\",\"value\":[]},\"line_dash_offset\":{\"type\":\"value\",\"value\":0},\"fill_color\":{\"type\":\"value\",\"value\":\"#fc4f30\"},\"fill_alpha\":{\"type\":\"value\",\"value\":1.0},\"hatch_color\":{\"type\":\"value\",\"value\":\"#fc4f30\"},\"hatch_alpha\":{\"type\":\"value\",\"value\":1.0},\"hatch_scale\":{\"type\":\"value\",\"value\":12.0},\"hatch_pattern\":{\"type\":\"value\",\"value\":null},\"hatch_weight\":{\"type\":\"value\",\"value\":1.0},\"marker\":{\"type\":\"value\",\"value\":\"circle\"}}},\"nonselection_glyph\":{\"type\":\"object\",\"name\":\"Scatter\",\"id\":\"f6885da6-13f4-4e12-a751-5f75d2d54e75\",\"attributes\":{\"tags\":[\"apply_ranges\"],\"x\":{\"type\":\"field\",\"field\":\"AGE\"},\"y\":{\"type\":\"field\",\"field\":\"len\"},\"size\":{\"type\":\"value\",\"value\":5.477225575051661},\"line_color\":{\"type\":\"value\",\"value\":\"#fc4f30\"},\"line_alpha\":{\"type\":\"value\",\"value\":0.1},\"fill_color\":{\"type\":\"value\",\"value\":\"#fc4f30\"},\"fill_alpha\":{\"type\":\"value\",\"value\":0.1},\"hatch_color\":{\"type\":\"value\",\"value\":\"#fc4f30\"},\"hatch_alpha\":{\"type\":\"value\",\"value\":0.1}}},\"muted_glyph\":{\"type\":\"object\",\"name\":\"Scatter\",\"id\":\"bbc5c984-b65b-4ed9-8d99-cad968e4ae3f\",\"attributes\":{\"tags\":[\"apply_ranges\"],\"x\":{\"type\":\"field\",\"field\":\"AGE\"},\"y\":{\"type\":\"field\",\"field\":\"len\"},\"size\":{\"type\":\"value\",\"value\":5.477225575051661},\"line_color\":{\"type\":\"value\",\"value\":\"#fc4f30\"},\"line_alpha\":{\"type\":\"value\",\"value\":0.2},\"fill_color\":{\"type\":\"value\",\"value\":\"#fc4f30\"},\"fill_alpha\":{\"type\":\"value\",\"value\":0.2},\"hatch_color\":{\"type\":\"value\",\"value\":\"#fc4f30\"},\"hatch_alpha\":{\"type\":\"value\",\"value\":0.2}}}}},{\"type\":\"object\",\"name\":\"GlyphRenderer\",\"id\":\"e3b34d4e-8616-49b3-a202-24aaca3b617d\",\"attributes\":{\"name\":\"3\",\"data_source\":{\"type\":\"object\",\"name\":\"ColumnDataSource\",\"id\":\"43c06311-ddba-48e3-a36e-f5fbf11d9c5f\",\"attributes\":{\"selected\":{\"type\":\"object\",\"name\":\"Selection\",\"id\":\"8506fefa-6b6e-482c-aca6-7b31535bceca\",\"attributes\":{\"indices\":[],\"line_indices\":[]}},\"selection_policy\":{\"type\":\"object\",\"name\":\"UnionRenderers\",\"id\":\"9d81967f-3f60-4449-80de-8e110af07cac\"},\"data\":{\"type\":\"map\",\"entries\":[[\"AGE\",{\"type\":\"ndarray\",\"array\":{\"type\":\"bytes\",\"data\":\"AAAAAAAANEAAAAAAAABAQAAAAAAAgEdAAAAAAABAUEAAAAAAAMBSQA==\"},\"shape\":[5],\"dtype\":\"float64\",\"order\":\"little\"}],[\"len\",{\"type\":\"ndarray\",\"array\":{\"type\":\"bytes\",\"data\":\"qz0AAH4RAACqFAAAuX4AAJhHAAA=\"},\"shape\":[5],\"dtype\":\"uint32\",\"order\":\"little\"}],[\"ILOSTAT\",[3,3,3,3,3]]]}}},\"view\":{\"type\":\"object\",\"name\":\"CDSView\",\"id\":\"e1b9a388-2e53-46d0-84e3-880d1f9e7c79\",\"attributes\":{\"filter\":{\"type\":\"object\",\"name\":\"AllIndices\",\"id\":\"a523ea99-b748-46b1-820c-507686c6fc65\"}}},\"glyph\":{\"type\":\"object\",\"name\":\"Scatter\",\"id\":\"a5cfb83d-9c6c-4020-a709-14e8274aaf4d\",\"attributes\":{\"tags\":[\"apply_ranges\"],\"x\":{\"type\":\"field\",\"field\":\"AGE\"},\"y\":{\"type\":\"field\",\"field\":\"len\"},\"size\":{\"type\":\"value\",\"value\":5.477225575051661},\"line_color\":{\"type\":\"value\",\"value\":\"#e5ae38\"},\"fill_color\":{\"type\":\"value\",\"value\":\"#e5ae38\"},\"hatch_color\":{\"type\":\"value\",\"value\":\"#e5ae38\"}}},\"selection_glyph\":{\"type\":\"object\",\"name\":\"Scatter\",\"id\":\"3f06b291-75ac-4ebb-98d7-2dcfb6a44d2d\",\"attributes\":{\"tags\":[\"apply_ranges\"],\"x\":{\"type\":\"field\",\"field\":\"AGE\"},\"y\":{\"type\":\"field\",\"field\":\"len\"},\"size\":{\"type\":\"value\",\"value\":5.477225575051661},\"angle\":{\"type\":\"value\",\"value\":0.0},\"line_color\":{\"type\":\"value\",\"value\":\"#e5ae38\"},\"line_alpha\":{\"type\":\"value\",\"value\":1.0},\"line_width\":{\"type\":\"value\",\"value\":1},\"line_join\":{\"type\":\"value\",\"value\":\"bevel\"},\"line_cap\":{\"type\":\"value\",\"value\":\"butt\"},\"line_dash\":{\"type\":\"value\",\"value\":[]},\"line_dash_offset\":{\"type\":\"value\",\"value\":0},\"fill_color\":{\"type\":\"value\",\"value\":\"#e5ae38\"},\"fill_alpha\":{\"type\":\"value\",\"value\":1.0},\"hatch_color\":{\"type\":\"value\",\"value\":\"#e5ae38\"},\"hatch_alpha\":{\"type\":\"value\",\"value\":1.0},\"hatch_scale\":{\"type\":\"value\",\"value\":12.0},\"hatch_pattern\":{\"type\":\"value\",\"value\":null},\"hatch_weight\":{\"type\":\"value\",\"value\":1.0},\"marker\":{\"type\":\"value\",\"value\":\"circle\"}}},\"nonselection_glyph\":{\"type\":\"object\",\"name\":\"Scatter\",\"id\":\"78f116ba-c996-42d0-a06a-357d0448bcab\",\"attributes\":{\"tags\":[\"apply_ranges\"],\"x\":{\"type\":\"field\",\"field\":\"AGE\"},\"y\":{\"type\":\"field\",\"field\":\"len\"},\"size\":{\"type\":\"value\",\"value\":5.477225575051661},\"line_color\":{\"type\":\"value\",\"value\":\"#e5ae38\"},\"line_alpha\":{\"type\":\"value\",\"value\":0.1},\"fill_color\":{\"type\":\"value\",\"value\":\"#e5ae38\"},\"fill_alpha\":{\"type\":\"value\",\"value\":0.1},\"hatch_color\":{\"type\":\"value\",\"value\":\"#e5ae38\"},\"hatch_alpha\":{\"type\":\"value\",\"value\":0.1}}},\"muted_glyph\":{\"type\":\"object\",\"name\":\"Scatter\",\"id\":\"3d96858f-f3b1-4a5d-8592-b1c83a5d8484\",\"attributes\":{\"tags\":[\"apply_ranges\"],\"x\":{\"type\":\"field\",\"field\":\"AGE\"},\"y\":{\"type\":\"field\",\"field\":\"len\"},\"size\":{\"type\":\"value\",\"value\":5.477225575051661},\"line_color\":{\"type\":\"value\",\"value\":\"#e5ae38\"},\"line_alpha\":{\"type\":\"value\",\"value\":0.2},\"fill_color\":{\"type\":\"value\",\"value\":\"#e5ae38\"},\"fill_alpha\":{\"type\":\"value\",\"value\":0.2},\"hatch_color\":{\"type\":\"value\",\"value\":\"#e5ae38\"},\"hatch_alpha\":{\"type\":\"value\",\"value\":0.2}}}}},{\"type\":\"object\",\"name\":\"GlyphRenderer\",\"id\":\"9e1a5f76-34ff-419e-9524-a989bac35e7a\",\"attributes\":{\"name\":\"2\",\"data_source\":{\"type\":\"object\",\"name\":\"ColumnDataSource\",\"id\":\"1d65eb1d-cfc3-48ac-9dd2-5df1adb62878\",\"attributes\":{\"selected\":{\"type\":\"object\",\"name\":\"Selection\",\"id\":\"f0d8eff6-fba3-4b3a-8db9-35b9cd60b19e\",\"attributes\":{\"indices\":[],\"line_indices\":[]}},\"selection_policy\":{\"type\":\"object\",\"name\":\"UnionRenderers\",\"id\":\"58d31608-67cc-4533-98a2-7be300bfc168\"},\"data\":{\"type\":\"map\",\"entries\":[[\"AGE\",{\"type\":\"ndarray\",\"array\":{\"type\":\"bytes\",\"data\":\"AAAAAAAAQEA=\"},\"shape\":[1],\"dtype\":\"float64\",\"order\":\"little\"}],[\"len\",{\"type\":\"ndarray\",\"array\":{\"type\":\"bytes\",\"data\":\"GAsAAA==\"},\"shape\":[1],\"dtype\":\"uint32\",\"order\":\"little\"}],[\"ILOSTAT\",[2]]]}}},\"view\":{\"type\":\"object\",\"name\":\"CDSView\",\"id\":\"4bec71fa-3fa3-4232-ba3e-31e4235ad3d4\",\"attributes\":{\"filter\":{\"type\":\"object\",\"name\":\"AllIndices\",\"id\":\"8360891d-a6e5-4bf3-b819-cfe1986d8282\"}}},\"glyph\":{\"type\":\"object\",\"name\":\"Scatter\",\"id\":\"47664e37-4fec-4da9-a7f4-a92c3dd066c1\",\"attributes\":{\"tags\":[\"apply_ranges\"],\"x\":{\"type\":\"field\",\"field\":\"AGE\"},\"y\":{\"type\":\"field\",\"field\":\"len\"},\"size\":{\"type\":\"value\",\"value\":5.477225575051661},\"line_color\":{\"type\":\"value\",\"value\":\"#6d904f\"},\"fill_color\":{\"type\":\"value\",\"value\":\"#6d904f\"},\"hatch_color\":{\"type\":\"value\",\"value\":\"#6d904f\"}}},\"selection_glyph\":{\"type\":\"object\",\"name\":\"Scatter\",\"id\":\"aba47e62-2200-44d5-9e4e-1539bc5a13b4\",\"attributes\":{\"tags\":[\"apply_ranges\"],\"x\":{\"type\":\"field\",\"field\":\"AGE\"},\"y\":{\"type\":\"field\",\"field\":\"len\"},\"size\":{\"type\":\"value\",\"value\":5.477225575051661},\"angle\":{\"type\":\"value\",\"value\":0.0},\"line_color\":{\"type\":\"value\",\"value\":\"#6d904f\"},\"line_alpha\":{\"type\":\"value\",\"value\":1.0},\"line_width\":{\"type\":\"value\",\"value\":1},\"line_join\":{\"type\":\"value\",\"value\":\"bevel\"},\"line_cap\":{\"type\":\"value\",\"value\":\"butt\"},\"line_dash\":{\"type\":\"value\",\"value\":[]},\"line_dash_offset\":{\"type\":\"value\",\"value\":0},\"fill_color\":{\"type\":\"value\",\"value\":\"#6d904f\"},\"fill_alpha\":{\"type\":\"value\",\"value\":1.0},\"hatch_color\":{\"type\":\"value\",\"value\":\"#6d904f\"},\"hatch_alpha\":{\"type\":\"value\",\"value\":1.0},\"hatch_scale\":{\"type\":\"value\",\"value\":12.0},\"hatch_pattern\":{\"type\":\"value\",\"value\":null},\"hatch_weight\":{\"type\":\"value\",\"value\":1.0},\"marker\":{\"type\":\"value\",\"value\":\"circle\"}}},\"nonselection_glyph\":{\"type\":\"object\",\"name\":\"Scatter\",\"id\":\"a403aac3-04ff-44c1-9844-1ff240633f0f\",\"attributes\":{\"tags\":[\"apply_ranges\"],\"x\":{\"type\":\"field\",\"field\":\"AGE\"},\"y\":{\"type\":\"field\",\"field\":\"len\"},\"size\":{\"type\":\"value\",\"value\":5.477225575051661},\"line_color\":{\"type\":\"value\",\"value\":\"#6d904f\"},\"line_alpha\":{\"type\":\"value\",\"value\":0.1},\"fill_color\":{\"type\":\"value\",\"value\":\"#6d904f\"},\"fill_alpha\":{\"type\":\"value\",\"value\":0.1},\"hatch_color\":{\"type\":\"value\",\"value\":\"#6d904f\"},\"hatch_alpha\":{\"type\":\"value\",\"value\":0.1}}},\"muted_glyph\":{\"type\":\"object\",\"name\":\"Scatter\",\"id\":\"8e7043bb-9f32-4f4f-9f38-b838bf6c2f87\",\"attributes\":{\"tags\":[\"apply_ranges\"],\"x\":{\"type\":\"field\",\"field\":\"AGE\"},\"y\":{\"type\":\"field\",\"field\":\"len\"},\"size\":{\"type\":\"value\",\"value\":5.477225575051661},\"line_color\":{\"type\":\"value\",\"value\":\"#6d904f\"},\"line_alpha\":{\"type\":\"value\",\"value\":0.2},\"fill_color\":{\"type\":\"value\",\"value\":\"#6d904f\"},\"fill_alpha\":{\"type\":\"value\",\"value\":0.2},\"hatch_color\":{\"type\":\"value\",\"value\":\"#6d904f\"},\"hatch_alpha\":{\"type\":\"value\",\"value\":0.2}}}}}],\"toolbar\":{\"type\":\"object\",\"name\":\"Toolbar\",\"id\":\"0791fed7-b884-4950-a613-f32202135a40\",\"attributes\":{\"tools\":[{\"type\":\"object\",\"name\":\"WheelZoomTool\",\"id\":\"88a9d4e4-94ba-4617-a0fb-449cafe9ef48\",\"attributes\":{\"tags\":[\"hv_created\"],\"renderers\":\"auto\",\"zoom_together\":\"none\"}},{\"type\":\"object\",\"name\":\"HoverTool\",\"id\":\"f43cb275-53c0-45c2-85b0-d7a7c699a59c\",\"attributes\":{\"tags\":[\"hv_created\"],\"renderers\":[{\"id\":\"078a8f4f-11a4-4322-b5df-a163b80a75da\"},{\"id\":\"ca2d09d7-a586-492d-a94e-ed183ec3619a\"},{\"id\":\"cd7113f7-baa3-4067-9a99-99dfc7c6fa1a\"},{\"id\":\"39ea2a72-81af-4826-a8c7-06fabb8ba017\"},{\"id\":\"b534c964-7faa-4b2f-b670-386389e4c9cd\"},{\"id\":\"2f64a468-18c5-4a4e-9ba9-c4ab118ac495\"},{\"id\":\"e3b34d4e-8616-49b3-a202-24aaca3b617d\"},{\"id\":\"9e1a5f76-34ff-419e-9524-a989bac35e7a\"}],\"tooltips\":[[\"ILOSTAT\",\"@{ILOSTAT}\"],[\"AGE\",\"@{AGE}\"],[\"len\",\"@{len}\"]]}},{\"type\":\"object\",\"name\":\"SaveTool\",\"id\":\"48ca3f8d-f288-4136-b14b-6e85fc9aeeb4\"},{\"type\":\"object\",\"name\":\"PanTool\",\"id\":\"745bdcc5-72df-49fc-bfd7-20f9ac9f00c7\"},{\"type\":\"object\",\"name\":\"BoxZoomTool\",\"id\":\"37905ae6-5c36-4753-953e-c4f430209aab\",\"attributes\":{\"overlay\":{\"type\":\"object\",\"name\":\"BoxAnnotation\",\"id\":\"adfd5bef-4703-4aaa-b1a8-5d2d4cfb88ce\",\"attributes\":{\"syncable\":false,\"line_color\":\"black\",\"line_alpha\":1.0,\"line_width\":2,\"line_dash\":[4,4],\"fill_color\":\"lightgrey\",\"fill_alpha\":0.5,\"level\":\"overlay\",\"visible\":false,\"left\":{\"type\":\"number\",\"value\":\"nan\"},\"right\":{\"type\":\"number\",\"value\":\"nan\"},\"top\":{\"type\":\"number\",\"value\":\"nan\"},\"bottom\":{\"type\":\"number\",\"value\":\"nan\"},\"left_units\":\"canvas\",\"right_units\":\"canvas\",\"top_units\":\"canvas\",\"bottom_units\":\"canvas\",\"handles\":{\"type\":\"object\",\"name\":\"BoxInteractionHandles\",\"id\":\"1d41a2df-3c2a-492b-b7f0-6a33d9aa5a6c\",\"attributes\":{\"all\":{\"type\":\"object\",\"name\":\"AreaVisuals\",\"id\":\"a311e4db-1e41-4a9a-997f-4f81e2007dc0\",\"attributes\":{\"fill_color\":\"white\",\"hover_fill_color\":\"lightgray\"}}}}}}}},{\"type\":\"object\",\"name\":\"ResetTool\",\"id\":\"6ba1e340-4715-43a1-b881-4ad0e1f66c99\"}],\"active_drag\":{\"id\":\"745bdcc5-72df-49fc-bfd7-20f9ac9f00c7\"},\"active_scroll\":{\"id\":\"88a9d4e4-94ba-4617-a0fb-449cafe9ef48\"}}},\"left\":[{\"type\":\"object\",\"name\":\"LinearAxis\",\"id\":\"41dc92dd-938e-496e-aed9-ae357bff092b\",\"attributes\":{\"ticker\":{\"type\":\"object\",\"name\":\"BasicTicker\",\"id\":\"49b36fa4-8d9b-4f67-8bde-17ca41ffd96a\",\"attributes\":{\"mantissas\":[1,2,5]}},\"formatter\":{\"type\":\"object\",\"name\":\"BasicTickFormatter\",\"id\":\"cbccd305-48ea-4c81-9079-a3c0fad49b23\"},\"axis_label\":\"len\",\"major_label_policy\":{\"type\":\"object\",\"name\":\"AllLabels\",\"id\":\"b3fd3539-d6c7-4dd8-825a-40ece4b1dc59\"}}}],\"right\":[{\"type\":\"object\",\"name\":\"Legend\",\"id\":\"9dba426d-8162-49cd-8fca-9c5a01b259ed\",\"attributes\":{\"location\":[0,0],\"click_policy\":\"mute\",\"items\":[{\"type\":\"object\",\"name\":\"LegendItem\",\"id\":\"95f5155a-7b3f-4c1f-9a69-9a4c30cd8b58\",\"attributes\":{\"label\":{\"type\":\"value\",\"value\":\"9\"},\"renderers\":[{\"id\":\"078a8f4f-11a4-4322-b5df-a163b80a75da\"},{\"id\":\"b534c964-7faa-4b2f-b670-386389e4c9cd\"}]}},{\"type\":\"object\",\"name\":\"LegendItem\",\"id\":\"1ef9a276-d13c-4887-ab05-038a33e55798\",\"attributes\":{\"label\":{\"type\":\"value\",\"value\":\"1\"},\"renderers\":[{\"id\":\"ca2d09d7-a586-492d-a94e-ed183ec3619a\"},{\"id\":\"2f64a468-18c5-4a4e-9ba9-c4ab118ac495\"}]}},{\"type\":\"object\",\"name\":\"LegendItem\",\"id\":\"3288ac6b-3044-4033-b76b-19719874d319\",\"attributes\":{\"label\":{\"type\":\"value\",\"value\":\"3\"},\"renderers\":[{\"id\":\"cd7113f7-baa3-4067-9a99-99dfc7c6fa1a\"},{\"id\":\"e3b34d4e-8616-49b3-a202-24aaca3b617d\"}]}},{\"type\":\"object\",\"name\":\"LegendItem\",\"id\":\"266def5a-9b15-4c6c-98f9-4022998aa54a\",\"attributes\":{\"label\":{\"type\":\"value\",\"value\":\"2\"},\"renderers\":[{\"id\":\"39ea2a72-81af-4826-a8c7-06fabb8ba017\"},{\"id\":\"9e1a5f76-34ff-419e-9524-a989bac35e7a\"}]}}]}}],\"below\":[{\"type\":\"object\",\"name\":\"LinearAxis\",\"id\":\"3d8d6cb7-fc48-46f3-895d-b96df47374e7\",\"attributes\":{\"ticker\":{\"type\":\"object\",\"name\":\"BasicTicker\",\"id\":\"8e0fe653-ac2b-4e18-b617-933138c57e6f\",\"attributes\":{\"mantissas\":[1,2,5]}},\"formatter\":{\"type\":\"object\",\"name\":\"BasicTickFormatter\",\"id\":\"4eca82a2-4d03-4af4-8e8f-9f6b9278ef66\"},\"axis_label\":\"AGE\",\"major_label_policy\":{\"type\":\"object\",\"name\":\"AllLabels\",\"id\":\"d00b539b-53a7-49ba-a41d-a07220093b46\"}}}],\"center\":[{\"type\":\"object\",\"name\":\"Grid\",\"id\":\"74b67df5-9010-4623-a9b1-17240dedfd1f\",\"attributes\":{\"axis\":{\"id\":\"3d8d6cb7-fc48-46f3-895d-b96df47374e7\"},\"grid_line_color\":null}},{\"type\":\"object\",\"name\":\"Grid\",\"id\":\"567017a9-1eb7-413e-963c-709d7553c794\",\"attributes\":{\"dimension\":1,\"axis\":{\"id\":\"41dc92dd-938e-496e-aed9-ae357bff092b\"},\"grid_line_color\":null}}],\"min_border_top\":10,\"min_border_bottom\":10,\"min_border_left\":10,\"min_border_right\":10,\"output_backend\":\"webgl\"}},{\"type\":\"object\",\"name\":\"Spacer\",\"id\":\"e8461b2f-f921-4325-8960-73b1d6fb23d5\",\"attributes\":{\"name\":\"HSpacer00363\",\"stylesheets\":[\"\\n:host(.pn-loading):before, .pn-loading:before {\\n  background-color: #c3c3c3;\\n  mask-size: auto calc(min(50%, 400px));\\n  -webkit-mask-size: auto calc(min(50%, 400px));\\n}\",{\"id\":\"fc927929-71e7-4f06-b5bf-d93eac7d2ba3\"},{\"id\":\"a59bb3fe-7012-4c1c-b7af-c054af0acb02\"},{\"id\":\"bd97acf1-5e1f-4355-9083-8cb90ec5ac94\"}],\"margin\":0,\"sizing_mode\":\"stretch_width\",\"align\":\"start\"}}]}}],\"defs\":[{\"type\":\"model\",\"name\":\"ReactiveHTML1\"},{\"type\":\"model\",\"name\":\"FlexBox1\",\"properties\":[{\"name\":\"align_content\",\"kind\":\"Any\",\"default\":\"flex-start\"},{\"name\":\"align_items\",\"kind\":\"Any\",\"default\":\"flex-start\"},{\"name\":\"flex_direction\",\"kind\":\"Any\",\"default\":\"row\"},{\"name\":\"flex_wrap\",\"kind\":\"Any\",\"default\":\"wrap\"},{\"name\":\"gap\",\"kind\":\"Any\",\"default\":\"\"},{\"name\":\"justify_content\",\"kind\":\"Any\",\"default\":\"flex-start\"}]},{\"type\":\"model\",\"name\":\"FloatPanel1\",\"properties\":[{\"name\":\"config\",\"kind\":\"Any\",\"default\":{\"type\":\"map\"}},{\"name\":\"contained\",\"kind\":\"Any\",\"default\":true},{\"name\":\"position\",\"kind\":\"Any\",\"default\":\"right-top\"},{\"name\":\"offsetx\",\"kind\":\"Any\",\"default\":null},{\"name\":\"offsety\",\"kind\":\"Any\",\"default\":null},{\"name\":\"theme\",\"kind\":\"Any\",\"default\":\"primary\"},{\"name\":\"status\",\"kind\":\"Any\",\"default\":\"normalized\"}]},{\"type\":\"model\",\"name\":\"GridStack1\",\"properties\":[{\"name\":\"mode\",\"kind\":\"Any\",\"default\":\"warn\"},{\"name\":\"ncols\",\"kind\":\"Any\",\"default\":null},{\"name\":\"nrows\",\"kind\":\"Any\",\"default\":null},{\"name\":\"allow_resize\",\"kind\":\"Any\",\"default\":true},{\"name\":\"allow_drag\",\"kind\":\"Any\",\"default\":true},{\"name\":\"state\",\"kind\":\"Any\",\"default\":[]}]},{\"type\":\"model\",\"name\":\"drag1\",\"properties\":[{\"name\":\"slider_width\",\"kind\":\"Any\",\"default\":5},{\"name\":\"slider_color\",\"kind\":\"Any\",\"default\":\"black\"},{\"name\":\"value\",\"kind\":\"Any\",\"default\":50}]},{\"type\":\"model\",\"name\":\"click1\",\"properties\":[{\"name\":\"terminal_output\",\"kind\":\"Any\",\"default\":\"\"},{\"name\":\"debug_name\",\"kind\":\"Any\",\"default\":\"\"},{\"name\":\"clears\",\"kind\":\"Any\",\"default\":0}]},{\"type\":\"model\",\"name\":\"FastWrapper1\",\"properties\":[{\"name\":\"object\",\"kind\":\"Any\",\"default\":null},{\"name\":\"style\",\"kind\":\"Any\",\"default\":null}]},{\"type\":\"model\",\"name\":\"NotificationAreaBase1\",\"properties\":[{\"name\":\"js_events\",\"kind\":\"Any\",\"default\":{\"type\":\"map\"}},{\"name\":\"position\",\"kind\":\"Any\",\"default\":\"bottom-right\"},{\"name\":\"_clear\",\"kind\":\"Any\",\"default\":0}]},{\"type\":\"model\",\"name\":\"NotificationArea1\",\"properties\":[{\"name\":\"js_events\",\"kind\":\"Any\",\"default\":{\"type\":\"map\"}},{\"name\":\"notifications\",\"kind\":\"Any\",\"default\":[]},{\"name\":\"position\",\"kind\":\"Any\",\"default\":\"bottom-right\"},{\"name\":\"_clear\",\"kind\":\"Any\",\"default\":0},{\"name\":\"types\",\"kind\":\"Any\",\"default\":[{\"type\":\"map\",\"entries\":[[\"type\",\"warning\"],[\"background\",\"#ffc107\"],[\"icon\",{\"type\":\"map\",\"entries\":[[\"className\",\"fas fa-exclamation-triangle\"],[\"tagName\",\"i\"],[\"color\",\"white\"]]}]]},{\"type\":\"map\",\"entries\":[[\"type\",\"info\"],[\"background\",\"#007bff\"],[\"icon\",{\"type\":\"map\",\"entries\":[[\"className\",\"fas fa-info-circle\"],[\"tagName\",\"i\"],[\"color\",\"white\"]]}]]}]}]},{\"type\":\"model\",\"name\":\"Notification\",\"properties\":[{\"name\":\"background\",\"kind\":\"Any\",\"default\":null},{\"name\":\"duration\",\"kind\":\"Any\",\"default\":3000},{\"name\":\"icon\",\"kind\":\"Any\",\"default\":null},{\"name\":\"message\",\"kind\":\"Any\",\"default\":\"\"},{\"name\":\"notification_type\",\"kind\":\"Any\",\"default\":null},{\"name\":\"_destroyed\",\"kind\":\"Any\",\"default\":false}]},{\"type\":\"model\",\"name\":\"TemplateActions1\",\"properties\":[{\"name\":\"open_modal\",\"kind\":\"Any\",\"default\":0},{\"name\":\"close_modal\",\"kind\":\"Any\",\"default\":0}]},{\"type\":\"model\",\"name\":\"BootstrapTemplateActions1\",\"properties\":[{\"name\":\"open_modal\",\"kind\":\"Any\",\"default\":0},{\"name\":\"close_modal\",\"kind\":\"Any\",\"default\":0}]},{\"type\":\"model\",\"name\":\"TemplateEditor1\",\"properties\":[{\"name\":\"layout\",\"kind\":\"Any\",\"default\":[]}]},{\"type\":\"model\",\"name\":\"MaterialTemplateActions1\",\"properties\":[{\"name\":\"open_modal\",\"kind\":\"Any\",\"default\":0},{\"name\":\"close_modal\",\"kind\":\"Any\",\"default\":0}]},{\"type\":\"model\",\"name\":\"ReactiveESM1\",\"properties\":[{\"name\":\"esm_constants\",\"kind\":\"Any\",\"default\":{\"type\":\"map\"}}]},{\"type\":\"model\",\"name\":\"JSComponent1\",\"properties\":[{\"name\":\"esm_constants\",\"kind\":\"Any\",\"default\":{\"type\":\"map\"}}]},{\"type\":\"model\",\"name\":\"ReactComponent1\",\"properties\":[{\"name\":\"esm_constants\",\"kind\":\"Any\",\"default\":{\"type\":\"map\"}}]},{\"type\":\"model\",\"name\":\"AnyWidgetComponent1\",\"properties\":[{\"name\":\"esm_constants\",\"kind\":\"Any\",\"default\":{\"type\":\"map\"}}]},{\"type\":\"model\",\"name\":\"request_value1\",\"properties\":[{\"name\":\"fill\",\"kind\":\"Any\",\"default\":\"none\"},{\"name\":\"_synced\",\"kind\":\"Any\",\"default\":null},{\"name\":\"_request_sync\",\"kind\":\"Any\",\"default\":0}]}]}};\n",
       "  var render_items = [{\"docid\":\"f5e06b27-268b-4a44-9678-6573eb41706a\",\"roots\":{\"5af1ad3b-ceb9-4382-91ea-00a6d0c36dc4\":\"dba192d6-0ba2-4bc8-9b2a-7d8f739abff8\"},\"root_ids\":[\"5af1ad3b-ceb9-4382-91ea-00a6d0c36dc4\"]}];\n",
       "  var docs = Object.values(docs_json)\n",
       "  if (!docs) {\n",
       "    return\n",
       "  }\n",
       "  const py_version = docs[0].version.replace('rc', '-rc.').replace('.dev', '-dev.')\n",
       "  async function embed_document(root) {\n",
       "    var Bokeh = get_bokeh(root)\n",
       "    await Bokeh.embed.embed_items_notebook(docs_json, render_items);\n",
       "    for (const render_item of render_items) {\n",
       "      for (const root_id of render_item.root_ids) {\n",
       "\tconst id_el = document.getElementById(root_id)\n",
       "\tif (id_el.children.length && id_el.children[0].hasAttribute('data-root-id')) {\n",
       "\t  const root_el = id_el.children[0]\n",
       "\t  root_el.id = root_el.id + '-rendered'\n",
       "\t  for (const child of root_el.children) {\n",
       "            // Ensure JupyterLab does not capture keyboard shortcuts\n",
       "            // see: https://jupyterlab.readthedocs.io/en/4.1.x/extension/notebook.html#keyboard-interaction-model\n",
       "\t    child.setAttribute('data-lm-suppress-shortcuts', 'true')\n",
       "\t  }\n",
       "\t}\n",
       "      }\n",
       "    }\n",
       "  }\n",
       "  function get_bokeh(root) {\n",
       "    if (root.Bokeh === undefined) {\n",
       "      return null\n",
       "    } else if (root.Bokeh.version !== py_version) {\n",
       "      if (root.Bokeh.versions === undefined || !root.Bokeh.versions.has(py_version)) {\n",
       "\treturn null\n",
       "      }\n",
       "      return root.Bokeh.versions.get(py_version);\n",
       "    } else if (root.Bokeh.version === py_version) {\n",
       "      return root.Bokeh\n",
       "    }\n",
       "    return null\n",
       "  }\n",
       "  function is_loaded(root) {\n",
       "    var Bokeh = get_bokeh(root)\n",
       "    return (Bokeh != null && Bokeh.Panel !== undefined)\n",
       "  }\n",
       "  if (is_loaded(root)) {\n",
       "    embed_document(root);\n",
       "  } else {\n",
       "    var attempts = 0;\n",
       "    var timer = setInterval(function(root) {\n",
       "      if (is_loaded(root)) {\n",
       "        clearInterval(timer);\n",
       "        embed_document(root);\n",
       "      } else if (document.readyState == \"complete\") {\n",
       "        attempts++;\n",
       "        if (attempts > 200) {\n",
       "          clearInterval(timer);\n",
       "\t  var Bokeh = get_bokeh(root)\n",
       "\t  if (Bokeh == null || Bokeh.Panel == null) {\n",
       "            console.warn(\"Panel: ERROR: Unable to run Panel code because Bokeh or Panel library is missing\");\n",
       "\t  } else {\n",
       "\t    console.warn(\"Panel: WARNING: Attempting to render but not all required libraries could be resolved.\")\n",
       "\t    embed_document(root)\n",
       "\t  }\n",
       "        }\n",
       "      }\n",
       "    }, 25, root)\n",
       "  }\n",
       "})(window);</script>"
      ],
      "text/plain": [
       ":Overlay\n",
       "   .NdOverlay.I  :NdOverlay   [ILOSTAT]\n",
       "      :Curve   [AGE]   (len)\n",
       "   .NdOverlay.II :NdOverlay   [ILOSTAT]\n",
       "      :Scatter   [AGE]   (len)"
      ]
     },
     "execution_count": 4,
     "metadata": {
      "application/vnd.holoviews_exec.v0+json": {
       "id": "5af1ad3b-ceb9-4382-91ea-00a6d0c36dc4"
      }
     },
     "output_type": "execute_result"
    }
   ],
   "source": [
    "df = query_age_ilostat.release().collect()\n",
    "\n",
    "line = df.sort(\"AGE\").hvplot.line(x=\"AGE\", y=\"len\", by=\"ILOSTAT\")\n",
    "scatter = df.sort(\"AGE\").hvplot.scatter(x=\"AGE\", y=\"len\", by=\"ILOSTAT\")\n",
    "line * scatter"
   ]
  },
  {
   "cell_type": "markdown",
   "metadata": {},
   "source": [
    "Referring back to the ILOSTAT legend:\n",
    "\n",
    "| ILOSTAT | Legend | Comments | \n",
    "| ------- | ------ | ----------- | \n",
    "| 1 | did any work for pay or profit | most common among people between 30 and 50 |\n",
    "| 2 | employed but not working | slightly more commonly observed among young adults |\n",
    "| 3 | was not working because of lay-off | clearly influenced by retirement |\n",
    "| 9 | not applicable, less than 15 years old | only present for the youngest age group |\n",
    "\n",
    "Where points are missing in the graph, \n",
    "there are not enough individuals for that combination of age and employment status to pass threshold."
   ]
  },
  {
   "cell_type": "markdown",
   "metadata": {},
   "source": [
    "## Explicit Group Keys\n",
    "\n",
    "If you know grouping keys ahead-of-time, you can avoid spending the privacy parameter $\\delta$ to release them.\n",
    "\n",
    "> It is recommended to only ever create one Context that spans all queries you may make on your data.\n",
    "> We create another context here to demonstrate how grouping queries can be released without the use of the privacy parameter delta.\n"
   ]
  },
  {
   "cell_type": "code",
   "execution_count": 5,
   "metadata": {},
   "outputs": [],
   "source": [
    "context = dp.Context.compositor(\n",
    "    # Many columns contain mixtures of strings and numbers and cannot be parsed as floats,\n",
    "    # so we'll set `ignore_errors` to true to avoid conversion errors.\n",
    "    data=pl.scan_csv(\"sample_FR_LFS.csv\", ignore_errors=True),\n",
    "    privacy_unit=dp.unit_of(contributions=36),\n",
    "    privacy_loss=dp.loss_of(epsilon=1.0 / 4),\n",
    "    # allow for one query\n",
    "    split_evenly_over=1,\n",
    ")"
   ]
  },
  {
   "cell_type": "markdown",
   "metadata": {},
   "source": [
    "\n",
    "For example, you can reuse the stable grouping keys released in the previous query:"
   ]
  },
  {
   "cell_type": "code",
   "execution_count": 6,
   "metadata": {},
   "outputs": [
    {
     "data": {
      "text/html": [
       "<div><style>\n",
       ".dataframe > thead > tr,\n",
       ".dataframe > tbody > tr {\n",
       "  text-align: right;\n",
       "  white-space: pre-wrap;\n",
       "}\n",
       "</style>\n",
       "<small>shape: (1, 4)</small><table border=\"1\" class=\"dataframe\"><thead><tr><th>column</th><th>aggregate</th><th>distribution</th><th>scale</th></tr><tr><td>str</td><td>str</td><td>str</td><td>f64</td></tr></thead><tbody><tr><td>&quot;len&quot;</td><td>&quot;Frame Length&quot;</td><td>&quot;Integer Laplace&quot;</td><td>144.0</td></tr></tbody></table></div>"
      ],
      "text/plain": [
       "shape: (1, 4)\n",
       "┌────────┬──────────────┬─────────────────┬───────┐\n",
       "│ column ┆ aggregate    ┆ distribution    ┆ scale │\n",
       "│ ---    ┆ ---          ┆ ---             ┆ ---   │\n",
       "│ str    ┆ str          ┆ str             ┆ f64   │\n",
       "╞════════╪══════════════╪═════════════════╪═══════╡\n",
       "│ len    ┆ Frame Length ┆ Integer Laplace ┆ 144.0 │\n",
       "└────────┴──────────────┴─────────────────┴───────┘"
      ]
     },
     "execution_count": 6,
     "metadata": {},
     "output_type": "execute_result"
    }
   ],
   "source": [
    "query_age_ilostat = (\n",
    "    context.query()\n",
    "    .group_by(\"AGE\", \"ILOSTAT\")\n",
    "    .agg(dp.len())\n",
    "    .with_keys(df[\"AGE\", \"ILOSTAT\"])\n",
    ")\n",
    "\n",
    "query_age_ilostat.summarize()"
   ]
  },
  {
   "cell_type": "markdown",
   "metadata": {},
   "source": [
    "`.with_keys` adds a left join where the left dataset is your explicit list of grouping keys \n",
    "and the right dataset contains the results of the grouped aggregation.\n",
    "You can also write the join yourself! When using the context API, this is easier to express through a right join:"
   ]
  },
  {
   "cell_type": "code",
   "execution_count": 7,
   "metadata": {},
   "outputs": [
    {
     "data": {
      "text/html": [
       "<div><style>\n",
       ".dataframe > thead > tr,\n",
       ".dataframe > tbody > tr {\n",
       "  text-align: right;\n",
       "  white-space: pre-wrap;\n",
       "}\n",
       "</style>\n",
       "<small>shape: (1, 4)</small><table border=\"1\" class=\"dataframe\"><thead><tr><th>column</th><th>aggregate</th><th>distribution</th><th>scale</th></tr><tr><td>str</td><td>str</td><td>str</td><td>f64</td></tr></thead><tbody><tr><td>&quot;len&quot;</td><td>&quot;Frame Length&quot;</td><td>&quot;Integer Laplace&quot;</td><td>144.0</td></tr></tbody></table></div>"
      ],
      "text/plain": [
       "shape: (1, 4)\n",
       "┌────────┬──────────────┬─────────────────┬───────┐\n",
       "│ column ┆ aggregate    ┆ distribution    ┆ scale │\n",
       "│ ---    ┆ ---          ┆ ---             ┆ ---   │\n",
       "│ str    ┆ str          ┆ str             ┆ f64   │\n",
       "╞════════╪══════════════╪═════════════════╪═══════╡\n",
       "│ len    ┆ Frame Length ┆ Integer Laplace ┆ 144.0 │\n",
       "└────────┴──────────────┴─────────────────┴───────┘"
      ]
     },
     "execution_count": 7,
     "metadata": {},
     "output_type": "execute_result"
    }
   ],
   "source": [
    "query_age_ilostat = (\n",
    "    context.query()\n",
    "    .group_by(\"AGE\", \"ILOSTAT\")\n",
    "    .agg(dp.len())\n",
    "    .join(df[\"AGE\", \"ILOSTAT\"].lazy(), how=\"right\", on=[\"AGE\", \"ILOSTAT\"])\n",
    ")\n",
    "\n",
    "query_age_ilostat.summarize()"
   ]
  },
  {
   "cell_type": "markdown",
   "metadata": {},
   "source": [
    "The OpenDP Library rewrites these kinds of queries to impute any missing statistics corresponding to explicit grouping keys that don't exist in the real data.\n",
    "The imputed values are as if you released the differentially private statistics on an empty data partition."
   ]
  },
  {
   "cell_type": "markdown",
   "metadata": {},
   "source": [
    "## Invariant Group Keys\n",
    "\n",
    "The OpenDP Library also allows you to explicitly describe grouping keys as \n",
    "\"public information\" that can be released in the clear.\n",
    "\n",
    "Be aware that any aspect of your data labeled \"public information\" or an \"invariant\" is not subject to privacy protections.\n",
    "For this reason, you should be very reluctant to use invariants.\n",
    "Remember that even the absence of a grouping key can constitute be a privacy violation.\n",
    "Nevertheless, this approach has seen use in high-profile data releases, including by the US Census Bureau.\n",
    "\n",
    "For example, in the Eurostat data, you may consider the quarters in which data has been collected to be public information.\n",
    "You can mark grouping keys for any combination of year and quarter as invariant by setting `public_info=\"keys\"` as follows:"
   ]
  },
  {
   "cell_type": "code",
   "execution_count": 8,
   "metadata": {},
   "outputs": [],
   "source": [
    "context = dp.Context.compositor(\n",
    "    data=pl.scan_csv(\"sample_FR_LFS.csv\", ignore_errors=True),\n",
    "    privacy_unit=dp.unit_of(contributions=36),\n",
    "    privacy_loss=dp.loss_of(epsilon=1.0 / 4),\n",
    "    split_evenly_over=1,\n",
    "    margins={\n",
    "        # grouping keys by \"YEAR\" and \"QUARTER\" are public information\n",
    "        (\"YEAR\", \"QUARTER\"): dp.polars.Margin(\n",
    "            public_info=\"keys\",\n",
    "        )\n",
    "    },\n",
    ")"
   ]
  },
  {
   "cell_type": "markdown",
   "metadata": {},
   "source": [
    "> It is recommended to only ever create one Context that spans all queries you may make on your data.\n",
    "> We create another context here to demonstrate how margins will influence the analysis.\n",
    "\n",
    "Due to the existence of this margin descriptor, the library will now release these quarterly keys in the clear."
   ]
  },
  {
   "cell_type": "code",
   "execution_count": 9,
   "metadata": {},
   "outputs": [
    {
     "data": {
      "text/html": [
       "<div><style>\n",
       ".dataframe > thead > tr,\n",
       ".dataframe > tbody > tr {\n",
       "  text-align: right;\n",
       "  white-space: pre-wrap;\n",
       "}\n",
       "</style>\n",
       "<small>shape: (1, 5)</small><table border=\"1\" class=\"dataframe\"><thead><tr><th>column</th><th>aggregate</th><th>distribution</th><th>scale</th><th>accuracy</th></tr><tr><td>str</td><td>str</td><td>str</td><td>f64</td><td>f64</td></tr></thead><tbody><tr><td>&quot;len&quot;</td><td>&quot;Frame Length&quot;</td><td>&quot;Integer Laplace&quot;</td><td>144.0</td><td>431.884579</td></tr></tbody></table></div>"
      ],
      "text/plain": [
       "shape: (1, 5)\n",
       "┌────────┬──────────────┬─────────────────┬───────┬────────────┐\n",
       "│ column ┆ aggregate    ┆ distribution    ┆ scale ┆ accuracy   │\n",
       "│ ---    ┆ ---          ┆ ---             ┆ ---   ┆ ---        │\n",
       "│ str    ┆ str          ┆ str             ┆ f64   ┆ f64        │\n",
       "╞════════╪══════════════╪═════════════════╪═══════╪════════════╡\n",
       "│ len    ┆ Frame Length ┆ Integer Laplace ┆ 144.0 ┆ 431.884579 │\n",
       "└────────┴──────────────┴─────────────────┴───────┴────────────┘"
      ]
     },
     "execution_count": 9,
     "metadata": {},
     "output_type": "execute_result"
    }
   ],
   "source": [
    "query_quarterly_counts = (\n",
    "    context.query()\n",
    "    .group_by(\"YEAR\", \"QUARTER\")\n",
    "    .agg(dp.len())\n",
    ")\n",
    "\n",
    "summary = query_quarterly_counts.summarize(alpha=.05)\n",
    "summary"
   ]
  },
  {
   "cell_type": "markdown",
   "metadata": {},
   "source": [
    "This query description no longer has a \"threshold\" field: all noisy statistics computed on each data partition will be released."
   ]
  },
  {
   "cell_type": "markdown",
   "metadata": {},
   "source": [
    "This visualization includes error bars showing 95% confidence intervals for the true value by pulling the accuracy estimate from the query description above."
   ]
  },
  {
   "cell_type": "code",
   "execution_count": 10,
   "metadata": {},
   "outputs": [
    {
     "data": {},
     "metadata": {},
     "output_type": "display_data"
    },
    {
     "data": {
      "application/vnd.holoviews_exec.v0+json": "",
      "text/html": [
       "<div id='69878488-2416-492d-98c1-067ceb35bc99'>\n",
       "  <div id=\"a48b0237-f2a4-4832-87b1-ae73605291ab\" data-root-id=\"69878488-2416-492d-98c1-067ceb35bc99\" style=\"display: contents;\"></div>\n",
       "</div>\n",
       "<script type=\"application/javascript\">(function(root) {\n",
       "  var docs_json = {\"92a6516a-dfda-4eaf-91ce-1991edfa1be8\":{\"version\":\"3.6.1\",\"title\":\"Bokeh Application\",\"roots\":[{\"type\":\"object\",\"name\":\"Row\",\"id\":\"69878488-2416-492d-98c1-067ceb35bc99\",\"attributes\":{\"name\":\"Row00543\",\"tags\":[\"embedded\"],\"stylesheets\":[\"\\n:host(.pn-loading):before, .pn-loading:before {\\n  background-color: #c3c3c3;\\n  mask-size: auto calc(min(50%, 400px));\\n  -webkit-mask-size: auto calc(min(50%, 400px));\\n}\",{\"type\":\"object\",\"name\":\"ImportedStyleSheet\",\"id\":\"c94615de-6d3a-4923-babe-aab231da48ee\",\"attributes\":{\"url\":\"https://cdn.holoviz.org/panel/1.5.4/dist/css/loading.css\"}},{\"type\":\"object\",\"name\":\"ImportedStyleSheet\",\"id\":\"80634d77-4607-4212-9886-23ed5667e8e6\",\"attributes\":{\"url\":\"https://cdn.holoviz.org/panel/1.5.4/dist/css/listpanel.css\"}},{\"type\":\"object\",\"name\":\"ImportedStyleSheet\",\"id\":\"3c15bd0e-8de8-470d-a831-8d49e8ecdb97\",\"attributes\":{\"url\":\"https://cdn.holoviz.org/panel/1.5.4/dist/bundled/theme/default.css\"}},{\"type\":\"object\",\"name\":\"ImportedStyleSheet\",\"id\":\"26f10e1e-d8e4-4132-bb5e-89febacefba6\",\"attributes\":{\"url\":\"https://cdn.holoviz.org/panel/1.5.4/dist/bundled/theme/native.css\"}}],\"min_width\":700,\"margin\":0,\"sizing_mode\":\"stretch_width\",\"align\":\"start\",\"children\":[{\"type\":\"object\",\"name\":\"Spacer\",\"id\":\"8b148396-8440-42ed-a309-275b55f9ca71\",\"attributes\":{\"name\":\"HSpacer00547\",\"stylesheets\":[\"\\n:host(.pn-loading):before, .pn-loading:before {\\n  background-color: #c3c3c3;\\n  mask-size: auto calc(min(50%, 400px));\\n  -webkit-mask-size: auto calc(min(50%, 400px));\\n}\",{\"id\":\"c94615de-6d3a-4923-babe-aab231da48ee\"},{\"id\":\"3c15bd0e-8de8-470d-a831-8d49e8ecdb97\"},{\"id\":\"26f10e1e-d8e4-4132-bb5e-89febacefba6\"}],\"margin\":0,\"sizing_mode\":\"stretch_width\",\"align\":\"start\"}},{\"type\":\"object\",\"name\":\"Figure\",\"id\":\"709a0bf6-375b-44e0-93dd-984aecd90fe0\",\"attributes\":{\"width\":700,\"height\":300,\"margin\":[5,10],\"sizing_mode\":\"fixed\",\"align\":\"start\",\"x_range\":{\"type\":\"object\",\"name\":\"Range1d\",\"id\":\"09d23cbf-d97c-4084-9022-e7ddac1448e1\",\"attributes\":{\"name\":\"date\",\"tags\":[[[\"date\",null]],[]],\"start\":1080777600000.0,\"end\":1385856000000.0,\"reset_start\":1080777600000.0,\"reset_end\":1385856000000.0}},\"y_range\":{\"type\":\"object\",\"name\":\"Range1d\",\"id\":\"17af11c5-60db-4702-9c1f-ecb756cddf08\",\"attributes\":{\"name\":\"len\",\"tags\":[[[\"len\",null]],{\"type\":\"map\",\"entries\":[[\"invert_yaxis\",false],[\"autorange\",false]]}],\"start\":3079.638504794444,\"end\":7405.361495205556,\"reset_start\":3079.638504794444,\"reset_end\":7405.361495205556}},\"x_scale\":{\"type\":\"object\",\"name\":\"LinearScale\",\"id\":\"cb5e99c1-3d9d-4f61-a401-63bb5fd58322\"},\"y_scale\":{\"type\":\"object\",\"name\":\"LinearScale\",\"id\":\"97510a16-e5e5-4d96-a8b6-6c0d0e1637a2\"},\"title\":{\"type\":\"object\",\"name\":\"Title\",\"id\":\"4430d65c-18b7-44f5-9ca9-6efc17141b60\",\"attributes\":{\"text_color\":\"black\",\"text_font_size\":\"12pt\"}},\"renderers\":[{\"type\":\"object\",\"name\":\"GlyphRenderer\",\"id\":\"5e91cb77-d395-4f25-b887-8044d1561814\",\"attributes\":{\"data_source\":{\"type\":\"object\",\"name\":\"ColumnDataSource\",\"id\":\"90b6ea01-4027-4ff8-ac33-a3f06fbce071\",\"attributes\":{\"selected\":{\"type\":\"object\",\"name\":\"Selection\",\"id\":\"6842c36c-31a8-476c-aa06-92c9a20d9922\",\"attributes\":{\"indices\":[],\"line_indices\":[]}},\"selection_policy\":{\"type\":\"object\",\"name\":\"UnionRenderers\",\"id\":\"e2a5fbde-64c1-44d9-b8bf-4366ba19fbb9\"},\"data\":{\"type\":\"map\",\"entries\":[[\"date\",{\"type\":\"ndarray\",\"array\":{\"type\":\"bytes\",\"data\":\"AACArWt0b0IAAICo9MJvQgAAwNG+CHBCAACA6bAvcEIAAABn9VZwQgAAgOQ5fnBCAABA/CulcEIAAMB5cMxwQgAAQPe083BCAAAAD6cacUIAAICM60FxQgAAAAowaXFCAACAh3SQcUIAAAAFubdxQgAAgIL93nFCAABAmu8FckIAAMAXNC1yQgAAQJV4VHJCAAAArWp7ckIAAIAqr6JyQgAAAKjzyXJCAADAv+XwckIAAEA9KhhzQgAAwLpuP3NCAABAOLNmc0IAAMC1941zQgAAQDM8tXNCAAAASy7cc0IAAIDIcgN0QgAAAEa3KnRCAAAAAAAA+H8AAAAAAAD4fwAAAAAAAPh/AAAAAAAA+H8AAAAAAAD4fwAAAAAAAPh/AAAAAAAA+H8AAAAAAAD4fwAAAAAAAPh/AAAAAAAA+H8=\"},\"shape\":[40],\"dtype\":\"float64\",\"order\":\"little\"}],[\"len\",{\"type\":\"ndarray\",\"array\":{\"type\":\"bytes\",\"data\":\"chEAAN0QAAAgDwAAPxEAAHwQAABYEAAAgg8AAPgRAABTDwAAVhAAAMkQAABDEAAAxRAAAOAQAACBEAAAFxIAAFsTAAArFAAAchcAAGcWAAAzFgAAFRgAANEXAACpGAAAVBgAAEUYAAAjGAAA1RkAAH8WAADeFgAASRAAAMISAAA9GAAAixAAAO0UAAAmGQAARxYAANMQAACXFAAAXBEAAA==\"},\"shape\":[40],\"dtype\":\"uint32\",\"order\":\"little\"}]]}}},\"view\":{\"type\":\"object\",\"name\":\"CDSView\",\"id\":\"901a82aa-dbf6-4272-bf72-58aa687bf5c9\",\"attributes\":{\"filter\":{\"type\":\"object\",\"name\":\"AllIndices\",\"id\":\"8cccd77c-7764-4aa7-bfcd-a20250905b65\"}}},\"glyph\":{\"type\":\"object\",\"name\":\"Line\",\"id\":\"3ec70b87-bd0f-4bb8-83a8-036f3388ef09\",\"attributes\":{\"tags\":[\"apply_ranges\"],\"x\":{\"type\":\"field\",\"field\":\"date\"},\"y\":{\"type\":\"field\",\"field\":\"len\"},\"line_color\":\"#30a2da\",\"line_width\":2}},\"selection_glyph\":{\"type\":\"object\",\"name\":\"Line\",\"id\":\"e45b734c-8d8d-4bc3-ab53-9fdcc06167fa\",\"attributes\":{\"tags\":[\"apply_ranges\"],\"x\":{\"type\":\"field\",\"field\":\"date\"},\"y\":{\"type\":\"field\",\"field\":\"len\"},\"line_color\":\"#30a2da\",\"line_width\":2}},\"nonselection_glyph\":{\"type\":\"object\",\"name\":\"Line\",\"id\":\"0c63ad2c-1653-4401-bb69-3145a309f06d\",\"attributes\":{\"tags\":[\"apply_ranges\"],\"x\":{\"type\":\"field\",\"field\":\"date\"},\"y\":{\"type\":\"field\",\"field\":\"len\"},\"line_color\":\"#30a2da\",\"line_alpha\":0.1,\"line_width\":2}},\"muted_glyph\":{\"type\":\"object\",\"name\":\"Line\",\"id\":\"788c6827-bd64-4829-a6b1-543838c1d50b\",\"attributes\":{\"tags\":[\"apply_ranges\"],\"x\":{\"type\":\"field\",\"field\":\"date\"},\"y\":{\"type\":\"field\",\"field\":\"len\"},\"line_color\":\"#30a2da\",\"line_alpha\":0.2,\"line_width\":2}}}}],\"toolbar\":{\"type\":\"object\",\"name\":\"Toolbar\",\"id\":\"b7f9ba43-dae0-4e5a-acfa-586b887c4318\",\"attributes\":{\"tools\":[{\"type\":\"object\",\"name\":\"WheelZoomTool\",\"id\":\"a0843dcb-6712-4849-af06-7ec2faa140db\",\"attributes\":{\"tags\":[\"hv_created\"],\"renderers\":\"auto\",\"zoom_together\":\"none\"}},{\"type\":\"object\",\"name\":\"HoverTool\",\"id\":\"1ca7386d-d845-48d6-9a24-9d9417d6f716\",\"attributes\":{\"tags\":[\"hv_created\"],\"renderers\":[{\"id\":\"5e91cb77-d395-4f25-b887-8044d1561814\"}],\"tooltips\":[[\"date\",\"@{date}{%F %T}\"],[\"len\",\"@{len}\"]],\"formatters\":{\"type\":\"map\",\"entries\":[[\"@{date}\",\"datetime\"]]}}},{\"type\":\"object\",\"name\":\"SaveTool\",\"id\":\"c55cd564-11c4-4765-bfa6-10e8f971c475\"},{\"type\":\"object\",\"name\":\"PanTool\",\"id\":\"5b3cd732-117f-4f9c-9872-74fd3c8d8c2c\"},{\"type\":\"object\",\"name\":\"BoxZoomTool\",\"id\":\"3546122f-44d3-4b2a-ba75-0844a48710f0\",\"attributes\":{\"overlay\":{\"type\":\"object\",\"name\":\"BoxAnnotation\",\"id\":\"a6c8cda9-04e5-40da-9856-379f636fbc19\",\"attributes\":{\"syncable\":false,\"line_color\":\"black\",\"line_alpha\":1.0,\"line_width\":2,\"line_dash\":[4,4],\"fill_color\":\"lightgrey\",\"fill_alpha\":0.5,\"level\":\"overlay\",\"visible\":false,\"left\":{\"type\":\"number\",\"value\":\"nan\"},\"right\":{\"type\":\"number\",\"value\":\"nan\"},\"top\":{\"type\":\"number\",\"value\":\"nan\"},\"bottom\":{\"type\":\"number\",\"value\":\"nan\"},\"left_units\":\"canvas\",\"right_units\":\"canvas\",\"top_units\":\"canvas\",\"bottom_units\":\"canvas\",\"handles\":{\"type\":\"object\",\"name\":\"BoxInteractionHandles\",\"id\":\"5f6e7f5a-590b-487d-a47e-359925a15463\",\"attributes\":{\"all\":{\"type\":\"object\",\"name\":\"AreaVisuals\",\"id\":\"ed2844cc-b5c6-4060-aa43-234255252511\",\"attributes\":{\"fill_color\":\"white\",\"hover_fill_color\":\"lightgray\"}}}}}}}},{\"type\":\"object\",\"name\":\"ResetTool\",\"id\":\"a59279dd-3846-4f92-b1a2-977218354fa6\"}],\"active_drag\":{\"id\":\"5b3cd732-117f-4f9c-9872-74fd3c8d8c2c\"},\"active_scroll\":{\"id\":\"a0843dcb-6712-4849-af06-7ec2faa140db\"}}},\"left\":[{\"type\":\"object\",\"name\":\"LinearAxis\",\"id\":\"e82cbfcd-ec1c-4d66-be8a-5b7ac4ded045\",\"attributes\":{\"ticker\":{\"type\":\"object\",\"name\":\"BasicTicker\",\"id\":\"79332c8a-9424-46bc-a2d8-b13ad60a7242\",\"attributes\":{\"mantissas\":[1,2,5]}},\"formatter\":{\"type\":\"object\",\"name\":\"BasicTickFormatter\",\"id\":\"ccd0555f-be98-4f99-be3f-4e492aa27d54\"},\"axis_label\":\"len\",\"major_label_policy\":{\"type\":\"object\",\"name\":\"AllLabels\",\"id\":\"ed8a0f61-59d3-410c-96e6-d3213ca555cf\"}}}],\"below\":[{\"type\":\"object\",\"name\":\"DatetimeAxis\",\"id\":\"fbe7a1fa-8c59-4f2c-a766-cc9ae4d38eca\",\"attributes\":{\"ticker\":{\"type\":\"object\",\"name\":\"DatetimeTicker\",\"id\":\"b48313fd-eede-4a37-a86b-5ddcd7e71bc9\",\"attributes\":{\"num_minor_ticks\":5,\"tickers\":[{\"type\":\"object\",\"name\":\"AdaptiveTicker\",\"id\":\"2a6eb61e-087b-42ce-87ac-1032aa6ce3ec\",\"attributes\":{\"num_minor_ticks\":0,\"mantissas\":[1,2,5],\"max_interval\":500.0}},{\"type\":\"object\",\"name\":\"AdaptiveTicker\",\"id\":\"c719d556-c7ec-487c-b0d6-4b494635c299\",\"attributes\":{\"num_minor_ticks\":0,\"base\":60,\"mantissas\":[1,2,5,10,15,20,30],\"min_interval\":1000.0,\"max_interval\":1800000.0}},{\"type\":\"object\",\"name\":\"AdaptiveTicker\",\"id\":\"31f2ec9c-5a4b-4e8b-9d43-7fb2c186bc94\",\"attributes\":{\"num_minor_ticks\":0,\"base\":24,\"mantissas\":[1,2,4,6,8,12],\"min_interval\":3600000.0,\"max_interval\":43200000.0}},{\"type\":\"object\",\"name\":\"DaysTicker\",\"id\":\"9a81a3aa-ecfa-4bc1-afc0-911d23448e2a\",\"attributes\":{\"days\":[1,2,3,4,5,6,7,8,9,10,11,12,13,14,15,16,17,18,19,20,21,22,23,24,25,26,27,28,29,30,31]}},{\"type\":\"object\",\"name\":\"DaysTicker\",\"id\":\"f5c95656-7f66-489f-9617-878c325753a9\",\"attributes\":{\"days\":[1,4,7,10,13,16,19,22,25,28]}},{\"type\":\"object\",\"name\":\"DaysTicker\",\"id\":\"7cc28af3-c642-42e0-a227-8de89cbd7e2c\",\"attributes\":{\"days\":[1,8,15,22]}},{\"type\":\"object\",\"name\":\"DaysTicker\",\"id\":\"8c4e6fd0-784d-44b7-874c-87c38044952d\",\"attributes\":{\"days\":[1,15]}},{\"type\":\"object\",\"name\":\"MonthsTicker\",\"id\":\"2b95b0c5-8846-417b-8d9f-25f7ac2a5336\",\"attributes\":{\"months\":[0,1,2,3,4,5,6,7,8,9,10,11]}},{\"type\":\"object\",\"name\":\"MonthsTicker\",\"id\":\"863c3fe7-4bda-41c5-a33b-a634216ee9ad\",\"attributes\":{\"months\":[0,2,4,6,8,10]}},{\"type\":\"object\",\"name\":\"MonthsTicker\",\"id\":\"ab350e4a-4432-4543-9696-5420643b6230\",\"attributes\":{\"months\":[0,4,8]}},{\"type\":\"object\",\"name\":\"MonthsTicker\",\"id\":\"ba3c5b08-735c-43f1-a86d-1adc342f04ec\",\"attributes\":{\"months\":[0,6]}},{\"type\":\"object\",\"name\":\"YearsTicker\",\"id\":\"152af4f2-c8a7-4e2b-8cf8-b86877acce3e\"}]}},\"formatter\":{\"type\":\"object\",\"name\":\"DatetimeTickFormatter\",\"id\":\"b7e27fb1-4131-4dcd-9526-64958c4dc23e\"},\"axis_label\":\"date\",\"major_label_policy\":{\"type\":\"object\",\"name\":\"AllLabels\",\"id\":\"c9407f46-a82b-41ab-8ade-810671b60d5c\"}}}],\"center\":[{\"type\":\"object\",\"name\":\"Grid\",\"id\":\"d113793a-b8d8-45d3-bca9-ab93c485cf8c\",\"attributes\":{\"axis\":{\"id\":\"fbe7a1fa-8c59-4f2c-a766-cc9ae4d38eca\"},\"grid_line_color\":null}},{\"type\":\"object\",\"name\":\"Grid\",\"id\":\"3f084bb4-b9bf-462e-b438-61437a0b02c5\",\"attributes\":{\"dimension\":1,\"axis\":{\"id\":\"e82cbfcd-ec1c-4d66-be8a-5b7ac4ded045\"},\"grid_line_color\":null}},{\"type\":\"object\",\"name\":\"Whisker\",\"id\":\"03995c1e-6f2c-4715-a52c-d867ac496b3e\",\"attributes\":{\"source\":{\"type\":\"object\",\"name\":\"ColumnDataSource\",\"id\":\"7f6923bf-b965-471c-b2b7-3d51d885a94f\",\"attributes\":{\"selected\":{\"type\":\"object\",\"name\":\"Selection\",\"id\":\"736bc8e4-5d1b-4bfa-a2a9-4fac4728f9b5\",\"attributes\":{\"indices\":[],\"line_indices\":[]}},\"selection_policy\":{\"type\":\"object\",\"name\":\"UnionRenderers\",\"id\":\"ff5bce5d-a124-446c-8ed5-dcedd5bb698a\"},\"data\":{\"type\":\"map\",\"entries\":[[\"base\",{\"type\":\"ndarray\",\"array\":{\"type\":\"bytes\",\"data\":\"AACArWt0b0IAAICo9MJvQgAAwNG+CHBCAACA6bAvcEIAAABn9VZwQgAAgOQ5fnBCAABA/CulcEIAAMB5cMxwQgAAQPe083BCAAAAD6cacUIAAICM60FxQgAAAAowaXFCAACAh3SQcUIAAAAFubdxQgAAgIL93nFCAABAmu8FckIAAMAXNC1yQgAAQJV4VHJCAAAArWp7ckIAAIAqr6JyQgAAAKjzyXJCAADAv+XwckIAAEA9KhhzQgAAwLpuP3NCAABAOLNmc0IAAMC1941zQgAAQDM8tXNCAAAASy7cc0IAAIDIcgN0QgAAAEa3KnRCAAAAAAAA+H8AAAAAAAD4fwAAAAAAAPh/AAAAAAAA+H8AAAAAAAD4fwAAAAAAAPh/AAAAAAAA+H8AAAAAAAD4fwAAAAAAAPh/AAAAAAAA+H8=\"},\"shape\":[40],\"dtype\":\"float64\",\"order\":\"little\"}],[\"lower\",{\"type\":\"ndarray\",\"array\":{\"type\":\"bytes\",\"data\":\"dsFqGDuEr0B2wWoYO1quQHbBahg74KpAdsFqGDser0B2wWoYO5itQHbBahg7UK1AdsFqGDukq0C7YDWMHUiwQHbBahg7RqtAdsFqGDtMrUB2wWoYOzKuQHbBahg7Jq1AdsFqGDsqrkB2wWoYO2CuQHbBahg7oq1Au2A1jB1nsEC7YDWMHauxQLtgNYwde7JAu2A1jB3CtUC7YDWMHbe0QLtgNYwdg7RAu2A1jB1ltkC7YDWMHSG2QLtgNYwd+bZAu2A1jB2ktkC7YDWMHZW2QLtgNYwdc7ZAu2A1jB0luEC7YDWMHc+0QLtgNYwdLrVAdsFqGDsyrUC7YDWMHRKxQLtgNYwdjbZAdsFqGDu2rUC7YDWMHT2zQLtgNYwddrdAu2A1jB2XtEB2wWoYO0auQLtgNYwd57JAdsFqGDtYr0A=\"},\"shape\":[40],\"dtype\":\"float64\",\"order\":\"little\"}],[\"upper\",{\"type\":\"ndarray\",\"array\":{\"type\":\"bytes\",\"data\":\"RZ/Kc+Ihs0BFn8pz4oyyQEWfynPiz7BARZ/Kc+LuskBFn8pz4iuyQEWfynPiB7JARZ/Kc+IxsUBFn8pz4qezQEWfynPiArFARZ/Kc+IFskBFn8pz4niyQEWfynPi8rFARZ/Kc+J0skBFn8pz4o+yQEWfynPiMLJARZ/Kc+LGs0BFn8pz4gq1QEWfynPi2rVARZ/Kc+IhuUBFn8pz4ha4QEWfynPi4rdARZ/Kc+LEuUBFn8pz4oC5QEWfynPiWLpARZ/Kc+IDukBFn8pz4vS5QEWfynPi0rlARZ/Kc+KEu0BFn8pz4i64QEWfynPijbhARZ/Kc+L4sUBFn8pz4nG0QEWfynPi7LlARZ/Kc+I6skBFn8pz4py2QEWfynPi1bpARZ/Kc+L2t0BFn8pz4oKyQEWfynPiRrZARZ/Kc+ILs0A=\"},\"shape\":[40],\"dtype\":\"float64\",\"order\":\"little\"}]]}}},\"lower\":{\"type\":\"field\",\"field\":\"lower\"},\"lower_head\":{\"type\":\"object\",\"name\":\"TeeHead\",\"id\":\"e02e8076-f70e-404f-8820-c5cf17198e8b\",\"attributes\":{\"size\":{\"type\":\"value\",\"value\":10}}},\"upper\":{\"type\":\"field\",\"field\":\"upper\"},\"upper_head\":{\"type\":\"object\",\"name\":\"TeeHead\",\"id\":\"711b1452-2539-4613-9ce8-c9c609b8f05b\",\"attributes\":{\"size\":{\"type\":\"value\",\"value\":10}}},\"base\":{\"type\":\"field\",\"field\":\"base\"}}}],\"min_border_top\":10,\"min_border_bottom\":10,\"min_border_left\":10,\"min_border_right\":10,\"output_backend\":\"webgl\"}},{\"type\":\"object\",\"name\":\"Spacer\",\"id\":\"e667b3c3-2191-46c7-81b3-b216a466fcee\",\"attributes\":{\"name\":\"HSpacer00548\",\"stylesheets\":[\"\\n:host(.pn-loading):before, .pn-loading:before {\\n  background-color: #c3c3c3;\\n  mask-size: auto calc(min(50%, 400px));\\n  -webkit-mask-size: auto calc(min(50%, 400px));\\n}\",{\"id\":\"c94615de-6d3a-4923-babe-aab231da48ee\"},{\"id\":\"3c15bd0e-8de8-470d-a831-8d49e8ecdb97\"},{\"id\":\"26f10e1e-d8e4-4132-bb5e-89febacefba6\"}],\"margin\":0,\"sizing_mode\":\"stretch_width\",\"align\":\"start\"}}]}}],\"defs\":[{\"type\":\"model\",\"name\":\"ReactiveHTML1\"},{\"type\":\"model\",\"name\":\"FlexBox1\",\"properties\":[{\"name\":\"align_content\",\"kind\":\"Any\",\"default\":\"flex-start\"},{\"name\":\"align_items\",\"kind\":\"Any\",\"default\":\"flex-start\"},{\"name\":\"flex_direction\",\"kind\":\"Any\",\"default\":\"row\"},{\"name\":\"flex_wrap\",\"kind\":\"Any\",\"default\":\"wrap\"},{\"name\":\"gap\",\"kind\":\"Any\",\"default\":\"\"},{\"name\":\"justify_content\",\"kind\":\"Any\",\"default\":\"flex-start\"}]},{\"type\":\"model\",\"name\":\"FloatPanel1\",\"properties\":[{\"name\":\"config\",\"kind\":\"Any\",\"default\":{\"type\":\"map\"}},{\"name\":\"contained\",\"kind\":\"Any\",\"default\":true},{\"name\":\"position\",\"kind\":\"Any\",\"default\":\"right-top\"},{\"name\":\"offsetx\",\"kind\":\"Any\",\"default\":null},{\"name\":\"offsety\",\"kind\":\"Any\",\"default\":null},{\"name\":\"theme\",\"kind\":\"Any\",\"default\":\"primary\"},{\"name\":\"status\",\"kind\":\"Any\",\"default\":\"normalized\"}]},{\"type\":\"model\",\"name\":\"GridStack1\",\"properties\":[{\"name\":\"mode\",\"kind\":\"Any\",\"default\":\"warn\"},{\"name\":\"ncols\",\"kind\":\"Any\",\"default\":null},{\"name\":\"nrows\",\"kind\":\"Any\",\"default\":null},{\"name\":\"allow_resize\",\"kind\":\"Any\",\"default\":true},{\"name\":\"allow_drag\",\"kind\":\"Any\",\"default\":true},{\"name\":\"state\",\"kind\":\"Any\",\"default\":[]}]},{\"type\":\"model\",\"name\":\"drag1\",\"properties\":[{\"name\":\"slider_width\",\"kind\":\"Any\",\"default\":5},{\"name\":\"slider_color\",\"kind\":\"Any\",\"default\":\"black\"},{\"name\":\"value\",\"kind\":\"Any\",\"default\":50}]},{\"type\":\"model\",\"name\":\"click1\",\"properties\":[{\"name\":\"terminal_output\",\"kind\":\"Any\",\"default\":\"\"},{\"name\":\"debug_name\",\"kind\":\"Any\",\"default\":\"\"},{\"name\":\"clears\",\"kind\":\"Any\",\"default\":0}]},{\"type\":\"model\",\"name\":\"FastWrapper1\",\"properties\":[{\"name\":\"object\",\"kind\":\"Any\",\"default\":null},{\"name\":\"style\",\"kind\":\"Any\",\"default\":null}]},{\"type\":\"model\",\"name\":\"NotificationAreaBase1\",\"properties\":[{\"name\":\"js_events\",\"kind\":\"Any\",\"default\":{\"type\":\"map\"}},{\"name\":\"position\",\"kind\":\"Any\",\"default\":\"bottom-right\"},{\"name\":\"_clear\",\"kind\":\"Any\",\"default\":0}]},{\"type\":\"model\",\"name\":\"NotificationArea1\",\"properties\":[{\"name\":\"js_events\",\"kind\":\"Any\",\"default\":{\"type\":\"map\"}},{\"name\":\"notifications\",\"kind\":\"Any\",\"default\":[]},{\"name\":\"position\",\"kind\":\"Any\",\"default\":\"bottom-right\"},{\"name\":\"_clear\",\"kind\":\"Any\",\"default\":0},{\"name\":\"types\",\"kind\":\"Any\",\"default\":[{\"type\":\"map\",\"entries\":[[\"type\",\"warning\"],[\"background\",\"#ffc107\"],[\"icon\",{\"type\":\"map\",\"entries\":[[\"className\",\"fas fa-exclamation-triangle\"],[\"tagName\",\"i\"],[\"color\",\"white\"]]}]]},{\"type\":\"map\",\"entries\":[[\"type\",\"info\"],[\"background\",\"#007bff\"],[\"icon\",{\"type\":\"map\",\"entries\":[[\"className\",\"fas fa-info-circle\"],[\"tagName\",\"i\"],[\"color\",\"white\"]]}]]}]}]},{\"type\":\"model\",\"name\":\"Notification\",\"properties\":[{\"name\":\"background\",\"kind\":\"Any\",\"default\":null},{\"name\":\"duration\",\"kind\":\"Any\",\"default\":3000},{\"name\":\"icon\",\"kind\":\"Any\",\"default\":null},{\"name\":\"message\",\"kind\":\"Any\",\"default\":\"\"},{\"name\":\"notification_type\",\"kind\":\"Any\",\"default\":null},{\"name\":\"_destroyed\",\"kind\":\"Any\",\"default\":false}]},{\"type\":\"model\",\"name\":\"TemplateActions1\",\"properties\":[{\"name\":\"open_modal\",\"kind\":\"Any\",\"default\":0},{\"name\":\"close_modal\",\"kind\":\"Any\",\"default\":0}]},{\"type\":\"model\",\"name\":\"BootstrapTemplateActions1\",\"properties\":[{\"name\":\"open_modal\",\"kind\":\"Any\",\"default\":0},{\"name\":\"close_modal\",\"kind\":\"Any\",\"default\":0}]},{\"type\":\"model\",\"name\":\"TemplateEditor1\",\"properties\":[{\"name\":\"layout\",\"kind\":\"Any\",\"default\":[]}]},{\"type\":\"model\",\"name\":\"MaterialTemplateActions1\",\"properties\":[{\"name\":\"open_modal\",\"kind\":\"Any\",\"default\":0},{\"name\":\"close_modal\",\"kind\":\"Any\",\"default\":0}]},{\"type\":\"model\",\"name\":\"ReactiveESM1\",\"properties\":[{\"name\":\"esm_constants\",\"kind\":\"Any\",\"default\":{\"type\":\"map\"}}]},{\"type\":\"model\",\"name\":\"JSComponent1\",\"properties\":[{\"name\":\"esm_constants\",\"kind\":\"Any\",\"default\":{\"type\":\"map\"}}]},{\"type\":\"model\",\"name\":\"ReactComponent1\",\"properties\":[{\"name\":\"esm_constants\",\"kind\":\"Any\",\"default\":{\"type\":\"map\"}}]},{\"type\":\"model\",\"name\":\"AnyWidgetComponent1\",\"properties\":[{\"name\":\"esm_constants\",\"kind\":\"Any\",\"default\":{\"type\":\"map\"}}]},{\"type\":\"model\",\"name\":\"request_value1\",\"properties\":[{\"name\":\"fill\",\"kind\":\"Any\",\"default\":\"none\"},{\"name\":\"_synced\",\"kind\":\"Any\",\"default\":null},{\"name\":\"_request_sync\",\"kind\":\"Any\",\"default\":0}]}]}};\n",
       "  var render_items = [{\"docid\":\"92a6516a-dfda-4eaf-91ce-1991edfa1be8\",\"roots\":{\"69878488-2416-492d-98c1-067ceb35bc99\":\"a48b0237-f2a4-4832-87b1-ae73605291ab\"},\"root_ids\":[\"69878488-2416-492d-98c1-067ceb35bc99\"]}];\n",
       "  var docs = Object.values(docs_json)\n",
       "  if (!docs) {\n",
       "    return\n",
       "  }\n",
       "  const py_version = docs[0].version.replace('rc', '-rc.').replace('.dev', '-dev.')\n",
       "  async function embed_document(root) {\n",
       "    var Bokeh = get_bokeh(root)\n",
       "    await Bokeh.embed.embed_items_notebook(docs_json, render_items);\n",
       "    for (const render_item of render_items) {\n",
       "      for (const root_id of render_item.root_ids) {\n",
       "\tconst id_el = document.getElementById(root_id)\n",
       "\tif (id_el.children.length && id_el.children[0].hasAttribute('data-root-id')) {\n",
       "\t  const root_el = id_el.children[0]\n",
       "\t  root_el.id = root_el.id + '-rendered'\n",
       "\t  for (const child of root_el.children) {\n",
       "            // Ensure JupyterLab does not capture keyboard shortcuts\n",
       "            // see: https://jupyterlab.readthedocs.io/en/4.1.x/extension/notebook.html#keyboard-interaction-model\n",
       "\t    child.setAttribute('data-lm-suppress-shortcuts', 'true')\n",
       "\t  }\n",
       "\t}\n",
       "      }\n",
       "    }\n",
       "  }\n",
       "  function get_bokeh(root) {\n",
       "    if (root.Bokeh === undefined) {\n",
       "      return null\n",
       "    } else if (root.Bokeh.version !== py_version) {\n",
       "      if (root.Bokeh.versions === undefined || !root.Bokeh.versions.has(py_version)) {\n",
       "\treturn null\n",
       "      }\n",
       "      return root.Bokeh.versions.get(py_version);\n",
       "    } else if (root.Bokeh.version === py_version) {\n",
       "      return root.Bokeh\n",
       "    }\n",
       "    return null\n",
       "  }\n",
       "  function is_loaded(root) {\n",
       "    var Bokeh = get_bokeh(root)\n",
       "    return (Bokeh != null && Bokeh.Panel !== undefined)\n",
       "  }\n",
       "  if (is_loaded(root)) {\n",
       "    embed_document(root);\n",
       "  } else {\n",
       "    var attempts = 0;\n",
       "    var timer = setInterval(function(root) {\n",
       "      if (is_loaded(root)) {\n",
       "        clearInterval(timer);\n",
       "        embed_document(root);\n",
       "      } else if (document.readyState == \"complete\") {\n",
       "        attempts++;\n",
       "        if (attempts > 200) {\n",
       "          clearInterval(timer);\n",
       "\t  var Bokeh = get_bokeh(root)\n",
       "\t  if (Bokeh == null || Bokeh.Panel == null) {\n",
       "            console.warn(\"Panel: ERROR: Unable to run Panel code because Bokeh or Panel library is missing\");\n",
       "\t  } else {\n",
       "\t    console.warn(\"Panel: WARNING: Attempting to render but not all required libraries could be resolved.\")\n",
       "\t    embed_document(root)\n",
       "\t  }\n",
       "        }\n",
       "      }\n",
       "    }, 25, root)\n",
       "  }\n",
       "})(window);</script>"
      ],
      "text/plain": [
       ":Overlay\n",
       "   .Curve.I     :Curve   [date]   (len)\n",
       "   .ErrorBars.I :ErrorBars   [date]   (len,accuracy)"
      ]
     },
     "execution_count": 10,
     "metadata": {
      "application/vnd.holoviews_exec.v0+json": {
       "id": "69878488-2416-492d-98c1-067ceb35bc99"
      }
     },
     "output_type": "execute_result"
    }
   ],
   "source": [
    "df = query_quarterly_counts.release().collect()\n",
    "\n",
    "# build a date column\n",
    "df = df.with_columns(pl.date(pl.col(\"YEAR\"), pl.col(\"QUARTER\") * 4, 1))\n",
    "\n",
    "line = df.hvplot.line(x=\"date\", y=\"len\")\n",
    "errorbars = df.with_columns(accuracy=summary[\"accuracy\"][0]) \\\n",
    "    .hvplot.errorbars(x=\"date\", y=\"len\", yerr1=\"accuracy\")\n",
    "line * errorbars"
   ]
  },
  {
   "cell_type": "markdown",
   "metadata": {},
   "source": [
    "Even though the noise scale and accuracy estimate is the same as in the previous protected group keys query,\n",
    "the relative error is now much larger because the group sizes are much smaller.\n",
    "In spite of this, the release clearly still shows that the number of respondents increased significantly from 2008 to 2010."
   ]
  },
  {
   "cell_type": "markdown",
   "metadata": {},
   "source": [
    "### Invariant Group Sizes\n",
    "\n",
    "It is also possible to declare partition sizes as public information (a data invariant).\n",
    "Setting this value implies that partition keys are public, \n",
    "and thus implies an even greater risk of damaging the integrity of the privacy guarantee \n",
    "than if you were to just specify grouping keys as public.\n",
    "\n",
    "One way this could be used is as part of a release for the mean number of hours worked `HWUSUAL` by sex.\n",
    "Referring back to the `HWUSUAL` legend, a value of `99` means not applicable,\n",
    "and this encoding will significantly bias the outcome of the query.\n",
    "\n",
    "Unfortunately, filtering the data within the query results in the margin info being invalidated.\n",
    "We are still working on expanding the preprocessing functionality and logic for preserving domain descriptors in the library,\n",
    "but one way to work around this limitation in the meantime is to preprocess your data before passing it into the context:"
   ]
  },
  {
   "cell_type": "code",
   "execution_count": 11,
   "metadata": {},
   "outputs": [],
   "source": [
    "lf_preprocessed = pl.scan_csv(\"sample_FR_LFS.csv\", ignore_errors=True) \\\n",
    "    .filter(pl.col(\"HWUSUAL\") < 99)"
   ]
  },
  {
   "cell_type": "markdown",
   "metadata": {},
   "source": [
    "You can now set up your analysis such that the margin applies to the preprocessed data:"
   ]
  },
  {
   "cell_type": "code",
   "execution_count": 12,
   "metadata": {},
   "outputs": [],
   "source": [
    "context = dp.Context.compositor(\n",
    "    data=lf_preprocessed,\n",
    "    privacy_unit=dp.unit_of(contributions=36),\n",
    "    privacy_loss=dp.loss_of(epsilon=1.0 / 4),\n",
    "    split_evenly_over=1,\n",
    "    margins={\n",
    "        # total number of responses when grouped by \"SEX\" is public information\n",
    "        (\"SEX\",): dp.polars.Margin(\n",
    "            public_info=\"lengths\",\n",
    "            max_partition_length=60_000_000, # population of France\n",
    "            max_num_partitions=1,\n",
    "        )\n",
    "    },\n",
    ")"
   ]
  },
  {
   "cell_type": "markdown",
   "metadata": {},
   "source": [
    "You can now prepare a query that computes mean working hours by gender, where each response is clipped between 0 and 98:"
   ]
  },
  {
   "cell_type": "code",
   "execution_count": 13,
   "metadata": {},
   "outputs": [
    {
     "data": {
      "text/html": [
       "<div><style>\n",
       ".dataframe > thead > tr,\n",
       ".dataframe > tbody > tr {\n",
       "  text-align: right;\n",
       "  white-space: pre-wrap;\n",
       "}\n",
       "</style>\n",
       "<small>shape: (2, 5)</small><table border=\"1\" class=\"dataframe\"><thead><tr><th>column</th><th>aggregate</th><th>distribution</th><th>scale</th><th>accuracy</th></tr><tr><td>str</td><td>str</td><td>str</td><td>f64</td><td>f64</td></tr></thead><tbody><tr><td>&quot;HWUSUAL&quot;</td><td>&quot;Sum&quot;</td><td>&quot;Integer Laplace&quot;</td><td>7056.0</td><td>21138.386904</td></tr><tr><td>&quot;HWUSUAL&quot;</td><td>&quot;Length&quot;</td><td>&quot;Integer Laplace&quot;</td><td>0.0</td><td>NaN</td></tr></tbody></table></div>"
      ],
      "text/plain": [
       "shape: (2, 5)\n",
       "┌─────────┬───────────┬─────────────────┬────────┬──────────────┐\n",
       "│ column  ┆ aggregate ┆ distribution    ┆ scale  ┆ accuracy     │\n",
       "│ ---     ┆ ---       ┆ ---             ┆ ---    ┆ ---          │\n",
       "│ str     ┆ str       ┆ str             ┆ f64    ┆ f64          │\n",
       "╞═════════╪═══════════╪═════════════════╪════════╪══════════════╡\n",
       "│ HWUSUAL ┆ Sum       ┆ Integer Laplace ┆ 7056.0 ┆ 21138.386904 │\n",
       "│ HWUSUAL ┆ Length    ┆ Integer Laplace ┆ 0.0    ┆ NaN          │\n",
       "└─────────┴───────────┴─────────────────┴────────┴──────────────┘"
      ]
     },
     "execution_count": 13,
     "metadata": {},
     "output_type": "execute_result"
    }
   ],
   "source": [
    "\n",
    "query_work_hours = (\n",
    "    context.query()\n",
    "    .group_by(\"SEX\")\n",
    "    .agg(pl.col(\"HWUSUAL\").cast(int).fill_null(0).dp.mean((0, 98)))\n",
    ")\n",
    "\n",
    "query_work_hours.summarize(alpha=.05)"
   ]
  },
  {
   "cell_type": "markdown",
   "metadata": {},
   "source": [
    "This time the query description breaks down into two separate statistics for the resulting \"HWUSUAL\" column.\n",
    "The mean is computed by dividing separate sum and length estimates.\n",
    "Since the partition length is marked as public information, the length is released in the clear, without any noise.\n",
    "\n",
    "Reading the table, the smallest suitable noise scale parameter for the sum is 7056. \n",
    "This may seem large, but remember this noisy sum will be divided by the length, reducing the variance of the final estimate.\n",
    "You can divide the sum accuracy estimate by the public partition sizes to get disaggregated accuracy estimates for each partition. \n",
    "\n",
    "Be mindful that accuracy estimates for sums and means do not take into account bias introduced from clipping.\n",
    "However, for this specific dataset, \n",
    "the codebook limits the range of work hours in `HWUSUAL` to between 0 and 98,\n",
    "so the clipping introduced for differential privacy will not further increase bias."
   ]
  },
  {
   "cell_type": "code",
   "execution_count": 14,
   "metadata": {},
   "outputs": [
    {
     "data": {
      "text/html": [
       "<div><style>\n",
       ".dataframe > thead > tr,\n",
       ".dataframe > tbody > tr {\n",
       "  text-align: right;\n",
       "  white-space: pre-wrap;\n",
       "}\n",
       "</style>\n",
       "<small>shape: (2, 3)</small><table border=\"1\" class=\"dataframe\"><thead><tr><th>SEX</th><th>SEX_STR</th><th>HWUSUAL</th></tr><tr><td>i64</td><td>str</td><td>f64</td></tr></thead><tbody><tr><td>2</td><td>&quot;female&quot;</td><td>34.252673</td></tr><tr><td>1</td><td>&quot;male&quot;</td><td>41.05379</td></tr></tbody></table></div>"
      ],
      "text/plain": [
       "shape: (2, 3)\n",
       "┌─────┬─────────┬───────────┐\n",
       "│ SEX ┆ SEX_STR ┆ HWUSUAL   │\n",
       "│ --- ┆ ---     ┆ ---       │\n",
       "│ i64 ┆ str     ┆ f64       │\n",
       "╞═════╪═════════╪═══════════╡\n",
       "│ 2   ┆ female  ┆ 34.252673 │\n",
       "│ 1   ┆ male    ┆ 41.05379  │\n",
       "└─────┴─────────┴───────────┘"
      ]
     },
     "execution_count": 14,
     "metadata": {},
     "output_type": "execute_result"
    }
   ],
   "source": [
    "df = query_work_hours.release().collect()\n",
    "\n",
    "# released dataframes from the OpenDP Library are shuffled to conceal the ordering of rows in the original dataset\n",
    "# therefore, to ensure proper alignment, we use join instead of hstack to add labels\n",
    "pl.DataFrame({\"SEX\": [1, 2], \"SEX_STR\": [\"male\", \"female\"]}).join(df, on=\"SEX\")"
   ]
  },
  {
   "cell_type": "markdown",
   "metadata": {},
   "source": [
    "Throughout this analysis, observe how the noise scale always remained fixed, regardless of group size. \n",
    "Also observe how the more individuals there are in the data, the greater the magnitude of the statistic. \n",
    "Therefore, as there are more individuals in a bin, the relative amount of noise decreases.\n",
    "\n",
    "Grouping by too many keys, however, can result in partitions having too few records and a loss of signal/poor utility.\n",
    "\n",
    "While grouping is a very useful strategy to conduct meaningful data analysis, there must be a balance, \n",
    "because excessive grouping can lead to most of your partitions being filtered, \n",
    "and/or results that are too noisy and misleading."
   ]
  },
  {
   "cell_type": "markdown",
   "metadata": {},
   "source": [
    "While not used in this section, remember that you can request multiple different statistics in one query. \n",
    "Batching multiple statistics together can not only result in computational speedups, \n",
    "but also more balanced allocation of privacy budget across queries, \n",
    "and can help you avoid releasing the same protected grouping keys multiple times \n",
    "(further dividing your privacy budget).\n",
    "\n",
    "In a real data setting where you want to mediate all access to the data through one Context,\n",
    "you can provide domain descriptors for many margins, \n",
    "allowing you to relax protections over specific grouping columns, \n",
    "while enforcing full protections for all other grouping columns."
   ]
  }
 ],
 "metadata": {
  "kernelspec": {
   "display_name": ".venv",
   "language": "python",
   "name": "python3"
  },
  "language_info": {
   "codemirror_mode": {
    "name": "ipython",
    "version": 3
   },
   "file_extension": ".py",
   "mimetype": "text/x-python",
   "name": "python",
   "nbconvert_exporter": "python",
   "pygments_lexer": "ipython3",
   "version": "3.13.0"
  }
 },
 "nbformat": 4,
 "nbformat_minor": 2
}
