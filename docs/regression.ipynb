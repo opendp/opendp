{
 "cells": [
  {
   "cell_type": "markdown",
   "metadata": {},
   "source": [
    "# Linear Regression"
   ]
  },
  {
   "cell_type": "markdown",
   "metadata": {},
   "source": [
    "## Introduction"
   ]
  },
  {
   "cell_type": "markdown",
   "metadata": {},
   "source": [
    " This is an example of using Transformation and Measurement plugins. In this tutorial, we will be using the Theil-Sen estimator to create differentially private regressions. \n",
    "\n",
    "The Theil-Sen estimator is a robust method to fit a line to sample points by **choosing the median of the slopes between each piar of points in the data**. \n",
    "\n",
    "Compared to ordinary least squares regression, Theil-Sen regression has\n",
    "- Less Sensitivity to Outliers. \n",
    "- Greater Accuracy for Skewed and Heteroskedastic Data. \n",
    "- Fast Algorithms for Efficiently Computing its Parameters.\n",
    "\n",
    "Source: [Wikipedia](https://en.wikipedia.org/wiki/Theil–Sen_estimator), [University of Virgina StatLab](https://library.virginia.edu/data/articles/theil-sen-regression-programming-and-understanding-an-outlier-resistant-alternative-to-least-squares)"
   ]
  },
  {
   "cell_type": "markdown",
   "metadata": {},
   "source": [
    "Let's get started! We will only need a few libraries for this tutorial. This tutorial has three parts: \n",
    "\n",
    "1. Define the Regression Functions \n",
    "2. Apply DP Regression on Synthetic Data\n",
    "3. Apply DP Regression on Real Data"
   ]
  },
  {
   "cell_type": "code",
   "execution_count": 88,
   "metadata": {},
   "outputs": [],
   "source": [
    "import opendp.prelude as dp\n",
    "import numpy as np\n",
    "import polars as pl \n",
    "import matplotlib.pyplot as plt\n",
    "\n",
    "dp.enable_features(\"honest-but-curious\")"
   ]
  },
  {
   "cell_type": "markdown",
   "metadata": {},
   "source": [
    "## Defining Regression Functions"
   ]
  },
  {
   "cell_type": "markdown",
   "metadata": {},
   "source": [
    "We will define a series of functions and then compose them create a pipeline to compute a differentially private regression."
   ]
  },
  {
   "cell_type": "markdown",
   "metadata": {},
   "source": [
    "### 1) Define Alphas"
   ]
  },
  {
   "cell_type": "markdown",
   "metadata": {},
   "source": [
    "The following code defines alpha values that represent the 25th and 75th percentiles of the distribution of slopes computed from the random points in the dataset. \n",
    "\n",
    "We chose the 25th and 75th percentiles because they provide a nuanced understanding of the variability present in the dataset, but you can choose any that work best for your specific case."
   ]
  },
  {
   "cell_type": "code",
   "execution_count": 50,
   "metadata": {},
   "outputs": [],
   "source": [
    "alphas = np.array([[0.25], [0.75]])"
   ]
  },
  {
   "cell_type": "markdown",
   "metadata": {},
   "source": [
    "### 2) Define a Function to Compute Points on the Percentile Lines"
   ]
  },
  {
   "cell_type": "markdown",
   "metadata": {},
   "source": [
    "This function partitions a dataset into random pairs and then calculates a slope and midpoint for each pair in the dataset. \n",
    "\n",
    "It then outputs a set of points that represent the y-values at the specified percentiles (25th and 75th). Pairs where the difference is not positive or is undefined are filtered out to ensure consistency. \n",
    "\n",
    "The percentiles will be applied to the y-values calculated from the lines defined by the slopes and midpoints at given percentiles."
   ]
  },
  {
   "cell_type": "code",
   "execution_count": 51,
   "metadata": {},
   "outputs": [],
   "source": [
    "def compute_points_on_percentiles(data):\n",
    "    # Get an even number of rows.\n",
    "    data = np.array(data, copy=True)[:len(data) // 2 * 2]\n",
    "\n",
    "    # Shuffle the data for robustness.\n",
    "    np.random.shuffle(data)\n",
    "\n",
    "    # Split the data into pairs.\n",
    "    p1, p2 = np.array_split(data, 2)\n",
    "\n",
    "    # Compute differences.\n",
    "    dx, dy = (p2 - p1).T\n",
    "\n",
    "    # Compute slopes.\n",
    "    slope = dy / dx\n",
    "\n",
    "    # Compute the midpoints of the pairs. \n",
    "    x_bar, y_bar = (p1 + p2).T / 2\n",
    "\n",
    "    # Compute points on line of percentiles. \n",
    "    points = slope * (alphas - x_bar) + y_bar\n",
    "\n",
    "    # Keep only pairs where the x difference is positive. \n",
    "    return points.T[dx > 0]\n"
   ]
  },
  {
   "cell_type": "markdown",
   "metadata": {},
   "source": [
    "### 3) Define a Function to Compute Differentially Private Percentiles"
   ]
  },
  {
   "cell_type": "markdown",
   "metadata": {},
   "source": [
    "The `make_theil_sen_percentiles` function sets up a transportion that defines the format of the input data and applies the function `compute_points_on_percentiles` `k` times to compute the required points on the lines on the specified percentiles. \n",
    "\n",
    "The parameter `k` controls the number of independent Theil-Sen calculations that are performed and stacked together. The default is 1. Increasing k can improve the robustness and accuracy of the results; however, it can also increase computational cost. "
   ]
  },
  {
   "cell_type": "code",
   "execution_count": 1,
   "metadata": {},
   "outputs": [],
   "source": [
    "def make_theil_sen_percentiles(k: int=1):\n",
    "    dp.enable_features(\"contrib\")\n",
    "    return dp.t.make_user_transformation(\n",
    "        #defines type of input\n",
    "        input_domain=dp.np_array2_domain(T=float, num_columns=2),\n",
    "        #the symmetric distance metric measures the number of changes required for transformation\n",
    "        input_metric=dp.symmetric_distance(),\n",
    "        #define output format\n",
    "        output_domain=dp.np_array2_domain(T=float, num_columns=2),\n",
    "        output_metric=dp.symmetric_distance(),\n",
    "        #apply the function k times\n",
    "        function=lambda x: np.vstack([compute_points_on_percentiles(x) for _ in range(int(k))]),\n",
    "        stability_map=lambda b_in: k * b_in)\n"
   ]
  },
  {
   "cell_type": "markdown",
   "metadata": {},
   "source": [
    "### 4) Create a Function to Select a Specific Column"
   ]
  },
  {
   "cell_type": "markdown",
   "metadata": {},
   "source": [
    "This function creates a transformation to simply select a specific column from a dataset. "
   ]
  },
  {
   "cell_type": "code",
   "execution_count": null,
   "metadata": {},
   "outputs": [],
   "source": [
    "def make_select_column(j):\n",
    "    return dp.t.make_user_transformation(\n",
    "        input_domain=dp.np_array2_domain(T=float, num_columns=2),\n",
    "        input_metric=dp.symmetric_distance(),\n",
    "        output_domain=dp.vector_domain(dp.atom_domain(T=float)),\n",
    "        output_metric=dp.symmetric_distance(),\n",
    "        function=lambda x: x[:, j],\n",
    "        stability_map=lambda b_in: b_in)\n"
   ]
  },
  {
   "cell_type": "markdown",
   "metadata": {},
   "source": [
    "### 5) Create a Function to Make Private Quantiles in Bounds"
   ]
  },
  {
   "cell_type": "markdown",
   "metadata": {},
   "source": [
    "In this section, we will chain a transformation and measurement to compute the median through the existing quantile scores methods. First, we define the discrete_scores transformation by calling dp.t.make_quantile_score_candidates which outputs scores how similar each candidate is to the given alpha-quantile on the input dataset."
   ]
  },
  {
   "cell_type": "code",
   "execution_count": null,
   "metadata": {},
   "outputs": [
    {
     "name": "stdout",
     "output_type": "stream",
     "text": [
      "Transformation(\n",
      "    input_domain   = VectorDomain(AtomDomain(T=f64)),\n",
      "    output_domain  = VectorDomain(AtomDomain(T=usize), size=100),\n",
      "    input_metric   = SymmetricDistance(),\n",
      "    output_metric  = LInfDistance(T=usize)\n",
      ")\n"
     ]
    }
   ],
   "source": [
    "input_domain = dp.vector_domain(dp.atom_domain(T=float))\n",
    "input_metric = dp.symmetric_distance()\n",
    "output_domain = np.array(list(range(100))).astype(float)\n",
    "median_quantile = 0.5\n",
    "\n",
    "discrete_scores = dp.t.make_quantile_score_candidates(\n",
    "    input_domain, \n",
    "    input_metric, \n",
    "    output_domain, \n",
    "    median_quantile)\n",
    "\n",
    "discrete_scores"
   ]
  },
  {
   "cell_type": "markdown",
   "metadata": {},
   "source": [
    "Next, we define the measurement to\n",
    "1. Add noise to each of the scores\n",
    "2. Find the index of the smallest score"
   ]
  },
  {
   "cell_type": "code",
   "execution_count": null,
   "metadata": {},
   "outputs": [
    {
     "data": {
      "text/plain": [
       "Measurement(\n",
       "    input_domain   = VectorDomain(AtomDomain(T=usize), size=100),\n",
       "    input_metric   = LInfDistance(T=usize),\n",
       "    output_measure = MaxDivergence(f64))"
      ]
     },
     "execution_count": 81,
     "metadata": {},
     "output_type": "execute_result"
    }
   ],
   "source": [
    "input_space = dp.vector_domain(dp.atom_domain(T=dp.usize), 100), dp.linf_distance(T=dp.usize)\n",
    "select_index_measurement = dp.m.make_report_noisy_max_gumbel(*input_space, scale=1.0, optimize='min')\n",
    "select_index_measurement"
   ]
  },
  {
   "cell_type": "markdown",
   "metadata": {},
   "source": [
    "Finally, we chain our tranformation and measurement to create an intermediate pipeline to calculate the median of the slopes given a dataset with 2 columns. "
   ]
  },
  {
   "cell_type": "code",
   "execution_count": null,
   "metadata": {},
   "outputs": [
    {
     "data": {
      "text/plain": [
       "Measurement(\n",
       "    input_domain   = VectorDomain(AtomDomain(T=f64)),\n",
       "    input_metric   = SymmetricDistance(),\n",
       "    output_measure = MaxDivergence(f64))"
      ]
     },
     "execution_count": 82,
     "metadata": {},
     "output_type": "execute_result"
    }
   ],
   "source": [
    "m_median = discrete_scores >> select_index_measurement\n",
    "m_median"
   ]
  },
  {
   "cell_type": "markdown",
   "metadata": {},
   "source": [
    "### 6) Create a Differentially Private Theil-Sen Estimator"
   ]
  },
  {
   "cell_type": "markdown",
   "metadata": {},
   "source": [
    "In this final steps, we chain together the functions defined to compute the differentially private regression coefficients. \n",
    "\n",
    "The postprocess function solves for the regression coefficients by inverting the system and then scaling it by `-2`. It performs a matrix vector multplication, scales and inverts it, and returns the resulting vector, which contains our regression coefficients. \n",
    "\n",
    "The first coefficient, alpha, is the slope of the line and the second, beta, is the intercept. \n",
    "\n"
   ]
  },
  {
   "cell_type": "code",
   "execution_count": null,
   "metadata": {},
   "outputs": [],
   "source": [
    "def make_private_theil_sen(k):\n",
    "    def postprocess(p):\n",
    "        return -2 * np.array([[1, -1], [-.75, .25]]) @ p\n",
    "\n",
    "    return make_theil_sen_percentiles(k) >> dp.c.make_basic_composition([\n",
    "        make_select_column(0) >> m_median,\n",
    "        make_select_column(1) >> m_median,\n",
    "    ]) >> postprocess"
   ]
  },
  {
   "cell_type": "markdown",
   "metadata": {},
   "source": [
    "## Creating and Applying the Mechanism to Synthetic Data"
   ]
  },
  {
   "cell_type": "markdown",
   "metadata": {},
   "source": [
    "Now let's apply the differentially private mechanism to a dataset! First, let's define an instance of the mechanism. "
   ]
  },
  {
   "cell_type": "code",
   "execution_count": null,
   "metadata": {},
   "outputs": [
    {
     "name": "stdout",
     "output_type": "stream",
     "text": [
      "Measurement(\n",
      "    input_domain   = NPArray2Domain(num_columns=2, T=f64),\n",
      "    input_metric   = SymmetricDistance(),\n",
      "    output_measure = MaxDivergence(f64))\n"
     ]
    }
   ],
   "source": [
    "meas = make_private_theil_sen(k=1) \n",
    "print(meas)"
   ]
  },
  {
   "cell_type": "markdown",
   "metadata": {},
   "source": [
    "Define synthetic data with a linear relationship. Remember to ensure the datatype aligns with our measurement's requirements. "
   ]
  },
  {
   "cell_type": "code",
   "execution_count": null,
   "metadata": {},
   "outputs": [
    {
     "data": {
      "text/plain": [
       "array([[ 0.95747772,  4.34748427],\n",
       "       [-0.63140589,  2.43604772],\n",
       "       [-0.61930545,  1.74937652],\n",
       "       ...,\n",
       "       [-0.27606298,  4.02860845],\n",
       "       [-1.14669794,  0.88624031],\n",
       "       [ 0.69531043,  4.89729557]])"
      ]
     },
     "execution_count": 103,
     "metadata": {},
     "output_type": "execute_result"
    }
   ],
   "source": [
    "x = np.random.normal(size=1_000)\n",
    "y = 2 * x + 3 + np.random.normal(size=1_000)\n",
    "data = np.stack([x, y], axis=1)\n",
    "data = data.astype(np.float64)\n",
    "data"
   ]
  },
  {
   "cell_type": "markdown",
   "metadata": {},
   "source": [
    "Finally, simply pass in the data to the regression function and get your differentially private coefficients."
   ]
  },
  {
   "cell_type": "code",
   "execution_count": null,
   "metadata": {},
   "outputs": [
    {
     "data": {
      "text/plain": [
       "array([2. , 2.5])"
      ]
     },
     "execution_count": 104,
     "metadata": {},
     "output_type": "execute_result"
    }
   ],
   "source": [
    "coef = meas(data)\n",
    "coef "
   ]
  },
  {
   "cell_type": "markdown",
   "metadata": {},
   "source": [
    "Let's plot these to see if our differentially private regression coefficients appear to align. "
   ]
  },
  {
   "cell_type": "code",
   "execution_count": null,
   "metadata": {},
   "outputs": [
    {
     "data": {
      "image/png": "[encoded data removed]",
      "text/plain": [
       "<Figure size 640x480 with 1 Axes>"
      ]
     },
     "metadata": {},
     "output_type": "display_data"
    }
   ],
   "source": [
    "x = data[:, 0]\n",
    "y = data[:, 1]\n",
    "\n",
    "m, b = coef\n",
    "line_x = np.linspace(np.min(x), np.max(x), 100)\n",
    "line_y = m * line_x + b\n",
    "\n",
    "plt.scatter(x, y, color='blue', label='Data Points')\n",
    "plt.plot(line_x, line_y, color='red', label=f'Line: y = {m}x + {b}')\n",
    "\n",
    "plt.xlabel('X-axis')\n",
    "plt.ylabel('Y-axis')\n",
    "plt.title('Scatter Plot with DP-Theil-Sen Regression')\n",
    "plt.legend()\n",
    "\n",
    "plt.show()\n"
   ]
  },
  {
   "cell_type": "markdown",
   "metadata": {},
   "source": [
    "The DP regression results align well with our synthetic data. Now let's apply the method to some real data. "
   ]
  },
  {
   "cell_type": "markdown",
   "metadata": {},
   "source": [
    "## Performing a Differentially Private Regression on Real Data (Find Better Data)"
   ]
  },
  {
   "cell_type": "markdown",
   "metadata": {},
   "source": [
    "Now let's apply this mechanism to real data! We will use the same Labor Force Survey data from France that we've been working with in other examples. In an earlier example #TODO (link exact one with line graph) we saw that there was a strong positive trend between year and the amount of people not working due to a lay off. Let's see if that relationship is linear and and apply the DP Theil Sen regression methods. "
   ]
  },
  {
   "cell_type": "code",
   "execution_count": 1,
   "metadata": {},
   "outputs": [
    {
     "name": "stderr",
     "output_type": "stream",
     "text": [
      "/var/folders/dg/nlwnz_jj7rsblr2tzwj962b40000gn/T/ipykernel_8978/503950240.py:23: UserWarning: Polars found a filename. Ensure you pass a path to the file instead of a python file object when possible for best performance.\n",
      "  df = pl.read_csv(file, ignore_errors=True)\n"
     ]
    }
   ],
   "source": [
    "import requests\n",
    "import zipfile\n",
    "import io\n",
    "\n",
    "import polars as pl \n",
    "import opendp.prelude as dp\n",
    "import seaborn as sns \n",
    "import matplotlib.pyplot as plt\n",
    "\n",
    "dp.enable_features(\"contrib\")\n",
    "sns.set_theme(style='darkgrid')\n",
    "\n",
    "url = \"https://github.com/opendp/dp-test-datasets/blob/master/data/sample_FR_LFS.csv.zip?raw=true\"\n",
    "\n",
    "response = requests.get(url)\n",
    "response.raise_for_status()\n",
    "\n",
    "with zipfile.ZipFile(io.BytesIO(response.content)) as the_zip:\n",
    "    with the_zip.open(\"sample_FR_LFS.csv\") as file:\n",
    "        # Set ignore_errors to true to avoid conversion issues in len function. \n",
    "        # Many columns contain mixtures of strings and numbers and cannot be parsed as floats.\n",
    "\n",
    "        df = pl.read_csv(file, ignore_errors=True)\n",
    "        df = pl.LazyFrame(df)"
   ]
  },
  {
   "cell_type": "code",
   "execution_count": null,
   "metadata": {},
   "outputs": [
    {
     "name": "stderr",
     "output_type": "stream",
     "text": [
      "/var/folders/dg/nlwnz_jj7rsblr2tzwj962b40000gn/T/ipykernel_93345/4255135836.py:23: DeprecationWarning: `groupby` is deprecated. It has been renamed to `group_by`.\n",
      "  year_actual = df.filter((pl.col(\"ILOSTAT\")==3)).groupby(\"YEAR\").agg(\n"
     ]
    }
   ],
   "source": [
    "df = pl.scan_csv(\"sample_FR_LFS.csv\", infer_schema_length=1000, ignore_errors=True)\n",
    "\n",
    "year_actual = df.filter((pl.col(\"ILOSTAT\")==3)).groupby(\"YEAR\").agg(\n",
    "    pl.col(\"YEAR\").count().alias(\"count\").cast(pl.Float64)\n",
    ").sort(\"YEAR\").collect()"
   ]
  },
  {
   "cell_type": "code",
   "execution_count": null,
   "metadata": {},
   "outputs": [
    {
     "data": {
      "text/plain": [
       "array([[2004., 5935.],\n",
       "       [2005., 6119.],\n",
       "       [2006., 6240.],\n",
       "       [2007., 6413.],\n",
       "       [2008., 6481.],\n",
       "       [2009., 7596.],\n",
       "       [2010., 9278.],\n",
       "       [2011., 9468.],\n",
       "       [2012., 9414.],\n",
       "       [2013., 9065.]])"
      ]
     },
     "execution_count": 119,
     "metadata": {},
     "output_type": "execute_result"
    }
   ],
   "source": [
    "prepared_data = year_actual.to_pandas().to_numpy()\n",
    "coef = meas(prepared_data)"
   ]
  },
  {
   "cell_type": "code",
   "execution_count": null,
   "metadata": {},
   "outputs": [],
   "source": [
    "coef = meas(prepared_data)"
   ]
  },
  {
   "cell_type": "code",
   "execution_count": null,
   "metadata": {},
   "outputs": [
    {
     "data": {
      "image/png": "[encoded data removed]",
      "text/plain": [
       "<Figure size 640x480 with 1 Axes>"
      ]
     },
     "metadata": {},
     "output_type": "display_data"
    }
   ],
   "source": [
    "x, y = prepared_data[:, 0], prepared_data[:, 1]\n",
    "m, b = coef\n",
    "line_x = np.linspace(np.min(x), np.max(x), 100)\n",
    "line_y = m * line_x + b\n",
    "\n",
    "plt.scatter(x, y, color='blue', label='Data Points')\n",
    "plt.plot(line_x, line_y, color='red', label=f'Line: y = {m}x + {b}')\n",
    "\n",
    "plt.xlabel('X-axis')\n",
    "plt.ylabel('Y-axis')\n",
    "plt.title('Scatter Plot with DP-Theil-Sen Regression')\n",
    "plt.legend()\n",
    "\n",
    "plt.show()"
   ]
  },
  {
   "cell_type": "markdown",
   "metadata": {},
   "source": [
    "In this example, the regression unfortunately doesn't fit the data well. "
   ]
  },
  {
   "cell_type": "markdown",
   "metadata": {},
   "source": [
    "## Conclusion"
   ]
  },
  {
   "cell_type": "markdown",
   "metadata": {},
   "source": [
    "In this notebook, we illustrated how to create and apply OpenDP methods to create differentially private regressions. "
   ]
  },
  {
   "cell_type": "markdown",
   "metadata": {},
   "source": []
  }
 ],
 "metadata": {
  "kernelspec": {
   "display_name": "Python 3",
   "language": "python",
   "name": "python3"
  },
  "language_info": {
   "codemirror_mode": {
    "name": "ipython",
    "version": 3
   },
   "file_extension": ".py",
   "mimetype": "text/x-python",
   "name": "python",
   "nbconvert_exporter": "python",
   "pygments_lexer": "ipython3",
   "version": "3.12.3"
  }
 },
 "nbformat": 4,
 "nbformat_minor": 2
}
